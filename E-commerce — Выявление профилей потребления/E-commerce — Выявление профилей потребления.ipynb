{
 "cells": [
  {
   "cell_type": "markdown",
   "metadata": {},
   "source": [
    "# E-commerce — Выявление профилей потребления."
   ]
  },
  {
   "cell_type": "markdown",
   "metadata": {},
   "source": [
    "Интернет-магазин товаров для дома «Пока все ещё тут» помогает клиентам обустроить дом своей мечты. \n",
    "Задача настоящего проекта — выявление профилей покупателей, а также их сегментация и анализ.\n",
    "\n",
    "\n",
    "Для решения поставленной задачи будут совершены следующие действия:\n",
    "1. Проведена подготовка данных, очистка их от дубликатов и аномалий.\n",
    "2. Проведен исследовательский анализ данных, в частности:\n",
    "   - Общий анализ представленных данных;\n",
    "   - Сегментация покупателей на основе истории их покупок;\n",
    "   - Определение популярных категорий товаров для дома;\n",
    "   - Проверка сезонности покупки категорий товаров по получившимся кластерам;\n",
    "3. Составлены и проверены стат. гипотезы для проверки правильности разделения пользователей на кластеры.\n",
    "4. Построен дашборд и подготовлена презентация по результатам проведенного исследования с выводами и рекомендациями для заказчика.\n",
    "\n",
    "\n",
    "Датасет, на основе которого будет проводиться исследование, описывает транзакции интернет-магазина товаров для дома и быта «Пока все ещё тут» и имеет следующую структуру:\n",
    "- `date` — дата заказа;\n",
    "- `customer_id` — идентификатор покупателя;\n",
    "- `order_id` — идентификатор заказа;\n",
    "- `product` — наименование товара;\n",
    "- `quantity` — количество товара в заказе;\n",
    "- `price` — цена товара."
   ]
  },
  {
   "cell_type": "markdown",
   "metadata": {},
   "source": [
    "### Открытие файла с данными и изучение общей информации."
   ]
  },
  {
   "cell_type": "code",
   "execution_count": 1,
   "metadata": {},
   "outputs": [],
   "source": [
    "#импортируем необходимые библиотеки\n",
    "import pandas as pd\n",
    "import matplotlib.pyplot as plt\n",
    "import numpy as np\n",
    "import gensim\n",
    "import string\n",
    "from pymystem3 import Mystem\n",
    "from sklearn.feature_extraction.text import TfidfVectorizer\n",
    "from sklearn.cluster import KMeans\n",
    "from scipy import stats as st\n",
    "import numpy as np\n",
    "import math as mth\n",
    "import seaborn as sns\n",
    "from datetime import datetime"
   ]
  },
  {
   "cell_type": "code",
   "execution_count": 2,
   "metadata": {},
   "outputs": [],
   "source": [
    "df = pd.read_csv(...)"
   ]
  },
  {
   "cell_type": "code",
   "execution_count": 3,
   "metadata": {},
   "outputs": [
    {
     "name": "stdout",
     "output_type": "stream",
     "text": [
      "<class 'pandas.core.frame.DataFrame'>\n",
      "RangeIndex: 7474 entries, 0 to 7473\n",
      "Data columns (total 6 columns):\n",
      " #   Column       Non-Null Count  Dtype  \n",
      "---  ------       --------------  -----  \n",
      " 0   date         7474 non-null   int64  \n",
      " 1   customer_id  7474 non-null   object \n",
      " 2   order_id     7474 non-null   int64  \n",
      " 3   product      7474 non-null   object \n",
      " 4   quantity     7474 non-null   int64  \n",
      " 5   price        7474 non-null   float64\n",
      "dtypes: float64(1), int64(3), object(2)\n",
      "memory usage: 350.5+ KB\n"
     ]
    }
   ],
   "source": [
    "#выводим общую информацию по ДФ\n",
    "df.info()"
   ]
  },
  {
   "cell_type": "code",
   "execution_count": 4,
   "metadata": {},
   "outputs": [
    {
     "data": {
      "text/plain": [
       "(7474, 6)"
      ]
     },
     "execution_count": 4,
     "metadata": {},
     "output_type": "execute_result"
    }
   ],
   "source": [
    "#выводим размеры ДФ\n",
    "df.shape"
   ]
  },
  {
   "cell_type": "markdown",
   "metadata": {},
   "source": [
    "На первый взгляд, таблица состоит из 6 столбцов и 7474 строк, 3 столбца из которых содержат целые числа, 2 - строчные значения и 1 - числа с плавающей точкой. Также в таблице отсутствуют пропуски."
   ]
  },
  {
   "cell_type": "markdown",
   "metadata": {},
   "source": [
    "### Подготовка данных. "
   ]
  },
  {
   "cell_type": "markdown",
   "metadata": {},
   "source": [
    "В первую очередь, необходимо преобразовать столбец с датой в надлежащий вид. \n",
    "\n",
    "Также хочется столбец с ценой определить в целые числа - с разумной точки зрения, копейки критически не повлияют на выводы по исследованию."
   ]
  },
  {
   "cell_type": "code",
   "execution_count": 5,
   "metadata": {},
   "outputs": [],
   "source": [
    "df['date'] = pd.to_datetime(df['date'], format=\"%Y%m%d%H\")"
   ]
  },
  {
   "cell_type": "code",
   "execution_count": 6,
   "metadata": {},
   "outputs": [],
   "source": [
    "df['price'] = df['price'].astype(int)"
   ]
  },
  {
   "cell_type": "code",
   "execution_count": 7,
   "metadata": {},
   "outputs": [
    {
     "data": {
      "text/plain": [
       "0"
      ]
     },
     "execution_count": 7,
     "metadata": {},
     "output_type": "execute_result"
    }
   ],
   "source": [
    "#проверим ДФ на наличие явных дубликатов\n",
    "df.duplicated().sum()"
   ]
  },
  {
   "cell_type": "code",
   "execution_count": 8,
   "metadata": {
    "scrolled": true
   },
   "outputs": [
    {
     "data": {
      "text/plain": [
       "1864"
      ]
     },
     "execution_count": 8,
     "metadata": {},
     "output_type": "execute_result"
    }
   ],
   "source": [
    "#проверим ДФ на наличие неявных дубликатов\n",
    "df.loc[:, df.columns != 'date'].duplicated().sum()"
   ]
  },
  {
   "cell_type": "markdown",
   "metadata": {},
   "source": [
    "Для того, чтобы найти скрытые дубликаты в датасете, присланном заказчиком, мы сравнили все строки, за исключением даты, так как один заказ мог повторно заноситься в данные на разных этапах его обработки. Таким образом нами найдено 1864 дубликата, которые следует удалить для того, чтобы почистить датасет."
   ]
  },
  {
   "cell_type": "code",
   "execution_count": 9,
   "metadata": {},
   "outputs": [],
   "source": [
    "df = df[~(df.loc[:, df.columns != 'date'].duplicated())]"
   ]
  },
  {
   "cell_type": "markdown",
   "metadata": {},
   "source": [
    "Помимо этого, посмотрим, есть ли заказы, совершенные более, чем одним покупателем."
   ]
  },
  {
   "cell_type": "code",
   "execution_count": 10,
   "metadata": {},
   "outputs": [],
   "source": [
    "#составляем список заказов, у которых больше одного покупателя\n",
    "dup = df.groupby('order_id')['customer_id'].nunique().reset_index()\n",
    "dup = dup[dup['customer_id'] > 1]"
   ]
  },
  {
   "cell_type": "code",
   "execution_count": 11,
   "metadata": {},
   "outputs": [],
   "source": [
    "df = df[~df['order_id'].isin(dup['order_id'])]"
   ]
  },
  {
   "cell_type": "markdown",
   "metadata": {},
   "source": [
    "Теперь перейдем к поиску аномальных значений."
   ]
  },
  {
   "cell_type": "code",
   "execution_count": 12,
   "metadata": {},
   "outputs": [
    {
     "data": {
      "image/png": "[encoded data removed]",
      "text/plain": [
       "<Figure size 720x504 with 1 Axes>"
      ]
     },
     "metadata": {
      "needs_background": "light"
     },
     "output_type": "display_data"
    }
   ],
   "source": [
    "#начнем со столбца quantity\n",
    "plt.figure(figsize=(10, 7))\n",
    "df.boxplot(column='quantity')\n",
    "plt.title('Диаграмма размаха по количеству товаров в заказе', fontsize=15)\n",
    "plt.ylabel(\"Количество товаров\", fontsize=10)\n",
    "plt.xticks(fontsize=10)\n",
    "plt.yticks(fontsize=10);"
   ]
  },
  {
   "cell_type": "markdown",
   "metadata": {},
   "source": [
    "Согласно полученному графику видно, что большинство заказов находится в диапазоне между 0 и 200 - выглядит вполне логично. Также есть несколько заказов в диапазоне от 200 до 400 - их можно отнести к оптовым. А вот заказ на 1000 выглядит как явный выброс, который в дальнейшем помешает сегментировать профили пользователей корректно. По этой причине удалим только его."
   ]
  },
  {
   "cell_type": "code",
   "execution_count": 13,
   "metadata": {},
   "outputs": [],
   "source": [
    "df = df[~(df['quantity'] == 1000)]"
   ]
  },
  {
   "cell_type": "markdown",
   "metadata": {},
   "source": [
    "Также стоит посмотреть на сумму заказов пользователей."
   ]
  },
  {
   "cell_type": "code",
   "execution_count": 14,
   "metadata": {},
   "outputs": [
    {
     "data": {
      "text/html": [
       "<div>\n",
       "<style scoped>\n",
       "    .dataframe tbody tr th:only-of-type {\n",
       "        vertical-align: middle;\n",
       "    }\n",
       "\n",
       "    .dataframe tbody tr th {\n",
       "        vertical-align: top;\n",
       "    }\n",
       "\n",
       "    .dataframe thead th {\n",
       "        text-align: right;\n",
       "    }\n",
       "</style>\n",
       "<table border=\"1\" class=\"dataframe\">\n",
       "  <thead>\n",
       "    <tr style=\"text-align: right;\">\n",
       "      <th></th>\n",
       "      <th>customer_id</th>\n",
       "      <th>order_id</th>\n",
       "      <th>total</th>\n",
       "    </tr>\n",
       "  </thead>\n",
       "  <tbody>\n",
       "    <tr>\n",
       "      <th>0</th>\n",
       "      <td>000d6849-084e-4d9f-ac03-37174eaf60c4</td>\n",
       "      <td>14943</td>\n",
       "      <td>555</td>\n",
       "    </tr>\n",
       "    <tr>\n",
       "      <th>1</th>\n",
       "      <td>001cee7f-0b29-4716-b202-0042213ab038</td>\n",
       "      <td>70290</td>\n",
       "      <td>442</td>\n",
       "    </tr>\n",
       "    <tr>\n",
       "      <th>2</th>\n",
       "      <td>00299f34-5385-4d13-9aea-c80b81658e1b</td>\n",
       "      <td>72965</td>\n",
       "      <td>914</td>\n",
       "    </tr>\n",
       "    <tr>\n",
       "      <th>3</th>\n",
       "      <td>002d4d3a-4a59-406b-86ec-c3314357e498</td>\n",
       "      <td>69990</td>\n",
       "      <td>1649</td>\n",
       "    </tr>\n",
       "    <tr>\n",
       "      <th>4</th>\n",
       "      <td>003bbd39-0000-41ff-b7f9-2ddaec152037</td>\n",
       "      <td>72796</td>\n",
       "      <td>2324</td>\n",
       "    </tr>\n",
       "    <tr>\n",
       "      <th>...</th>\n",
       "      <td>...</td>\n",
       "      <td>...</td>\n",
       "      <td>...</td>\n",
       "    </tr>\n",
       "    <tr>\n",
       "      <th>3486</th>\n",
       "      <td>ff601403-b094-4b86-9ac6-264d725b9277</td>\n",
       "      <td>105169</td>\n",
       "      <td>90</td>\n",
       "    </tr>\n",
       "    <tr>\n",
       "      <th>3487</th>\n",
       "      <td>ffaeab76-3a8d-49ee-860f-17273b2fc8a2</td>\n",
       "      <td>73136</td>\n",
       "      <td>397</td>\n",
       "    </tr>\n",
       "    <tr>\n",
       "      <th>3488</th>\n",
       "      <td>ffb5976a-7a4d-460b-95c4-5ffaba31cb24</td>\n",
       "      <td>69369</td>\n",
       "      <td>389</td>\n",
       "    </tr>\n",
       "    <tr>\n",
       "      <th>3489</th>\n",
       "      <td>ffb80538-3fda-4351-8ea9-9d2bec58bb07</td>\n",
       "      <td>72561</td>\n",
       "      <td>974</td>\n",
       "    </tr>\n",
       "    <tr>\n",
       "      <th>3490</th>\n",
       "      <td>ffe82299-3f5b-4214-87fe-3d36ecccfac3</td>\n",
       "      <td>73060</td>\n",
       "      <td>577</td>\n",
       "    </tr>\n",
       "  </tbody>\n",
       "</table>\n",
       "<p>3491 rows × 3 columns</p>\n",
       "</div>"
      ],
      "text/plain": [
       "                               customer_id  order_id  total\n",
       "0     000d6849-084e-4d9f-ac03-37174eaf60c4     14943    555\n",
       "1     001cee7f-0b29-4716-b202-0042213ab038     70290    442\n",
       "2     00299f34-5385-4d13-9aea-c80b81658e1b     72965    914\n",
       "3     002d4d3a-4a59-406b-86ec-c3314357e498     69990   1649\n",
       "4     003bbd39-0000-41ff-b7f9-2ddaec152037     72796   2324\n",
       "...                                    ...       ...    ...\n",
       "3486  ff601403-b094-4b86-9ac6-264d725b9277    105169     90\n",
       "3487  ffaeab76-3a8d-49ee-860f-17273b2fc8a2     73136    397\n",
       "3488  ffb5976a-7a4d-460b-95c4-5ffaba31cb24     69369    389\n",
       "3489  ffb80538-3fda-4351-8ea9-9d2bec58bb07     72561    974\n",
       "3490  ffe82299-3f5b-4214-87fe-3d36ecccfac3     73060    577\n",
       "\n",
       "[3491 rows x 3 columns]"
      ]
     },
     "execution_count": 14,
     "metadata": {},
     "output_type": "execute_result"
    }
   ],
   "source": [
    "#для этого создадим дополнительный столбец в нашем датасете\n",
    "df['total'] = df['quantity'] * df['price']\n",
    "#создадим табличку с суммами каждого заказа всех пользователей\n",
    "order_sum = df.groupby(['customer_id', 'order_id'])['total'].sum().reset_index()\n",
    "order_sum"
   ]
  },
  {
   "cell_type": "code",
   "execution_count": 15,
   "metadata": {},
   "outputs": [
    {
     "data": {
      "image/png": "[encoded data removed]",
      "text/plain": [
       "<Figure size 720x504 with 1 Axes>"
      ]
     },
     "metadata": {
      "needs_background": "light"
     },
     "output_type": "display_data"
    }
   ],
   "source": [
    "#проанализируем получившийся столбец\n",
    "plt.figure(figsize=(10, 7))\n",
    "order_sum.boxplot(column='total')\n",
    "plt.title('Диаграмма размаха по сумме заказа', fontsize=15)\n",
    "plt.ylabel(\"Сумма заказа\", fontsize=10)\n",
    "plt.xticks(fontsize=10)\n",
    "plt.yticks(fontsize=10);"
   ]
  },
  {
   "cell_type": "markdown",
   "metadata": {},
   "source": [
    "На основе построенного графика видно, что после 10000 чеки встречаются гораздо реже и единичный заказ достигает отметки в 50000. Посмотрим, сколько данных от начального датафрейма составляют пользователи, чей итоговый чек на заказ превышает 10000."
   ]
  },
  {
   "cell_type": "code",
   "execution_count": 16,
   "metadata": {
    "scrolled": true
   },
   "outputs": [
    {
     "data": {
      "text/plain": [
       "0.92"
      ]
     },
     "execution_count": 16,
     "metadata": {},
     "output_type": "execute_result"
    }
   ],
   "source": [
    "round(len(df[df['customer_id'].isin(order_sum[order_sum['total'] > 10000]['customer_id'])]) / len(df) * 100, 2)"
   ]
  },
  {
   "cell_type": "markdown",
   "metadata": {},
   "source": [
    "Убирать мы их не будем, так как это могут быть оптовые заказчики и их поведение не говорит о какой-либо аномалии в данных. Однако, надо иметь эти данные в виду."
   ]
  },
  {
   "cell_type": "markdown",
   "metadata": {},
   "source": [
    "На этом подготовка данных завершена. Теперь можно сбросить индексы и  взглянуть еще раз на полученный датасет, чтобы убедиться, что после удаления дубликатов и аномалий, он продолжает выглядеть адекватно."
   ]
  },
  {
   "cell_type": "code",
   "execution_count": 17,
   "metadata": {},
   "outputs": [
    {
     "data": {
      "text/html": [
       "<div>\n",
       "<style scoped>\n",
       "    .dataframe tbody tr th:only-of-type {\n",
       "        vertical-align: middle;\n",
       "    }\n",
       "\n",
       "    .dataframe tbody tr th {\n",
       "        vertical-align: top;\n",
       "    }\n",
       "\n",
       "    .dataframe thead th {\n",
       "        text-align: right;\n",
       "    }\n",
       "</style>\n",
       "<table border=\"1\" class=\"dataframe\">\n",
       "  <thead>\n",
       "    <tr style=\"text-align: right;\">\n",
       "      <th></th>\n",
       "      <th>date</th>\n",
       "      <th>customer_id</th>\n",
       "      <th>order_id</th>\n",
       "      <th>product</th>\n",
       "      <th>quantity</th>\n",
       "      <th>price</th>\n",
       "      <th>total</th>\n",
       "    </tr>\n",
       "  </thead>\n",
       "  <tbody>\n",
       "    <tr>\n",
       "      <th>0</th>\n",
       "      <td>2018-10-01 00:00:00</td>\n",
       "      <td>ee47d746-6d2f-4d3c-9622-c31412542920</td>\n",
       "      <td>68477</td>\n",
       "      <td>Комнатное растение в горшке Алое Вера, d12, h30</td>\n",
       "      <td>1</td>\n",
       "      <td>142</td>\n",
       "      <td>142</td>\n",
       "    </tr>\n",
       "    <tr>\n",
       "      <th>1</th>\n",
       "      <td>2018-10-01 00:00:00</td>\n",
       "      <td>ee47d746-6d2f-4d3c-9622-c31412542920</td>\n",
       "      <td>68477</td>\n",
       "      <td>Комнатное растение в горшке Кофе Арабика, d12,...</td>\n",
       "      <td>1</td>\n",
       "      <td>194</td>\n",
       "      <td>194</td>\n",
       "    </tr>\n",
       "    <tr>\n",
       "      <th>2</th>\n",
       "      <td>2018-10-01 00:00:00</td>\n",
       "      <td>ee47d746-6d2f-4d3c-9622-c31412542920</td>\n",
       "      <td>68477</td>\n",
       "      <td>Радермахера d-12 см h-20 см</td>\n",
       "      <td>1</td>\n",
       "      <td>112</td>\n",
       "      <td>112</td>\n",
       "    </tr>\n",
       "    <tr>\n",
       "      <th>3</th>\n",
       "      <td>2018-10-01 00:00:00</td>\n",
       "      <td>ee47d746-6d2f-4d3c-9622-c31412542920</td>\n",
       "      <td>68477</td>\n",
       "      <td>Хризолидокарпус Лутесценс d-9 см</td>\n",
       "      <td>1</td>\n",
       "      <td>179</td>\n",
       "      <td>179</td>\n",
       "    </tr>\n",
       "    <tr>\n",
       "      <th>4</th>\n",
       "      <td>2018-10-01 00:00:00</td>\n",
       "      <td>ee47d746-6d2f-4d3c-9622-c31412542920</td>\n",
       "      <td>68477</td>\n",
       "      <td>Циперус Зумула d-12 см h-25 см</td>\n",
       "      <td>1</td>\n",
       "      <td>112</td>\n",
       "      <td>112</td>\n",
       "    </tr>\n",
       "    <tr>\n",
       "      <th>...</th>\n",
       "      <td>...</td>\n",
       "      <td>...</td>\n",
       "      <td>...</td>\n",
       "      <td>...</td>\n",
       "      <td>...</td>\n",
       "      <td>...</td>\n",
       "      <td>...</td>\n",
       "    </tr>\n",
       "    <tr>\n",
       "      <th>5538</th>\n",
       "      <td>2020-01-30 21:00:00</td>\n",
       "      <td>63208953-a8e4-4f77-9b47-3a46e7b72eee</td>\n",
       "      <td>104002</td>\n",
       "      <td>томата (помидор) Черниченский черри № 116 сорт...</td>\n",
       "      <td>2</td>\n",
       "      <td>38</td>\n",
       "      <td>76</td>\n",
       "    </tr>\n",
       "    <tr>\n",
       "      <th>5539</th>\n",
       "      <td>2020-01-30 22:00:00</td>\n",
       "      <td>d99d25f1-4017-4fcd-8d29-c580cc695a1a</td>\n",
       "      <td>107336</td>\n",
       "      <td>Дендробиум Санок Анна Грин 1 ствол d-12 см</td>\n",
       "      <td>1</td>\n",
       "      <td>869</td>\n",
       "      <td>869</td>\n",
       "    </tr>\n",
       "    <tr>\n",
       "      <th>5540</th>\n",
       "      <td>2020-01-31 02:00:00</td>\n",
       "      <td>2c9bd08d-8c55-4e7a-9bfb-8c56ba42c6d6</td>\n",
       "      <td>106336</td>\n",
       "      <td>Подставка для обуви резиновая Attribute 80x40 ...</td>\n",
       "      <td>1</td>\n",
       "      <td>354</td>\n",
       "      <td>354</td>\n",
       "    </tr>\n",
       "    <tr>\n",
       "      <th>5541</th>\n",
       "      <td>2020-01-31 12:00:00</td>\n",
       "      <td>cdd17932-623e-415f-a577-3b31312fd0e2</td>\n",
       "      <td>102002</td>\n",
       "      <td>Тагетис крупноцветковый рассада однолетних цве...</td>\n",
       "      <td>1</td>\n",
       "      <td>128</td>\n",
       "      <td>128</td>\n",
       "    </tr>\n",
       "    <tr>\n",
       "      <th>5542</th>\n",
       "      <td>2020-01-31 15:00:00</td>\n",
       "      <td>2e460a26-35af-453d-a369-a036e95a40e0</td>\n",
       "      <td>103225</td>\n",
       "      <td>Вешалка для блузок 41 см красный Attribute AHM781</td>\n",
       "      <td>1</td>\n",
       "      <td>104</td>\n",
       "      <td>104</td>\n",
       "    </tr>\n",
       "  </tbody>\n",
       "</table>\n",
       "<p>5543 rows × 7 columns</p>\n",
       "</div>"
      ],
      "text/plain": [
       "                    date                           customer_id  order_id  \\\n",
       "0    2018-10-01 00:00:00  ee47d746-6d2f-4d3c-9622-c31412542920     68477   \n",
       "1    2018-10-01 00:00:00  ee47d746-6d2f-4d3c-9622-c31412542920     68477   \n",
       "2    2018-10-01 00:00:00  ee47d746-6d2f-4d3c-9622-c31412542920     68477   \n",
       "3    2018-10-01 00:00:00  ee47d746-6d2f-4d3c-9622-c31412542920     68477   \n",
       "4    2018-10-01 00:00:00  ee47d746-6d2f-4d3c-9622-c31412542920     68477   \n",
       "...                  ...                                   ...       ...   \n",
       "5538 2020-01-30 21:00:00  63208953-a8e4-4f77-9b47-3a46e7b72eee    104002   \n",
       "5539 2020-01-30 22:00:00  d99d25f1-4017-4fcd-8d29-c580cc695a1a    107336   \n",
       "5540 2020-01-31 02:00:00  2c9bd08d-8c55-4e7a-9bfb-8c56ba42c6d6    106336   \n",
       "5541 2020-01-31 12:00:00  cdd17932-623e-415f-a577-3b31312fd0e2    102002   \n",
       "5542 2020-01-31 15:00:00  2e460a26-35af-453d-a369-a036e95a40e0    103225   \n",
       "\n",
       "                                                product  quantity  price  \\\n",
       "0       Комнатное растение в горшке Алое Вера, d12, h30         1    142   \n",
       "1     Комнатное растение в горшке Кофе Арабика, d12,...         1    194   \n",
       "2                           Радермахера d-12 см h-20 см         1    112   \n",
       "3                      Хризолидокарпус Лутесценс d-9 см         1    179   \n",
       "4                        Циперус Зумула d-12 см h-25 см         1    112   \n",
       "...                                                 ...       ...    ...   \n",
       "5538  томата (помидор) Черниченский черри № 116 сорт...         2     38   \n",
       "5539         Дендробиум Санок Анна Грин 1 ствол d-12 см         1    869   \n",
       "5540  Подставка для обуви резиновая Attribute 80x40 ...         1    354   \n",
       "5541  Тагетис крупноцветковый рассада однолетних цве...         1    128   \n",
       "5542  Вешалка для блузок 41 см красный Attribute AHM781         1    104   \n",
       "\n",
       "      total  \n",
       "0       142  \n",
       "1       194  \n",
       "2       112  \n",
       "3       179  \n",
       "4       112  \n",
       "...     ...  \n",
       "5538     76  \n",
       "5539    869  \n",
       "5540    354  \n",
       "5541    128  \n",
       "5542    104  \n",
       "\n",
       "[5543 rows x 7 columns]"
      ]
     },
     "execution_count": 17,
     "metadata": {},
     "output_type": "execute_result"
    }
   ],
   "source": [
    "df = df.reset_index(drop=True)\n",
    "df"
   ]
  },
  {
   "cell_type": "markdown",
   "metadata": {},
   "source": [
    "### Изучение и проверка данных."
   ]
  },
  {
   "cell_type": "markdown",
   "metadata": {},
   "source": [
    "**Сколько записей осталось в датафрейме?**"
   ]
  },
  {
   "cell_type": "code",
   "execution_count": 18,
   "metadata": {},
   "outputs": [
    {
     "name": "stdout",
     "output_type": "stream",
     "text": [
      "Всего в логе 5543 событий.\n"
     ]
    }
   ],
   "source": [
    "print('Всего в логе', len(df), 'событий.')"
   ]
  },
  {
   "cell_type": "markdown",
   "metadata": {},
   "source": [
    "**Сколько уникальных клиентов есть в датафрейме?**"
   ]
  },
  {
   "cell_type": "code",
   "execution_count": 19,
   "metadata": {},
   "outputs": [
    {
     "data": {
      "text/plain": [
       "2412"
      ]
     },
     "execution_count": 19,
     "metadata": {},
     "output_type": "execute_result"
    }
   ],
   "source": [
    "df['customer_id'].nunique()"
   ]
  },
  {
   "cell_type": "markdown",
   "metadata": {},
   "source": [
    "**Сколько уникальных заказов есть в датафрейме?**"
   ]
  },
  {
   "cell_type": "code",
   "execution_count": 20,
   "metadata": {},
   "outputs": [
    {
     "data": {
      "text/plain": [
       "3491"
      ]
     },
     "execution_count": 20,
     "metadata": {},
     "output_type": "execute_result"
    }
   ],
   "source": [
    "df['order_id'].nunique()"
   ]
  },
  {
   "cell_type": "markdown",
   "metadata": {},
   "source": [
    "Итого, в датасете, представленном клиентом, 5607 событий, в которых содержится информация по 2450 уникальным клиентам и 3519 уникальным заказам."
   ]
  },
  {
   "cell_type": "markdown",
   "metadata": {},
   "source": [
    "**Сколько заказов приходится на клиента?**"
   ]
  },
  {
   "cell_type": "code",
   "execution_count": 21,
   "metadata": {},
   "outputs": [
    {
     "data": {
      "text/html": [
       "<div>\n",
       "<style scoped>\n",
       "    .dataframe tbody tr th:only-of-type {\n",
       "        vertical-align: middle;\n",
       "    }\n",
       "\n",
       "    .dataframe tbody tr th {\n",
       "        vertical-align: top;\n",
       "    }\n",
       "\n",
       "    .dataframe thead th {\n",
       "        text-align: right;\n",
       "    }\n",
       "</style>\n",
       "<table border=\"1\" class=\"dataframe\">\n",
       "  <thead>\n",
       "    <tr style=\"text-align: right;\">\n",
       "      <th></th>\n",
       "      <th>customer_id</th>\n",
       "      <th>order_id</th>\n",
       "    </tr>\n",
       "  </thead>\n",
       "  <tbody>\n",
       "    <tr>\n",
       "      <th>0</th>\n",
       "      <td>c971fb21-d54c-4134-938f-16b62ee86d3b</td>\n",
       "      <td>126</td>\n",
       "    </tr>\n",
       "    <tr>\n",
       "      <th>1</th>\n",
       "      <td>4d93d3f6-8b24-403b-a74b-f5173e40d7db</td>\n",
       "      <td>35</td>\n",
       "    </tr>\n",
       "    <tr>\n",
       "      <th>2</th>\n",
       "      <td>73d1cd35-5e5f-4629-8cf2-3fda829d4e58</td>\n",
       "      <td>17</td>\n",
       "    </tr>\n",
       "    <tr>\n",
       "      <th>3</th>\n",
       "      <td>b7b865ab-0735-407f-8d0c-31f74d2806cc</td>\n",
       "      <td>7</td>\n",
       "    </tr>\n",
       "    <tr>\n",
       "      <th>4</th>\n",
       "      <td>0184f535-b60a-4914-a982-231e3f615206</td>\n",
       "      <td>5</td>\n",
       "    </tr>\n",
       "    <tr>\n",
       "      <th>...</th>\n",
       "      <td>...</td>\n",
       "      <td>...</td>\n",
       "    </tr>\n",
       "    <tr>\n",
       "      <th>2407</th>\n",
       "      <td>69cf691b-a6c2-4543-aa8a-8cf42fe4a76e</td>\n",
       "      <td>1</td>\n",
       "    </tr>\n",
       "    <tr>\n",
       "      <th>2408</th>\n",
       "      <td>69c524f1-dd2a-4c4e-a5b0-def54dc96f9e</td>\n",
       "      <td>1</td>\n",
       "    </tr>\n",
       "    <tr>\n",
       "      <th>2409</th>\n",
       "      <td>69b17a52-a59b-4656-8d47-375e81e7d5f1</td>\n",
       "      <td>1</td>\n",
       "    </tr>\n",
       "    <tr>\n",
       "      <th>2410</th>\n",
       "      <td>69897438-1f6c-42f3-8876-ec7f0296072d</td>\n",
       "      <td>1</td>\n",
       "    </tr>\n",
       "    <tr>\n",
       "      <th>2411</th>\n",
       "      <td>ffe82299-3f5b-4214-87fe-3d36ecccfac3</td>\n",
       "      <td>1</td>\n",
       "    </tr>\n",
       "  </tbody>\n",
       "</table>\n",
       "<p>2412 rows × 2 columns</p>\n",
       "</div>"
      ],
      "text/plain": [
       "                               customer_id  order_id\n",
       "0     c971fb21-d54c-4134-938f-16b62ee86d3b       126\n",
       "1     4d93d3f6-8b24-403b-a74b-f5173e40d7db        35\n",
       "2     73d1cd35-5e5f-4629-8cf2-3fda829d4e58        17\n",
       "3     b7b865ab-0735-407f-8d0c-31f74d2806cc         7\n",
       "4     0184f535-b60a-4914-a982-231e3f615206         5\n",
       "...                                    ...       ...\n",
       "2407  69cf691b-a6c2-4543-aa8a-8cf42fe4a76e         1\n",
       "2408  69c524f1-dd2a-4c4e-a5b0-def54dc96f9e         1\n",
       "2409  69b17a52-a59b-4656-8d47-375e81e7d5f1         1\n",
       "2410  69897438-1f6c-42f3-8876-ec7f0296072d         1\n",
       "2411  ffe82299-3f5b-4214-87fe-3d36ecccfac3         1\n",
       "\n",
       "[2412 rows x 2 columns]"
      ]
     },
     "execution_count": 21,
     "metadata": {},
     "output_type": "execute_result"
    }
   ],
   "source": [
    "avg_cust = df.groupby(['customer_id', 'order_id'])['product'].count().reset_index()\n",
    "avg_cust = avg_cust.groupby('customer_id')['order_id'].count().sort_values(ascending=False).reset_index()\n",
    "avg_cust"
   ]
  },
  {
   "cell_type": "markdown",
   "metadata": {},
   "source": [
    "Итак, в наших данных существует пользователь, который намного чаще пользуется нашим интернет-магазином, чем другие - на сайте было оформлено уже 126 заказов. Конечно, есть пользователи, которые оформили заказ лишь единожды - надеемся, он у них не станет последним))"
   ]
  },
  {
   "cell_type": "markdown",
   "metadata": {},
   "source": [
    "**Сегментация покупателей на основе истории их покупок.**"
   ]
  },
  {
   "cell_type": "markdown",
   "metadata": {},
   "source": [
    "Для этой цели будет использоваться метод RFM-анализа и для каждого пользователя определяться давность последнего заказа, частота заказов и общая сумма всех заказов пользователя. После чего по каждому из трех показателей пользователи будут, в свою очередь, сегментированы на группы.\n",
    "\n",
    "Почти все значения для RFM-анализа нами были получены ранее в ходе подготовки данных, поэтому их сейчас осталось соединить в одну таблицу и переименовать."
   ]
  },
  {
   "cell_type": "code",
   "execution_count": 22,
   "metadata": {},
   "outputs": [],
   "source": [
    "#сначала возьмем таблицу с количеством заказов и переименуем нужный столбец\n",
    "avg_cust = avg_cust.rename(columns={'order_id': 'frequency'})"
   ]
  },
  {
   "cell_type": "code",
   "execution_count": 23,
   "metadata": {},
   "outputs": [],
   "source": [
    "#теперь таблицу с суммой потраченных денег в магазине для каждого клиента\n",
    "order_sum = order_sum.groupby('customer_id')['total'].sum().reset_index()\n",
    "order_sum = order_sum.rename(columns={'total': 'monetary'})"
   ]
  },
  {
   "cell_type": "code",
   "execution_count": 24,
   "metadata": {},
   "outputs": [
    {
     "data": {
      "text/html": [
       "<div>\n",
       "<style scoped>\n",
       "    .dataframe tbody tr th:only-of-type {\n",
       "        vertical-align: middle;\n",
       "    }\n",
       "\n",
       "    .dataframe tbody tr th {\n",
       "        vertical-align: top;\n",
       "    }\n",
       "\n",
       "    .dataframe thead th {\n",
       "        text-align: right;\n",
       "    }\n",
       "</style>\n",
       "<table border=\"1\" class=\"dataframe\">\n",
       "  <thead>\n",
       "    <tr style=\"text-align: right;\">\n",
       "      <th></th>\n",
       "      <th>customer_id</th>\n",
       "      <th>frequency</th>\n",
       "      <th>monetary</th>\n",
       "    </tr>\n",
       "  </thead>\n",
       "  <tbody>\n",
       "    <tr>\n",
       "      <th>0</th>\n",
       "      <td>c971fb21-d54c-4134-938f-16b62ee86d3b</td>\n",
       "      <td>126</td>\n",
       "      <td>159508</td>\n",
       "    </tr>\n",
       "    <tr>\n",
       "      <th>1</th>\n",
       "      <td>4d93d3f6-8b24-403b-a74b-f5173e40d7db</td>\n",
       "      <td>35</td>\n",
       "      <td>57278</td>\n",
       "    </tr>\n",
       "    <tr>\n",
       "      <th>2</th>\n",
       "      <td>73d1cd35-5e5f-4629-8cf2-3fda829d4e58</td>\n",
       "      <td>17</td>\n",
       "      <td>21361</td>\n",
       "    </tr>\n",
       "    <tr>\n",
       "      <th>3</th>\n",
       "      <td>b7b865ab-0735-407f-8d0c-31f74d2806cc</td>\n",
       "      <td>7</td>\n",
       "      <td>3779</td>\n",
       "    </tr>\n",
       "    <tr>\n",
       "      <th>4</th>\n",
       "      <td>0184f535-b60a-4914-a982-231e3f615206</td>\n",
       "      <td>5</td>\n",
       "      <td>5891</td>\n",
       "    </tr>\n",
       "    <tr>\n",
       "      <th>...</th>\n",
       "      <td>...</td>\n",
       "      <td>...</td>\n",
       "      <td>...</td>\n",
       "    </tr>\n",
       "    <tr>\n",
       "      <th>2407</th>\n",
       "      <td>69cf691b-a6c2-4543-aa8a-8cf42fe4a76e</td>\n",
       "      <td>1</td>\n",
       "      <td>3525</td>\n",
       "    </tr>\n",
       "    <tr>\n",
       "      <th>2408</th>\n",
       "      <td>69c524f1-dd2a-4c4e-a5b0-def54dc96f9e</td>\n",
       "      <td>1</td>\n",
       "      <td>149</td>\n",
       "    </tr>\n",
       "    <tr>\n",
       "      <th>2409</th>\n",
       "      <td>69b17a52-a59b-4656-8d47-375e81e7d5f1</td>\n",
       "      <td>1</td>\n",
       "      <td>1574</td>\n",
       "    </tr>\n",
       "    <tr>\n",
       "      <th>2410</th>\n",
       "      <td>69897438-1f6c-42f3-8876-ec7f0296072d</td>\n",
       "      <td>1</td>\n",
       "      <td>1799</td>\n",
       "    </tr>\n",
       "    <tr>\n",
       "      <th>2411</th>\n",
       "      <td>ffe82299-3f5b-4214-87fe-3d36ecccfac3</td>\n",
       "      <td>1</td>\n",
       "      <td>577</td>\n",
       "    </tr>\n",
       "  </tbody>\n",
       "</table>\n",
       "<p>2412 rows × 3 columns</p>\n",
       "</div>"
      ],
      "text/plain": [
       "                               customer_id  frequency  monetary\n",
       "0     c971fb21-d54c-4134-938f-16b62ee86d3b        126    159508\n",
       "1     4d93d3f6-8b24-403b-a74b-f5173e40d7db         35     57278\n",
       "2     73d1cd35-5e5f-4629-8cf2-3fda829d4e58         17     21361\n",
       "3     b7b865ab-0735-407f-8d0c-31f74d2806cc          7      3779\n",
       "4     0184f535-b60a-4914-a982-231e3f615206          5      5891\n",
       "...                                    ...        ...       ...\n",
       "2407  69cf691b-a6c2-4543-aa8a-8cf42fe4a76e          1      3525\n",
       "2408  69c524f1-dd2a-4c4e-a5b0-def54dc96f9e          1       149\n",
       "2409  69b17a52-a59b-4656-8d47-375e81e7d5f1          1      1574\n",
       "2410  69897438-1f6c-42f3-8876-ec7f0296072d          1      1799\n",
       "2411  ffe82299-3f5b-4214-87fe-3d36ecccfac3          1       577\n",
       "\n",
       "[2412 rows x 3 columns]"
      ]
     },
     "execution_count": 24,
     "metadata": {},
     "output_type": "execute_result"
    }
   ],
   "source": [
    "#соединим обе таблицы\n",
    "df_rfm = avg_cust.merge(order_sum, on='customer_id')\n",
    "df_rfm"
   ]
  },
  {
   "cell_type": "code",
   "execution_count": 25,
   "metadata": {},
   "outputs": [
    {
     "data": {
      "text/html": [
       "<div>\n",
       "<style scoped>\n",
       "    .dataframe tbody tr th:only-of-type {\n",
       "        vertical-align: middle;\n",
       "    }\n",
       "\n",
       "    .dataframe tbody tr th {\n",
       "        vertical-align: top;\n",
       "    }\n",
       "\n",
       "    .dataframe thead th {\n",
       "        text-align: right;\n",
       "    }\n",
       "</style>\n",
       "<table border=\"1\" class=\"dataframe\">\n",
       "  <thead>\n",
       "    <tr style=\"text-align: right;\">\n",
       "      <th></th>\n",
       "      <th>customer_id</th>\n",
       "      <th>frequency</th>\n",
       "      <th>monetary</th>\n",
       "      <th>recency</th>\n",
       "    </tr>\n",
       "  </thead>\n",
       "  <tbody>\n",
       "    <tr>\n",
       "      <th>0</th>\n",
       "      <td>c971fb21-d54c-4134-938f-16b62ee86d3b</td>\n",
       "      <td>126</td>\n",
       "      <td>159508</td>\n",
       "      <td>331</td>\n",
       "    </tr>\n",
       "    <tr>\n",
       "      <th>1</th>\n",
       "      <td>4d93d3f6-8b24-403b-a74b-f5173e40d7db</td>\n",
       "      <td>35</td>\n",
       "      <td>57278</td>\n",
       "      <td>464</td>\n",
       "    </tr>\n",
       "    <tr>\n",
       "      <th>2</th>\n",
       "      <td>73d1cd35-5e5f-4629-8cf2-3fda829d4e58</td>\n",
       "      <td>17</td>\n",
       "      <td>21361</td>\n",
       "      <td>92</td>\n",
       "    </tr>\n",
       "    <tr>\n",
       "      <th>3</th>\n",
       "      <td>b7b865ab-0735-407f-8d0c-31f74d2806cc</td>\n",
       "      <td>7</td>\n",
       "      <td>3779</td>\n",
       "      <td>282</td>\n",
       "    </tr>\n",
       "    <tr>\n",
       "      <th>4</th>\n",
       "      <td>0184f535-b60a-4914-a982-231e3f615206</td>\n",
       "      <td>5</td>\n",
       "      <td>5891</td>\n",
       "      <td>253</td>\n",
       "    </tr>\n",
       "    <tr>\n",
       "      <th>...</th>\n",
       "      <td>...</td>\n",
       "      <td>...</td>\n",
       "      <td>...</td>\n",
       "      <td>...</td>\n",
       "    </tr>\n",
       "    <tr>\n",
       "      <th>2407</th>\n",
       "      <td>69cf691b-a6c2-4543-aa8a-8cf42fe4a76e</td>\n",
       "      <td>1</td>\n",
       "      <td>3525</td>\n",
       "      <td>335</td>\n",
       "    </tr>\n",
       "    <tr>\n",
       "      <th>2408</th>\n",
       "      <td>69c524f1-dd2a-4c4e-a5b0-def54dc96f9e</td>\n",
       "      <td>1</td>\n",
       "      <td>149</td>\n",
       "      <td>103</td>\n",
       "    </tr>\n",
       "    <tr>\n",
       "      <th>2409</th>\n",
       "      <td>69b17a52-a59b-4656-8d47-375e81e7d5f1</td>\n",
       "      <td>1</td>\n",
       "      <td>1574</td>\n",
       "      <td>276</td>\n",
       "    </tr>\n",
       "    <tr>\n",
       "      <th>2410</th>\n",
       "      <td>69897438-1f6c-42f3-8876-ec7f0296072d</td>\n",
       "      <td>1</td>\n",
       "      <td>1799</td>\n",
       "      <td>312</td>\n",
       "    </tr>\n",
       "    <tr>\n",
       "      <th>2411</th>\n",
       "      <td>ffe82299-3f5b-4214-87fe-3d36ecccfac3</td>\n",
       "      <td>1</td>\n",
       "      <td>577</td>\n",
       "      <td>101</td>\n",
       "    </tr>\n",
       "  </tbody>\n",
       "</table>\n",
       "<p>2412 rows × 4 columns</p>\n",
       "</div>"
      ],
      "text/plain": [
       "                               customer_id  frequency  monetary  recency\n",
       "0     c971fb21-d54c-4134-938f-16b62ee86d3b        126    159508      331\n",
       "1     4d93d3f6-8b24-403b-a74b-f5173e40d7db         35     57278      464\n",
       "2     73d1cd35-5e5f-4629-8cf2-3fda829d4e58         17     21361       92\n",
       "3     b7b865ab-0735-407f-8d0c-31f74d2806cc          7      3779      282\n",
       "4     0184f535-b60a-4914-a982-231e3f615206          5      5891      253\n",
       "...                                    ...        ...       ...      ...\n",
       "2407  69cf691b-a6c2-4543-aa8a-8cf42fe4a76e          1      3525      335\n",
       "2408  69c524f1-dd2a-4c4e-a5b0-def54dc96f9e          1       149      103\n",
       "2409  69b17a52-a59b-4656-8d47-375e81e7d5f1          1      1574      276\n",
       "2410  69897438-1f6c-42f3-8876-ec7f0296072d          1      1799      312\n",
       "2411  ffe82299-3f5b-4214-87fe-3d36ecccfac3          1       577      101\n",
       "\n",
       "[2412 rows x 4 columns]"
      ]
     },
     "execution_count": 25,
     "metadata": {},
     "output_type": "execute_result"
    }
   ],
   "source": [
    "#осталось добавить значение recency - как давно покупатель сделал свою последнюю покупку\n",
    "#создадим табличку с датами последних заказов пользователей\n",
    "recency = df.groupby('customer_id')['date'].max().reset_index()\n",
    "#посчитаем, сколько времени прошло с последнего заказа\n",
    "recency['recency'] = df['date'].max() - recency['date']\n",
    "recency['recency'] = recency['recency'].apply(lambda td: td.days)\n",
    "#оформим все в итоговую таблицу\n",
    "df_rfm_f = df_rfm.merge(recency, on='customer_id')\n",
    "df_rfm_f = df_rfm_f.drop('date', axis=1)\n",
    "df_rfm_f"
   ]
  },
  {
   "cell_type": "markdown",
   "metadata": {},
   "source": [
    "Следующим шагом будет присвоение каждому пользователю по каждому из определенных критериев оценки от 1 до 4, где 1 - пользователь, который потратил мало денег/давно покупал/покупает редко, а 4 - потратил много денег/покупал недавно/покупает часто."
   ]
  },
  {
   "cell_type": "code",
   "execution_count": 26,
   "metadata": {},
   "outputs": [],
   "source": [
    "#формула для недавних пользователей инверсивна по той причине, что наивысшую оценку получит тот пользователь,\n",
    "#чье значение recency было наименьшим\n",
    "df_rfm_f['r'] = 5 - (pd.qcut(df_rfm_f['recency'], 4, labels=False) + 1)\n",
    "#df_rfm_f['f'] = pd.qcut(df_rfm_f['frequency'], 4, labels=False) + 1"
   ]
  },
  {
   "cell_type": "code",
   "execution_count": 27,
   "metadata": {},
   "outputs": [],
   "source": [
    "#для столбца frequency вручную напишем функцию, так как разбить на 4 одинаковых группы данные невозможно - \n",
    "#в данных больше половины пользователей оформляли заказ лишь раз\n",
    "def get_f(x):\n",
    "    if x == 1:\n",
    "        return 1\n",
    "    if x == 2:\n",
    "        return 2\n",
    "    if x == 3:\n",
    "        return 3\n",
    "    return 4\n",
    "\n",
    "df_rfm_f['f'] = df_rfm_f['frequency'].apply(get_f)"
   ]
  },
  {
   "cell_type": "code",
   "execution_count": 28,
   "metadata": {},
   "outputs": [],
   "source": [
    "#и последний столбец\n",
    "df_rfm_f['m'] = pd.qcut(df_rfm_f['monetary'], 4, labels=False) + 1"
   ]
  },
  {
   "cell_type": "code",
   "execution_count": 29,
   "metadata": {},
   "outputs": [],
   "source": [
    "#теперь закончим оформление таблицы итоговым rfm значением, ради которого все это делалось\n",
    "df_rfm_f['rfm_score'] = df_rfm_f[['r','f','m']].sum(axis=1)"
   ]
  },
  {
   "cell_type": "code",
   "execution_count": 30,
   "metadata": {},
   "outputs": [
    {
     "data": {
      "text/html": [
       "<div>\n",
       "<style scoped>\n",
       "    .dataframe tbody tr th:only-of-type {\n",
       "        vertical-align: middle;\n",
       "    }\n",
       "\n",
       "    .dataframe tbody tr th {\n",
       "        vertical-align: top;\n",
       "    }\n",
       "\n",
       "    .dataframe thead th {\n",
       "        text-align: right;\n",
       "    }\n",
       "</style>\n",
       "<table border=\"1\" class=\"dataframe\">\n",
       "  <thead>\n",
       "    <tr style=\"text-align: right;\">\n",
       "      <th></th>\n",
       "      <th>customer_id</th>\n",
       "      <th>frequency</th>\n",
       "      <th>monetary</th>\n",
       "      <th>recency</th>\n",
       "      <th>r</th>\n",
       "      <th>f</th>\n",
       "      <th>m</th>\n",
       "      <th>rfm_score</th>\n",
       "    </tr>\n",
       "  </thead>\n",
       "  <tbody>\n",
       "    <tr>\n",
       "      <th>0</th>\n",
       "      <td>c971fb21-d54c-4134-938f-16b62ee86d3b</td>\n",
       "      <td>126</td>\n",
       "      <td>159508</td>\n",
       "      <td>331</td>\n",
       "      <td>2</td>\n",
       "      <td>4</td>\n",
       "      <td>4</td>\n",
       "      <td>10</td>\n",
       "    </tr>\n",
       "    <tr>\n",
       "      <th>1</th>\n",
       "      <td>4d93d3f6-8b24-403b-a74b-f5173e40d7db</td>\n",
       "      <td>35</td>\n",
       "      <td>57278</td>\n",
       "      <td>464</td>\n",
       "      <td>1</td>\n",
       "      <td>4</td>\n",
       "      <td>4</td>\n",
       "      <td>9</td>\n",
       "    </tr>\n",
       "    <tr>\n",
       "      <th>2</th>\n",
       "      <td>73d1cd35-5e5f-4629-8cf2-3fda829d4e58</td>\n",
       "      <td>17</td>\n",
       "      <td>21361</td>\n",
       "      <td>92</td>\n",
       "      <td>3</td>\n",
       "      <td>4</td>\n",
       "      <td>4</td>\n",
       "      <td>11</td>\n",
       "    </tr>\n",
       "    <tr>\n",
       "      <th>3</th>\n",
       "      <td>b7b865ab-0735-407f-8d0c-31f74d2806cc</td>\n",
       "      <td>7</td>\n",
       "      <td>3779</td>\n",
       "      <td>282</td>\n",
       "      <td>2</td>\n",
       "      <td>4</td>\n",
       "      <td>4</td>\n",
       "      <td>10</td>\n",
       "    </tr>\n",
       "    <tr>\n",
       "      <th>4</th>\n",
       "      <td>0184f535-b60a-4914-a982-231e3f615206</td>\n",
       "      <td>5</td>\n",
       "      <td>5891</td>\n",
       "      <td>253</td>\n",
       "      <td>2</td>\n",
       "      <td>4</td>\n",
       "      <td>4</td>\n",
       "      <td>10</td>\n",
       "    </tr>\n",
       "    <tr>\n",
       "      <th>...</th>\n",
       "      <td>...</td>\n",
       "      <td>...</td>\n",
       "      <td>...</td>\n",
       "      <td>...</td>\n",
       "      <td>...</td>\n",
       "      <td>...</td>\n",
       "      <td>...</td>\n",
       "      <td>...</td>\n",
       "    </tr>\n",
       "    <tr>\n",
       "      <th>2407</th>\n",
       "      <td>69cf691b-a6c2-4543-aa8a-8cf42fe4a76e</td>\n",
       "      <td>1</td>\n",
       "      <td>3525</td>\n",
       "      <td>335</td>\n",
       "      <td>2</td>\n",
       "      <td>1</td>\n",
       "      <td>4</td>\n",
       "      <td>7</td>\n",
       "    </tr>\n",
       "    <tr>\n",
       "      <th>2408</th>\n",
       "      <td>69c524f1-dd2a-4c4e-a5b0-def54dc96f9e</td>\n",
       "      <td>1</td>\n",
       "      <td>149</td>\n",
       "      <td>103</td>\n",
       "      <td>3</td>\n",
       "      <td>1</td>\n",
       "      <td>1</td>\n",
       "      <td>5</td>\n",
       "    </tr>\n",
       "    <tr>\n",
       "      <th>2409</th>\n",
       "      <td>69b17a52-a59b-4656-8d47-375e81e7d5f1</td>\n",
       "      <td>1</td>\n",
       "      <td>1574</td>\n",
       "      <td>276</td>\n",
       "      <td>2</td>\n",
       "      <td>1</td>\n",
       "      <td>3</td>\n",
       "      <td>6</td>\n",
       "    </tr>\n",
       "    <tr>\n",
       "      <th>2410</th>\n",
       "      <td>69897438-1f6c-42f3-8876-ec7f0296072d</td>\n",
       "      <td>1</td>\n",
       "      <td>1799</td>\n",
       "      <td>312</td>\n",
       "      <td>2</td>\n",
       "      <td>1</td>\n",
       "      <td>3</td>\n",
       "      <td>6</td>\n",
       "    </tr>\n",
       "    <tr>\n",
       "      <th>2411</th>\n",
       "      <td>ffe82299-3f5b-4214-87fe-3d36ecccfac3</td>\n",
       "      <td>1</td>\n",
       "      <td>577</td>\n",
       "      <td>101</td>\n",
       "      <td>3</td>\n",
       "      <td>1</td>\n",
       "      <td>2</td>\n",
       "      <td>6</td>\n",
       "    </tr>\n",
       "  </tbody>\n",
       "</table>\n",
       "<p>2412 rows × 8 columns</p>\n",
       "</div>"
      ],
      "text/plain": [
       "                               customer_id  frequency  monetary  recency  r  \\\n",
       "0     c971fb21-d54c-4134-938f-16b62ee86d3b        126    159508      331  2   \n",
       "1     4d93d3f6-8b24-403b-a74b-f5173e40d7db         35     57278      464  1   \n",
       "2     73d1cd35-5e5f-4629-8cf2-3fda829d4e58         17     21361       92  3   \n",
       "3     b7b865ab-0735-407f-8d0c-31f74d2806cc          7      3779      282  2   \n",
       "4     0184f535-b60a-4914-a982-231e3f615206          5      5891      253  2   \n",
       "...                                    ...        ...       ...      ... ..   \n",
       "2407  69cf691b-a6c2-4543-aa8a-8cf42fe4a76e          1      3525      335  2   \n",
       "2408  69c524f1-dd2a-4c4e-a5b0-def54dc96f9e          1       149      103  3   \n",
       "2409  69b17a52-a59b-4656-8d47-375e81e7d5f1          1      1574      276  2   \n",
       "2410  69897438-1f6c-42f3-8876-ec7f0296072d          1      1799      312  2   \n",
       "2411  ffe82299-3f5b-4214-87fe-3d36ecccfac3          1       577      101  3   \n",
       "\n",
       "      f  m  rfm_score  \n",
       "0     4  4         10  \n",
       "1     4  4          9  \n",
       "2     4  4         11  \n",
       "3     4  4         10  \n",
       "4     4  4         10  \n",
       "...  .. ..        ...  \n",
       "2407  1  4          7  \n",
       "2408  1  1          5  \n",
       "2409  1  3          6  \n",
       "2410  1  3          6  \n",
       "2411  1  2          6  \n",
       "\n",
       "[2412 rows x 8 columns]"
      ]
     },
     "execution_count": 30,
     "metadata": {},
     "output_type": "execute_result"
    }
   ],
   "source": [
    "#выводим получившуюся таблицу\n",
    "df_rfm_f"
   ]
  },
  {
   "cell_type": "code",
   "execution_count": 31,
   "metadata": {},
   "outputs": [
    {
     "data": {
      "text/html": [
       "<div>\n",
       "<style scoped>\n",
       "    .dataframe tbody tr th:only-of-type {\n",
       "        vertical-align: middle;\n",
       "    }\n",
       "\n",
       "    .dataframe tbody tr th {\n",
       "        vertical-align: top;\n",
       "    }\n",
       "\n",
       "    .dataframe thead th {\n",
       "        text-align: right;\n",
       "    }\n",
       "</style>\n",
       "<table border=\"1\" class=\"dataframe\">\n",
       "  <thead>\n",
       "    <tr style=\"text-align: right;\">\n",
       "      <th></th>\n",
       "      <th>customer_id</th>\n",
       "      <th>frequency</th>\n",
       "      <th>monetary</th>\n",
       "      <th>recency</th>\n",
       "      <th>r</th>\n",
       "      <th>f</th>\n",
       "      <th>m</th>\n",
       "      <th>rfm_score</th>\n",
       "      <th>client_level</th>\n",
       "    </tr>\n",
       "  </thead>\n",
       "  <tbody>\n",
       "    <tr>\n",
       "      <th>0</th>\n",
       "      <td>c971fb21-d54c-4134-938f-16b62ee86d3b</td>\n",
       "      <td>126</td>\n",
       "      <td>159508</td>\n",
       "      <td>331</td>\n",
       "      <td>2</td>\n",
       "      <td>4</td>\n",
       "      <td>4</td>\n",
       "      <td>10</td>\n",
       "      <td>Нельзя терять</td>\n",
       "    </tr>\n",
       "    <tr>\n",
       "      <th>1</th>\n",
       "      <td>4d93d3f6-8b24-403b-a74b-f5173e40d7db</td>\n",
       "      <td>35</td>\n",
       "      <td>57278</td>\n",
       "      <td>464</td>\n",
       "      <td>1</td>\n",
       "      <td>4</td>\n",
       "      <td>4</td>\n",
       "      <td>9</td>\n",
       "      <td>Нельзя терять</td>\n",
       "    </tr>\n",
       "    <tr>\n",
       "      <th>2</th>\n",
       "      <td>73d1cd35-5e5f-4629-8cf2-3fda829d4e58</td>\n",
       "      <td>17</td>\n",
       "      <td>21361</td>\n",
       "      <td>92</td>\n",
       "      <td>3</td>\n",
       "      <td>4</td>\n",
       "      <td>4</td>\n",
       "      <td>11</td>\n",
       "      <td>Нельзя терять</td>\n",
       "    </tr>\n",
       "    <tr>\n",
       "      <th>3</th>\n",
       "      <td>b7b865ab-0735-407f-8d0c-31f74d2806cc</td>\n",
       "      <td>7</td>\n",
       "      <td>3779</td>\n",
       "      <td>282</td>\n",
       "      <td>2</td>\n",
       "      <td>4</td>\n",
       "      <td>4</td>\n",
       "      <td>10</td>\n",
       "      <td>Нельзя терять</td>\n",
       "    </tr>\n",
       "    <tr>\n",
       "      <th>4</th>\n",
       "      <td>0184f535-b60a-4914-a982-231e3f615206</td>\n",
       "      <td>5</td>\n",
       "      <td>5891</td>\n",
       "      <td>253</td>\n",
       "      <td>2</td>\n",
       "      <td>4</td>\n",
       "      <td>4</td>\n",
       "      <td>10</td>\n",
       "      <td>Нельзя терять</td>\n",
       "    </tr>\n",
       "  </tbody>\n",
       "</table>\n",
       "</div>"
      ],
      "text/plain": [
       "                            customer_id  frequency  monetary  recency  r  f  \\\n",
       "0  c971fb21-d54c-4134-938f-16b62ee86d3b        126    159508      331  2  4   \n",
       "1  4d93d3f6-8b24-403b-a74b-f5173e40d7db         35     57278      464  1  4   \n",
       "2  73d1cd35-5e5f-4629-8cf2-3fda829d4e58         17     21361       92  3  4   \n",
       "3  b7b865ab-0735-407f-8d0c-31f74d2806cc          7      3779      282  2  4   \n",
       "4  0184f535-b60a-4914-a982-231e3f615206          5      5891      253  2  4   \n",
       "\n",
       "   m  rfm_score   client_level  \n",
       "0  4         10  Нельзя терять  \n",
       "1  4          9  Нельзя терять  \n",
       "2  4         11  Нельзя терять  \n",
       "3  4         10  Нельзя терять  \n",
       "4  4         10  Нельзя терять  "
      ]
     },
     "execution_count": 31,
     "metadata": {},
     "output_type": "execute_result"
    }
   ],
   "source": [
    "#осталось сегментировать всех пользователей в соответствии с их rfm_score\n",
    "def rfm_level(df_rfm_f):\n",
    "    if df_rfm_f['rfm_score'] >= 9:\n",
    "        return 'Нельзя терять'\n",
    "    elif ((df_rfm_f['rfm_score'] >= 8) and (df_rfm_f['rfm_score'] < 9)):\n",
    "        return 'Чемпион'\n",
    "    elif ((df_rfm_f['rfm_score'] >= 7) and (df_rfm_f['rfm_score'] < 8)):\n",
    "        return 'Лояльный'\n",
    "    elif ((df_rfm_f['rfm_score'] >= 6) and (df_rfm_f['rfm_score'] < 7)):\n",
    "        return 'Потенциально лояльный'\n",
    "    elif ((df_rfm_f['rfm_score'] >= 5) and (df_rfm_f['rfm_score'] < 6)):\n",
    "        return 'Многообещающий'\n",
    "    elif ((df_rfm_f['rfm_score'] >= 4) and (df_rfm_f['rfm_score'] < 5)):\n",
    "        return 'Требует внимания'\n",
    "    else:\n",
    "        return 'Требует активных действий'\n",
    "\n",
    "df_rfm_f['client_level'] = df_rfm_f.apply(rfm_level, axis=1)\n",
    "\n",
    "df_rfm_f.head()"
   ]
  },
  {
   "cell_type": "code",
   "execution_count": 32,
   "metadata": {},
   "outputs": [
    {
     "data": {
      "text/html": [
       "<div>\n",
       "<style scoped>\n",
       "    .dataframe tbody tr th:only-of-type {\n",
       "        vertical-align: middle;\n",
       "    }\n",
       "\n",
       "    .dataframe tbody tr th {\n",
       "        vertical-align: top;\n",
       "    }\n",
       "\n",
       "    .dataframe thead th {\n",
       "        text-align: right;\n",
       "    }\n",
       "</style>\n",
       "<table border=\"1\" class=\"dataframe\">\n",
       "  <thead>\n",
       "    <tr style=\"text-align: right;\">\n",
       "      <th></th>\n",
       "      <th>date</th>\n",
       "      <th>customer_id</th>\n",
       "      <th>order_id</th>\n",
       "      <th>product</th>\n",
       "      <th>quantity</th>\n",
       "      <th>price</th>\n",
       "      <th>total</th>\n",
       "      <th>client_level</th>\n",
       "    </tr>\n",
       "  </thead>\n",
       "  <tbody>\n",
       "    <tr>\n",
       "      <th>0</th>\n",
       "      <td>2018-10-01</td>\n",
       "      <td>ee47d746-6d2f-4d3c-9622-c31412542920</td>\n",
       "      <td>68477</td>\n",
       "      <td>Комнатное растение в горшке Алое Вера, d12, h30</td>\n",
       "      <td>1</td>\n",
       "      <td>142</td>\n",
       "      <td>142</td>\n",
       "      <td>Многообещающий</td>\n",
       "    </tr>\n",
       "    <tr>\n",
       "      <th>1</th>\n",
       "      <td>2018-10-01</td>\n",
       "      <td>ee47d746-6d2f-4d3c-9622-c31412542920</td>\n",
       "      <td>68477</td>\n",
       "      <td>Комнатное растение в горшке Кофе Арабика, d12,...</td>\n",
       "      <td>1</td>\n",
       "      <td>194</td>\n",
       "      <td>194</td>\n",
       "      <td>Многообещающий</td>\n",
       "    </tr>\n",
       "    <tr>\n",
       "      <th>2</th>\n",
       "      <td>2018-10-01</td>\n",
       "      <td>ee47d746-6d2f-4d3c-9622-c31412542920</td>\n",
       "      <td>68477</td>\n",
       "      <td>Радермахера d-12 см h-20 см</td>\n",
       "      <td>1</td>\n",
       "      <td>112</td>\n",
       "      <td>112</td>\n",
       "      <td>Многообещающий</td>\n",
       "    </tr>\n",
       "    <tr>\n",
       "      <th>3</th>\n",
       "      <td>2018-10-01</td>\n",
       "      <td>ee47d746-6d2f-4d3c-9622-c31412542920</td>\n",
       "      <td>68477</td>\n",
       "      <td>Хризолидокарпус Лутесценс d-9 см</td>\n",
       "      <td>1</td>\n",
       "      <td>179</td>\n",
       "      <td>179</td>\n",
       "      <td>Многообещающий</td>\n",
       "    </tr>\n",
       "    <tr>\n",
       "      <th>4</th>\n",
       "      <td>2018-10-01</td>\n",
       "      <td>ee47d746-6d2f-4d3c-9622-c31412542920</td>\n",
       "      <td>68477</td>\n",
       "      <td>Циперус Зумула d-12 см h-25 см</td>\n",
       "      <td>1</td>\n",
       "      <td>112</td>\n",
       "      <td>112</td>\n",
       "      <td>Многообещающий</td>\n",
       "    </tr>\n",
       "  </tbody>\n",
       "</table>\n",
       "</div>"
      ],
      "text/plain": [
       "        date                           customer_id  order_id  \\\n",
       "0 2018-10-01  ee47d746-6d2f-4d3c-9622-c31412542920     68477   \n",
       "1 2018-10-01  ee47d746-6d2f-4d3c-9622-c31412542920     68477   \n",
       "2 2018-10-01  ee47d746-6d2f-4d3c-9622-c31412542920     68477   \n",
       "3 2018-10-01  ee47d746-6d2f-4d3c-9622-c31412542920     68477   \n",
       "4 2018-10-01  ee47d746-6d2f-4d3c-9622-c31412542920     68477   \n",
       "\n",
       "                                             product  quantity  price  total  \\\n",
       "0    Комнатное растение в горшке Алое Вера, d12, h30         1    142    142   \n",
       "1  Комнатное растение в горшке Кофе Арабика, d12,...         1    194    194   \n",
       "2                        Радермахера d-12 см h-20 см         1    112    112   \n",
       "3                   Хризолидокарпус Лутесценс d-9 см         1    179    179   \n",
       "4                     Циперус Зумула d-12 см h-25 см         1    112    112   \n",
       "\n",
       "     client_level  \n",
       "0  Многообещающий  \n",
       "1  Многообещающий  \n",
       "2  Многообещающий  \n",
       "3  Многообещающий  \n",
       "4  Многообещающий  "
      ]
     },
     "execution_count": 32,
     "metadata": {},
     "output_type": "execute_result"
    }
   ],
   "source": [
    "#присоединим получившийся столбец с присвоенным rfm-уровнем пользователей к нашему первоначальному датасету\n",
    "df = df.merge(df_rfm_f, on='customer_id')\n",
    "df = df.drop(['frequency', 'monetary', 'recency', 'r', 'f', 'm', 'rfm_score'], axis=1)\n",
    "df.head()"
   ]
  },
  {
   "cell_type": "code",
   "execution_count": 33,
   "metadata": {},
   "outputs": [
    {
     "data": {
      "text/html": [
       "<div>\n",
       "<style scoped>\n",
       "    .dataframe tbody tr th:only-of-type {\n",
       "        vertical-align: middle;\n",
       "    }\n",
       "\n",
       "    .dataframe tbody tr th {\n",
       "        vertical-align: top;\n",
       "    }\n",
       "\n",
       "    .dataframe thead th {\n",
       "        text-align: right;\n",
       "    }\n",
       "</style>\n",
       "<table border=\"1\" class=\"dataframe\">\n",
       "  <thead>\n",
       "    <tr style=\"text-align: right;\">\n",
       "      <th></th>\n",
       "      <th>категория</th>\n",
       "      <th>кол-во дней с последней покупки</th>\n",
       "      <th>кол-во покупок</th>\n",
       "      <th>кол-во денег</th>\n",
       "      <th>кол-во пользователей</th>\n",
       "    </tr>\n",
       "  </thead>\n",
       "  <tbody>\n",
       "    <tr>\n",
       "      <th>0</th>\n",
       "      <td>Нельзя терять</td>\n",
       "      <td>50.4</td>\n",
       "      <td>2.4</td>\n",
       "      <td>3401.1</td>\n",
       "      <td>428</td>\n",
       "    </tr>\n",
       "    <tr>\n",
       "      <th>1</th>\n",
       "      <td>Чемпион</td>\n",
       "      <td>100.8</td>\n",
       "      <td>1.8</td>\n",
       "      <td>1889.4</td>\n",
       "      <td>287</td>\n",
       "    </tr>\n",
       "    <tr>\n",
       "      <th>2</th>\n",
       "      <td>Лояльный</td>\n",
       "      <td>156.5</td>\n",
       "      <td>1.5</td>\n",
       "      <td>1838.2</td>\n",
       "      <td>362</td>\n",
       "    </tr>\n",
       "    <tr>\n",
       "      <th>3</th>\n",
       "      <td>Потенциально лояльный</td>\n",
       "      <td>276.2</td>\n",
       "      <td>1.1</td>\n",
       "      <td>1908.6</td>\n",
       "      <td>420</td>\n",
       "    </tr>\n",
       "    <tr>\n",
       "      <th>4</th>\n",
       "      <td>Многообещающий</td>\n",
       "      <td>283.4</td>\n",
       "      <td>1.0</td>\n",
       "      <td>668.0</td>\n",
       "      <td>464</td>\n",
       "    </tr>\n",
       "    <tr>\n",
       "      <th>5</th>\n",
       "      <td>Требует внимания</td>\n",
       "      <td>342.7</td>\n",
       "      <td>1.0</td>\n",
       "      <td>393.7</td>\n",
       "      <td>301</td>\n",
       "    </tr>\n",
       "    <tr>\n",
       "      <th>6</th>\n",
       "      <td>Требует активных действий</td>\n",
       "      <td>407.5</td>\n",
       "      <td>1.0</td>\n",
       "      <td>218.9</td>\n",
       "      <td>150</td>\n",
       "    </tr>\n",
       "  </tbody>\n",
       "</table>\n",
       "</div>"
      ],
      "text/plain": [
       "                  категория   кол-во дней с последней покупки  кол-во покупок  \\\n",
       "0              Нельзя терять                             50.4             2.4   \n",
       "1                    Чемпион                            100.8             1.8   \n",
       "2                   Лояльный                            156.5             1.5   \n",
       "3      Потенциально лояльный                            276.2             1.1   \n",
       "4             Многообещающий                            283.4             1.0   \n",
       "5           Требует внимания                            342.7             1.0   \n",
       "6  Требует активных действий                            407.5             1.0   \n",
       "\n",
       "   кол-во денег  кол-во пользователей  \n",
       "0        3401.1                   428  \n",
       "1        1889.4                   287  \n",
       "2        1838.2                   362  \n",
       "3        1908.6                   420  \n",
       "4         668.0                   464  \n",
       "5         393.7                   301  \n",
       "6         218.9                   150  "
      ]
     },
     "execution_count": 33,
     "metadata": {},
     "output_type": "execute_result"
    }
   ],
   "source": [
    "#сделаем сводную таблицу, чтобы оценить общее состояние бизнеса и проделанную работу\n",
    "rfm_level_agg = df_rfm_f.groupby('client_level').agg({\n",
    "    'recency': 'mean',\n",
    "    'frequency': 'mean',\n",
    "    'monetary': 'mean',\n",
    "    'rfm_score': 'count'\n",
    "}).round(1).reset_index()\n",
    "\n",
    "rfm_level_agg = rfm_level_agg.rename(\n",
    "    columns={\n",
    "        'client_level': 'категория ',\n",
    "        'recency': 'кол-во дней с последней покупки',\n",
    "        'frequency': 'кол-во покупок',\n",
    "        'monetary': 'кол-во денег',\n",
    "        'rfm_score': 'кол-во пользователей'\n",
    "    }\n",
    ")\n",
    "\n",
    "rfm_level_agg.sort_values(by='кол-во дней с последней покупки').reset_index(drop=True)"
   ]
  },
  {
   "cell_type": "markdown",
   "metadata": {},
   "source": [
    "Итого, на данном этапе, все пользователи датасета разделены по 3 критериям на 7 категорий в зависимости от количества дней, прошедших с последней покупки, количества совершенных покупок и количества потраченных в нашем интернет-магазине.\n",
    "\n",
    "На основе полученных сведений можно сегментировать пользователей следующими способами:\n",
    "   - Активные пользователи и пользователи, которые давно не оформляли заказ.\n",
    "   - Постоянные пользователи или оформившие один-два заказа.\n",
    "   - Пользователи, потратившие большую сумму на покупки в интернет-магазине и потратившие маленькую."
   ]
  },
  {
   "cell_type": "markdown",
   "metadata": {},
   "source": [
    "**Определить популярные категории товаров для дома.**"
   ]
  },
  {
   "cell_type": "markdown",
   "metadata": {},
   "source": [
    "Для того, чтобы определить популярные категории, для начала следует, все товары на эти категории разбить.\n",
    "Мы будем действовать по следующему алгоритму:\n",
    "1. Убираем все знаки препинания \n",
    "2. Лемантизируем: проводим каждое слово к начальной форме + все к нижнему регистру\n",
    "3. Векторизация Tf-idf\n",
    "4. Кластеризация алгоритмом K-means"
   ]
  },
  {
   "cell_type": "code",
   "execution_count": 34,
   "metadata": {
    "scrolled": true
   },
   "outputs": [
    {
     "data": {
      "text/plain": [
       "2326"
      ]
     },
     "execution_count": 34,
     "metadata": {},
     "output_type": "execute_result"
    }
   ],
   "source": [
    "products = df['product'].apply(lambda p: p.translate(str.maketrans('', '', string.punctuation)))\n",
    "m = Mystem()\n",
    "products = products.apply(lambda p: ''.join(m.lemmatize(p))).unique()\n",
    "products.size"
   ]
  },
  {
   "cell_type": "code",
   "execution_count": 35,
   "metadata": {},
   "outputs": [],
   "source": [
    "vectorizer_ntf = TfidfVectorizer(analyzer='word', ngram_range=(1,2))"
   ]
  },
  {
   "cell_type": "code",
   "execution_count": 36,
   "metadata": {},
   "outputs": [],
   "source": [
    "X_ntf = vectorizer_ntf.fit_transform(products)"
   ]
  },
  {
   "cell_type": "code",
   "execution_count": 37,
   "metadata": {},
   "outputs": [
    {
     "name": "stdout",
     "output_type": "stream",
     "text": [
      "Initialization complete\n",
      "Iteration 0, inertia 3619.4592804105982\n",
      "Iteration 1, inertia 1943.249632928224\n",
      "Iteration 2, inertia 1912.4456207452602\n",
      "Iteration 3, inertia 1901.2903718957723\n",
      "Iteration 4, inertia 1897.709918991559\n",
      "Iteration 5, inertia 1896.2818789503337\n",
      "Iteration 6, inertia 1895.9195059854367\n",
      "Iteration 7, inertia 1895.791274578919\n",
      "Iteration 8, inertia 1895.767546107421\n",
      "Iteration 9, inertia 1895.6727137380587\n",
      "Iteration 10, inertia 1895.577154867776\n",
      "Iteration 11, inertia 1895.51916398967\n",
      "Iteration 12, inertia 1895.4910553051407\n",
      "Iteration 13, inertia 1895.3974184711508\n",
      "Converged at iteration 13: strict convergence.\n",
      "Initialization complete\n",
      "Iteration 0, inertia 3621.0701775769003\n",
      "Iteration 1, inertia 1942.9425835885504\n",
      "Iteration 2, inertia 1917.9881555549098\n",
      "Iteration 3, inertia 1908.0594334294328\n",
      "Iteration 4, inertia 1905.1018008065555\n",
      "Iteration 5, inertia 1904.0033372206851\n",
      "Iteration 6, inertia 1903.7800803570929\n",
      "Iteration 7, inertia 1903.6070375696604\n",
      "Iteration 8, inertia 1903.4639927639575\n",
      "Iteration 9, inertia 1903.3237595123546\n",
      "Converged at iteration 9: strict convergence.\n",
      "Initialization complete\n",
      "Iteration 0, inertia 3610.899178052349\n",
      "Iteration 1, inertia 1945.0036664076217\n",
      "Iteration 2, inertia 1917.0631379291776\n",
      "Iteration 3, inertia 1900.7748008267454\n",
      "Iteration 4, inertia 1895.8451628211778\n",
      "Iteration 5, inertia 1894.9425845636695\n",
      "Iteration 6, inertia 1894.2887994016546\n",
      "Iteration 7, inertia 1893.4232456522375\n",
      "Iteration 8, inertia 1893.0330501865915\n",
      "Iteration 9, inertia 1892.9943103006176\n",
      "Converged at iteration 9: strict convergence.\n",
      "Initialization complete\n",
      "Iteration 0, inertia 3575.985118154498\n",
      "Iteration 1, inertia 1945.7004074210445\n",
      "Iteration 2, inertia 1925.2916771660919\n",
      "Iteration 3, inertia 1914.0774055928443\n",
      "Iteration 4, inertia 1906.7163375667183\n",
      "Iteration 5, inertia 1904.790932435044\n",
      "Iteration 6, inertia 1903.6295817405185\n",
      "Iteration 7, inertia 1902.3086189018577\n",
      "Iteration 8, inertia 1901.698254013069\n",
      "Iteration 9, inertia 1901.6348195421097\n",
      "Iteration 10, inertia 1901.598970124424\n",
      "Iteration 11, inertia 1901.5646841994092\n",
      "Iteration 12, inertia 1901.4449218672444\n",
      "Iteration 13, inertia 1901.182695739451\n",
      "Converged at iteration 13: strict convergence.\n",
      "Initialization complete\n",
      "Iteration 0, inertia 3598.0904085880297\n",
      "Iteration 1, inertia 1932.8029340796645\n",
      "Iteration 2, inertia 1907.6789394560062\n",
      "Iteration 3, inertia 1898.6117748049267\n",
      "Iteration 4, inertia 1895.1001651789297\n",
      "Iteration 5, inertia 1892.815211765332\n",
      "Iteration 6, inertia 1891.1947101494181\n",
      "Iteration 7, inertia 1890.7272914301473\n",
      "Iteration 8, inertia 1890.603763639147\n",
      "Iteration 9, inertia 1890.5475908139986\n",
      "Iteration 10, inertia 1890.4899412581503\n",
      "Converged at iteration 10: strict convergence.\n",
      "Initialization complete\n",
      "Iteration 0, inertia 3592.8348902649454\n",
      "Iteration 1, inertia 1939.933832241523\n",
      "Iteration 2, inertia 1920.2799134810714\n",
      "Iteration 3, inertia 1909.900769438064\n",
      "Iteration 4, inertia 1904.1994704736442\n",
      "Iteration 5, inertia 1901.1083916332454\n",
      "Iteration 6, inertia 1900.3520319792747\n",
      "Iteration 7, inertia 1900.0067617007203\n",
      "Iteration 8, inertia 1899.9663868228486\n",
      "Iteration 9, inertia 1899.9033039970861\n",
      "Iteration 10, inertia 1899.8492023805218\n",
      "Converged at iteration 10: strict convergence.\n",
      "Initialization complete\n",
      "Iteration 0, inertia 3568.924053999519\n",
      "Iteration 1, inertia 1936.565223338658\n",
      "Iteration 2, inertia 1912.788253181692\n",
      "Iteration 3, inertia 1905.1186177816446\n",
      "Iteration 4, inertia 1901.18789283106\n",
      "Iteration 5, inertia 1899.6143288065882\n",
      "Iteration 6, inertia 1899.1884647843942\n",
      "Iteration 7, inertia 1898.9490579526944\n",
      "Iteration 8, inertia 1898.6613038447724\n",
      "Iteration 9, inertia 1898.1631968127556\n",
      "Iteration 10, inertia 1897.5002286408464\n",
      "Iteration 11, inertia 1896.7140946906122\n",
      "Iteration 12, inertia 1895.43100452403\n",
      "Iteration 13, inertia 1894.983728788056\n",
      "Iteration 14, inertia 1894.470651608683\n",
      "Converged at iteration 14: strict convergence.\n",
      "Initialization complete\n",
      "Iteration 0, inertia 3617.6639993525823\n",
      "Iteration 1, inertia 1939.5646246466542\n",
      "Iteration 2, inertia 1913.454372471218\n",
      "Iteration 3, inertia 1903.1114720168837\n",
      "Iteration 4, inertia 1898.9561263268893\n",
      "Iteration 5, inertia 1897.1892440948204\n",
      "Iteration 6, inertia 1896.609466807861\n",
      "Iteration 7, inertia 1896.2875307249167\n",
      "Iteration 8, inertia 1896.1261646541839\n",
      "Converged at iteration 8: strict convergence.\n",
      "Initialization complete\n",
      "Iteration 0, inertia 3599.916256735528\n",
      "Iteration 1, inertia 1946.1713786766256\n",
      "Iteration 2, inertia 1913.9023362691369\n",
      "Iteration 3, inertia 1902.2588293535207\n",
      "Iteration 4, inertia 1898.690921853882\n",
      "Iteration 5, inertia 1897.2035720936378\n",
      "Iteration 6, inertia 1896.7848179486268\n",
      "Iteration 7, inertia 1896.3558164638648\n",
      "Iteration 8, inertia 1895.9419844671797\n",
      "Iteration 9, inertia 1895.611280950455\n",
      "Iteration 10, inertia 1895.4024395765346\n",
      "Iteration 11, inertia 1895.334073593665\n",
      "Iteration 12, inertia 1895.3138812216641\n",
      "Converged at iteration 12: strict convergence.\n",
      "Initialization complete\n",
      "Iteration 0, inertia 3591.8201613875417\n",
      "Iteration 1, inertia 1951.2244856818936\n",
      "Iteration 2, inertia 1923.1222687008892\n",
      "Iteration 3, inertia 1915.5384265810317\n",
      "Iteration 4, inertia 1912.3804736938273\n",
      "Iteration 5, inertia 1910.4475238989437\n",
      "Iteration 6, inertia 1908.6969647991093\n",
      "Iteration 7, inertia 1907.750351108948\n",
      "Iteration 8, inertia 1907.623170086928\n",
      "Iteration 9, inertia 1907.5427723943972\n",
      "Converged at iteration 9: strict convergence.\n"
     ]
    }
   ],
   "source": [
    "#попробуем 2331 продукт разбить на 100 кластеров\n",
    "cls = KMeans(n_clusters=70, verbose=1, random_state=7).fit(X_ntf)\n",
    "clusters = cls.labels_"
   ]
  },
  {
   "cell_type": "code",
   "execution_count": 38,
   "metadata": {},
   "outputs": [
    {
     "data": {
      "text/html": [
       "<div>\n",
       "<style scoped>\n",
       "    .dataframe tbody tr th:only-of-type {\n",
       "        vertical-align: middle;\n",
       "    }\n",
       "\n",
       "    .dataframe tbody tr th {\n",
       "        vertical-align: top;\n",
       "    }\n",
       "\n",
       "    .dataframe thead th {\n",
       "        text-align: right;\n",
       "    }\n",
       "</style>\n",
       "<table border=\"1\" class=\"dataframe\">\n",
       "  <thead>\n",
       "    <tr style=\"text-align: right;\">\n",
       "      <th></th>\n",
       "      <th>product</th>\n",
       "      <th>group</th>\n",
       "    </tr>\n",
       "  </thead>\n",
       "  <tbody>\n",
       "    <tr>\n",
       "      <th>0</th>\n",
       "      <td>комнатный растение в горшок алый вера d12 h30\\n</td>\n",
       "      <td>30</td>\n",
       "    </tr>\n",
       "    <tr>\n",
       "      <th>1</th>\n",
       "      <td>комнатный растение в горшок кофе арабика d12 h...</td>\n",
       "      <td>30</td>\n",
       "    </tr>\n",
       "    <tr>\n",
       "      <th>2</th>\n",
       "      <td>радермахер d12 см h20 см\\n</td>\n",
       "      <td>37</td>\n",
       "    </tr>\n",
       "    <tr>\n",
       "      <th>3</th>\n",
       "      <td>хризолидокарпус лутесценс d9 см\\n</td>\n",
       "      <td>51</td>\n",
       "    </tr>\n",
       "    <tr>\n",
       "      <th>4</th>\n",
       "      <td>циперус зумула d12 см h25 см\\n</td>\n",
       "      <td>4</td>\n",
       "    </tr>\n",
       "    <tr>\n",
       "      <th>...</th>\n",
       "      <td>...</td>\n",
       "      <td>...</td>\n",
       "    </tr>\n",
       "    <tr>\n",
       "      <th>2321</th>\n",
       "      <td>шпингалет 80 мм белый с пружина 1102188\\n</td>\n",
       "      <td>64</td>\n",
       "    </tr>\n",
       "    <tr>\n",
       "      <th>2322</th>\n",
       "      <td>лавр d9 см\\n</td>\n",
       "      <td>51</td>\n",
       "    </tr>\n",
       "    <tr>\n",
       "      <th>2323</th>\n",
       "      <td>чайник заварочный 750 мл WEBBER BE5567 с метал...</td>\n",
       "      <td>44</td>\n",
       "    </tr>\n",
       "    <tr>\n",
       "      <th>2324</th>\n",
       "      <td>сушилка для белье на ванна FREUDENBERG GIMI Al...</td>\n",
       "      <td>42</td>\n",
       "    </tr>\n",
       "    <tr>\n",
       "      <th>2325</th>\n",
       "      <td>литопс микс d5 см\\n</td>\n",
       "      <td>59</td>\n",
       "    </tr>\n",
       "  </tbody>\n",
       "</table>\n",
       "<p>2326 rows × 2 columns</p>\n",
       "</div>"
      ],
      "text/plain": [
       "                                                product  group\n",
       "0       комнатный растение в горшок алый вера d12 h30\\n     30\n",
       "1     комнатный растение в горшок кофе арабика d12 h...     30\n",
       "2                            радермахер d12 см h20 см\\n     37\n",
       "3                     хризолидокарпус лутесценс d9 см\\n     51\n",
       "4                        циперус зумула d12 см h25 см\\n      4\n",
       "...                                                 ...    ...\n",
       "2321          шпингалет 80 мм белый с пружина 1102188\\n     64\n",
       "2322                                       лавр d9 см\\n     51\n",
       "2323  чайник заварочный 750 мл WEBBER BE5567 с метал...     44\n",
       "2324  сушилка для белье на ванна FREUDENBERG GIMI Al...     42\n",
       "2325                                литопс микс d5 см\\n     59\n",
       "\n",
       "[2326 rows x 2 columns]"
      ]
     },
     "execution_count": 38,
     "metadata": {},
     "output_type": "execute_result"
    }
   ],
   "source": [
    "grouped_df = pd.DataFrame(zip(products, clusters), columns=['product', 'group'])\n",
    "grouped_df"
   ]
  },
  {
   "cell_type": "markdown",
   "metadata": {},
   "source": [
    "Итак, все продукты на основе их наименований поделены на 100 категорий. Перебрав их, можно выделить 8 основных направлений в нашем интернет магазине:\n",
    "1. Растения\n",
    "2. Рассада\n",
    "3. Муляжи цветов\n",
    "4. Товары для ухода за одеждой\n",
    "5. Хоз. товары\n",
    "6. Товары для кухни\n",
    "7. Товары для ванной\n",
    "8. Текстиль"
   ]
  },
  {
   "cell_type": "code",
   "execution_count": 39,
   "metadata": {
    "scrolled": true
   },
   "outputs": [
    {
     "data": {
      "text/plain": [
       "category\n",
       "Муляжи цветов                  151\n",
       "Рассада                        738\n",
       "Растения                       558\n",
       "Текстиль                       176\n",
       "Товары для кухни               225\n",
       "Товары для ухода за одеждой    318\n",
       "Хоз. товары                    160\n",
       "Name: product, dtype: int64"
      ]
     },
     "execution_count": 39,
     "metadata": {},
     "output_type": "execute_result"
    }
   ],
   "source": [
    "#осталось сегментировать товары по их группам\n",
    "def category(grouped_df):\n",
    "    if grouped_df['group'] in [3, 9, 17, 22, 27, 28, 36, 49, 56]:\n",
    "        return 'Товары для ухода за одеждой'\n",
    "    elif grouped_df['group'] in [1, 2, 4, 6, 7, 10, 26, 29, 35, 37, 43, 64, 65, 69]:\n",
    "        return 'Рассада'\n",
    "    elif grouped_df['group'] in [5, 38, 55, 59, 60, 61, 63]:\n",
    "        return 'Хоз. товары'\n",
    "    elif grouped_df['group'] in [24, 25, 32, 33, 42, 62, 67, 41]:\n",
    "        return 'Товары для кухни'\n",
    "    elif grouped_df['group'] in [0, 19, 30, 31, 34, 53, 68, 47]:\n",
    "        return 'Текстиль'\n",
    "    elif grouped_df['group'] in [12, 18, 39, 54]:\n",
    "        return 'Муляжи цветов'\n",
    "    else:\n",
    "        return 'Растения'\n",
    "\n",
    "grouped_df['category'] = grouped_df.apply(category, axis=1)\n",
    "\n",
    "grouped_df.groupby('category')['product'].count()"
   ]
  },
  {
   "cell_type": "markdown",
   "metadata": {},
   "source": [
    "Теперь присвоенные категории добавим в наш первоначальный датасет, чтобы ответить на поставленные вопросы."
   ]
  },
  {
   "cell_type": "code",
   "execution_count": 40,
   "metadata": {},
   "outputs": [],
   "source": [
    "products_info = pd.DataFrame(zip(df['product'], df['product'].apply(lambda p: p.translate(str.maketrans('', '', string.punctuation))).apply(lambda p: ''.join(m.lemmatize(p)))), columns=['product_original', 'lemm_product']).drop_duplicates()\n",
    "products_w_cat = grouped_df.merge(products_info, left_on='product', right_on='lemm_product')\n",
    "products_w_cat\n",
    "df = df.merge(products_w_cat, left_on='product', right_on='product_original')\n",
    "df = df.drop(['product_y', 'group', 'product_original', 'lemm_product'], axis=1)\n",
    "df = df.rename(columns={'product_x': 'product'})"
   ]
  },
  {
   "cell_type": "markdown",
   "metadata": {},
   "source": [
    "Возвращаемся к первоначальному вопросу - определению популярных товаров."
   ]
  },
  {
   "cell_type": "code",
   "execution_count": 41,
   "metadata": {},
   "outputs": [
    {
     "data": {
      "image/png": "[encoded data removed]",
      "text/plain": [
       "<Figure size 720x360 with 1 Axes>"
      ]
     },
     "metadata": {
      "needs_background": "light"
     },
     "output_type": "display_data"
    }
   ],
   "source": [
    "product = df.groupby('category', as_index = False)['product'].count().sort_values(by='product', ascending = False)\n",
    "plt.figure(figsize=(10, 5))\n",
    "sns.barplot(x='category', y='product', data=product, color='steelblue')\n",
    "plt.title('Популярные категории товаров', fontsize=15)\n",
    "plt.xlabel('Категория товара', fontsize=10)\n",
    "plt.ylabel('Кол-во купленных товаров', fontsize=10)\n",
    "plt.xticks(rotation=30);"
   ]
  },
  {
   "cell_type": "markdown",
   "metadata": {},
   "source": [
    "Согласно  исследованию, чаще всего пользователи нашего интернет-магазина покупают растения и рассаду, а также разнообразные мелочи для дома, входящие в категорию хоз.товаров."
   ]
  },
  {
   "cell_type": "markdown",
   "metadata": {},
   "source": [
    "**Сезонность покупки категорий товаров по получившимся кластерам.**"
   ]
  },
  {
   "cell_type": "code",
   "execution_count": 42,
   "metadata": {},
   "outputs": [
    {
     "name": "stdout",
     "output_type": "stream",
     "text": [
      "2018-10-01 00:00:00 2020-01-31 15:00:00\n"
     ]
    }
   ],
   "source": [
    "print(df['date'].min(), df['date'].max())"
   ]
  },
  {
   "cell_type": "markdown",
   "metadata": {},
   "source": [
    "В датасете, представленном клиентом, содержатся данные за неполные три года: начиная с октября 2018 года, заканчивая январем 2020."
   ]
  },
  {
   "cell_type": "code",
   "execution_count": 43,
   "metadata": {},
   "outputs": [],
   "source": [
    "#создадим столбец только с меясцем и годом покупки\n",
    "df['month_year'] = df['date'].dt.strftime('%Y-%m')"
   ]
  },
  {
   "cell_type": "code",
   "execution_count": 44,
   "metadata": {},
   "outputs": [
    {
     "data": {
      "image/png": "[encoded data removed]",
      "text/plain": [
       "<Figure size 1800x720 with 1 Axes>"
      ]
     },
     "metadata": {
      "needs_background": "light"
     },
     "output_type": "display_data"
    }
   ],
   "source": [
    "pivot_df = df.pivot_table(values='product', index='month_year', columns='category', aggfunc='count').sort_values(by='month_year')\n",
    "(\n",
    "    pivot_df\n",
    "    .plot\n",
    "    .bar(\n",
    "        stacked=True,\n",
    "        figsize=(25, 10),\n",
    "        title='Сезонность покупки категорий товаров',\n",
    "        xlabel='Месяц',\n",
    "        ylabel='Количество товаров'\n",
    "    )\n",
    ");"
   ]
  },
  {
   "cell_type": "markdown",
   "metadata": {},
   "source": [
    "На основе общей картины можно сделать следующие выводы:\n",
    "1. Пик покупки рассады приходится на май.\n",
    "3. Растания также чаще всего покупают в апреле и мае.\n",
    "4. Общая тенденция покупки товаров для дома заключается втом, что с января до мая включительно продажи постоянно растут и их пик приходится на май, в то время как начиная с июня продажи падают вдвое и колеблются на уровнях 200-300."
   ]
  },
  {
   "cell_type": "markdown",
   "metadata": {},
   "source": [
    "Ранее мы определили, что наиболее популярными категориями товаров являются растения, товары для кухни и рассада. Посмотрим их сезонность на основе кластеров профилей пользователей, также определенных ранее."
   ]
  },
  {
   "cell_type": "code",
   "execution_count": 45,
   "metadata": {},
   "outputs": [
    {
     "data": {
      "image/png": "[encoded data removed]",
      "text/plain": [
       "<Figure size 1800x720 with 1 Axes>"
      ]
     },
     "metadata": {
      "needs_background": "light"
     },
     "output_type": "display_data"
    }
   ],
   "source": [
    "#проверяем пользователей категории Лояльный\n",
    "top_cat = df[df['client_level'] == 'Лояльный']\n",
    "top_cat = top_cat.pivot_table(values='product', index='month_year', columns='category', aggfunc='count')\n",
    "\n",
    "(\n",
    "    top_cat\n",
    "    .plot\n",
    "    .bar(\n",
    "        stacked=True,\n",
    "        figsize=(25, 10),\n",
    "        title='Сезонность покупки категорий товаров для пользователей категории Лояльный',\n",
    "        xlabel='Месяц',\n",
    "        ylabel='Количество товаров'\n",
    "    )\n",
    ");"
   ]
  },
  {
   "cell_type": "markdown",
   "metadata": {},
   "source": [
    "Итак, начинаем анализ популярных категорий товаров для категории пользователей Лояльные.\n",
    "1. Наибольшее количество покупок совершается в апреле и мае. В это время покупается около сотни растений и сотни рассады в оба месяца.\n",
    "2. Покупка хоз.товаров примерно одинакова на протяжении всего года, наибольший всплеск - в октябре.\n",
    "3. В зимне-весенний период самые худшие результаты по покупкам."
   ]
  },
  {
   "cell_type": "code",
   "execution_count": 46,
   "metadata": {},
   "outputs": [
    {
     "data": {
      "image/png": "[encoded data removed]",
      "text/plain": [
       "<Figure size 1800x720 with 1 Axes>"
      ]
     },
     "metadata": {
      "needs_background": "light"
     },
     "output_type": "display_data"
    }
   ],
   "source": [
    "#проверяем пользователей категории Многообещающий\n",
    "top_cat = df[df['client_level'] == 'Многообещающий']\n",
    "top_cat = top_cat.pivot_table(values='product', index='month_year', columns='category', aggfunc='count')\n",
    "\n",
    "(\n",
    "    top_cat\n",
    "    .plot\n",
    "    .bar(\n",
    "        stacked=True,\n",
    "        figsize=(25, 10),\n",
    "        title='Сезонность покупки категорий товаров для пользователей категории Многообещающий',\n",
    "        xlabel='Месяц',\n",
    "        ylabel='Количество товаров'\n",
    "    )\n",
    ");"
   ]
  },
  {
   "cell_type": "markdown",
   "metadata": {},
   "source": [
    "Далее посмотрим на кластер пользователей Многообещающих:\n",
    "1. В представленных данных информация только до октября 2019 года.\n",
    "2. Пиковые значения приходятся на октябрь-ноябрь 2018 года и март 2019.\n",
    "3. Растения активней всего покупаются в феврале, марте, апреле и октябре.\n",
    "4. Наибольшее количество рассады куплено в мае."
   ]
  },
  {
   "cell_type": "code",
   "execution_count": 47,
   "metadata": {},
   "outputs": [
    {
     "data": {
      "image/png": "[encoded data removed]",
      "text/plain": [
       "<Figure size 1800x720 with 1 Axes>"
      ]
     },
     "metadata": {
      "needs_background": "light"
     },
     "output_type": "display_data"
    }
   ],
   "source": [
    "#проверяем пользователей категории Нельзя терять\n",
    "top_cat = df[df['client_level'] == 'Нельзя терять']\n",
    "top_cat = top_cat.pivot_table(values='product', index='month_year', columns='category', aggfunc='count')\n",
    "\n",
    "(\n",
    "    top_cat\n",
    "    .plot\n",
    "    .bar(\n",
    "        stacked=True,\n",
    "        figsize=(25, 10),\n",
    "        title='Сезонность покупки категорий товаров для пользователей категории Нельзя терять',\n",
    "        xlabel='Месяц',\n",
    "        ylabel='Количество товаров'\n",
    "    )\n",
    ");"
   ]
  },
  {
   "cell_type": "markdown",
   "metadata": {},
   "source": [
    "Выводы по кластеру Нельзя терять:\n",
    "1. Всплеск покупок приходится на декабрь 2019, январь 2020 - в это же время чаще всего покупаются хоз.товары.\n",
    "2. Расасду покупают только 6 месяцев в году - с апреля по июнь и в ноябре-январе.\n",
    "3. Растения одинаково часто покупают как в мае-июне, так и в декабре-январе, но хуже всего - в октябре."
   ]
  },
  {
   "cell_type": "code",
   "execution_count": 48,
   "metadata": {},
   "outputs": [
    {
     "data": {
      "image/png": "[encoded data removed]",
      "text/plain": [
       "<Figure size 1800x720 with 1 Axes>"
      ]
     },
     "metadata": {
      "needs_background": "light"
     },
     "output_type": "display_data"
    }
   ],
   "source": [
    "#проверяем пользователей категории Потенциально лояльный\n",
    "top_cat = df[df['client_level'] == 'Потенциально лояльный']\n",
    "top_cat = top_cat.pivot_table(values='product', index='month_year', columns='category', aggfunc='count')\n",
    "\n",
    "(\n",
    "    top_cat\n",
    "    .plot\n",
    "    .bar(\n",
    "        stacked=True,\n",
    "        figsize=(25, 10),\n",
    "        title='Сезонность покупки категорий товаров для пользователей категории Потенциально лояльный',\n",
    "        xlabel='Месяц',\n",
    "        ylabel='Количество товаров'\n",
    "    )\n",
    ");"
   ]
  },
  {
   "cell_type": "markdown",
   "metadata": {},
   "source": [
    "Кластер Потенциально лояльный:\n",
    "1. В октябре-ноябре 2018 и с марта по май 2019 продажи намного выше остальных месяцев.\n",
    "2. Самые малочисленные по количеству товаров месяцы - январь и декабрь.\n",
    "3. В мае чаще других месяцев покупается рассада и растения.\n",
    "4. В январе 2020 года почти не было покупок."
   ]
  },
  {
   "cell_type": "code",
   "execution_count": 49,
   "metadata": {},
   "outputs": [
    {
     "data": {
      "image/png": "[encoded data removed]",
      "text/plain": [
       "<Figure size 1800x720 with 1 Axes>"
      ]
     },
     "metadata": {
      "needs_background": "light"
     },
     "output_type": "display_data"
    }
   ],
   "source": [
    "#проверяем пользователей категории Требует активных действий\n",
    "top_cat = df[df['client_level'] == 'Требует активных действий']\n",
    "top_cat = top_cat.pivot_table(values='product', index='month_year', columns='category', aggfunc='count')\n",
    "\n",
    "(\n",
    "    top_cat\n",
    "    .plot\n",
    "    .bar(\n",
    "        stacked=True,\n",
    "        figsize=(25, 10),\n",
    "        title='Сезонность покупки категорий товаров для пользователей категории Требует активных действий',\n",
    "        xlabel='Месяц',\n",
    "        ylabel='Количество товаров'\n",
    "    )\n",
    ");"
   ]
  },
  {
   "cell_type": "markdown",
   "metadata": {},
   "source": [
    "Сегмент \"Требует активных действий\" можно приравнять к потенциально потерянным клиентам:\n",
    "1. Последние покупки были  в январе и феврале 2019 года.\n",
    "2. В эти 2 месяца было куплено около 10 позиций растений (каждый месяц)."
   ]
  },
  {
   "cell_type": "code",
   "execution_count": 50,
   "metadata": {},
   "outputs": [
    {
     "data": {
      "image/png": "[encoded data removed]",
      "text/plain": [
       "<Figure size 1800x720 with 1 Axes>"
      ]
     },
     "metadata": {
      "needs_background": "light"
     },
     "output_type": "display_data"
    }
   ],
   "source": [
    "#проверяем пользователей категории Требует внимания\n",
    "top_cat = df[df['client_level'] == 'Требует внимания']\n",
    "top_cat = top_cat.pivot_table(values='product', index='month_year', columns='category', aggfunc='count')\n",
    "\n",
    "(\n",
    "    top_cat\n",
    "    .plot\n",
    "    .bar(\n",
    "        stacked=True,\n",
    "        figsize=(25, 10),\n",
    "        title='Сезонность покупки категорий товаров для пользователей категории Требует внимания',\n",
    "        xlabel='Месяц',\n",
    "        ylabel='Количество товаров'\n",
    "    )\n",
    ");"
   ]
  },
  {
   "cell_type": "markdown",
   "metadata": {},
   "source": [
    "Ситуация с пользователями, требующими внимания, лучше, чем с предыдущими, однако, последний заказ был сделан в июле:\n",
    "1. С января по июнь 2019 количество купленных растений примерно одинаково.\n",
    "2. Чаще всего рассада покупалась в феврале, апреле и июне."
   ]
  },
  {
   "cell_type": "code",
   "execution_count": 51,
   "metadata": {},
   "outputs": [
    {
     "data": {
      "image/png": "[encoded data removed]",
      "text/plain": [
       "<Figure size 1800x720 with 1 Axes>"
      ]
     },
     "metadata": {
      "needs_background": "light"
     },
     "output_type": "display_data"
    }
   ],
   "source": [
    "#проверяем пользователей категории Чемпион\n",
    "top_cat = df[df['client_level'] == 'Чемпион']\n",
    "top_cat = top_cat.pivot_table(values='product', index='month_year', columns='category', aggfunc='count')\n",
    "\n",
    "(\n",
    "    top_cat\n",
    "    .plot\n",
    "    .bar(\n",
    "        stacked=True,\n",
    "        figsize=(25, 10),\n",
    "        title='Сезонность покупки категорий товаров для пользователей категории Чемпион',\n",
    "        xlabel='Месяц',\n",
    "        ylabel='Количество товаров'\n",
    "    )\n",
    ");"
   ]
  },
  {
   "cell_type": "markdown",
   "metadata": {},
   "source": [
    "Чемпионы - одни из лучших клиенты:\n",
    "1. Пик ихактивности приходится на апрель и май 2019 - в это время они активно закупаются рассадой и растениями.\n",
    "2. Хоз. товары популярны среди этих пользователей в июле и ноябре.\n",
    "3. Худшие показатели по продажам в январе 2019 и июне 2019."
   ]
  },
  {
   "cell_type": "markdown",
   "metadata": {},
   "source": [
    "### Проверка гипотез."
   ]
  },
  {
   "cell_type": "markdown",
   "metadata": {},
   "source": [
    "**Первая стат. гипотеза:**\n",
    "  - Н0 - Нет различий в величине среднего чека между кластерами, сформированными профилями потребления.\n",
    "  - Н1 - Различия в величине среднего чека между кластерами, сформированными профилями потребления, есть."
   ]
  },
  {
   "cell_type": "code",
   "execution_count": 52,
   "metadata": {},
   "outputs": [],
   "source": [
    "#следует определить уровень стат.значимости, используя метод Шидака\n",
    "#всего у нас может быть 21 сравнение 7 кластеров\n",
    "alpha = 0.05 # изначальный уровень статистической значимости\n",
    "\n",
    "alpha = 1 - (1 - 0.05)**(1/21) #уровень значимости для проверки наших гипотез"
   ]
  },
  {
   "cell_type": "code",
   "execution_count": 53,
   "metadata": {},
   "outputs": [
    {
     "name": "stdout",
     "output_type": "stream",
     "text": [
      "По результатам теста Манна-Уитни отвергаем нулевую гипотезу: разница статистически значима\n",
      "По результатам теста Манна-Уитни отвергаем нулевую гипотезу: разница статистически значима\n",
      "По результатам теста Манна-Уитни не получилось отвергнуть нулевую гипотезу, вывод о различии сделать нельзя\n",
      "По результатам теста Манна-Уитни отвергаем нулевую гипотезу: разница статистически значима\n",
      "По результатам теста Манна-Уитни отвергаем нулевую гипотезу: разница статистически значима\n",
      "По результатам теста Манна-Уитни отвергаем нулевую гипотезу: разница статистически значима\n",
      "По результатам теста Манна-Уитни не получилось отвергнуть нулевую гипотезу, вывод о различии сделать нельзя\n",
      "По результатам теста Манна-Уитни отвергаем нулевую гипотезу: разница статистически значима\n",
      "По результатам теста Манна-Уитни не получилось отвергнуть нулевую гипотезу, вывод о различии сделать нельзя\n",
      "По результатам теста Манна-Уитни отвергаем нулевую гипотезу: разница статистически значима\n",
      "По результатам теста Манна-Уитни отвергаем нулевую гипотезу: разница статистически значима\n",
      "По результатам теста Манна-Уитни отвергаем нулевую гипотезу: разница статистически значима\n",
      "По результатам теста Манна-Уитни не получилось отвергнуть нулевую гипотезу, вывод о различии сделать нельзя\n",
      "По результатам теста Манна-Уитни отвергаем нулевую гипотезу: разница статистически значима\n",
      "По результатам теста Манна-Уитни отвергаем нулевую гипотезу: разница статистически значима\n",
      "По результатам теста Манна-Уитни отвергаем нулевую гипотезу: разница статистически значима\n",
      "По результатам теста Манна-Уитни отвергаем нулевую гипотезу: разница статистически значима\n",
      "По результатам теста Манна-Уитни отвергаем нулевую гипотезу: разница статистически значима\n",
      "По результатам теста Манна-Уитни отвергаем нулевую гипотезу: разница статистически значима\n",
      "По результатам теста Манна-Уитни отвергаем нулевую гипотезу: разница статистически значима\n",
      "По результатам теста Манна-Уитни отвергаем нулевую гипотезу: разница статистически значима\n"
     ]
    }
   ],
   "source": [
    "#проверим все получившиеся кластеры между собой\n",
    "category1 = df[df['client_level'] == 'Нельзя терять'].groupby('order_id')['total'].sum()\n",
    "category2 = df[df['client_level'] == 'Чемпион'].groupby('order_id')['total'].sum()\n",
    "category3 = df[df['client_level'] == 'Лояльный'].groupby('order_id')['total'].sum()\n",
    "category4 = df[df['client_level'] == 'Потенциально лояльный'].groupby('order_id')['total'].sum()\n",
    "category5 = df[df['client_level'] == 'Многообещающий'].groupby('order_id')['total'].sum()\n",
    "category6 = df[df['client_level'] == 'Требует внимания'].groupby('order_id')['total'].sum()\n",
    "category7 = df[df['client_level'] == 'Требует активных действий'].groupby('order_id')['total'].sum()\n",
    "\n",
    "categories = [category1, category2, category3, category4, category5, category6, category7]\n",
    "names = ['Нельзя терять', 'Чемпион', 'Лояльный', 'Потенциально лояльный', 'Многообещающий', 'Требует внимания', 'Требует активных действий']\n",
    "\n",
    "p_values = []\n",
    "for col_name1 in range(len(categories)):\n",
    "    for col_name2 in range(col_name1+1, len(categories)):\n",
    "        statistic, p_value = st.mannwhitneyu(categories[col_name1], categories[col_name2])\n",
    "        p_values.append(p_value)\n",
    "        \n",
    "for i in p_values:\n",
    "    if i < alpha:\n",
    "        print('По результатам теста Манна-Уитни отвергаем нулевую гипотезу: разница статистически значима')\n",
    "    else:\n",
    "        print('По результатам теста Манна-Уитни не получилось отвергнуть нулевую гипотезу, вывод о различии сделать нельзя') \n"
   ]
  },
  {
   "cell_type": "markdown",
   "metadata": {},
   "source": [
    "17 из 21 теста показали, что разница между кластерами статистически значима. Таким образом, больше 80% теста говорит о том, что кластеры разделены корректно."
   ]
  },
  {
   "cell_type": "markdown",
   "metadata": {},
   "source": [
    "**Вторая стат. гипотеза:**\n",
    "  - Н0 - Нет различий в количестве товарных единиц в заказах между кластерами, сформированными профилями потребления.\n",
    "  - Н1 - Различия в количестве товарных единиц в заказах между кластерами, сформированными профилями потребления, есть."
   ]
  },
  {
   "cell_type": "code",
   "execution_count": 54,
   "metadata": {},
   "outputs": [
    {
     "name": "stdout",
     "output_type": "stream",
     "text": [
      "По результатам теста Манна-Уитни не получилось отвергнуть нулевую гипотезу, вывод о различии сделать нельзя\n",
      "По результатам теста Манна-Уитни отвергаем нулевую гипотезу: разница статистически значима\n",
      "По результатам теста Манна-Уитни отвергаем нулевую гипотезу: разница статистически значима\n",
      "По результатам теста Манна-Уитни отвергаем нулевую гипотезу: разница статистически значима\n",
      "По результатам теста Манна-Уитни отвергаем нулевую гипотезу: разница статистически значима\n",
      "По результатам теста Манна-Уитни отвергаем нулевую гипотезу: разница статистически значима\n",
      "По результатам теста Манна-Уитни отвергаем нулевую гипотезу: разница статистически значима\n",
      "По результатам теста Манна-Уитни отвергаем нулевую гипотезу: разница статистически значима\n",
      "По результатам теста Манна-Уитни отвергаем нулевую гипотезу: разница статистически значима\n",
      "По результатам теста Манна-Уитни отвергаем нулевую гипотезу: разница статистически значима\n",
      "По результатам теста Манна-Уитни отвергаем нулевую гипотезу: разница статистически значима\n",
      "По результатам теста Манна-Уитни отвергаем нулевую гипотезу: разница статистически значима\n",
      "По результатам теста Манна-Уитни отвергаем нулевую гипотезу: разница статистически значима\n",
      "По результатам теста Манна-Уитни отвергаем нулевую гипотезу: разница статистически значима\n",
      "По результатам теста Манна-Уитни отвергаем нулевую гипотезу: разница статистически значима\n",
      "По результатам теста Манна-Уитни не получилось отвергнуть нулевую гипотезу, вывод о различии сделать нельзя\n",
      "По результатам теста Манна-Уитни не получилось отвергнуть нулевую гипотезу, вывод о различии сделать нельзя\n",
      "По результатам теста Манна-Уитни не получилось отвергнуть нулевую гипотезу, вывод о различии сделать нельзя\n",
      "По результатам теста Манна-Уитни не получилось отвергнуть нулевую гипотезу, вывод о различии сделать нельзя\n",
      "По результатам теста Манна-Уитни не получилось отвергнуть нулевую гипотезу, вывод о различии сделать нельзя\n",
      "По результатам теста Манна-Уитни не получилось отвергнуть нулевую гипотезу, вывод о различии сделать нельзя\n"
     ]
    }
   ],
   "source": [
    "#проверим все получившиеся кластеры между собой\n",
    "category1 = df[df['client_level'] == 'Нельзя терять'].groupby('order_id')['quantity'].sum()\n",
    "category2 = df[df['client_level'] == 'Чемпион'].groupby('order_id')['quantity'].sum()\n",
    "category3 = df[df['client_level'] == 'Лояльный'].groupby('order_id')['quantity'].sum()\n",
    "category4 = df[df['client_level'] == 'Потенциально лояльный'].groupby('order_id')['quantity'].sum()\n",
    "category5 = df[df['client_level'] == 'Многообещающий'].groupby('order_id')['quantity'].sum()\n",
    "category6 = df[df['client_level'] == 'Требует внимания'].groupby('order_id')['quantity'].sum()\n",
    "category7 = df[df['client_level'] == 'Требует активных действий'].groupby('order_id')['quantity'].sum()\n",
    "\n",
    "categories = [category1, category2, category3, category4, category5, category6, category7]\n",
    "names = ['Нельзя терять', 'Чемпион', 'Лояльный', 'Потенциально лояльный', 'Многообещающий', 'Требует внимания', 'Требует активных действий']\n",
    "\n",
    "p_values = []\n",
    "for col_name1 in range(len(categories)):\n",
    "    for col_name2 in range(col_name1+1, len(categories)):\n",
    "        statistic, p_value = st.mannwhitneyu(categories[col_name1], categories[col_name2])\n",
    "        p_values.append(p_value)\n",
    "        \n",
    "for i in p_values:\n",
    "    if i < alpha:\n",
    "        print('По результатам теста Манна-Уитни отвергаем нулевую гипотезу: разница статистически значима')\n",
    "    else:\n",
    "        print('По результатам теста Манна-Уитни не получилось отвергнуть нулевую гипотезу, вывод о различии сделать нельзя') \n",
    "\n"
   ]
  },
  {
   "cell_type": "markdown",
   "metadata": {},
   "source": [
    "По результатам стат.анализа кластеров 14 из 21 показал, что разница статистически значима - это более 66%."
   ]
  },
  {
   "cell_type": "markdown",
   "metadata": {},
   "source": [
    "### Итоговый вывод."
   ]
  },
  {
   "cell_type": "markdown",
   "metadata": {},
   "source": [
    "Целью настоящего ислледования было выявление профилей потребления, определения в соответствии с созданными кластерами популярных товаров и отслеживание их сезонности.\n",
    "\n",
    "Для решения поставленной задачи был проанализирован датасет, содержащий 5607 событий, в которых содержится информация по 2450 уникальным клиентам и 3519 уникальным заказам.\n",
    "\n",
    "Согласно проведенной сегментации всех клиентов разделены следующим образом:\n",
    "1. **Нельзя терять**: 438 пользователей. Они покупали недеавно, покупают часто и больше всех. \n",
    "    - Для удержания таких клиентов, согласно проведенному анализу, следует награждать их и сделать из них фокус группу для нового продукта: в начинающимся 2020 году активно покупают абсолютно все категории товаров. Однако, следует обратить внимание на тенденции 2019 года - к апрелю и маю спрос на рассаду повысился, второй по популярности категорией товаров были растения.\n",
    "2. **Чемпионы**: 296 пользователей. Делают частые покупки на крупные суммы, хорошо реагируют на рекламу. \n",
    "    - Для таких клиентов следует также таргетировать рекламу, в частности, рекламу растений и рассады. Так как результаты января 2020 года лучше, чем января 2019, следует предлагать более дорогие позиции из-за их повышенной лояльности и по той же причине оставлять отзывы в социальных сетях и интернете.\n",
    "3. **Лояльные**: 369 пользователей. Уровень давности чуть выше среднего, частота и сумма покупок на среднем уровне. \n",
    "    - Можно предлагать ограниченные по времени оферы. Рекомендовать товары на основе прошлых покупок. Стоит учитывать данные за 2019 год и их повышенный спрос в отношении растений и рассады. Также эти клиенты на протяжении всего времени в одинаковом количестве покупают хоз.товары.\n",
    "4. **Потенциально лояльные**: 417 пользователей. Близки к лояльным, однако, уровень давности немного выше, а частота ниже.\n",
    "    - Нет данных о покупках за декабрь 2019 года вообще, в январе 2020 покупки на крайне низких отметках. Чтобы не упустить пользователей и сделать из них лояльных, требуется их реактивировать - предлагать уникальные акции и бесплатные пробники. Согласно данным, в прошлом году больше всего их интересовали растения, рассада и хоз. товары.\n",
    "5. **Многообещающий**: 469 пользователей. Покупали примерно так же давно, как и потенциально лояльные, но не на крупные суммы.\n",
    "    - Пользователи не совершали покупок с октября 2019 года, но до этого времени у них пользовались популярностью растения и хоз. товары. Следует их \"разбудить\" путем скидок и промокодов, тем самым увеличив уровень их покупательской способности.\n",
    "6. **Требующий внимания**: 313 пользователей. Ранее совершали покупки, но давно не появлявшиеся.\n",
    "    - Последняя покупка была почти год назад. Возможно, стоит отправлять персонализированные имейлы, чтобы возобновить связь с клиентом, предлагать попробовать товар еще раз, предоставить полезную информацию. Лучше всего в имейлах предоставлять информацию по растениям - наиболее популярные товары на протяжении всей жизни данного кластера пользователей.\n",
    "7. **Требующие активных действий**: 148 пользователей. Последняя покупка была очень давно. Также низкие чек и количество покупок.\n",
    "    - В качестве рекомендаций можно также на основе предыдущих покупок предложить пользователям специальные скидки и предложения. Однако, последняя покупка была в феврая 2019 года, было куплено немного товаров и на маленький чек. По этой причине, следует оценить, насколько затратно рассылать персонализированные имейлы этому кластеру в соответствии с потенциальной выручкой."
   ]
  }
 ],
 "metadata": {
  "ExecuteTimeLog": [
   {
    "duration": 456,
    "start_time": "2023-05-17T13:07:41.517Z"
   },
   {
    "duration": 1984,
    "start_time": "2023-05-17T13:08:01.848Z"
   },
   {
    "duration": 32,
    "start_time": "2023-05-17T13:08:21.439Z"
   },
   {
    "duration": 23,
    "start_time": "2023-05-17T13:08:43.168Z"
   },
   {
    "duration": 6,
    "start_time": "2023-05-17T13:09:02.795Z"
   },
   {
    "duration": 20,
    "start_time": "2023-05-17T13:14:26.314Z"
   },
   {
    "duration": 14,
    "start_time": "2023-05-17T13:14:33.124Z"
   },
   {
    "duration": 15,
    "start_time": "2023-05-17T13:14:42.727Z"
   },
   {
    "duration": 10,
    "start_time": "2023-05-17T13:14:44.683Z"
   },
   {
    "duration": 54,
    "start_time": "2023-05-17T13:15:05.211Z"
   },
   {
    "duration": 12,
    "start_time": "2023-05-17T13:15:05.845Z"
   },
   {
    "duration": 1291,
    "start_time": "2023-05-17T13:16:56.914Z"
   },
   {
    "duration": 11,
    "start_time": "2023-05-17T13:17:00.490Z"
   },
   {
    "duration": 21,
    "start_time": "2023-05-17T13:17:01.670Z"
   },
   {
    "duration": 12,
    "start_time": "2023-05-17T13:17:15.939Z"
   },
   {
    "duration": 40,
    "start_time": "2023-05-17T13:17:24.838Z"
   },
   {
    "duration": 19,
    "start_time": "2023-05-17T13:17:43.334Z"
   },
   {
    "duration": 12,
    "start_time": "2023-05-17T13:17:44.084Z"
   },
   {
    "duration": 6,
    "start_time": "2023-05-17T13:17:49.118Z"
   },
   {
    "duration": 12,
    "start_time": "2023-05-17T13:18:23.722Z"
   },
   {
    "duration": 24,
    "start_time": "2023-05-17T13:19:01.334Z"
   },
   {
    "duration": 461,
    "start_time": "2023-05-17T13:19:21.564Z"
   },
   {
    "duration": 1529,
    "start_time": "2023-05-17T13:19:22.029Z"
   },
   {
    "duration": 22,
    "start_time": "2023-05-17T13:19:23.560Z"
   },
   {
    "duration": 28,
    "start_time": "2023-05-17T13:19:23.584Z"
   },
   {
    "duration": 26,
    "start_time": "2023-05-17T13:19:23.615Z"
   },
   {
    "duration": 42,
    "start_time": "2023-05-17T13:19:23.643Z"
   },
   {
    "duration": 24,
    "start_time": "2023-05-17T13:19:23.688Z"
   },
   {
    "duration": 63,
    "start_time": "2023-05-17T15:12:18.834Z"
   },
   {
    "duration": 442,
    "start_time": "2023-05-17T15:12:35.749Z"
   },
   {
    "duration": 1674,
    "start_time": "2023-05-17T15:12:36.194Z"
   },
   {
    "duration": 18,
    "start_time": "2023-05-17T15:12:37.869Z"
   },
   {
    "duration": 33,
    "start_time": "2023-05-17T15:12:37.894Z"
   },
   {
    "duration": 11,
    "start_time": "2023-05-17T15:12:37.929Z"
   },
   {
    "duration": 16,
    "start_time": "2023-05-17T15:12:37.942Z"
   },
   {
    "duration": 41,
    "start_time": "2023-05-17T15:12:37.960Z"
   },
   {
    "duration": 93,
    "start_time": "2023-05-17T15:12:38.003Z"
   },
   {
    "duration": 14,
    "start_time": "2023-05-17T15:19:00.078Z"
   },
   {
    "duration": 17,
    "start_time": "2023-05-17T15:48:10.343Z"
   },
   {
    "duration": 14,
    "start_time": "2023-05-17T15:48:27.944Z"
   },
   {
    "duration": 503,
    "start_time": "2023-05-18T10:19:02.372Z"
   },
   {
    "duration": 1596,
    "start_time": "2023-05-18T10:19:02.877Z"
   },
   {
    "duration": 28,
    "start_time": "2023-05-18T10:19:04.478Z"
   },
   {
    "duration": 24,
    "start_time": "2023-05-18T10:19:04.510Z"
   },
   {
    "duration": 7,
    "start_time": "2023-05-18T10:19:04.537Z"
   },
   {
    "duration": 17,
    "start_time": "2023-05-18T10:19:04.546Z"
   },
   {
    "duration": 36,
    "start_time": "2023-05-18T10:19:04.565Z"
   },
   {
    "duration": 23,
    "start_time": "2023-05-18T10:19:04.605Z"
   },
   {
    "duration": 151,
    "start_time": "2023-05-18T10:19:28.034Z"
   },
   {
    "duration": 37,
    "start_time": "2023-05-18T10:20:02.170Z"
   },
   {
    "duration": 42,
    "start_time": "2023-05-18T10:20:47.795Z"
   },
   {
    "duration": 20,
    "start_time": "2023-05-18T10:21:35.473Z"
   },
   {
    "duration": 20,
    "start_time": "2023-05-18T10:43:50.353Z"
   },
   {
    "duration": 11,
    "start_time": "2023-05-18T10:45:44.707Z"
   },
   {
    "duration": 583,
    "start_time": "2023-05-18T10:46:16.594Z"
   },
   {
    "duration": 116,
    "start_time": "2023-05-18T10:46:29.264Z"
   },
   {
    "duration": 3,
    "start_time": "2023-05-18T10:46:55.721Z"
   },
   {
    "duration": 139,
    "start_time": "2023-05-18T10:47:56.275Z"
   },
   {
    "duration": 120,
    "start_time": "2023-05-18T10:48:08.967Z"
   },
   {
    "duration": 217,
    "start_time": "2023-05-18T10:48:23.425Z"
   },
   {
    "duration": 156,
    "start_time": "2023-05-18T10:48:55.664Z"
   },
   {
    "duration": 12,
    "start_time": "2023-05-18T11:12:31.892Z"
   },
   {
    "duration": 70,
    "start_time": "2023-05-18T11:12:39.873Z"
   },
   {
    "duration": 11,
    "start_time": "2023-05-18T11:12:43.391Z"
   },
   {
    "duration": 17,
    "start_time": "2023-05-18T11:14:30.192Z"
   },
   {
    "duration": 6,
    "start_time": "2023-05-18T11:14:48.117Z"
   },
   {
    "duration": 15,
    "start_time": "2023-05-18T11:15:13.560Z"
   },
   {
    "duration": 149,
    "start_time": "2023-05-18T11:16:03.491Z"
   },
   {
    "duration": 9,
    "start_time": "2023-05-18T11:18:03.651Z"
   },
   {
    "duration": 152,
    "start_time": "2023-05-18T11:18:30.251Z"
   },
   {
    "duration": 9,
    "start_time": "2023-05-18T11:21:50.881Z"
   },
   {
    "duration": 24,
    "start_time": "2023-05-18T11:22:03.476Z"
   },
   {
    "duration": 6,
    "start_time": "2023-05-18T11:22:07.356Z"
   },
   {
    "duration": 674,
    "start_time": "2023-05-18T11:22:22.747Z"
   },
   {
    "duration": 1324,
    "start_time": "2023-05-18T11:22:23.423Z"
   },
   {
    "duration": 12,
    "start_time": "2023-05-18T11:22:24.749Z"
   },
   {
    "duration": 16,
    "start_time": "2023-05-18T11:22:24.764Z"
   },
   {
    "duration": 7,
    "start_time": "2023-05-18T11:22:24.789Z"
   },
   {
    "duration": 13,
    "start_time": "2023-05-18T11:22:24.797Z"
   },
   {
    "duration": 20,
    "start_time": "2023-05-18T11:22:24.811Z"
   },
   {
    "duration": 23,
    "start_time": "2023-05-18T11:22:24.833Z"
   },
   {
    "duration": 10,
    "start_time": "2023-05-18T11:22:24.858Z"
   },
   {
    "duration": 151,
    "start_time": "2023-05-18T11:22:24.870Z"
   },
   {
    "duration": 5,
    "start_time": "2023-05-18T11:22:25.023Z"
   },
   {
    "duration": 162,
    "start_time": "2023-05-18T11:22:25.030Z"
   },
   {
    "duration": 6,
    "start_time": "2023-05-18T11:23:01.943Z"
   },
   {
    "duration": 5,
    "start_time": "2023-05-18T11:32:40.443Z"
   },
   {
    "duration": 121,
    "start_time": "2023-05-18T11:32:48.737Z"
   },
   {
    "duration": 15,
    "start_time": "2023-05-18T11:34:06.355Z"
   },
   {
    "duration": 21,
    "start_time": "2023-05-18T11:34:55.563Z"
   },
   {
    "duration": 16,
    "start_time": "2023-05-18T11:35:14.343Z"
   },
   {
    "duration": 3,
    "start_time": "2023-05-18T11:35:41.109Z"
   },
   {
    "duration": 88,
    "start_time": "2023-05-18T11:35:45.943Z"
   },
   {
    "duration": 8,
    "start_time": "2023-05-18T11:35:58.139Z"
   },
   {
    "duration": 680,
    "start_time": "2023-05-18T11:36:06.766Z"
   },
   {
    "duration": 2743,
    "start_time": "2023-05-18T11:36:07.449Z"
   },
   {
    "duration": 12,
    "start_time": "2023-05-18T11:36:10.194Z"
   },
   {
    "duration": 13,
    "start_time": "2023-05-18T11:36:10.208Z"
   },
   {
    "duration": 17,
    "start_time": "2023-05-18T11:36:10.223Z"
   },
   {
    "duration": 12,
    "start_time": "2023-05-18T11:36:10.242Z"
   },
   {
    "duration": 27,
    "start_time": "2023-05-18T11:36:10.256Z"
   },
   {
    "duration": 10,
    "start_time": "2023-05-18T11:36:10.285Z"
   },
   {
    "duration": 8,
    "start_time": "2023-05-18T11:36:10.297Z"
   },
   {
    "duration": 162,
    "start_time": "2023-05-18T11:36:10.307Z"
   },
   {
    "duration": 12,
    "start_time": "2023-05-18T11:36:10.470Z"
   },
   {
    "duration": 150,
    "start_time": "2023-05-18T11:36:10.485Z"
   },
   {
    "duration": 5,
    "start_time": "2023-05-18T11:36:10.638Z"
   },
   {
    "duration": 41,
    "start_time": "2023-05-18T11:36:10.644Z"
   },
   {
    "duration": 36,
    "start_time": "2023-05-18T11:54:51.884Z"
   },
   {
    "duration": 12,
    "start_time": "2023-05-18T11:55:02.105Z"
   },
   {
    "duration": 24,
    "start_time": "2023-05-18T11:55:11.731Z"
   },
   {
    "duration": 26,
    "start_time": "2023-05-18T11:57:38.302Z"
   },
   {
    "duration": 19,
    "start_time": "2023-05-18T11:57:45.443Z"
   },
   {
    "duration": 28,
    "start_time": "2023-05-18T11:58:04.355Z"
   },
   {
    "duration": 3,
    "start_time": "2023-05-18T12:01:25.436Z"
   },
   {
    "duration": 795,
    "start_time": "2023-05-18T16:20:07.920Z"
   },
   {
    "duration": 1592,
    "start_time": "2023-05-18T16:20:08.717Z"
   },
   {
    "duration": 12,
    "start_time": "2023-05-18T16:20:10.311Z"
   },
   {
    "duration": 13,
    "start_time": "2023-05-18T16:20:10.325Z"
   },
   {
    "duration": 4,
    "start_time": "2023-05-18T16:20:10.340Z"
   },
   {
    "duration": 14,
    "start_time": "2023-05-18T16:20:10.345Z"
   },
   {
    "duration": 33,
    "start_time": "2023-05-18T16:20:10.360Z"
   },
   {
    "duration": 9,
    "start_time": "2023-05-18T16:20:10.394Z"
   },
   {
    "duration": 9,
    "start_time": "2023-05-18T16:20:10.412Z"
   },
   {
    "duration": 158,
    "start_time": "2023-05-18T16:20:10.423Z"
   },
   {
    "duration": 6,
    "start_time": "2023-05-18T16:20:10.586Z"
   },
   {
    "duration": 132,
    "start_time": "2023-05-18T16:20:10.594Z"
   },
   {
    "duration": 5,
    "start_time": "2023-05-18T16:20:10.727Z"
   },
   {
    "duration": 16,
    "start_time": "2023-05-18T16:20:10.734Z"
   },
   {
    "duration": 2,
    "start_time": "2023-05-18T16:20:10.752Z"
   },
   {
    "duration": 3,
    "start_time": "2023-05-18T16:20:17.606Z"
   },
   {
    "duration": 7,
    "start_time": "2023-05-18T16:21:08.520Z"
   },
   {
    "duration": 5,
    "start_time": "2023-05-18T16:22:46.740Z"
   },
   {
    "duration": 15,
    "start_time": "2023-05-18T16:24:26.849Z"
   },
   {
    "duration": 949,
    "start_time": "2023-05-22T13:18:47.403Z"
   },
   {
    "duration": 4565,
    "start_time": "2023-05-22T13:18:48.357Z"
   },
   {
    "duration": 14,
    "start_time": "2023-05-22T13:18:52.924Z"
   },
   {
    "duration": 33,
    "start_time": "2023-05-22T13:18:52.940Z"
   },
   {
    "duration": 57,
    "start_time": "2023-05-22T13:18:52.975Z"
   },
   {
    "duration": 53,
    "start_time": "2023-05-22T13:18:53.034Z"
   },
   {
    "duration": 11,
    "start_time": "2023-05-22T13:18:53.090Z"
   },
   {
    "duration": 14,
    "start_time": "2023-05-22T13:18:53.102Z"
   },
   {
    "duration": 13,
    "start_time": "2023-05-22T13:18:53.118Z"
   },
   {
    "duration": 205,
    "start_time": "2023-05-22T13:18:53.135Z"
   },
   {
    "duration": 28,
    "start_time": "2023-05-22T13:18:53.341Z"
   },
   {
    "duration": 205,
    "start_time": "2023-05-22T13:18:53.375Z"
   },
   {
    "duration": 6,
    "start_time": "2023-05-22T13:18:53.581Z"
   },
   {
    "duration": 26,
    "start_time": "2023-05-22T13:18:53.590Z"
   },
   {
    "duration": 3,
    "start_time": "2023-05-22T13:18:53.617Z"
   },
   {
    "duration": 20,
    "start_time": "2023-05-22T13:18:53.621Z"
   },
   {
    "duration": 38,
    "start_time": "2023-05-22T13:18:53.642Z"
   },
   {
    "duration": 12,
    "start_time": "2023-05-22T13:18:53.688Z"
   },
   {
    "duration": 30,
    "start_time": "2023-05-22T13:18:53.702Z"
   },
   {
    "duration": 102,
    "start_time": "2023-05-22T13:21:40.628Z"
   },
   {
    "duration": 24,
    "start_time": "2023-05-22T13:21:52.318Z"
   },
   {
    "duration": 11,
    "start_time": "2023-05-22T13:22:15.112Z"
   },
   {
    "duration": 4,
    "start_time": "2023-05-22T13:22:30.203Z"
   },
   {
    "duration": 345,
    "start_time": "2023-05-22T13:22:39.701Z"
   },
   {
    "duration": 14,
    "start_time": "2023-05-22T13:22:46.412Z"
   },
   {
    "duration": 22,
    "start_time": "2023-05-22T13:24:06.194Z"
   },
   {
    "duration": 10,
    "start_time": "2023-05-22T13:24:19.056Z"
   },
   {
    "duration": 18,
    "start_time": "2023-05-22T13:24:24.988Z"
   },
   {
    "duration": 9,
    "start_time": "2023-05-22T13:25:49.984Z"
   },
   {
    "duration": 13,
    "start_time": "2023-05-22T13:25:58.780Z"
   },
   {
    "duration": 6,
    "start_time": "2023-05-22T13:27:03.328Z"
   },
   {
    "duration": 12,
    "start_time": "2023-05-22T13:27:07.637Z"
   },
   {
    "duration": 22,
    "start_time": "2023-05-22T13:28:47.746Z"
   },
   {
    "duration": 13,
    "start_time": "2023-05-22T13:28:52.327Z"
   },
   {
    "duration": 17,
    "start_time": "2023-05-22T13:29:00.782Z"
   },
   {
    "duration": 15,
    "start_time": "2023-05-22T13:29:03.421Z"
   },
   {
    "duration": 13,
    "start_time": "2023-05-22T13:29:11.000Z"
   },
   {
    "duration": 16,
    "start_time": "2023-05-22T13:29:51.184Z"
   },
   {
    "duration": 14,
    "start_time": "2023-05-22T13:29:58.794Z"
   },
   {
    "duration": 20,
    "start_time": "2023-05-22T13:38:16.750Z"
   },
   {
    "duration": 38,
    "start_time": "2023-05-22T13:39:31.876Z"
   },
   {
    "duration": 25,
    "start_time": "2023-05-22T13:39:44.376Z"
   },
   {
    "duration": 25,
    "start_time": "2023-05-22T13:39:50.888Z"
   },
   {
    "duration": 39,
    "start_time": "2023-05-22T13:40:03.851Z"
   },
   {
    "duration": 26,
    "start_time": "2023-05-22T13:40:24.487Z"
   },
   {
    "duration": 22,
    "start_time": "2023-05-22T13:40:48.603Z"
   },
   {
    "duration": 24,
    "start_time": "2023-05-22T13:41:07.993Z"
   },
   {
    "duration": 26,
    "start_time": "2023-05-22T13:41:57.930Z"
   },
   {
    "duration": 16,
    "start_time": "2023-05-22T13:42:06.410Z"
   },
   {
    "duration": 28,
    "start_time": "2023-05-22T13:42:14.493Z"
   },
   {
    "duration": 36,
    "start_time": "2023-05-22T14:00:10.839Z"
   },
   {
    "duration": 21,
    "start_time": "2023-05-22T14:02:46.796Z"
   },
   {
    "duration": 21,
    "start_time": "2023-05-22T14:02:51.025Z"
   },
   {
    "duration": 10,
    "start_time": "2023-05-22T14:04:18.543Z"
   },
   {
    "duration": 23,
    "start_time": "2023-05-22T14:04:24.943Z"
   },
   {
    "duration": 12,
    "start_time": "2023-05-22T14:37:32.914Z"
   },
   {
    "duration": 7,
    "start_time": "2023-05-22T14:40:07.897Z"
   },
   {
    "duration": 217,
    "start_time": "2023-05-22T14:40:35.948Z"
   },
   {
    "duration": 16,
    "start_time": "2023-05-22T15:29:03.930Z"
   },
   {
    "duration": 17,
    "start_time": "2023-05-22T15:29:23.945Z"
   },
   {
    "duration": 12,
    "start_time": "2023-05-22T15:29:29.978Z"
   },
   {
    "duration": 16,
    "start_time": "2023-05-22T15:29:37.081Z"
   },
   {
    "duration": 20,
    "start_time": "2023-05-22T15:30:02.280Z"
   },
   {
    "duration": 16,
    "start_time": "2023-05-22T15:30:24.018Z"
   },
   {
    "duration": 8,
    "start_time": "2023-05-22T15:34:07.474Z"
   },
   {
    "duration": 9,
    "start_time": "2023-05-22T15:34:10.383Z"
   },
   {
    "duration": 1031,
    "start_time": "2023-05-22T15:35:02.697Z"
   },
   {
    "duration": 5,
    "start_time": "2023-05-22T15:35:12.923Z"
   },
   {
    "duration": 36,
    "start_time": "2023-05-22T15:40:11.437Z"
   },
   {
    "duration": 10,
    "start_time": "2023-05-22T15:43:39.852Z"
   },
   {
    "duration": 8,
    "start_time": "2023-05-22T15:45:09.018Z"
   },
   {
    "duration": 10,
    "start_time": "2023-05-22T15:45:37.141Z"
   },
   {
    "duration": 7,
    "start_time": "2023-05-22T15:45:47.045Z"
   },
   {
    "duration": 7,
    "start_time": "2023-05-22T15:45:59.322Z"
   },
   {
    "duration": 7,
    "start_time": "2023-05-22T15:46:03.027Z"
   },
   {
    "duration": 10,
    "start_time": "2023-05-22T15:46:09.425Z"
   },
   {
    "duration": 9,
    "start_time": "2023-05-22T15:46:51.933Z"
   },
   {
    "duration": 751,
    "start_time": "2023-05-23T11:22:40.688Z"
   },
   {
    "duration": 4195,
    "start_time": "2023-05-23T11:22:41.442Z"
   },
   {
    "duration": 13,
    "start_time": "2023-05-23T11:22:45.638Z"
   },
   {
    "duration": 23,
    "start_time": "2023-05-23T11:22:45.652Z"
   },
   {
    "duration": 15,
    "start_time": "2023-05-23T11:22:45.677Z"
   },
   {
    "duration": 17,
    "start_time": "2023-05-23T11:22:45.694Z"
   },
   {
    "duration": 14,
    "start_time": "2023-05-23T11:22:45.713Z"
   },
   {
    "duration": 9,
    "start_time": "2023-05-23T11:22:45.730Z"
   },
   {
    "duration": 10,
    "start_time": "2023-05-23T11:22:45.741Z"
   },
   {
    "duration": 153,
    "start_time": "2023-05-23T11:22:45.753Z"
   },
   {
    "duration": 5,
    "start_time": "2023-05-23T11:22:45.908Z"
   },
   {
    "duration": 137,
    "start_time": "2023-05-23T11:22:45.914Z"
   },
   {
    "duration": 5,
    "start_time": "2023-05-23T11:22:46.052Z"
   },
   {
    "duration": 18,
    "start_time": "2023-05-23T11:22:46.059Z"
   },
   {
    "duration": 3,
    "start_time": "2023-05-23T11:22:46.078Z"
   },
   {
    "duration": 26,
    "start_time": "2023-05-23T11:22:46.082Z"
   },
   {
    "duration": 9,
    "start_time": "2023-05-23T11:22:46.109Z"
   },
   {
    "duration": 12,
    "start_time": "2023-05-23T11:22:46.119Z"
   },
   {
    "duration": 23,
    "start_time": "2023-05-23T11:22:46.132Z"
   },
   {
    "duration": 12,
    "start_time": "2023-05-23T11:22:46.156Z"
   },
   {
    "duration": 6,
    "start_time": "2023-05-23T11:22:46.169Z"
   },
   {
    "duration": 6,
    "start_time": "2023-05-23T11:22:46.176Z"
   },
   {
    "duration": 5,
    "start_time": "2023-05-23T11:25:02.521Z"
   },
   {
    "duration": 8,
    "start_time": "2023-05-23T11:25:31.879Z"
   },
   {
    "duration": 14,
    "start_time": "2023-05-23T11:27:04.463Z"
   },
   {
    "duration": 7,
    "start_time": "2023-05-23T11:27:37.220Z"
   },
   {
    "duration": 18,
    "start_time": "2023-05-23T11:27:42.797Z"
   },
   {
    "duration": 11,
    "start_time": "2023-05-23T11:29:02.506Z"
   },
   {
    "duration": 3,
    "start_time": "2023-05-23T12:13:36.082Z"
   },
   {
    "duration": 114,
    "start_time": "2023-05-23T12:23:22.484Z"
   },
   {
    "duration": 3,
    "start_time": "2023-05-23T12:24:41.468Z"
   },
   {
    "duration": 665,
    "start_time": "2023-05-23T12:26:31.543Z"
   },
   {
    "duration": 3,
    "start_time": "2023-05-23T12:27:01.149Z"
   },
   {
    "duration": 65,
    "start_time": "2023-05-23T12:27:18.361Z"
   },
   {
    "duration": 10,
    "start_time": "2023-05-23T12:28:40.187Z"
   },
   {
    "duration": 16,
    "start_time": "2023-05-23T13:26:23.580Z"
   },
   {
    "duration": 2,
    "start_time": "2023-05-23T13:30:48.560Z"
   },
   {
    "duration": 111,
    "start_time": "2023-05-23T13:30:53.874Z"
   },
   {
    "duration": 86,
    "start_time": "2023-05-23T13:32:02.578Z"
   },
   {
    "duration": 7,
    "start_time": "2023-05-23T13:33:55.640Z"
   },
   {
    "duration": 72,
    "start_time": "2023-05-23T13:33:57.996Z"
   },
   {
    "duration": 124,
    "start_time": "2023-05-23T13:34:01.618Z"
   },
   {
    "duration": 69,
    "start_time": "2023-05-23T13:34:15.798Z"
   },
   {
    "duration": 123,
    "start_time": "2023-05-23T13:34:26.894Z"
   },
   {
    "duration": 65,
    "start_time": "2023-05-23T13:37:09.390Z"
   },
   {
    "duration": 125,
    "start_time": "2023-05-23T13:37:13.033Z"
   },
   {
    "duration": 5,
    "start_time": "2023-05-23T13:39:30.979Z"
   },
   {
    "duration": 575,
    "start_time": "2023-05-23T13:46:17.881Z"
   },
   {
    "duration": 1144,
    "start_time": "2023-05-23T13:46:18.458Z"
   },
   {
    "duration": 12,
    "start_time": "2023-05-23T13:46:19.603Z"
   },
   {
    "duration": 11,
    "start_time": "2023-05-23T13:46:19.616Z"
   },
   {
    "duration": 6,
    "start_time": "2023-05-23T13:46:19.629Z"
   },
   {
    "duration": 14,
    "start_time": "2023-05-23T13:46:19.637Z"
   },
   {
    "duration": 19,
    "start_time": "2023-05-23T13:46:19.652Z"
   },
   {
    "duration": 9,
    "start_time": "2023-05-23T13:46:19.672Z"
   },
   {
    "duration": 24,
    "start_time": "2023-05-23T13:46:19.682Z"
   },
   {
    "duration": 130,
    "start_time": "2023-05-23T13:46:19.708Z"
   },
   {
    "duration": 5,
    "start_time": "2023-05-23T13:46:19.839Z"
   },
   {
    "duration": 130,
    "start_time": "2023-05-23T13:46:19.846Z"
   },
   {
    "duration": 5,
    "start_time": "2023-05-23T13:46:19.977Z"
   },
   {
    "duration": 46,
    "start_time": "2023-05-23T13:46:19.985Z"
   },
   {
    "duration": 64,
    "start_time": "2023-05-23T13:46:20.033Z"
   },
   {
    "duration": 2,
    "start_time": "2023-05-23T13:46:20.098Z"
   },
   {
    "duration": 33,
    "start_time": "2023-05-23T13:46:20.102Z"
   },
   {
    "duration": 11,
    "start_time": "2023-05-23T13:46:20.137Z"
   },
   {
    "duration": 14,
    "start_time": "2023-05-23T13:46:20.150Z"
   },
   {
    "duration": 26,
    "start_time": "2023-05-23T13:46:20.165Z"
   },
   {
    "duration": 66,
    "start_time": "2023-05-23T13:46:20.192Z"
   },
   {
    "duration": 1034,
    "start_time": "2023-05-23T13:46:20.259Z"
   },
   {
    "duration": 61,
    "start_time": "2023-05-23T13:46:21.295Z"
   },
   {
    "duration": 48,
    "start_time": "2023-05-23T13:46:21.357Z"
   },
   {
    "duration": 122,
    "start_time": "2023-05-23T13:46:21.407Z"
   },
   {
    "duration": 4,
    "start_time": "2023-05-23T13:46:21.530Z"
   },
   {
    "duration": 24,
    "start_time": "2023-05-23T13:46:21.535Z"
   },
   {
    "duration": 6,
    "start_time": "2023-05-23T13:46:21.561Z"
   },
   {
    "duration": 14,
    "start_time": "2023-05-23T13:46:21.568Z"
   },
   {
    "duration": 14,
    "start_time": "2023-05-23T13:46:21.584Z"
   },
   {
    "duration": 11,
    "start_time": "2023-05-23T13:46:21.599Z"
   },
   {
    "duration": 15,
    "start_time": "2023-05-23T13:46:21.611Z"
   },
   {
    "duration": 4,
    "start_time": "2023-05-23T13:47:26.155Z"
   },
   {
    "duration": 542,
    "start_time": "2023-05-23T13:47:31.652Z"
   },
   {
    "duration": 1036,
    "start_time": "2023-05-23T13:47:32.195Z"
   },
   {
    "duration": 11,
    "start_time": "2023-05-23T13:47:33.233Z"
   },
   {
    "duration": 20,
    "start_time": "2023-05-23T13:47:33.245Z"
   },
   {
    "duration": 4,
    "start_time": "2023-05-23T13:47:33.267Z"
   },
   {
    "duration": 13,
    "start_time": "2023-05-23T13:47:33.273Z"
   },
   {
    "duration": 9,
    "start_time": "2023-05-23T13:47:33.287Z"
   },
   {
    "duration": 15,
    "start_time": "2023-05-23T13:47:33.297Z"
   },
   {
    "duration": 12,
    "start_time": "2023-05-23T13:47:33.313Z"
   },
   {
    "duration": 141,
    "start_time": "2023-05-23T13:47:33.327Z"
   },
   {
    "duration": 6,
    "start_time": "2023-05-23T13:47:33.469Z"
   },
   {
    "duration": 130,
    "start_time": "2023-05-23T13:47:33.477Z"
   },
   {
    "duration": 5,
    "start_time": "2023-05-23T13:47:33.609Z"
   },
   {
    "duration": 15,
    "start_time": "2023-05-23T13:47:33.616Z"
   },
   {
    "duration": 52,
    "start_time": "2023-05-23T13:47:33.632Z"
   },
   {
    "duration": 5,
    "start_time": "2023-05-23T13:47:33.686Z"
   },
   {
    "duration": 11,
    "start_time": "2023-05-23T13:47:33.693Z"
   },
   {
    "duration": 31,
    "start_time": "2023-05-23T13:47:33.705Z"
   },
   {
    "duration": 22,
    "start_time": "2023-05-23T13:47:33.738Z"
   },
   {
    "duration": 37,
    "start_time": "2023-05-23T13:47:33.762Z"
   },
   {
    "duration": 67,
    "start_time": "2023-05-23T13:47:33.801Z"
   },
   {
    "duration": 1034,
    "start_time": "2023-05-23T13:47:33.870Z"
   },
   {
    "duration": 61,
    "start_time": "2023-05-23T13:47:34.906Z"
   },
   {
    "duration": 53,
    "start_time": "2023-05-23T13:47:34.969Z"
   },
   {
    "duration": 112,
    "start_time": "2023-05-23T13:47:35.024Z"
   },
   {
    "duration": 5,
    "start_time": "2023-05-23T13:47:35.137Z"
   },
   {
    "duration": 21,
    "start_time": "2023-05-23T13:47:35.143Z"
   },
   {
    "duration": 6,
    "start_time": "2023-05-23T13:47:35.167Z"
   },
   {
    "duration": 8,
    "start_time": "2023-05-23T13:47:35.174Z"
   },
   {
    "duration": 27,
    "start_time": "2023-05-23T13:47:35.183Z"
   },
   {
    "duration": 5,
    "start_time": "2023-05-23T13:47:35.211Z"
   },
   {
    "duration": 15,
    "start_time": "2023-05-23T13:47:35.218Z"
   },
   {
    "duration": 5,
    "start_time": "2023-05-23T13:49:00.915Z"
   },
   {
    "duration": 9,
    "start_time": "2023-05-23T13:49:43.221Z"
   },
   {
    "duration": 70,
    "start_time": "2023-05-23T13:50:55.873Z"
   },
   {
    "duration": 5,
    "start_time": "2023-05-23T13:51:02.546Z"
   },
   {
    "duration": 565,
    "start_time": "2023-05-23T13:54:04.439Z"
   },
   {
    "duration": 1029,
    "start_time": "2023-05-23T13:54:05.006Z"
   },
   {
    "duration": 13,
    "start_time": "2023-05-23T13:54:06.037Z"
   },
   {
    "duration": 11,
    "start_time": "2023-05-23T13:54:06.052Z"
   },
   {
    "duration": 9,
    "start_time": "2023-05-23T13:54:06.065Z"
   },
   {
    "duration": 25,
    "start_time": "2023-05-23T13:54:06.075Z"
   },
   {
    "duration": 11,
    "start_time": "2023-05-23T13:54:06.102Z"
   },
   {
    "duration": 8,
    "start_time": "2023-05-23T13:54:06.115Z"
   },
   {
    "duration": 7,
    "start_time": "2023-05-23T13:54:06.124Z"
   },
   {
    "duration": 146,
    "start_time": "2023-05-23T13:54:06.133Z"
   },
   {
    "duration": 5,
    "start_time": "2023-05-23T13:54:06.280Z"
   },
   {
    "duration": 126,
    "start_time": "2023-05-23T13:54:06.287Z"
   },
   {
    "duration": 5,
    "start_time": "2023-05-23T13:54:06.414Z"
   },
   {
    "duration": 7,
    "start_time": "2023-05-23T13:54:06.421Z"
   },
   {
    "duration": 42,
    "start_time": "2023-05-23T13:54:06.429Z"
   },
   {
    "duration": 15,
    "start_time": "2023-05-23T13:54:06.473Z"
   },
   {
    "duration": 17,
    "start_time": "2023-05-23T13:54:06.490Z"
   },
   {
    "duration": 2,
    "start_time": "2023-05-23T13:54:06.508Z"
   },
   {
    "duration": 7,
    "start_time": "2023-05-23T13:54:06.512Z"
   },
   {
    "duration": 7,
    "start_time": "2023-05-23T13:54:06.520Z"
   },
   {
    "duration": 6,
    "start_time": "2023-05-23T13:54:06.528Z"
   },
   {
    "duration": 20,
    "start_time": "2023-05-23T13:54:06.535Z"
   },
   {
    "duration": 110,
    "start_time": "2023-05-23T13:54:06.557Z"
   },
   {
    "duration": 1031,
    "start_time": "2023-05-23T13:54:06.668Z"
   },
   {
    "duration": 64,
    "start_time": "2023-05-23T13:54:07.700Z"
   },
   {
    "duration": 51,
    "start_time": "2023-05-23T13:54:07.766Z"
   },
   {
    "duration": 120,
    "start_time": "2023-05-23T13:54:07.818Z"
   },
   {
    "duration": 4,
    "start_time": "2023-05-23T13:54:07.940Z"
   },
   {
    "duration": 47,
    "start_time": "2023-05-23T13:54:07.945Z"
   },
   {
    "duration": 8,
    "start_time": "2023-05-23T13:54:07.995Z"
   },
   {
    "duration": 11,
    "start_time": "2023-05-23T13:54:08.005Z"
   },
   {
    "duration": 14,
    "start_time": "2023-05-23T13:54:08.017Z"
   },
   {
    "duration": 8,
    "start_time": "2023-05-23T13:54:08.033Z"
   },
   {
    "duration": 21,
    "start_time": "2023-05-23T13:54:08.042Z"
   },
   {
    "duration": 17,
    "start_time": "2023-05-23T13:57:23.608Z"
   },
   {
    "duration": 16,
    "start_time": "2023-05-23T13:58:50.383Z"
   },
   {
    "duration": 120,
    "start_time": "2023-05-23T14:00:03.006Z"
   },
   {
    "duration": 5,
    "start_time": "2023-05-23T14:03:23.109Z"
   },
   {
    "duration": 5,
    "start_time": "2023-05-23T14:03:26.520Z"
   },
   {
    "duration": 5,
    "start_time": "2023-05-23T14:03:30.704Z"
   },
   {
    "duration": 7,
    "start_time": "2023-05-23T14:03:38.783Z"
   },
   {
    "duration": 5,
    "start_time": "2023-05-23T14:03:43.713Z"
   },
   {
    "duration": 629,
    "start_time": "2023-05-23T14:04:00.278Z"
   },
   {
    "duration": 1537,
    "start_time": "2023-05-23T14:04:00.909Z"
   },
   {
    "duration": 16,
    "start_time": "2023-05-23T14:04:02.448Z"
   },
   {
    "duration": 25,
    "start_time": "2023-05-23T14:04:02.466Z"
   },
   {
    "duration": 21,
    "start_time": "2023-05-23T14:04:02.494Z"
   },
   {
    "duration": 23,
    "start_time": "2023-05-23T14:04:02.518Z"
   },
   {
    "duration": 32,
    "start_time": "2023-05-23T14:04:02.543Z"
   },
   {
    "duration": 19,
    "start_time": "2023-05-23T14:04:02.577Z"
   },
   {
    "duration": 42,
    "start_time": "2023-05-23T14:04:02.598Z"
   },
   {
    "duration": 143,
    "start_time": "2023-05-23T14:04:02.642Z"
   },
   {
    "duration": 6,
    "start_time": "2023-05-23T14:04:02.786Z"
   },
   {
    "duration": 128,
    "start_time": "2023-05-23T14:04:02.793Z"
   },
   {
    "duration": 6,
    "start_time": "2023-05-23T14:04:02.923Z"
   },
   {
    "duration": 11,
    "start_time": "2023-05-23T14:04:02.933Z"
   },
   {
    "duration": 19,
    "start_time": "2023-05-23T14:04:02.946Z"
   },
   {
    "duration": 140,
    "start_time": "2023-05-23T14:04:02.967Z"
   },
   {
    "duration": 11,
    "start_time": "2023-05-23T14:04:03.109Z"
   },
   {
    "duration": 17,
    "start_time": "2023-05-23T14:04:03.121Z"
   },
   {
    "duration": 2,
    "start_time": "2023-05-23T14:04:03.140Z"
   },
   {
    "duration": 8,
    "start_time": "2023-05-23T14:04:03.144Z"
   },
   {
    "duration": 14,
    "start_time": "2023-05-23T14:04:03.154Z"
   },
   {
    "duration": 19,
    "start_time": "2023-05-23T14:04:03.170Z"
   },
   {
    "duration": 34,
    "start_time": "2023-05-23T14:04:03.190Z"
   },
   {
    "duration": 76,
    "start_time": "2023-05-23T14:04:03.226Z"
   },
   {
    "duration": 1378,
    "start_time": "2023-05-23T14:04:03.303Z"
   },
   {
    "duration": 75,
    "start_time": "2023-05-23T14:04:04.684Z"
   },
   {
    "duration": 59,
    "start_time": "2023-05-23T14:04:04.760Z"
   },
   {
    "duration": 144,
    "start_time": "2023-05-23T14:04:04.821Z"
   },
   {
    "duration": 5,
    "start_time": "2023-05-23T14:04:04.966Z"
   },
   {
    "duration": 55,
    "start_time": "2023-05-23T14:04:04.972Z"
   },
   {
    "duration": 29,
    "start_time": "2023-05-23T14:04:05.029Z"
   },
   {
    "duration": 24,
    "start_time": "2023-05-23T14:04:05.060Z"
   },
   {
    "duration": 31,
    "start_time": "2023-05-23T14:04:05.086Z"
   },
   {
    "duration": 7,
    "start_time": "2023-05-23T14:04:05.119Z"
   },
   {
    "duration": 42,
    "start_time": "2023-05-23T14:04:05.128Z"
   },
   {
    "duration": 589,
    "start_time": "2023-05-23T14:04:20.677Z"
   },
   {
    "duration": 1039,
    "start_time": "2023-05-23T14:04:21.268Z"
   },
   {
    "duration": 13,
    "start_time": "2023-05-23T14:04:22.309Z"
   },
   {
    "duration": 11,
    "start_time": "2023-05-23T14:04:22.324Z"
   },
   {
    "duration": 6,
    "start_time": "2023-05-23T14:04:22.337Z"
   },
   {
    "duration": 18,
    "start_time": "2023-05-23T14:04:22.345Z"
   },
   {
    "duration": 17,
    "start_time": "2023-05-23T14:04:22.365Z"
   },
   {
    "duration": 31,
    "start_time": "2023-05-23T14:04:22.384Z"
   },
   {
    "duration": 10,
    "start_time": "2023-05-23T14:04:22.417Z"
   },
   {
    "duration": 180,
    "start_time": "2023-05-23T14:04:22.431Z"
   },
   {
    "duration": 8,
    "start_time": "2023-05-23T14:04:22.613Z"
   },
   {
    "duration": 148,
    "start_time": "2023-05-23T14:04:22.624Z"
   },
   {
    "duration": 5,
    "start_time": "2023-05-23T14:04:22.774Z"
   },
   {
    "duration": 5,
    "start_time": "2023-05-23T14:04:22.780Z"
   },
   {
    "duration": 33,
    "start_time": "2023-05-23T14:04:22.786Z"
   },
   {
    "duration": 132,
    "start_time": "2023-05-23T14:04:22.820Z"
   },
   {
    "duration": 10,
    "start_time": "2023-05-23T14:04:22.954Z"
   },
   {
    "duration": 17,
    "start_time": "2023-05-23T14:04:22.966Z"
   },
   {
    "duration": 3,
    "start_time": "2023-05-23T14:04:22.984Z"
   },
   {
    "duration": 18,
    "start_time": "2023-05-23T14:04:23.007Z"
   },
   {
    "duration": 10,
    "start_time": "2023-05-23T14:04:23.026Z"
   },
   {
    "duration": 6,
    "start_time": "2023-05-23T14:04:23.037Z"
   },
   {
    "duration": 16,
    "start_time": "2023-05-23T14:04:23.045Z"
   },
   {
    "duration": 55,
    "start_time": "2023-05-23T14:04:23.063Z"
   },
   {
    "duration": 1229,
    "start_time": "2023-05-23T14:04:23.120Z"
   },
   {
    "duration": 154,
    "start_time": "2023-05-23T14:04:24.351Z"
   },
   {
    "duration": 84,
    "start_time": "2023-05-23T14:04:24.507Z"
   },
   {
    "duration": 123,
    "start_time": "2023-05-23T14:04:24.595Z"
   },
   {
    "duration": 5,
    "start_time": "2023-05-23T14:04:24.719Z"
   },
   {
    "duration": 22,
    "start_time": "2023-05-23T14:04:24.726Z"
   },
   {
    "duration": 7,
    "start_time": "2023-05-23T14:04:24.749Z"
   },
   {
    "duration": 7,
    "start_time": "2023-05-23T14:04:24.758Z"
   },
   {
    "duration": 24,
    "start_time": "2023-05-23T14:04:24.767Z"
   },
   {
    "duration": 13,
    "start_time": "2023-05-23T14:04:24.793Z"
   },
   {
    "duration": 16,
    "start_time": "2023-05-23T14:04:24.808Z"
   },
   {
    "duration": 690,
    "start_time": "2023-05-23T14:19:09.883Z"
   },
   {
    "duration": 1405,
    "start_time": "2023-05-23T14:19:10.576Z"
   },
   {
    "duration": 13,
    "start_time": "2023-05-23T14:19:11.983Z"
   },
   {
    "duration": 16,
    "start_time": "2023-05-23T14:19:11.999Z"
   },
   {
    "duration": 4,
    "start_time": "2023-05-23T14:19:12.017Z"
   },
   {
    "duration": 14,
    "start_time": "2023-05-23T14:19:12.023Z"
   },
   {
    "duration": 13,
    "start_time": "2023-05-23T14:19:12.039Z"
   },
   {
    "duration": 12,
    "start_time": "2023-05-23T14:19:12.055Z"
   },
   {
    "duration": 47,
    "start_time": "2023-05-23T14:19:12.069Z"
   },
   {
    "duration": 187,
    "start_time": "2023-05-23T14:19:12.119Z"
   },
   {
    "duration": 5,
    "start_time": "2023-05-23T14:19:12.308Z"
   },
   {
    "duration": 180,
    "start_time": "2023-05-23T14:19:12.315Z"
   },
   {
    "duration": 10,
    "start_time": "2023-05-23T14:19:12.497Z"
   },
   {
    "duration": 15,
    "start_time": "2023-05-23T14:19:12.509Z"
   },
   {
    "duration": 42,
    "start_time": "2023-05-23T14:19:12.526Z"
   },
   {
    "duration": 164,
    "start_time": "2023-05-23T14:19:12.570Z"
   },
   {
    "duration": 9,
    "start_time": "2023-05-23T14:19:12.738Z"
   },
   {
    "duration": 34,
    "start_time": "2023-05-23T14:19:12.749Z"
   },
   {
    "duration": 32,
    "start_time": "2023-05-23T14:19:12.785Z"
   },
   {
    "duration": 5,
    "start_time": "2023-05-23T14:19:12.818Z"
   },
   {
    "duration": 16,
    "start_time": "2023-05-23T14:19:12.825Z"
   },
   {
    "duration": 14,
    "start_time": "2023-05-23T14:19:12.842Z"
   },
   {
    "duration": 15,
    "start_time": "2023-05-23T14:19:12.857Z"
   },
   {
    "duration": 29,
    "start_time": "2023-05-23T14:19:12.874Z"
   },
   {
    "duration": 78,
    "start_time": "2023-05-23T14:19:12.905Z"
   },
   {
    "duration": 1097,
    "start_time": "2023-05-23T14:19:12.984Z"
   },
   {
    "duration": 70,
    "start_time": "2023-05-23T14:19:14.083Z"
   },
   {
    "duration": 76,
    "start_time": "2023-05-23T14:19:14.157Z"
   },
   {
    "duration": 195,
    "start_time": "2023-05-23T14:19:14.235Z"
   },
   {
    "duration": 7,
    "start_time": "2023-05-23T14:19:14.431Z"
   },
   {
    "duration": 23,
    "start_time": "2023-05-23T14:19:14.439Z"
   },
   {
    "duration": 26,
    "start_time": "2023-05-23T14:19:14.464Z"
   },
   {
    "duration": 7,
    "start_time": "2023-05-23T14:19:14.495Z"
   },
   {
    "duration": 63,
    "start_time": "2023-05-23T14:19:14.507Z"
   },
   {
    "duration": 14,
    "start_time": "2023-05-23T14:19:14.572Z"
   },
   {
    "duration": 33,
    "start_time": "2023-05-23T14:19:14.588Z"
   },
   {
    "duration": 3,
    "start_time": "2023-05-23T14:19:44.245Z"
   },
   {
    "duration": 7,
    "start_time": "2023-05-23T14:19:53.044Z"
   },
   {
    "duration": 7,
    "start_time": "2023-05-23T14:19:58.223Z"
   },
   {
    "duration": 8,
    "start_time": "2023-05-23T14:20:18.387Z"
   },
   {
    "duration": 780,
    "start_time": "2023-05-23T14:20:33.993Z"
   },
   {
    "duration": 1017,
    "start_time": "2023-05-23T14:20:34.776Z"
   },
   {
    "duration": 15,
    "start_time": "2023-05-23T14:20:35.795Z"
   },
   {
    "duration": 22,
    "start_time": "2023-05-23T14:20:35.812Z"
   },
   {
    "duration": 8,
    "start_time": "2023-05-23T14:20:35.836Z"
   },
   {
    "duration": 39,
    "start_time": "2023-05-23T14:20:35.846Z"
   },
   {
    "duration": 12,
    "start_time": "2023-05-23T14:20:35.887Z"
   },
   {
    "duration": 10,
    "start_time": "2023-05-23T14:20:35.901Z"
   },
   {
    "duration": 9,
    "start_time": "2023-05-23T14:20:35.913Z"
   },
   {
    "duration": 135,
    "start_time": "2023-05-23T14:20:35.925Z"
   },
   {
    "duration": 6,
    "start_time": "2023-05-23T14:20:36.061Z"
   },
   {
    "duration": 183,
    "start_time": "2023-05-23T14:20:36.069Z"
   },
   {
    "duration": 5,
    "start_time": "2023-05-23T14:20:36.254Z"
   },
   {
    "duration": 23,
    "start_time": "2023-05-23T14:20:36.261Z"
   },
   {
    "duration": 21,
    "start_time": "2023-05-23T14:20:36.286Z"
   },
   {
    "duration": 116,
    "start_time": "2023-05-23T14:20:36.309Z"
   },
   {
    "duration": 10,
    "start_time": "2023-05-23T14:20:36.426Z"
   },
   {
    "duration": 49,
    "start_time": "2023-05-23T14:20:36.438Z"
   },
   {
    "duration": 21,
    "start_time": "2023-05-23T14:20:36.488Z"
   },
   {
    "duration": 13,
    "start_time": "2023-05-23T14:20:36.511Z"
   },
   {
    "duration": 6,
    "start_time": "2023-05-23T14:20:36.525Z"
   },
   {
    "duration": 10,
    "start_time": "2023-05-23T14:20:36.533Z"
   },
   {
    "duration": 6,
    "start_time": "2023-05-23T14:20:36.545Z"
   },
   {
    "duration": 26,
    "start_time": "2023-05-23T14:20:36.552Z"
   },
   {
    "duration": 54,
    "start_time": "2023-05-23T14:20:36.580Z"
   },
   {
    "duration": 1168,
    "start_time": "2023-05-23T14:20:36.637Z"
   },
   {
    "duration": 77,
    "start_time": "2023-05-23T14:20:37.807Z"
   },
   {
    "duration": 57,
    "start_time": "2023-05-23T14:20:37.888Z"
   },
   {
    "duration": 120,
    "start_time": "2023-05-23T14:20:37.947Z"
   },
   {
    "duration": 6,
    "start_time": "2023-05-23T14:20:38.069Z"
   },
   {
    "duration": 29,
    "start_time": "2023-05-23T14:20:38.077Z"
   },
   {
    "duration": 9,
    "start_time": "2023-05-23T14:20:38.108Z"
   },
   {
    "duration": 8,
    "start_time": "2023-05-23T14:20:38.119Z"
   },
   {
    "duration": 13,
    "start_time": "2023-05-23T14:20:38.128Z"
   },
   {
    "duration": 6,
    "start_time": "2023-05-23T14:20:38.142Z"
   },
   {
    "duration": 25,
    "start_time": "2023-05-23T14:20:38.150Z"
   },
   {
    "duration": 7,
    "start_time": "2023-05-23T14:22:22.725Z"
   },
   {
    "duration": 529,
    "start_time": "2023-05-23T14:22:31.865Z"
   },
   {
    "duration": 3974,
    "start_time": "2023-05-23T14:22:32.396Z"
   },
   {
    "duration": 14,
    "start_time": "2023-05-23T14:22:36.372Z"
   },
   {
    "duration": 34,
    "start_time": "2023-05-23T14:22:36.388Z"
   },
   {
    "duration": 4,
    "start_time": "2023-05-23T14:22:36.425Z"
   },
   {
    "duration": 14,
    "start_time": "2023-05-23T14:22:36.431Z"
   },
   {
    "duration": 10,
    "start_time": "2023-05-23T14:22:36.447Z"
   },
   {
    "duration": 25,
    "start_time": "2023-05-23T14:22:36.458Z"
   },
   {
    "duration": 10,
    "start_time": "2023-05-23T14:22:36.484Z"
   },
   {
    "duration": 148,
    "start_time": "2023-05-23T14:22:36.495Z"
   },
   {
    "duration": 6,
    "start_time": "2023-05-23T14:22:36.645Z"
   },
   {
    "duration": 147,
    "start_time": "2023-05-23T14:22:36.653Z"
   },
   {
    "duration": 9,
    "start_time": "2023-05-23T14:22:36.802Z"
   },
   {
    "duration": 13,
    "start_time": "2023-05-23T14:22:36.814Z"
   },
   {
    "duration": 21,
    "start_time": "2023-05-23T14:22:36.829Z"
   },
   {
    "duration": 135,
    "start_time": "2023-05-23T14:22:36.851Z"
   },
   {
    "duration": 7,
    "start_time": "2023-05-23T14:22:36.987Z"
   },
   {
    "duration": 25,
    "start_time": "2023-05-23T14:22:37.006Z"
   },
   {
    "duration": 19,
    "start_time": "2023-05-23T14:22:37.033Z"
   },
   {
    "duration": 2,
    "start_time": "2023-05-23T14:22:37.054Z"
   },
   {
    "duration": 5,
    "start_time": "2023-05-23T14:22:37.058Z"
   },
   {
    "duration": 13,
    "start_time": "2023-05-23T14:22:37.065Z"
   },
   {
    "duration": 6,
    "start_time": "2023-05-23T14:22:37.080Z"
   },
   {
    "duration": 35,
    "start_time": "2023-05-23T14:22:37.088Z"
   },
   {
    "duration": 58,
    "start_time": "2023-05-23T14:22:37.125Z"
   },
   {
    "duration": 1015,
    "start_time": "2023-05-23T14:22:37.184Z"
   },
   {
    "duration": 74,
    "start_time": "2023-05-23T14:22:38.201Z"
   },
   {
    "duration": 54,
    "start_time": "2023-05-23T14:22:38.276Z"
   },
   {
    "duration": 127,
    "start_time": "2023-05-23T14:22:38.333Z"
   },
   {
    "duration": 5,
    "start_time": "2023-05-23T14:22:38.462Z"
   },
   {
    "duration": 22,
    "start_time": "2023-05-23T14:22:38.468Z"
   },
   {
    "duration": 20,
    "start_time": "2023-05-23T14:22:38.492Z"
   },
   {
    "duration": 9,
    "start_time": "2023-05-23T14:22:38.514Z"
   },
   {
    "duration": 17,
    "start_time": "2023-05-23T14:22:38.525Z"
   },
   {
    "duration": 7,
    "start_time": "2023-05-23T14:22:38.543Z"
   },
   {
    "duration": 42,
    "start_time": "2023-05-23T14:22:38.552Z"
   },
   {
    "duration": 6,
    "start_time": "2023-05-23T14:25:07.845Z"
   },
   {
    "duration": 16,
    "start_time": "2023-05-23T14:25:12.345Z"
   },
   {
    "duration": 644,
    "start_time": "2023-05-23T14:25:28.893Z"
   },
   {
    "duration": 1440,
    "start_time": "2023-05-23T14:25:29.538Z"
   },
   {
    "duration": 15,
    "start_time": "2023-05-23T14:25:30.980Z"
   },
   {
    "duration": 42,
    "start_time": "2023-05-23T14:25:30.997Z"
   },
   {
    "duration": 36,
    "start_time": "2023-05-23T14:25:31.041Z"
   },
   {
    "duration": 39,
    "start_time": "2023-05-23T14:25:31.079Z"
   },
   {
    "duration": 36,
    "start_time": "2023-05-23T14:25:31.120Z"
   },
   {
    "duration": 34,
    "start_time": "2023-05-23T14:25:31.158Z"
   },
   {
    "duration": 27,
    "start_time": "2023-05-23T14:25:31.194Z"
   },
   {
    "duration": 153,
    "start_time": "2023-05-23T14:25:31.224Z"
   },
   {
    "duration": 6,
    "start_time": "2023-05-23T14:25:31.379Z"
   },
   {
    "duration": 140,
    "start_time": "2023-05-23T14:25:31.387Z"
   },
   {
    "duration": 7,
    "start_time": "2023-05-23T14:25:31.529Z"
   },
   {
    "duration": 17,
    "start_time": "2023-05-23T14:25:31.537Z"
   },
   {
    "duration": 42,
    "start_time": "2023-05-23T14:25:31.556Z"
   },
   {
    "duration": 159,
    "start_time": "2023-05-23T14:25:31.600Z"
   },
   {
    "duration": 9,
    "start_time": "2023-05-23T14:25:31.761Z"
   },
   {
    "duration": 15,
    "start_time": "2023-05-23T14:25:31.772Z"
   },
   {
    "duration": 29,
    "start_time": "2023-05-23T14:25:31.789Z"
   },
   {
    "duration": 2,
    "start_time": "2023-05-23T14:25:31.820Z"
   },
   {
    "duration": 11,
    "start_time": "2023-05-23T14:25:31.823Z"
   },
   {
    "duration": 16,
    "start_time": "2023-05-23T14:25:31.835Z"
   },
   {
    "duration": 24,
    "start_time": "2023-05-23T14:25:31.852Z"
   },
   {
    "duration": 39,
    "start_time": "2023-05-23T14:25:31.878Z"
   },
   {
    "duration": 80,
    "start_time": "2023-05-23T14:25:31.919Z"
   },
   {
    "duration": 1133,
    "start_time": "2023-05-23T14:25:32.001Z"
   },
   {
    "duration": 57,
    "start_time": "2023-05-23T14:25:33.136Z"
   },
   {
    "duration": 51,
    "start_time": "2023-05-23T14:25:33.196Z"
   },
   {
    "duration": 123,
    "start_time": "2023-05-23T14:25:33.249Z"
   },
   {
    "duration": 5,
    "start_time": "2023-05-23T14:25:33.373Z"
   },
   {
    "duration": 31,
    "start_time": "2023-05-23T14:25:33.379Z"
   },
   {
    "duration": 13,
    "start_time": "2023-05-23T14:25:33.411Z"
   },
   {
    "duration": 41,
    "start_time": "2023-05-23T14:25:33.426Z"
   },
   {
    "duration": 21,
    "start_time": "2023-05-23T14:25:33.469Z"
   },
   {
    "duration": 10,
    "start_time": "2023-05-23T14:25:33.492Z"
   },
   {
    "duration": 33,
    "start_time": "2023-05-23T14:25:33.503Z"
   },
   {
    "duration": 57,
    "start_time": "2023-05-23T14:27:57.440Z"
   },
   {
    "duration": 70,
    "start_time": "2023-05-23T14:28:29.047Z"
   },
   {
    "duration": 61,
    "start_time": "2023-05-23T14:28:55.775Z"
   },
   {
    "duration": 64,
    "start_time": "2023-05-23T14:30:08.781Z"
   },
   {
    "duration": 69,
    "start_time": "2023-05-23T14:30:15.711Z"
   },
   {
    "duration": 65,
    "start_time": "2023-05-23T14:32:53.544Z"
   },
   {
    "duration": 54,
    "start_time": "2023-05-23T14:32:56.655Z"
   },
   {
    "duration": 152,
    "start_time": "2023-05-23T14:32:58.943Z"
   },
   {
    "duration": 7,
    "start_time": "2023-05-23T14:33:27.941Z"
   },
   {
    "duration": 4,
    "start_time": "2023-05-23T14:33:34.358Z"
   },
   {
    "duration": 5,
    "start_time": "2023-05-23T14:33:40.096Z"
   },
   {
    "duration": 567,
    "start_time": "2023-05-23T14:34:09.326Z"
   },
   {
    "duration": 1424,
    "start_time": "2023-05-23T14:34:09.894Z"
   },
   {
    "duration": 13,
    "start_time": "2023-05-23T14:34:11.320Z"
   },
   {
    "duration": 13,
    "start_time": "2023-05-23T14:34:11.336Z"
   },
   {
    "duration": 9,
    "start_time": "2023-05-23T14:34:11.351Z"
   },
   {
    "duration": 24,
    "start_time": "2023-05-23T14:34:11.361Z"
   },
   {
    "duration": 32,
    "start_time": "2023-05-23T14:34:11.386Z"
   },
   {
    "duration": 11,
    "start_time": "2023-05-23T14:34:11.420Z"
   },
   {
    "duration": 12,
    "start_time": "2023-05-23T14:34:11.433Z"
   },
   {
    "duration": 171,
    "start_time": "2023-05-23T14:34:11.448Z"
   },
   {
    "duration": 6,
    "start_time": "2023-05-23T14:34:11.621Z"
   },
   {
    "duration": 144,
    "start_time": "2023-05-23T14:34:11.629Z"
   },
   {
    "duration": 5,
    "start_time": "2023-05-23T14:34:11.774Z"
   },
   {
    "duration": 24,
    "start_time": "2023-05-23T14:34:11.780Z"
   },
   {
    "duration": 40,
    "start_time": "2023-05-23T14:34:11.806Z"
   },
   {
    "duration": 123,
    "start_time": "2023-05-23T14:34:11.848Z"
   },
   {
    "duration": 6,
    "start_time": "2023-05-23T14:34:11.972Z"
   },
   {
    "duration": 10,
    "start_time": "2023-05-23T14:34:11.980Z"
   },
   {
    "duration": 41,
    "start_time": "2023-05-23T14:34:11.992Z"
   },
   {
    "duration": 9,
    "start_time": "2023-05-23T14:34:12.034Z"
   },
   {
    "duration": 13,
    "start_time": "2023-05-23T14:34:12.044Z"
   },
   {
    "duration": 14,
    "start_time": "2023-05-23T14:34:12.059Z"
   },
   {
    "duration": 28,
    "start_time": "2023-05-23T14:34:12.075Z"
   },
   {
    "duration": 60,
    "start_time": "2023-05-23T14:34:12.105Z"
   },
   {
    "duration": 1128,
    "start_time": "2023-05-23T14:34:12.166Z"
   },
   {
    "duration": 61,
    "start_time": "2023-05-23T14:34:13.296Z"
   },
   {
    "duration": 53,
    "start_time": "2023-05-23T14:34:13.359Z"
   },
   {
    "duration": 7,
    "start_time": "2023-05-23T14:34:13.415Z"
   },
   {
    "duration": 26,
    "start_time": "2023-05-23T14:34:13.424Z"
   },
   {
    "duration": 22,
    "start_time": "2023-05-23T14:34:13.452Z"
   },
   {
    "duration": 8,
    "start_time": "2023-05-23T14:34:13.476Z"
   },
   {
    "duration": 17,
    "start_time": "2023-05-23T14:34:13.485Z"
   },
   {
    "duration": 17,
    "start_time": "2023-05-23T14:34:13.504Z"
   },
   {
    "duration": 7,
    "start_time": "2023-05-23T14:34:13.523Z"
   },
   {
    "duration": 15,
    "start_time": "2023-05-23T14:34:13.532Z"
   },
   {
    "duration": 10,
    "start_time": "2023-05-23T14:34:13.549Z"
   },
   {
    "duration": 600,
    "start_time": "2023-05-23T14:34:42.065Z"
   },
   {
    "duration": 1876,
    "start_time": "2023-05-23T14:34:42.668Z"
   },
   {
    "duration": 13,
    "start_time": "2023-05-23T14:34:44.545Z"
   },
   {
    "duration": 17,
    "start_time": "2023-05-23T14:34:44.560Z"
   },
   {
    "duration": 4,
    "start_time": "2023-05-23T14:34:44.579Z"
   },
   {
    "duration": 22,
    "start_time": "2023-05-23T14:34:44.585Z"
   },
   {
    "duration": 13,
    "start_time": "2023-05-23T14:34:44.609Z"
   },
   {
    "duration": 8,
    "start_time": "2023-05-23T14:34:44.623Z"
   },
   {
    "duration": 8,
    "start_time": "2023-05-23T14:34:44.633Z"
   },
   {
    "duration": 178,
    "start_time": "2023-05-23T14:34:44.643Z"
   },
   {
    "duration": 7,
    "start_time": "2023-05-23T14:34:44.822Z"
   },
   {
    "duration": 145,
    "start_time": "2023-05-23T14:34:44.830Z"
   },
   {
    "duration": 5,
    "start_time": "2023-05-23T14:34:44.977Z"
   },
   {
    "duration": 5,
    "start_time": "2023-05-23T14:34:44.984Z"
   },
   {
    "duration": 31,
    "start_time": "2023-05-23T14:34:44.990Z"
   },
   {
    "duration": 138,
    "start_time": "2023-05-23T14:34:45.023Z"
   },
   {
    "duration": 7,
    "start_time": "2023-05-23T14:34:45.162Z"
   },
   {
    "duration": 10,
    "start_time": "2023-05-23T14:34:45.170Z"
   },
   {
    "duration": 24,
    "start_time": "2023-05-23T14:34:45.182Z"
   },
   {
    "duration": 10,
    "start_time": "2023-05-23T14:34:45.207Z"
   },
   {
    "duration": 10,
    "start_time": "2023-05-23T14:34:45.218Z"
   },
   {
    "duration": 4,
    "start_time": "2023-05-23T14:34:45.230Z"
   },
   {
    "duration": 35,
    "start_time": "2023-05-23T14:34:45.236Z"
   },
   {
    "duration": 44,
    "start_time": "2023-05-23T14:34:45.273Z"
   },
   {
    "duration": 1104,
    "start_time": "2023-05-23T14:34:45.319Z"
   },
   {
    "duration": 59,
    "start_time": "2023-05-23T14:34:46.425Z"
   },
   {
    "duration": 43,
    "start_time": "2023-05-23T14:34:46.486Z"
   },
   {
    "duration": 5,
    "start_time": "2023-05-23T14:34:46.532Z"
   },
   {
    "duration": 11,
    "start_time": "2023-05-23T14:34:46.538Z"
   },
   {
    "duration": 15,
    "start_time": "2023-05-23T14:34:46.550Z"
   },
   {
    "duration": 9,
    "start_time": "2023-05-23T14:34:46.567Z"
   },
   {
    "duration": 9,
    "start_time": "2023-05-23T14:34:46.578Z"
   },
   {
    "duration": 51,
    "start_time": "2023-05-23T14:34:46.589Z"
   },
   {
    "duration": 9,
    "start_time": "2023-05-23T14:34:46.642Z"
   },
   {
    "duration": 21,
    "start_time": "2023-05-23T14:34:46.653Z"
   },
   {
    "duration": 3,
    "start_time": "2023-05-23T14:34:46.676Z"
   },
   {
    "duration": 598,
    "start_time": "2023-05-23T14:38:58.622Z"
   },
   {
    "duration": 1494,
    "start_time": "2023-05-23T14:38:59.222Z"
   },
   {
    "duration": 12,
    "start_time": "2023-05-23T14:39:00.718Z"
   },
   {
    "duration": 107,
    "start_time": "2023-05-23T14:39:00.732Z"
   },
   {
    "duration": 56,
    "start_time": "2023-05-23T14:39:00.841Z"
   },
   {
    "duration": 78,
    "start_time": "2023-05-23T14:39:00.898Z"
   },
   {
    "duration": 74,
    "start_time": "2023-05-23T14:39:00.978Z"
   },
   {
    "duration": 60,
    "start_time": "2023-05-23T14:39:01.055Z"
   },
   {
    "duration": 62,
    "start_time": "2023-05-23T14:39:01.116Z"
   },
   {
    "duration": 207,
    "start_time": "2023-05-23T14:39:01.180Z"
   },
   {
    "duration": 6,
    "start_time": "2023-05-23T14:39:01.389Z"
   },
   {
    "duration": 174,
    "start_time": "2023-05-23T14:39:01.405Z"
   },
   {
    "duration": 6,
    "start_time": "2023-05-23T14:39:01.581Z"
   },
   {
    "duration": 48,
    "start_time": "2023-05-23T14:39:01.589Z"
   },
   {
    "duration": 20,
    "start_time": "2023-05-23T14:39:01.639Z"
   },
   {
    "duration": 118,
    "start_time": "2023-05-23T14:39:01.661Z"
   },
   {
    "duration": 164,
    "start_time": "2023-05-23T14:39:01.781Z"
   },
   {
    "duration": 7,
    "start_time": "2023-05-23T14:39:01.947Z"
   },
   {
    "duration": 36,
    "start_time": "2023-05-23T14:39:01.955Z"
   },
   {
    "duration": 28,
    "start_time": "2023-05-23T14:39:01.993Z"
   },
   {
    "duration": 10,
    "start_time": "2023-05-23T14:39:02.023Z"
   },
   {
    "duration": 62,
    "start_time": "2023-05-23T14:39:02.034Z"
   },
   {
    "duration": 43,
    "start_time": "2023-05-23T14:39:02.097Z"
   },
   {
    "duration": 41,
    "start_time": "2023-05-23T14:39:02.142Z"
   },
   {
    "duration": 121,
    "start_time": "2023-05-23T14:39:02.184Z"
   },
   {
    "duration": 1180,
    "start_time": "2023-05-23T14:39:02.306Z"
   },
   {
    "duration": 65,
    "start_time": "2023-05-23T14:39:03.488Z"
   },
   {
    "duration": 50,
    "start_time": "2023-05-23T14:39:03.556Z"
   },
   {
    "duration": 4,
    "start_time": "2023-05-23T14:39:03.608Z"
   },
   {
    "duration": 10,
    "start_time": "2023-05-23T14:39:03.613Z"
   },
   {
    "duration": 16,
    "start_time": "2023-05-23T14:39:03.625Z"
   },
   {
    "duration": 6,
    "start_time": "2023-05-23T14:39:03.643Z"
   },
   {
    "duration": 23,
    "start_time": "2023-05-23T14:39:03.651Z"
   },
   {
    "duration": 33,
    "start_time": "2023-05-23T14:39:03.676Z"
   },
   {
    "duration": 6,
    "start_time": "2023-05-23T14:39:03.710Z"
   },
   {
    "duration": 29,
    "start_time": "2023-05-23T14:39:03.718Z"
   },
   {
    "duration": 2,
    "start_time": "2023-05-23T14:39:03.748Z"
   },
   {
    "duration": 5,
    "start_time": "2023-05-23T14:41:32.211Z"
   },
   {
    "duration": 713,
    "start_time": "2023-05-23T14:45:22.242Z"
   },
   {
    "duration": 1206,
    "start_time": "2023-05-23T14:45:22.957Z"
   },
   {
    "duration": 16,
    "start_time": "2023-05-23T14:45:24.165Z"
   },
   {
    "duration": 31,
    "start_time": "2023-05-23T14:45:24.183Z"
   },
   {
    "duration": 6,
    "start_time": "2023-05-23T14:45:24.217Z"
   },
   {
    "duration": 22,
    "start_time": "2023-05-23T14:45:24.225Z"
   },
   {
    "duration": 21,
    "start_time": "2023-05-23T14:45:24.249Z"
   },
   {
    "duration": 14,
    "start_time": "2023-05-23T14:45:24.274Z"
   },
   {
    "duration": 33,
    "start_time": "2023-05-23T14:45:24.290Z"
   },
   {
    "duration": 164,
    "start_time": "2023-05-23T14:45:24.325Z"
   },
   {
    "duration": 7,
    "start_time": "2023-05-23T14:45:24.491Z"
   },
   {
    "duration": 150,
    "start_time": "2023-05-23T14:45:24.500Z"
   },
   {
    "duration": 6,
    "start_time": "2023-05-23T14:45:24.652Z"
   },
   {
    "duration": 9,
    "start_time": "2023-05-23T14:45:24.664Z"
   },
   {
    "duration": 32,
    "start_time": "2023-05-23T14:45:24.675Z"
   },
   {
    "duration": 127,
    "start_time": "2023-05-23T14:45:24.709Z"
   },
   {
    "duration": 7,
    "start_time": "2023-05-23T14:45:24.837Z"
   },
   {
    "duration": 24,
    "start_time": "2023-05-23T14:45:24.845Z"
   },
   {
    "duration": 15,
    "start_time": "2023-05-23T14:45:24.870Z"
   },
   {
    "duration": 26,
    "start_time": "2023-05-23T14:45:24.886Z"
   },
   {
    "duration": 9,
    "start_time": "2023-05-23T14:45:24.914Z"
   },
   {
    "duration": 34,
    "start_time": "2023-05-23T14:45:24.925Z"
   },
   {
    "duration": 97,
    "start_time": "2023-05-23T14:45:24.960Z"
   },
   {
    "duration": 1129,
    "start_time": "2023-05-23T14:45:25.059Z"
   },
   {
    "duration": 73,
    "start_time": "2023-05-23T14:45:26.189Z"
   },
   {
    "duration": 51,
    "start_time": "2023-05-23T14:45:26.264Z"
   },
   {
    "duration": 4,
    "start_time": "2023-05-23T14:45:26.317Z"
   },
   {
    "duration": 27,
    "start_time": "2023-05-23T14:45:26.322Z"
   },
   {
    "duration": 29,
    "start_time": "2023-05-23T14:45:26.351Z"
   },
   {
    "duration": 13,
    "start_time": "2023-05-23T14:45:26.382Z"
   },
   {
    "duration": 30,
    "start_time": "2023-05-23T14:45:26.397Z"
   },
   {
    "duration": 22,
    "start_time": "2023-05-23T14:45:26.429Z"
   },
   {
    "duration": 14,
    "start_time": "2023-05-23T14:45:26.453Z"
   },
   {
    "duration": 31,
    "start_time": "2023-05-23T14:45:26.469Z"
   },
   {
    "duration": 23,
    "start_time": "2023-05-23T14:45:26.501Z"
   },
   {
    "duration": 651,
    "start_time": "2023-05-23T14:45:53.140Z"
   },
   {
    "duration": 1490,
    "start_time": "2023-05-23T14:45:53.795Z"
   },
   {
    "duration": 17,
    "start_time": "2023-05-23T14:45:55.287Z"
   },
   {
    "duration": 29,
    "start_time": "2023-05-23T14:45:55.308Z"
   },
   {
    "duration": 12,
    "start_time": "2023-05-23T14:45:55.339Z"
   },
   {
    "duration": 20,
    "start_time": "2023-05-23T14:45:55.352Z"
   },
   {
    "duration": 19,
    "start_time": "2023-05-23T14:45:55.373Z"
   },
   {
    "duration": 19,
    "start_time": "2023-05-23T14:45:55.394Z"
   },
   {
    "duration": 34,
    "start_time": "2023-05-23T14:45:55.415Z"
   },
   {
    "duration": 244,
    "start_time": "2023-05-23T14:45:55.453Z"
   },
   {
    "duration": 7,
    "start_time": "2023-05-23T14:45:55.701Z"
   },
   {
    "duration": 180,
    "start_time": "2023-05-23T14:45:55.709Z"
   },
   {
    "duration": 6,
    "start_time": "2023-05-23T14:45:55.890Z"
   },
   {
    "duration": 36,
    "start_time": "2023-05-23T14:45:55.908Z"
   },
   {
    "duration": 51,
    "start_time": "2023-05-23T14:45:55.947Z"
   },
   {
    "duration": 168,
    "start_time": "2023-05-23T14:45:56.000Z"
   },
   {
    "duration": 13,
    "start_time": "2023-05-23T14:45:56.170Z"
   },
   {
    "duration": 45,
    "start_time": "2023-05-23T14:45:56.185Z"
   },
   {
    "duration": 10,
    "start_time": "2023-05-23T14:45:56.232Z"
   },
   {
    "duration": 13,
    "start_time": "2023-05-23T14:45:56.244Z"
   },
   {
    "duration": 5,
    "start_time": "2023-05-23T14:45:56.260Z"
   },
   {
    "duration": 21,
    "start_time": "2023-05-23T14:45:56.267Z"
   },
   {
    "duration": 64,
    "start_time": "2023-05-23T14:45:56.290Z"
   },
   {
    "duration": 1253,
    "start_time": "2023-05-23T14:45:56.356Z"
   },
   {
    "duration": 67,
    "start_time": "2023-05-23T14:45:57.611Z"
   },
   {
    "duration": 48,
    "start_time": "2023-05-23T14:45:57.680Z"
   },
   {
    "duration": 5,
    "start_time": "2023-05-23T14:45:57.730Z"
   },
   {
    "duration": 13,
    "start_time": "2023-05-23T14:45:57.739Z"
   },
   {
    "duration": 18,
    "start_time": "2023-05-23T14:45:57.754Z"
   },
   {
    "duration": 9,
    "start_time": "2023-05-23T14:45:57.773Z"
   },
   {
    "duration": 23,
    "start_time": "2023-05-23T14:45:57.784Z"
   },
   {
    "duration": 16,
    "start_time": "2023-05-23T14:45:57.809Z"
   },
   {
    "duration": 8,
    "start_time": "2023-05-23T14:45:57.828Z"
   },
   {
    "duration": 24,
    "start_time": "2023-05-23T14:45:57.838Z"
   },
   {
    "duration": 13,
    "start_time": "2023-05-23T14:45:57.864Z"
   },
   {
    "duration": 1243,
    "start_time": "2023-05-23T14:46:30.099Z"
   },
   {
    "duration": 167,
    "start_time": "2023-05-23T14:46:32.797Z"
   },
   {
    "duration": 45,
    "start_time": "2023-05-23T14:46:37.840Z"
   },
   {
    "duration": 5,
    "start_time": "2023-05-23T14:46:39.346Z"
   },
   {
    "duration": 5,
    "start_time": "2023-05-23T14:46:40.264Z"
   },
   {
    "duration": 57,
    "start_time": "2023-05-23T14:50:27.544Z"
   },
   {
    "duration": 3,
    "start_time": "2023-05-23T14:51:19.858Z"
   },
   {
    "duration": 113,
    "start_time": "2023-05-23T14:51:31.474Z"
   },
   {
    "duration": 12,
    "start_time": "2023-05-23T14:51:47.135Z"
   },
   {
    "duration": 12,
    "start_time": "2023-05-23T14:52:33.837Z"
   },
   {
    "duration": 14,
    "start_time": "2023-05-23T14:52:46.574Z"
   },
   {
    "duration": 15,
    "start_time": "2023-05-23T14:53:38.458Z"
   },
   {
    "duration": 17,
    "start_time": "2023-05-23T14:53:52.305Z"
   },
   {
    "duration": 14,
    "start_time": "2023-05-23T14:55:23.386Z"
   },
   {
    "duration": 58,
    "start_time": "2023-05-23T14:55:42.935Z"
   },
   {
    "duration": 276,
    "start_time": "2023-05-23T14:56:20.228Z"
   },
   {
    "duration": 2,
    "start_time": "2023-05-23T14:58:07.679Z"
   },
   {
    "duration": 8,
    "start_time": "2023-05-23T14:58:22.357Z"
   },
   {
    "duration": 572,
    "start_time": "2023-05-23T14:58:35.030Z"
   },
   {
    "duration": 899,
    "start_time": "2023-05-23T14:58:35.604Z"
   },
   {
    "duration": 12,
    "start_time": "2023-05-23T14:58:36.505Z"
   },
   {
    "duration": 24,
    "start_time": "2023-05-23T14:58:36.519Z"
   },
   {
    "duration": 5,
    "start_time": "2023-05-23T14:58:36.544Z"
   },
   {
    "duration": 36,
    "start_time": "2023-05-23T14:58:36.550Z"
   },
   {
    "duration": 11,
    "start_time": "2023-05-23T14:58:36.588Z"
   },
   {
    "duration": 10,
    "start_time": "2023-05-23T14:58:36.601Z"
   },
   {
    "duration": 17,
    "start_time": "2023-05-23T14:58:36.613Z"
   },
   {
    "duration": 143,
    "start_time": "2023-05-23T14:58:36.632Z"
   },
   {
    "duration": 6,
    "start_time": "2023-05-23T14:58:36.776Z"
   },
   {
    "duration": 133,
    "start_time": "2023-05-23T14:58:36.783Z"
   },
   {
    "duration": 5,
    "start_time": "2023-05-23T14:58:36.918Z"
   },
   {
    "duration": 5,
    "start_time": "2023-05-23T14:58:36.924Z"
   },
   {
    "duration": 25,
    "start_time": "2023-05-23T14:58:36.931Z"
   },
   {
    "duration": 121,
    "start_time": "2023-05-23T14:58:36.958Z"
   },
   {
    "duration": 7,
    "start_time": "2023-05-23T14:58:37.081Z"
   },
   {
    "duration": 30,
    "start_time": "2023-05-23T14:58:37.089Z"
   },
   {
    "duration": 5,
    "start_time": "2023-05-23T14:58:37.120Z"
   },
   {
    "duration": 9,
    "start_time": "2023-05-23T14:58:37.126Z"
   },
   {
    "duration": 7,
    "start_time": "2023-05-23T14:58:37.136Z"
   },
   {
    "duration": 30,
    "start_time": "2023-05-23T14:58:37.145Z"
   },
   {
    "duration": 55,
    "start_time": "2023-05-23T14:58:37.179Z"
   },
   {
    "duration": 1106,
    "start_time": "2023-05-23T14:58:37.235Z"
   },
   {
    "duration": 3,
    "start_time": "2023-05-23T14:58:38.342Z"
   },
   {
    "duration": 69,
    "start_time": "2023-05-23T14:58:38.346Z"
   },
   {
    "duration": 0,
    "start_time": "2023-05-23T14:58:38.417Z"
   },
   {
    "duration": 0,
    "start_time": "2023-05-23T14:58:38.418Z"
   },
   {
    "duration": 0,
    "start_time": "2023-05-23T14:58:38.420Z"
   },
   {
    "duration": 0,
    "start_time": "2023-05-23T14:58:38.421Z"
   },
   {
    "duration": 0,
    "start_time": "2023-05-23T14:58:38.422Z"
   },
   {
    "duration": 0,
    "start_time": "2023-05-23T14:58:38.423Z"
   },
   {
    "duration": 0,
    "start_time": "2023-05-23T14:58:38.424Z"
   },
   {
    "duration": 1,
    "start_time": "2023-05-23T14:58:38.425Z"
   },
   {
    "duration": 0,
    "start_time": "2023-05-23T14:58:38.427Z"
   },
   {
    "duration": 7,
    "start_time": "2023-05-23T14:59:33.334Z"
   },
   {
    "duration": 2,
    "start_time": "2023-05-23T14:59:34.421Z"
   },
   {
    "duration": 61,
    "start_time": "2023-05-23T14:59:38.787Z"
   },
   {
    "duration": 65,
    "start_time": "2023-05-23T15:01:43.337Z"
   },
   {
    "duration": 597,
    "start_time": "2023-05-23T15:01:50.080Z"
   },
   {
    "duration": 6472,
    "start_time": "2023-05-23T15:01:50.679Z"
   },
   {
    "duration": 10,
    "start_time": "2023-05-23T15:01:57.153Z"
   },
   {
    "duration": 14,
    "start_time": "2023-05-23T15:01:57.165Z"
   },
   {
    "duration": 5,
    "start_time": "2023-05-23T15:01:57.180Z"
   },
   {
    "duration": 18,
    "start_time": "2023-05-23T15:01:57.186Z"
   },
   {
    "duration": 14,
    "start_time": "2023-05-23T15:01:57.206Z"
   },
   {
    "duration": 9,
    "start_time": "2023-05-23T15:01:57.221Z"
   },
   {
    "duration": 7,
    "start_time": "2023-05-23T15:01:57.231Z"
   },
   {
    "duration": 132,
    "start_time": "2023-05-23T15:01:57.241Z"
   },
   {
    "duration": 5,
    "start_time": "2023-05-23T15:01:57.375Z"
   },
   {
    "duration": 129,
    "start_time": "2023-05-23T15:01:57.381Z"
   },
   {
    "duration": 4,
    "start_time": "2023-05-23T15:01:57.512Z"
   },
   {
    "duration": 6,
    "start_time": "2023-05-23T15:01:57.518Z"
   },
   {
    "duration": 21,
    "start_time": "2023-05-23T15:01:57.526Z"
   },
   {
    "duration": 151,
    "start_time": "2023-05-23T15:01:57.548Z"
   },
   {
    "duration": 9,
    "start_time": "2023-05-23T15:01:57.701Z"
   },
   {
    "duration": 18,
    "start_time": "2023-05-23T15:01:57.712Z"
   },
   {
    "duration": 3,
    "start_time": "2023-05-23T15:01:57.731Z"
   },
   {
    "duration": 7,
    "start_time": "2023-05-23T15:01:57.736Z"
   },
   {
    "duration": 10,
    "start_time": "2023-05-23T15:01:57.745Z"
   },
   {
    "duration": 21,
    "start_time": "2023-05-23T15:01:57.756Z"
   },
   {
    "duration": 76,
    "start_time": "2023-05-23T15:01:57.778Z"
   },
   {
    "duration": 1153,
    "start_time": "2023-05-23T15:01:57.856Z"
   },
   {
    "duration": 3,
    "start_time": "2023-05-23T15:01:59.011Z"
   },
   {
    "duration": 89,
    "start_time": "2023-05-23T15:01:59.016Z"
   },
   {
    "duration": 0,
    "start_time": "2023-05-23T15:01:59.107Z"
   },
   {
    "duration": 0,
    "start_time": "2023-05-23T15:01:59.109Z"
   },
   {
    "duration": 0,
    "start_time": "2023-05-23T15:01:59.110Z"
   },
   {
    "duration": 0,
    "start_time": "2023-05-23T15:01:59.111Z"
   },
   {
    "duration": 0,
    "start_time": "2023-05-23T15:01:59.112Z"
   },
   {
    "duration": 0,
    "start_time": "2023-05-23T15:01:59.113Z"
   },
   {
    "duration": 0,
    "start_time": "2023-05-23T15:01:59.115Z"
   },
   {
    "duration": 0,
    "start_time": "2023-05-23T15:01:59.116Z"
   },
   {
    "duration": 602,
    "start_time": "2023-05-23T15:02:24.634Z"
   },
   {
    "duration": 1572,
    "start_time": "2023-05-23T15:02:25.237Z"
   },
   {
    "duration": 12,
    "start_time": "2023-05-23T15:02:26.811Z"
   },
   {
    "duration": 10,
    "start_time": "2023-05-23T15:02:26.825Z"
   },
   {
    "duration": 18,
    "start_time": "2023-05-23T15:02:26.837Z"
   },
   {
    "duration": 30,
    "start_time": "2023-05-23T15:02:26.857Z"
   },
   {
    "duration": 13,
    "start_time": "2023-05-23T15:02:26.889Z"
   },
   {
    "duration": 8,
    "start_time": "2023-05-23T15:02:26.907Z"
   },
   {
    "duration": 12,
    "start_time": "2023-05-23T15:02:26.916Z"
   },
   {
    "duration": 152,
    "start_time": "2023-05-23T15:02:26.929Z"
   },
   {
    "duration": 6,
    "start_time": "2023-05-23T15:02:27.082Z"
   },
   {
    "duration": 134,
    "start_time": "2023-05-23T15:02:27.089Z"
   },
   {
    "duration": 6,
    "start_time": "2023-05-23T15:02:27.224Z"
   },
   {
    "duration": 6,
    "start_time": "2023-05-23T15:02:27.232Z"
   },
   {
    "duration": 22,
    "start_time": "2023-05-23T15:02:27.239Z"
   },
   {
    "duration": 131,
    "start_time": "2023-05-23T15:02:27.263Z"
   },
   {
    "duration": 14,
    "start_time": "2023-05-23T15:02:27.396Z"
   },
   {
    "duration": 25,
    "start_time": "2023-05-23T15:02:27.412Z"
   },
   {
    "duration": 3,
    "start_time": "2023-05-23T15:02:27.438Z"
   },
   {
    "duration": 9,
    "start_time": "2023-05-23T15:02:27.443Z"
   },
   {
    "duration": 6,
    "start_time": "2023-05-23T15:02:27.453Z"
   },
   {
    "duration": 18,
    "start_time": "2023-05-23T15:02:27.460Z"
   },
   {
    "duration": 64,
    "start_time": "2023-05-23T15:02:27.480Z"
   },
   {
    "duration": 1041,
    "start_time": "2023-05-23T15:02:27.546Z"
   },
   {
    "duration": 3,
    "start_time": "2023-05-23T15:02:28.589Z"
   },
   {
    "duration": 64,
    "start_time": "2023-05-23T15:02:28.594Z"
   },
   {
    "duration": 13,
    "start_time": "2023-05-23T15:02:28.660Z"
   },
   {
    "duration": 7,
    "start_time": "2023-05-23T15:02:28.674Z"
   },
   {
    "duration": 6,
    "start_time": "2023-05-23T15:02:28.683Z"
   },
   {
    "duration": 29,
    "start_time": "2023-05-23T15:02:28.691Z"
   },
   {
    "duration": 30,
    "start_time": "2023-05-23T15:02:28.722Z"
   },
   {
    "duration": 18,
    "start_time": "2023-05-23T15:02:28.754Z"
   },
   {
    "duration": 5,
    "start_time": "2023-05-23T15:02:28.773Z"
   },
   {
    "duration": 68,
    "start_time": "2023-05-23T15:08:30.881Z"
   },
   {
    "duration": 15,
    "start_time": "2023-05-23T15:08:34.371Z"
   },
   {
    "duration": 5,
    "start_time": "2023-05-23T15:08:45.641Z"
   },
   {
    "duration": 2,
    "start_time": "2023-05-23T15:11:03.279Z"
   },
   {
    "duration": 8,
    "start_time": "2023-05-23T15:11:19.085Z"
   },
   {
    "duration": 52,
    "start_time": "2023-05-23T15:11:27.557Z"
   },
   {
    "duration": 3,
    "start_time": "2023-05-23T15:11:59.201Z"
   },
   {
    "duration": 572,
    "start_time": "2023-05-23T15:12:24.643Z"
   },
   {
    "duration": 190,
    "start_time": "2023-05-23T15:12:27.387Z"
   },
   {
    "duration": 16,
    "start_time": "2023-05-23T16:18:24.370Z"
   },
   {
    "duration": 3,
    "start_time": "2023-05-23T16:19:02.858Z"
   },
   {
    "duration": 4,
    "start_time": "2023-05-23T16:21:01.862Z"
   },
   {
    "duration": 4,
    "start_time": "2023-05-23T16:21:05.367Z"
   },
   {
    "duration": 10,
    "start_time": "2023-05-23T16:21:59.358Z"
   },
   {
    "duration": 13,
    "start_time": "2023-05-23T16:24:35.258Z"
   },
   {
    "duration": 11,
    "start_time": "2023-05-23T16:25:28.983Z"
   },
   {
    "duration": 8,
    "start_time": "2023-05-23T16:28:30.563Z"
   },
   {
    "duration": 15,
    "start_time": "2023-05-23T16:29:54.977Z"
   },
   {
    "duration": 9,
    "start_time": "2023-05-23T16:30:42.774Z"
   },
   {
    "duration": 4,
    "start_time": "2023-05-23T16:31:30.263Z"
   },
   {
    "duration": 10,
    "start_time": "2023-05-23T16:31:34.659Z"
   },
   {
    "duration": 10,
    "start_time": "2023-05-23T16:31:49.924Z"
   },
   {
    "duration": 9,
    "start_time": "2023-05-23T16:32:30.659Z"
   },
   {
    "duration": 558,
    "start_time": "2023-05-23T16:33:17.546Z"
   },
   {
    "duration": 1450,
    "start_time": "2023-05-23T16:33:18.106Z"
   },
   {
    "duration": 12,
    "start_time": "2023-05-23T16:33:19.558Z"
   },
   {
    "duration": 10,
    "start_time": "2023-05-23T16:33:19.572Z"
   },
   {
    "duration": 6,
    "start_time": "2023-05-23T16:33:19.584Z"
   },
   {
    "duration": 12,
    "start_time": "2023-05-23T16:33:19.591Z"
   },
   {
    "duration": 15,
    "start_time": "2023-05-23T16:33:19.605Z"
   },
   {
    "duration": 10,
    "start_time": "2023-05-23T16:33:19.623Z"
   },
   {
    "duration": 7,
    "start_time": "2023-05-23T16:33:19.634Z"
   },
   {
    "duration": 140,
    "start_time": "2023-05-23T16:33:19.643Z"
   },
   {
    "duration": 5,
    "start_time": "2023-05-23T16:33:19.785Z"
   },
   {
    "duration": 138,
    "start_time": "2023-05-23T16:33:19.791Z"
   },
   {
    "duration": 5,
    "start_time": "2023-05-23T16:33:19.931Z"
   },
   {
    "duration": 10,
    "start_time": "2023-05-23T16:33:19.938Z"
   },
   {
    "duration": 16,
    "start_time": "2023-05-23T16:33:19.950Z"
   },
   {
    "duration": 137,
    "start_time": "2023-05-23T16:33:19.967Z"
   },
   {
    "duration": 20,
    "start_time": "2023-05-23T16:33:20.105Z"
   },
   {
    "duration": 26,
    "start_time": "2023-05-23T16:33:20.126Z"
   },
   {
    "duration": 3,
    "start_time": "2023-05-23T16:33:20.154Z"
   },
   {
    "duration": 17,
    "start_time": "2023-05-23T16:33:20.159Z"
   },
   {
    "duration": 19,
    "start_time": "2023-05-23T16:33:20.178Z"
   },
   {
    "duration": 36,
    "start_time": "2023-05-23T16:33:20.199Z"
   },
   {
    "duration": 8,
    "start_time": "2023-05-23T16:33:20.237Z"
   },
   {
    "duration": 75,
    "start_time": "2023-05-23T16:33:20.247Z"
   },
   {
    "duration": 0,
    "start_time": "2023-05-23T16:33:20.323Z"
   },
   {
    "duration": 0,
    "start_time": "2023-05-23T16:33:20.324Z"
   },
   {
    "duration": 0,
    "start_time": "2023-05-23T16:33:20.325Z"
   },
   {
    "duration": 0,
    "start_time": "2023-05-23T16:33:20.326Z"
   },
   {
    "duration": 0,
    "start_time": "2023-05-23T16:33:20.330Z"
   },
   {
    "duration": 0,
    "start_time": "2023-05-23T16:33:20.331Z"
   },
   {
    "duration": 0,
    "start_time": "2023-05-23T16:33:20.333Z"
   },
   {
    "duration": 0,
    "start_time": "2023-05-23T16:33:20.334Z"
   },
   {
    "duration": 0,
    "start_time": "2023-05-23T16:33:20.336Z"
   },
   {
    "duration": 0,
    "start_time": "2023-05-23T16:33:20.337Z"
   },
   {
    "duration": 0,
    "start_time": "2023-05-23T16:33:20.338Z"
   },
   {
    "duration": 0,
    "start_time": "2023-05-23T16:33:20.340Z"
   },
   {
    "duration": 0,
    "start_time": "2023-05-23T16:33:20.341Z"
   },
   {
    "duration": 0,
    "start_time": "2023-05-23T16:33:20.342Z"
   },
   {
    "duration": 0,
    "start_time": "2023-05-23T16:33:20.344Z"
   },
   {
    "duration": 11,
    "start_time": "2023-05-23T16:33:37.482Z"
   },
   {
    "duration": 8,
    "start_time": "2023-05-23T16:33:50.163Z"
   },
   {
    "duration": 17,
    "start_time": "2023-05-23T16:34:07.903Z"
   },
   {
    "duration": 3,
    "start_time": "2023-05-23T16:34:38.284Z"
   },
   {
    "duration": 9,
    "start_time": "2023-05-23T16:34:59.691Z"
   },
   {
    "duration": 10,
    "start_time": "2023-05-23T16:35:22.823Z"
   },
   {
    "duration": 10,
    "start_time": "2023-05-23T16:35:34.471Z"
   },
   {
    "duration": 648,
    "start_time": "2023-05-23T16:35:43.883Z"
   },
   {
    "duration": 947,
    "start_time": "2023-05-23T16:35:44.533Z"
   },
   {
    "duration": 11,
    "start_time": "2023-05-23T16:35:45.481Z"
   },
   {
    "duration": 30,
    "start_time": "2023-05-23T16:35:45.494Z"
   },
   {
    "duration": 18,
    "start_time": "2023-05-23T16:35:45.525Z"
   },
   {
    "duration": 38,
    "start_time": "2023-05-23T16:35:45.544Z"
   },
   {
    "duration": 35,
    "start_time": "2023-05-23T16:35:45.584Z"
   },
   {
    "duration": 15,
    "start_time": "2023-05-23T16:35:45.621Z"
   },
   {
    "duration": 8,
    "start_time": "2023-05-23T16:35:45.637Z"
   },
   {
    "duration": 131,
    "start_time": "2023-05-23T16:35:45.647Z"
   },
   {
    "duration": 5,
    "start_time": "2023-05-23T16:35:45.780Z"
   },
   {
    "duration": 140,
    "start_time": "2023-05-23T16:35:45.786Z"
   },
   {
    "duration": 5,
    "start_time": "2023-05-23T16:35:45.927Z"
   },
   {
    "duration": 7,
    "start_time": "2023-05-23T16:35:45.933Z"
   },
   {
    "duration": 25,
    "start_time": "2023-05-23T16:35:45.941Z"
   },
   {
    "duration": 136,
    "start_time": "2023-05-23T16:35:45.968Z"
   },
   {
    "duration": 18,
    "start_time": "2023-05-23T16:35:46.105Z"
   },
   {
    "duration": 15,
    "start_time": "2023-05-23T16:35:46.124Z"
   },
   {
    "duration": 10,
    "start_time": "2023-05-23T16:35:46.140Z"
   },
   {
    "duration": 16,
    "start_time": "2023-05-23T16:35:46.152Z"
   },
   {
    "duration": 11,
    "start_time": "2023-05-23T16:35:46.169Z"
   },
   {
    "duration": 16,
    "start_time": "2023-05-23T16:35:46.181Z"
   },
   {
    "duration": 2,
    "start_time": "2023-05-23T16:35:46.199Z"
   },
   {
    "duration": 19,
    "start_time": "2023-05-23T16:35:46.202Z"
   },
   {
    "duration": 16,
    "start_time": "2023-05-23T16:35:46.222Z"
   },
   {
    "duration": 8,
    "start_time": "2023-05-23T16:35:46.239Z"
   },
   {
    "duration": 14,
    "start_time": "2023-05-23T16:35:46.248Z"
   },
   {
    "duration": 86,
    "start_time": "2023-05-23T16:35:46.265Z"
   },
   {
    "duration": 1022,
    "start_time": "2023-05-23T16:35:46.352Z"
   },
   {
    "duration": 2,
    "start_time": "2023-05-23T16:35:47.376Z"
   },
   {
    "duration": 512,
    "start_time": "2023-05-23T16:35:47.380Z"
   },
   {
    "duration": 79,
    "start_time": "2023-05-23T16:35:47.894Z"
   },
   {
    "duration": 5,
    "start_time": "2023-05-23T16:35:47.975Z"
   },
   {
    "duration": 13,
    "start_time": "2023-05-23T16:35:47.982Z"
   },
   {
    "duration": 10,
    "start_time": "2023-05-23T16:35:47.997Z"
   },
   {
    "duration": 854,
    "start_time": "2023-05-23T16:35:48.010Z"
   },
   {
    "duration": 0,
    "start_time": "2023-05-23T16:35:48.866Z"
   },
   {
    "duration": 0,
    "start_time": "2023-05-23T16:35:48.867Z"
   },
   {
    "duration": 0,
    "start_time": "2023-05-23T16:35:48.869Z"
   },
   {
    "duration": 0,
    "start_time": "2023-05-23T16:35:48.870Z"
   },
   {
    "duration": 10,
    "start_time": "2023-05-23T16:36:07.289Z"
   },
   {
    "duration": 558,
    "start_time": "2023-05-23T16:36:20.482Z"
   },
   {
    "duration": 4280,
    "start_time": "2023-05-23T16:36:21.042Z"
   },
   {
    "duration": 16,
    "start_time": "2023-05-23T16:36:25.325Z"
   },
   {
    "duration": 18,
    "start_time": "2023-05-23T16:36:25.343Z"
   },
   {
    "duration": 22,
    "start_time": "2023-05-23T16:36:25.363Z"
   },
   {
    "duration": 13,
    "start_time": "2023-05-23T16:36:25.387Z"
   },
   {
    "duration": 27,
    "start_time": "2023-05-23T16:36:25.401Z"
   },
   {
    "duration": 7,
    "start_time": "2023-05-23T16:36:25.430Z"
   },
   {
    "duration": 7,
    "start_time": "2023-05-23T16:36:25.439Z"
   },
   {
    "duration": 129,
    "start_time": "2023-05-23T16:36:25.447Z"
   },
   {
    "duration": 5,
    "start_time": "2023-05-23T16:36:25.578Z"
   },
   {
    "duration": 133,
    "start_time": "2023-05-23T16:36:25.584Z"
   },
   {
    "duration": 8,
    "start_time": "2023-05-23T16:36:25.720Z"
   },
   {
    "duration": 5,
    "start_time": "2023-05-23T16:36:25.731Z"
   },
   {
    "duration": 18,
    "start_time": "2023-05-23T16:36:25.738Z"
   },
   {
    "duration": 153,
    "start_time": "2023-05-23T16:36:25.758Z"
   },
   {
    "duration": 13,
    "start_time": "2023-05-23T16:36:25.913Z"
   },
   {
    "duration": 18,
    "start_time": "2023-05-23T16:36:25.928Z"
   },
   {
    "duration": 8,
    "start_time": "2023-05-23T16:36:25.947Z"
   },
   {
    "duration": 18,
    "start_time": "2023-05-23T16:36:25.957Z"
   },
   {
    "duration": 6,
    "start_time": "2023-05-23T16:36:25.977Z"
   },
   {
    "duration": 37,
    "start_time": "2023-05-23T16:36:25.984Z"
   },
   {
    "duration": 12,
    "start_time": "2023-05-23T16:36:26.025Z"
   },
   {
    "duration": 12,
    "start_time": "2023-05-23T16:36:26.038Z"
   },
   {
    "duration": 13,
    "start_time": "2023-05-23T16:36:26.051Z"
   },
   {
    "duration": 8,
    "start_time": "2023-05-23T16:36:26.066Z"
   },
   {
    "duration": 15,
    "start_time": "2023-05-23T16:36:26.076Z"
   },
   {
    "duration": 33,
    "start_time": "2023-05-23T16:36:26.092Z"
   },
   {
    "duration": 1195,
    "start_time": "2023-05-23T16:36:26.126Z"
   },
   {
    "duration": 2,
    "start_time": "2023-05-23T16:36:27.323Z"
   },
   {
    "duration": 541,
    "start_time": "2023-05-23T16:36:27.327Z"
   },
   {
    "duration": 67,
    "start_time": "2023-05-23T16:36:27.870Z"
   },
   {
    "duration": 4,
    "start_time": "2023-05-23T16:36:27.938Z"
   },
   {
    "duration": 15,
    "start_time": "2023-05-23T16:36:27.943Z"
   },
   {
    "duration": 6,
    "start_time": "2023-05-23T16:36:27.960Z"
   },
   {
    "duration": 903,
    "start_time": "2023-05-23T16:36:27.967Z"
   },
   {
    "duration": 0,
    "start_time": "2023-05-23T16:36:28.871Z"
   },
   {
    "duration": 0,
    "start_time": "2023-05-23T16:36:28.872Z"
   },
   {
    "duration": 0,
    "start_time": "2023-05-23T16:36:28.873Z"
   },
   {
    "duration": 0,
    "start_time": "2023-05-23T16:36:28.874Z"
   },
   {
    "duration": 6,
    "start_time": "2023-05-23T16:36:39.979Z"
   },
   {
    "duration": 9,
    "start_time": "2023-05-23T16:36:53.224Z"
   },
   {
    "duration": 13,
    "start_time": "2023-05-23T16:37:02.171Z"
   },
   {
    "duration": 4,
    "start_time": "2023-05-23T16:38:42.470Z"
   },
   {
    "duration": 11,
    "start_time": "2023-05-23T16:39:43.097Z"
   },
   {
    "duration": 829,
    "start_time": "2023-05-23T16:40:11.483Z"
   },
   {
    "duration": 45,
    "start_time": "2023-05-24T12:05:05.750Z"
   },
   {
    "duration": 731,
    "start_time": "2023-05-24T12:05:12.053Z"
   },
   {
    "duration": 1299,
    "start_time": "2023-05-24T12:05:12.787Z"
   },
   {
    "duration": 11,
    "start_time": "2023-05-24T12:05:14.087Z"
   },
   {
    "duration": 29,
    "start_time": "2023-05-24T12:05:14.100Z"
   },
   {
    "duration": 5,
    "start_time": "2023-05-24T12:05:14.130Z"
   },
   {
    "duration": 18,
    "start_time": "2023-05-24T12:05:14.136Z"
   },
   {
    "duration": 9,
    "start_time": "2023-05-24T12:05:14.156Z"
   },
   {
    "duration": 8,
    "start_time": "2023-05-24T12:05:14.166Z"
   },
   {
    "duration": 9,
    "start_time": "2023-05-24T12:05:14.176Z"
   },
   {
    "duration": 138,
    "start_time": "2023-05-24T12:05:14.187Z"
   },
   {
    "duration": 5,
    "start_time": "2023-05-24T12:05:14.327Z"
   },
   {
    "duration": 133,
    "start_time": "2023-05-24T12:05:14.333Z"
   },
   {
    "duration": 5,
    "start_time": "2023-05-24T12:05:14.467Z"
   },
   {
    "duration": 13,
    "start_time": "2023-05-24T12:05:14.473Z"
   },
   {
    "duration": 15,
    "start_time": "2023-05-24T12:05:14.488Z"
   },
   {
    "duration": 120,
    "start_time": "2023-05-24T12:05:14.504Z"
   },
   {
    "duration": 6,
    "start_time": "2023-05-24T12:05:14.625Z"
   },
   {
    "duration": 30,
    "start_time": "2023-05-24T12:05:14.632Z"
   },
   {
    "duration": 3,
    "start_time": "2023-05-24T12:05:14.663Z"
   },
   {
    "duration": 6,
    "start_time": "2023-05-24T12:05:14.667Z"
   },
   {
    "duration": 11,
    "start_time": "2023-05-24T12:05:14.674Z"
   },
   {
    "duration": 16,
    "start_time": "2023-05-24T12:05:14.686Z"
   },
   {
    "duration": 3,
    "start_time": "2023-05-24T12:05:14.703Z"
   },
   {
    "duration": 7,
    "start_time": "2023-05-24T12:05:14.707Z"
   },
   {
    "duration": 12,
    "start_time": "2023-05-24T12:05:14.716Z"
   },
   {
    "duration": 6,
    "start_time": "2023-05-24T12:05:14.730Z"
   },
   {
    "duration": 21,
    "start_time": "2023-05-24T12:05:14.737Z"
   },
   {
    "duration": 164,
    "start_time": "2023-05-24T12:05:14.784Z"
   },
   {
    "duration": 1444,
    "start_time": "2023-05-24T12:05:14.949Z"
   },
   {
    "duration": 3,
    "start_time": "2023-05-24T12:05:16.395Z"
   },
   {
    "duration": 721,
    "start_time": "2023-05-24T12:05:16.400Z"
   },
   {
    "duration": 119,
    "start_time": "2023-05-24T12:05:17.123Z"
   },
   {
    "duration": 4,
    "start_time": "2023-05-24T12:05:17.243Z"
   },
   {
    "duration": 45,
    "start_time": "2023-05-24T12:05:17.248Z"
   },
   {
    "duration": 6,
    "start_time": "2023-05-24T12:05:17.295Z"
   },
   {
    "duration": 1699,
    "start_time": "2023-05-24T12:05:17.302Z"
   },
   {
    "duration": 0,
    "start_time": "2023-05-24T12:05:19.003Z"
   },
   {
    "duration": 0,
    "start_time": "2023-05-24T12:05:19.004Z"
   },
   {
    "duration": 0,
    "start_time": "2023-05-24T12:05:19.005Z"
   },
   {
    "duration": 0,
    "start_time": "2023-05-24T12:05:19.006Z"
   },
   {
    "duration": 13,
    "start_time": "2023-05-24T12:17:32.899Z"
   },
   {
    "duration": 12,
    "start_time": "2023-05-24T12:17:43.856Z"
   },
   {
    "duration": 10,
    "start_time": "2023-05-24T12:18:25.379Z"
   },
   {
    "duration": 17,
    "start_time": "2023-05-24T12:18:30.478Z"
   },
   {
    "duration": 731,
    "start_time": "2023-05-24T12:19:27.837Z"
   },
   {
    "duration": 14,
    "start_time": "2023-05-24T12:19:39.368Z"
   },
   {
    "duration": 11,
    "start_time": "2023-05-24T12:20:16.065Z"
   },
   {
    "duration": 20,
    "start_time": "2023-05-24T12:20:22.061Z"
   },
   {
    "duration": 22,
    "start_time": "2023-05-24T12:20:36.364Z"
   },
   {
    "duration": 16,
    "start_time": "2023-05-24T12:20:44.917Z"
   },
   {
    "duration": 16,
    "start_time": "2023-05-24T12:20:52.175Z"
   },
   {
    "duration": 16,
    "start_time": "2023-05-24T12:21:55.713Z"
   },
   {
    "duration": 16,
    "start_time": "2023-05-24T12:22:28.777Z"
   },
   {
    "duration": 20,
    "start_time": "2023-05-24T12:22:35.899Z"
   },
   {
    "duration": 19,
    "start_time": "2023-05-24T12:23:31.055Z"
   },
   {
    "duration": 27,
    "start_time": "2023-05-24T12:23:41.171Z"
   },
   {
    "duration": 632,
    "start_time": "2023-05-24T12:23:52.207Z"
   },
   {
    "duration": 4503,
    "start_time": "2023-05-24T12:23:52.841Z"
   },
   {
    "duration": 11,
    "start_time": "2023-05-24T12:23:57.345Z"
   },
   {
    "duration": 23,
    "start_time": "2023-05-24T12:23:57.358Z"
   },
   {
    "duration": 19,
    "start_time": "2023-05-24T12:23:57.382Z"
   },
   {
    "duration": 17,
    "start_time": "2023-05-24T12:23:57.403Z"
   },
   {
    "duration": 16,
    "start_time": "2023-05-24T12:23:57.421Z"
   },
   {
    "duration": 15,
    "start_time": "2023-05-24T12:23:57.439Z"
   },
   {
    "duration": 9,
    "start_time": "2023-05-24T12:23:57.455Z"
   },
   {
    "duration": 123,
    "start_time": "2023-05-24T12:23:57.467Z"
   },
   {
    "duration": 5,
    "start_time": "2023-05-24T12:23:57.592Z"
   },
   {
    "duration": 137,
    "start_time": "2023-05-24T12:23:57.599Z"
   },
   {
    "duration": 6,
    "start_time": "2023-05-24T12:23:57.737Z"
   },
   {
    "duration": 10,
    "start_time": "2023-05-24T12:23:57.745Z"
   },
   {
    "duration": 33,
    "start_time": "2023-05-24T12:23:57.757Z"
   },
   {
    "duration": 137,
    "start_time": "2023-05-24T12:23:57.792Z"
   },
   {
    "duration": 6,
    "start_time": "2023-05-24T12:23:57.930Z"
   },
   {
    "duration": 21,
    "start_time": "2023-05-24T12:23:57.938Z"
   },
   {
    "duration": 3,
    "start_time": "2023-05-24T12:23:57.961Z"
   },
   {
    "duration": 20,
    "start_time": "2023-05-24T12:23:57.965Z"
   },
   {
    "duration": 4,
    "start_time": "2023-05-24T12:23:57.986Z"
   },
   {
    "duration": 17,
    "start_time": "2023-05-24T12:23:57.991Z"
   },
   {
    "duration": 3,
    "start_time": "2023-05-24T12:23:58.009Z"
   },
   {
    "duration": 8,
    "start_time": "2023-05-24T12:23:58.014Z"
   },
   {
    "duration": 11,
    "start_time": "2023-05-24T12:23:58.023Z"
   },
   {
    "duration": 20,
    "start_time": "2023-05-24T12:23:58.035Z"
   },
   {
    "duration": 38,
    "start_time": "2023-05-24T12:23:58.057Z"
   },
   {
    "duration": 155,
    "start_time": "2023-05-24T12:23:58.098Z"
   },
   {
    "duration": 3921,
    "start_time": "2023-05-24T12:23:58.255Z"
   },
   {
    "duration": 3,
    "start_time": "2023-05-24T12:24:02.178Z"
   },
   {
    "duration": 1356,
    "start_time": "2023-05-24T12:24:02.182Z"
   },
   {
    "duration": 387,
    "start_time": "2023-05-24T12:24:03.539Z"
   },
   {
    "duration": 4,
    "start_time": "2023-05-24T12:24:03.928Z"
   },
   {
    "duration": 28,
    "start_time": "2023-05-24T12:24:03.934Z"
   },
   {
    "duration": 7,
    "start_time": "2023-05-24T12:24:03.964Z"
   },
   {
    "duration": 3610,
    "start_time": "2023-05-24T12:24:03.972Z"
   },
   {
    "duration": 0,
    "start_time": "2023-05-24T12:24:07.584Z"
   },
   {
    "duration": 0,
    "start_time": "2023-05-24T12:24:07.585Z"
   },
   {
    "duration": 0,
    "start_time": "2023-05-24T12:24:07.586Z"
   },
   {
    "duration": 0,
    "start_time": "2023-05-24T12:24:07.587Z"
   },
   {
    "duration": 21,
    "start_time": "2023-05-24T12:24:13.263Z"
   },
   {
    "duration": 26,
    "start_time": "2023-05-24T12:24:28.758Z"
   },
   {
    "duration": 687,
    "start_time": "2023-05-24T12:24:35.589Z"
   },
   {
    "duration": 1347,
    "start_time": "2023-05-24T12:24:36.278Z"
   },
   {
    "duration": 15,
    "start_time": "2023-05-24T12:24:37.627Z"
   },
   {
    "duration": 12,
    "start_time": "2023-05-24T12:24:37.645Z"
   },
   {
    "duration": 4,
    "start_time": "2023-05-24T12:24:37.659Z"
   },
   {
    "duration": 32,
    "start_time": "2023-05-24T12:24:37.665Z"
   },
   {
    "duration": 10,
    "start_time": "2023-05-24T12:24:37.699Z"
   },
   {
    "duration": 13,
    "start_time": "2023-05-24T12:24:37.710Z"
   },
   {
    "duration": 9,
    "start_time": "2023-05-24T12:24:37.724Z"
   },
   {
    "duration": 172,
    "start_time": "2023-05-24T12:24:37.735Z"
   },
   {
    "duration": 6,
    "start_time": "2023-05-24T12:24:37.909Z"
   },
   {
    "duration": 166,
    "start_time": "2023-05-24T12:24:37.917Z"
   },
   {
    "duration": 6,
    "start_time": "2023-05-24T12:24:38.084Z"
   },
   {
    "duration": 26,
    "start_time": "2023-05-24T12:24:38.091Z"
   },
   {
    "duration": 36,
    "start_time": "2023-05-24T12:24:38.118Z"
   },
   {
    "duration": 138,
    "start_time": "2023-05-24T12:24:38.156Z"
   },
   {
    "duration": 8,
    "start_time": "2023-05-24T12:24:38.296Z"
   },
   {
    "duration": 37,
    "start_time": "2023-05-24T12:24:38.306Z"
   },
   {
    "duration": 6,
    "start_time": "2023-05-24T12:24:38.345Z"
   },
   {
    "duration": 30,
    "start_time": "2023-05-24T12:24:38.353Z"
   },
   {
    "duration": 51,
    "start_time": "2023-05-24T12:24:38.385Z"
   },
   {
    "duration": 61,
    "start_time": "2023-05-24T12:24:38.438Z"
   },
   {
    "duration": 55,
    "start_time": "2023-05-24T12:24:38.501Z"
   },
   {
    "duration": 32,
    "start_time": "2023-05-24T12:24:38.558Z"
   },
   {
    "duration": 14,
    "start_time": "2023-05-24T12:24:38.592Z"
   },
   {
    "duration": 21,
    "start_time": "2023-05-24T12:24:38.608Z"
   },
   {
    "duration": 24,
    "start_time": "2023-05-24T12:24:38.631Z"
   },
   {
    "duration": 200,
    "start_time": "2023-05-24T12:24:38.659Z"
   },
   {
    "duration": 4753,
    "start_time": "2023-05-24T12:24:38.861Z"
   },
   {
    "duration": 3,
    "start_time": "2023-05-24T12:24:43.617Z"
   },
   {
    "duration": 1181,
    "start_time": "2023-05-24T12:24:43.622Z"
   },
   {
    "duration": 413,
    "start_time": "2023-05-24T12:24:44.805Z"
   },
   {
    "duration": 4,
    "start_time": "2023-05-24T12:24:45.219Z"
   },
   {
    "duration": 35,
    "start_time": "2023-05-24T12:24:45.224Z"
   },
   {
    "duration": 17,
    "start_time": "2023-05-24T12:24:45.260Z"
   },
   {
    "duration": 5139,
    "start_time": "2023-05-24T12:24:45.278Z"
   },
   {
    "duration": 0,
    "start_time": "2023-05-24T12:24:50.419Z"
   },
   {
    "duration": 0,
    "start_time": "2023-05-24T12:24:50.421Z"
   },
   {
    "duration": 0,
    "start_time": "2023-05-24T12:24:50.422Z"
   },
   {
    "duration": 0,
    "start_time": "2023-05-24T12:24:50.423Z"
   },
   {
    "duration": 22,
    "start_time": "2023-05-24T12:25:11.349Z"
   },
   {
    "duration": 24,
    "start_time": "2023-05-24T12:25:15.331Z"
   },
   {
    "duration": 28,
    "start_time": "2023-05-24T12:25:18.076Z"
   },
   {
    "duration": 31,
    "start_time": "2023-05-24T12:25:21.951Z"
   },
   {
    "duration": 862,
    "start_time": "2023-05-24T12:26:19.761Z"
   },
   {
    "duration": 1936,
    "start_time": "2023-05-24T12:26:20.625Z"
   },
   {
    "duration": 12,
    "start_time": "2023-05-24T12:26:22.563Z"
   },
   {
    "duration": 16,
    "start_time": "2023-05-24T12:26:22.577Z"
   },
   {
    "duration": 16,
    "start_time": "2023-05-24T12:26:22.594Z"
   },
   {
    "duration": 25,
    "start_time": "2023-05-24T12:26:22.612Z"
   },
   {
    "duration": 14,
    "start_time": "2023-05-24T12:26:22.638Z"
   },
   {
    "duration": 12,
    "start_time": "2023-05-24T12:26:22.654Z"
   },
   {
    "duration": 10,
    "start_time": "2023-05-24T12:26:22.668Z"
   },
   {
    "duration": 152,
    "start_time": "2023-05-24T12:26:22.681Z"
   },
   {
    "duration": 5,
    "start_time": "2023-05-24T12:26:22.834Z"
   },
   {
    "duration": 130,
    "start_time": "2023-05-24T12:26:22.840Z"
   },
   {
    "duration": 15,
    "start_time": "2023-05-24T12:26:22.971Z"
   },
   {
    "duration": 8,
    "start_time": "2023-05-24T12:26:22.987Z"
   },
   {
    "duration": 19,
    "start_time": "2023-05-24T12:26:22.996Z"
   },
   {
    "duration": 137,
    "start_time": "2023-05-24T12:26:23.017Z"
   },
   {
    "duration": 7,
    "start_time": "2023-05-24T12:26:23.156Z"
   },
   {
    "duration": 30,
    "start_time": "2023-05-24T12:26:23.164Z"
   },
   {
    "duration": 7,
    "start_time": "2023-05-24T12:26:23.196Z"
   },
   {
    "duration": 18,
    "start_time": "2023-05-24T12:26:23.204Z"
   },
   {
    "duration": 24,
    "start_time": "2023-05-24T12:26:23.223Z"
   },
   {
    "duration": 33,
    "start_time": "2023-05-24T12:26:23.249Z"
   },
   {
    "duration": 5,
    "start_time": "2023-05-24T12:26:23.284Z"
   },
   {
    "duration": 18,
    "start_time": "2023-05-24T12:26:23.290Z"
   },
   {
    "duration": 18,
    "start_time": "2023-05-24T12:26:23.310Z"
   },
   {
    "duration": 25,
    "start_time": "2023-05-24T12:26:23.329Z"
   },
   {
    "duration": 14,
    "start_time": "2023-05-24T12:26:23.356Z"
   },
   {
    "duration": 8,
    "start_time": "2023-05-24T12:26:23.374Z"
   },
   {
    "duration": 9,
    "start_time": "2023-05-24T12:26:23.385Z"
   },
   {
    "duration": 9,
    "start_time": "2023-05-24T12:26:23.396Z"
   },
   {
    "duration": 8,
    "start_time": "2023-05-24T12:26:23.407Z"
   },
   {
    "duration": 13,
    "start_time": "2023-05-24T12:26:23.417Z"
   },
   {
    "duration": 9,
    "start_time": "2023-05-24T12:26:23.432Z"
   },
   {
    "duration": 27,
    "start_time": "2023-05-24T12:26:32.753Z"
   },
   {
    "duration": 38,
    "start_time": "2023-05-24T12:26:41.280Z"
   },
   {
    "duration": 899,
    "start_time": "2023-05-24T12:27:43.493Z"
   },
   {
    "duration": 918,
    "start_time": "2023-05-24T12:27:44.394Z"
   },
   {
    "duration": 11,
    "start_time": "2023-05-24T12:27:45.313Z"
   },
   {
    "duration": 10,
    "start_time": "2023-05-24T12:27:45.326Z"
   },
   {
    "duration": 10,
    "start_time": "2023-05-24T12:27:45.337Z"
   },
   {
    "duration": 26,
    "start_time": "2023-05-24T12:27:45.348Z"
   },
   {
    "duration": 13,
    "start_time": "2023-05-24T12:27:45.375Z"
   },
   {
    "duration": 14,
    "start_time": "2023-05-24T12:27:45.389Z"
   },
   {
    "duration": 16,
    "start_time": "2023-05-24T12:27:45.404Z"
   },
   {
    "duration": 124,
    "start_time": "2023-05-24T12:27:45.423Z"
   },
   {
    "duration": 6,
    "start_time": "2023-05-24T12:27:45.548Z"
   },
   {
    "duration": 136,
    "start_time": "2023-05-24T12:27:45.555Z"
   },
   {
    "duration": 6,
    "start_time": "2023-05-24T12:27:45.692Z"
   },
   {
    "duration": 6,
    "start_time": "2023-05-24T12:27:45.699Z"
   },
   {
    "duration": 35,
    "start_time": "2023-05-24T12:27:45.706Z"
   },
   {
    "duration": 111,
    "start_time": "2023-05-24T12:27:45.743Z"
   },
   {
    "duration": 7,
    "start_time": "2023-05-24T12:27:45.855Z"
   },
   {
    "duration": 25,
    "start_time": "2023-05-24T12:27:45.863Z"
   },
   {
    "duration": 2,
    "start_time": "2023-05-24T12:27:45.890Z"
   },
   {
    "duration": 14,
    "start_time": "2023-05-24T12:27:45.894Z"
   },
   {
    "duration": 6,
    "start_time": "2023-05-24T12:27:45.910Z"
   },
   {
    "duration": 18,
    "start_time": "2023-05-24T12:27:45.917Z"
   },
   {
    "duration": 3,
    "start_time": "2023-05-24T12:27:45.936Z"
   },
   {
    "duration": 18,
    "start_time": "2023-05-24T12:27:45.941Z"
   },
   {
    "duration": 27,
    "start_time": "2023-05-24T12:27:45.961Z"
   },
   {
    "duration": 25,
    "start_time": "2023-05-24T12:27:45.990Z"
   },
   {
    "duration": 17,
    "start_time": "2023-05-24T12:27:46.016Z"
   },
   {
    "duration": 2,
    "start_time": "2023-05-24T12:27:46.036Z"
   },
   {
    "duration": 9,
    "start_time": "2023-05-24T12:27:46.039Z"
   },
   {
    "duration": 31,
    "start_time": "2023-05-24T12:27:46.050Z"
   },
   {
    "duration": 6,
    "start_time": "2023-05-24T12:27:46.082Z"
   },
   {
    "duration": 22,
    "start_time": "2023-05-24T12:27:46.089Z"
   },
   {
    "duration": 8,
    "start_time": "2023-05-24T12:27:46.113Z"
   },
   {
    "duration": 20,
    "start_time": "2023-05-24T12:27:53.483Z"
   },
   {
    "duration": 19,
    "start_time": "2023-05-24T12:28:02.352Z"
   },
   {
    "duration": 19,
    "start_time": "2023-05-24T12:29:32.001Z"
   },
   {
    "duration": 8,
    "start_time": "2023-05-24T12:30:05.258Z"
   },
   {
    "duration": 10,
    "start_time": "2023-05-24T12:30:19.557Z"
   },
   {
    "duration": 647,
    "start_time": "2023-05-24T12:35:08.821Z"
   },
   {
    "duration": 22,
    "start_time": "2023-05-24T12:35:18.587Z"
   },
   {
    "duration": 12,
    "start_time": "2023-05-24T13:37:55.128Z"
   },
   {
    "duration": 6,
    "start_time": "2023-05-24T13:38:02.358Z"
   },
   {
    "duration": 19,
    "start_time": "2023-05-24T13:38:20.086Z"
   },
   {
    "duration": 45,
    "start_time": "2023-05-24T13:38:48.271Z"
   },
   {
    "duration": 31,
    "start_time": "2023-05-24T13:39:21.791Z"
   },
   {
    "duration": 10,
    "start_time": "2023-05-24T13:42:06.162Z"
   },
   {
    "duration": 10,
    "start_time": "2023-05-24T13:43:01.517Z"
   },
   {
    "duration": 386,
    "start_time": "2023-05-24T13:43:24.221Z"
   },
   {
    "duration": 5,
    "start_time": "2023-05-24T13:43:37.819Z"
   },
   {
    "duration": 3,
    "start_time": "2023-05-24T13:43:44.121Z"
   },
   {
    "duration": 600,
    "start_time": "2023-05-24T13:43:49.488Z"
   },
   {
    "duration": 1440,
    "start_time": "2023-05-24T13:43:50.089Z"
   },
   {
    "duration": 15,
    "start_time": "2023-05-24T13:43:51.531Z"
   },
   {
    "duration": 24,
    "start_time": "2023-05-24T13:43:51.548Z"
   },
   {
    "duration": 7,
    "start_time": "2023-05-24T13:43:51.575Z"
   },
   {
    "duration": 27,
    "start_time": "2023-05-24T13:43:51.583Z"
   },
   {
    "duration": 11,
    "start_time": "2023-05-24T13:43:51.612Z"
   },
   {
    "duration": 23,
    "start_time": "2023-05-24T13:43:51.624Z"
   },
   {
    "duration": 12,
    "start_time": "2023-05-24T13:43:51.648Z"
   },
   {
    "duration": 18,
    "start_time": "2023-05-24T13:43:51.661Z"
   },
   {
    "duration": 137,
    "start_time": "2023-05-24T13:43:51.680Z"
   },
   {
    "duration": 6,
    "start_time": "2023-05-24T13:43:51.818Z"
   },
   {
    "duration": 127,
    "start_time": "2023-05-24T13:43:51.826Z"
   },
   {
    "duration": 4,
    "start_time": "2023-05-24T13:43:51.956Z"
   },
   {
    "duration": 16,
    "start_time": "2023-05-24T13:43:51.961Z"
   },
   {
    "duration": 68,
    "start_time": "2023-05-24T13:43:51.978Z"
   },
   {
    "duration": 268,
    "start_time": "2023-05-24T13:43:52.048Z"
   },
   {
    "duration": 7,
    "start_time": "2023-05-24T13:43:52.319Z"
   },
   {
    "duration": 69,
    "start_time": "2023-05-24T13:43:52.327Z"
   },
   {
    "duration": 30,
    "start_time": "2023-05-24T13:43:52.397Z"
   },
   {
    "duration": 83,
    "start_time": "2023-05-24T13:43:52.430Z"
   },
   {
    "duration": 37,
    "start_time": "2023-05-24T13:43:52.515Z"
   },
   {
    "duration": 31,
    "start_time": "2023-05-24T13:43:52.554Z"
   },
   {
    "duration": 9,
    "start_time": "2023-05-24T13:43:52.586Z"
   },
   {
    "duration": 33,
    "start_time": "2023-05-24T13:43:52.597Z"
   },
   {
    "duration": 22,
    "start_time": "2023-05-24T13:43:52.631Z"
   },
   {
    "duration": 35,
    "start_time": "2023-05-24T13:43:52.655Z"
   },
   {
    "duration": 2,
    "start_time": "2023-05-24T13:43:52.692Z"
   },
   {
    "duration": 14,
    "start_time": "2023-05-24T13:43:52.696Z"
   },
   {
    "duration": 5,
    "start_time": "2023-05-24T13:43:52.712Z"
   },
   {
    "duration": 12,
    "start_time": "2023-05-24T13:43:52.718Z"
   },
   {
    "duration": 8,
    "start_time": "2023-05-24T13:43:52.732Z"
   },
   {
    "duration": 6,
    "start_time": "2023-05-24T13:43:52.742Z"
   },
   {
    "duration": 6,
    "start_time": "2023-05-24T13:56:28.373Z"
   },
   {
    "duration": 10,
    "start_time": "2023-05-24T13:58:25.502Z"
   },
   {
    "duration": 79,
    "start_time": "2023-05-24T14:00:47.634Z"
   },
   {
    "duration": 620,
    "start_time": "2023-05-24T14:01:08.796Z"
   },
   {
    "duration": 1463,
    "start_time": "2023-05-24T14:01:09.418Z"
   },
   {
    "duration": 21,
    "start_time": "2023-05-24T14:01:10.882Z"
   },
   {
    "duration": 17,
    "start_time": "2023-05-24T14:01:10.904Z"
   },
   {
    "duration": 5,
    "start_time": "2023-05-24T14:01:10.923Z"
   },
   {
    "duration": 17,
    "start_time": "2023-05-24T14:01:10.929Z"
   },
   {
    "duration": 13,
    "start_time": "2023-05-24T14:01:10.948Z"
   },
   {
    "duration": 34,
    "start_time": "2023-05-24T14:01:10.962Z"
   },
   {
    "duration": 22,
    "start_time": "2023-05-24T14:01:10.998Z"
   },
   {
    "duration": 7,
    "start_time": "2023-05-24T14:01:11.021Z"
   },
   {
    "duration": 130,
    "start_time": "2023-05-24T14:01:11.029Z"
   },
   {
    "duration": 4,
    "start_time": "2023-05-24T14:01:11.161Z"
   },
   {
    "duration": 133,
    "start_time": "2023-05-24T14:01:11.167Z"
   },
   {
    "duration": 5,
    "start_time": "2023-05-24T14:01:11.303Z"
   },
   {
    "duration": 5,
    "start_time": "2023-05-24T14:01:11.310Z"
   },
   {
    "duration": 17,
    "start_time": "2023-05-24T14:01:11.316Z"
   },
   {
    "duration": 123,
    "start_time": "2023-05-24T14:01:11.334Z"
   },
   {
    "duration": 7,
    "start_time": "2023-05-24T14:01:11.458Z"
   },
   {
    "duration": 29,
    "start_time": "2023-05-24T14:01:11.466Z"
   },
   {
    "duration": 15,
    "start_time": "2023-05-24T14:01:11.498Z"
   },
   {
    "duration": 12,
    "start_time": "2023-05-24T14:01:11.514Z"
   },
   {
    "duration": 4,
    "start_time": "2023-05-24T14:01:11.527Z"
   },
   {
    "duration": 31,
    "start_time": "2023-05-24T14:01:11.533Z"
   },
   {
    "duration": 3,
    "start_time": "2023-05-24T14:01:11.566Z"
   },
   {
    "duration": 8,
    "start_time": "2023-05-24T14:01:11.571Z"
   },
   {
    "duration": 32,
    "start_time": "2023-05-24T14:01:11.581Z"
   },
   {
    "duration": 31,
    "start_time": "2023-05-24T14:01:11.614Z"
   },
   {
    "duration": 81,
    "start_time": "2023-05-24T14:01:11.647Z"
   },
   {
    "duration": 0,
    "start_time": "2023-05-24T14:01:11.729Z"
   },
   {
    "duration": 0,
    "start_time": "2023-05-24T14:01:11.730Z"
   },
   {
    "duration": 0,
    "start_time": "2023-05-24T14:01:11.731Z"
   },
   {
    "duration": 0,
    "start_time": "2023-05-24T14:01:11.731Z"
   },
   {
    "duration": 0,
    "start_time": "2023-05-24T14:01:11.732Z"
   },
   {
    "duration": 0,
    "start_time": "2023-05-24T14:01:11.733Z"
   },
   {
    "duration": 0,
    "start_time": "2023-05-24T14:01:11.734Z"
   },
   {
    "duration": 5,
    "start_time": "2023-05-24T14:01:25.278Z"
   },
   {
    "duration": 10,
    "start_time": "2023-05-24T14:01:28.496Z"
   },
   {
    "duration": 8,
    "start_time": "2023-05-24T14:08:12.831Z"
   },
   {
    "duration": 6,
    "start_time": "2023-05-24T14:13:30.952Z"
   },
   {
    "duration": 3,
    "start_time": "2023-05-24T14:16:56.596Z"
   },
   {
    "duration": 6,
    "start_time": "2023-05-24T14:17:43.650Z"
   },
   {
    "duration": 15,
    "start_time": "2023-05-24T14:18:02.973Z"
   },
   {
    "duration": 9,
    "start_time": "2023-05-24T14:18:10.536Z"
   },
   {
    "duration": 5,
    "start_time": "2023-05-24T14:20:54.081Z"
   },
   {
    "duration": 5,
    "start_time": "2023-05-24T14:21:21.627Z"
   },
   {
    "duration": 11,
    "start_time": "2023-05-24T14:21:44.196Z"
   },
   {
    "duration": 585,
    "start_time": "2023-05-24T14:21:59.905Z"
   },
   {
    "duration": 1615,
    "start_time": "2023-05-24T14:22:00.491Z"
   },
   {
    "duration": 12,
    "start_time": "2023-05-24T14:22:02.107Z"
   },
   {
    "duration": 52,
    "start_time": "2023-05-24T14:22:02.121Z"
   },
   {
    "duration": 35,
    "start_time": "2023-05-24T14:22:02.175Z"
   },
   {
    "duration": 56,
    "start_time": "2023-05-24T14:22:02.211Z"
   },
   {
    "duration": 61,
    "start_time": "2023-05-24T14:22:02.268Z"
   },
   {
    "duration": 35,
    "start_time": "2023-05-24T14:22:02.331Z"
   },
   {
    "duration": 21,
    "start_time": "2023-05-24T14:22:02.368Z"
   },
   {
    "duration": 46,
    "start_time": "2023-05-24T14:22:02.391Z"
   },
   {
    "duration": 159,
    "start_time": "2023-05-24T14:22:02.439Z"
   },
   {
    "duration": 7,
    "start_time": "2023-05-24T14:22:02.603Z"
   },
   {
    "duration": 145,
    "start_time": "2023-05-24T14:22:02.612Z"
   },
   {
    "duration": 5,
    "start_time": "2023-05-24T14:22:02.758Z"
   },
   {
    "duration": 10,
    "start_time": "2023-05-24T14:22:02.765Z"
   },
   {
    "duration": 27,
    "start_time": "2023-05-24T14:22:02.776Z"
   },
   {
    "duration": 130,
    "start_time": "2023-05-24T14:22:02.805Z"
   },
   {
    "duration": 7,
    "start_time": "2023-05-24T14:22:02.936Z"
   },
   {
    "duration": 25,
    "start_time": "2023-05-24T14:22:02.944Z"
   },
   {
    "duration": 13,
    "start_time": "2023-05-24T14:22:02.971Z"
   },
   {
    "duration": 22,
    "start_time": "2023-05-24T14:22:02.995Z"
   },
   {
    "duration": 9,
    "start_time": "2023-05-24T14:22:03.019Z"
   },
   {
    "duration": 22,
    "start_time": "2023-05-24T14:22:03.029Z"
   },
   {
    "duration": 3,
    "start_time": "2023-05-24T14:22:03.053Z"
   },
   {
    "duration": 13,
    "start_time": "2023-05-24T14:22:03.057Z"
   },
   {
    "duration": 32,
    "start_time": "2023-05-24T14:22:03.071Z"
   },
   {
    "duration": 64,
    "start_time": "2023-05-24T14:22:03.105Z"
   },
   {
    "duration": 5,
    "start_time": "2023-05-24T14:22:03.172Z"
   },
   {
    "duration": 29,
    "start_time": "2023-05-24T14:22:03.178Z"
   },
   {
    "duration": 13,
    "start_time": "2023-05-24T14:22:03.209Z"
   },
   {
    "duration": 10,
    "start_time": "2023-05-24T14:22:03.224Z"
   },
   {
    "duration": 4,
    "start_time": "2023-05-24T14:22:03.236Z"
   },
   {
    "duration": 12,
    "start_time": "2023-05-24T14:22:03.242Z"
   },
   {
    "duration": 4,
    "start_time": "2023-05-24T14:22:03.255Z"
   },
   {
    "duration": 10,
    "start_time": "2023-05-24T14:22:03.261Z"
   },
   {
    "duration": 5,
    "start_time": "2023-05-24T14:22:03.272Z"
   },
   {
    "duration": 20,
    "start_time": "2023-05-24T14:22:03.279Z"
   },
   {
    "duration": 6,
    "start_time": "2023-05-24T14:29:48.007Z"
   },
   {
    "duration": 11,
    "start_time": "2023-05-24T14:29:49.111Z"
   },
   {
    "duration": 9,
    "start_time": "2023-05-24T14:30:08.809Z"
   },
   {
    "duration": 31,
    "start_time": "2023-05-24T14:30:09.777Z"
   },
   {
    "duration": 4,
    "start_time": "2023-05-24T14:30:58.066Z"
   },
   {
    "duration": 11,
    "start_time": "2023-05-24T14:30:58.711Z"
   },
   {
    "duration": 95,
    "start_time": "2023-05-24T14:36:20.911Z"
   },
   {
    "duration": 4,
    "start_time": "2023-05-24T14:38:21.429Z"
   },
   {
    "duration": 6,
    "start_time": "2023-05-24T14:39:22.670Z"
   },
   {
    "duration": 69,
    "start_time": "2023-05-24T14:39:26.267Z"
   },
   {
    "duration": 35,
    "start_time": "2023-05-24T14:39:32.077Z"
   },
   {
    "duration": 69,
    "start_time": "2023-05-24T14:40:33.312Z"
   },
   {
    "duration": 739,
    "start_time": "2023-05-24T14:41:44.016Z"
   },
   {
    "duration": 1535,
    "start_time": "2023-05-24T14:41:44.756Z"
   },
   {
    "duration": 27,
    "start_time": "2023-05-24T14:41:46.293Z"
   },
   {
    "duration": 20,
    "start_time": "2023-05-24T14:41:46.323Z"
   },
   {
    "duration": 4,
    "start_time": "2023-05-24T14:41:46.346Z"
   },
   {
    "duration": 18,
    "start_time": "2023-05-24T14:41:46.352Z"
   },
   {
    "duration": 57,
    "start_time": "2023-05-24T14:41:46.372Z"
   },
   {
    "duration": 27,
    "start_time": "2023-05-24T14:41:46.431Z"
   },
   {
    "duration": 10,
    "start_time": "2023-05-24T14:41:46.460Z"
   },
   {
    "duration": 8,
    "start_time": "2023-05-24T14:41:46.471Z"
   },
   {
    "duration": 176,
    "start_time": "2023-05-24T14:41:46.481Z"
   },
   {
    "duration": 5,
    "start_time": "2023-05-24T14:41:46.658Z"
   },
   {
    "duration": 149,
    "start_time": "2023-05-24T14:41:46.664Z"
   },
   {
    "duration": 5,
    "start_time": "2023-05-24T14:41:46.817Z"
   },
   {
    "duration": 6,
    "start_time": "2023-05-24T14:41:46.823Z"
   },
   {
    "duration": 18,
    "start_time": "2023-05-24T14:41:46.842Z"
   },
   {
    "duration": 117,
    "start_time": "2023-05-24T14:41:46.862Z"
   },
   {
    "duration": 29,
    "start_time": "2023-05-24T14:41:46.981Z"
   },
   {
    "duration": 23,
    "start_time": "2023-05-24T14:41:47.019Z"
   },
   {
    "duration": 6,
    "start_time": "2023-05-24T14:41:47.044Z"
   },
   {
    "duration": 19,
    "start_time": "2023-05-24T14:41:47.051Z"
   },
   {
    "duration": 9,
    "start_time": "2023-05-24T14:41:47.072Z"
   },
   {
    "duration": 45,
    "start_time": "2023-05-24T14:41:47.082Z"
   },
   {
    "duration": 2,
    "start_time": "2023-05-24T14:41:47.129Z"
   },
   {
    "duration": 12,
    "start_time": "2023-05-24T14:41:47.133Z"
   },
   {
    "duration": 14,
    "start_time": "2023-05-24T14:41:47.146Z"
   },
   {
    "duration": 53,
    "start_time": "2023-05-24T14:41:47.161Z"
   },
   {
    "duration": 4,
    "start_time": "2023-05-24T14:41:47.216Z"
   },
   {
    "duration": 11,
    "start_time": "2023-05-24T14:41:47.221Z"
   },
   {
    "duration": 8,
    "start_time": "2023-05-24T14:41:47.233Z"
   },
   {
    "duration": 5,
    "start_time": "2023-05-24T14:41:47.242Z"
   },
   {
    "duration": 13,
    "start_time": "2023-05-24T14:41:47.248Z"
   },
   {
    "duration": 55,
    "start_time": "2023-05-24T14:41:47.262Z"
   },
   {
    "duration": 13,
    "start_time": "2023-05-24T14:41:47.319Z"
   },
   {
    "duration": 2,
    "start_time": "2023-05-24T14:41:47.334Z"
   },
   {
    "duration": 3,
    "start_time": "2023-05-24T14:41:47.337Z"
   },
   {
    "duration": 4,
    "start_time": "2023-05-24T14:41:47.341Z"
   },
   {
    "duration": 4,
    "start_time": "2023-05-24T14:41:47.346Z"
   },
   {
    "duration": 4,
    "start_time": "2023-05-24T14:41:47.351Z"
   },
   {
    "duration": 6,
    "start_time": "2023-05-24T14:41:47.356Z"
   },
   {
    "duration": 20,
    "start_time": "2023-05-24T14:54:38.119Z"
   },
   {
    "duration": 10,
    "start_time": "2023-05-24T14:55:13.468Z"
   },
   {
    "duration": 104,
    "start_time": "2023-05-24T14:55:38.616Z"
   },
   {
    "duration": 14,
    "start_time": "2023-05-24T14:55:51.322Z"
   },
   {
    "duration": 30,
    "start_time": "2023-05-24T14:56:37.780Z"
   },
   {
    "duration": 16,
    "start_time": "2023-05-24T14:56:48.620Z"
   },
   {
    "duration": 126,
    "start_time": "2023-05-24T15:09:23.962Z"
   },
   {
    "duration": 97,
    "start_time": "2023-05-24T15:09:39.152Z"
   },
   {
    "duration": 129,
    "start_time": "2023-05-24T15:09:53.320Z"
   },
   {
    "duration": 90,
    "start_time": "2023-05-24T15:09:57.082Z"
   },
   {
    "duration": 13,
    "start_time": "2023-05-24T15:10:07.950Z"
   },
   {
    "duration": 32,
    "start_time": "2023-05-24T15:10:12.182Z"
   },
   {
    "duration": 16,
    "start_time": "2023-05-24T15:10:21.719Z"
   },
   {
    "duration": 25,
    "start_time": "2023-05-24T15:10:55.178Z"
   },
   {
    "duration": 17,
    "start_time": "2023-05-24T15:11:08.557Z"
   },
   {
    "duration": 17,
    "start_time": "2023-05-24T15:11:27.556Z"
   },
   {
    "duration": 23,
    "start_time": "2023-05-24T15:11:33.059Z"
   },
   {
    "duration": 4999,
    "start_time": "2023-05-25T12:15:29.407Z"
   },
   {
    "duration": 1136,
    "start_time": "2023-05-25T12:15:52.756Z"
   },
   {
    "duration": 1412,
    "start_time": "2023-05-25T12:15:53.895Z"
   },
   {
    "duration": 15,
    "start_time": "2023-05-25T12:15:55.309Z"
   },
   {
    "duration": 19,
    "start_time": "2023-05-25T12:15:55.327Z"
   },
   {
    "duration": 8,
    "start_time": "2023-05-25T12:15:55.348Z"
   },
   {
    "duration": 28,
    "start_time": "2023-05-25T12:15:55.358Z"
   },
   {
    "duration": 15,
    "start_time": "2023-05-25T12:15:55.388Z"
   },
   {
    "duration": 29,
    "start_time": "2023-05-25T12:15:55.405Z"
   },
   {
    "duration": 29,
    "start_time": "2023-05-25T12:15:55.436Z"
   },
   {
    "duration": 18,
    "start_time": "2023-05-25T12:15:55.467Z"
   },
   {
    "duration": 147,
    "start_time": "2023-05-25T12:15:55.487Z"
   },
   {
    "duration": 7,
    "start_time": "2023-05-25T12:15:55.636Z"
   },
   {
    "duration": 167,
    "start_time": "2023-05-25T12:15:55.645Z"
   },
   {
    "duration": 8,
    "start_time": "2023-05-25T12:15:55.813Z"
   },
   {
    "duration": 19,
    "start_time": "2023-05-25T12:15:55.823Z"
   },
   {
    "duration": 36,
    "start_time": "2023-05-25T12:15:55.843Z"
   },
   {
    "duration": 163,
    "start_time": "2023-05-25T12:15:55.880Z"
   },
   {
    "duration": 9,
    "start_time": "2023-05-25T12:15:56.045Z"
   },
   {
    "duration": 22,
    "start_time": "2023-05-25T12:15:56.073Z"
   },
   {
    "duration": 17,
    "start_time": "2023-05-25T12:15:56.097Z"
   },
   {
    "duration": 26,
    "start_time": "2023-05-25T12:15:56.116Z"
   },
   {
    "duration": 20,
    "start_time": "2023-05-25T12:15:56.144Z"
   },
   {
    "duration": 37,
    "start_time": "2023-05-25T12:15:56.166Z"
   },
   {
    "duration": 18,
    "start_time": "2023-05-25T12:15:56.205Z"
   },
   {
    "duration": 41,
    "start_time": "2023-05-25T12:15:56.226Z"
   },
   {
    "duration": 26,
    "start_time": "2023-05-25T12:15:56.269Z"
   },
   {
    "duration": 53,
    "start_time": "2023-05-25T12:15:56.297Z"
   },
   {
    "duration": 6,
    "start_time": "2023-05-25T12:15:56.353Z"
   },
   {
    "duration": 11,
    "start_time": "2023-05-25T12:15:56.360Z"
   },
   {
    "duration": 21,
    "start_time": "2023-05-25T12:15:56.373Z"
   },
   {
    "duration": 18,
    "start_time": "2023-05-25T12:15:56.396Z"
   },
   {
    "duration": 24,
    "start_time": "2023-05-25T12:15:56.416Z"
   },
   {
    "duration": 60,
    "start_time": "2023-05-25T12:15:56.442Z"
   },
   {
    "duration": 23,
    "start_time": "2023-05-25T12:15:56.504Z"
   },
   {
    "duration": 192,
    "start_time": "2023-05-25T12:15:56.529Z"
   },
   {
    "duration": 903,
    "start_time": "2023-05-25T12:20:50.776Z"
   },
   {
    "duration": 429,
    "start_time": "2023-05-25T12:21:18.836Z"
   },
   {
    "duration": 78,
    "start_time": "2023-05-25T12:21:31.708Z"
   },
   {
    "duration": 2599,
    "start_time": "2023-05-25T12:27:09.746Z"
   },
   {
    "duration": 4,
    "start_time": "2023-05-25T12:27:24.136Z"
   },
   {
    "duration": 68,
    "start_time": "2023-05-25T12:27:54.022Z"
   },
   {
    "duration": 14207,
    "start_time": "2023-05-25T12:28:25.092Z"
   },
   {
    "duration": 18,
    "start_time": "2023-05-25T12:28:41.826Z"
   },
   {
    "duration": 11,
    "start_time": "2023-05-25T13:30:30.897Z"
   },
   {
    "duration": 14,
    "start_time": "2023-05-25T13:33:08.886Z"
   },
   {
    "duration": 11,
    "start_time": "2023-05-25T13:33:36.604Z"
   },
   {
    "duration": 11,
    "start_time": "2023-05-25T13:33:45.735Z"
   },
   {
    "duration": 9,
    "start_time": "2023-05-25T13:33:49.303Z"
   },
   {
    "duration": 15,
    "start_time": "2023-05-25T13:34:07.972Z"
   },
   {
    "duration": 14,
    "start_time": "2023-05-25T13:34:11.846Z"
   },
   {
    "duration": 15,
    "start_time": "2023-05-25T13:34:38.223Z"
   },
   {
    "duration": 15,
    "start_time": "2023-05-25T13:35:12.853Z"
   },
   {
    "duration": 13,
    "start_time": "2023-05-25T13:35:34.724Z"
   },
   {
    "duration": 14,
    "start_time": "2023-05-25T13:35:50.125Z"
   },
   {
    "duration": 9,
    "start_time": "2023-05-25T13:35:58.986Z"
   },
   {
    "duration": 17,
    "start_time": "2023-05-25T13:36:17.073Z"
   },
   {
    "duration": 11,
    "start_time": "2023-05-25T13:36:48.799Z"
   },
   {
    "duration": 9,
    "start_time": "2023-05-25T13:37:13.191Z"
   },
   {
    "duration": 11,
    "start_time": "2023-05-25T13:37:23.248Z"
   },
   {
    "duration": 12,
    "start_time": "2023-05-25T13:37:38.185Z"
   },
   {
    "duration": 11,
    "start_time": "2023-05-25T13:37:48.551Z"
   },
   {
    "duration": 9,
    "start_time": "2023-05-25T13:38:08.405Z"
   },
   {
    "duration": 10,
    "start_time": "2023-05-25T13:38:23.270Z"
   },
   {
    "duration": 11,
    "start_time": "2023-05-25T13:38:41.326Z"
   },
   {
    "duration": 12,
    "start_time": "2023-05-25T13:39:59.982Z"
   },
   {
    "duration": 10,
    "start_time": "2023-05-25T13:40:08.904Z"
   },
   {
    "duration": 10,
    "start_time": "2023-05-25T13:40:51.105Z"
   },
   {
    "duration": 11,
    "start_time": "2023-05-25T13:41:07.156Z"
   },
   {
    "duration": 9,
    "start_time": "2023-05-25T13:41:27.016Z"
   },
   {
    "duration": 13,
    "start_time": "2023-05-25T13:41:39.874Z"
   },
   {
    "duration": 12,
    "start_time": "2023-05-25T13:42:22.873Z"
   },
   {
    "duration": 13,
    "start_time": "2023-05-25T13:42:35.629Z"
   },
   {
    "duration": 10,
    "start_time": "2023-05-25T13:42:45.345Z"
   },
   {
    "duration": 14,
    "start_time": "2023-05-25T13:42:54.532Z"
   },
   {
    "duration": 12,
    "start_time": "2023-05-25T13:43:02.877Z"
   },
   {
    "duration": 16,
    "start_time": "2023-05-25T13:43:13.658Z"
   },
   {
    "duration": 13,
    "start_time": "2023-05-25T13:43:21.715Z"
   },
   {
    "duration": 11,
    "start_time": "2023-05-25T13:43:38.902Z"
   },
   {
    "duration": 10,
    "start_time": "2023-05-25T13:44:21.086Z"
   },
   {
    "duration": 12,
    "start_time": "2023-05-25T13:44:29.095Z"
   },
   {
    "duration": 10,
    "start_time": "2023-05-25T13:44:37.847Z"
   },
   {
    "duration": 9,
    "start_time": "2023-05-25T13:45:14.809Z"
   },
   {
    "duration": 11,
    "start_time": "2023-05-25T13:45:24.031Z"
   },
   {
    "duration": 9,
    "start_time": "2023-05-25T13:45:50.492Z"
   },
   {
    "duration": 21,
    "start_time": "2023-05-25T13:45:59.532Z"
   },
   {
    "duration": 18,
    "start_time": "2023-05-25T13:46:13.282Z"
   },
   {
    "duration": 10,
    "start_time": "2023-05-25T13:47:07.705Z"
   },
   {
    "duration": 28,
    "start_time": "2023-05-25T13:47:16.171Z"
   },
   {
    "duration": 9,
    "start_time": "2023-05-25T13:47:25.736Z"
   },
   {
    "duration": 21,
    "start_time": "2023-05-25T13:47:54.877Z"
   },
   {
    "duration": 9,
    "start_time": "2023-05-25T13:48:29.720Z"
   },
   {
    "duration": 10,
    "start_time": "2023-05-25T13:48:47.422Z"
   },
   {
    "duration": 11,
    "start_time": "2023-05-25T13:48:54.707Z"
   },
   {
    "duration": 10,
    "start_time": "2023-05-25T13:49:26.821Z"
   },
   {
    "duration": 13,
    "start_time": "2023-05-25T13:49:37.317Z"
   },
   {
    "duration": 11,
    "start_time": "2023-05-25T13:49:45.100Z"
   },
   {
    "duration": 11,
    "start_time": "2023-05-25T13:49:56.814Z"
   },
   {
    "duration": 14,
    "start_time": "2023-05-25T13:50:24.943Z"
   },
   {
    "duration": 10,
    "start_time": "2023-05-25T13:50:33.125Z"
   },
   {
    "duration": 10,
    "start_time": "2023-05-25T13:50:40.486Z"
   },
   {
    "duration": 9,
    "start_time": "2023-05-25T13:50:50.603Z"
   },
   {
    "duration": 15,
    "start_time": "2023-05-25T13:50:58.582Z"
   },
   {
    "duration": 13,
    "start_time": "2023-05-25T13:51:32.793Z"
   },
   {
    "duration": 16,
    "start_time": "2023-05-25T13:51:50.433Z"
   },
   {
    "duration": 9,
    "start_time": "2023-05-25T13:52:30.859Z"
   },
   {
    "duration": 9,
    "start_time": "2023-05-25T13:53:07.333Z"
   },
   {
    "duration": 11,
    "start_time": "2023-05-25T13:53:16.601Z"
   },
   {
    "duration": 12,
    "start_time": "2023-05-25T13:53:28.885Z"
   },
   {
    "duration": 10,
    "start_time": "2023-05-25T13:53:53.422Z"
   },
   {
    "duration": 9,
    "start_time": "2023-05-25T13:54:02.717Z"
   },
   {
    "duration": 11,
    "start_time": "2023-05-25T13:54:11.404Z"
   },
   {
    "duration": 18,
    "start_time": "2023-05-25T13:54:25.785Z"
   },
   {
    "duration": 11,
    "start_time": "2023-05-25T13:54:37.282Z"
   },
   {
    "duration": 9,
    "start_time": "2023-05-25T13:54:48.591Z"
   },
   {
    "duration": 14,
    "start_time": "2023-05-25T13:54:57.376Z"
   },
   {
    "duration": 21,
    "start_time": "2023-05-25T13:55:05.986Z"
   },
   {
    "duration": 9,
    "start_time": "2023-05-25T13:55:28.839Z"
   },
   {
    "duration": 10,
    "start_time": "2023-05-25T13:55:37.480Z"
   },
   {
    "duration": 10,
    "start_time": "2023-05-25T13:55:44.893Z"
   },
   {
    "duration": 10,
    "start_time": "2023-05-25T13:55:53.498Z"
   },
   {
    "duration": 11,
    "start_time": "2023-05-25T13:56:17.491Z"
   },
   {
    "duration": 9,
    "start_time": "2023-05-25T13:56:47.089Z"
   },
   {
    "duration": 15,
    "start_time": "2023-05-25T13:57:08.580Z"
   },
   {
    "duration": 9,
    "start_time": "2023-05-25T13:57:16.582Z"
   },
   {
    "duration": 11,
    "start_time": "2023-05-25T13:57:26.401Z"
   },
   {
    "duration": 11,
    "start_time": "2023-05-25T13:57:38.093Z"
   },
   {
    "duration": 9,
    "start_time": "2023-05-25T13:57:52.800Z"
   },
   {
    "duration": 14,
    "start_time": "2023-05-25T13:58:00.838Z"
   },
   {
    "duration": 9,
    "start_time": "2023-05-25T13:58:07.999Z"
   },
   {
    "duration": 14,
    "start_time": "2023-05-25T13:58:15.676Z"
   },
   {
    "duration": 11,
    "start_time": "2023-05-25T13:58:31.282Z"
   },
   {
    "duration": 10,
    "start_time": "2023-05-25T13:58:39.217Z"
   },
   {
    "duration": 11,
    "start_time": "2023-05-25T13:58:50.618Z"
   },
   {
    "duration": 10,
    "start_time": "2023-05-25T13:58:58.706Z"
   },
   {
    "duration": 10,
    "start_time": "2023-05-25T13:59:18.286Z"
   },
   {
    "duration": 9,
    "start_time": "2023-05-25T13:59:29.194Z"
   },
   {
    "duration": 10,
    "start_time": "2023-05-25T13:59:36.930Z"
   },
   {
    "duration": 12,
    "start_time": "2023-05-25T13:59:51.780Z"
   },
   {
    "duration": 9,
    "start_time": "2023-05-25T14:00:14.190Z"
   },
   {
    "duration": 11,
    "start_time": "2023-05-25T14:00:23.686Z"
   },
   {
    "duration": 10,
    "start_time": "2023-05-25T14:00:35.083Z"
   },
   {
    "duration": 12,
    "start_time": "2023-05-25T14:00:47.986Z"
   },
   {
    "duration": 11,
    "start_time": "2023-05-25T14:00:55.802Z"
   },
   {
    "duration": 10,
    "start_time": "2023-05-25T14:01:02.826Z"
   },
   {
    "duration": 15,
    "start_time": "2023-05-25T14:01:11.470Z"
   },
   {
    "duration": 17,
    "start_time": "2023-05-25T14:01:16.585Z"
   },
   {
    "duration": 12,
    "start_time": "2023-05-25T14:01:56.308Z"
   },
   {
    "duration": 11,
    "start_time": "2023-05-25T14:02:01.033Z"
   },
   {
    "duration": 13,
    "start_time": "2023-05-25T14:02:04.246Z"
   },
   {
    "duration": 15,
    "start_time": "2023-05-25T14:02:20.222Z"
   },
   {
    "duration": 13,
    "start_time": "2023-05-25T14:02:24.096Z"
   },
   {
    "duration": 12,
    "start_time": "2023-05-25T14:02:33.253Z"
   },
   {
    "duration": 12,
    "start_time": "2023-05-25T14:02:42.874Z"
   },
   {
    "duration": 12,
    "start_time": "2023-05-25T14:02:50.176Z"
   },
   {
    "duration": 13,
    "start_time": "2023-05-25T14:02:55.017Z"
   },
   {
    "duration": 13,
    "start_time": "2023-05-25T14:02:59.075Z"
   },
   {
    "duration": 18,
    "start_time": "2023-05-25T14:03:03.740Z"
   },
   {
    "duration": 13,
    "start_time": "2023-05-25T14:03:11.229Z"
   },
   {
    "duration": 10,
    "start_time": "2023-05-25T14:03:15.088Z"
   },
   {
    "duration": 14,
    "start_time": "2023-05-25T14:03:18.915Z"
   },
   {
    "duration": 11,
    "start_time": "2023-05-25T14:03:23.138Z"
   },
   {
    "duration": 12,
    "start_time": "2023-05-25T14:03:28.346Z"
   },
   {
    "duration": 33,
    "start_time": "2023-05-25T14:12:02.488Z"
   },
   {
    "duration": 99,
    "start_time": "2023-05-25T14:18:48.026Z"
   },
   {
    "duration": 123,
    "start_time": "2023-05-25T14:19:00.211Z"
   },
   {
    "duration": 109,
    "start_time": "2023-05-25T14:19:37.545Z"
   },
   {
    "duration": 135,
    "start_time": "2023-05-25T14:20:03.153Z"
   },
   {
    "duration": 43,
    "start_time": "2023-05-25T14:20:08.858Z"
   },
   {
    "duration": 77,
    "start_time": "2023-05-25T14:22:54.314Z"
   },
   {
    "duration": 17,
    "start_time": "2023-05-25T14:25:48.807Z"
   },
   {
    "duration": 6,
    "start_time": "2023-05-25T14:26:46.820Z"
   },
   {
    "duration": 29,
    "start_time": "2023-05-25T14:33:30.923Z"
   },
   {
    "duration": 16,
    "start_time": "2023-05-25T14:35:31.237Z"
   },
   {
    "duration": 44,
    "start_time": "2023-05-25T14:35:39.790Z"
   },
   {
    "duration": 3221,
    "start_time": "2023-05-25T14:35:50.934Z"
   },
   {
    "duration": 1202,
    "start_time": "2023-05-25T14:35:54.158Z"
   },
   {
    "duration": 24,
    "start_time": "2023-05-25T14:35:55.368Z"
   },
   {
    "duration": 41,
    "start_time": "2023-05-25T14:35:55.397Z"
   },
   {
    "duration": 7,
    "start_time": "2023-05-25T14:35:55.440Z"
   },
   {
    "duration": 37,
    "start_time": "2023-05-25T14:35:55.450Z"
   },
   {
    "duration": 46,
    "start_time": "2023-05-25T14:35:55.496Z"
   },
   {
    "duration": 32,
    "start_time": "2023-05-25T14:35:55.548Z"
   },
   {
    "duration": 42,
    "start_time": "2023-05-25T14:35:55.584Z"
   },
   {
    "duration": 25,
    "start_time": "2023-05-25T14:35:55.630Z"
   },
   {
    "duration": 285,
    "start_time": "2023-05-25T14:35:55.659Z"
   },
   {
    "duration": 15,
    "start_time": "2023-05-25T14:35:55.946Z"
   },
   {
    "duration": 274,
    "start_time": "2023-05-25T14:35:55.963Z"
   },
   {
    "duration": 8,
    "start_time": "2023-05-25T14:35:56.246Z"
   },
   {
    "duration": 30,
    "start_time": "2023-05-25T14:35:56.257Z"
   },
   {
    "duration": 75,
    "start_time": "2023-05-25T14:35:56.298Z"
   },
   {
    "duration": 269,
    "start_time": "2023-05-25T14:35:56.382Z"
   },
   {
    "duration": 29,
    "start_time": "2023-05-25T14:35:56.657Z"
   },
   {
    "duration": 54,
    "start_time": "2023-05-25T14:35:56.697Z"
   },
   {
    "duration": 75,
    "start_time": "2023-05-25T14:35:56.759Z"
   },
   {
    "duration": 38,
    "start_time": "2023-05-25T14:35:56.837Z"
   },
   {
    "duration": 87,
    "start_time": "2023-05-25T14:35:56.878Z"
   },
   {
    "duration": 109,
    "start_time": "2023-05-25T14:35:56.968Z"
   },
   {
    "duration": 43,
    "start_time": "2023-05-25T14:35:57.085Z"
   },
   {
    "duration": 36,
    "start_time": "2023-05-25T14:35:57.132Z"
   },
   {
    "duration": 209,
    "start_time": "2023-05-25T14:35:57.171Z"
   },
   {
    "duration": 65,
    "start_time": "2023-05-25T14:35:57.383Z"
   },
   {
    "duration": 11,
    "start_time": "2023-05-25T14:35:57.452Z"
   },
   {
    "duration": 19,
    "start_time": "2023-05-25T14:35:57.466Z"
   },
   {
    "duration": 46,
    "start_time": "2023-05-25T14:35:57.487Z"
   },
   {
    "duration": 19,
    "start_time": "2023-05-25T14:35:57.535Z"
   },
   {
    "duration": 34,
    "start_time": "2023-05-25T14:35:57.557Z"
   },
   {
    "duration": 158,
    "start_time": "2023-05-25T14:35:57.594Z"
   },
   {
    "duration": 46,
    "start_time": "2023-05-25T14:35:57.755Z"
   },
   {
    "duration": 53,
    "start_time": "2023-05-25T14:35:57.803Z"
   },
   {
    "duration": 4086,
    "start_time": "2023-05-25T14:35:57.859Z"
   },
   {
    "duration": 6,
    "start_time": "2023-05-25T14:36:01.955Z"
   },
   {
    "duration": 302,
    "start_time": "2023-05-25T14:36:01.964Z"
   },
   {
    "duration": 17930,
    "start_time": "2023-05-25T14:36:02.269Z"
   },
   {
    "duration": 86,
    "start_time": "2023-05-25T14:36:20.209Z"
   },
   {
    "duration": 42,
    "start_time": "2023-05-25T14:36:20.298Z"
   },
   {
    "duration": 124,
    "start_time": "2023-05-25T14:36:20.371Z"
   },
   {
    "duration": 31,
    "start_time": "2023-05-25T14:36:20.497Z"
   },
   {
    "duration": 46,
    "start_time": "2023-05-25T14:36:43.963Z"
   },
   {
    "duration": 1854,
    "start_time": "2023-05-25T14:36:51.601Z"
   },
   {
    "duration": 1379,
    "start_time": "2023-05-25T14:36:53.457Z"
   },
   {
    "duration": 20,
    "start_time": "2023-05-25T14:36:54.838Z"
   },
   {
    "duration": 24,
    "start_time": "2023-05-25T14:36:54.860Z"
   },
   {
    "duration": 25,
    "start_time": "2023-05-25T14:36:54.890Z"
   },
   {
    "duration": 35,
    "start_time": "2023-05-25T14:36:54.918Z"
   },
   {
    "duration": 8,
    "start_time": "2023-05-25T14:36:54.955Z"
   },
   {
    "duration": 43,
    "start_time": "2023-05-25T14:36:54.965Z"
   },
   {
    "duration": 16,
    "start_time": "2023-05-25T14:36:55.011Z"
   },
   {
    "duration": 16,
    "start_time": "2023-05-25T14:36:55.029Z"
   },
   {
    "duration": 187,
    "start_time": "2023-05-25T14:36:55.048Z"
   },
   {
    "duration": 7,
    "start_time": "2023-05-25T14:36:55.238Z"
   },
   {
    "duration": 253,
    "start_time": "2023-05-25T14:36:55.247Z"
   },
   {
    "duration": 8,
    "start_time": "2023-05-25T14:36:55.504Z"
   },
   {
    "duration": 25,
    "start_time": "2023-05-25T14:36:55.514Z"
   },
   {
    "duration": 36,
    "start_time": "2023-05-25T14:36:55.542Z"
   },
   {
    "duration": 215,
    "start_time": "2023-05-25T14:36:55.580Z"
   },
   {
    "duration": 12,
    "start_time": "2023-05-25T14:36:55.797Z"
   },
   {
    "duration": 67,
    "start_time": "2023-05-25T14:36:55.811Z"
   },
   {
    "duration": 46,
    "start_time": "2023-05-25T14:36:55.881Z"
   },
   {
    "duration": 38,
    "start_time": "2023-05-25T14:36:55.929Z"
   },
   {
    "duration": 46,
    "start_time": "2023-05-25T14:36:55.969Z"
   },
   {
    "duration": 70,
    "start_time": "2023-05-25T14:36:56.017Z"
   },
   {
    "duration": 83,
    "start_time": "2023-05-25T14:36:56.091Z"
   },
   {
    "duration": 90,
    "start_time": "2023-05-25T14:36:56.177Z"
   },
   {
    "duration": 210,
    "start_time": "2023-05-25T14:36:56.271Z"
   },
   {
    "duration": 61,
    "start_time": "2023-05-25T14:36:56.483Z"
   },
   {
    "duration": 14,
    "start_time": "2023-05-25T14:36:56.546Z"
   },
   {
    "duration": 54,
    "start_time": "2023-05-25T14:36:56.562Z"
   },
   {
    "duration": 13,
    "start_time": "2023-05-25T14:36:56.619Z"
   },
   {
    "duration": 12,
    "start_time": "2023-05-25T14:36:56.635Z"
   },
   {
    "duration": 25,
    "start_time": "2023-05-25T14:36:56.650Z"
   },
   {
    "duration": 105,
    "start_time": "2023-05-25T14:36:56.682Z"
   },
   {
    "duration": 26,
    "start_time": "2023-05-25T14:36:56.789Z"
   },
   {
    "duration": 27,
    "start_time": "2023-05-25T14:36:56.817Z"
   },
   {
    "duration": 3258,
    "start_time": "2023-05-25T14:36:56.845Z"
   },
   {
    "duration": 5,
    "start_time": "2023-05-25T14:37:00.105Z"
   },
   {
    "duration": 232,
    "start_time": "2023-05-25T14:37:00.111Z"
   },
   {
    "duration": 14141,
    "start_time": "2023-05-25T14:37:00.346Z"
   },
   {
    "duration": 34,
    "start_time": "2023-05-25T14:37:14.489Z"
   },
   {
    "duration": 20,
    "start_time": "2023-05-25T14:37:14.580Z"
   },
   {
    "duration": 139,
    "start_time": "2023-05-25T14:37:14.606Z"
   },
   {
    "duration": 34,
    "start_time": "2023-05-25T14:37:14.747Z"
   },
   {
    "duration": 177,
    "start_time": "2023-05-25T14:37:50.110Z"
   },
   {
    "duration": 1983,
    "start_time": "2023-05-25T14:38:05.225Z"
   },
   {
    "duration": 4084,
    "start_time": "2023-05-25T14:38:07.212Z"
   },
   {
    "duration": 17,
    "start_time": "2023-05-25T14:38:11.298Z"
   },
   {
    "duration": 14,
    "start_time": "2023-05-25T14:38:11.317Z"
   },
   {
    "duration": 26,
    "start_time": "2023-05-25T14:38:11.333Z"
   },
   {
    "duration": 23,
    "start_time": "2023-05-25T14:38:11.361Z"
   },
   {
    "duration": 30,
    "start_time": "2023-05-25T14:38:11.386Z"
   },
   {
    "duration": 14,
    "start_time": "2023-05-25T14:38:11.418Z"
   },
   {
    "duration": 13,
    "start_time": "2023-05-25T14:38:11.435Z"
   },
   {
    "duration": 13,
    "start_time": "2023-05-25T14:38:11.452Z"
   },
   {
    "duration": 177,
    "start_time": "2023-05-25T14:38:11.466Z"
   },
   {
    "duration": 7,
    "start_time": "2023-05-25T14:38:11.644Z"
   },
   {
    "duration": 185,
    "start_time": "2023-05-25T14:38:11.653Z"
   },
   {
    "duration": 7,
    "start_time": "2023-05-25T14:38:11.840Z"
   },
   {
    "duration": 28,
    "start_time": "2023-05-25T14:38:11.849Z"
   },
   {
    "duration": 27,
    "start_time": "2023-05-25T14:38:11.884Z"
   },
   {
    "duration": 209,
    "start_time": "2023-05-25T14:38:11.913Z"
   },
   {
    "duration": 13,
    "start_time": "2023-05-25T14:38:12.124Z"
   },
   {
    "duration": 42,
    "start_time": "2023-05-25T14:38:12.140Z"
   },
   {
    "duration": 32,
    "start_time": "2023-05-25T14:38:12.188Z"
   },
   {
    "duration": 16,
    "start_time": "2023-05-25T14:38:12.222Z"
   },
   {
    "duration": 15,
    "start_time": "2023-05-25T14:38:12.240Z"
   },
   {
    "duration": 71,
    "start_time": "2023-05-25T14:38:12.258Z"
   },
   {
    "duration": 5,
    "start_time": "2023-05-25T14:38:12.332Z"
   },
   {
    "duration": 72,
    "start_time": "2023-05-25T14:38:12.339Z"
   },
   {
    "duration": 136,
    "start_time": "2023-05-25T14:38:12.414Z"
   },
   {
    "duration": 58,
    "start_time": "2023-05-25T14:38:12.552Z"
   },
   {
    "duration": 7,
    "start_time": "2023-05-25T14:38:12.615Z"
   },
   {
    "duration": 30,
    "start_time": "2023-05-25T14:38:12.624Z"
   },
   {
    "duration": 9,
    "start_time": "2023-05-25T14:38:12.656Z"
   },
   {
    "duration": 12,
    "start_time": "2023-05-25T14:38:12.666Z"
   },
   {
    "duration": 52,
    "start_time": "2023-05-25T14:38:12.679Z"
   },
   {
    "duration": 74,
    "start_time": "2023-05-25T14:38:12.733Z"
   },
   {
    "duration": 36,
    "start_time": "2023-05-25T14:38:12.813Z"
   },
   {
    "duration": 38,
    "start_time": "2023-05-25T14:38:12.851Z"
   },
   {
    "duration": 3089,
    "start_time": "2023-05-25T14:38:12.891Z"
   },
   {
    "duration": 13,
    "start_time": "2023-05-25T14:38:15.989Z"
   },
   {
    "duration": 131,
    "start_time": "2023-05-25T14:38:16.012Z"
   },
   {
    "duration": 14430,
    "start_time": "2023-05-25T14:38:16.146Z"
   },
   {
    "duration": 33,
    "start_time": "2023-05-25T14:38:30.582Z"
   },
   {
    "duration": 120,
    "start_time": "2023-05-25T14:38:30.618Z"
   },
   {
    "duration": 164,
    "start_time": "2023-05-25T14:38:30.740Z"
   },
   {
    "duration": 64,
    "start_time": "2023-05-25T14:38:30.906Z"
   },
   {
    "duration": 1825,
    "start_time": "2023-05-25T14:39:19.594Z"
   },
   {
    "duration": 1227,
    "start_time": "2023-05-25T14:39:21.421Z"
   },
   {
    "duration": 16,
    "start_time": "2023-05-25T14:39:22.650Z"
   },
   {
    "duration": 27,
    "start_time": "2023-05-25T14:39:22.669Z"
   },
   {
    "duration": 25,
    "start_time": "2023-05-25T14:39:22.699Z"
   },
   {
    "duration": 18,
    "start_time": "2023-05-25T14:39:22.726Z"
   },
   {
    "duration": 16,
    "start_time": "2023-05-25T14:39:22.746Z"
   },
   {
    "duration": 37,
    "start_time": "2023-05-25T14:39:22.764Z"
   },
   {
    "duration": 16,
    "start_time": "2023-05-25T14:39:22.803Z"
   },
   {
    "duration": 16,
    "start_time": "2023-05-25T14:39:22.824Z"
   },
   {
    "duration": 252,
    "start_time": "2023-05-25T14:39:22.843Z"
   },
   {
    "duration": 8,
    "start_time": "2023-05-25T14:39:23.097Z"
   },
   {
    "duration": 247,
    "start_time": "2023-05-25T14:39:23.108Z"
   },
   {
    "duration": 6,
    "start_time": "2023-05-25T14:39:23.357Z"
   },
   {
    "duration": 14,
    "start_time": "2023-05-25T14:39:23.371Z"
   },
   {
    "duration": 42,
    "start_time": "2023-05-25T14:39:23.387Z"
   },
   {
    "duration": 158,
    "start_time": "2023-05-25T14:39:23.431Z"
   },
   {
    "duration": 11,
    "start_time": "2023-05-25T14:39:23.594Z"
   },
   {
    "duration": 36,
    "start_time": "2023-05-25T14:39:23.607Z"
   },
   {
    "duration": 27,
    "start_time": "2023-05-25T14:39:23.646Z"
   },
   {
    "duration": 28,
    "start_time": "2023-05-25T14:39:23.679Z"
   },
   {
    "duration": 10,
    "start_time": "2023-05-25T14:39:23.709Z"
   },
   {
    "duration": 26,
    "start_time": "2023-05-25T14:39:23.721Z"
   },
   {
    "duration": 10,
    "start_time": "2023-05-25T14:39:23.750Z"
   },
   {
    "duration": 33,
    "start_time": "2023-05-25T14:39:23.763Z"
   },
   {
    "duration": 137,
    "start_time": "2023-05-25T14:39:23.799Z"
   },
   {
    "duration": 68,
    "start_time": "2023-05-25T14:39:23.938Z"
   },
   {
    "duration": 6,
    "start_time": "2023-05-25T14:39:24.011Z"
   },
   {
    "duration": 19,
    "start_time": "2023-05-25T14:39:24.020Z"
   },
   {
    "duration": 23,
    "start_time": "2023-05-25T14:39:24.042Z"
   },
   {
    "duration": 33,
    "start_time": "2023-05-25T14:39:24.068Z"
   },
   {
    "duration": 26,
    "start_time": "2023-05-25T14:39:24.103Z"
   },
   {
    "duration": 90,
    "start_time": "2023-05-25T14:39:24.132Z"
   },
   {
    "duration": 26,
    "start_time": "2023-05-25T14:39:24.224Z"
   },
   {
    "duration": 203,
    "start_time": "2023-05-25T14:39:24.252Z"
   },
   {
    "duration": 0,
    "start_time": "2023-05-25T14:39:24.458Z"
   },
   {
    "duration": 0,
    "start_time": "2023-05-25T14:39:24.459Z"
   },
   {
    "duration": 0,
    "start_time": "2023-05-25T14:39:24.461Z"
   },
   {
    "duration": 0,
    "start_time": "2023-05-25T14:39:24.463Z"
   },
   {
    "duration": 0,
    "start_time": "2023-05-25T14:39:24.465Z"
   },
   {
    "duration": 0,
    "start_time": "2023-05-25T14:39:24.466Z"
   },
   {
    "duration": 0,
    "start_time": "2023-05-25T14:39:24.475Z"
   },
   {
    "duration": 0,
    "start_time": "2023-05-25T14:39:24.477Z"
   },
   {
    "duration": 23,
    "start_time": "2023-05-25T14:39:43.630Z"
   },
   {
    "duration": 1847,
    "start_time": "2023-05-25T14:39:53.607Z"
   },
   {
    "duration": 1049,
    "start_time": "2023-05-25T14:39:55.456Z"
   },
   {
    "duration": 18,
    "start_time": "2023-05-25T14:39:56.511Z"
   },
   {
    "duration": 23,
    "start_time": "2023-05-25T14:39:56.532Z"
   },
   {
    "duration": 19,
    "start_time": "2023-05-25T14:39:56.558Z"
   },
   {
    "duration": 24,
    "start_time": "2023-05-25T14:39:56.589Z"
   },
   {
    "duration": 6,
    "start_time": "2023-05-25T14:39:56.616Z"
   },
   {
    "duration": 18,
    "start_time": "2023-05-25T14:39:56.624Z"
   },
   {
    "duration": 40,
    "start_time": "2023-05-25T14:39:56.644Z"
   },
   {
    "duration": 19,
    "start_time": "2023-05-25T14:39:56.691Z"
   },
   {
    "duration": 178,
    "start_time": "2023-05-25T14:39:56.713Z"
   },
   {
    "duration": 6,
    "start_time": "2023-05-25T14:39:56.897Z"
   },
   {
    "duration": 250,
    "start_time": "2023-05-25T14:39:56.905Z"
   },
   {
    "duration": 25,
    "start_time": "2023-05-25T14:39:57.157Z"
   },
   {
    "duration": 20,
    "start_time": "2023-05-25T14:39:57.184Z"
   },
   {
    "duration": 26,
    "start_time": "2023-05-25T14:39:57.207Z"
   },
   {
    "duration": 191,
    "start_time": "2023-05-25T14:39:57.235Z"
   },
   {
    "duration": 10,
    "start_time": "2023-05-25T14:39:57.428Z"
   },
   {
    "duration": 55,
    "start_time": "2023-05-25T14:39:57.440Z"
   },
   {
    "duration": 8,
    "start_time": "2023-05-25T14:39:57.497Z"
   },
   {
    "duration": 14,
    "start_time": "2023-05-25T14:39:57.507Z"
   },
   {
    "duration": 6,
    "start_time": "2023-05-25T14:39:57.523Z"
   },
   {
    "duration": 61,
    "start_time": "2023-05-25T14:39:57.532Z"
   },
   {
    "duration": 4,
    "start_time": "2023-05-25T14:39:57.595Z"
   },
   {
    "duration": 17,
    "start_time": "2023-05-25T14:39:57.601Z"
   },
   {
    "duration": 136,
    "start_time": "2023-05-25T14:39:57.620Z"
   },
   {
    "duration": 62,
    "start_time": "2023-05-25T14:39:57.759Z"
   },
   {
    "duration": 7,
    "start_time": "2023-05-25T14:39:57.826Z"
   },
   {
    "duration": 14,
    "start_time": "2023-05-25T14:39:57.836Z"
   },
   {
    "duration": 27,
    "start_time": "2023-05-25T14:39:57.853Z"
   },
   {
    "duration": 22,
    "start_time": "2023-05-25T14:39:57.883Z"
   },
   {
    "duration": 19,
    "start_time": "2023-05-25T14:39:57.911Z"
   },
   {
    "duration": 86,
    "start_time": "2023-05-25T14:39:57.932Z"
   },
   {
    "duration": 22,
    "start_time": "2023-05-25T14:39:58.021Z"
   },
   {
    "duration": 51,
    "start_time": "2023-05-25T14:39:58.046Z"
   },
   {
    "duration": 2929,
    "start_time": "2023-05-25T14:39:58.099Z"
   },
   {
    "duration": 4,
    "start_time": "2023-05-25T14:40:01.031Z"
   },
   {
    "duration": 125,
    "start_time": "2023-05-25T14:40:01.037Z"
   },
   {
    "duration": 13819,
    "start_time": "2023-05-25T14:40:01.165Z"
   },
   {
    "duration": 19,
    "start_time": "2023-05-25T14:40:14.990Z"
   },
   {
    "duration": 75,
    "start_time": "2023-05-25T14:40:15.012Z"
   },
   {
    "duration": 235,
    "start_time": "2023-05-25T14:40:15.089Z"
   },
   {
    "duration": 94,
    "start_time": "2023-05-25T14:40:15.326Z"
   },
   {
    "duration": 238,
    "start_time": "2023-05-25T14:43:02.644Z"
   },
   {
    "duration": 18,
    "start_time": "2023-05-25T14:43:58.893Z"
   },
   {
    "duration": 12,
    "start_time": "2023-05-25T14:56:06.961Z"
   },
   {
    "duration": 11,
    "start_time": "2023-05-25T14:56:18.958Z"
   },
   {
    "duration": 12,
    "start_time": "2023-05-25T14:56:48.858Z"
   },
   {
    "duration": 12,
    "start_time": "2023-05-25T14:57:12.503Z"
   },
   {
    "duration": 16,
    "start_time": "2023-05-25T14:57:31.769Z"
   },
   {
    "duration": 15,
    "start_time": "2023-05-25T14:57:35.834Z"
   },
   {
    "duration": 17,
    "start_time": "2023-05-25T14:57:39.920Z"
   },
   {
    "duration": 56,
    "start_time": "2023-05-25T14:58:18.860Z"
   },
   {
    "duration": 24,
    "start_time": "2023-05-25T14:58:25.819Z"
   },
   {
    "duration": 12,
    "start_time": "2023-05-25T14:58:30.987Z"
   },
   {
    "duration": 12,
    "start_time": "2023-05-25T14:58:34.582Z"
   },
   {
    "duration": 11,
    "start_time": "2023-05-25T14:58:38.263Z"
   },
   {
    "duration": 11,
    "start_time": "2023-05-25T14:58:41.531Z"
   },
   {
    "duration": 13,
    "start_time": "2023-05-25T14:58:44.935Z"
   },
   {
    "duration": 56,
    "start_time": "2023-05-25T15:00:04.925Z"
   },
   {
    "duration": 16,
    "start_time": "2023-05-25T15:00:05.822Z"
   },
   {
    "duration": 10,
    "start_time": "2023-05-25T15:00:09.453Z"
   },
   {
    "duration": 53,
    "start_time": "2023-05-25T15:00:21.296Z"
   },
   {
    "duration": 10,
    "start_time": "2023-05-25T15:00:21.594Z"
   },
   {
    "duration": 14,
    "start_time": "2023-05-25T15:00:25.842Z"
   },
   {
    "duration": 55,
    "start_time": "2023-05-25T15:00:52.014Z"
   },
   {
    "duration": 13,
    "start_time": "2023-05-25T15:00:52.600Z"
   },
   {
    "duration": 13,
    "start_time": "2023-05-25T15:00:55.775Z"
   },
   {
    "duration": 64,
    "start_time": "2023-05-25T15:01:12.970Z"
   },
   {
    "duration": 13,
    "start_time": "2023-05-25T15:01:13.521Z"
   },
   {
    "duration": 12,
    "start_time": "2023-05-25T15:01:16.730Z"
   },
   {
    "duration": 12,
    "start_time": "2023-05-25T15:01:20.494Z"
   },
   {
    "duration": 13,
    "start_time": "2023-05-25T15:01:24.221Z"
   },
   {
    "duration": 11,
    "start_time": "2023-05-25T15:01:27.302Z"
   },
   {
    "duration": 12,
    "start_time": "2023-05-25T15:01:32.830Z"
   },
   {
    "duration": 15,
    "start_time": "2023-05-25T15:01:45.942Z"
   },
   {
    "duration": 56,
    "start_time": "2023-05-25T15:01:58.189Z"
   },
   {
    "duration": 10,
    "start_time": "2023-05-25T15:02:01.230Z"
   },
   {
    "duration": 13,
    "start_time": "2023-05-25T15:02:04.696Z"
   },
   {
    "duration": 12,
    "start_time": "2023-05-25T15:02:08.742Z"
   },
   {
    "duration": 10,
    "start_time": "2023-05-25T15:02:14.102Z"
   },
   {
    "duration": 56,
    "start_time": "2023-05-25T15:02:32.419Z"
   },
   {
    "duration": 11,
    "start_time": "2023-05-25T15:02:33.009Z"
   },
   {
    "duration": 15,
    "start_time": "2023-05-25T15:03:21.547Z"
   },
   {
    "duration": 59,
    "start_time": "2023-05-25T15:03:49.053Z"
   },
   {
    "duration": 11,
    "start_time": "2023-05-25T15:03:49.609Z"
   },
   {
    "duration": 11,
    "start_time": "2023-05-25T15:03:53.435Z"
   },
   {
    "duration": 13,
    "start_time": "2023-05-25T15:03:58.000Z"
   },
   {
    "duration": 55,
    "start_time": "2023-05-25T15:04:25.685Z"
   },
   {
    "duration": 17,
    "start_time": "2023-05-25T15:04:26.338Z"
   },
   {
    "duration": 52,
    "start_time": "2023-05-25T15:04:35.332Z"
   },
   {
    "duration": 17,
    "start_time": "2023-05-25T15:04:36.056Z"
   },
   {
    "duration": 11,
    "start_time": "2023-05-25T15:04:40.990Z"
   },
   {
    "duration": 56,
    "start_time": "2023-05-25T15:04:49.618Z"
   },
   {
    "duration": 12,
    "start_time": "2023-05-25T15:04:50.094Z"
   },
   {
    "duration": 11,
    "start_time": "2023-05-25T15:04:55.516Z"
   },
   {
    "duration": 53,
    "start_time": "2023-05-25T15:05:19.093Z"
   },
   {
    "duration": 10,
    "start_time": "2023-05-25T15:05:19.589Z"
   },
   {
    "duration": 11,
    "start_time": "2023-05-25T15:05:24.206Z"
   },
   {
    "duration": 56,
    "start_time": "2023-05-25T15:05:48.612Z"
   },
   {
    "duration": 12,
    "start_time": "2023-05-25T15:05:49.492Z"
   },
   {
    "duration": 11,
    "start_time": "2023-05-25T15:05:57.979Z"
   },
   {
    "duration": 53,
    "start_time": "2023-05-25T15:06:06.589Z"
   },
   {
    "duration": 11,
    "start_time": "2023-05-25T15:06:07.076Z"
   },
   {
    "duration": 11,
    "start_time": "2023-05-25T15:06:11.592Z"
   },
   {
    "duration": 53,
    "start_time": "2023-05-25T15:06:33.495Z"
   },
   {
    "duration": 12,
    "start_time": "2023-05-25T15:06:33.980Z"
   },
   {
    "duration": 10,
    "start_time": "2023-05-25T15:06:41.575Z"
   },
   {
    "duration": 50,
    "start_time": "2023-05-25T15:06:51.445Z"
   },
   {
    "duration": 10,
    "start_time": "2023-05-25T15:06:51.977Z"
   },
   {
    "duration": 10,
    "start_time": "2023-05-25T15:07:03.160Z"
   },
   {
    "duration": 53,
    "start_time": "2023-05-25T15:08:22.656Z"
   },
   {
    "duration": 10,
    "start_time": "2023-05-25T15:08:23.244Z"
   },
   {
    "duration": 13,
    "start_time": "2023-05-25T15:08:26.312Z"
   },
   {
    "duration": 51,
    "start_time": "2023-05-25T15:08:34.075Z"
   },
   {
    "duration": 13,
    "start_time": "2023-05-25T15:08:34.896Z"
   },
   {
    "duration": 12,
    "start_time": "2023-05-25T15:08:39.461Z"
   },
   {
    "duration": 52,
    "start_time": "2023-05-25T15:10:12.181Z"
   },
   {
    "duration": 12,
    "start_time": "2023-05-25T15:10:12.754Z"
   },
   {
    "duration": 14,
    "start_time": "2023-05-25T15:10:16.447Z"
   },
   {
    "duration": 11,
    "start_time": "2023-05-25T15:10:21.487Z"
   },
   {
    "duration": 53,
    "start_time": "2023-05-25T15:10:40.358Z"
   },
   {
    "duration": 12,
    "start_time": "2023-05-25T15:10:41.167Z"
   },
   {
    "duration": 10,
    "start_time": "2023-05-25T15:11:55.195Z"
   },
   {
    "duration": 10,
    "start_time": "2023-05-25T15:11:59.080Z"
   },
   {
    "duration": 49,
    "start_time": "2023-05-25T15:12:13.622Z"
   },
   {
    "duration": 10,
    "start_time": "2023-05-25T15:12:14.170Z"
   },
   {
    "duration": 12,
    "start_time": "2023-05-25T15:12:17.701Z"
   },
   {
    "duration": 53,
    "start_time": "2023-05-25T15:12:36.547Z"
   },
   {
    "duration": 12,
    "start_time": "2023-05-25T15:12:37.375Z"
   },
   {
    "duration": 9,
    "start_time": "2023-05-25T15:12:44.674Z"
   },
   {
    "duration": 66,
    "start_time": "2023-05-25T15:12:55.944Z"
   },
   {
    "duration": 10,
    "start_time": "2023-05-25T15:12:56.457Z"
   },
   {
    "duration": 10,
    "start_time": "2023-05-25T15:13:32.044Z"
   },
   {
    "duration": 51,
    "start_time": "2023-05-25T15:13:50.122Z"
   },
   {
    "duration": 10,
    "start_time": "2023-05-25T15:13:50.596Z"
   },
   {
    "duration": 12,
    "start_time": "2023-05-25T15:13:56.110Z"
   },
   {
    "duration": 1568,
    "start_time": "2023-05-25T15:14:13.210Z"
   },
   {
    "duration": 1276,
    "start_time": "2023-05-25T15:14:14.780Z"
   },
   {
    "duration": 17,
    "start_time": "2023-05-25T15:14:16.058Z"
   },
   {
    "duration": 16,
    "start_time": "2023-05-25T15:14:16.078Z"
   },
   {
    "duration": 10,
    "start_time": "2023-05-25T15:14:16.097Z"
   },
   {
    "duration": 20,
    "start_time": "2023-05-25T15:14:16.109Z"
   },
   {
    "duration": 8,
    "start_time": "2023-05-25T15:14:16.131Z"
   },
   {
    "duration": 32,
    "start_time": "2023-05-25T15:14:16.142Z"
   },
   {
    "duration": 12,
    "start_time": "2023-05-25T15:14:16.176Z"
   },
   {
    "duration": 16,
    "start_time": "2023-05-25T15:14:16.191Z"
   },
   {
    "duration": 165,
    "start_time": "2023-05-25T15:14:16.209Z"
   },
   {
    "duration": 6,
    "start_time": "2023-05-25T15:14:16.376Z"
   },
   {
    "duration": 162,
    "start_time": "2023-05-25T15:14:16.384Z"
   },
   {
    "duration": 6,
    "start_time": "2023-05-25T15:14:16.548Z"
   },
   {
    "duration": 18,
    "start_time": "2023-05-25T15:14:16.555Z"
   },
   {
    "duration": 27,
    "start_time": "2023-05-25T15:14:16.575Z"
   },
   {
    "duration": 137,
    "start_time": "2023-05-25T15:14:16.604Z"
   },
   {
    "duration": 9,
    "start_time": "2023-05-25T15:14:16.742Z"
   },
   {
    "duration": 30,
    "start_time": "2023-05-25T15:14:16.753Z"
   },
   {
    "duration": 4,
    "start_time": "2023-05-25T15:14:16.785Z"
   },
   {
    "duration": 31,
    "start_time": "2023-05-25T15:14:16.790Z"
   },
   {
    "duration": 12,
    "start_time": "2023-05-25T15:14:16.823Z"
   },
   {
    "duration": 29,
    "start_time": "2023-05-25T15:14:16.837Z"
   },
   {
    "duration": 49,
    "start_time": "2023-05-25T15:14:16.867Z"
   },
   {
    "duration": 119,
    "start_time": "2023-05-25T15:14:16.918Z"
   },
   {
    "duration": 149,
    "start_time": "2023-05-25T15:14:17.039Z"
   },
   {
    "duration": 42,
    "start_time": "2023-05-25T15:14:17.189Z"
   },
   {
    "duration": 7,
    "start_time": "2023-05-25T15:14:17.234Z"
   },
   {
    "duration": 41,
    "start_time": "2023-05-25T15:14:17.242Z"
   },
   {
    "duration": 34,
    "start_time": "2023-05-25T15:14:17.285Z"
   },
   {
    "duration": 26,
    "start_time": "2023-05-25T15:14:17.321Z"
   },
   {
    "duration": 35,
    "start_time": "2023-05-25T15:14:17.349Z"
   },
   {
    "duration": 57,
    "start_time": "2023-05-25T15:14:17.385Z"
   },
   {
    "duration": 29,
    "start_time": "2023-05-25T15:14:17.443Z"
   },
   {
    "duration": 21,
    "start_time": "2023-05-25T15:14:17.474Z"
   },
   {
    "duration": 2420,
    "start_time": "2023-05-25T15:14:17.497Z"
   },
   {
    "duration": 3,
    "start_time": "2023-05-25T15:14:19.919Z"
   },
   {
    "duration": 111,
    "start_time": "2023-05-25T15:14:19.924Z"
   },
   {
    "duration": 13653,
    "start_time": "2023-05-25T15:14:20.037Z"
   },
   {
    "duration": 88,
    "start_time": "2023-05-25T15:14:33.692Z"
   },
   {
    "duration": 132,
    "start_time": "2023-05-25T15:14:33.782Z"
   },
   {
    "duration": 11,
    "start_time": "2023-05-25T15:14:33.917Z"
   },
   {
    "duration": 1611,
    "start_time": "2023-05-25T15:14:52.698Z"
   },
   {
    "duration": 1168,
    "start_time": "2023-05-25T15:14:54.312Z"
   },
   {
    "duration": 15,
    "start_time": "2023-05-25T15:14:55.482Z"
   },
   {
    "duration": 18,
    "start_time": "2023-05-25T15:14:55.500Z"
   },
   {
    "duration": 11,
    "start_time": "2023-05-25T15:14:55.521Z"
   },
   {
    "duration": 44,
    "start_time": "2023-05-25T15:14:55.535Z"
   },
   {
    "duration": 12,
    "start_time": "2023-05-25T15:14:55.581Z"
   },
   {
    "duration": 25,
    "start_time": "2023-05-25T15:14:55.595Z"
   },
   {
    "duration": 15,
    "start_time": "2023-05-25T15:14:55.623Z"
   },
   {
    "duration": 31,
    "start_time": "2023-05-25T15:14:55.642Z"
   },
   {
    "duration": 184,
    "start_time": "2023-05-25T15:14:55.676Z"
   },
   {
    "duration": 11,
    "start_time": "2023-05-25T15:14:55.865Z"
   },
   {
    "duration": 217,
    "start_time": "2023-05-25T15:14:55.879Z"
   },
   {
    "duration": 7,
    "start_time": "2023-05-25T15:14:56.100Z"
   },
   {
    "duration": 48,
    "start_time": "2023-05-25T15:14:56.110Z"
   },
   {
    "duration": 44,
    "start_time": "2023-05-25T15:14:56.161Z"
   },
   {
    "duration": 145,
    "start_time": "2023-05-25T15:14:56.207Z"
   },
   {
    "duration": 18,
    "start_time": "2023-05-25T15:14:56.354Z"
   },
   {
    "duration": 41,
    "start_time": "2023-05-25T15:14:56.374Z"
   },
   {
    "duration": 20,
    "start_time": "2023-05-25T15:14:56.417Z"
   },
   {
    "duration": 16,
    "start_time": "2023-05-25T15:14:56.440Z"
   },
   {
    "duration": 28,
    "start_time": "2023-05-25T15:14:56.459Z"
   },
   {
    "duration": 155,
    "start_time": "2023-05-25T15:14:56.489Z"
   },
   {
    "duration": 5,
    "start_time": "2023-05-25T15:14:56.646Z"
   },
   {
    "duration": 17,
    "start_time": "2023-05-25T15:14:56.654Z"
   },
   {
    "duration": 125,
    "start_time": "2023-05-25T15:14:56.673Z"
   },
   {
    "duration": 39,
    "start_time": "2023-05-25T15:14:56.801Z"
   },
   {
    "duration": 7,
    "start_time": "2023-05-25T15:14:56.843Z"
   },
   {
    "duration": 7,
    "start_time": "2023-05-25T15:14:56.872Z"
   },
   {
    "duration": 44,
    "start_time": "2023-05-25T15:14:56.881Z"
   },
   {
    "duration": 21,
    "start_time": "2023-05-25T15:14:56.928Z"
   },
   {
    "duration": 38,
    "start_time": "2023-05-25T15:14:56.951Z"
   },
   {
    "duration": 104,
    "start_time": "2023-05-25T15:14:56.992Z"
   },
   {
    "duration": 20,
    "start_time": "2023-05-25T15:14:57.098Z"
   },
   {
    "duration": 43,
    "start_time": "2023-05-25T15:14:57.120Z"
   },
   {
    "duration": 2554,
    "start_time": "2023-05-25T15:14:57.171Z"
   },
   {
    "duration": 4,
    "start_time": "2023-05-25T15:14:59.727Z"
   },
   {
    "duration": 90,
    "start_time": "2023-05-25T15:14:59.733Z"
   },
   {
    "duration": 14478,
    "start_time": "2023-05-25T15:14:59.825Z"
   },
   {
    "duration": 16,
    "start_time": "2023-05-25T15:15:14.372Z"
   },
   {
    "duration": 144,
    "start_time": "2023-05-25T15:15:14.391Z"
   },
   {
    "duration": 15,
    "start_time": "2023-05-25T15:15:14.537Z"
   },
   {
    "duration": 14286,
    "start_time": "2023-05-25T15:22:52.000Z"
   },
   {
    "duration": 17,
    "start_time": "2023-05-25T15:23:20.129Z"
   },
   {
    "duration": 14,
    "start_time": "2023-05-25T15:23:23.251Z"
   },
   {
    "duration": 14318,
    "start_time": "2023-05-25T15:23:31.061Z"
   },
   {
    "duration": 17,
    "start_time": "2023-05-25T15:23:48.480Z"
   },
   {
    "duration": 12,
    "start_time": "2023-05-25T15:23:58.607Z"
   },
   {
    "duration": 52,
    "start_time": "2023-05-25T15:24:07.405Z"
   },
   {
    "duration": 15,
    "start_time": "2023-05-25T15:24:08.063Z"
   },
   {
    "duration": 1713,
    "start_time": "2023-05-25T15:24:18.915Z"
   },
   {
    "duration": 4014,
    "start_time": "2023-05-25T15:24:20.630Z"
   },
   {
    "duration": 13,
    "start_time": "2023-05-25T15:24:24.646Z"
   },
   {
    "duration": 32,
    "start_time": "2023-05-25T15:24:24.661Z"
   },
   {
    "duration": 5,
    "start_time": "2023-05-25T15:24:24.695Z"
   },
   {
    "duration": 20,
    "start_time": "2023-05-25T15:24:24.702Z"
   },
   {
    "duration": 19,
    "start_time": "2023-05-25T15:24:24.724Z"
   },
   {
    "duration": 14,
    "start_time": "2023-05-25T15:24:24.745Z"
   },
   {
    "duration": 13,
    "start_time": "2023-05-25T15:24:24.761Z"
   },
   {
    "duration": 26,
    "start_time": "2023-05-25T15:24:24.781Z"
   },
   {
    "duration": 175,
    "start_time": "2023-05-25T15:24:24.809Z"
   },
   {
    "duration": 8,
    "start_time": "2023-05-25T15:24:24.986Z"
   },
   {
    "duration": 154,
    "start_time": "2023-05-25T15:24:24.996Z"
   },
   {
    "duration": 7,
    "start_time": "2023-05-25T15:24:25.152Z"
   },
   {
    "duration": 22,
    "start_time": "2023-05-25T15:24:25.184Z"
   },
   {
    "duration": 38,
    "start_time": "2023-05-25T15:24:25.208Z"
   },
   {
    "duration": 147,
    "start_time": "2023-05-25T15:24:25.248Z"
   },
   {
    "duration": 9,
    "start_time": "2023-05-25T15:24:25.397Z"
   },
   {
    "duration": 43,
    "start_time": "2023-05-25T15:24:25.408Z"
   },
   {
    "duration": 6,
    "start_time": "2023-05-25T15:24:25.453Z"
   },
   {
    "duration": 29,
    "start_time": "2023-05-25T15:24:25.461Z"
   },
   {
    "duration": 9,
    "start_time": "2023-05-25T15:24:25.492Z"
   },
   {
    "duration": 36,
    "start_time": "2023-05-25T15:24:25.503Z"
   },
   {
    "duration": 10,
    "start_time": "2023-05-25T15:24:25.541Z"
   },
   {
    "duration": 45,
    "start_time": "2023-05-25T15:24:25.553Z"
   },
   {
    "duration": 113,
    "start_time": "2023-05-25T15:24:25.601Z"
   },
   {
    "duration": 38,
    "start_time": "2023-05-25T15:24:25.715Z"
   },
   {
    "duration": 10,
    "start_time": "2023-05-25T15:24:25.774Z"
   },
   {
    "duration": 17,
    "start_time": "2023-05-25T15:24:25.785Z"
   },
   {
    "duration": 52,
    "start_time": "2023-05-25T15:24:25.804Z"
   },
   {
    "duration": 11,
    "start_time": "2023-05-25T15:24:25.858Z"
   },
   {
    "duration": 50,
    "start_time": "2023-05-25T15:24:25.871Z"
   },
   {
    "duration": 96,
    "start_time": "2023-05-25T15:24:25.924Z"
   },
   {
    "duration": 24,
    "start_time": "2023-05-25T15:24:26.022Z"
   },
   {
    "duration": 78,
    "start_time": "2023-05-25T15:24:26.049Z"
   },
   {
    "duration": 2794,
    "start_time": "2023-05-25T15:24:26.129Z"
   },
   {
    "duration": 4,
    "start_time": "2023-05-25T15:24:28.925Z"
   },
   {
    "duration": 99,
    "start_time": "2023-05-25T15:24:28.931Z"
   },
   {
    "duration": 14551,
    "start_time": "2023-05-25T15:24:29.033Z"
   },
   {
    "duration": 94,
    "start_time": "2023-05-25T15:24:43.587Z"
   },
   {
    "duration": 120,
    "start_time": "2023-05-25T15:24:43.690Z"
   },
   {
    "duration": 11,
    "start_time": "2023-05-25T15:24:43.812Z"
   },
   {
    "duration": 1869,
    "start_time": "2023-05-25T16:40:22.935Z"
   },
   {
    "duration": 1116,
    "start_time": "2023-05-25T16:40:24.806Z"
   },
   {
    "duration": 16,
    "start_time": "2023-05-25T16:40:25.924Z"
   },
   {
    "duration": 14,
    "start_time": "2023-05-25T16:40:25.941Z"
   },
   {
    "duration": 28,
    "start_time": "2023-05-25T16:40:25.957Z"
   },
   {
    "duration": 22,
    "start_time": "2023-05-25T16:40:25.987Z"
   },
   {
    "duration": 4,
    "start_time": "2023-05-25T16:40:26.011Z"
   },
   {
    "duration": 18,
    "start_time": "2023-05-25T16:40:26.016Z"
   },
   {
    "duration": 16,
    "start_time": "2023-05-25T16:40:26.036Z"
   },
   {
    "duration": 21,
    "start_time": "2023-05-25T16:40:26.053Z"
   },
   {
    "duration": 160,
    "start_time": "2023-05-25T16:40:26.076Z"
   },
   {
    "duration": 6,
    "start_time": "2023-05-25T16:40:26.238Z"
   },
   {
    "duration": 152,
    "start_time": "2023-05-25T16:40:26.246Z"
   },
   {
    "duration": 6,
    "start_time": "2023-05-25T16:40:26.402Z"
   },
   {
    "duration": 10,
    "start_time": "2023-05-25T16:40:26.409Z"
   },
   {
    "duration": 26,
    "start_time": "2023-05-25T16:40:26.421Z"
   },
   {
    "duration": 133,
    "start_time": "2023-05-25T16:40:26.449Z"
   },
   {
    "duration": 7,
    "start_time": "2023-05-25T16:40:26.584Z"
   },
   {
    "duration": 14,
    "start_time": "2023-05-25T16:40:26.593Z"
   },
   {
    "duration": 5,
    "start_time": "2023-05-25T16:40:26.608Z"
   },
   {
    "duration": 8,
    "start_time": "2023-05-25T16:40:26.614Z"
   },
   {
    "duration": 7,
    "start_time": "2023-05-25T16:40:26.624Z"
   },
   {
    "duration": 21,
    "start_time": "2023-05-25T16:40:26.657Z"
   },
   {
    "duration": 3,
    "start_time": "2023-05-25T16:40:26.679Z"
   },
   {
    "duration": 10,
    "start_time": "2023-05-25T16:40:26.684Z"
   },
   {
    "duration": 125,
    "start_time": "2023-05-25T16:40:26.695Z"
   },
   {
    "duration": 43,
    "start_time": "2023-05-25T16:40:26.822Z"
   },
   {
    "duration": 4,
    "start_time": "2023-05-25T16:40:26.867Z"
   },
   {
    "duration": 6,
    "start_time": "2023-05-25T16:40:26.873Z"
   },
   {
    "duration": 10,
    "start_time": "2023-05-25T16:40:26.881Z"
   },
   {
    "duration": 8,
    "start_time": "2023-05-25T16:40:26.893Z"
   },
   {
    "duration": 19,
    "start_time": "2023-05-25T16:40:26.903Z"
   },
   {
    "duration": 58,
    "start_time": "2023-05-25T16:40:26.923Z"
   },
   {
    "duration": 17,
    "start_time": "2023-05-25T16:40:26.983Z"
   },
   {
    "duration": 18,
    "start_time": "2023-05-25T16:40:27.002Z"
   },
   {
    "duration": 2436,
    "start_time": "2023-05-25T16:40:27.021Z"
   },
   {
    "duration": 3,
    "start_time": "2023-05-25T16:40:29.459Z"
   },
   {
    "duration": 66,
    "start_time": "2023-05-25T16:40:29.464Z"
   },
   {
    "duration": 12754,
    "start_time": "2023-05-25T16:40:29.532Z"
   },
   {
    "duration": 13,
    "start_time": "2023-05-25T16:40:42.357Z"
   },
   {
    "duration": 122,
    "start_time": "2023-05-25T16:40:42.375Z"
   },
   {
    "duration": 11,
    "start_time": "2023-05-25T16:40:42.499Z"
   },
   {
    "duration": 11,
    "start_time": "2023-05-25T16:41:10.024Z"
   },
   {
    "duration": 59,
    "start_time": "2023-05-25T16:41:44.560Z"
   },
   {
    "duration": 17,
    "start_time": "2023-05-25T16:41:49.476Z"
   },
   {
    "duration": 9,
    "start_time": "2023-05-25T16:41:52.731Z"
   },
   {
    "duration": 14,
    "start_time": "2023-05-25T16:42:24.449Z"
   },
   {
    "duration": 18,
    "start_time": "2023-05-25T16:42:40.260Z"
   },
   {
    "duration": 12,
    "start_time": "2023-05-25T16:42:49.536Z"
   },
   {
    "duration": 10,
    "start_time": "2023-05-25T16:43:04.369Z"
   },
   {
    "duration": 10,
    "start_time": "2023-05-25T16:43:20.024Z"
   },
   {
    "duration": 10,
    "start_time": "2023-05-25T16:43:26.636Z"
   },
   {
    "duration": 11,
    "start_time": "2023-05-25T16:43:33.146Z"
   },
   {
    "duration": 10,
    "start_time": "2023-05-25T16:43:36.779Z"
   },
   {
    "duration": 11,
    "start_time": "2023-05-25T16:43:47.124Z"
   },
   {
    "duration": 10,
    "start_time": "2023-05-25T16:43:55.823Z"
   },
   {
    "duration": 11,
    "start_time": "2023-05-25T16:44:02.631Z"
   },
   {
    "duration": 11,
    "start_time": "2023-05-25T16:44:18.920Z"
   },
   {
    "duration": 11,
    "start_time": "2023-05-25T16:44:29.628Z"
   },
   {
    "duration": 17,
    "start_time": "2023-05-25T16:44:38.836Z"
   },
   {
    "duration": 10,
    "start_time": "2023-05-25T16:44:47.746Z"
   },
   {
    "duration": 9,
    "start_time": "2023-05-25T16:44:59.564Z"
   },
   {
    "duration": 9,
    "start_time": "2023-05-25T16:45:08.128Z"
   },
   {
    "duration": 10,
    "start_time": "2023-05-25T16:45:17.662Z"
   },
   {
    "duration": 9,
    "start_time": "2023-05-25T16:45:33.186Z"
   },
   {
    "duration": 9,
    "start_time": "2023-05-25T16:45:41.088Z"
   },
   {
    "duration": 9,
    "start_time": "2023-05-25T16:45:45.185Z"
   },
   {
    "duration": 15,
    "start_time": "2023-05-25T16:45:53.279Z"
   },
   {
    "duration": 12,
    "start_time": "2023-05-25T16:46:01.530Z"
   },
   {
    "duration": 10,
    "start_time": "2023-05-25T16:46:06.858Z"
   },
   {
    "duration": 9,
    "start_time": "2023-05-25T16:46:15.724Z"
   },
   {
    "duration": 9,
    "start_time": "2023-05-25T16:46:30.650Z"
   },
   {
    "duration": 10,
    "start_time": "2023-05-25T16:46:38.375Z"
   },
   {
    "duration": 10,
    "start_time": "2023-05-25T16:46:47.634Z"
   },
   {
    "duration": 10,
    "start_time": "2023-05-25T16:47:26.722Z"
   },
   {
    "duration": 14,
    "start_time": "2023-05-25T16:47:30.493Z"
   },
   {
    "duration": 9,
    "start_time": "2023-05-25T16:47:38.624Z"
   },
   {
    "duration": 10,
    "start_time": "2023-05-25T16:47:47.220Z"
   },
   {
    "duration": 11,
    "start_time": "2023-05-25T16:47:53.112Z"
   },
   {
    "duration": 12,
    "start_time": "2023-05-25T16:47:58.620Z"
   },
   {
    "duration": 10,
    "start_time": "2023-05-25T16:48:16.069Z"
   },
   {
    "duration": 13,
    "start_time": "2023-05-25T16:48:47.978Z"
   },
   {
    "duration": 9,
    "start_time": "2023-05-25T16:49:05.866Z"
   },
   {
    "duration": 9,
    "start_time": "2023-05-25T16:49:12.221Z"
   },
   {
    "duration": 10,
    "start_time": "2023-05-25T16:49:19.715Z"
   },
   {
    "duration": 10,
    "start_time": "2023-05-25T16:49:27.355Z"
   },
   {
    "duration": 9,
    "start_time": "2023-05-25T16:49:37.052Z"
   },
   {
    "duration": 10,
    "start_time": "2023-05-25T16:49:47.732Z"
   },
   {
    "duration": 11,
    "start_time": "2023-05-25T16:50:02.846Z"
   },
   {
    "duration": 9,
    "start_time": "2023-05-25T16:50:13.336Z"
   },
   {
    "duration": 9,
    "start_time": "2023-05-25T16:50:21.782Z"
   },
   {
    "duration": 13,
    "start_time": "2023-05-25T16:50:31.664Z"
   },
   {
    "duration": 9,
    "start_time": "2023-05-25T16:50:36.682Z"
   },
   {
    "duration": 11,
    "start_time": "2023-05-25T16:50:48.520Z"
   },
   {
    "duration": 9,
    "start_time": "2023-05-25T16:50:52.424Z"
   },
   {
    "duration": 8,
    "start_time": "2023-05-25T16:50:58.186Z"
   },
   {
    "duration": 10,
    "start_time": "2023-05-25T16:51:05.478Z"
   },
   {
    "duration": 9,
    "start_time": "2023-05-25T16:51:16.636Z"
   },
   {
    "duration": 10,
    "start_time": "2023-05-25T16:51:26.433Z"
   },
   {
    "duration": 8,
    "start_time": "2023-05-25T16:51:36.261Z"
   },
   {
    "duration": 9,
    "start_time": "2023-05-25T16:51:42.264Z"
   },
   {
    "duration": 9,
    "start_time": "2023-05-25T16:51:49.028Z"
   },
   {
    "duration": 11,
    "start_time": "2023-05-25T16:51:53.017Z"
   },
   {
    "duration": 11,
    "start_time": "2023-05-25T16:52:02.155Z"
   },
   {
    "duration": 12,
    "start_time": "2023-05-25T16:52:12.858Z"
   },
   {
    "duration": 9,
    "start_time": "2023-05-25T16:53:41.419Z"
   },
   {
    "duration": 11,
    "start_time": "2023-05-25T16:53:45.442Z"
   },
   {
    "duration": 10,
    "start_time": "2023-05-25T16:53:52.862Z"
   },
   {
    "duration": 10,
    "start_time": "2023-05-25T16:54:18.472Z"
   },
   {
    "duration": 10,
    "start_time": "2023-05-25T16:54:27.266Z"
   },
   {
    "duration": 9,
    "start_time": "2023-05-25T16:54:37.820Z"
   },
   {
    "duration": 9,
    "start_time": "2023-05-25T16:54:41.981Z"
   },
   {
    "duration": 13,
    "start_time": "2023-05-25T16:54:49.181Z"
   },
   {
    "duration": 12,
    "start_time": "2023-05-25T16:54:58.925Z"
   },
   {
    "duration": 12,
    "start_time": "2023-05-25T16:55:06.711Z"
   },
   {
    "duration": 10,
    "start_time": "2023-05-25T16:55:16.341Z"
   },
   {
    "duration": 10,
    "start_time": "2023-05-25T16:56:09.828Z"
   },
   {
    "duration": 10,
    "start_time": "2023-05-25T16:56:14.432Z"
   },
   {
    "duration": 13,
    "start_time": "2023-05-25T16:56:23.831Z"
   },
   {
    "duration": 10,
    "start_time": "2023-05-25T16:56:32.235Z"
   },
   {
    "duration": 11,
    "start_time": "2023-05-25T16:56:41.453Z"
   },
   {
    "duration": 9,
    "start_time": "2023-05-25T16:56:49.173Z"
   },
   {
    "duration": 10,
    "start_time": "2023-05-25T16:57:00.348Z"
   },
   {
    "duration": 10,
    "start_time": "2023-05-25T16:57:11.074Z"
   },
   {
    "duration": 12,
    "start_time": "2023-05-25T16:57:15.932Z"
   },
   {
    "duration": 13,
    "start_time": "2023-05-25T16:57:26.760Z"
   },
   {
    "duration": 11,
    "start_time": "2023-05-25T16:57:37.671Z"
   },
   {
    "duration": 12,
    "start_time": "2023-05-25T16:57:45.415Z"
   },
   {
    "duration": 9,
    "start_time": "2023-05-25T16:58:03.915Z"
   },
   {
    "duration": 10,
    "start_time": "2023-05-25T16:58:10.636Z"
   },
   {
    "duration": 9,
    "start_time": "2023-05-25T16:58:22.415Z"
   },
   {
    "duration": 14,
    "start_time": "2023-05-25T16:58:28.431Z"
   },
   {
    "duration": 8,
    "start_time": "2023-05-25T16:58:36.831Z"
   },
   {
    "duration": 8,
    "start_time": "2023-05-25T16:58:45.935Z"
   },
   {
    "duration": 10,
    "start_time": "2023-05-25T16:59:50.127Z"
   },
   {
    "duration": 10,
    "start_time": "2023-05-25T16:59:58.211Z"
   },
   {
    "duration": 16,
    "start_time": "2023-05-25T17:00:06.054Z"
   },
   {
    "duration": 10,
    "start_time": "2023-05-25T17:00:14.476Z"
   },
   {
    "duration": 10,
    "start_time": "2023-05-25T17:00:17.729Z"
   },
   {
    "duration": 9,
    "start_time": "2023-05-25T17:00:26.348Z"
   },
   {
    "duration": 11,
    "start_time": "2023-05-25T17:00:34.566Z"
   },
   {
    "duration": 10,
    "start_time": "2023-05-25T17:00:38.223Z"
   },
   {
    "duration": 9,
    "start_time": "2023-05-25T17:00:44.811Z"
   },
   {
    "duration": 9,
    "start_time": "2023-05-25T17:00:57.637Z"
   },
   {
    "duration": 48,
    "start_time": "2023-05-25T17:01:01.023Z"
   },
   {
    "duration": 12754,
    "start_time": "2023-05-25T17:59:51.422Z"
   },
   {
    "duration": 13,
    "start_time": "2023-05-25T18:00:48.674Z"
   },
   {
    "duration": 6,
    "start_time": "2023-05-25T18:04:27.236Z"
   },
   {
    "duration": 9,
    "start_time": "2023-05-25T18:07:38.410Z"
   },
   {
    "duration": 6,
    "start_time": "2023-05-25T18:07:58.013Z"
   },
   {
    "duration": 48,
    "start_time": "2023-05-25T18:12:12.678Z"
   },
   {
    "duration": 52,
    "start_time": "2023-05-25T18:12:41.653Z"
   },
   {
    "duration": 6,
    "start_time": "2023-05-25T18:12:55.342Z"
   },
   {
    "duration": 5,
    "start_time": "2023-05-25T18:13:08.802Z"
   },
   {
    "duration": 128,
    "start_time": "2023-05-25T18:22:12.538Z"
   },
   {
    "duration": 4,
    "start_time": "2023-05-25T18:22:33.436Z"
   },
   {
    "duration": 20,
    "start_time": "2023-05-25T18:22:39.048Z"
   },
   {
    "duration": 18,
    "start_time": "2023-05-25T18:22:52.802Z"
   },
   {
    "duration": 5,
    "start_time": "2023-05-25T18:22:54.927Z"
   },
   {
    "duration": 25,
    "start_time": "2023-05-25T18:22:57.281Z"
   },
   {
    "duration": 16,
    "start_time": "2023-05-25T18:23:44.381Z"
   },
   {
    "duration": 7,
    "start_time": "2023-05-25T18:23:56.854Z"
   },
   {
    "duration": 7,
    "start_time": "2023-05-25T18:24:03.415Z"
   },
   {
    "duration": 16,
    "start_time": "2023-05-25T18:24:52.422Z"
   },
   {
    "duration": 6,
    "start_time": "2023-05-25T18:26:17.943Z"
   },
   {
    "duration": 7,
    "start_time": "2023-05-25T18:26:22.779Z"
   },
   {
    "duration": 7,
    "start_time": "2023-05-25T18:26:59.723Z"
   },
   {
    "duration": 6,
    "start_time": "2023-05-25T18:27:10.385Z"
   },
   {
    "duration": 8,
    "start_time": "2023-05-25T18:28:08.779Z"
   },
   {
    "duration": 29,
    "start_time": "2023-05-25T18:28:24.177Z"
   },
   {
    "duration": 22,
    "start_time": "2023-05-25T18:33:40.514Z"
   },
   {
    "duration": 15,
    "start_time": "2023-05-25T18:34:28.100Z"
   },
   {
    "duration": 10,
    "start_time": "2023-05-25T18:34:36.562Z"
   },
   {
    "duration": 15,
    "start_time": "2023-05-25T18:35:39.638Z"
   },
   {
    "duration": 5,
    "start_time": "2023-05-25T18:36:11.360Z"
   },
   {
    "duration": 18,
    "start_time": "2023-05-25T18:36:15.816Z"
   },
   {
    "duration": 10,
    "start_time": "2023-05-25T18:37:36.122Z"
   },
   {
    "duration": 4,
    "start_time": "2023-05-25T18:37:45.066Z"
   },
   {
    "duration": 5,
    "start_time": "2023-05-25T18:38:03.417Z"
   },
   {
    "duration": 16,
    "start_time": "2023-05-25T18:40:31.752Z"
   },
   {
    "duration": 16,
    "start_time": "2023-05-25T18:53:14.123Z"
   },
   {
    "duration": 17,
    "start_time": "2023-05-25T18:58:50.741Z"
   },
   {
    "duration": 17,
    "start_time": "2023-05-25T18:59:24.060Z"
   },
   {
    "duration": 16,
    "start_time": "2023-05-25T18:59:38.523Z"
   },
   {
    "duration": 14,
    "start_time": "2023-05-25T19:00:58.006Z"
   },
   {
    "duration": 8,
    "start_time": "2023-05-25T19:02:39.851Z"
   },
   {
    "duration": 8,
    "start_time": "2023-05-25T19:03:49.719Z"
   },
   {
    "duration": 18,
    "start_time": "2023-05-25T19:05:04.225Z"
   },
   {
    "duration": 13,
    "start_time": "2023-05-25T19:06:18.176Z"
   },
   {
    "duration": 14,
    "start_time": "2023-05-25T19:07:13.031Z"
   },
   {
    "duration": 11,
    "start_time": "2023-05-25T19:07:36.692Z"
   },
   {
    "duration": 1529,
    "start_time": "2023-05-25T19:09:50.094Z"
   },
   {
    "duration": 1351,
    "start_time": "2023-05-25T19:09:51.625Z"
   },
   {
    "duration": 14,
    "start_time": "2023-05-25T19:09:52.978Z"
   },
   {
    "duration": 17,
    "start_time": "2023-05-25T19:09:52.994Z"
   },
   {
    "duration": 23,
    "start_time": "2023-05-25T19:09:53.013Z"
   },
   {
    "duration": 15,
    "start_time": "2023-05-25T19:09:53.039Z"
   },
   {
    "duration": 15,
    "start_time": "2023-05-25T19:09:53.056Z"
   },
   {
    "duration": 13,
    "start_time": "2023-05-25T19:09:53.073Z"
   },
   {
    "duration": 10,
    "start_time": "2023-05-25T19:09:53.087Z"
   },
   {
    "duration": 9,
    "start_time": "2023-05-25T19:09:53.100Z"
   },
   {
    "duration": 156,
    "start_time": "2023-05-25T19:09:53.110Z"
   },
   {
    "duration": 6,
    "start_time": "2023-05-25T19:09:53.268Z"
   },
   {
    "duration": 176,
    "start_time": "2023-05-25T19:09:53.275Z"
   },
   {
    "duration": 6,
    "start_time": "2023-05-25T19:09:53.455Z"
   },
   {
    "duration": 15,
    "start_time": "2023-05-25T19:09:53.462Z"
   },
   {
    "duration": 20,
    "start_time": "2023-05-25T19:09:53.479Z"
   },
   {
    "duration": 132,
    "start_time": "2023-05-25T19:09:53.501Z"
   },
   {
    "duration": 8,
    "start_time": "2023-05-25T19:09:53.634Z"
   },
   {
    "duration": 26,
    "start_time": "2023-05-25T19:09:53.644Z"
   },
   {
    "duration": 3,
    "start_time": "2023-05-25T19:09:53.672Z"
   },
   {
    "duration": 15,
    "start_time": "2023-05-25T19:09:53.676Z"
   },
   {
    "duration": 6,
    "start_time": "2023-05-25T19:09:53.692Z"
   },
   {
    "duration": 35,
    "start_time": "2023-05-25T19:09:53.700Z"
   },
   {
    "duration": 3,
    "start_time": "2023-05-25T19:09:53.737Z"
   },
   {
    "duration": 10,
    "start_time": "2023-05-25T19:09:53.741Z"
   },
   {
    "duration": 98,
    "start_time": "2023-05-25T19:09:53.752Z"
   },
   {
    "duration": 37,
    "start_time": "2023-05-25T19:09:53.852Z"
   },
   {
    "duration": 13,
    "start_time": "2023-05-25T19:09:53.893Z"
   },
   {
    "duration": 8,
    "start_time": "2023-05-25T19:09:53.909Z"
   },
   {
    "duration": 15,
    "start_time": "2023-05-25T19:09:53.919Z"
   },
   {
    "duration": 24,
    "start_time": "2023-05-25T19:09:53.936Z"
   },
   {
    "duration": 16,
    "start_time": "2023-05-25T19:09:53.962Z"
   },
   {
    "duration": 55,
    "start_time": "2023-05-25T19:09:53.980Z"
   },
   {
    "duration": 19,
    "start_time": "2023-05-25T19:09:54.056Z"
   },
   {
    "duration": 18,
    "start_time": "2023-05-25T19:09:54.077Z"
   },
   {
    "duration": 2251,
    "start_time": "2023-05-25T19:09:54.096Z"
   },
   {
    "duration": 4,
    "start_time": "2023-05-25T19:09:56.355Z"
   },
   {
    "duration": 68,
    "start_time": "2023-05-25T19:09:56.360Z"
   },
   {
    "duration": 12226,
    "start_time": "2023-05-25T19:09:56.430Z"
   },
   {
    "duration": 17,
    "start_time": "2023-05-25T19:10:08.659Z"
   },
   {
    "duration": 113,
    "start_time": "2023-05-25T19:10:08.678Z"
   },
   {
    "duration": 48,
    "start_time": "2023-05-25T19:10:08.793Z"
   },
   {
    "duration": 13,
    "start_time": "2023-05-25T19:10:08.842Z"
   },
   {
    "duration": 22,
    "start_time": "2023-05-25T19:10:08.857Z"
   },
   {
    "duration": 11,
    "start_time": "2023-05-25T19:10:08.882Z"
   },
   {
    "duration": 52,
    "start_time": "2023-05-25T19:10:08.895Z"
   },
   {
    "duration": 24,
    "start_time": "2023-05-25T19:10:08.950Z"
   },
   {
    "duration": 16,
    "start_time": "2023-05-25T19:10:20.226Z"
   },
   {
    "duration": 13,
    "start_time": "2023-05-25T19:10:41.985Z"
   },
   {
    "duration": 10,
    "start_time": "2023-05-25T19:12:40.850Z"
   },
   {
    "duration": 8,
    "start_time": "2023-05-25T19:12:56.200Z"
   },
   {
    "duration": 10,
    "start_time": "2023-05-25T19:15:31.123Z"
   },
   {
    "duration": 9,
    "start_time": "2023-05-25T19:16:03.384Z"
   },
   {
    "duration": 10,
    "start_time": "2023-05-25T19:16:07.176Z"
   },
   {
    "duration": 10,
    "start_time": "2023-05-25T19:16:14.458Z"
   },
   {
    "duration": 12,
    "start_time": "2023-05-25T19:16:26.715Z"
   },
   {
    "duration": 9,
    "start_time": "2023-05-25T19:16:44.801Z"
   },
   {
    "duration": 15,
    "start_time": "2023-05-25T19:17:10.624Z"
   },
   {
    "duration": 11,
    "start_time": "2023-05-25T19:17:15.308Z"
   },
   {
    "duration": 10,
    "start_time": "2023-05-25T19:17:20.171Z"
   },
   {
    "duration": 10,
    "start_time": "2023-05-25T19:17:26.929Z"
   },
   {
    "duration": 14,
    "start_time": "2023-05-25T19:17:31.170Z"
   },
   {
    "duration": 8,
    "start_time": "2023-05-25T19:17:40.588Z"
   },
   {
    "duration": 9,
    "start_time": "2023-05-25T19:17:47.110Z"
   },
   {
    "duration": 4071,
    "start_time": "2023-05-25T19:58:44.603Z"
   },
   {
    "duration": 15,
    "start_time": "2023-05-25T19:59:09.776Z"
   },
   {
    "duration": 9,
    "start_time": "2023-05-25T19:59:24.646Z"
   },
   {
    "duration": 15,
    "start_time": "2023-05-25T19:59:35.675Z"
   },
   {
    "duration": 87,
    "start_time": "2023-05-25T19:59:42.776Z"
   },
   {
    "duration": 12,
    "start_time": "2023-05-25T19:59:43.478Z"
   },
   {
    "duration": 10,
    "start_time": "2023-05-25T19:59:46.998Z"
   },
   {
    "duration": 17,
    "start_time": "2023-05-25T19:59:56.456Z"
   },
   {
    "duration": 11,
    "start_time": "2023-05-25T20:00:02.969Z"
   },
   {
    "duration": 12,
    "start_time": "2023-05-25T20:00:12.623Z"
   },
   {
    "duration": 17,
    "start_time": "2023-05-25T20:00:19.890Z"
   },
   {
    "duration": 16,
    "start_time": "2023-05-25T20:00:35.910Z"
   },
   {
    "duration": 17,
    "start_time": "2023-05-25T20:01:12.141Z"
   },
   {
    "duration": 13,
    "start_time": "2023-05-25T20:01:20.077Z"
   },
   {
    "duration": 25,
    "start_time": "2023-05-25T20:01:28.748Z"
   },
   {
    "duration": 12,
    "start_time": "2023-05-25T20:01:40.787Z"
   },
   {
    "duration": 22,
    "start_time": "2023-05-25T20:01:45.058Z"
   },
   {
    "duration": 16,
    "start_time": "2023-05-25T20:01:48.588Z"
   },
   {
    "duration": 12,
    "start_time": "2023-05-25T20:01:57.486Z"
   },
   {
    "duration": 14,
    "start_time": "2023-05-25T20:02:07.126Z"
   },
   {
    "duration": 15,
    "start_time": "2023-05-25T20:02:14.272Z"
   },
   {
    "duration": 19,
    "start_time": "2023-05-25T20:02:21.201Z"
   },
   {
    "duration": 9,
    "start_time": "2023-05-25T20:02:28.333Z"
   },
   {
    "duration": 11,
    "start_time": "2023-05-25T20:02:43.929Z"
   },
   {
    "duration": 13,
    "start_time": "2023-05-25T20:02:48.439Z"
   },
   {
    "duration": 16,
    "start_time": "2023-05-25T20:02:55.736Z"
   },
   {
    "duration": 14,
    "start_time": "2023-05-25T20:03:05.270Z"
   },
   {
    "duration": 13,
    "start_time": "2023-05-25T20:03:25.222Z"
   },
   {
    "duration": 18,
    "start_time": "2023-05-25T20:03:35.283Z"
   },
   {
    "duration": 11,
    "start_time": "2023-05-25T20:03:43.491Z"
   },
   {
    "duration": 14,
    "start_time": "2023-05-25T20:03:49.043Z"
   },
   {
    "duration": 9,
    "start_time": "2023-05-25T20:03:52.339Z"
   },
   {
    "duration": 11,
    "start_time": "2023-05-25T20:03:56.743Z"
   },
   {
    "duration": 18,
    "start_time": "2023-05-25T20:04:05.152Z"
   },
   {
    "duration": 12,
    "start_time": "2023-05-25T20:04:10.375Z"
   },
   {
    "duration": 15,
    "start_time": "2023-05-25T20:04:18.903Z"
   },
   {
    "duration": 11,
    "start_time": "2023-05-25T20:04:26.086Z"
   },
   {
    "duration": 11,
    "start_time": "2023-05-25T20:04:42.333Z"
   },
   {
    "duration": 9,
    "start_time": "2023-05-25T20:04:48.645Z"
   },
   {
    "duration": 10,
    "start_time": "2023-05-25T20:04:59.728Z"
   },
   {
    "duration": 19,
    "start_time": "2023-05-25T20:05:06.950Z"
   },
   {
    "duration": 13,
    "start_time": "2023-05-25T20:05:16.370Z"
   },
   {
    "duration": 12,
    "start_time": "2023-05-25T20:05:22.899Z"
   },
   {
    "duration": 15,
    "start_time": "2023-05-25T20:05:31.704Z"
   },
   {
    "duration": 14,
    "start_time": "2023-05-25T20:05:40.272Z"
   },
   {
    "duration": 10,
    "start_time": "2023-05-25T20:05:45.235Z"
   },
   {
    "duration": 11,
    "start_time": "2023-05-25T20:05:50.799Z"
   },
   {
    "duration": 13,
    "start_time": "2023-05-25T20:05:58.379Z"
   },
   {
    "duration": 10,
    "start_time": "2023-05-25T20:06:20.935Z"
   },
   {
    "duration": 11,
    "start_time": "2023-05-25T20:06:27.523Z"
   },
   {
    "duration": 12,
    "start_time": "2023-05-25T20:06:31.723Z"
   },
   {
    "duration": 11,
    "start_time": "2023-05-25T20:06:40.118Z"
   },
   {
    "duration": 12,
    "start_time": "2023-05-25T20:06:52.909Z"
   },
   {
    "duration": 13,
    "start_time": "2023-05-25T20:07:11.733Z"
   },
   {
    "duration": 10,
    "start_time": "2023-05-25T20:07:22.118Z"
   },
   {
    "duration": 10,
    "start_time": "2023-05-25T20:07:31.423Z"
   },
   {
    "duration": 15,
    "start_time": "2023-05-25T20:07:35.583Z"
   },
   {
    "duration": 12,
    "start_time": "2023-05-25T20:07:44.074Z"
   },
   {
    "duration": 9,
    "start_time": "2023-05-25T20:07:50.515Z"
   },
   {
    "duration": 11,
    "start_time": "2023-05-25T20:07:54.695Z"
   },
   {
    "duration": 12,
    "start_time": "2023-05-25T20:08:12.570Z"
   },
   {
    "duration": 50,
    "start_time": "2023-05-25T20:08:21.406Z"
   },
   {
    "duration": 13,
    "start_time": "2023-05-25T20:08:27.374Z"
   },
   {
    "duration": 16,
    "start_time": "2023-05-25T20:08:34.958Z"
   },
   {
    "duration": 11,
    "start_time": "2023-05-25T20:08:44.939Z"
   },
   {
    "duration": 11,
    "start_time": "2023-05-25T20:08:55.388Z"
   },
   {
    "duration": 23,
    "start_time": "2023-05-25T20:08:59.060Z"
   },
   {
    "duration": 10,
    "start_time": "2023-05-25T20:09:13.500Z"
   },
   {
    "duration": 10,
    "start_time": "2023-05-25T20:09:22.491Z"
   },
   {
    "duration": 11,
    "start_time": "2023-05-25T20:09:30.434Z"
   },
   {
    "duration": 9,
    "start_time": "2023-05-25T20:09:44.182Z"
   },
   {
    "duration": 16,
    "start_time": "2023-05-25T20:09:56.547Z"
   },
   {
    "duration": 12,
    "start_time": "2023-05-25T20:10:07.261Z"
   },
   {
    "duration": 10,
    "start_time": "2023-05-25T20:10:11.845Z"
   },
   {
    "duration": 14,
    "start_time": "2023-05-25T20:10:20.958Z"
   },
   {
    "duration": 12,
    "start_time": "2023-05-25T20:10:24.805Z"
   },
   {
    "duration": 55,
    "start_time": "2023-05-25T20:10:44.326Z"
   },
   {
    "duration": 15,
    "start_time": "2023-05-25T20:10:57.458Z"
   },
   {
    "duration": 11,
    "start_time": "2023-05-25T20:11:15.531Z"
   },
   {
    "duration": 5,
    "start_time": "2023-05-25T20:11:37.038Z"
   },
   {
    "duration": 41,
    "start_time": "2023-05-25T20:11:42.512Z"
   },
   {
    "duration": 10,
    "start_time": "2023-05-25T20:12:24.816Z"
   },
   {
    "duration": 13,
    "start_time": "2023-05-25T20:12:29.036Z"
   },
   {
    "duration": 10,
    "start_time": "2023-05-25T20:12:32.372Z"
   },
   {
    "duration": 11,
    "start_time": "2023-05-25T20:12:35.531Z"
   },
   {
    "duration": 13,
    "start_time": "2023-05-25T20:12:38.568Z"
   },
   {
    "duration": 15,
    "start_time": "2023-05-25T20:12:42.648Z"
   },
   {
    "duration": 10,
    "start_time": "2023-05-25T20:12:47.076Z"
   },
   {
    "duration": 10,
    "start_time": "2023-05-25T20:13:56.219Z"
   },
   {
    "duration": 56,
    "start_time": "2023-05-25T20:14:13.061Z"
   },
   {
    "duration": 14,
    "start_time": "2023-05-25T20:16:41.952Z"
   },
   {
    "duration": 138,
    "start_time": "2023-05-25T20:18:49.654Z"
   },
   {
    "duration": 1901,
    "start_time": "2023-05-25T20:19:04.981Z"
   },
   {
    "duration": 2130,
    "start_time": "2023-05-25T20:20:15.201Z"
   },
   {
    "duration": 18,
    "start_time": "2023-05-25T20:21:23.595Z"
   },
   {
    "duration": 2094,
    "start_time": "2023-05-25T20:22:37.484Z"
   },
   {
    "duration": 23,
    "start_time": "2023-05-25T20:22:39.580Z"
   },
   {
    "duration": 21,
    "start_time": "2023-05-25T20:23:02.538Z"
   },
   {
    "duration": 10,
    "start_time": "2023-05-25T20:23:16.889Z"
   },
   {
    "duration": 22,
    "start_time": "2023-05-25T20:23:49.743Z"
   },
   {
    "duration": 20,
    "start_time": "2023-05-25T20:24:13.573Z"
   },
   {
    "duration": 22,
    "start_time": "2023-05-25T20:24:30.048Z"
   },
   {
    "duration": 13,
    "start_time": "2023-05-25T20:24:45.326Z"
   },
   {
    "duration": 27,
    "start_time": "2023-05-25T20:25:02.214Z"
   },
   {
    "duration": 1862,
    "start_time": "2023-05-25T20:25:45.825Z"
   },
   {
    "duration": 1810,
    "start_time": "2023-05-25T20:25:59.377Z"
   },
   {
    "duration": 1809,
    "start_time": "2023-05-25T20:26:40.740Z"
   },
   {
    "duration": 10,
    "start_time": "2023-05-25T20:26:48.493Z"
   },
   {
    "duration": 19,
    "start_time": "2023-05-25T20:26:56.620Z"
   },
   {
    "duration": 50,
    "start_time": "2023-05-25T20:27:42.742Z"
   },
   {
    "duration": 17,
    "start_time": "2023-05-25T20:27:48.223Z"
   },
   {
    "duration": 2069,
    "start_time": "2023-05-25T20:28:32.841Z"
   },
   {
    "duration": 25,
    "start_time": "2023-05-25T20:28:38.307Z"
   },
   {
    "duration": 31,
    "start_time": "2023-05-25T20:28:42.884Z"
   },
   {
    "duration": 35,
    "start_time": "2023-05-25T20:28:55.797Z"
   },
   {
    "duration": 811,
    "start_time": "2023-05-25T20:32:28.977Z"
   },
   {
    "duration": 786,
    "start_time": "2023-05-25T20:32:52.089Z"
   },
   {
    "duration": 812,
    "start_time": "2023-05-25T20:33:10.303Z"
   },
   {
    "duration": 1535,
    "start_time": "2023-05-25T20:33:34.501Z"
   },
   {
    "duration": 4492,
    "start_time": "2023-05-25T20:33:36.038Z"
   },
   {
    "duration": 13,
    "start_time": "2023-05-25T20:33:40.532Z"
   },
   {
    "duration": 17,
    "start_time": "2023-05-25T20:33:40.547Z"
   },
   {
    "duration": 15,
    "start_time": "2023-05-25T20:33:40.566Z"
   },
   {
    "duration": 22,
    "start_time": "2023-05-25T20:33:40.583Z"
   },
   {
    "duration": 12,
    "start_time": "2023-05-25T20:33:40.607Z"
   },
   {
    "duration": 15,
    "start_time": "2023-05-25T20:33:40.620Z"
   },
   {
    "duration": 19,
    "start_time": "2023-05-25T20:33:40.637Z"
   },
   {
    "duration": 20,
    "start_time": "2023-05-25T20:33:40.663Z"
   },
   {
    "duration": 151,
    "start_time": "2023-05-25T20:33:40.691Z"
   },
   {
    "duration": 11,
    "start_time": "2023-05-25T20:33:40.845Z"
   },
   {
    "duration": 160,
    "start_time": "2023-05-25T20:33:40.858Z"
   },
   {
    "duration": 5,
    "start_time": "2023-05-25T20:33:41.020Z"
   },
   {
    "duration": 18,
    "start_time": "2023-05-25T20:33:41.026Z"
   },
   {
    "duration": 33,
    "start_time": "2023-05-25T20:33:41.046Z"
   },
   {
    "duration": 137,
    "start_time": "2023-05-25T20:33:41.083Z"
   },
   {
    "duration": 9,
    "start_time": "2023-05-25T20:33:41.222Z"
   },
   {
    "duration": 39,
    "start_time": "2023-05-25T20:33:41.233Z"
   },
   {
    "duration": 8,
    "start_time": "2023-05-25T20:33:41.277Z"
   },
   {
    "duration": 9,
    "start_time": "2023-05-25T20:33:41.288Z"
   },
   {
    "duration": 7,
    "start_time": "2023-05-25T20:33:41.298Z"
   },
   {
    "duration": 18,
    "start_time": "2023-05-25T20:33:41.306Z"
   },
   {
    "duration": 3,
    "start_time": "2023-05-25T20:33:41.326Z"
   },
   {
    "duration": 28,
    "start_time": "2023-05-25T20:33:41.330Z"
   },
   {
    "duration": 117,
    "start_time": "2023-05-25T20:33:41.360Z"
   },
   {
    "duration": 37,
    "start_time": "2023-05-25T20:33:41.480Z"
   },
   {
    "duration": 6,
    "start_time": "2023-05-25T20:33:41.520Z"
   },
   {
    "duration": 11,
    "start_time": "2023-05-25T20:33:41.528Z"
   },
   {
    "duration": 35,
    "start_time": "2023-05-25T20:33:41.541Z"
   },
   {
    "duration": 14,
    "start_time": "2023-05-25T20:33:41.581Z"
   },
   {
    "duration": 23,
    "start_time": "2023-05-25T20:33:41.597Z"
   },
   {
    "duration": 65,
    "start_time": "2023-05-25T20:33:41.622Z"
   },
   {
    "duration": 19,
    "start_time": "2023-05-25T20:33:41.690Z"
   },
   {
    "duration": 21,
    "start_time": "2023-05-25T20:33:41.711Z"
   },
   {
    "duration": 2696,
    "start_time": "2023-05-25T20:33:41.734Z"
   },
   {
    "duration": 5,
    "start_time": "2023-05-25T20:33:44.432Z"
   },
   {
    "duration": 81,
    "start_time": "2023-05-25T20:33:44.438Z"
   },
   {
    "duration": 3829,
    "start_time": "2023-05-25T20:33:44.521Z"
   },
   {
    "duration": 23,
    "start_time": "2023-05-25T20:33:48.353Z"
   },
   {
    "duration": 239,
    "start_time": "2023-05-25T20:33:48.378Z"
   },
   {
    "duration": 2181,
    "start_time": "2023-05-25T20:33:48.619Z"
   },
   {
    "duration": 137,
    "start_time": "2023-05-25T20:33:50.801Z"
   },
   {
    "duration": 0,
    "start_time": "2023-05-25T20:33:50.940Z"
   },
   {
    "duration": 0,
    "start_time": "2023-05-25T20:33:50.941Z"
   },
   {
    "duration": 0,
    "start_time": "2023-05-25T20:33:50.942Z"
   },
   {
    "duration": 0,
    "start_time": "2023-05-25T20:33:50.943Z"
   },
   {
    "duration": 0,
    "start_time": "2023-05-25T20:33:50.944Z"
   },
   {
    "duration": 1904,
    "start_time": "2023-05-25T20:34:29.513Z"
   },
   {
    "duration": 1886,
    "start_time": "2023-05-25T20:34:39.605Z"
   },
   {
    "duration": 1533,
    "start_time": "2023-05-25T20:36:41.283Z"
   },
   {
    "duration": 4936,
    "start_time": "2023-05-25T20:36:42.818Z"
   },
   {
    "duration": 21,
    "start_time": "2023-05-25T20:36:47.760Z"
   },
   {
    "duration": 13,
    "start_time": "2023-05-25T20:36:47.784Z"
   },
   {
    "duration": 5,
    "start_time": "2023-05-25T20:36:47.798Z"
   },
   {
    "duration": 13,
    "start_time": "2023-05-25T20:36:47.804Z"
   },
   {
    "duration": 3,
    "start_time": "2023-05-25T20:36:47.819Z"
   },
   {
    "duration": 46,
    "start_time": "2023-05-25T20:36:47.824Z"
   },
   {
    "duration": 11,
    "start_time": "2023-05-25T20:36:47.871Z"
   },
   {
    "duration": 9,
    "start_time": "2023-05-25T20:36:47.885Z"
   },
   {
    "duration": 156,
    "start_time": "2023-05-25T20:36:47.895Z"
   },
   {
    "duration": 18,
    "start_time": "2023-05-25T20:36:48.053Z"
   },
   {
    "duration": 138,
    "start_time": "2023-05-25T20:36:48.074Z"
   },
   {
    "duration": 6,
    "start_time": "2023-05-25T20:36:48.213Z"
   },
   {
    "duration": 17,
    "start_time": "2023-05-25T20:36:48.221Z"
   },
   {
    "duration": 31,
    "start_time": "2023-05-25T20:36:48.240Z"
   },
   {
    "duration": 151,
    "start_time": "2023-05-25T20:36:48.273Z"
   },
   {
    "duration": 8,
    "start_time": "2023-05-25T20:36:48.425Z"
   },
   {
    "duration": 45,
    "start_time": "2023-05-25T20:36:48.435Z"
   },
   {
    "duration": 4,
    "start_time": "2023-05-25T20:36:48.482Z"
   },
   {
    "duration": 9,
    "start_time": "2023-05-25T20:36:48.488Z"
   },
   {
    "duration": 5,
    "start_time": "2023-05-25T20:36:48.499Z"
   },
   {
    "duration": 24,
    "start_time": "2023-05-25T20:36:48.506Z"
   },
   {
    "duration": 4,
    "start_time": "2023-05-25T20:36:48.532Z"
   },
   {
    "duration": 35,
    "start_time": "2023-05-25T20:36:48.538Z"
   },
   {
    "duration": 109,
    "start_time": "2023-05-25T20:36:48.575Z"
   },
   {
    "duration": 44,
    "start_time": "2023-05-25T20:36:48.686Z"
   },
   {
    "duration": 6,
    "start_time": "2023-05-25T20:36:48.733Z"
   },
   {
    "duration": 29,
    "start_time": "2023-05-25T20:36:48.740Z"
   },
   {
    "duration": 16,
    "start_time": "2023-05-25T20:36:48.772Z"
   },
   {
    "duration": 14,
    "start_time": "2023-05-25T20:36:48.790Z"
   },
   {
    "duration": 74,
    "start_time": "2023-05-25T20:36:48.807Z"
   },
   {
    "duration": 117,
    "start_time": "2023-05-25T20:36:48.883Z"
   },
   {
    "duration": 33,
    "start_time": "2023-05-25T20:36:49.002Z"
   },
   {
    "duration": 54,
    "start_time": "2023-05-25T20:36:49.037Z"
   },
   {
    "duration": 2524,
    "start_time": "2023-05-25T20:36:49.093Z"
   },
   {
    "duration": 4,
    "start_time": "2023-05-25T20:36:51.618Z"
   },
   {
    "duration": 74,
    "start_time": "2023-05-25T20:36:51.624Z"
   },
   {
    "duration": 3645,
    "start_time": "2023-05-25T20:36:51.700Z"
   },
   {
    "duration": 33,
    "start_time": "2023-05-25T20:36:55.347Z"
   },
   {
    "duration": 41,
    "start_time": "2023-05-25T20:36:55.382Z"
   },
   {
    "duration": 1841,
    "start_time": "2023-05-25T20:36:55.425Z"
   },
   {
    "duration": 11,
    "start_time": "2023-05-25T20:36:57.267Z"
   },
   {
    "duration": 24,
    "start_time": "2023-05-25T20:36:57.280Z"
   },
   {
    "duration": 9,
    "start_time": "2023-05-25T20:36:57.307Z"
   },
   {
    "duration": 14,
    "start_time": "2023-05-25T20:36:57.318Z"
   },
   {
    "duration": 13,
    "start_time": "2023-05-25T20:36:57.357Z"
   },
   {
    "duration": 24,
    "start_time": "2023-05-25T20:37:10.330Z"
   },
   {
    "duration": 1552,
    "start_time": "2023-05-25T20:37:31.849Z"
   },
   {
    "duration": 1308,
    "start_time": "2023-05-25T20:37:33.403Z"
   },
   {
    "duration": 12,
    "start_time": "2023-05-25T20:37:34.713Z"
   },
   {
    "duration": 13,
    "start_time": "2023-05-25T20:37:34.727Z"
   },
   {
    "duration": 7,
    "start_time": "2023-05-25T20:37:34.741Z"
   },
   {
    "duration": 13,
    "start_time": "2023-05-25T20:37:34.749Z"
   },
   {
    "duration": 8,
    "start_time": "2023-05-25T20:37:34.763Z"
   },
   {
    "duration": 13,
    "start_time": "2023-05-25T20:37:34.773Z"
   },
   {
    "duration": 10,
    "start_time": "2023-05-25T20:37:34.787Z"
   },
   {
    "duration": 9,
    "start_time": "2023-05-25T20:37:34.800Z"
   },
   {
    "duration": 161,
    "start_time": "2023-05-25T20:37:34.811Z"
   },
   {
    "duration": 6,
    "start_time": "2023-05-25T20:37:34.973Z"
   },
   {
    "duration": 135,
    "start_time": "2023-05-25T20:37:34.981Z"
   },
   {
    "duration": 6,
    "start_time": "2023-05-25T20:37:35.117Z"
   },
   {
    "duration": 5,
    "start_time": "2023-05-25T20:37:35.125Z"
   },
   {
    "duration": 32,
    "start_time": "2023-05-25T20:37:35.132Z"
   },
   {
    "duration": 134,
    "start_time": "2023-05-25T20:37:35.166Z"
   },
   {
    "duration": 7,
    "start_time": "2023-05-25T20:37:35.302Z"
   },
   {
    "duration": 21,
    "start_time": "2023-05-25T20:37:35.311Z"
   },
   {
    "duration": 10,
    "start_time": "2023-05-25T20:37:35.333Z"
   },
   {
    "duration": 15,
    "start_time": "2023-05-25T20:37:35.344Z"
   },
   {
    "duration": 7,
    "start_time": "2023-05-25T20:37:35.360Z"
   },
   {
    "duration": 18,
    "start_time": "2023-05-25T20:37:35.369Z"
   },
   {
    "duration": 10,
    "start_time": "2023-05-25T20:37:35.389Z"
   },
   {
    "duration": 8,
    "start_time": "2023-05-25T20:37:35.401Z"
   },
   {
    "duration": 133,
    "start_time": "2023-05-25T20:37:35.411Z"
   },
   {
    "duration": 41,
    "start_time": "2023-05-25T20:37:35.545Z"
   },
   {
    "duration": 11,
    "start_time": "2023-05-25T20:37:35.589Z"
   },
   {
    "duration": 6,
    "start_time": "2023-05-25T20:37:35.602Z"
   },
   {
    "duration": 9,
    "start_time": "2023-05-25T20:37:35.609Z"
   },
   {
    "duration": 5,
    "start_time": "2023-05-25T20:37:35.620Z"
   },
   {
    "duration": 31,
    "start_time": "2023-05-25T20:37:35.626Z"
   },
   {
    "duration": 55,
    "start_time": "2023-05-25T20:37:35.659Z"
   },
   {
    "duration": 18,
    "start_time": "2023-05-25T20:37:35.716Z"
   },
   {
    "duration": 40,
    "start_time": "2023-05-25T20:37:35.736Z"
   },
   {
    "duration": 2336,
    "start_time": "2023-05-25T20:37:35.778Z"
   },
   {
    "duration": 3,
    "start_time": "2023-05-25T20:37:38.116Z"
   },
   {
    "duration": 78,
    "start_time": "2023-05-25T20:37:38.120Z"
   },
   {
    "duration": 3603,
    "start_time": "2023-05-25T20:37:38.200Z"
   },
   {
    "duration": 15,
    "start_time": "2023-05-25T20:37:41.805Z"
   },
   {
    "duration": 71,
    "start_time": "2023-05-25T20:37:41.822Z"
   },
   {
    "duration": 2085,
    "start_time": "2023-05-25T20:37:41.895Z"
   },
   {
    "duration": 0,
    "start_time": "2023-05-25T20:37:43.981Z"
   },
   {
    "duration": 0,
    "start_time": "2023-05-25T20:37:43.983Z"
   },
   {
    "duration": 0,
    "start_time": "2023-05-25T20:37:43.984Z"
   },
   {
    "duration": 1,
    "start_time": "2023-05-25T20:37:43.985Z"
   },
   {
    "duration": 0,
    "start_time": "2023-05-25T20:37:43.987Z"
   },
   {
    "duration": 0,
    "start_time": "2023-05-25T20:37:43.988Z"
   },
   {
    "duration": 771,
    "start_time": "2023-05-25T20:37:56.648Z"
   },
   {
    "duration": 1535,
    "start_time": "2023-05-25T20:38:04.848Z"
   },
   {
    "duration": 1452,
    "start_time": "2023-05-25T20:38:06.385Z"
   },
   {
    "duration": 12,
    "start_time": "2023-05-25T20:38:07.839Z"
   },
   {
    "duration": 23,
    "start_time": "2023-05-25T20:38:07.853Z"
   },
   {
    "duration": 6,
    "start_time": "2023-05-25T20:38:07.877Z"
   },
   {
    "duration": 13,
    "start_time": "2023-05-25T20:38:07.884Z"
   },
   {
    "duration": 9,
    "start_time": "2023-05-25T20:38:07.899Z"
   },
   {
    "duration": 15,
    "start_time": "2023-05-25T20:38:07.909Z"
   },
   {
    "duration": 10,
    "start_time": "2023-05-25T20:38:07.926Z"
   },
   {
    "duration": 34,
    "start_time": "2023-05-25T20:38:07.938Z"
   },
   {
    "duration": 155,
    "start_time": "2023-05-25T20:38:07.973Z"
   },
   {
    "duration": 5,
    "start_time": "2023-05-25T20:38:08.130Z"
   },
   {
    "duration": 156,
    "start_time": "2023-05-25T20:38:08.137Z"
   },
   {
    "duration": 6,
    "start_time": "2023-05-25T20:38:08.295Z"
   },
   {
    "duration": 12,
    "start_time": "2023-05-25T20:38:08.302Z"
   },
   {
    "duration": 56,
    "start_time": "2023-05-25T20:38:08.316Z"
   },
   {
    "duration": 150,
    "start_time": "2023-05-25T20:38:08.374Z"
   },
   {
    "duration": 7,
    "start_time": "2023-05-25T20:38:08.526Z"
   },
   {
    "duration": 35,
    "start_time": "2023-05-25T20:38:08.535Z"
   },
   {
    "duration": 4,
    "start_time": "2023-05-25T20:38:08.572Z"
   },
   {
    "duration": 11,
    "start_time": "2023-05-25T20:38:08.577Z"
   },
   {
    "duration": 10,
    "start_time": "2023-05-25T20:38:08.590Z"
   },
   {
    "duration": 29,
    "start_time": "2023-05-25T20:38:08.602Z"
   },
   {
    "duration": 4,
    "start_time": "2023-05-25T20:38:08.632Z"
   },
   {
    "duration": 39,
    "start_time": "2023-05-25T20:38:08.638Z"
   },
   {
    "duration": 133,
    "start_time": "2023-05-25T20:38:08.679Z"
   },
   {
    "duration": 64,
    "start_time": "2023-05-25T20:38:08.814Z"
   },
   {
    "duration": 6,
    "start_time": "2023-05-25T20:38:08.882Z"
   },
   {
    "duration": 13,
    "start_time": "2023-05-25T20:38:08.891Z"
   },
   {
    "duration": 12,
    "start_time": "2023-05-25T20:38:08.907Z"
   },
   {
    "duration": 11,
    "start_time": "2023-05-25T20:38:08.921Z"
   },
   {
    "duration": 25,
    "start_time": "2023-05-25T20:38:08.934Z"
   },
   {
    "duration": 69,
    "start_time": "2023-05-25T20:38:08.970Z"
   },
   {
    "duration": 33,
    "start_time": "2023-05-25T20:38:09.041Z"
   },
   {
    "duration": 26,
    "start_time": "2023-05-25T20:38:09.077Z"
   },
   {
    "duration": 2544,
    "start_time": "2023-05-25T20:38:09.106Z"
   },
   {
    "duration": 5,
    "start_time": "2023-05-25T20:38:11.652Z"
   },
   {
    "duration": 59,
    "start_time": "2023-05-25T20:38:11.658Z"
   },
   {
    "duration": 3357,
    "start_time": "2023-05-25T20:38:11.719Z"
   },
   {
    "duration": 14,
    "start_time": "2023-05-25T20:38:15.078Z"
   },
   {
    "duration": 52,
    "start_time": "2023-05-25T20:38:15.094Z"
   },
   {
    "duration": 1784,
    "start_time": "2023-05-25T20:38:15.158Z"
   },
   {
    "duration": 26,
    "start_time": "2023-05-25T20:38:16.944Z"
   },
   {
    "duration": 10,
    "start_time": "2023-05-25T20:38:16.976Z"
   },
   {
    "duration": 15,
    "start_time": "2023-05-25T20:38:16.988Z"
   },
   {
    "duration": 7,
    "start_time": "2023-05-25T20:38:17.005Z"
   },
   {
    "duration": 30,
    "start_time": "2023-05-25T20:38:17.014Z"
   },
   {
    "duration": 25,
    "start_time": "2023-05-25T20:38:17.046Z"
   },
   {
    "duration": 150,
    "start_time": "2023-05-25T20:46:30.086Z"
   },
   {
    "duration": 80,
    "start_time": "2023-05-25T20:46:49.150Z"
   },
   {
    "duration": 361,
    "start_time": "2023-05-25T20:46:56.146Z"
   },
   {
    "duration": 353,
    "start_time": "2023-05-25T20:47:09.419Z"
   },
   {
    "duration": 41,
    "start_time": "2023-05-25T20:47:24.689Z"
   },
   {
    "duration": 1629,
    "start_time": "2023-05-25T20:47:31.120Z"
   },
   {
    "duration": 1353,
    "start_time": "2023-05-25T20:47:32.751Z"
   },
   {
    "duration": 12,
    "start_time": "2023-05-25T20:47:34.106Z"
   },
   {
    "duration": 13,
    "start_time": "2023-05-25T20:47:34.120Z"
   },
   {
    "duration": 3,
    "start_time": "2023-05-25T20:47:34.135Z"
   },
   {
    "duration": 24,
    "start_time": "2023-05-25T20:47:34.139Z"
   },
   {
    "duration": 5,
    "start_time": "2023-05-25T20:47:34.168Z"
   },
   {
    "duration": 20,
    "start_time": "2023-05-25T20:47:34.175Z"
   },
   {
    "duration": 10,
    "start_time": "2023-05-25T20:47:34.197Z"
   },
   {
    "duration": 8,
    "start_time": "2023-05-25T20:47:34.209Z"
   },
   {
    "duration": 163,
    "start_time": "2023-05-25T20:47:34.218Z"
   },
   {
    "duration": 5,
    "start_time": "2023-05-25T20:47:34.383Z"
   },
   {
    "duration": 253,
    "start_time": "2023-05-25T20:47:34.390Z"
   },
   {
    "duration": 24,
    "start_time": "2023-05-25T20:47:34.645Z"
   },
   {
    "duration": 5,
    "start_time": "2023-05-25T20:47:34.671Z"
   },
   {
    "duration": 22,
    "start_time": "2023-05-25T20:47:34.677Z"
   },
   {
    "duration": 135,
    "start_time": "2023-05-25T20:47:34.702Z"
   },
   {
    "duration": 17,
    "start_time": "2023-05-25T20:47:34.839Z"
   },
   {
    "duration": 30,
    "start_time": "2023-05-25T20:47:34.858Z"
   },
   {
    "duration": 3,
    "start_time": "2023-05-25T20:47:34.890Z"
   },
   {
    "duration": 13,
    "start_time": "2023-05-25T20:47:34.895Z"
   },
   {
    "duration": 5,
    "start_time": "2023-05-25T20:47:34.910Z"
   },
   {
    "duration": 22,
    "start_time": "2023-05-25T20:47:34.917Z"
   },
   {
    "duration": 11,
    "start_time": "2023-05-25T20:47:34.959Z"
   },
   {
    "duration": 11,
    "start_time": "2023-05-25T20:47:34.973Z"
   },
   {
    "duration": 27,
    "start_time": "2023-05-25T20:47:34.986Z"
   },
   {
    "duration": 33,
    "start_time": "2023-05-25T20:47:35.016Z"
   },
   {
    "duration": 15,
    "start_time": "2023-05-25T20:47:35.052Z"
   },
   {
    "duration": 9,
    "start_time": "2023-05-25T20:47:35.070Z"
   },
   {
    "duration": 11,
    "start_time": "2023-05-25T20:47:35.081Z"
   },
   {
    "duration": 6,
    "start_time": "2023-05-25T20:47:35.094Z"
   },
   {
    "duration": 12,
    "start_time": "2023-05-25T20:47:35.101Z"
   },
   {
    "duration": 63,
    "start_time": "2023-05-25T20:47:35.115Z"
   },
   {
    "duration": 17,
    "start_time": "2023-05-25T20:47:35.180Z"
   },
   {
    "duration": 20,
    "start_time": "2023-05-25T20:47:35.199Z"
   },
   {
    "duration": 2485,
    "start_time": "2023-05-25T20:47:35.221Z"
   },
   {
    "duration": 3,
    "start_time": "2023-05-25T20:47:37.708Z"
   },
   {
    "duration": 68,
    "start_time": "2023-05-25T20:47:37.712Z"
   },
   {
    "duration": 3592,
    "start_time": "2023-05-25T20:47:37.782Z"
   },
   {
    "duration": 15,
    "start_time": "2023-05-25T20:47:41.376Z"
   },
   {
    "duration": 41,
    "start_time": "2023-05-25T20:47:41.393Z"
   },
   {
    "duration": 1663,
    "start_time": "2023-05-25T20:47:41.461Z"
   },
   {
    "duration": 376,
    "start_time": "2023-05-25T20:47:43.126Z"
   },
   {
    "duration": 9,
    "start_time": "2023-05-25T20:47:43.504Z"
   },
   {
    "duration": 16,
    "start_time": "2023-05-25T20:47:43.515Z"
   },
   {
    "duration": 30,
    "start_time": "2023-05-25T20:47:43.533Z"
   },
   {
    "duration": 14,
    "start_time": "2023-05-25T20:47:43.566Z"
   },
   {
    "duration": 8,
    "start_time": "2023-05-25T20:47:43.581Z"
   },
   {
    "duration": 8,
    "start_time": "2023-05-25T20:47:57.483Z"
   },
   {
    "duration": 365,
    "start_time": "2023-05-25T20:48:07.071Z"
   },
   {
    "duration": 8,
    "start_time": "2023-05-25T20:48:08.984Z"
   },
   {
    "duration": 325,
    "start_time": "2023-05-25T20:48:34.453Z"
   },
   {
    "duration": 203,
    "start_time": "2023-05-25T20:49:52.866Z"
   },
   {
    "duration": 148,
    "start_time": "2023-05-25T20:52:25.881Z"
   },
   {
    "duration": 22,
    "start_time": "2023-05-25T20:52:28.912Z"
   },
   {
    "duration": 18,
    "start_time": "2023-05-25T20:52:48.449Z"
   },
   {
    "duration": 15,
    "start_time": "2023-05-25T20:53:42.417Z"
   },
   {
    "duration": 21,
    "start_time": "2023-05-25T20:53:47.306Z"
   },
   {
    "duration": 17,
    "start_time": "2023-05-25T20:54:41.471Z"
   },
   {
    "duration": 5,
    "start_time": "2023-05-25T20:54:44.586Z"
   },
   {
    "duration": 19,
    "start_time": "2023-05-25T21:03:42.682Z"
   },
   {
    "duration": 19,
    "start_time": "2023-05-25T21:04:35.942Z"
   },
   {
    "duration": 168,
    "start_time": "2023-05-25T21:04:44.459Z"
   },
   {
    "duration": 13,
    "start_time": "2023-05-25T21:05:27.693Z"
   },
   {
    "duration": 356,
    "start_time": "2023-05-25T21:05:49.470Z"
   },
   {
    "duration": 23,
    "start_time": "2023-05-25T21:07:14.696Z"
   },
   {
    "duration": 26,
    "start_time": "2023-05-25T21:07:22.280Z"
   },
   {
    "duration": 22,
    "start_time": "2023-05-25T21:07:33.085Z"
   },
   {
    "duration": 21,
    "start_time": "2023-05-25T21:07:39.743Z"
   },
   {
    "duration": 508,
    "start_time": "2023-05-25T21:07:43.224Z"
   },
   {
    "duration": 443,
    "start_time": "2023-05-25T21:08:17.168Z"
   },
   {
    "duration": 2797,
    "start_time": "2023-05-26T08:43:36.094Z"
   },
   {
    "duration": 3993,
    "start_time": "2023-05-26T08:43:38.893Z"
   },
   {
    "duration": 13,
    "start_time": "2023-05-26T08:43:42.888Z"
   },
   {
    "duration": 12,
    "start_time": "2023-05-26T08:43:42.903Z"
   },
   {
    "duration": 3,
    "start_time": "2023-05-26T08:43:42.917Z"
   },
   {
    "duration": 24,
    "start_time": "2023-05-26T08:43:42.922Z"
   },
   {
    "duration": 3,
    "start_time": "2023-05-26T08:43:42.948Z"
   },
   {
    "duration": 16,
    "start_time": "2023-05-26T08:43:42.952Z"
   },
   {
    "duration": 11,
    "start_time": "2023-05-26T08:43:42.970Z"
   },
   {
    "duration": 14,
    "start_time": "2023-05-26T08:43:42.984Z"
   },
   {
    "duration": 193,
    "start_time": "2023-05-26T08:43:42.999Z"
   },
   {
    "duration": 6,
    "start_time": "2023-05-26T08:43:43.194Z"
   },
   {
    "duration": 219,
    "start_time": "2023-05-26T08:43:43.201Z"
   },
   {
    "duration": 6,
    "start_time": "2023-05-26T08:43:43.422Z"
   },
   {
    "duration": 18,
    "start_time": "2023-05-26T08:43:43.429Z"
   },
   {
    "duration": 22,
    "start_time": "2023-05-26T08:43:43.449Z"
   },
   {
    "duration": 138,
    "start_time": "2023-05-26T08:43:43.473Z"
   },
   {
    "duration": 7,
    "start_time": "2023-05-26T08:43:43.613Z"
   },
   {
    "duration": 31,
    "start_time": "2023-05-26T08:43:43.622Z"
   },
   {
    "duration": 13,
    "start_time": "2023-05-26T08:43:43.655Z"
   },
   {
    "duration": 9,
    "start_time": "2023-05-26T08:43:43.670Z"
   },
   {
    "duration": 6,
    "start_time": "2023-05-26T08:43:43.681Z"
   },
   {
    "duration": 34,
    "start_time": "2023-05-26T08:43:43.689Z"
   },
   {
    "duration": 3,
    "start_time": "2023-05-26T08:43:43.725Z"
   },
   {
    "duration": 15,
    "start_time": "2023-05-26T08:43:43.730Z"
   },
   {
    "duration": 14,
    "start_time": "2023-05-26T08:43:43.747Z"
   },
   {
    "duration": 36,
    "start_time": "2023-05-26T08:43:43.763Z"
   },
   {
    "duration": 6,
    "start_time": "2023-05-26T08:43:43.802Z"
   },
   {
    "duration": 25,
    "start_time": "2023-05-26T08:43:43.809Z"
   },
   {
    "duration": 22,
    "start_time": "2023-05-26T08:43:43.836Z"
   },
   {
    "duration": 24,
    "start_time": "2023-05-26T08:43:43.860Z"
   },
   {
    "duration": 20,
    "start_time": "2023-05-26T08:43:43.886Z"
   },
   {
    "duration": 59,
    "start_time": "2023-05-26T08:43:43.908Z"
   },
   {
    "duration": 18,
    "start_time": "2023-05-26T08:43:43.969Z"
   },
   {
    "duration": 20,
    "start_time": "2023-05-26T08:43:43.988Z"
   },
   {
    "duration": 2941,
    "start_time": "2023-05-26T08:43:44.010Z"
   },
   {
    "duration": 3,
    "start_time": "2023-05-26T08:43:46.953Z"
   },
   {
    "duration": 81,
    "start_time": "2023-05-26T08:43:46.958Z"
   },
   {
    "duration": 3275,
    "start_time": "2023-05-26T08:43:47.041Z"
   },
   {
    "duration": 29,
    "start_time": "2023-05-26T08:43:50.317Z"
   },
   {
    "duration": 51,
    "start_time": "2023-05-26T08:43:50.348Z"
   },
   {
    "duration": 1713,
    "start_time": "2023-05-26T08:43:50.401Z"
   },
   {
    "duration": 202,
    "start_time": "2023-05-26T08:43:52.115Z"
   },
   {
    "duration": 5,
    "start_time": "2023-05-26T08:43:52.319Z"
   },
   {
    "duration": 531,
    "start_time": "2023-05-26T08:43:52.326Z"
   },
   {
    "duration": 156,
    "start_time": "2023-05-26T08:43:52.859Z"
   },
   {
    "duration": 0,
    "start_time": "2023-05-26T08:43:53.017Z"
   },
   {
    "duration": 0,
    "start_time": "2023-05-26T08:43:53.018Z"
   },
   {
    "duration": 0,
    "start_time": "2023-05-26T08:43:53.020Z"
   },
   {
    "duration": 18,
    "start_time": "2023-05-26T08:45:34.834Z"
   },
   {
    "duration": 13,
    "start_time": "2023-05-26T08:50:40.744Z"
   },
   {
    "duration": 14,
    "start_time": "2023-05-26T08:51:21.056Z"
   },
   {
    "duration": 10,
    "start_time": "2023-05-26T08:51:22.263Z"
   },
   {
    "duration": 2240,
    "start_time": "2023-05-26T13:53:49.189Z"
   },
   {
    "duration": 1750,
    "start_time": "2023-05-26T13:53:51.431Z"
   },
   {
    "duration": 20,
    "start_time": "2023-05-26T13:53:53.184Z"
   },
   {
    "duration": 14,
    "start_time": "2023-05-26T13:53:53.207Z"
   },
   {
    "duration": 11,
    "start_time": "2023-05-26T13:53:53.223Z"
   },
   {
    "duration": 16,
    "start_time": "2023-05-26T13:53:53.236Z"
   },
   {
    "duration": 25,
    "start_time": "2023-05-26T13:53:53.254Z"
   },
   {
    "duration": 26,
    "start_time": "2023-05-26T13:53:53.281Z"
   },
   {
    "duration": 14,
    "start_time": "2023-05-26T13:53:53.309Z"
   },
   {
    "duration": 10,
    "start_time": "2023-05-26T13:53:53.326Z"
   },
   {
    "duration": 197,
    "start_time": "2023-05-26T13:53:53.338Z"
   },
   {
    "duration": 5,
    "start_time": "2023-05-26T13:53:53.537Z"
   },
   {
    "duration": 258,
    "start_time": "2023-05-26T13:53:53.544Z"
   },
   {
    "duration": 6,
    "start_time": "2023-05-26T13:53:53.804Z"
   },
   {
    "duration": 8,
    "start_time": "2023-05-26T13:53:53.812Z"
   },
   {
    "duration": 24,
    "start_time": "2023-05-26T13:53:53.821Z"
   },
   {
    "duration": 177,
    "start_time": "2023-05-26T13:53:53.847Z"
   },
   {
    "duration": 7,
    "start_time": "2023-05-26T13:53:54.026Z"
   },
   {
    "duration": 36,
    "start_time": "2023-05-26T13:53:54.035Z"
   },
   {
    "duration": 18,
    "start_time": "2023-05-26T13:53:54.073Z"
   },
   {
    "duration": 16,
    "start_time": "2023-05-26T13:53:54.094Z"
   },
   {
    "duration": 9,
    "start_time": "2023-05-26T13:53:54.112Z"
   },
   {
    "duration": 21,
    "start_time": "2023-05-26T13:53:54.123Z"
   },
   {
    "duration": 3,
    "start_time": "2023-05-26T13:53:54.146Z"
   },
   {
    "duration": 13,
    "start_time": "2023-05-26T13:53:54.150Z"
   },
   {
    "duration": 16,
    "start_time": "2023-05-26T13:53:54.165Z"
   },
   {
    "duration": 58,
    "start_time": "2023-05-26T13:53:54.182Z"
   },
   {
    "duration": 6,
    "start_time": "2023-05-26T13:53:54.244Z"
   },
   {
    "duration": 15,
    "start_time": "2023-05-26T13:53:54.252Z"
   },
   {
    "duration": 16,
    "start_time": "2023-05-26T13:53:54.268Z"
   },
   {
    "duration": 6,
    "start_time": "2023-05-26T13:53:54.286Z"
   },
   {
    "duration": 20,
    "start_time": "2023-05-26T13:53:54.294Z"
   },
   {
    "duration": 54,
    "start_time": "2023-05-26T13:53:54.316Z"
   },
   {
    "duration": 32,
    "start_time": "2023-05-26T13:53:54.371Z"
   },
   {
    "duration": 19,
    "start_time": "2023-05-26T13:53:54.404Z"
   },
   {
    "duration": 3055,
    "start_time": "2023-05-26T13:53:54.424Z"
   },
   {
    "duration": 11,
    "start_time": "2023-05-26T13:53:57.482Z"
   },
   {
    "duration": 106,
    "start_time": "2023-05-26T13:53:57.496Z"
   },
   {
    "duration": 3551,
    "start_time": "2023-05-26T13:53:57.604Z"
   },
   {
    "duration": 27,
    "start_time": "2023-05-26T13:54:01.157Z"
   },
   {
    "duration": 101,
    "start_time": "2023-05-26T13:54:01.194Z"
   },
   {
    "duration": 2136,
    "start_time": "2023-05-26T13:54:01.297Z"
   },
   {
    "duration": 197,
    "start_time": "2023-05-26T13:54:03.435Z"
   },
   {
    "duration": 4,
    "start_time": "2023-05-26T13:54:03.634Z"
   },
   {
    "duration": 494,
    "start_time": "2023-05-26T13:54:03.640Z"
   },
   {
    "duration": 168,
    "start_time": "2023-05-26T13:54:04.136Z"
   },
   {
    "duration": 0,
    "start_time": "2023-05-26T13:54:04.305Z"
   },
   {
    "duration": 0,
    "start_time": "2023-05-26T13:54:04.306Z"
   },
   {
    "duration": 0,
    "start_time": "2023-05-26T13:54:04.307Z"
   },
   {
    "duration": 1719,
    "start_time": "2023-05-26T13:58:06.400Z"
   },
   {
    "duration": 1040,
    "start_time": "2023-05-26T13:58:08.121Z"
   },
   {
    "duration": 29,
    "start_time": "2023-05-26T13:58:09.163Z"
   },
   {
    "duration": 1898,
    "start_time": "2023-05-26T13:58:09.205Z"
   },
   {
    "duration": 12,
    "start_time": "2023-05-26T13:58:11.108Z"
   },
   {
    "duration": 32,
    "start_time": "2023-05-26T13:58:11.122Z"
   },
   {
    "duration": 4,
    "start_time": "2023-05-26T13:58:11.157Z"
   },
   {
    "duration": 27,
    "start_time": "2023-05-26T13:58:11.163Z"
   },
   {
    "duration": 32,
    "start_time": "2023-05-26T13:58:11.192Z"
   },
   {
    "duration": 11,
    "start_time": "2023-05-26T13:58:11.228Z"
   },
   {
    "duration": 191,
    "start_time": "2023-05-26T13:58:11.240Z"
   },
   {
    "duration": 6,
    "start_time": "2023-05-26T13:58:11.432Z"
   },
   {
    "duration": 250,
    "start_time": "2023-05-26T13:58:11.439Z"
   },
   {
    "duration": 19,
    "start_time": "2023-05-26T13:58:11.692Z"
   },
   {
    "duration": 17,
    "start_time": "2023-05-26T13:58:11.713Z"
   },
   {
    "duration": 39,
    "start_time": "2023-05-26T13:58:11.732Z"
   },
   {
    "duration": 161,
    "start_time": "2023-05-26T13:58:11.773Z"
   },
   {
    "duration": 9,
    "start_time": "2023-05-26T13:58:11.936Z"
   },
   {
    "duration": 39,
    "start_time": "2023-05-26T13:58:11.947Z"
   },
   {
    "duration": 5,
    "start_time": "2023-05-26T13:58:11.993Z"
   },
   {
    "duration": 8,
    "start_time": "2023-05-26T13:58:12.001Z"
   },
   {
    "duration": 6,
    "start_time": "2023-05-26T13:58:12.010Z"
   },
   {
    "duration": 24,
    "start_time": "2023-05-26T13:58:12.017Z"
   },
   {
    "duration": 3,
    "start_time": "2023-05-26T13:58:12.043Z"
   },
   {
    "duration": 31,
    "start_time": "2023-05-26T13:58:12.047Z"
   },
   {
    "duration": 23,
    "start_time": "2023-05-26T13:58:12.081Z"
   },
   {
    "duration": 55,
    "start_time": "2023-05-26T13:58:12.107Z"
   },
   {
    "duration": 21,
    "start_time": "2023-05-26T13:58:12.166Z"
   },
   {
    "duration": 17,
    "start_time": "2023-05-26T13:58:12.195Z"
   },
   {
    "duration": 21,
    "start_time": "2023-05-26T13:58:12.213Z"
   },
   {
    "duration": 12,
    "start_time": "2023-05-26T13:58:12.236Z"
   },
   {
    "duration": 31,
    "start_time": "2023-05-26T13:58:12.250Z"
   },
   {
    "duration": 69,
    "start_time": "2023-05-26T13:58:12.284Z"
   },
   {
    "duration": 17,
    "start_time": "2023-05-26T13:58:12.355Z"
   },
   {
    "duration": 32,
    "start_time": "2023-05-26T13:58:12.373Z"
   },
   {
    "duration": 2921,
    "start_time": "2023-05-26T13:58:12.408Z"
   },
   {
    "duration": 3,
    "start_time": "2023-05-26T13:58:15.331Z"
   },
   {
    "duration": 90,
    "start_time": "2023-05-26T13:58:15.336Z"
   },
   {
    "duration": 3830,
    "start_time": "2023-05-26T13:58:15.428Z"
   },
   {
    "duration": 29,
    "start_time": "2023-05-26T13:58:19.260Z"
   },
   {
    "duration": 58,
    "start_time": "2023-05-26T13:58:19.292Z"
   },
   {
    "duration": 2237,
    "start_time": "2023-05-26T13:58:19.352Z"
   },
   {
    "duration": 245,
    "start_time": "2023-05-26T13:58:21.591Z"
   },
   {
    "duration": 7,
    "start_time": "2023-05-26T13:58:21.839Z"
   },
   {
    "duration": 555,
    "start_time": "2023-05-26T13:58:21.848Z"
   },
   {
    "duration": 198,
    "start_time": "2023-05-26T13:58:22.405Z"
   },
   {
    "duration": 0,
    "start_time": "2023-05-26T13:58:22.609Z"
   },
   {
    "duration": 0,
    "start_time": "2023-05-26T13:58:22.610Z"
   },
   {
    "duration": 0,
    "start_time": "2023-05-26T13:58:22.612Z"
   },
   {
    "duration": 28,
    "start_time": "2023-05-26T13:59:36.602Z"
   },
   {
    "duration": 2085,
    "start_time": "2023-05-26T13:59:43.971Z"
   },
   {
    "duration": 1158,
    "start_time": "2023-05-26T13:59:46.058Z"
   },
   {
    "duration": 14,
    "start_time": "2023-05-26T13:59:47.219Z"
   },
   {
    "duration": 12,
    "start_time": "2023-05-26T13:59:47.236Z"
   },
   {
    "duration": 11,
    "start_time": "2023-05-26T13:59:47.250Z"
   },
   {
    "duration": 42,
    "start_time": "2023-05-26T13:59:47.262Z"
   },
   {
    "duration": 24,
    "start_time": "2023-05-26T13:59:47.306Z"
   },
   {
    "duration": 26,
    "start_time": "2023-05-26T13:59:47.332Z"
   },
   {
    "duration": 20,
    "start_time": "2023-05-26T13:59:47.360Z"
   },
   {
    "duration": 20,
    "start_time": "2023-05-26T13:59:47.385Z"
   },
   {
    "duration": 25,
    "start_time": "2023-05-26T13:59:47.407Z"
   },
   {
    "duration": 169,
    "start_time": "2023-05-26T13:59:47.434Z"
   },
   {
    "duration": 5,
    "start_time": "2023-05-26T13:59:47.605Z"
   },
   {
    "duration": 258,
    "start_time": "2023-05-26T13:59:47.612Z"
   },
   {
    "duration": 7,
    "start_time": "2023-05-26T13:59:47.876Z"
   },
   {
    "duration": 28,
    "start_time": "2023-05-26T13:59:47.885Z"
   },
   {
    "duration": 28,
    "start_time": "2023-05-26T13:59:47.915Z"
   },
   {
    "duration": 146,
    "start_time": "2023-05-26T13:59:47.945Z"
   },
   {
    "duration": 11,
    "start_time": "2023-05-26T13:59:48.093Z"
   },
   {
    "duration": 31,
    "start_time": "2023-05-26T13:59:48.107Z"
   },
   {
    "duration": 17,
    "start_time": "2023-05-26T13:59:48.140Z"
   },
   {
    "duration": 10,
    "start_time": "2023-05-26T13:59:48.158Z"
   },
   {
    "duration": 11,
    "start_time": "2023-05-26T13:59:48.171Z"
   },
   {
    "duration": 30,
    "start_time": "2023-05-26T13:59:48.184Z"
   },
   {
    "duration": 4,
    "start_time": "2023-05-26T13:59:48.217Z"
   },
   {
    "duration": 21,
    "start_time": "2023-05-26T13:59:48.223Z"
   },
   {
    "duration": 17,
    "start_time": "2023-05-26T13:59:48.245Z"
   },
   {
    "duration": 57,
    "start_time": "2023-05-26T13:59:48.267Z"
   },
   {
    "duration": 6,
    "start_time": "2023-05-26T13:59:48.326Z"
   },
   {
    "duration": 10,
    "start_time": "2023-05-26T13:59:48.334Z"
   },
   {
    "duration": 18,
    "start_time": "2023-05-26T13:59:48.346Z"
   },
   {
    "duration": 13,
    "start_time": "2023-05-26T13:59:48.366Z"
   },
   {
    "duration": 26,
    "start_time": "2023-05-26T13:59:48.381Z"
   },
   {
    "duration": 53,
    "start_time": "2023-05-26T13:59:48.409Z"
   },
   {
    "duration": 21,
    "start_time": "2023-05-26T13:59:48.480Z"
   },
   {
    "duration": 620,
    "start_time": "2023-05-26T13:59:48.504Z"
   },
   {
    "duration": 3152,
    "start_time": "2023-05-26T13:59:49.125Z"
   },
   {
    "duration": 9,
    "start_time": "2023-05-26T13:59:52.280Z"
   },
   {
    "duration": 1539,
    "start_time": "2023-05-26T13:59:52.292Z"
   },
   {
    "duration": 3718,
    "start_time": "2023-05-26T13:59:53.833Z"
   },
   {
    "duration": 13,
    "start_time": "2023-05-26T13:59:57.552Z"
   },
   {
    "duration": 71,
    "start_time": "2023-05-26T13:59:57.566Z"
   },
   {
    "duration": 2014,
    "start_time": "2023-05-26T13:59:57.638Z"
   },
   {
    "duration": 217,
    "start_time": "2023-05-26T13:59:59.653Z"
   },
   {
    "duration": 7,
    "start_time": "2023-05-26T13:59:59.877Z"
   },
   {
    "duration": 489,
    "start_time": "2023-05-26T13:59:59.887Z"
   },
   {
    "duration": 164,
    "start_time": "2023-05-26T14:00:00.378Z"
   },
   {
    "duration": 0,
    "start_time": "2023-05-26T14:00:00.543Z"
   },
   {
    "duration": 0,
    "start_time": "2023-05-26T14:00:00.545Z"
   },
   {
    "duration": 0,
    "start_time": "2023-05-26T14:00:00.546Z"
   },
   {
    "duration": 1650,
    "start_time": "2023-05-26T14:03:07.018Z"
   },
   {
    "duration": 1205,
    "start_time": "2023-05-26T14:03:08.669Z"
   },
   {
    "duration": 23,
    "start_time": "2023-05-26T14:03:09.876Z"
   },
   {
    "duration": 14,
    "start_time": "2023-05-26T14:03:09.901Z"
   },
   {
    "duration": 4,
    "start_time": "2023-05-26T14:03:09.918Z"
   },
   {
    "duration": 12,
    "start_time": "2023-05-26T14:03:09.924Z"
   },
   {
    "duration": 4,
    "start_time": "2023-05-26T14:03:09.937Z"
   },
   {
    "duration": 48,
    "start_time": "2023-05-26T14:03:09.942Z"
   },
   {
    "duration": 13,
    "start_time": "2023-05-26T14:03:09.992Z"
   },
   {
    "duration": 12,
    "start_time": "2023-05-26T14:03:10.007Z"
   },
   {
    "duration": 16,
    "start_time": "2023-05-26T14:03:10.021Z"
   },
   {
    "duration": 197,
    "start_time": "2023-05-26T14:03:10.038Z"
   },
   {
    "duration": 5,
    "start_time": "2023-05-26T14:03:10.236Z"
   },
   {
    "duration": 248,
    "start_time": "2023-05-26T14:03:10.244Z"
   },
   {
    "duration": 10,
    "start_time": "2023-05-26T14:03:10.496Z"
   },
   {
    "duration": 18,
    "start_time": "2023-05-26T14:03:10.508Z"
   },
   {
    "duration": 29,
    "start_time": "2023-05-26T14:03:10.527Z"
   },
   {
    "duration": 158,
    "start_time": "2023-05-26T14:03:10.558Z"
   },
   {
    "duration": 7,
    "start_time": "2023-05-26T14:03:10.718Z"
   },
   {
    "duration": 21,
    "start_time": "2023-05-26T14:03:10.726Z"
   },
   {
    "duration": 10,
    "start_time": "2023-05-26T14:03:10.749Z"
   },
   {
    "duration": 11,
    "start_time": "2023-05-26T14:03:10.760Z"
   },
   {
    "duration": 31,
    "start_time": "2023-05-26T14:03:10.777Z"
   },
   {
    "duration": 24,
    "start_time": "2023-05-26T14:03:10.810Z"
   },
   {
    "duration": 3,
    "start_time": "2023-05-26T14:03:10.836Z"
   },
   {
    "duration": 12,
    "start_time": "2023-05-26T14:03:10.841Z"
   },
   {
    "duration": 13,
    "start_time": "2023-05-26T14:03:10.854Z"
   },
   {
    "duration": 49,
    "start_time": "2023-05-26T14:03:10.868Z"
   },
   {
    "duration": 5,
    "start_time": "2023-05-26T14:03:10.918Z"
   },
   {
    "duration": 19,
    "start_time": "2023-05-26T14:03:10.924Z"
   },
   {
    "duration": 10,
    "start_time": "2023-05-26T14:03:10.944Z"
   },
   {
    "duration": 6,
    "start_time": "2023-05-26T14:03:10.955Z"
   },
   {
    "duration": 24,
    "start_time": "2023-05-26T14:03:10.963Z"
   },
   {
    "duration": 55,
    "start_time": "2023-05-26T14:03:10.990Z"
   },
   {
    "duration": 38,
    "start_time": "2023-05-26T14:03:11.047Z"
   },
   {
    "duration": 21,
    "start_time": "2023-05-26T14:03:11.087Z"
   },
   {
    "duration": 2481,
    "start_time": "2023-05-26T14:03:11.110Z"
   },
   {
    "duration": 5,
    "start_time": "2023-05-26T14:03:13.594Z"
   },
   {
    "duration": 63,
    "start_time": "2023-05-26T14:03:13.601Z"
   },
   {
    "duration": 3397,
    "start_time": "2023-05-26T14:03:13.665Z"
   },
   {
    "duration": 27,
    "start_time": "2023-05-26T14:03:17.067Z"
   },
   {
    "duration": 45,
    "start_time": "2023-05-26T14:03:17.096Z"
   },
   {
    "duration": 1822,
    "start_time": "2023-05-26T14:03:17.143Z"
   },
   {
    "duration": 232,
    "start_time": "2023-05-26T14:03:18.966Z"
   },
   {
    "duration": 7,
    "start_time": "2023-05-26T14:03:19.200Z"
   },
   {
    "duration": 502,
    "start_time": "2023-05-26T14:03:19.210Z"
   },
   {
    "duration": 165,
    "start_time": "2023-05-26T14:03:19.714Z"
   },
   {
    "duration": 0,
    "start_time": "2023-05-26T14:03:19.880Z"
   },
   {
    "duration": 0,
    "start_time": "2023-05-26T14:03:19.882Z"
   },
   {
    "duration": 0,
    "start_time": "2023-05-26T14:03:19.883Z"
   },
   {
    "duration": 1601,
    "start_time": "2023-05-26T14:03:46.706Z"
   },
   {
    "duration": 1336,
    "start_time": "2023-05-26T14:03:48.309Z"
   },
   {
    "duration": 13,
    "start_time": "2023-05-26T14:03:49.647Z"
   },
   {
    "duration": 12,
    "start_time": "2023-05-26T14:03:49.662Z"
   },
   {
    "duration": 7,
    "start_time": "2023-05-26T14:03:49.677Z"
   },
   {
    "duration": 51,
    "start_time": "2023-05-26T14:03:49.686Z"
   },
   {
    "duration": 9,
    "start_time": "2023-05-26T14:03:49.739Z"
   },
   {
    "duration": 24,
    "start_time": "2023-05-26T14:03:49.750Z"
   },
   {
    "duration": 13,
    "start_time": "2023-05-26T14:03:49.779Z"
   },
   {
    "duration": 20,
    "start_time": "2023-05-26T14:03:49.795Z"
   },
   {
    "duration": 9,
    "start_time": "2023-05-26T14:03:49.816Z"
   },
   {
    "duration": 167,
    "start_time": "2023-05-26T14:03:49.827Z"
   },
   {
    "duration": 6,
    "start_time": "2023-05-26T14:03:49.996Z"
   },
   {
    "duration": 222,
    "start_time": "2023-05-26T14:03:50.005Z"
   },
   {
    "duration": 5,
    "start_time": "2023-05-26T14:03:50.229Z"
   },
   {
    "duration": 11,
    "start_time": "2023-05-26T14:03:50.236Z"
   },
   {
    "duration": 29,
    "start_time": "2023-05-26T14:03:50.249Z"
   },
   {
    "duration": 151,
    "start_time": "2023-05-26T14:03:50.280Z"
   },
   {
    "duration": 9,
    "start_time": "2023-05-26T14:03:50.434Z"
   },
   {
    "duration": 34,
    "start_time": "2023-05-26T14:03:50.445Z"
   },
   {
    "duration": 8,
    "start_time": "2023-05-26T14:03:50.481Z"
   },
   {
    "duration": 12,
    "start_time": "2023-05-26T14:03:50.492Z"
   },
   {
    "duration": 7,
    "start_time": "2023-05-26T14:03:50.506Z"
   },
   {
    "duration": 21,
    "start_time": "2023-05-26T14:03:50.515Z"
   },
   {
    "duration": 3,
    "start_time": "2023-05-26T14:03:50.538Z"
   },
   {
    "duration": 14,
    "start_time": "2023-05-26T14:03:50.543Z"
   },
   {
    "duration": 15,
    "start_time": "2023-05-26T14:03:50.576Z"
   },
   {
    "duration": 39,
    "start_time": "2023-05-26T14:03:50.593Z"
   },
   {
    "duration": 6,
    "start_time": "2023-05-26T14:03:50.634Z"
   },
   {
    "duration": 36,
    "start_time": "2023-05-26T14:03:50.641Z"
   },
   {
    "duration": 25,
    "start_time": "2023-05-26T14:03:50.680Z"
   },
   {
    "duration": 13,
    "start_time": "2023-05-26T14:03:50.707Z"
   },
   {
    "duration": 28,
    "start_time": "2023-05-26T14:03:50.721Z"
   },
   {
    "duration": 58,
    "start_time": "2023-05-26T14:03:50.751Z"
   },
   {
    "duration": 17,
    "start_time": "2023-05-26T14:03:50.811Z"
   },
   {
    "duration": 29,
    "start_time": "2023-05-26T14:03:50.829Z"
   },
   {
    "duration": 2656,
    "start_time": "2023-05-26T14:03:50.860Z"
   },
   {
    "duration": 3,
    "start_time": "2023-05-26T14:03:53.518Z"
   },
   {
    "duration": 88,
    "start_time": "2023-05-26T14:03:53.523Z"
   },
   {
    "duration": 3251,
    "start_time": "2023-05-26T14:03:53.613Z"
   },
   {
    "duration": 13,
    "start_time": "2023-05-26T14:03:56.876Z"
   },
   {
    "duration": 56,
    "start_time": "2023-05-26T14:03:56.891Z"
   },
   {
    "duration": 2017,
    "start_time": "2023-05-26T14:03:56.949Z"
   },
   {
    "duration": 210,
    "start_time": "2023-05-26T14:03:58.969Z"
   },
   {
    "duration": 4,
    "start_time": "2023-05-26T14:03:59.181Z"
   },
   {
    "duration": 451,
    "start_time": "2023-05-26T14:03:59.187Z"
   },
   {
    "duration": 152,
    "start_time": "2023-05-26T14:03:59.640Z"
   },
   {
    "duration": 0,
    "start_time": "2023-05-26T14:03:59.794Z"
   },
   {
    "duration": 0,
    "start_time": "2023-05-26T14:03:59.795Z"
   },
   {
    "duration": 0,
    "start_time": "2023-05-26T14:03:59.796Z"
   },
   {
    "duration": 1567,
    "start_time": "2023-05-26T14:04:29.173Z"
   },
   {
    "duration": 1401,
    "start_time": "2023-05-26T14:04:30.742Z"
   },
   {
    "duration": 12,
    "start_time": "2023-05-26T14:04:32.145Z"
   },
   {
    "duration": 23,
    "start_time": "2023-05-26T14:04:32.159Z"
   },
   {
    "duration": 27,
    "start_time": "2023-05-26T14:04:32.184Z"
   },
   {
    "duration": 18,
    "start_time": "2023-05-26T14:04:32.213Z"
   },
   {
    "duration": 28,
    "start_time": "2023-05-26T14:04:32.233Z"
   },
   {
    "duration": 55,
    "start_time": "2023-05-26T14:04:32.263Z"
   },
   {
    "duration": 24,
    "start_time": "2023-05-26T14:04:32.319Z"
   },
   {
    "duration": 15,
    "start_time": "2023-05-26T14:04:32.347Z"
   },
   {
    "duration": 33,
    "start_time": "2023-05-26T14:04:32.364Z"
   },
   {
    "duration": 167,
    "start_time": "2023-05-26T14:04:32.399Z"
   },
   {
    "duration": 9,
    "start_time": "2023-05-26T14:04:32.568Z"
   },
   {
    "duration": 215,
    "start_time": "2023-05-26T14:04:32.579Z"
   },
   {
    "duration": 6,
    "start_time": "2023-05-26T14:04:32.796Z"
   },
   {
    "duration": 13,
    "start_time": "2023-05-26T14:04:32.803Z"
   },
   {
    "duration": 21,
    "start_time": "2023-05-26T14:04:32.818Z"
   },
   {
    "duration": 145,
    "start_time": "2023-05-26T14:04:32.841Z"
   },
   {
    "duration": 9,
    "start_time": "2023-05-26T14:04:32.987Z"
   },
   {
    "duration": 41,
    "start_time": "2023-05-26T14:04:32.998Z"
   },
   {
    "duration": 13,
    "start_time": "2023-05-26T14:04:33.040Z"
   },
   {
    "duration": 11,
    "start_time": "2023-05-26T14:04:33.055Z"
   },
   {
    "duration": 12,
    "start_time": "2023-05-26T14:04:33.068Z"
   },
   {
    "duration": 28,
    "start_time": "2023-05-26T14:04:33.082Z"
   },
   {
    "duration": 6,
    "start_time": "2023-05-26T14:04:33.112Z"
   },
   {
    "duration": 28,
    "start_time": "2023-05-26T14:04:33.120Z"
   },
   {
    "duration": 25,
    "start_time": "2023-05-26T14:04:33.149Z"
   },
   {
    "duration": 39,
    "start_time": "2023-05-26T14:04:33.178Z"
   },
   {
    "duration": 5,
    "start_time": "2023-05-26T14:04:33.219Z"
   },
   {
    "duration": 14,
    "start_time": "2023-05-26T14:04:33.225Z"
   },
   {
    "duration": 16,
    "start_time": "2023-05-26T14:04:33.241Z"
   },
   {
    "duration": 10,
    "start_time": "2023-05-26T14:04:33.258Z"
   },
   {
    "duration": 15,
    "start_time": "2023-05-26T14:04:33.269Z"
   },
   {
    "duration": 56,
    "start_time": "2023-05-26T14:04:33.286Z"
   },
   {
    "duration": 16,
    "start_time": "2023-05-26T14:04:33.344Z"
   },
   {
    "duration": 27,
    "start_time": "2023-05-26T14:04:33.362Z"
   },
   {
    "duration": 2262,
    "start_time": "2023-05-26T14:04:33.391Z"
   },
   {
    "duration": 4,
    "start_time": "2023-05-26T14:04:35.655Z"
   },
   {
    "duration": 62,
    "start_time": "2023-05-26T14:04:35.677Z"
   },
   {
    "duration": 3378,
    "start_time": "2023-05-26T14:04:35.741Z"
   },
   {
    "duration": 13,
    "start_time": "2023-05-26T14:04:39.121Z"
   },
   {
    "duration": 56,
    "start_time": "2023-05-26T14:04:39.136Z"
   },
   {
    "duration": 1763,
    "start_time": "2023-05-26T14:04:39.194Z"
   },
   {
    "duration": 210,
    "start_time": "2023-05-26T14:04:40.959Z"
   },
   {
    "duration": 7,
    "start_time": "2023-05-26T14:04:41.171Z"
   },
   {
    "duration": 447,
    "start_time": "2023-05-26T14:04:41.180Z"
   },
   {
    "duration": 156,
    "start_time": "2023-05-26T14:04:41.629Z"
   },
   {
    "duration": 0,
    "start_time": "2023-05-26T14:04:41.787Z"
   },
   {
    "duration": 0,
    "start_time": "2023-05-26T14:04:41.789Z"
   },
   {
    "duration": 0,
    "start_time": "2023-05-26T14:04:41.790Z"
   },
   {
    "duration": 11,
    "start_time": "2023-05-26T14:06:36.755Z"
   },
   {
    "duration": 5,
    "start_time": "2023-05-26T14:09:29.708Z"
   },
   {
    "duration": 7,
    "start_time": "2023-05-26T14:09:35.709Z"
   },
   {
    "duration": 1620,
    "start_time": "2023-05-26T14:09:46.273Z"
   },
   {
    "duration": 1319,
    "start_time": "2023-05-26T14:09:47.895Z"
   },
   {
    "duration": 12,
    "start_time": "2023-05-26T14:09:49.215Z"
   },
   {
    "duration": 42,
    "start_time": "2023-05-26T14:09:49.229Z"
   },
   {
    "duration": 20,
    "start_time": "2023-05-26T14:09:49.272Z"
   },
   {
    "duration": 19,
    "start_time": "2023-05-26T14:09:49.293Z"
   },
   {
    "duration": 16,
    "start_time": "2023-05-26T14:09:49.314Z"
   },
   {
    "duration": 13,
    "start_time": "2023-05-26T14:09:49.332Z"
   },
   {
    "duration": 9,
    "start_time": "2023-05-26T14:09:49.346Z"
   },
   {
    "duration": 8,
    "start_time": "2023-05-26T14:09:49.358Z"
   },
   {
    "duration": 13,
    "start_time": "2023-05-26T14:09:49.367Z"
   },
   {
    "duration": 8,
    "start_time": "2023-05-26T14:09:49.382Z"
   },
   {
    "duration": 26,
    "start_time": "2023-05-26T14:09:49.392Z"
   },
   {
    "duration": 138,
    "start_time": "2023-05-26T14:09:49.420Z"
   },
   {
    "duration": 4,
    "start_time": "2023-05-26T14:09:49.560Z"
   },
   {
    "duration": 225,
    "start_time": "2023-05-26T14:09:49.566Z"
   },
   {
    "duration": 143,
    "start_time": "2023-05-26T14:09:49.793Z"
   },
   {
    "duration": 0,
    "start_time": "2023-05-26T14:09:49.938Z"
   },
   {
    "duration": 0,
    "start_time": "2023-05-26T14:09:49.939Z"
   },
   {
    "duration": 0,
    "start_time": "2023-05-26T14:09:49.941Z"
   },
   {
    "duration": 0,
    "start_time": "2023-05-26T14:09:49.942Z"
   },
   {
    "duration": 0,
    "start_time": "2023-05-26T14:09:49.943Z"
   },
   {
    "duration": 0,
    "start_time": "2023-05-26T14:09:49.945Z"
   },
   {
    "duration": 0,
    "start_time": "2023-05-26T14:09:49.946Z"
   },
   {
    "duration": 0,
    "start_time": "2023-05-26T14:09:49.947Z"
   },
   {
    "duration": 0,
    "start_time": "2023-05-26T14:09:49.949Z"
   },
   {
    "duration": 0,
    "start_time": "2023-05-26T14:09:49.950Z"
   },
   {
    "duration": 0,
    "start_time": "2023-05-26T14:09:49.951Z"
   },
   {
    "duration": 0,
    "start_time": "2023-05-26T14:09:49.953Z"
   },
   {
    "duration": 0,
    "start_time": "2023-05-26T14:09:49.977Z"
   },
   {
    "duration": 0,
    "start_time": "2023-05-26T14:09:49.978Z"
   },
   {
    "duration": 0,
    "start_time": "2023-05-26T14:09:49.979Z"
   },
   {
    "duration": 0,
    "start_time": "2023-05-26T14:09:49.981Z"
   },
   {
    "duration": 0,
    "start_time": "2023-05-26T14:09:49.982Z"
   },
   {
    "duration": 0,
    "start_time": "2023-05-26T14:09:49.983Z"
   },
   {
    "duration": 0,
    "start_time": "2023-05-26T14:09:49.984Z"
   },
   {
    "duration": 0,
    "start_time": "2023-05-26T14:09:49.985Z"
   },
   {
    "duration": 0,
    "start_time": "2023-05-26T14:09:49.987Z"
   },
   {
    "duration": 0,
    "start_time": "2023-05-26T14:09:49.988Z"
   },
   {
    "duration": 0,
    "start_time": "2023-05-26T14:09:49.989Z"
   },
   {
    "duration": 0,
    "start_time": "2023-05-26T14:09:49.990Z"
   },
   {
    "duration": 0,
    "start_time": "2023-05-26T14:09:49.992Z"
   },
   {
    "duration": 0,
    "start_time": "2023-05-26T14:09:49.993Z"
   },
   {
    "duration": 0,
    "start_time": "2023-05-26T14:09:49.994Z"
   },
   {
    "duration": 0,
    "start_time": "2023-05-26T14:09:49.995Z"
   },
   {
    "duration": 0,
    "start_time": "2023-05-26T14:09:49.996Z"
   },
   {
    "duration": 0,
    "start_time": "2023-05-26T14:09:49.998Z"
   },
   {
    "duration": 0,
    "start_time": "2023-05-26T14:09:49.999Z"
   },
   {
    "duration": 0,
    "start_time": "2023-05-26T14:09:50.000Z"
   },
   {
    "duration": 0,
    "start_time": "2023-05-26T14:09:50.001Z"
   },
   {
    "duration": 0,
    "start_time": "2023-05-26T14:09:50.002Z"
   },
   {
    "duration": 0,
    "start_time": "2023-05-26T14:09:50.004Z"
   },
   {
    "duration": 1549,
    "start_time": "2023-05-26T14:10:17.703Z"
   },
   {
    "duration": 925,
    "start_time": "2023-05-26T14:10:19.254Z"
   },
   {
    "duration": 12,
    "start_time": "2023-05-26T14:10:20.180Z"
   },
   {
    "duration": 28,
    "start_time": "2023-05-26T14:10:20.194Z"
   },
   {
    "duration": 4,
    "start_time": "2023-05-26T14:10:20.224Z"
   },
   {
    "duration": 26,
    "start_time": "2023-05-26T14:10:20.230Z"
   },
   {
    "duration": 18,
    "start_time": "2023-05-26T14:10:20.258Z"
   },
   {
    "duration": 31,
    "start_time": "2023-05-26T14:10:20.277Z"
   },
   {
    "duration": 11,
    "start_time": "2023-05-26T14:10:20.310Z"
   },
   {
    "duration": 15,
    "start_time": "2023-05-26T14:10:20.323Z"
   },
   {
    "duration": 18,
    "start_time": "2023-05-26T14:10:20.340Z"
   },
   {
    "duration": 155,
    "start_time": "2023-05-26T14:10:20.359Z"
   },
   {
    "duration": 6,
    "start_time": "2023-05-26T14:10:20.515Z"
   },
   {
    "duration": 235,
    "start_time": "2023-05-26T14:10:20.522Z"
   },
   {
    "duration": 19,
    "start_time": "2023-05-26T14:10:20.758Z"
   },
   {
    "duration": 4,
    "start_time": "2023-05-26T14:10:20.779Z"
   },
   {
    "duration": 31,
    "start_time": "2023-05-26T14:10:20.785Z"
   },
   {
    "duration": 141,
    "start_time": "2023-05-26T14:10:20.818Z"
   },
   {
    "duration": 7,
    "start_time": "2023-05-26T14:10:20.961Z"
   },
   {
    "duration": 18,
    "start_time": "2023-05-26T14:10:20.977Z"
   },
   {
    "duration": 12,
    "start_time": "2023-05-26T14:10:20.996Z"
   },
   {
    "duration": 15,
    "start_time": "2023-05-26T14:10:21.009Z"
   },
   {
    "duration": 14,
    "start_time": "2023-05-26T14:10:21.025Z"
   },
   {
    "duration": 41,
    "start_time": "2023-05-26T14:10:21.040Z"
   },
   {
    "duration": 3,
    "start_time": "2023-05-26T14:10:21.083Z"
   },
   {
    "duration": 24,
    "start_time": "2023-05-26T14:10:21.087Z"
   },
   {
    "duration": 21,
    "start_time": "2023-05-26T14:10:21.113Z"
   },
   {
    "duration": 31,
    "start_time": "2023-05-26T14:10:21.139Z"
   },
   {
    "duration": 6,
    "start_time": "2023-05-26T14:10:21.172Z"
   },
   {
    "duration": 7,
    "start_time": "2023-05-26T14:10:21.179Z"
   },
   {
    "duration": 17,
    "start_time": "2023-05-26T14:10:21.188Z"
   },
   {
    "duration": 11,
    "start_time": "2023-05-26T14:10:21.207Z"
   },
   {
    "duration": 15,
    "start_time": "2023-05-26T14:10:21.219Z"
   },
   {
    "duration": 52,
    "start_time": "2023-05-26T14:10:21.236Z"
   },
   {
    "duration": 16,
    "start_time": "2023-05-26T14:10:21.290Z"
   },
   {
    "duration": 19,
    "start_time": "2023-05-26T14:10:21.307Z"
   },
   {
    "duration": 2514,
    "start_time": "2023-05-26T14:10:21.327Z"
   },
   {
    "duration": 3,
    "start_time": "2023-05-26T14:10:23.844Z"
   },
   {
    "duration": 75,
    "start_time": "2023-05-26T14:10:23.849Z"
   },
   {
    "duration": 3161,
    "start_time": "2023-05-26T14:10:23.925Z"
   },
   {
    "duration": 13,
    "start_time": "2023-05-26T14:10:27.088Z"
   },
   {
    "duration": 80,
    "start_time": "2023-05-26T14:10:27.103Z"
   },
   {
    "duration": 1850,
    "start_time": "2023-05-26T14:10:27.186Z"
   },
   {
    "duration": 200,
    "start_time": "2023-05-26T14:10:29.038Z"
   },
   {
    "duration": 5,
    "start_time": "2023-05-26T14:10:29.239Z"
   },
   {
    "duration": 443,
    "start_time": "2023-05-26T14:10:29.246Z"
   },
   {
    "duration": 151,
    "start_time": "2023-05-26T14:10:29.691Z"
   },
   {
    "duration": 0,
    "start_time": "2023-05-26T14:10:29.845Z"
   },
   {
    "duration": 0,
    "start_time": "2023-05-26T14:10:29.846Z"
   },
   {
    "duration": 0,
    "start_time": "2023-05-26T14:10:29.847Z"
   },
   {
    "duration": 15,
    "start_time": "2023-05-26T14:11:53.704Z"
   },
   {
    "duration": 5,
    "start_time": "2023-05-26T14:12:26.824Z"
   },
   {
    "duration": 1561,
    "start_time": "2023-05-26T14:12:39.414Z"
   },
   {
    "duration": 1057,
    "start_time": "2023-05-26T14:12:40.977Z"
   },
   {
    "duration": 13,
    "start_time": "2023-05-26T14:12:42.036Z"
   },
   {
    "duration": 13,
    "start_time": "2023-05-26T14:12:42.050Z"
   },
   {
    "duration": 10,
    "start_time": "2023-05-26T14:12:42.066Z"
   },
   {
    "duration": 25,
    "start_time": "2023-05-26T14:12:42.078Z"
   },
   {
    "duration": 4,
    "start_time": "2023-05-26T14:12:42.105Z"
   },
   {
    "duration": 20,
    "start_time": "2023-05-26T14:12:42.111Z"
   },
   {
    "duration": 10,
    "start_time": "2023-05-26T14:12:42.133Z"
   },
   {
    "duration": 9,
    "start_time": "2023-05-26T14:12:42.145Z"
   },
   {
    "duration": 34,
    "start_time": "2023-05-26T14:12:42.155Z"
   },
   {
    "duration": 12,
    "start_time": "2023-05-26T14:12:42.190Z"
   },
   {
    "duration": 154,
    "start_time": "2023-05-26T14:12:42.203Z"
   },
   {
    "duration": 0,
    "start_time": "2023-05-26T14:12:42.360Z"
   },
   {
    "duration": 0,
    "start_time": "2023-05-26T14:12:42.362Z"
   },
   {
    "duration": 0,
    "start_time": "2023-05-26T14:12:42.363Z"
   },
   {
    "duration": 0,
    "start_time": "2023-05-26T14:12:42.377Z"
   },
   {
    "duration": 0,
    "start_time": "2023-05-26T14:12:42.378Z"
   },
   {
    "duration": 0,
    "start_time": "2023-05-26T14:12:42.379Z"
   },
   {
    "duration": 0,
    "start_time": "2023-05-26T14:12:42.380Z"
   },
   {
    "duration": 0,
    "start_time": "2023-05-26T14:12:42.381Z"
   },
   {
    "duration": 0,
    "start_time": "2023-05-26T14:12:42.382Z"
   },
   {
    "duration": 0,
    "start_time": "2023-05-26T14:12:42.383Z"
   },
   {
    "duration": 0,
    "start_time": "2023-05-26T14:12:42.384Z"
   },
   {
    "duration": 0,
    "start_time": "2023-05-26T14:12:42.385Z"
   },
   {
    "duration": 0,
    "start_time": "2023-05-26T14:12:42.386Z"
   },
   {
    "duration": 0,
    "start_time": "2023-05-26T14:12:42.387Z"
   },
   {
    "duration": 0,
    "start_time": "2023-05-26T14:12:42.388Z"
   },
   {
    "duration": 0,
    "start_time": "2023-05-26T14:12:42.390Z"
   },
   {
    "duration": 0,
    "start_time": "2023-05-26T14:12:42.391Z"
   },
   {
    "duration": 0,
    "start_time": "2023-05-26T14:12:42.392Z"
   },
   {
    "duration": 0,
    "start_time": "2023-05-26T14:12:42.393Z"
   },
   {
    "duration": 0,
    "start_time": "2023-05-26T14:12:42.394Z"
   },
   {
    "duration": 0,
    "start_time": "2023-05-26T14:12:42.395Z"
   },
   {
    "duration": 0,
    "start_time": "2023-05-26T14:12:42.396Z"
   },
   {
    "duration": 0,
    "start_time": "2023-05-26T14:12:42.397Z"
   },
   {
    "duration": 0,
    "start_time": "2023-05-26T14:12:42.398Z"
   },
   {
    "duration": 0,
    "start_time": "2023-05-26T14:12:42.400Z"
   },
   {
    "duration": 0,
    "start_time": "2023-05-26T14:12:42.401Z"
   },
   {
    "duration": 0,
    "start_time": "2023-05-26T14:12:42.403Z"
   },
   {
    "duration": 0,
    "start_time": "2023-05-26T14:12:42.404Z"
   },
   {
    "duration": 0,
    "start_time": "2023-05-26T14:12:42.406Z"
   },
   {
    "duration": 0,
    "start_time": "2023-05-26T14:12:42.407Z"
   },
   {
    "duration": 0,
    "start_time": "2023-05-26T14:12:42.409Z"
   },
   {
    "duration": 0,
    "start_time": "2023-05-26T14:12:42.410Z"
   },
   {
    "duration": 0,
    "start_time": "2023-05-26T14:12:42.411Z"
   },
   {
    "duration": 0,
    "start_time": "2023-05-26T14:12:42.413Z"
   },
   {
    "duration": 0,
    "start_time": "2023-05-26T14:12:42.414Z"
   },
   {
    "duration": 0,
    "start_time": "2023-05-26T14:12:42.416Z"
   },
   {
    "duration": 0,
    "start_time": "2023-05-26T14:12:42.477Z"
   },
   {
    "duration": 0,
    "start_time": "2023-05-26T14:12:42.478Z"
   },
   {
    "duration": 0,
    "start_time": "2023-05-26T14:12:42.480Z"
   },
   {
    "duration": 0,
    "start_time": "2023-05-26T14:12:42.481Z"
   },
   {
    "duration": 1490,
    "start_time": "2023-05-26T14:13:21.547Z"
   },
   {
    "duration": 1290,
    "start_time": "2023-05-26T14:13:23.039Z"
   },
   {
    "duration": 13,
    "start_time": "2023-05-26T14:13:24.330Z"
   },
   {
    "duration": 12,
    "start_time": "2023-05-26T14:13:24.345Z"
   },
   {
    "duration": 6,
    "start_time": "2023-05-26T14:13:24.359Z"
   },
   {
    "duration": 14,
    "start_time": "2023-05-26T14:13:24.367Z"
   },
   {
    "duration": 3,
    "start_time": "2023-05-26T14:13:24.383Z"
   },
   {
    "duration": 11,
    "start_time": "2023-05-26T14:13:24.388Z"
   },
   {
    "duration": 10,
    "start_time": "2023-05-26T14:13:24.401Z"
   },
   {
    "duration": 9,
    "start_time": "2023-05-26T14:13:24.413Z"
   },
   {
    "duration": 13,
    "start_time": "2023-05-26T14:13:24.423Z"
   },
   {
    "duration": 45,
    "start_time": "2023-05-26T14:13:24.438Z"
   },
   {
    "duration": 5,
    "start_time": "2023-05-26T14:13:24.485Z"
   },
   {
    "duration": 15,
    "start_time": "2023-05-26T14:13:24.494Z"
   },
   {
    "duration": 160,
    "start_time": "2023-05-26T14:13:24.511Z"
   },
   {
    "duration": 5,
    "start_time": "2023-05-26T14:13:24.676Z"
   },
   {
    "duration": 216,
    "start_time": "2023-05-26T14:13:24.683Z"
   },
   {
    "duration": 5,
    "start_time": "2023-05-26T14:13:24.901Z"
   },
   {
    "duration": 22,
    "start_time": "2023-05-26T14:13:24.908Z"
   },
   {
    "duration": 24,
    "start_time": "2023-05-26T14:13:24.931Z"
   },
   {
    "duration": 131,
    "start_time": "2023-05-26T14:13:24.957Z"
   },
   {
    "duration": 7,
    "start_time": "2023-05-26T14:13:25.090Z"
   },
   {
    "duration": 28,
    "start_time": "2023-05-26T14:13:25.099Z"
   },
   {
    "duration": 8,
    "start_time": "2023-05-26T14:13:25.128Z"
   },
   {
    "duration": 8,
    "start_time": "2023-05-26T14:13:25.138Z"
   },
   {
    "duration": 7,
    "start_time": "2023-05-26T14:13:25.148Z"
   },
   {
    "duration": 31,
    "start_time": "2023-05-26T14:13:25.156Z"
   },
   {
    "duration": 3,
    "start_time": "2023-05-26T14:13:25.189Z"
   },
   {
    "duration": 17,
    "start_time": "2023-05-26T14:13:25.194Z"
   },
   {
    "duration": 17,
    "start_time": "2023-05-26T14:13:25.213Z"
   },
   {
    "duration": 46,
    "start_time": "2023-05-26T14:13:25.232Z"
   },
   {
    "duration": 6,
    "start_time": "2023-05-26T14:13:25.279Z"
   },
   {
    "duration": 15,
    "start_time": "2023-05-26T14:13:25.286Z"
   },
   {
    "duration": 7,
    "start_time": "2023-05-26T14:13:25.303Z"
   },
   {
    "duration": 10,
    "start_time": "2023-05-26T14:13:25.311Z"
   },
   {
    "duration": 16,
    "start_time": "2023-05-26T14:13:25.322Z"
   },
   {
    "duration": 61,
    "start_time": "2023-05-26T14:13:25.340Z"
   },
   {
    "duration": 17,
    "start_time": "2023-05-26T14:13:25.403Z"
   },
   {
    "duration": 19,
    "start_time": "2023-05-26T14:13:25.421Z"
   },
   {
    "duration": 2478,
    "start_time": "2023-05-26T14:13:25.441Z"
   },
   {
    "duration": 3,
    "start_time": "2023-05-26T14:13:27.924Z"
   },
   {
    "duration": 71,
    "start_time": "2023-05-26T14:13:27.928Z"
   },
   {
    "duration": 3225,
    "start_time": "2023-05-26T14:13:28.001Z"
   },
   {
    "duration": 13,
    "start_time": "2023-05-26T14:13:31.228Z"
   },
   {
    "duration": 67,
    "start_time": "2023-05-26T14:13:31.242Z"
   },
   {
    "duration": 1728,
    "start_time": "2023-05-26T14:13:31.311Z"
   },
   {
    "duration": 191,
    "start_time": "2023-05-26T14:13:33.041Z"
   },
   {
    "duration": 4,
    "start_time": "2023-05-26T14:13:33.234Z"
   },
   {
    "duration": 432,
    "start_time": "2023-05-26T14:13:33.240Z"
   },
   {
    "duration": 146,
    "start_time": "2023-05-26T14:13:33.676Z"
   },
   {
    "duration": 0,
    "start_time": "2023-05-26T14:13:33.824Z"
   },
   {
    "duration": 0,
    "start_time": "2023-05-26T14:13:33.826Z"
   },
   {
    "duration": 0,
    "start_time": "2023-05-26T14:13:33.827Z"
   },
   {
    "duration": 1807,
    "start_time": "2023-05-26T14:24:43.594Z"
   },
   {
    "duration": 1486,
    "start_time": "2023-05-26T14:24:45.406Z"
   },
   {
    "duration": 14,
    "start_time": "2023-05-26T14:24:46.894Z"
   },
   {
    "duration": 29,
    "start_time": "2023-05-26T14:24:46.910Z"
   },
   {
    "duration": 16,
    "start_time": "2023-05-26T14:24:46.942Z"
   },
   {
    "duration": 54,
    "start_time": "2023-05-26T14:24:46.960Z"
   },
   {
    "duration": 25,
    "start_time": "2023-05-26T14:24:47.016Z"
   },
   {
    "duration": 12,
    "start_time": "2023-05-26T14:24:47.043Z"
   },
   {
    "duration": 12,
    "start_time": "2023-05-26T14:24:47.058Z"
   },
   {
    "duration": 13,
    "start_time": "2023-05-26T14:24:47.071Z"
   },
   {
    "duration": 29,
    "start_time": "2023-05-26T14:24:47.086Z"
   },
   {
    "duration": 11,
    "start_time": "2023-05-26T14:24:47.116Z"
   },
   {
    "duration": 8,
    "start_time": "2023-05-26T14:24:47.129Z"
   },
   {
    "duration": 182,
    "start_time": "2023-05-26T14:24:47.141Z"
   },
   {
    "duration": 6,
    "start_time": "2023-05-26T14:24:47.326Z"
   },
   {
    "duration": 25,
    "start_time": "2023-05-26T14:24:47.334Z"
   },
   {
    "duration": 248,
    "start_time": "2023-05-26T14:24:47.376Z"
   },
   {
    "duration": 7,
    "start_time": "2023-05-26T14:24:47.626Z"
   },
   {
    "duration": 18,
    "start_time": "2023-05-26T14:24:47.635Z"
   },
   {
    "duration": 25,
    "start_time": "2023-05-26T14:24:47.655Z"
   },
   {
    "duration": 27,
    "start_time": "2023-05-26T14:24:47.682Z"
   },
   {
    "duration": 12,
    "start_time": "2023-05-26T14:24:47.711Z"
   },
   {
    "duration": 29,
    "start_time": "2023-05-26T14:24:47.725Z"
   },
   {
    "duration": 20,
    "start_time": "2023-05-26T14:24:47.756Z"
   },
   {
    "duration": 33,
    "start_time": "2023-05-26T14:24:47.780Z"
   },
   {
    "duration": 23,
    "start_time": "2023-05-26T14:24:47.815Z"
   },
   {
    "duration": 54,
    "start_time": "2023-05-26T14:24:47.840Z"
   },
   {
    "duration": 26,
    "start_time": "2023-05-26T14:24:47.896Z"
   },
   {
    "duration": 7,
    "start_time": "2023-05-26T14:24:47.924Z"
   },
   {
    "duration": 11,
    "start_time": "2023-05-26T14:24:47.932Z"
   },
   {
    "duration": 9,
    "start_time": "2023-05-26T14:24:47.945Z"
   },
   {
    "duration": 35,
    "start_time": "2023-05-26T14:24:47.956Z"
   },
   {
    "duration": 89,
    "start_time": "2023-05-26T14:24:47.994Z"
   },
   {
    "duration": 25,
    "start_time": "2023-05-26T14:24:48.085Z"
   },
   {
    "duration": 25,
    "start_time": "2023-05-26T14:24:48.112Z"
   },
   {
    "duration": 2764,
    "start_time": "2023-05-26T14:24:48.139Z"
   },
   {
    "duration": 4,
    "start_time": "2023-05-26T14:24:50.905Z"
   },
   {
    "duration": 66,
    "start_time": "2023-05-26T14:24:50.911Z"
   },
   {
    "duration": 3660,
    "start_time": "2023-05-26T14:24:50.979Z"
   },
   {
    "duration": 14,
    "start_time": "2023-05-26T14:24:54.641Z"
   },
   {
    "duration": 68,
    "start_time": "2023-05-26T14:24:54.659Z"
   },
   {
    "duration": 2127,
    "start_time": "2023-05-26T14:24:54.729Z"
   },
   {
    "duration": 217,
    "start_time": "2023-05-26T14:24:56.858Z"
   },
   {
    "duration": 5,
    "start_time": "2023-05-26T14:24:57.076Z"
   },
   {
    "duration": 489,
    "start_time": "2023-05-26T14:24:57.084Z"
   },
   {
    "duration": 177,
    "start_time": "2023-05-26T14:24:57.575Z"
   },
   {
    "duration": 0,
    "start_time": "2023-05-26T14:24:57.755Z"
   },
   {
    "duration": 0,
    "start_time": "2023-05-26T14:24:57.756Z"
   },
   {
    "duration": 0,
    "start_time": "2023-05-26T14:24:57.758Z"
   },
   {
    "duration": 5,
    "start_time": "2023-05-26T14:38:16.963Z"
   },
   {
    "duration": 1718,
    "start_time": "2023-05-26T14:38:45.256Z"
   },
   {
    "duration": 1256,
    "start_time": "2023-05-26T14:38:46.977Z"
   },
   {
    "duration": 17,
    "start_time": "2023-05-26T14:38:48.235Z"
   },
   {
    "duration": 17,
    "start_time": "2023-05-26T14:38:48.256Z"
   },
   {
    "duration": 7,
    "start_time": "2023-05-26T14:38:48.275Z"
   },
   {
    "duration": 23,
    "start_time": "2023-05-26T14:38:48.288Z"
   },
   {
    "duration": 5,
    "start_time": "2023-05-26T14:38:48.313Z"
   },
   {
    "duration": 11,
    "start_time": "2023-05-26T14:38:48.319Z"
   },
   {
    "duration": 12,
    "start_time": "2023-05-26T14:38:48.332Z"
   },
   {
    "duration": 11,
    "start_time": "2023-05-26T14:38:48.347Z"
   },
   {
    "duration": 39,
    "start_time": "2023-05-26T14:38:48.360Z"
   },
   {
    "duration": 17,
    "start_time": "2023-05-26T14:38:48.401Z"
   },
   {
    "duration": 5,
    "start_time": "2023-05-26T14:38:48.420Z"
   },
   {
    "duration": 173,
    "start_time": "2023-05-26T14:38:48.427Z"
   },
   {
    "duration": 5,
    "start_time": "2023-05-26T14:38:48.602Z"
   },
   {
    "duration": 19,
    "start_time": "2023-05-26T14:38:48.609Z"
   },
   {
    "duration": 245,
    "start_time": "2023-05-26T14:38:48.630Z"
   },
   {
    "duration": 8,
    "start_time": "2023-05-26T14:38:48.877Z"
   },
   {
    "duration": 30,
    "start_time": "2023-05-26T14:38:48.887Z"
   },
   {
    "duration": 6,
    "start_time": "2023-05-26T14:38:48.919Z"
   },
   {
    "duration": 14,
    "start_time": "2023-05-26T14:38:48.927Z"
   },
   {
    "duration": 35,
    "start_time": "2023-05-26T14:38:48.943Z"
   },
   {
    "duration": 25,
    "start_time": "2023-05-26T14:38:48.980Z"
   },
   {
    "duration": 4,
    "start_time": "2023-05-26T14:38:49.007Z"
   },
   {
    "duration": 22,
    "start_time": "2023-05-26T14:38:49.013Z"
   },
   {
    "duration": 28,
    "start_time": "2023-05-26T14:38:49.037Z"
   },
   {
    "duration": 54,
    "start_time": "2023-05-26T14:38:49.067Z"
   },
   {
    "duration": 5,
    "start_time": "2023-05-26T14:38:49.125Z"
   },
   {
    "duration": 14,
    "start_time": "2023-05-26T14:38:49.132Z"
   },
   {
    "duration": 12,
    "start_time": "2023-05-26T14:38:49.148Z"
   },
   {
    "duration": 15,
    "start_time": "2023-05-26T14:38:49.162Z"
   },
   {
    "duration": 16,
    "start_time": "2023-05-26T14:38:49.179Z"
   },
   {
    "duration": 49,
    "start_time": "2023-05-26T14:38:49.197Z"
   },
   {
    "duration": 37,
    "start_time": "2023-05-26T14:38:49.248Z"
   },
   {
    "duration": 22,
    "start_time": "2023-05-26T14:38:49.287Z"
   },
   {
    "duration": 2633,
    "start_time": "2023-05-26T14:38:49.310Z"
   },
   {
    "duration": 3,
    "start_time": "2023-05-26T14:38:51.945Z"
   },
   {
    "duration": 81,
    "start_time": "2023-05-26T14:38:51.950Z"
   },
   {
    "duration": 3432,
    "start_time": "2023-05-26T14:38:52.033Z"
   },
   {
    "duration": 19,
    "start_time": "2023-05-26T14:38:55.467Z"
   },
   {
    "duration": 52,
    "start_time": "2023-05-26T14:38:55.488Z"
   },
   {
    "duration": 1971,
    "start_time": "2023-05-26T14:38:55.541Z"
   },
   {
    "duration": 212,
    "start_time": "2023-05-26T14:38:57.513Z"
   },
   {
    "duration": 6,
    "start_time": "2023-05-26T14:38:57.727Z"
   },
   {
    "duration": 611,
    "start_time": "2023-05-26T14:38:57.735Z"
   },
   {
    "duration": 174,
    "start_time": "2023-05-26T14:38:58.348Z"
   },
   {
    "duration": 0,
    "start_time": "2023-05-26T14:38:58.524Z"
   },
   {
    "duration": 0,
    "start_time": "2023-05-26T14:38:58.525Z"
   },
   {
    "duration": 0,
    "start_time": "2023-05-26T14:38:58.526Z"
   },
   {
    "duration": 1496,
    "start_time": "2023-05-26T14:42:15.856Z"
   },
   {
    "duration": 1580,
    "start_time": "2023-05-26T14:42:17.354Z"
   },
   {
    "duration": 13,
    "start_time": "2023-05-26T14:42:18.936Z"
   },
   {
    "duration": 16,
    "start_time": "2023-05-26T14:42:18.952Z"
   },
   {
    "duration": 3,
    "start_time": "2023-05-26T14:42:18.970Z"
   },
   {
    "duration": 14,
    "start_time": "2023-05-26T14:42:18.974Z"
   },
   {
    "duration": 3,
    "start_time": "2023-05-26T14:42:18.989Z"
   },
   {
    "duration": 13,
    "start_time": "2023-05-26T14:42:18.993Z"
   },
   {
    "duration": 10,
    "start_time": "2023-05-26T14:42:19.007Z"
   },
   {
    "duration": 10,
    "start_time": "2023-05-26T14:42:19.020Z"
   },
   {
    "duration": 16,
    "start_time": "2023-05-26T14:42:19.032Z"
   },
   {
    "duration": 28,
    "start_time": "2023-05-26T14:42:19.049Z"
   },
   {
    "duration": 4,
    "start_time": "2023-05-26T14:42:19.079Z"
   },
   {
    "duration": 161,
    "start_time": "2023-05-26T14:42:19.084Z"
   },
   {
    "duration": 5,
    "start_time": "2023-05-26T14:42:19.247Z"
   },
   {
    "duration": 27,
    "start_time": "2023-05-26T14:42:19.254Z"
   },
   {
    "duration": 223,
    "start_time": "2023-05-26T14:42:19.283Z"
   },
   {
    "duration": 7,
    "start_time": "2023-05-26T14:42:19.508Z"
   },
   {
    "duration": 27,
    "start_time": "2023-05-26T14:42:19.517Z"
   },
   {
    "duration": 12,
    "start_time": "2023-05-26T14:42:19.546Z"
   },
   {
    "duration": 21,
    "start_time": "2023-05-26T14:42:19.559Z"
   },
   {
    "duration": 12,
    "start_time": "2023-05-26T14:42:19.582Z"
   },
   {
    "duration": 36,
    "start_time": "2023-05-26T14:42:19.596Z"
   },
   {
    "duration": 3,
    "start_time": "2023-05-26T14:42:19.633Z"
   },
   {
    "duration": 18,
    "start_time": "2023-05-26T14:42:19.638Z"
   },
   {
    "duration": 28,
    "start_time": "2023-05-26T14:42:19.657Z"
   },
   {
    "duration": 54,
    "start_time": "2023-05-26T14:42:19.686Z"
   },
   {
    "duration": 6,
    "start_time": "2023-05-26T14:42:19.745Z"
   },
   {
    "duration": 9,
    "start_time": "2023-05-26T14:42:19.753Z"
   },
   {
    "duration": 21,
    "start_time": "2023-05-26T14:42:19.763Z"
   },
   {
    "duration": 43,
    "start_time": "2023-05-26T14:42:19.785Z"
   },
   {
    "duration": 24,
    "start_time": "2023-05-26T14:42:19.830Z"
   },
   {
    "duration": 64,
    "start_time": "2023-05-26T14:42:19.856Z"
   },
   {
    "duration": 16,
    "start_time": "2023-05-26T14:42:19.921Z"
   },
   {
    "duration": 28,
    "start_time": "2023-05-26T14:42:19.938Z"
   },
   {
    "duration": 2492,
    "start_time": "2023-05-26T14:42:19.967Z"
   },
   {
    "duration": 3,
    "start_time": "2023-05-26T14:42:22.461Z"
   },
   {
    "duration": 71,
    "start_time": "2023-05-26T14:42:22.476Z"
   },
   {
    "duration": 3102,
    "start_time": "2023-05-26T14:42:22.549Z"
   },
   {
    "duration": 12,
    "start_time": "2023-05-26T14:42:25.653Z"
   },
   {
    "duration": 58,
    "start_time": "2023-05-26T14:42:25.667Z"
   },
   {
    "duration": 1726,
    "start_time": "2023-05-26T14:42:25.727Z"
   },
   {
    "duration": 184,
    "start_time": "2023-05-26T14:42:27.455Z"
   },
   {
    "duration": 4,
    "start_time": "2023-05-26T14:42:27.641Z"
   },
   {
    "duration": 15,
    "start_time": "2023-05-26T14:42:27.646Z"
   },
   {
    "duration": 1382,
    "start_time": "2023-05-26T14:42:27.663Z"
   },
   {
    "duration": 0,
    "start_time": "2023-05-26T14:42:29.046Z"
   },
   {
    "duration": 0,
    "start_time": "2023-05-26T14:42:29.047Z"
   },
   {
    "duration": 1,
    "start_time": "2023-05-26T14:42:29.048Z"
   },
   {
    "duration": 0,
    "start_time": "2023-05-26T14:42:29.050Z"
   },
   {
    "duration": 18,
    "start_time": "2023-05-26T14:44:28.989Z"
   },
   {
    "duration": 14,
    "start_time": "2023-05-26T14:44:34.615Z"
   },
   {
    "duration": 6,
    "start_time": "2023-05-26T14:45:45.516Z"
   },
   {
    "duration": 5,
    "start_time": "2023-05-26T14:45:47.745Z"
   },
   {
    "duration": 17,
    "start_time": "2023-05-26T14:45:57.979Z"
   },
   {
    "duration": 4,
    "start_time": "2023-05-26T14:46:06.084Z"
   },
   {
    "duration": 444,
    "start_time": "2023-05-26T14:46:21.466Z"
   },
   {
    "duration": 12,
    "start_time": "2023-05-26T14:51:58.619Z"
   },
   {
    "duration": 11,
    "start_time": "2023-05-26T14:57:28.247Z"
   },
   {
    "duration": 15,
    "start_time": "2023-05-26T14:57:40.877Z"
   },
   {
    "duration": 10,
    "start_time": "2023-05-26T14:57:44.541Z"
   },
   {
    "duration": 10,
    "start_time": "2023-05-26T14:57:47.755Z"
   },
   {
    "duration": 11,
    "start_time": "2023-05-26T14:59:45.255Z"
   },
   {
    "duration": 18,
    "start_time": "2023-05-26T14:59:52.153Z"
   },
   {
    "duration": 10,
    "start_time": "2023-05-26T15:00:05.347Z"
   },
   {
    "duration": 10,
    "start_time": "2023-05-26T15:00:16.080Z"
   },
   {
    "duration": 18,
    "start_time": "2023-05-26T15:00:23.244Z"
   },
   {
    "duration": 11,
    "start_time": "2023-05-26T15:01:54.964Z"
   },
   {
    "duration": 14,
    "start_time": "2023-05-26T15:02:03.239Z"
   },
   {
    "duration": 14,
    "start_time": "2023-05-26T15:02:14.312Z"
   },
   {
    "duration": 12,
    "start_time": "2023-05-26T15:02:20.809Z"
   },
   {
    "duration": 11,
    "start_time": "2023-05-26T15:02:28.743Z"
   },
   {
    "duration": 9,
    "start_time": "2023-05-26T15:02:33.138Z"
   },
   {
    "duration": 10,
    "start_time": "2023-05-26T15:02:40.961Z"
   },
   {
    "duration": 9,
    "start_time": "2023-05-26T15:02:53.151Z"
   },
   {
    "duration": 8,
    "start_time": "2023-05-26T15:03:12.709Z"
   },
   {
    "duration": 13,
    "start_time": "2023-05-26T15:03:19.104Z"
   },
   {
    "duration": 17,
    "start_time": "2023-05-26T15:03:53.344Z"
   },
   {
    "duration": 11,
    "start_time": "2023-05-26T15:03:58.213Z"
   },
   {
    "duration": 9,
    "start_time": "2023-05-26T15:04:10.243Z"
   },
   {
    "duration": 13,
    "start_time": "2023-05-26T15:04:13.300Z"
   },
   {
    "duration": 10,
    "start_time": "2023-05-26T15:04:20.942Z"
   },
   {
    "duration": 14,
    "start_time": "2023-05-26T15:04:28.366Z"
   },
   {
    "duration": 9,
    "start_time": "2023-05-26T15:04:48.227Z"
   },
   {
    "duration": 10,
    "start_time": "2023-05-26T15:04:52.508Z"
   },
   {
    "duration": 12,
    "start_time": "2023-05-26T15:04:56.905Z"
   },
   {
    "duration": 12,
    "start_time": "2023-05-26T15:05:03.131Z"
   },
   {
    "duration": 11,
    "start_time": "2023-05-26T15:05:07.616Z"
   },
   {
    "duration": 11,
    "start_time": "2023-05-26T15:05:17.443Z"
   },
   {
    "duration": 13,
    "start_time": "2023-05-26T15:05:33.104Z"
   },
   {
    "duration": 15,
    "start_time": "2023-05-26T15:07:24.773Z"
   },
   {
    "duration": 10,
    "start_time": "2023-05-26T15:07:32.304Z"
   },
   {
    "duration": 9,
    "start_time": "2023-05-26T15:07:39.604Z"
   },
   {
    "duration": 11,
    "start_time": "2023-05-26T15:07:47.717Z"
   },
   {
    "duration": 16,
    "start_time": "2023-05-26T15:07:55.246Z"
   },
   {
    "duration": 16,
    "start_time": "2023-05-26T15:08:05.251Z"
   },
   {
    "duration": 12,
    "start_time": "2023-05-26T15:08:13.410Z"
   },
   {
    "duration": 11,
    "start_time": "2023-05-26T15:08:21.242Z"
   },
   {
    "duration": 9,
    "start_time": "2023-05-26T15:08:28.503Z"
   },
   {
    "duration": 12,
    "start_time": "2023-05-26T15:08:36.196Z"
   },
   {
    "duration": 9,
    "start_time": "2023-05-26T15:08:44.268Z"
   },
   {
    "duration": 11,
    "start_time": "2023-05-26T15:08:52.194Z"
   },
   {
    "duration": 10,
    "start_time": "2023-05-26T15:09:02.011Z"
   },
   {
    "duration": 9,
    "start_time": "2023-05-26T15:09:16.641Z"
   },
   {
    "duration": 18,
    "start_time": "2023-05-26T15:09:21.438Z"
   },
   {
    "duration": 10,
    "start_time": "2023-05-26T15:09:57.741Z"
   },
   {
    "duration": 12,
    "start_time": "2023-05-26T15:10:05.240Z"
   },
   {
    "duration": 10,
    "start_time": "2023-05-26T15:10:13.106Z"
   },
   {
    "duration": 13,
    "start_time": "2023-05-26T15:10:16.478Z"
   },
   {
    "duration": 11,
    "start_time": "2023-05-26T15:10:20.166Z"
   },
   {
    "duration": 12,
    "start_time": "2023-05-26T15:10:26.374Z"
   },
   {
    "duration": 9,
    "start_time": "2023-05-26T15:10:29.548Z"
   },
   {
    "duration": 10,
    "start_time": "2023-05-26T15:10:32.901Z"
   },
   {
    "duration": 9,
    "start_time": "2023-05-26T15:10:57.272Z"
   },
   {
    "duration": 9,
    "start_time": "2023-05-26T15:11:10.307Z"
   },
   {
    "duration": 10,
    "start_time": "2023-05-26T15:11:18.359Z"
   },
   {
    "duration": 9,
    "start_time": "2023-05-26T15:11:21.806Z"
   },
   {
    "duration": 11,
    "start_time": "2023-05-26T15:11:25.071Z"
   },
   {
    "duration": 11,
    "start_time": "2023-05-26T15:11:28.562Z"
   },
   {
    "duration": 18,
    "start_time": "2023-05-26T15:11:36.844Z"
   },
   {
    "duration": 14,
    "start_time": "2023-05-26T15:11:43.407Z"
   },
   {
    "duration": 12,
    "start_time": "2023-05-26T15:11:50.547Z"
   },
   {
    "duration": 11,
    "start_time": "2023-05-26T15:12:11.751Z"
   },
   {
    "duration": 9,
    "start_time": "2023-05-26T15:12:22.056Z"
   },
   {
    "duration": 11,
    "start_time": "2023-05-26T15:12:25.743Z"
   },
   {
    "duration": 8,
    "start_time": "2023-05-26T15:12:37.188Z"
   },
   {
    "duration": 12,
    "start_time": "2023-05-26T15:12:43.605Z"
   },
   {
    "duration": 10,
    "start_time": "2023-05-26T15:12:49.956Z"
   },
   {
    "duration": 9,
    "start_time": "2023-05-26T15:13:00.371Z"
   },
   {
    "duration": 10,
    "start_time": "2023-05-26T15:13:07.018Z"
   },
   {
    "duration": 11,
    "start_time": "2023-05-26T15:13:15.405Z"
   },
   {
    "duration": 10,
    "start_time": "2023-05-26T15:13:23.760Z"
   },
   {
    "duration": 9,
    "start_time": "2023-05-26T15:13:27.154Z"
   },
   {
    "duration": 9,
    "start_time": "2023-05-26T15:13:37.264Z"
   },
   {
    "duration": 10,
    "start_time": "2023-05-26T15:13:44.305Z"
   },
   {
    "duration": 44,
    "start_time": "2023-05-26T15:13:49.634Z"
   },
   {
    "duration": 40,
    "start_time": "2023-05-26T15:14:29.595Z"
   },
   {
    "duration": 12,
    "start_time": "2023-05-26T15:14:39.198Z"
   },
   {
    "duration": 41,
    "start_time": "2023-05-26T15:15:35.418Z"
   },
   {
    "duration": 40,
    "start_time": "2023-05-26T15:15:52.714Z"
   },
   {
    "duration": 1466,
    "start_time": "2023-05-26T15:16:01.875Z"
   },
   {
    "duration": 18,
    "start_time": "2023-05-26T15:16:05.306Z"
   },
   {
    "duration": 17,
    "start_time": "2023-05-26T15:16:17.417Z"
   },
   {
    "duration": 1559,
    "start_time": "2023-05-26T15:16:26.338Z"
   },
   {
    "duration": 1249,
    "start_time": "2023-05-26T15:16:27.899Z"
   },
   {
    "duration": 14,
    "start_time": "2023-05-26T15:16:29.150Z"
   },
   {
    "duration": 20,
    "start_time": "2023-05-26T15:16:29.167Z"
   },
   {
    "duration": 10,
    "start_time": "2023-05-26T15:16:29.189Z"
   },
   {
    "duration": 100,
    "start_time": "2023-05-26T15:16:29.201Z"
   },
   {
    "duration": 10,
    "start_time": "2023-05-26T15:16:29.303Z"
   },
   {
    "duration": 11,
    "start_time": "2023-05-26T15:16:29.315Z"
   },
   {
    "duration": 10,
    "start_time": "2023-05-26T15:16:29.328Z"
   },
   {
    "duration": 8,
    "start_time": "2023-05-26T15:16:29.340Z"
   },
   {
    "duration": 13,
    "start_time": "2023-05-26T15:16:29.350Z"
   },
   {
    "duration": 14,
    "start_time": "2023-05-26T15:16:29.365Z"
   },
   {
    "duration": 4,
    "start_time": "2023-05-26T15:16:29.381Z"
   },
   {
    "duration": 148,
    "start_time": "2023-05-26T15:16:29.386Z"
   },
   {
    "duration": 5,
    "start_time": "2023-05-26T15:16:29.535Z"
   },
   {
    "duration": 38,
    "start_time": "2023-05-26T15:16:29.542Z"
   },
   {
    "duration": 196,
    "start_time": "2023-05-26T15:16:29.582Z"
   },
   {
    "duration": 7,
    "start_time": "2023-05-26T15:16:29.779Z"
   },
   {
    "duration": 16,
    "start_time": "2023-05-26T15:16:29.787Z"
   },
   {
    "duration": 3,
    "start_time": "2023-05-26T15:16:29.805Z"
   },
   {
    "duration": 7,
    "start_time": "2023-05-26T15:16:29.810Z"
   },
   {
    "duration": 5,
    "start_time": "2023-05-26T15:16:29.819Z"
   },
   {
    "duration": 19,
    "start_time": "2023-05-26T15:16:29.826Z"
   },
   {
    "duration": 33,
    "start_time": "2023-05-26T15:16:29.846Z"
   },
   {
    "duration": 10,
    "start_time": "2023-05-26T15:16:29.881Z"
   },
   {
    "duration": 16,
    "start_time": "2023-05-26T15:16:29.893Z"
   },
   {
    "duration": 31,
    "start_time": "2023-05-26T15:16:29.910Z"
   },
   {
    "duration": 4,
    "start_time": "2023-05-26T15:16:29.944Z"
   },
   {
    "duration": 28,
    "start_time": "2023-05-26T15:16:29.949Z"
   },
   {
    "duration": 8,
    "start_time": "2023-05-26T15:16:29.978Z"
   },
   {
    "duration": 5,
    "start_time": "2023-05-26T15:16:29.987Z"
   },
   {
    "duration": 13,
    "start_time": "2023-05-26T15:16:29.994Z"
   },
   {
    "duration": 69,
    "start_time": "2023-05-26T15:16:30.009Z"
   },
   {
    "duration": 16,
    "start_time": "2023-05-26T15:16:30.080Z"
   },
   {
    "duration": 36,
    "start_time": "2023-05-26T15:16:30.098Z"
   },
   {
    "duration": 2315,
    "start_time": "2023-05-26T15:16:30.135Z"
   },
   {
    "duration": 3,
    "start_time": "2023-05-26T15:16:32.452Z"
   },
   {
    "duration": 72,
    "start_time": "2023-05-26T15:16:32.456Z"
   },
   {
    "duration": 2978,
    "start_time": "2023-05-26T15:16:32.530Z"
   },
   {
    "duration": 13,
    "start_time": "2023-05-26T15:16:35.510Z"
   },
   {
    "duration": 58,
    "start_time": "2023-05-26T15:16:35.525Z"
   },
   {
    "duration": 1655,
    "start_time": "2023-05-26T15:16:35.584Z"
   },
   {
    "duration": 16,
    "start_time": "2023-05-26T15:16:37.240Z"
   },
   {
    "duration": 185,
    "start_time": "2023-05-26T15:16:37.258Z"
   },
   {
    "duration": 6,
    "start_time": "2023-05-26T15:16:37.445Z"
   },
   {
    "duration": 20,
    "start_time": "2023-05-26T15:16:37.452Z"
   },
   {
    "duration": 444,
    "start_time": "2023-05-26T15:16:37.473Z"
   },
   {
    "duration": 10,
    "start_time": "2023-05-26T15:16:37.919Z"
   },
   {
    "duration": 141,
    "start_time": "2023-05-26T15:16:37.930Z"
   },
   {
    "duration": 0,
    "start_time": "2023-05-26T15:16:38.072Z"
   },
   {
    "duration": 0,
    "start_time": "2023-05-26T15:16:38.074Z"
   },
   {
    "duration": 0,
    "start_time": "2023-05-26T15:16:38.076Z"
   },
   {
    "duration": 10,
    "start_time": "2023-05-26T15:18:06.978Z"
   },
   {
    "duration": 5,
    "start_time": "2023-05-26T15:19:21.102Z"
   },
   {
    "duration": 20,
    "start_time": "2023-05-26T15:19:25.711Z"
   },
   {
    "duration": 26,
    "start_time": "2023-05-26T15:21:04.914Z"
   },
   {
    "duration": 11,
    "start_time": "2023-05-26T15:23:01.769Z"
   },
   {
    "duration": 5,
    "start_time": "2023-05-26T15:23:30.046Z"
   },
   {
    "duration": 185,
    "start_time": "2023-05-26T15:23:58.258Z"
   },
   {
    "duration": 13,
    "start_time": "2023-05-26T15:24:28.898Z"
   },
   {
    "duration": 324,
    "start_time": "2023-05-26T15:24:31.005Z"
   },
   {
    "duration": 289,
    "start_time": "2023-05-26T15:25:12.810Z"
   },
   {
    "duration": 284,
    "start_time": "2023-05-26T15:25:33.143Z"
   },
   {
    "duration": 402,
    "start_time": "2023-05-26T15:26:03.201Z"
   },
   {
    "duration": 279,
    "start_time": "2023-05-26T15:26:03.892Z"
   },
   {
    "duration": 292,
    "start_time": "2023-05-26T15:26:30.569Z"
   },
   {
    "duration": 271,
    "start_time": "2023-05-26T15:26:56.369Z"
   },
   {
    "duration": 257,
    "start_time": "2023-05-26T15:27:53.159Z"
   },
   {
    "duration": 291,
    "start_time": "2023-05-26T15:28:28.175Z"
   },
   {
    "duration": 6,
    "start_time": "2023-05-26T15:29:02.786Z"
   },
   {
    "duration": 20,
    "start_time": "2023-05-26T17:01:25.095Z"
   },
   {
    "duration": 23,
    "start_time": "2023-05-26T17:02:25.519Z"
   },
   {
    "duration": 1628,
    "start_time": "2023-05-26T17:02:31.034Z"
   },
   {
    "duration": 4904,
    "start_time": "2023-05-26T17:02:32.664Z"
   },
   {
    "duration": 21,
    "start_time": "2023-05-26T17:02:37.570Z"
   },
   {
    "duration": 35,
    "start_time": "2023-05-26T17:02:37.593Z"
   },
   {
    "duration": 18,
    "start_time": "2023-05-26T17:02:37.630Z"
   },
   {
    "duration": 14,
    "start_time": "2023-05-26T17:02:37.649Z"
   },
   {
    "duration": 6,
    "start_time": "2023-05-26T17:02:37.665Z"
   },
   {
    "duration": 40,
    "start_time": "2023-05-26T17:02:37.672Z"
   },
   {
    "duration": 13,
    "start_time": "2023-05-26T17:02:37.714Z"
   },
   {
    "duration": 17,
    "start_time": "2023-05-26T17:02:37.729Z"
   },
   {
    "duration": 13,
    "start_time": "2023-05-26T17:02:37.748Z"
   },
   {
    "duration": 9,
    "start_time": "2023-05-26T17:02:37.763Z"
   },
   {
    "duration": 33,
    "start_time": "2023-05-26T17:02:37.773Z"
   },
   {
    "duration": 156,
    "start_time": "2023-05-26T17:02:37.811Z"
   },
   {
    "duration": 5,
    "start_time": "2023-05-26T17:02:37.968Z"
   },
   {
    "duration": 53,
    "start_time": "2023-05-26T17:02:37.974Z"
   },
   {
    "duration": 233,
    "start_time": "2023-05-26T17:02:38.028Z"
   },
   {
    "duration": 7,
    "start_time": "2023-05-26T17:02:38.263Z"
   },
   {
    "duration": 32,
    "start_time": "2023-05-26T17:02:38.276Z"
   },
   {
    "duration": 7,
    "start_time": "2023-05-26T17:02:38.310Z"
   },
   {
    "duration": 9,
    "start_time": "2023-05-26T17:02:38.318Z"
   },
   {
    "duration": 5,
    "start_time": "2023-05-26T17:02:38.328Z"
   },
   {
    "duration": 18,
    "start_time": "2023-05-26T17:02:38.334Z"
   },
   {
    "duration": 3,
    "start_time": "2023-05-26T17:02:38.354Z"
   },
   {
    "duration": 30,
    "start_time": "2023-05-26T17:02:38.358Z"
   },
   {
    "duration": 30,
    "start_time": "2023-05-26T17:02:38.390Z"
   },
   {
    "duration": 30,
    "start_time": "2023-05-26T17:02:38.422Z"
   },
   {
    "duration": 5,
    "start_time": "2023-05-26T17:02:38.454Z"
   },
   {
    "duration": 9,
    "start_time": "2023-05-26T17:02:38.460Z"
   },
   {
    "duration": 18,
    "start_time": "2023-05-26T17:02:38.470Z"
   },
   {
    "duration": 21,
    "start_time": "2023-05-26T17:02:38.490Z"
   },
   {
    "duration": 12,
    "start_time": "2023-05-26T17:02:38.513Z"
   },
   {
    "duration": 47,
    "start_time": "2023-05-26T17:02:38.527Z"
   },
   {
    "duration": 31,
    "start_time": "2023-05-26T17:02:38.576Z"
   },
   {
    "duration": 19,
    "start_time": "2023-05-26T17:02:38.609Z"
   },
   {
    "duration": 2606,
    "start_time": "2023-05-26T17:02:38.630Z"
   },
   {
    "duration": 3,
    "start_time": "2023-05-26T17:02:41.239Z"
   },
   {
    "duration": 79,
    "start_time": "2023-05-26T17:02:41.243Z"
   },
   {
    "duration": 3327,
    "start_time": "2023-05-26T17:02:41.323Z"
   },
   {
    "duration": 13,
    "start_time": "2023-05-26T17:02:44.652Z"
   },
   {
    "duration": 69,
    "start_time": "2023-05-26T17:02:44.680Z"
   },
   {
    "duration": 1860,
    "start_time": "2023-05-26T17:02:44.750Z"
   },
   {
    "duration": 200,
    "start_time": "2023-05-26T17:02:46.612Z"
   },
   {
    "duration": 8,
    "start_time": "2023-05-26T17:02:46.814Z"
   },
   {
    "duration": 9,
    "start_time": "2023-05-26T17:02:46.823Z"
   },
   {
    "duration": 469,
    "start_time": "2023-05-26T17:02:46.834Z"
   },
   {
    "duration": 6,
    "start_time": "2023-05-26T17:02:47.305Z"
   },
   {
    "duration": 332,
    "start_time": "2023-05-26T17:02:47.313Z"
   },
   {
    "duration": 355,
    "start_time": "2023-05-26T17:02:47.647Z"
   },
   {
    "duration": 355,
    "start_time": "2023-05-26T17:02:48.004Z"
   },
   {
    "duration": 350,
    "start_time": "2023-05-26T17:02:48.360Z"
   },
   {
    "duration": 388,
    "start_time": "2023-05-26T17:02:48.712Z"
   },
   {
    "duration": 308,
    "start_time": "2023-05-26T17:02:49.102Z"
   },
   {
    "duration": 334,
    "start_time": "2023-05-26T17:02:49.412Z"
   },
   {
    "duration": 16,
    "start_time": "2023-05-26T17:02:49.748Z"
   },
   {
    "duration": 17,
    "start_time": "2023-05-26T17:02:49.779Z"
   },
   {
    "duration": 21,
    "start_time": "2023-05-26T17:02:49.798Z"
   },
   {
    "duration": 12,
    "start_time": "2023-05-26T17:02:49.821Z"
   },
   {
    "duration": 7,
    "start_time": "2023-05-26T17:02:49.834Z"
   },
   {
    "duration": 6,
    "start_time": "2023-05-26T17:11:40.157Z"
   },
   {
    "duration": 7,
    "start_time": "2023-05-26T17:11:50.679Z"
   },
   {
    "duration": 5,
    "start_time": "2023-05-26T17:15:27.889Z"
   },
   {
    "duration": 1584,
    "start_time": "2023-05-26T17:15:34.465Z"
   },
   {
    "duration": 1648,
    "start_time": "2023-05-26T17:15:36.051Z"
   },
   {
    "duration": 15,
    "start_time": "2023-05-26T17:15:37.701Z"
   },
   {
    "duration": 18,
    "start_time": "2023-05-26T17:15:37.718Z"
   },
   {
    "duration": 28,
    "start_time": "2023-05-26T17:15:37.738Z"
   },
   {
    "duration": 23,
    "start_time": "2023-05-26T17:15:37.768Z"
   },
   {
    "duration": 9,
    "start_time": "2023-05-26T17:15:37.793Z"
   },
   {
    "duration": 13,
    "start_time": "2023-05-26T17:15:37.804Z"
   },
   {
    "duration": 11,
    "start_time": "2023-05-26T17:15:37.819Z"
   },
   {
    "duration": 10,
    "start_time": "2023-05-26T17:15:37.834Z"
   },
   {
    "duration": 36,
    "start_time": "2023-05-26T17:15:37.846Z"
   },
   {
    "duration": 13,
    "start_time": "2023-05-26T17:15:37.885Z"
   },
   {
    "duration": 10,
    "start_time": "2023-05-26T17:15:37.900Z"
   },
   {
    "duration": 153,
    "start_time": "2023-05-26T17:15:37.911Z"
   },
   {
    "duration": 22,
    "start_time": "2023-05-26T17:15:38.066Z"
   },
   {
    "duration": 47,
    "start_time": "2023-05-26T17:15:38.091Z"
   },
   {
    "duration": 210,
    "start_time": "2023-05-26T17:15:38.140Z"
   },
   {
    "duration": 8,
    "start_time": "2023-05-26T17:15:38.352Z"
   },
   {
    "duration": 34,
    "start_time": "2023-05-26T17:15:38.361Z"
   },
   {
    "duration": 20,
    "start_time": "2023-05-26T17:15:38.397Z"
   },
   {
    "duration": 15,
    "start_time": "2023-05-26T17:15:38.419Z"
   },
   {
    "duration": 6,
    "start_time": "2023-05-26T17:15:38.436Z"
   },
   {
    "duration": 19,
    "start_time": "2023-05-26T17:15:38.443Z"
   },
   {
    "duration": 16,
    "start_time": "2023-05-26T17:15:38.464Z"
   },
   {
    "duration": 34,
    "start_time": "2023-05-26T17:15:38.481Z"
   },
   {
    "duration": 17,
    "start_time": "2023-05-26T17:15:38.517Z"
   },
   {
    "duration": 35,
    "start_time": "2023-05-26T17:15:38.536Z"
   },
   {
    "duration": 16,
    "start_time": "2023-05-26T17:15:38.575Z"
   },
   {
    "duration": 16,
    "start_time": "2023-05-26T17:15:38.592Z"
   },
   {
    "duration": 8,
    "start_time": "2023-05-26T17:15:38.610Z"
   },
   {
    "duration": 23,
    "start_time": "2023-05-26T17:15:38.620Z"
   },
   {
    "duration": 13,
    "start_time": "2023-05-26T17:15:38.644Z"
   },
   {
    "duration": 57,
    "start_time": "2023-05-26T17:15:38.659Z"
   },
   {
    "duration": 18,
    "start_time": "2023-05-26T17:15:38.717Z"
   },
   {
    "duration": 19,
    "start_time": "2023-05-26T17:15:38.737Z"
   },
   {
    "duration": 2524,
    "start_time": "2023-05-26T17:15:38.757Z"
   },
   {
    "duration": 9,
    "start_time": "2023-05-26T17:15:41.286Z"
   },
   {
    "duration": 58,
    "start_time": "2023-05-26T17:15:41.297Z"
   },
   {
    "duration": 3341,
    "start_time": "2023-05-26T17:15:41.356Z"
   },
   {
    "duration": 13,
    "start_time": "2023-05-26T17:15:44.699Z"
   },
   {
    "duration": 44,
    "start_time": "2023-05-26T17:15:44.714Z"
   },
   {
    "duration": 1874,
    "start_time": "2023-05-26T17:15:44.760Z"
   },
   {
    "duration": 223,
    "start_time": "2023-05-26T17:15:46.636Z"
   },
   {
    "duration": 5,
    "start_time": "2023-05-26T17:15:46.861Z"
   },
   {
    "duration": 26,
    "start_time": "2023-05-26T17:15:46.878Z"
   },
   {
    "duration": 467,
    "start_time": "2023-05-26T17:15:46.905Z"
   },
   {
    "duration": 9,
    "start_time": "2023-05-26T17:15:47.374Z"
   },
   {
    "duration": 476,
    "start_time": "2023-05-26T17:15:47.384Z"
   },
   {
    "duration": 516,
    "start_time": "2023-05-26T17:15:47.862Z"
   },
   {
    "duration": 434,
    "start_time": "2023-05-26T17:15:48.380Z"
   },
   {
    "duration": 398,
    "start_time": "2023-05-26T17:15:48.816Z"
   },
   {
    "duration": 298,
    "start_time": "2023-05-26T17:15:49.216Z"
   },
   {
    "duration": 376,
    "start_time": "2023-05-26T17:15:49.516Z"
   },
   {
    "duration": 473,
    "start_time": "2023-05-26T17:15:49.894Z"
   },
   {
    "duration": 21,
    "start_time": "2023-05-26T17:15:50.369Z"
   },
   {
    "duration": 38,
    "start_time": "2023-05-26T17:15:50.392Z"
   },
   {
    "duration": 16,
    "start_time": "2023-05-26T17:15:50.432Z"
   },
   {
    "duration": 8,
    "start_time": "2023-05-26T17:15:50.450Z"
   },
   {
    "duration": 13,
    "start_time": "2023-05-26T17:17:27.836Z"
   },
   {
    "duration": 5,
    "start_time": "2023-05-26T17:23:34.240Z"
   },
   {
    "duration": 22,
    "start_time": "2023-05-26T17:23:41.060Z"
   },
   {
    "duration": 4,
    "start_time": "2023-05-26T17:25:23.897Z"
   },
   {
    "duration": 142,
    "start_time": "2023-05-26T17:25:35.450Z"
   },
   {
    "duration": 6,
    "start_time": "2023-05-26T17:28:01.071Z"
   },
   {
    "duration": 5,
    "start_time": "2023-05-26T17:28:11.049Z"
   },
   {
    "duration": 1244,
    "start_time": "2023-05-26T17:28:49.197Z"
   },
   {
    "duration": 10,
    "start_time": "2023-05-26T17:30:35.334Z"
   },
   {
    "duration": 4,
    "start_time": "2023-05-26T17:30:39.751Z"
   },
   {
    "duration": 22,
    "start_time": "2023-05-26T17:31:23.131Z"
   },
   {
    "duration": 132,
    "start_time": "2023-05-26T17:31:51.045Z"
   },
   {
    "duration": 20,
    "start_time": "2023-05-26T17:33:08.043Z"
   },
   {
    "duration": 11,
    "start_time": "2023-05-26T17:33:12.490Z"
   },
   {
    "duration": 525,
    "start_time": "2023-05-26T17:34:23.817Z"
   },
   {
    "duration": 439,
    "start_time": "2023-05-26T17:39:00.539Z"
   },
   {
    "duration": 497,
    "start_time": "2023-05-26T17:39:12.925Z"
   },
   {
    "duration": 501,
    "start_time": "2023-05-26T17:40:59.466Z"
   },
   {
    "duration": 11,
    "start_time": "2023-05-26T17:41:50.682Z"
   },
   {
    "duration": 4,
    "start_time": "2023-05-26T17:41:55.956Z"
   },
   {
    "duration": 4,
    "start_time": "2023-05-26T17:42:29.590Z"
   },
   {
    "duration": 27,
    "start_time": "2023-05-26T17:42:35.378Z"
   },
   {
    "duration": 26,
    "start_time": "2023-05-26T17:42:46.428Z"
   },
   {
    "duration": 529,
    "start_time": "2023-05-26T17:42:48.691Z"
   },
   {
    "duration": 577,
    "start_time": "2023-05-26T17:45:32.971Z"
   },
   {
    "duration": 455,
    "start_time": "2023-05-26T17:46:35.789Z"
   },
   {
    "duration": 515,
    "start_time": "2023-05-26T17:48:29.825Z"
   },
   {
    "duration": 524,
    "start_time": "2023-05-26T17:50:05.963Z"
   },
   {
    "duration": 362,
    "start_time": "2023-05-26T17:51:43.164Z"
   },
   {
    "duration": 446,
    "start_time": "2023-05-26T17:52:26.365Z"
   },
   {
    "duration": 630,
    "start_time": "2023-05-26T17:53:24.472Z"
   },
   {
    "duration": 14,
    "start_time": "2023-05-26T18:08:19.456Z"
   },
   {
    "duration": 3,
    "start_time": "2023-05-26T18:08:59.448Z"
   },
   {
    "duration": 4,
    "start_time": "2023-05-26T18:09:05.389Z"
   },
   {
    "duration": 9,
    "start_time": "2023-05-26T18:10:02.151Z"
   },
   {
    "duration": 7,
    "start_time": "2023-05-26T18:11:57.834Z"
   },
   {
    "duration": 8,
    "start_time": "2023-05-26T18:12:19.433Z"
   },
   {
    "duration": 8,
    "start_time": "2023-05-26T18:12:38.409Z"
   },
   {
    "duration": 7,
    "start_time": "2023-05-26T18:13:14.998Z"
   },
   {
    "duration": 14,
    "start_time": "2023-05-26T18:14:57.581Z"
   },
   {
    "duration": 7,
    "start_time": "2023-05-26T18:15:03.311Z"
   },
   {
    "duration": 7,
    "start_time": "2023-05-26T18:15:10.747Z"
   },
   {
    "duration": 14,
    "start_time": "2023-05-26T18:15:15.179Z"
   },
   {
    "duration": 21,
    "start_time": "2023-05-26T19:47:11.389Z"
   },
   {
    "duration": 273,
    "start_time": "2023-05-26T19:49:33.996Z"
   },
   {
    "duration": 1826,
    "start_time": "2023-05-29T15:40:23.045Z"
   },
   {
    "duration": 1247,
    "start_time": "2023-05-29T15:40:24.873Z"
   },
   {
    "duration": 12,
    "start_time": "2023-05-29T15:40:26.122Z"
   },
   {
    "duration": 5,
    "start_time": "2023-05-29T15:40:26.136Z"
   },
   {
    "duration": 14,
    "start_time": "2023-05-29T15:40:26.142Z"
   },
   {
    "duration": 5,
    "start_time": "2023-05-29T15:40:26.157Z"
   },
   {
    "duration": 10,
    "start_time": "2023-05-29T15:40:26.163Z"
   },
   {
    "duration": 10,
    "start_time": "2023-05-29T15:40:26.175Z"
   },
   {
    "duration": 7,
    "start_time": "2023-05-29T15:40:26.187Z"
   },
   {
    "duration": 21,
    "start_time": "2023-05-29T15:40:26.197Z"
   },
   {
    "duration": 35,
    "start_time": "2023-05-29T15:40:26.220Z"
   },
   {
    "duration": 5,
    "start_time": "2023-05-29T15:40:26.257Z"
   },
   {
    "duration": 162,
    "start_time": "2023-05-29T15:40:26.263Z"
   },
   {
    "duration": 5,
    "start_time": "2023-05-29T15:40:26.427Z"
   },
   {
    "duration": 35,
    "start_time": "2023-05-29T15:40:26.434Z"
   },
   {
    "duration": 218,
    "start_time": "2023-05-29T15:40:26.471Z"
   },
   {
    "duration": 8,
    "start_time": "2023-05-29T15:40:26.691Z"
   },
   {
    "duration": 14,
    "start_time": "2023-05-29T15:40:26.701Z"
   },
   {
    "duration": 4,
    "start_time": "2023-05-29T15:40:26.716Z"
   },
   {
    "duration": 29,
    "start_time": "2023-05-29T15:40:26.722Z"
   },
   {
    "duration": 5,
    "start_time": "2023-05-29T15:40:26.752Z"
   },
   {
    "duration": 18,
    "start_time": "2023-05-29T15:40:26.758Z"
   },
   {
    "duration": 3,
    "start_time": "2023-05-29T15:40:26.778Z"
   },
   {
    "duration": 24,
    "start_time": "2023-05-29T15:40:26.782Z"
   },
   {
    "duration": 13,
    "start_time": "2023-05-29T15:40:26.807Z"
   },
   {
    "duration": 54,
    "start_time": "2023-05-29T15:40:26.822Z"
   },
   {
    "duration": 5,
    "start_time": "2023-05-29T15:40:26.877Z"
   },
   {
    "duration": 9,
    "start_time": "2023-05-29T15:40:26.886Z"
   },
   {
    "duration": 12,
    "start_time": "2023-05-29T15:40:26.896Z"
   },
   {
    "duration": 28,
    "start_time": "2023-05-29T15:40:26.909Z"
   },
   {
    "duration": 15,
    "start_time": "2023-05-29T15:40:26.939Z"
   },
   {
    "duration": 58,
    "start_time": "2023-05-29T15:40:26.955Z"
   },
   {
    "duration": 17,
    "start_time": "2023-05-29T15:40:27.015Z"
   },
   {
    "duration": 27,
    "start_time": "2023-05-29T15:40:27.033Z"
   },
   {
    "duration": 2579,
    "start_time": "2023-05-29T15:40:27.062Z"
   },
   {
    "duration": 7,
    "start_time": "2023-05-29T15:40:29.643Z"
   },
   {
    "duration": 66,
    "start_time": "2023-05-29T15:40:29.652Z"
   },
   {
    "duration": 3377,
    "start_time": "2023-05-29T15:40:29.720Z"
   },
   {
    "duration": 12,
    "start_time": "2023-05-29T15:40:33.099Z"
   },
   {
    "duration": 58,
    "start_time": "2023-05-29T15:40:33.113Z"
   },
   {
    "duration": 1680,
    "start_time": "2023-05-29T15:40:33.173Z"
   },
   {
    "duration": 182,
    "start_time": "2023-05-29T15:40:34.854Z"
   },
   {
    "duration": 5,
    "start_time": "2023-05-29T15:40:35.037Z"
   },
   {
    "duration": 26,
    "start_time": "2023-05-29T15:40:35.049Z"
   },
   {
    "duration": 505,
    "start_time": "2023-05-29T15:40:35.076Z"
   },
   {
    "duration": 512,
    "start_time": "2023-05-29T15:40:35.583Z"
   },
   {
    "duration": 553,
    "start_time": "2023-05-29T15:40:36.097Z"
   },
   {
    "duration": 499,
    "start_time": "2023-05-29T15:40:36.651Z"
   },
   {
    "duration": 476,
    "start_time": "2023-05-29T15:40:37.152Z"
   },
   {
    "duration": 352,
    "start_time": "2023-05-29T15:40:37.629Z"
   },
   {
    "duration": 432,
    "start_time": "2023-05-29T15:40:37.983Z"
   },
   {
    "duration": 493,
    "start_time": "2023-05-29T15:40:38.416Z"
   },
   {
    "duration": 15,
    "start_time": "2023-05-29T15:40:38.911Z"
   },
   {
    "duration": 3,
    "start_time": "2023-05-29T15:40:38.928Z"
   },
   {
    "duration": 25,
    "start_time": "2023-05-29T15:40:38.932Z"
   },
   {
    "duration": 7,
    "start_time": "2023-05-29T15:40:38.959Z"
   },
   {
    "duration": 12,
    "start_time": "2023-05-29T15:40:38.968Z"
   },
   {
    "duration": 7,
    "start_time": "2023-05-29T15:40:38.981Z"
   },
   {
    "duration": 6,
    "start_time": "2023-05-29T15:40:38.990Z"
   },
   {
    "duration": 21,
    "start_time": "2023-05-29T15:40:54.476Z"
   },
   {
    "duration": 20,
    "start_time": "2023-05-29T15:41:11.142Z"
   },
   {
    "duration": 19,
    "start_time": "2023-05-29T15:41:26.520Z"
   },
   {
    "duration": 2609,
    "start_time": "2023-05-30T08:56:35.161Z"
   },
   {
    "duration": 1080,
    "start_time": "2023-05-30T08:56:37.772Z"
   },
   {
    "duration": 11,
    "start_time": "2023-05-30T08:56:38.853Z"
   },
   {
    "duration": 5,
    "start_time": "2023-05-30T08:56:38.866Z"
   },
   {
    "duration": 18,
    "start_time": "2023-05-30T08:56:38.873Z"
   },
   {
    "duration": 4,
    "start_time": "2023-05-30T08:56:38.892Z"
   },
   {
    "duration": 11,
    "start_time": "2023-05-30T08:56:38.897Z"
   },
   {
    "duration": 9,
    "start_time": "2023-05-30T08:56:38.909Z"
   },
   {
    "duration": 8,
    "start_time": "2023-05-30T08:56:38.920Z"
   },
   {
    "duration": 12,
    "start_time": "2023-05-30T08:56:38.930Z"
   },
   {
    "duration": 48,
    "start_time": "2023-05-30T08:56:38.943Z"
   },
   {
    "duration": 4,
    "start_time": "2023-05-30T08:56:38.992Z"
   },
   {
    "duration": 133,
    "start_time": "2023-05-30T08:56:38.998Z"
   },
   {
    "duration": 4,
    "start_time": "2023-05-30T08:56:39.135Z"
   },
   {
    "duration": 110,
    "start_time": "2023-05-30T08:56:39.141Z"
   },
   {
    "duration": 118,
    "start_time": "2023-05-30T08:56:39.253Z"
   },
   {
    "duration": 18,
    "start_time": "2023-05-30T08:56:39.372Z"
   },
   {
    "duration": 15,
    "start_time": "2023-05-30T08:56:39.392Z"
   },
   {
    "duration": 4,
    "start_time": "2023-05-30T08:56:39.409Z"
   },
   {
    "duration": 6,
    "start_time": "2023-05-30T08:56:39.415Z"
   },
   {
    "duration": 5,
    "start_time": "2023-05-30T08:56:39.423Z"
   },
   {
    "duration": 63,
    "start_time": "2023-05-30T08:56:39.430Z"
   },
   {
    "duration": 4,
    "start_time": "2023-05-30T08:56:39.495Z"
   },
   {
    "duration": 10,
    "start_time": "2023-05-30T08:56:39.500Z"
   },
   {
    "duration": 21,
    "start_time": "2023-05-30T08:56:39.514Z"
   },
   {
    "duration": 53,
    "start_time": "2023-05-30T08:56:39.537Z"
   },
   {
    "duration": 5,
    "start_time": "2023-05-30T08:56:39.592Z"
   },
   {
    "duration": 6,
    "start_time": "2023-05-30T08:56:39.598Z"
   },
   {
    "duration": 20,
    "start_time": "2023-05-30T08:56:39.606Z"
   },
   {
    "duration": 7,
    "start_time": "2023-05-30T08:56:39.628Z"
   },
   {
    "duration": 13,
    "start_time": "2023-05-30T08:56:39.636Z"
   },
   {
    "duration": 48,
    "start_time": "2023-05-30T08:56:39.650Z"
   },
   {
    "duration": 18,
    "start_time": "2023-05-30T08:56:39.700Z"
   },
   {
    "duration": 19,
    "start_time": "2023-05-30T08:56:39.720Z"
   },
   {
    "duration": 2318,
    "start_time": "2023-05-30T08:56:39.740Z"
   },
   {
    "duration": 3,
    "start_time": "2023-05-30T08:56:42.060Z"
   },
   {
    "duration": 70,
    "start_time": "2023-05-30T08:56:42.064Z"
   },
   {
    "duration": 3303,
    "start_time": "2023-05-30T08:56:42.136Z"
   },
   {
    "duration": 13,
    "start_time": "2023-05-30T08:56:45.440Z"
   },
   {
    "duration": 58,
    "start_time": "2023-05-30T08:56:45.454Z"
   },
   {
    "duration": 1700,
    "start_time": "2023-05-30T08:56:45.515Z"
   },
   {
    "duration": 184,
    "start_time": "2023-05-30T08:56:47.217Z"
   },
   {
    "duration": 5,
    "start_time": "2023-05-30T08:56:47.403Z"
   },
   {
    "duration": 28,
    "start_time": "2023-05-30T08:56:47.409Z"
   },
   {
    "duration": 598,
    "start_time": "2023-05-30T08:56:47.439Z"
   },
   {
    "duration": 473,
    "start_time": "2023-05-30T08:56:48.038Z"
   },
   {
    "duration": 562,
    "start_time": "2023-05-30T08:56:48.512Z"
   },
   {
    "duration": 522,
    "start_time": "2023-05-30T08:56:49.077Z"
   },
   {
    "duration": 459,
    "start_time": "2023-05-30T08:56:49.601Z"
   },
   {
    "duration": 339,
    "start_time": "2023-05-30T08:56:50.062Z"
   },
   {
    "duration": 393,
    "start_time": "2023-05-30T08:56:50.402Z"
   },
   {
    "duration": 444,
    "start_time": "2023-05-30T08:56:50.798Z"
   },
   {
    "duration": 13,
    "start_time": "2023-05-30T08:56:51.243Z"
   },
   {
    "duration": 2,
    "start_time": "2023-05-30T08:56:51.258Z"
   },
   {
    "duration": 17,
    "start_time": "2023-05-30T08:56:51.279Z"
   },
   {
    "duration": 11,
    "start_time": "2023-05-30T08:56:51.297Z"
   },
   {
    "duration": 12,
    "start_time": "2023-05-30T08:56:51.309Z"
   },
   {
    "duration": 8,
    "start_time": "2023-05-30T08:56:51.322Z"
   },
   {
    "duration": 12,
    "start_time": "2023-05-30T08:56:51.331Z"
   },
   {
    "duration": 17,
    "start_time": "2023-05-30T08:57:03.555Z"
   },
   {
    "duration": 2593,
    "start_time": "2023-05-30T11:01:18.343Z"
   },
   {
    "duration": 1120,
    "start_time": "2023-05-30T11:01:20.943Z"
   },
   {
    "duration": 15,
    "start_time": "2023-05-30T11:01:22.065Z"
   },
   {
    "duration": 20,
    "start_time": "2023-05-30T11:01:22.082Z"
   },
   {
    "duration": 62,
    "start_time": "2023-05-30T11:01:22.107Z"
   },
   {
    "duration": 8,
    "start_time": "2023-05-30T11:01:22.171Z"
   },
   {
    "duration": 21,
    "start_time": "2023-05-30T11:01:22.181Z"
   },
   {
    "duration": 58,
    "start_time": "2023-05-30T11:01:22.204Z"
   },
   {
    "duration": 10,
    "start_time": "2023-05-30T11:01:22.264Z"
   },
   {
    "duration": 17,
    "start_time": "2023-05-30T11:01:22.277Z"
   },
   {
    "duration": 41,
    "start_time": "2023-05-30T11:01:22.296Z"
   },
   {
    "duration": 24,
    "start_time": "2023-05-30T11:01:22.341Z"
   },
   {
    "duration": 224,
    "start_time": "2023-05-30T11:01:22.367Z"
   },
   {
    "duration": 28,
    "start_time": "2023-05-30T11:01:22.592Z"
   },
   {
    "duration": 58,
    "start_time": "2023-05-30T11:01:22.621Z"
   },
   {
    "duration": 281,
    "start_time": "2023-05-30T11:01:22.682Z"
   },
   {
    "duration": 9,
    "start_time": "2023-05-30T11:01:22.965Z"
   },
   {
    "duration": 50,
    "start_time": "2023-05-30T11:01:22.976Z"
   },
   {
    "duration": 27,
    "start_time": "2023-05-30T11:01:23.028Z"
   },
   {
    "duration": 10,
    "start_time": "2023-05-30T11:01:23.057Z"
   },
   {
    "duration": 9,
    "start_time": "2023-05-30T11:01:23.069Z"
   },
   {
    "duration": 56,
    "start_time": "2023-05-30T11:01:23.080Z"
   },
   {
    "duration": 10,
    "start_time": "2023-05-30T11:01:23.137Z"
   },
   {
    "duration": 16,
    "start_time": "2023-05-30T11:01:23.152Z"
   },
   {
    "duration": 16,
    "start_time": "2023-05-30T11:01:23.169Z"
   },
   {
    "duration": 65,
    "start_time": "2023-05-30T11:01:23.187Z"
   },
   {
    "duration": 8,
    "start_time": "2023-05-30T11:01:23.253Z"
   },
   {
    "duration": 5,
    "start_time": "2023-05-30T11:01:23.265Z"
   },
   {
    "duration": 7,
    "start_time": "2023-05-30T11:01:23.272Z"
   },
   {
    "duration": 37,
    "start_time": "2023-05-30T11:01:23.281Z"
   },
   {
    "duration": 35,
    "start_time": "2023-05-30T11:01:23.329Z"
   },
   {
    "duration": 98,
    "start_time": "2023-05-30T11:01:23.365Z"
   },
   {
    "duration": 24,
    "start_time": "2023-05-30T11:01:23.467Z"
   },
   {
    "duration": 51,
    "start_time": "2023-05-30T11:01:23.493Z"
   },
   {
    "duration": 4773,
    "start_time": "2023-05-30T11:01:23.545Z"
   },
   {
    "duration": 3,
    "start_time": "2023-05-30T11:01:28.320Z"
   },
   {
    "duration": 123,
    "start_time": "2023-05-30T11:01:28.325Z"
   },
   {
    "duration": 4190,
    "start_time": "2023-05-30T11:01:28.450Z"
   },
   {
    "duration": 16,
    "start_time": "2023-05-30T11:01:32.650Z"
   },
   {
    "duration": 82,
    "start_time": "2023-05-30T11:01:32.668Z"
   },
   {
    "duration": 2136,
    "start_time": "2023-05-30T11:01:32.752Z"
   },
   {
    "duration": 274,
    "start_time": "2023-05-30T11:01:34.889Z"
   },
   {
    "duration": 4,
    "start_time": "2023-05-30T11:01:35.165Z"
   },
   {
    "duration": 89,
    "start_time": "2023-05-30T11:01:35.171Z"
   },
   {
    "duration": 706,
    "start_time": "2023-05-30T11:01:35.261Z"
   },
   {
    "duration": 637,
    "start_time": "2023-05-30T11:01:35.969Z"
   },
   {
    "duration": 731,
    "start_time": "2023-05-30T11:01:36.614Z"
   },
   {
    "duration": 677,
    "start_time": "2023-05-30T11:01:37.346Z"
   },
   {
    "duration": 589,
    "start_time": "2023-05-30T11:01:38.037Z"
   },
   {
    "duration": 406,
    "start_time": "2023-05-30T11:01:38.628Z"
   },
   {
    "duration": 515,
    "start_time": "2023-05-30T11:01:39.040Z"
   },
   {
    "duration": 646,
    "start_time": "2023-05-30T11:01:39.557Z"
   },
   {
    "duration": 33,
    "start_time": "2023-05-30T11:01:40.214Z"
   },
   {
    "duration": 33,
    "start_time": "2023-05-30T11:01:40.249Z"
   },
   {
    "duration": 63,
    "start_time": "2023-05-30T11:01:40.284Z"
   },
   {
    "duration": 35,
    "start_time": "2023-05-30T11:01:40.349Z"
   },
   {
    "duration": 70,
    "start_time": "2023-05-30T11:01:40.386Z"
   },
   {
    "duration": 46,
    "start_time": "2023-05-30T11:01:40.458Z"
   },
   {
    "duration": 81,
    "start_time": "2023-05-30T11:01:40.506Z"
   },
   {
    "duration": 2119,
    "start_time": "2023-05-30T11:03:00.165Z"
   },
   {
    "duration": 1169,
    "start_time": "2023-05-30T11:03:02.287Z"
   },
   {
    "duration": 16,
    "start_time": "2023-05-30T11:03:03.460Z"
   },
   {
    "duration": 31,
    "start_time": "2023-05-30T11:03:03.478Z"
   },
   {
    "duration": 82,
    "start_time": "2023-05-30T11:03:03.511Z"
   },
   {
    "duration": 82,
    "start_time": "2023-05-30T11:03:03.596Z"
   },
   {
    "duration": 62,
    "start_time": "2023-05-30T11:03:03.680Z"
   },
   {
    "duration": 23,
    "start_time": "2023-05-30T11:03:03.744Z"
   },
   {
    "duration": 21,
    "start_time": "2023-05-30T11:03:03.769Z"
   },
   {
    "duration": 51,
    "start_time": "2023-05-30T11:03:03.793Z"
   },
   {
    "duration": 11,
    "start_time": "2023-05-30T11:03:03.846Z"
   },
   {
    "duration": 17,
    "start_time": "2023-05-30T11:03:03.859Z"
   },
   {
    "duration": 191,
    "start_time": "2023-05-30T11:03:03.878Z"
   },
   {
    "duration": 7,
    "start_time": "2023-05-30T11:03:04.071Z"
   },
   {
    "duration": 135,
    "start_time": "2023-05-30T11:03:04.080Z"
   },
   {
    "duration": 172,
    "start_time": "2023-05-30T11:03:04.218Z"
   },
   {
    "duration": 33,
    "start_time": "2023-05-30T11:03:04.391Z"
   },
   {
    "duration": 38,
    "start_time": "2023-05-30T11:03:04.425Z"
   },
   {
    "duration": 9,
    "start_time": "2023-05-30T11:03:04.465Z"
   },
   {
    "duration": 25,
    "start_time": "2023-05-30T11:03:04.476Z"
   },
   {
    "duration": 73,
    "start_time": "2023-05-30T11:03:04.503Z"
   },
   {
    "duration": 30,
    "start_time": "2023-05-30T11:03:04.578Z"
   },
   {
    "duration": 6,
    "start_time": "2023-05-30T11:03:04.610Z"
   },
   {
    "duration": 48,
    "start_time": "2023-05-30T11:03:04.618Z"
   },
   {
    "duration": 25,
    "start_time": "2023-05-30T11:03:04.668Z"
   },
   {
    "duration": 71,
    "start_time": "2023-05-30T11:03:04.695Z"
   },
   {
    "duration": 6,
    "start_time": "2023-05-30T11:03:04.768Z"
   },
   {
    "duration": 13,
    "start_time": "2023-05-30T11:03:04.778Z"
   },
   {
    "duration": 82,
    "start_time": "2023-05-30T11:03:04.794Z"
   },
   {
    "duration": 23,
    "start_time": "2023-05-30T11:03:04.878Z"
   },
   {
    "duration": 45,
    "start_time": "2023-05-30T11:03:04.913Z"
   },
   {
    "duration": 89,
    "start_time": "2023-05-30T11:03:04.960Z"
   },
   {
    "duration": 21,
    "start_time": "2023-05-30T11:03:05.053Z"
   },
   {
    "duration": 39,
    "start_time": "2023-05-30T11:03:05.076Z"
   },
   {
    "duration": 3473,
    "start_time": "2023-05-30T11:03:05.123Z"
   },
   {
    "duration": 5,
    "start_time": "2023-05-30T11:03:08.600Z"
   },
   {
    "duration": 139,
    "start_time": "2023-05-30T11:03:08.607Z"
   },
   {
    "duration": 4505,
    "start_time": "2023-05-30T11:03:08.748Z"
   },
   {
    "duration": 19,
    "start_time": "2023-05-30T11:03:13.257Z"
   },
   {
    "duration": 75,
    "start_time": "2023-05-30T11:03:13.278Z"
   },
   {
    "duration": 2426,
    "start_time": "2023-05-30T11:03:13.355Z"
   },
   {
    "duration": 305,
    "start_time": "2023-05-30T11:03:15.783Z"
   },
   {
    "duration": 7,
    "start_time": "2023-05-30T11:03:16.090Z"
   },
   {
    "duration": 74,
    "start_time": "2023-05-30T11:03:16.109Z"
   },
   {
    "duration": 799,
    "start_time": "2023-05-30T11:03:16.185Z"
   },
   {
    "duration": 853,
    "start_time": "2023-05-30T11:03:16.987Z"
   },
   {
    "duration": 740,
    "start_time": "2023-05-30T11:03:17.844Z"
   },
   {
    "duration": 671,
    "start_time": "2023-05-30T11:03:18.586Z"
   },
   {
    "duration": 597,
    "start_time": "2023-05-30T11:03:19.259Z"
   },
   {
    "duration": 460,
    "start_time": "2023-05-30T11:03:19.858Z"
   },
   {
    "duration": 523,
    "start_time": "2023-05-30T11:03:20.328Z"
   },
   {
    "duration": 643,
    "start_time": "2023-05-30T11:03:20.853Z"
   },
   {
    "duration": 25,
    "start_time": "2023-05-30T11:03:21.520Z"
   },
   {
    "duration": 6,
    "start_time": "2023-05-30T11:03:21.548Z"
   },
   {
    "duration": 12,
    "start_time": "2023-05-30T11:03:21.555Z"
   },
   {
    "duration": 7,
    "start_time": "2023-05-30T11:03:21.568Z"
   },
   {
    "duration": 13,
    "start_time": "2023-05-30T11:03:21.576Z"
   },
   {
    "duration": 22,
    "start_time": "2023-05-30T11:03:21.591Z"
   },
   {
    "duration": 40,
    "start_time": "2023-05-30T11:03:21.620Z"
   },
   {
    "duration": 46,
    "start_time": "2023-05-30T11:03:26.089Z"
   },
   {
    "duration": 189,
    "start_time": "2023-05-30T11:04:25.946Z"
   },
   {
    "duration": 17,
    "start_time": "2023-05-30T11:04:33.618Z"
   },
   {
    "duration": 28,
    "start_time": "2023-05-30T11:04:38.594Z"
   },
   {
    "duration": 8,
    "start_time": "2023-05-30T11:05:09.982Z"
   },
   {
    "duration": 19,
    "start_time": "2023-05-30T11:05:14.540Z"
   },
   {
    "duration": 5,
    "start_time": "2023-05-30T11:06:58.068Z"
   },
   {
    "duration": 23,
    "start_time": "2023-05-30T11:07:00.325Z"
   },
   {
    "duration": 2015,
    "start_time": "2023-05-30T11:07:24.227Z"
   },
   {
    "duration": 1032,
    "start_time": "2023-05-30T11:07:26.245Z"
   },
   {
    "duration": 14,
    "start_time": "2023-05-30T11:07:27.278Z"
   },
   {
    "duration": 54,
    "start_time": "2023-05-30T11:07:27.294Z"
   },
   {
    "duration": 15,
    "start_time": "2023-05-30T11:07:27.352Z"
   },
   {
    "duration": 8,
    "start_time": "2023-05-30T11:07:27.369Z"
   },
   {
    "duration": 29,
    "start_time": "2023-05-30T11:07:27.379Z"
   },
   {
    "duration": 50,
    "start_time": "2023-05-30T11:07:27.410Z"
   },
   {
    "duration": 17,
    "start_time": "2023-05-30T11:07:27.461Z"
   },
   {
    "duration": 10,
    "start_time": "2023-05-30T11:07:27.480Z"
   },
   {
    "duration": 23,
    "start_time": "2023-05-30T11:07:27.492Z"
   },
   {
    "duration": 49,
    "start_time": "2023-05-30T11:07:27.525Z"
   },
   {
    "duration": 203,
    "start_time": "2023-05-30T11:07:27.575Z"
   },
   {
    "duration": 6,
    "start_time": "2023-05-30T11:07:27.781Z"
   },
   {
    "duration": 157,
    "start_time": "2023-05-30T11:07:27.789Z"
   },
   {
    "duration": 209,
    "start_time": "2023-05-30T11:07:27.948Z"
   },
   {
    "duration": 8,
    "start_time": "2023-05-30T11:07:28.159Z"
   },
   {
    "duration": 21,
    "start_time": "2023-05-30T11:07:28.169Z"
   },
   {
    "duration": 16,
    "start_time": "2023-05-30T11:07:28.199Z"
   },
   {
    "duration": 36,
    "start_time": "2023-05-30T11:07:28.218Z"
   },
   {
    "duration": 12,
    "start_time": "2023-05-30T11:07:28.256Z"
   },
   {
    "duration": 44,
    "start_time": "2023-05-30T11:07:28.270Z"
   },
   {
    "duration": 30,
    "start_time": "2023-05-30T11:07:28.317Z"
   },
   {
    "duration": 32,
    "start_time": "2023-05-30T11:07:28.348Z"
   },
   {
    "duration": 30,
    "start_time": "2023-05-30T11:07:28.382Z"
   },
   {
    "duration": 66,
    "start_time": "2023-05-30T11:07:28.414Z"
   },
   {
    "duration": 11,
    "start_time": "2023-05-30T11:07:28.482Z"
   },
   {
    "duration": 49,
    "start_time": "2023-05-30T11:07:28.495Z"
   },
   {
    "duration": 21,
    "start_time": "2023-05-30T11:07:28.547Z"
   },
   {
    "duration": 23,
    "start_time": "2023-05-30T11:07:28.569Z"
   },
   {
    "duration": 70,
    "start_time": "2023-05-30T11:07:28.594Z"
   },
   {
    "duration": 82,
    "start_time": "2023-05-30T11:07:28.666Z"
   },
   {
    "duration": 20,
    "start_time": "2023-05-30T11:07:28.750Z"
   },
   {
    "duration": 56,
    "start_time": "2023-05-30T11:07:28.772Z"
   },
   {
    "duration": 3068,
    "start_time": "2023-05-30T11:07:28.830Z"
   },
   {
    "duration": 18,
    "start_time": "2023-05-30T11:07:31.906Z"
   },
   {
    "duration": 139,
    "start_time": "2023-05-30T11:07:31.926Z"
   },
   {
    "duration": 4586,
    "start_time": "2023-05-30T11:07:32.068Z"
   },
   {
    "duration": 24,
    "start_time": "2023-05-30T11:07:36.664Z"
   },
   {
    "duration": 159,
    "start_time": "2023-05-30T11:07:36.691Z"
   },
   {
    "duration": 2613,
    "start_time": "2023-05-30T11:07:36.855Z"
   },
   {
    "duration": 242,
    "start_time": "2023-05-30T11:07:39.469Z"
   },
   {
    "duration": 9,
    "start_time": "2023-05-30T11:07:39.713Z"
   },
   {
    "duration": 60,
    "start_time": "2023-05-30T11:07:39.724Z"
   },
   {
    "duration": 691,
    "start_time": "2023-05-30T11:07:39.787Z"
   },
   {
    "duration": 803,
    "start_time": "2023-05-30T11:07:40.479Z"
   },
   {
    "duration": 801,
    "start_time": "2023-05-30T11:07:41.285Z"
   },
   {
    "duration": 732,
    "start_time": "2023-05-30T11:07:42.088Z"
   },
   {
    "duration": 730,
    "start_time": "2023-05-30T11:07:42.822Z"
   },
   {
    "duration": 515,
    "start_time": "2023-05-30T11:07:43.557Z"
   },
   {
    "duration": 619,
    "start_time": "2023-05-30T11:07:44.074Z"
   },
   {
    "duration": 688,
    "start_time": "2023-05-30T11:07:44.696Z"
   },
   {
    "duration": 43,
    "start_time": "2023-05-30T11:07:45.385Z"
   },
   {
    "duration": 39,
    "start_time": "2023-05-30T11:07:45.431Z"
   },
   {
    "duration": 23,
    "start_time": "2023-05-30T11:07:45.473Z"
   },
   {
    "duration": 32,
    "start_time": "2023-05-30T11:07:45.504Z"
   },
   {
    "duration": 73,
    "start_time": "2023-05-30T11:07:45.546Z"
   },
   {
    "duration": 28,
    "start_time": "2023-05-30T11:07:45.625Z"
   },
   {
    "duration": 13,
    "start_time": "2023-05-30T11:07:45.655Z"
   },
   {
    "duration": 42,
    "start_time": "2023-05-30T11:08:05.495Z"
   },
   {
    "duration": 19,
    "start_time": "2023-05-30T11:08:15.942Z"
   },
   {
    "duration": 23,
    "start_time": "2023-05-30T11:11:32.521Z"
   },
   {
    "duration": 17,
    "start_time": "2023-05-30T11:13:52.450Z"
   },
   {
    "duration": 3,
    "start_time": "2023-05-30T11:14:56.050Z"
   },
   {
    "duration": 22,
    "start_time": "2023-05-30T11:15:00.866Z"
   },
   {
    "duration": 11,
    "start_time": "2023-05-30T11:19:13.225Z"
   },
   {
    "duration": 19,
    "start_time": "2023-05-30T11:19:32.379Z"
   },
   {
    "duration": 15,
    "start_time": "2023-05-30T11:19:53.634Z"
   },
   {
    "duration": 6,
    "start_time": "2023-05-30T11:51:10.359Z"
   },
   {
    "duration": 1847,
    "start_time": "2023-05-30T11:51:21.929Z"
   },
   {
    "duration": 1430,
    "start_time": "2023-05-30T11:51:23.779Z"
   },
   {
    "duration": 23,
    "start_time": "2023-05-30T11:51:25.213Z"
   },
   {
    "duration": 14,
    "start_time": "2023-05-30T11:51:25.238Z"
   },
   {
    "duration": 47,
    "start_time": "2023-05-30T11:51:25.255Z"
   },
   {
    "duration": 46,
    "start_time": "2023-05-30T11:51:25.304Z"
   },
   {
    "duration": 24,
    "start_time": "2023-05-30T11:51:25.352Z"
   },
   {
    "duration": 35,
    "start_time": "2023-05-30T11:51:25.378Z"
   },
   {
    "duration": 55,
    "start_time": "2023-05-30T11:51:25.418Z"
   },
   {
    "duration": 67,
    "start_time": "2023-05-30T11:51:25.475Z"
   },
   {
    "duration": 20,
    "start_time": "2023-05-30T11:51:25.544Z"
   },
   {
    "duration": 196,
    "start_time": "2023-05-30T11:51:25.565Z"
   },
   {
    "duration": 6,
    "start_time": "2023-05-30T11:51:25.763Z"
   },
   {
    "duration": 119,
    "start_time": "2023-05-30T11:51:25.772Z"
   },
   {
    "duration": 175,
    "start_time": "2023-05-30T11:51:25.893Z"
   },
   {
    "duration": 10,
    "start_time": "2023-05-30T11:51:26.070Z"
   },
   {
    "duration": 69,
    "start_time": "2023-05-30T11:51:26.081Z"
   },
   {
    "duration": 14,
    "start_time": "2023-05-30T11:51:26.152Z"
   },
   {
    "duration": 12,
    "start_time": "2023-05-30T11:51:26.168Z"
   },
   {
    "duration": 6,
    "start_time": "2023-05-30T11:51:26.182Z"
   },
   {
    "duration": 37,
    "start_time": "2023-05-30T11:51:26.189Z"
   },
   {
    "duration": 20,
    "start_time": "2023-05-30T11:51:26.227Z"
   },
   {
    "duration": 12,
    "start_time": "2023-05-30T11:51:26.249Z"
   },
   {
    "duration": 19,
    "start_time": "2023-05-30T11:51:26.262Z"
   },
   {
    "duration": 52,
    "start_time": "2023-05-30T11:51:26.283Z"
   },
   {
    "duration": 6,
    "start_time": "2023-05-30T11:51:26.337Z"
   },
   {
    "duration": 11,
    "start_time": "2023-05-30T11:51:26.345Z"
   },
   {
    "duration": 13,
    "start_time": "2023-05-30T11:51:26.357Z"
   },
   {
    "duration": 7,
    "start_time": "2023-05-30T11:51:26.372Z"
   },
   {
    "duration": 41,
    "start_time": "2023-05-30T11:51:26.381Z"
   },
   {
    "duration": 72,
    "start_time": "2023-05-30T11:51:26.423Z"
   },
   {
    "duration": 42,
    "start_time": "2023-05-30T11:51:26.498Z"
   },
   {
    "duration": 22,
    "start_time": "2023-05-30T11:51:26.542Z"
   },
   {
    "duration": 2810,
    "start_time": "2023-05-30T11:51:26.566Z"
   },
   {
    "duration": 4,
    "start_time": "2023-05-30T11:51:29.378Z"
   },
   {
    "duration": 94,
    "start_time": "2023-05-30T11:51:29.384Z"
   },
   {
    "duration": 4117,
    "start_time": "2023-05-30T11:51:29.480Z"
   },
   {
    "duration": 27,
    "start_time": "2023-05-30T11:51:33.599Z"
   },
   {
    "duration": 63,
    "start_time": "2023-05-30T11:51:33.628Z"
   },
   {
    "duration": 1986,
    "start_time": "2023-05-30T11:51:33.693Z"
   },
   {
    "duration": 248,
    "start_time": "2023-05-30T11:51:35.683Z"
   },
   {
    "duration": 5,
    "start_time": "2023-05-30T11:51:35.933Z"
   },
   {
    "duration": 47,
    "start_time": "2023-05-30T11:51:35.940Z"
   },
   {
    "duration": 620,
    "start_time": "2023-05-30T11:51:35.989Z"
   },
   {
    "duration": 641,
    "start_time": "2023-05-30T11:51:36.615Z"
   },
   {
    "duration": 698,
    "start_time": "2023-05-30T11:51:37.258Z"
   },
   {
    "duration": 607,
    "start_time": "2023-05-30T11:51:37.958Z"
   },
   {
    "duration": 610,
    "start_time": "2023-05-30T11:51:38.567Z"
   },
   {
    "duration": 444,
    "start_time": "2023-05-30T11:51:39.179Z"
   },
   {
    "duration": 504,
    "start_time": "2023-05-30T11:51:39.627Z"
   },
   {
    "duration": 597,
    "start_time": "2023-05-30T11:51:40.134Z"
   },
   {
    "duration": 14,
    "start_time": "2023-05-30T11:51:40.733Z"
   },
   {
    "duration": 3,
    "start_time": "2023-05-30T11:51:40.749Z"
   },
   {
    "duration": 12,
    "start_time": "2023-05-30T11:51:40.754Z"
   },
   {
    "duration": 10,
    "start_time": "2023-05-30T11:51:40.768Z"
   },
   {
    "duration": 27,
    "start_time": "2023-05-30T11:51:40.800Z"
   },
   {
    "duration": 9,
    "start_time": "2023-05-30T11:51:40.830Z"
   },
   {
    "duration": 8,
    "start_time": "2023-05-30T11:51:40.841Z"
   },
   {
    "duration": 17,
    "start_time": "2023-05-30T12:06:08.137Z"
   },
   {
    "duration": 2645,
    "start_time": "2023-05-30T12:06:27.898Z"
   },
   {
    "duration": 3647,
    "start_time": "2023-05-30T12:06:48.650Z"
   },
   {
    "duration": 24,
    "start_time": "2023-05-30T12:06:56.463Z"
   },
   {
    "duration": 6,
    "start_time": "2023-05-30T12:07:10.919Z"
   },
   {
    "duration": 5,
    "start_time": "2023-05-30T12:07:16.048Z"
   },
   {
    "duration": 4,
    "start_time": "2023-05-30T12:10:10.181Z"
   },
   {
    "duration": 134,
    "start_time": "2023-05-30T12:11:39.853Z"
   },
   {
    "duration": 372,
    "start_time": "2023-05-30T12:13:09.276Z"
   },
   {
    "duration": 229,
    "start_time": "2023-05-30T12:13:33.557Z"
   },
   {
    "duration": 5,
    "start_time": "2023-05-30T12:17:18.786Z"
   },
   {
    "duration": 59,
    "start_time": "2023-05-30T13:18:48.925Z"
   },
   {
    "duration": 7,
    "start_time": "2023-05-30T13:19:56.760Z"
   },
   {
    "duration": 102,
    "start_time": "2023-05-30T13:27:42.975Z"
   },
   {
    "duration": 190,
    "start_time": "2023-05-30T13:28:11.510Z"
   },
   {
    "duration": 16,
    "start_time": "2023-05-30T13:28:27.413Z"
   },
   {
    "duration": 201,
    "start_time": "2023-05-30T13:28:56.319Z"
   },
   {
    "duration": 102,
    "start_time": "2023-05-30T13:30:20.291Z"
   },
   {
    "duration": 8,
    "start_time": "2023-05-30T13:33:09.551Z"
   },
   {
    "duration": 86,
    "start_time": "2023-05-30T13:36:00.682Z"
   },
   {
    "duration": 4630,
    "start_time": "2023-05-30T15:12:16.475Z"
   },
   {
    "duration": 5711,
    "start_time": "2023-05-30T15:12:21.108Z"
   },
   {
    "duration": 17,
    "start_time": "2023-05-30T15:12:26.821Z"
   },
   {
    "duration": 19,
    "start_time": "2023-05-30T15:12:26.841Z"
   },
   {
    "duration": 61,
    "start_time": "2023-05-30T15:12:26.863Z"
   },
   {
    "duration": 11,
    "start_time": "2023-05-30T15:12:26.926Z"
   },
   {
    "duration": 21,
    "start_time": "2023-05-30T15:12:26.939Z"
   },
   {
    "duration": 63,
    "start_time": "2023-05-30T15:12:26.962Z"
   },
   {
    "duration": 11,
    "start_time": "2023-05-30T15:12:27.027Z"
   },
   {
    "duration": 84,
    "start_time": "2023-05-30T15:12:27.040Z"
   },
   {
    "duration": 5,
    "start_time": "2023-05-30T15:12:27.127Z"
   },
   {
    "duration": 193,
    "start_time": "2023-05-30T15:12:27.134Z"
   },
   {
    "duration": 5,
    "start_time": "2023-05-30T15:12:27.330Z"
   },
   {
    "duration": 135,
    "start_time": "2023-05-30T15:12:27.346Z"
   },
   {
    "duration": 163,
    "start_time": "2023-05-30T15:12:27.483Z"
   },
   {
    "duration": 11,
    "start_time": "2023-05-30T15:12:27.648Z"
   },
   {
    "duration": 70,
    "start_time": "2023-05-30T15:12:27.667Z"
   },
   {
    "duration": 76,
    "start_time": "2023-05-30T15:12:27.739Z"
   },
   {
    "duration": 18,
    "start_time": "2023-05-30T15:12:27.817Z"
   },
   {
    "duration": 80,
    "start_time": "2023-05-30T15:12:27.837Z"
   },
   {
    "duration": 89,
    "start_time": "2023-05-30T15:12:27.919Z"
   },
   {
    "duration": 44,
    "start_time": "2023-05-30T15:12:28.010Z"
   },
   {
    "duration": 81,
    "start_time": "2023-05-30T15:12:28.055Z"
   },
   {
    "duration": 96,
    "start_time": "2023-05-30T15:12:28.138Z"
   },
   {
    "duration": 51,
    "start_time": "2023-05-30T15:12:28.235Z"
   },
   {
    "duration": 32,
    "start_time": "2023-05-30T15:12:28.287Z"
   },
   {
    "duration": 33,
    "start_time": "2023-05-30T15:12:28.320Z"
   },
   {
    "duration": 12,
    "start_time": "2023-05-30T15:12:28.354Z"
   },
   {
    "duration": 54,
    "start_time": "2023-05-30T15:12:28.368Z"
   },
   {
    "duration": 20,
    "start_time": "2023-05-30T15:12:28.423Z"
   },
   {
    "duration": 128,
    "start_time": "2023-05-30T15:12:28.449Z"
   },
   {
    "duration": 27,
    "start_time": "2023-05-30T15:12:28.578Z"
   },
   {
    "duration": 32,
    "start_time": "2023-05-30T15:12:28.607Z"
   },
   {
    "duration": 5442,
    "start_time": "2023-05-30T15:12:28.641Z"
   },
   {
    "duration": 9,
    "start_time": "2023-05-30T15:12:34.085Z"
   },
   {
    "duration": 125,
    "start_time": "2023-05-30T15:12:34.096Z"
   },
   {
    "duration": 4051,
    "start_time": "2023-05-30T15:12:34.223Z"
   },
   {
    "duration": 20,
    "start_time": "2023-05-30T15:12:38.276Z"
   },
   {
    "duration": 71,
    "start_time": "2023-05-30T15:12:38.298Z"
   },
   {
    "duration": 2127,
    "start_time": "2023-05-30T15:12:38.371Z"
   },
   {
    "duration": 246,
    "start_time": "2023-05-30T15:12:40.506Z"
   },
   {
    "duration": 6,
    "start_time": "2023-05-30T15:12:40.754Z"
   },
   {
    "duration": 104,
    "start_time": "2023-05-30T15:12:40.765Z"
   },
   {
    "duration": 710,
    "start_time": "2023-05-30T15:12:40.873Z"
   },
   {
    "duration": 645,
    "start_time": "2023-05-30T15:12:41.584Z"
   },
   {
    "duration": 806,
    "start_time": "2023-05-30T15:12:42.231Z"
   },
   {
    "duration": 860,
    "start_time": "2023-05-30T15:12:43.054Z"
   },
   {
    "duration": 718,
    "start_time": "2023-05-30T15:12:43.918Z"
   },
   {
    "duration": 474,
    "start_time": "2023-05-30T15:12:44.638Z"
   },
   {
    "duration": 513,
    "start_time": "2023-05-30T15:12:45.114Z"
   },
   {
    "duration": 645,
    "start_time": "2023-05-30T15:12:45.629Z"
   },
   {
    "duration": 6,
    "start_time": "2023-05-30T15:12:46.280Z"
   },
   {
    "duration": 138,
    "start_time": "2023-05-30T15:12:46.291Z"
   },
   {
    "duration": 73,
    "start_time": "2023-05-30T15:12:46.431Z"
   },
   {
    "duration": 47,
    "start_time": "2023-05-30T15:12:46.508Z"
   }
  ],
  "kernelspec": {
   "display_name": "Python 3 (ipykernel)",
   "language": "python",
   "name": "python3"
  },
  "language_info": {
   "codemirror_mode": {
    "name": "ipython",
    "version": 3
   },
   "file_extension": ".py",
   "mimetype": "text/x-python",
   "name": "python",
   "nbconvert_exporter": "python",
   "pygments_lexer": "ipython3",
   "version": "3.9.13"
  },
  "toc": {
   "base_numbering": 1,
   "nav_menu": {},
   "number_sections": true,
   "sideBar": true,
   "skip_h1_title": true,
   "title_cell": "Table of Contents",
   "title_sidebar": "Contents",
   "toc_cell": false,
   "toc_position": {},
   "toc_section_display": true,
   "toc_window_display": true
  }
 },
 "nbformat": 4,
 "nbformat_minor": 4
}
