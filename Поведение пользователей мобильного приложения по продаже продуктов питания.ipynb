{
 "cells": [
  {
   "cell_type": "markdown",
   "metadata": {},
   "source": [
    "# Поведение пользователей мобильного приложения по продаже продуктов питания"
   ]
  },
  {
   "cell_type": "markdown",
   "metadata": {},
   "source": [
    "Наш стартап продаёт продукты питания. Нужно разобраться, как ведут себя пользователи мобильного приложения. \n",
    "\n",
    "Для этого В ходе исследовательского анализа данных будут совершены следующие действия:\n",
    "\n",
    "1. Изучение воронку продаж. Анализ, как пользователи доходят до покупки. Сколько пользователей доходит до покупки, а сколько — «застревает» на предыдущих шагах.\n",
    "2. Исследование результаты A/A/B-эксперимента. Пользователей разбили на 3 группы: 2 контрольные со старыми шрифтами и одну экспериментальную — с новыми. "
   ]
  },
  {
   "cell_type": "markdown",
   "metadata": {},
   "source": [
    "### Открытие файла с данными и изучение общей информации. "
   ]
  },
  {
   "cell_type": "code",
   "execution_count": 1,
   "metadata": {},
   "outputs": [],
   "source": [
    "#импортируем необходимые библиотеки\n",
    "import pandas as pd\n",
    "import datetime as dt\n",
    "import seaborn as sns\n",
    "import matplotlib.pyplot as plt\n",
    "import warnings\n",
    "warnings.filterwarnings(\"ignore\")\n",
    "from scipy import stats as st\n",
    "import numpy as np\n",
    "import math as mth"
   ]
  },
  {
   "cell_type": "code",
   "execution_count": 2,
   "metadata": {},
   "outputs": [],
   "source": [
    "logs = pd.read_csv('/datasets/...')"
   ]
  },
  {
   "cell_type": "code",
   "execution_count": 3,
   "metadata": {},
   "outputs": [
    {
     "data": {
      "text/html": [
       "<div>\n",
       "<style scoped>\n",
       "    .dataframe tbody tr th:only-of-type {\n",
       "        vertical-align: middle;\n",
       "    }\n",
       "\n",
       "    .dataframe tbody tr th {\n",
       "        vertical-align: top;\n",
       "    }\n",
       "\n",
       "    .dataframe thead th {\n",
       "        text-align: right;\n",
       "    }\n",
       "</style>\n",
       "<table border=\"1\" class=\"dataframe\">\n",
       "  <thead>\n",
       "    <tr style=\"text-align: right;\">\n",
       "      <th></th>\n",
       "      <th>EventName</th>\n",
       "      <th>DeviceIDHash</th>\n",
       "      <th>EventTimestamp</th>\n",
       "      <th>ExpId</th>\n",
       "    </tr>\n",
       "  </thead>\n",
       "  <tbody>\n",
       "    <tr>\n",
       "      <th>0</th>\n",
       "      <td>MainScreenAppear</td>\n",
       "      <td>4575588528974610257</td>\n",
       "      <td>1564029816</td>\n",
       "      <td>246</td>\n",
       "    </tr>\n",
       "    <tr>\n",
       "      <th>1</th>\n",
       "      <td>MainScreenAppear</td>\n",
       "      <td>7416695313311560658</td>\n",
       "      <td>1564053102</td>\n",
       "      <td>246</td>\n",
       "    </tr>\n",
       "    <tr>\n",
       "      <th>2</th>\n",
       "      <td>PaymentScreenSuccessful</td>\n",
       "      <td>3518123091307005509</td>\n",
       "      <td>1564054127</td>\n",
       "      <td>248</td>\n",
       "    </tr>\n",
       "    <tr>\n",
       "      <th>3</th>\n",
       "      <td>CartScreenAppear</td>\n",
       "      <td>3518123091307005509</td>\n",
       "      <td>1564054127</td>\n",
       "      <td>248</td>\n",
       "    </tr>\n",
       "    <tr>\n",
       "      <th>4</th>\n",
       "      <td>PaymentScreenSuccessful</td>\n",
       "      <td>6217807653094995999</td>\n",
       "      <td>1564055322</td>\n",
       "      <td>248</td>\n",
       "    </tr>\n",
       "  </tbody>\n",
       "</table>\n",
       "</div>"
      ],
      "text/plain": [
       "                 EventName         DeviceIDHash  EventTimestamp  ExpId\n",
       "0         MainScreenAppear  4575588528974610257      1564029816    246\n",
       "1         MainScreenAppear  7416695313311560658      1564053102    246\n",
       "2  PaymentScreenSuccessful  3518123091307005509      1564054127    248\n",
       "3         CartScreenAppear  3518123091307005509      1564054127    248\n",
       "4  PaymentScreenSuccessful  6217807653094995999      1564055322    248"
      ]
     },
     "execution_count": 3,
     "metadata": {},
     "output_type": "execute_result"
    }
   ],
   "source": [
    "#выводим 5 первых строк, чтобы взглянуть на саму таблицу\n",
    "logs.head()"
   ]
  },
  {
   "cell_type": "code",
   "execution_count": 4,
   "metadata": {},
   "outputs": [
    {
     "name": "stdout",
     "output_type": "stream",
     "text": [
      "<class 'pandas.core.frame.DataFrame'>\n",
      "RangeIndex: 244126 entries, 0 to 244125\n",
      "Data columns (total 4 columns):\n",
      " #   Column          Non-Null Count   Dtype \n",
      "---  ------          --------------   ----- \n",
      " 0   EventName       244126 non-null  object\n",
      " 1   DeviceIDHash    244126 non-null  int64 \n",
      " 2   EventTimestamp  244126 non-null  int64 \n",
      " 3   ExpId           244126 non-null  int64 \n",
      "dtypes: int64(3), object(1)\n",
      "memory usage: 7.5+ MB\n"
     ]
    }
   ],
   "source": [
    "#выводим общую информацию по ДФ\n",
    "logs.info()"
   ]
  },
  {
   "cell_type": "code",
   "execution_count": 5,
   "metadata": {},
   "outputs": [
    {
     "data": {
      "text/plain": [
       "(244126, 4)"
      ]
     },
     "execution_count": 5,
     "metadata": {},
     "output_type": "execute_result"
    }
   ],
   "source": [
    "#выводим размеры ДФ\n",
    "logs.shape"
   ]
  },
  {
   "cell_type": "markdown",
   "metadata": {},
   "source": [
    "На первый взгляд, таблица состоит из 4 столбцов и 244126 строк, 3 столбца из которых содержат целые числа, а 1 - строчные значения. Также в таблице отсутствуют пропуски."
   ]
  },
  {
   "cell_type": "markdown",
   "metadata": {},
   "source": [
    "### Подготовка данных. "
   ]
  },
  {
   "cell_type": "markdown",
   "metadata": {},
   "source": [
    "Заменим названия столбцов."
   ]
  },
  {
   "cell_type": "code",
   "execution_count": 6,
   "metadata": {},
   "outputs": [],
   "source": [
    "logs = logs.rename(\n",
    "    columns={\n",
    "        'EventName': 'event_name',\n",
    "        'DeviceIDHash': 'device_id',\n",
    "        'EventTimestamp': 'datetime',\n",
    "        'ExpId': 'experiment_id'\n",
    "    }\n",
    ")"
   ]
  },
  {
   "cell_type": "markdown",
   "metadata": {},
   "source": [
    "Исходя из полученных выше данных, пропусков в столбцах нет. Однако, столбец с датой следует привести в надлежащий вид."
   ]
  },
  {
   "cell_type": "code",
   "execution_count": 7,
   "metadata": {},
   "outputs": [],
   "source": [
    "logs['datetime'] = pd.to_datetime(logs['datetime'], unit='s')"
   ]
  },
  {
   "cell_type": "code",
   "execution_count": 8,
   "metadata": {},
   "outputs": [],
   "source": [
    "#добавим дополнительный столбец только с датой\n",
    "logs['date'] = pd.to_datetime(logs['datetime']).dt.date"
   ]
  },
  {
   "cell_type": "code",
   "execution_count": 9,
   "metadata": {},
   "outputs": [
    {
     "name": "stdout",
     "output_type": "stream",
     "text": [
      "413\n"
     ]
    }
   ],
   "source": [
    "#проверим ДФ на наличие явных дубликатов\n",
    "print(logs.duplicated().sum())\n",
    "\n",
    "#удалим их\n",
    "logs = logs.drop_duplicates()"
   ]
  },
  {
   "cell_type": "markdown",
   "metadata": {},
   "source": [
    "### Изучение и проверка данных."
   ]
  },
  {
   "cell_type": "markdown",
   "metadata": {},
   "source": [
    "**Сколько всего событий в логе?**"
   ]
  },
  {
   "cell_type": "code",
   "execution_count": 11,
   "metadata": {},
   "outputs": [
    {
     "name": "stdout",
     "output_type": "stream",
     "text": [
      "Всего в логе 243713 событий.\n"
     ]
    }
   ],
   "source": [
    "print('Всего в логе', len(logs), 'событий.')"
   ]
  },
  {
   "cell_type": "code",
   "execution_count": 12,
   "metadata": {},
   "outputs": [
    {
     "data": {
      "text/plain": [
       "5"
      ]
     },
     "execution_count": 12,
     "metadata": {},
     "output_type": "execute_result"
    }
   ],
   "source": [
    "logs['event_name'].nunique()"
   ]
  },
  {
   "cell_type": "markdown",
   "metadata": {},
   "source": [
    "Уникальных в логе существует 5  событий. Чтобы познакомиться с ними ближе, можно вывести их названия."
   ]
  },
  {
   "cell_type": "code",
   "execution_count": 13,
   "metadata": {},
   "outputs": [
    {
     "data": {
      "text/plain": [
       "array(['MainScreenAppear', 'PaymentScreenSuccessful', 'CartScreenAppear',\n",
       "       'OffersScreenAppear', 'Tutorial'], dtype=object)"
      ]
     },
     "execution_count": 13,
     "metadata": {},
     "output_type": "execute_result"
    }
   ],
   "source": [
    "logs['event_name'].unique()"
   ]
  },
  {
   "cell_type": "markdown",
   "metadata": {},
   "source": [
    "**Сколько всего пользователей в логе?**"
   ]
  },
  {
   "cell_type": "code",
   "execution_count": 14,
   "metadata": {},
   "outputs": [
    {
     "data": {
      "text/plain": [
       "7551"
      ]
     },
     "execution_count": 14,
     "metadata": {},
     "output_type": "execute_result"
    }
   ],
   "source": [
    "logs['device_id'].nunique()"
   ]
  },
  {
   "cell_type": "markdown",
   "metadata": {},
   "source": [
    "А вот пользователей уже на порядок больше логов - 7551 юзер был замечен в приложении нашего стартапа. Можно себя считать уже  успешными?)"
   ]
  },
  {
   "cell_type": "markdown",
   "metadata": {},
   "source": [
    "**Сколько в среднем событий приходится на пользователя?**"
   ]
  },
  {
   "cell_type": "code",
   "execution_count": 15,
   "metadata": {},
   "outputs": [
    {
     "name": "stdout",
     "output_type": "stream",
     "text": [
      "В среднем на одного пользователя приходится 32 события.\n"
     ]
    }
   ],
   "source": [
    "log_amount = (logs.groupby('device_id')['event_name'].count()).mean().round().astype(int)\n",
    "print('В среднем на одного пользователя приходится', log_amount, 'события.')"
   ]
  },
  {
   "cell_type": "markdown",
   "metadata": {},
   "source": [
    "**Данными за какой период вы располагаете?**"
   ]
  },
  {
   "cell_type": "code",
   "execution_count": 16,
   "metadata": {},
   "outputs": [
    {
     "name": "stdout",
     "output_type": "stream",
     "text": [
      "Минимальная дата: 2019-07-25 04:43:36\n",
      "Максимальная дата: 2019-08-07 21:15:17\n",
      "В датафрейме содержится информация за 13 days 16:31:41\n"
     ]
    }
   ],
   "source": [
    "#для начала, определим минимальную дату в нашем датафрейме\n",
    "print('Минимальная дата:', logs['datetime'].min())\n",
    "\n",
    "#и максимальную\n",
    "print('Максимальная дата:', logs['datetime'].max())\n",
    "\n",
    "#определим, какой это промежуток времени \n",
    "print('В датафрейме содержится информация за', logs['datetime'].max() - logs['datetime'].min())"
   ]
  },
  {
   "cell_type": "code",
   "execution_count": 17,
   "metadata": {},
   "outputs": [
    {
     "data": {
      "image/png": "[encoded data removed]",
      "text/plain": [
       "<Figure size 2160x504 with 1 Axes>"
      ]
     },
     "metadata": {
      "needs_background": "light"
     },
     "output_type": "display_data"
    }
   ],
   "source": [
    "plt.figure(figsize=(30, 7))\n",
    "logs['datetime'].hist(bins=14*24)\n",
    "plt.title('Гистограмма данных по дате и времени', fontsize=20)\n",
    "plt.xlabel(\"Даты\", fontsize=15)\n",
    "plt.ylabel(\"Количество событий/логов\", fontsize=15)\n",
    "plt.xticks(fontsize=15)\n",
    "plt.yticks(fontsize=15);"
   ]
  },
  {
   "cell_type": "markdown",
   "metadata": {},
   "source": [
    "Таким образом, на первый взгляд, в наших данных содержится информация почти за 2 недели пользовательской активности - начиная с 25 июля 2019 года до 7 августа 2019 года. \n",
    "\n",
    "Однако, обращая внимание на гистограмму стоит заметить, что вплоть до 01.08.2019 данных в сумме меньше 5000, в то время как остальные дни, начиная с 01.08.2019, это значение колеблется в районе 35000.\n",
    "\n",
    "Это можно объяснить тем, что технически в логи новых дней по некоторым пользователям могут «доезжать» события из прошлого — это может «перекашивать данные». Необходимо определить, с какого момента данные полные и отбросить более старые. "
   ]
  },
  {
   "cell_type": "code",
   "execution_count": 18,
   "metadata": {},
   "outputs": [],
   "source": [
    "logs2 = logs[logs['date'] >= dt.date(2019, 8, 1)] "
   ]
  },
  {
   "cell_type": "code",
   "execution_count": 19,
   "metadata": {},
   "outputs": [
    {
     "name": "stdout",
     "output_type": "stream",
     "text": [
      "В датафрейме содержится информация за 13 days 16:31:41\n"
     ]
    }
   ],
   "source": [
    "#повторно определим, какой это промежуток времени \n",
    "print('В датафрейме содержится информация за', logs['datetime'].max() - logs['datetime'].min())"
   ]
  },
  {
   "cell_type": "markdown",
   "metadata": {},
   "source": [
    "Итак, в итоговом датафрейме мы располагаем данными за неделю - почти 7 полных дней. После того, как мы отбросили старые данные, логи в анализируемых 7 днях распределены нормально и равномерно между собой."
   ]
  },
  {
   "cell_type": "markdown",
   "metadata": {},
   "source": [
    "**Много ли событий и пользователей вы потеряли, отбросив старые данные?**"
   ]
  },
  {
   "cell_type": "code",
   "execution_count": 20,
   "metadata": {},
   "outputs": [
    {
     "name": "stdout",
     "output_type": "stream",
     "text": [
      "Количество событий уменьшилось на 2826 , что составляет 1.16 % от первоначального датафрейма.\n",
      "Количество пользователей уменьшилось на 17 , что составляет 0.23 % от первоначального датафрейма.\n"
     ]
    }
   ],
   "source": [
    "log_dif = len(logs['event_name']) - len(logs2['event_name'])\n",
    "per_log_dif = round((log_dif / len(logs['event_name']) * 100), 2)\n",
    "print('Количество событий уменьшилось на', log_dif, ', что составляет', per_log_dif, '% от первоначального датафрейма.')\n",
    "\n",
    "user_dif = logs['device_id'].nunique() - logs2['device_id'].nunique()\n",
    "per_user_dif = round(user_dif / logs['device_id'].nunique() * 100, 2)\n",
    "print('Количество пользователей уменьшилось на', user_dif, ', что составляет', per_user_dif, '% от первоначального датафрейма.')"
   ]
  },
  {
   "cell_type": "markdown",
   "metadata": {},
   "source": [
    "Таким образом, отбросив старые данные мы потеряли 2826 событий и 17 пользователей, что составляет 1.16 и 0.23% от первоначального датафрейма. Соответственно, можно с уверенностью утверждать, что много данных мы не потеряли и это не скажется на дальнейшем иследовании."
   ]
  },
  {
   "cell_type": "code",
   "execution_count": 21,
   "metadata": {},
   "outputs": [],
   "source": [
    "#очень хочется переписать итоговый датафрейм просто в logs, чтобы не путаться и не копить бесконечные нейминги\n",
    "logs = logs2"
   ]
  },
  {
   "cell_type": "markdown",
   "metadata": {},
   "source": [
    "**Проверьте, что у вас есть пользователи из всех трёх экспериментальных групп.**"
   ]
  },
  {
   "cell_type": "markdown",
   "metadata": {},
   "source": [
    "За экспериментальные группы у нас отвечает столбец experiment_id. 246 и 247 — контрольные группы, а 248 — экспериментальная."
   ]
  },
  {
   "cell_type": "code",
   "execution_count": 22,
   "metadata": {},
   "outputs": [
    {
     "name": "stdout",
     "output_type": "stream",
     "text": [
      "Количество пользователей в 246 группе - 2484 , в 247 группе - 2513 , в 248 группе - 2537\n"
     ]
    }
   ],
   "source": [
    "#сначала составим датафрейм с уникальными пользователями\n",
    "users = logs[['device_id', 'experiment_id']].drop_duplicates()\n",
    "\n",
    "#дальше можно считать, сколько юзеров в какой группе и их соотношение\n",
    "experiment_id_246 = len(users[users['experiment_id'] == 246])\n",
    "experiment_id_247 = len(users[users['experiment_id'] == 247])\n",
    "experiment_id_248 = len(users[users['experiment_id'] == 248])\n",
    "print('Количество пользователей в 246 группе -', experiment_id_246,\n",
    "     ', в 247 группе -', experiment_id_247,\n",
    "     ', в 248 группе -', experiment_id_248)"
   ]
  },
  {
   "cell_type": "markdown",
   "metadata": {},
   "source": [
    "Согласно полученным данным, в контрольных 246 и 247 группах со 2484 и 2513 пользователей. В экспериментальной 248 пользователей 2537. То есть распределение пользователей по группам нормально и достаточно равномерно для дальнейшего исследования."
   ]
  },
  {
   "cell_type": "markdown",
   "metadata": {},
   "source": [
    "### Изучение воронки событий"
   ]
  },
  {
   "cell_type": "markdown",
   "metadata": {},
   "source": [
    "**Посмотрите, какие события есть в логах, как часто они встречаются. Отсортируйте события по частоте.**"
   ]
  },
  {
   "cell_type": "markdown",
   "metadata": {},
   "source": [
    "Ранее мы уже выяснили, что всего в логе 5 видов событий:\n",
    "- 'MainScreenAppear', \n",
    "- 'PaymentScreenSuccessful', \n",
    "- 'CartScreenAppear',\n",
    "- 'OffersScreenAppear', \n",
    "- 'Tutorial'"
   ]
  },
  {
   "cell_type": "code",
   "execution_count": 23,
   "metadata": {},
   "outputs": [
    {
     "data": {
      "text/plain": [
       "MainScreenAppear           117328\n",
       "OffersScreenAppear          46333\n",
       "CartScreenAppear            42303\n",
       "PaymentScreenSuccessful     33918\n",
       "Tutorial                     1005\n",
       "Name: event_name, dtype: int64"
      ]
     },
     "execution_count": 23,
     "metadata": {},
     "output_type": "execute_result"
    }
   ],
   "source": [
    "#выясним, как часто они встречаются\n",
    "logs['event_name'].value_counts().sort_values(ascending=False)"
   ]
  },
  {
   "cell_type": "markdown",
   "metadata": {},
   "source": [
    "В частоте событий прослеживается явная логика - чаще всего случается такое событие, как показ основного окна (117328 раз в наших данных за неделю), далее идет окно в предложениями (46333), окно корзины (42303) и окно с успешной оплатой (33918). Завершает все общий туториал, который встречается гораздо реже всех остальных окон (1005)."
   ]
  },
  {
   "cell_type": "markdown",
   "metadata": {},
   "source": [
    "**Посчитайте, сколько пользователей совершали каждое из этих событий. Отсортируйте события по числу пользователей. Посчитайте долю пользователей, которые хоть раз совершали событие.**"
   ]
  },
  {
   "cell_type": "markdown",
   "metadata": {},
   "source": [
    "Логика этой задачи отличается от предыдущей только тем, что одному пользователю различные окна могли быть показаны более, чем 1 раз. Поэтому мы совершим все те же вычисления, перед этим сократив датафрейм до уникальных комбинаций событие-юзер."
   ]
  },
  {
   "cell_type": "code",
   "execution_count": 24,
   "metadata": {},
   "outputs": [
    {
     "data": {
      "text/html": [
       "<div>\n",
       "<style scoped>\n",
       "    .dataframe tbody tr th:only-of-type {\n",
       "        vertical-align: middle;\n",
       "    }\n",
       "\n",
       "    .dataframe tbody tr th {\n",
       "        vertical-align: top;\n",
       "    }\n",
       "\n",
       "    .dataframe thead th {\n",
       "        text-align: right;\n",
       "    }\n",
       "</style>\n",
       "<table border=\"1\" class=\"dataframe\">\n",
       "  <thead>\n",
       "    <tr style=\"text-align: right;\">\n",
       "      <th></th>\n",
       "      <th>users</th>\n",
       "      <th>percent</th>\n",
       "    </tr>\n",
       "    <tr>\n",
       "      <th>event_name</th>\n",
       "      <th></th>\n",
       "      <th></th>\n",
       "    </tr>\n",
       "  </thead>\n",
       "  <tbody>\n",
       "    <tr>\n",
       "      <th>MainScreenAppear</th>\n",
       "      <td>7419</td>\n",
       "      <td>98.47</td>\n",
       "    </tr>\n",
       "    <tr>\n",
       "      <th>OffersScreenAppear</th>\n",
       "      <td>4593</td>\n",
       "      <td>60.96</td>\n",
       "    </tr>\n",
       "    <tr>\n",
       "      <th>CartScreenAppear</th>\n",
       "      <td>3734</td>\n",
       "      <td>49.56</td>\n",
       "    </tr>\n",
       "    <tr>\n",
       "      <th>PaymentScreenSuccessful</th>\n",
       "      <td>3539</td>\n",
       "      <td>46.97</td>\n",
       "    </tr>\n",
       "    <tr>\n",
       "      <th>Tutorial</th>\n",
       "      <td>840</td>\n",
       "      <td>11.15</td>\n",
       "    </tr>\n",
       "  </tbody>\n",
       "</table>\n",
       "</div>"
      ],
      "text/plain": [
       "                         users  percent\n",
       "event_name                             \n",
       "MainScreenAppear          7419    98.47\n",
       "OffersScreenAppear        4593    60.96\n",
       "CartScreenAppear          3734    49.56\n",
       "PaymentScreenSuccessful   3539    46.97\n",
       "Tutorial                   840    11.15"
      ]
     },
     "execution_count": 24,
     "metadata": {},
     "output_type": "execute_result"
    }
   ],
   "source": [
    "unique_users = (logs[['event_name', 'device_id']].drop_duplicates()\n",
    "                                                 .groupby('event_name')\n",
    "                                                 .agg({'device_id': 'count'})\n",
    "                                                 .sort_values(by='device_id', ascending=False)\n",
    "                                                 .rename(columns={\"device_id\": \"users\"})\n",
    ")\n",
    "#добавим столбец с долей пользователей\n",
    "unique_users['percent'] = round(unique_users['users'] / logs['device_id'].nunique()*100, 2)\n",
    "unique_users"
   ]
  },
  {
   "cell_type": "markdown",
   "metadata": {},
   "source": [
    "- Основное окно было показано 98.47 % пользователей.\n",
    "- Окно с предложениями было показано 60.96 % пользователей.\n",
    "- Окно с корзиной было показано 49.56 % пользователей.\n",
    "- Окно успешной оплаты было показано 46.97 % пользователей.\n",
    "- Окно с руководством было показано 11.15 % пользователей."
   ]
  },
  {
   "cell_type": "markdown",
   "metadata": {},
   "source": [
    "**Предположите, в каком порядке происходят события. Все ли они выстраиваются в последовательную цепочку?**"
   ]
  },
  {
   "cell_type": "markdown",
   "metadata": {},
   "source": [
    "На этот вопрос мы уже давали ответ выше, но можно его повторить. Скорее всего, события происходят в том же порядке, в котором они представлены в таблице по частоте их показа пользователям. Почти всем сначала демонстрируется основной экран мобильного приложения (98.5%), смею предположить, что 1.5% сессий, попавших в исследование, где основной экран не был показан - это логи в приложении с ошибками, когда пользователя сразу выкидывало и приходилось заходить повторно. Далее - демонстрация экрана с предложениями - тут уже почти 61%, до корзины доходит почти 50% пользователей, экран с успешной оплатой заказа - у 47%. Кажется логичным, что экран с руководством не является обязательным в цепочке пользователя от момента посещения приложения и оплаты заказа, поэтому он зафиксирован только у 11% пользователей - возможно, это те, кто столкнулись с какими-либо трудностями при использовании нашего приложения."
   ]
  },
  {
   "cell_type": "markdown",
   "metadata": {},
   "source": [
    "**По воронке событий посчитайте, какая доля пользователей проходит на следующий шаг воронки (от числа пользователей на предыдущем).**"
   ]
  },
  {
   "cell_type": "code",
   "execution_count": 25,
   "metadata": {},
   "outputs": [
    {
     "data": {
      "text/html": [
       "<div>\n",
       "<style scoped>\n",
       "    .dataframe tbody tr th:only-of-type {\n",
       "        vertical-align: middle;\n",
       "    }\n",
       "\n",
       "    .dataframe tbody tr th {\n",
       "        vertical-align: top;\n",
       "    }\n",
       "\n",
       "    .dataframe thead th {\n",
       "        text-align: right;\n",
       "    }\n",
       "</style>\n",
       "<table border=\"1\" class=\"dataframe\">\n",
       "  <thead>\n",
       "    <tr style=\"text-align: right;\">\n",
       "      <th></th>\n",
       "      <th>users</th>\n",
       "      <th>percent</th>\n",
       "      <th>conversion</th>\n",
       "    </tr>\n",
       "    <tr>\n",
       "      <th>event_name</th>\n",
       "      <th></th>\n",
       "      <th></th>\n",
       "      <th></th>\n",
       "    </tr>\n",
       "  </thead>\n",
       "  <tbody>\n",
       "    <tr>\n",
       "      <th>MainScreenAppear</th>\n",
       "      <td>7419</td>\n",
       "      <td>98.47</td>\n",
       "      <td>NaN</td>\n",
       "    </tr>\n",
       "    <tr>\n",
       "      <th>OffersScreenAppear</th>\n",
       "      <td>4593</td>\n",
       "      <td>60.96</td>\n",
       "      <td>0.62</td>\n",
       "    </tr>\n",
       "    <tr>\n",
       "      <th>CartScreenAppear</th>\n",
       "      <td>3734</td>\n",
       "      <td>49.56</td>\n",
       "      <td>0.81</td>\n",
       "    </tr>\n",
       "    <tr>\n",
       "      <th>PaymentScreenSuccessful</th>\n",
       "      <td>3539</td>\n",
       "      <td>46.97</td>\n",
       "      <td>0.95</td>\n",
       "    </tr>\n",
       "    <tr>\n",
       "      <th>Tutorial</th>\n",
       "      <td>840</td>\n",
       "      <td>11.15</td>\n",
       "      <td>0.24</td>\n",
       "    </tr>\n",
       "  </tbody>\n",
       "</table>\n",
       "</div>"
      ],
      "text/plain": [
       "                         users  percent  conversion\n",
       "event_name                                         \n",
       "MainScreenAppear          7419    98.47         NaN\n",
       "OffersScreenAppear        4593    60.96        0.62\n",
       "CartScreenAppear          3734    49.56        0.81\n",
       "PaymentScreenSuccessful   3539    46.97        0.95\n",
       "Tutorial                   840    11.15        0.24"
      ]
     },
     "execution_count": 25,
     "metadata": {},
     "output_type": "execute_result"
    }
   ],
   "source": [
    "unique_users['conversion'] = round(unique_users['users'] / unique_users['users'].shift(periods=1), 2)\n",
    "unique_users"
   ]
  },
  {
   "cell_type": "markdown",
   "metadata": {},
   "source": [
    "Согласно полученным данным, конверсия пользователя из основной страницы на страницу продукта - 0.62, со страницы продукта в корзину - 0.81, из корзины на экран успешной оплаты заказа - 0.95, и со страницы успешной оплаты на руководство - 0.24. "
   ]
  },
  {
   "cell_type": "markdown",
   "metadata": {},
   "source": [
    "**На каком шаге теряете больше всего пользователей?**"
   ]
  },
  {
   "cell_type": "markdown",
   "metadata": {},
   "source": [
    "Хоть по числовым показателям последняя конверсия из PaymentScreenSuccessful в Tutorial показывает наименьший результат, она нас мало интересует, так как пользователь уже успешно конвертировался в покупателя и последняя метрика не влияет на бизнес в целом. Поэтому можно сказать, что больше всего пользователей теряется на моменте перехода с открытия главной страницы на страницу продукта (конверсия в 0.62 -> из 7419 пользователей \"дошло\" только 4593). Возможно, такую низкую конверсию можно объяснить, помимо того, что клиент не нашел искомый продукт, также тем, что пользователь мог зайти в приложение по ошибке или вылететь из-за какого-то лага."
   ]
  },
  {
   "cell_type": "markdown",
   "metadata": {},
   "source": [
    "**Какая доля пользователей доходит от первого события до оплаты?**"
   ]
  },
  {
   "cell_type": "markdown",
   "metadata": {},
   "source": [
    "Первым событием, логично, является открытие основной страницы - оно у нас в составленном датафрейме является самым часто встречающимся, оплата - предпоследняя. Вычислим, сколько из пользователей, открывших приложение, дошли до оплаты."
   ]
  },
  {
   "cell_type": "code",
   "execution_count": 26,
   "metadata": {},
   "outputs": [
    {
     "name": "stdout",
     "output_type": "stream",
     "text": [
      "0.48\n"
     ]
    }
   ],
   "source": [
    "print(round(unique_users['users'].loc[unique_users.index[-2]] / unique_users['users'].loc[unique_users.index[0]], 2))"
   ]
  },
  {
   "cell_type": "markdown",
   "metadata": {},
   "source": [
    "Почти половина пользователей, которые открывают наше приложение, совершают в итоге покупку - неплохой показатель, но, думаю, следует проанализировать, почему такое количество пользователей \"отваливается\" на этапе выбора товара, чтобы определить потенциальные точки роста. Однако, об этом в другой раз))"
   ]
  },
  {
   "cell_type": "markdown",
   "metadata": {},
   "source": [
    "### Изучите результаты эксперимента"
   ]
  },
  {
   "cell_type": "markdown",
   "metadata": {},
   "source": [
    "**Сколько пользователей в каждой экспериментальной группе?**"
   ]
  },
  {
   "cell_type": "markdown",
   "metadata": {},
   "source": [
    "Ранее мы писали код, благодаря которому определили количество пользователей в каждой группе. Продублируем его здесь."
   ]
  },
  {
   "cell_type": "code",
   "execution_count": 27,
   "metadata": {},
   "outputs": [
    {
     "name": "stdout",
     "output_type": "stream",
     "text": [
      "Количество пользователей в 246 группе - 2484 , в 247 группе - 2513 , в 248 группе - 2537\n"
     ]
    }
   ],
   "source": [
    "print('Количество пользователей в 246 группе -', experiment_id_246,\n",
    "     ', в 247 группе -', experiment_id_247,\n",
    "     ', в 248 группе -', experiment_id_248)"
   ]
  },
  {
   "cell_type": "markdown",
   "metadata": {},
   "source": [
    "**Проверьте, находят ли статистические критерии разницу между выборками 246 и 247.**"
   ]
  },
  {
   "cell_type": "markdown",
   "metadata": {},
   "source": [
    "Есть 2 контрольные группы для А/А-эксперимента, чтобы проверить корректность всех механизмов и расчётов: 246 и 247."
   ]
  },
  {
   "cell_type": "markdown",
   "metadata": {},
   "source": [
    "Критерии успешного A/A-теста: \n",
    "- Количество пользователей в различных группах различается не более, чем на 1%;\n",
    "- Для всех групп фиксируют и отправляют в системы аналитики данные об одном и том же;\n",
    "- Различие ключевых метрик по группам не превышает 1% и не имеет статистической значимости;\n",
    "- Попавший в одну из групп посетитель остаётся в этой группе до конца теста. Если пользователь видит разные версии исследуемой страницы в ходе одного исследования, неизвестно, какая именно повлияла на его решения. Значит, и результаты такого теста нельзя интерпретировать однозначно."
   ]
  },
  {
   "cell_type": "code",
   "execution_count": 28,
   "metadata": {},
   "outputs": [
    {
     "name": "stdout",
     "output_type": "stream",
     "text": [
      "1.2\n"
     ]
    }
   ],
   "source": [
    "print(round(abs(experiment_id_246 / experiment_id_247 * 100 - 100), 1))"
   ]
  },
  {
   "cell_type": "markdown",
   "metadata": {},
   "source": [
    "Количество пользователей в различных группах различается на 1,2% - это больше, чем допустимый 1% для успешного А/А-теста, будем иметь это в виду."
   ]
  },
  {
   "cell_type": "code",
   "execution_count": 29,
   "metadata": {},
   "outputs": [
    {
     "data": {
      "text/html": [
       "<div>\n",
       "<style scoped>\n",
       "    .dataframe tbody tr th:only-of-type {\n",
       "        vertical-align: middle;\n",
       "    }\n",
       "\n",
       "    .dataframe tbody tr th {\n",
       "        vertical-align: top;\n",
       "    }\n",
       "\n",
       "    .dataframe thead th {\n",
       "        text-align: right;\n",
       "    }\n",
       "</style>\n",
       "<table border=\"1\" class=\"dataframe\">\n",
       "  <thead>\n",
       "    <tr style=\"text-align: right;\">\n",
       "      <th></th>\n",
       "      <th>users_246</th>\n",
       "      <th>conversion_246</th>\n",
       "      <th>users_247</th>\n",
       "      <th>conversion_247</th>\n",
       "    </tr>\n",
       "    <tr>\n",
       "      <th>event_name</th>\n",
       "      <th></th>\n",
       "      <th></th>\n",
       "      <th></th>\n",
       "      <th></th>\n",
       "    </tr>\n",
       "  </thead>\n",
       "  <tbody>\n",
       "    <tr>\n",
       "      <th>MainScreenAppear</th>\n",
       "      <td>2450</td>\n",
       "      <td>NaN</td>\n",
       "      <td>2476</td>\n",
       "      <td>NaN</td>\n",
       "    </tr>\n",
       "    <tr>\n",
       "      <th>OffersScreenAppear</th>\n",
       "      <td>1542</td>\n",
       "      <td>0.63</td>\n",
       "      <td>1520</td>\n",
       "      <td>0.61</td>\n",
       "    </tr>\n",
       "    <tr>\n",
       "      <th>CartScreenAppear</th>\n",
       "      <td>1266</td>\n",
       "      <td>0.82</td>\n",
       "      <td>1238</td>\n",
       "      <td>0.81</td>\n",
       "    </tr>\n",
       "    <tr>\n",
       "      <th>PaymentScreenSuccessful</th>\n",
       "      <td>1200</td>\n",
       "      <td>0.95</td>\n",
       "      <td>1158</td>\n",
       "      <td>0.94</td>\n",
       "    </tr>\n",
       "    <tr>\n",
       "      <th>Tutorial</th>\n",
       "      <td>278</td>\n",
       "      <td>0.23</td>\n",
       "      <td>283</td>\n",
       "      <td>0.24</td>\n",
       "    </tr>\n",
       "  </tbody>\n",
       "</table>\n",
       "</div>"
      ],
      "text/plain": [
       "                         users_246  conversion_246  users_247  conversion_247\n",
       "event_name                                                                   \n",
       "MainScreenAppear              2450             NaN       2476             NaN\n",
       "OffersScreenAppear            1542            0.63       1520            0.61\n",
       "CartScreenAppear              1266            0.82       1238            0.81\n",
       "PaymentScreenSuccessful       1200            0.95       1158            0.94\n",
       "Tutorial                       278            0.23        283            0.24"
      ]
     },
     "execution_count": 29,
     "metadata": {},
     "output_type": "execute_result"
    }
   ],
   "source": [
    "#построим сводную таблицу по шагам для каждой из групп и заодно посчитаем конверсию\n",
    "users_246 = (logs[['event_name', 'device_id']][logs['experiment_id'] == 246].drop_duplicates()\n",
    "                                              .groupby('event_name')\n",
    "                                              .agg({'device_id': 'count'})\n",
    "                                              .sort_values(by='device_id', ascending=False)\n",
    "                                              .rename(columns={\"device_id\": \"users_246\"})\n",
    ")\n",
    "users_246['conversion_246'] = round(users_246['users_246'] / users_246['users_246'].shift(periods=1), 2)\n",
    "\n",
    "users_247 = (logs[['event_name', 'device_id']][logs['experiment_id'] == 247].drop_duplicates()\n",
    "                                              .groupby('event_name')\n",
    "                                              .agg({'device_id': 'count'})\n",
    "                                              .sort_values(by='device_id', ascending=False)\n",
    "                                              .rename(columns={\"device_id\": \"users_247\"})\n",
    ")\n",
    "users_247['conversion_247'] = round(users_247['users_247'] / users_247['users_247'].shift(periods=1), 2)\n",
    "\n",
    "#объединим 2 таблицы\n",
    "aa_test_users = users_246.merge(users_247, on='event_name')\n",
    "\n",
    "aa_test_users"
   ]
  },
  {
   "cell_type": "markdown",
   "metadata": {},
   "source": [
    "В нашем исследовании мы применяем точность A/A-теста в 1% — самый распространённый критерий. Так как ключевой метрикой по группам является именно конверсия пользователя и переход из одной страницы на другую - посчитали разницу двух конверсий в контольных группах. Только в одном случае она составила 0.02 вместо 0.01 - при анализе пользователей, перешедших из основного экрана в карточку товара. Также следует это отметить."
   ]
  },
  {
   "cell_type": "code",
   "execution_count": 30,
   "metadata": {},
   "outputs": [
    {
     "data": {
      "text/plain": [
       "0"
      ]
     },
     "execution_count": 30,
     "metadata": {},
     "output_type": "execute_result"
    }
   ],
   "source": [
    "#создадим 2 Series с id пользователей для каждой группы\n",
    "id_246 = logs['device_id'][logs['experiment_id'] == 246].drop_duplicates()\n",
    "id_247 = logs['device_id'][logs['experiment_id'] == 247].drop_duplicates()\n",
    "\n",
    "#выведем количество значений, которые повторяются в обоих группах\n",
    "len(id_246[id_246.isin(id_247)])"
   ]
  },
  {
   "cell_type": "markdown",
   "metadata": {},
   "source": [
    "Мы можем утверждать, что у нас попавший в одну из групп посетитель оставлся в этой группе до конца теста."
   ]
  },
  {
   "cell_type": "markdown",
   "metadata": {},
   "source": [
    "Таким образом, можно сделать вывод, что критерии успешного А/А-теста по большей части соблюдены и механизмы и рассчеты должны быть корректны."
   ]
  },
  {
   "cell_type": "markdown",
   "metadata": {},
   "source": [
    "**Выберите самое популярное событие. Посчитайте число пользователей, совершивших это событие в каждой из контрольных групп. Посчитайте долю пользователей, совершивших это событие. Проверьте, будет ли отличие между группами статистически достоверным. Проделайте то же самое для всех других событий. Можно ли сказать, что разбиение на группы работает корректно?**"
   ]
  },
  {
   "cell_type": "markdown",
   "metadata": {},
   "source": [
    "Поставленную задачу мы опять случайно сделали слегка заранее)) Еще раз взглянем на полученную таблицу. "
   ]
  },
  {
   "cell_type": "code",
   "execution_count": 31,
   "metadata": {},
   "outputs": [
    {
     "data": {
      "text/html": [
       "<div>\n",
       "<style scoped>\n",
       "    .dataframe tbody tr th:only-of-type {\n",
       "        vertical-align: middle;\n",
       "    }\n",
       "\n",
       "    .dataframe tbody tr th {\n",
       "        vertical-align: top;\n",
       "    }\n",
       "\n",
       "    .dataframe thead th {\n",
       "        text-align: right;\n",
       "    }\n",
       "</style>\n",
       "<table border=\"1\" class=\"dataframe\">\n",
       "  <thead>\n",
       "    <tr style=\"text-align: right;\">\n",
       "      <th></th>\n",
       "      <th>users_246</th>\n",
       "      <th>conversion_246</th>\n",
       "      <th>users_247</th>\n",
       "      <th>conversion_247</th>\n",
       "    </tr>\n",
       "    <tr>\n",
       "      <th>event_name</th>\n",
       "      <th></th>\n",
       "      <th></th>\n",
       "      <th></th>\n",
       "      <th></th>\n",
       "    </tr>\n",
       "  </thead>\n",
       "  <tbody>\n",
       "    <tr>\n",
       "      <th>MainScreenAppear</th>\n",
       "      <td>2450</td>\n",
       "      <td>NaN</td>\n",
       "      <td>2476</td>\n",
       "      <td>NaN</td>\n",
       "    </tr>\n",
       "    <tr>\n",
       "      <th>OffersScreenAppear</th>\n",
       "      <td>1542</td>\n",
       "      <td>0.63</td>\n",
       "      <td>1520</td>\n",
       "      <td>0.61</td>\n",
       "    </tr>\n",
       "    <tr>\n",
       "      <th>CartScreenAppear</th>\n",
       "      <td>1266</td>\n",
       "      <td>0.82</td>\n",
       "      <td>1238</td>\n",
       "      <td>0.81</td>\n",
       "    </tr>\n",
       "    <tr>\n",
       "      <th>PaymentScreenSuccessful</th>\n",
       "      <td>1200</td>\n",
       "      <td>0.95</td>\n",
       "      <td>1158</td>\n",
       "      <td>0.94</td>\n",
       "    </tr>\n",
       "    <tr>\n",
       "      <th>Tutorial</th>\n",
       "      <td>278</td>\n",
       "      <td>0.23</td>\n",
       "      <td>283</td>\n",
       "      <td>0.24</td>\n",
       "    </tr>\n",
       "  </tbody>\n",
       "</table>\n",
       "</div>"
      ],
      "text/plain": [
       "                         users_246  conversion_246  users_247  conversion_247\n",
       "event_name                                                                   \n",
       "MainScreenAppear              2450             NaN       2476             NaN\n",
       "OffersScreenAppear            1542            0.63       1520            0.61\n",
       "CartScreenAppear              1266            0.82       1238            0.81\n",
       "PaymentScreenSuccessful       1200            0.95       1158            0.94\n",
       "Tutorial                       278            0.23        283            0.24"
      ]
     },
     "execution_count": 31,
     "metadata": {},
     "output_type": "execute_result"
    }
   ],
   "source": [
    "aa_test_users"
   ]
  },
  {
   "cell_type": "markdown",
   "metadata": {},
   "source": [
    "Единственные данные, которых нам недостает - это сколько пользователей из контрольной группы совершили хотя бы первое действие - открыли главный экран. Дополним таблицу необходимыми сведениями и сравним получившиеся результаты еще раз."
   ]
  },
  {
   "cell_type": "code",
   "execution_count": 32,
   "metadata": {
    "scrolled": true
   },
   "outputs": [],
   "source": [
    "aa_test_users['conversion_246'].loc[aa_test_users.index[0]] = round(aa_test_users['users_246'].loc[aa_test_users.index[0]] / logs['device_id'][logs['experiment_id'] == 246].nunique(), 2)\n",
    "aa_test_users['conversion_247'].loc[aa_test_users.index[0]] = round(aa_test_users['users_247'].loc[aa_test_users.index[0]] / logs['device_id'][logs['experiment_id'] == 247].nunique(), 2)"
   ]
  },
  {
   "cell_type": "code",
   "execution_count": 33,
   "metadata": {},
   "outputs": [
    {
     "data": {
      "text/html": [
       "<div>\n",
       "<style scoped>\n",
       "    .dataframe tbody tr th:only-of-type {\n",
       "        vertical-align: middle;\n",
       "    }\n",
       "\n",
       "    .dataframe tbody tr th {\n",
       "        vertical-align: top;\n",
       "    }\n",
       "\n",
       "    .dataframe thead th {\n",
       "        text-align: right;\n",
       "    }\n",
       "</style>\n",
       "<table border=\"1\" class=\"dataframe\">\n",
       "  <thead>\n",
       "    <tr style=\"text-align: right;\">\n",
       "      <th></th>\n",
       "      <th>users_246</th>\n",
       "      <th>conversion_246</th>\n",
       "      <th>users_247</th>\n",
       "      <th>conversion_247</th>\n",
       "    </tr>\n",
       "    <tr>\n",
       "      <th>event_name</th>\n",
       "      <th></th>\n",
       "      <th></th>\n",
       "      <th></th>\n",
       "      <th></th>\n",
       "    </tr>\n",
       "  </thead>\n",
       "  <tbody>\n",
       "    <tr>\n",
       "      <th>MainScreenAppear</th>\n",
       "      <td>2450</td>\n",
       "      <td>0.99</td>\n",
       "      <td>2476</td>\n",
       "      <td>0.99</td>\n",
       "    </tr>\n",
       "    <tr>\n",
       "      <th>OffersScreenAppear</th>\n",
       "      <td>1542</td>\n",
       "      <td>0.63</td>\n",
       "      <td>1520</td>\n",
       "      <td>0.61</td>\n",
       "    </tr>\n",
       "    <tr>\n",
       "      <th>CartScreenAppear</th>\n",
       "      <td>1266</td>\n",
       "      <td>0.82</td>\n",
       "      <td>1238</td>\n",
       "      <td>0.81</td>\n",
       "    </tr>\n",
       "    <tr>\n",
       "      <th>PaymentScreenSuccessful</th>\n",
       "      <td>1200</td>\n",
       "      <td>0.95</td>\n",
       "      <td>1158</td>\n",
       "      <td>0.94</td>\n",
       "    </tr>\n",
       "    <tr>\n",
       "      <th>Tutorial</th>\n",
       "      <td>278</td>\n",
       "      <td>0.23</td>\n",
       "      <td>283</td>\n",
       "      <td>0.24</td>\n",
       "    </tr>\n",
       "  </tbody>\n",
       "</table>\n",
       "</div>"
      ],
      "text/plain": [
       "                         users_246  conversion_246  users_247  conversion_247\n",
       "event_name                                                                   \n",
       "MainScreenAppear              2450            0.99       2476            0.99\n",
       "OffersScreenAppear            1542            0.63       1520            0.61\n",
       "CartScreenAppear              1266            0.82       1238            0.81\n",
       "PaymentScreenSuccessful       1200            0.95       1158            0.94\n",
       "Tutorial                       278            0.23        283            0.24"
      ]
     },
     "execution_count": 33,
     "metadata": {},
     "output_type": "execute_result"
    }
   ],
   "source": [
    "aa_test_users"
   ]
  },
  {
   "cell_type": "markdown",
   "metadata": {},
   "source": [
    "Для того, чтобы проверить, будет ли отличие между группами статистически достоверным, нужно проверить гипотезы о равенстве долей."
   ]
  },
  {
   "cell_type": "code",
   "execution_count": 34,
   "metadata": {},
   "outputs": [],
   "source": [
    "#функция для проверки гипотезы о равенстве долей\n",
    "def equalty(successes, trials):\n",
    "    \n",
    "    alpha = .05 # критический уровень статистической значимости\n",
    "    \n",
    "    # пропорция успехов в первой группе:\n",
    "    p1 = successes[0]/trials[0]\n",
    "    \n",
    "    # пропорция успехов во второй группе:\n",
    "    p2 = successes[1]/trials[1]\n",
    "    \n",
    "    # пропорция успехов в комбинированном датасете:\n",
    "    p_combined = (successes[0] + successes[1]) / (trials[0] + trials[1])\n",
    "    \n",
    "    # разница пропорций в датасетах\n",
    "    difference = p1 - p2 \n",
    "    \n",
    "    # считаем статистику в ст.отклонениях стандартного нормального распределения\n",
    "    z_value = difference / mth.sqrt(p_combined * (1 - p_combined) * (1/trials[0] + 1/trials[1]))\n",
    "    \n",
    "    # задаем стандартное нормальное распределение (среднее 0, ст.отклонение 1)\n",
    "    distr = st.norm(0, 1)\n",
    "    \n",
    "    p_value = (1 - distr.cdf(abs(z_value))) * 2\n",
    "    \n",
    "    print('p-значение: ', p_value)\n",
    "    \n",
    "    if p_value < alpha:\n",
    "        print('Отвергаем нулевую гипотезу: между долями есть значимая разница')\n",
    "    else:\n",
    "        print(\n",
    "            'Не получилось отвергнуть нулевую гипотезу, нет оснований считать доли разными'\n",
    "        )"
   ]
  },
  {
   "cell_type": "code",
   "execution_count": 35,
   "metadata": {
    "scrolled": true
   },
   "outputs": [
    {
     "name": "stdout",
     "output_type": "stream",
     "text": [
      "p-значение:  0.7570597232046099\n",
      "Не получилось отвергнуть нулевую гипотезу, нет оснований считать доли разными\n"
     ]
    }
   ],
   "source": [
    "#сначала проверим гипотезу равенства долей всех пользователей и тех, кто открыл основную страницу\n",
    "successes = np.array([aa_test_users['users_246'].loc[aa_test_users.index[0]], aa_test_users['users_247'].loc[aa_test_users.index[0]]])\n",
    "trials = np.array([logs['device_id'][logs['experiment_id'] == 246].nunique(), logs['device_id'][logs['experiment_id'] == 247].nunique()])\n",
    "\n",
    "equalty(successes, trials)"
   ]
  },
  {
   "cell_type": "code",
   "execution_count": 36,
   "metadata": {},
   "outputs": [
    {
     "name": "stdout",
     "output_type": "stream",
     "text": [
      "При сравнении доли пользователей, перешедших на OffersScreenAppear из MainScreenAppear:\n",
      "p-значение:  0.2622344959255778\n",
      "Не получилось отвергнуть нулевую гипотезу, нет оснований считать доли разными\n",
      "\n",
      "При сравнении доли пользователей, перешедших на CartScreenAppear из OffersScreenAppear:\n",
      "p-значение:  0.6393754713145263\n",
      "Не получилось отвергнуть нулевую гипотезу, нет оснований считать доли разными\n",
      "\n",
      "При сравнении доли пользователей, перешедших на PaymentScreenSuccessful из CartScreenAppear:\n",
      "p-значение:  0.18243439408067652\n",
      "Не получилось отвергнуть нулевую гипотезу, нет оснований считать доли разными\n",
      "\n",
      "При сравнении доли пользователей, перешедших на Tutorial из PaymentScreenSuccessful:\n",
      "p-значение:  0.46833167209360305\n",
      "Не получилось отвергнуть нулевую гипотезу, нет оснований считать доли разными\n",
      "\n"
     ]
    }
   ],
   "source": [
    "#оставшиеся итерации можем обернуть в цикл, так как будем обращаться к одной и той же таблице\n",
    "\n",
    "for i in range(aa_test_users.shape[0] - 1):\n",
    "    successes = np.array([aa_test_users['users_246'].iloc[i+1], aa_test_users['users_247'].iloc[i+1]])\n",
    "    trials = np.array([aa_test_users['users_246'].iloc[i], aa_test_users['users_247'].iloc[i]])\n",
    "    \n",
    "    \n",
    "    print(f'При сравнении доли пользователей, перешедших на {aa_test_users.index[i+1]} из {aa_test_users.index[i]}:')\n",
    "    equalty(successes, trials)\n",
    "    print()"
   ]
  },
  {
   "cell_type": "markdown",
   "metadata": {},
   "source": [
    "Таким образом, разница во всех пропорциях при указанных размерах выборок недостаточна, чтобы говорить о статистически значимом различии. Визуальное предположение о том, что разница между выборками незначительна, подтвердилось математически."
   ]
  },
  {
   "cell_type": "markdown",
   "metadata": {},
   "source": [
    "**Аналогично поступите с группой с изменённым шрифтом. Сравните результаты с каждой из контрольных групп в отдельности по каждому событию. Сравните результаты с объединённой контрольной группой. Какие выводы из эксперимента можно сделать?**"
   ]
  },
  {
   "cell_type": "markdown",
   "metadata": {},
   "source": [
    "Переходим к главной задаче настоящей работы - проверке результатов эксперимента и сравнении данных, полученных у контрольных и экспериментальных групп."
   ]
  },
  {
   "cell_type": "code",
   "execution_count": 37,
   "metadata": {},
   "outputs": [
    {
     "data": {
      "text/html": [
       "<div>\n",
       "<style scoped>\n",
       "    .dataframe tbody tr th:only-of-type {\n",
       "        vertical-align: middle;\n",
       "    }\n",
       "\n",
       "    .dataframe tbody tr th {\n",
       "        vertical-align: top;\n",
       "    }\n",
       "\n",
       "    .dataframe thead th {\n",
       "        text-align: right;\n",
       "    }\n",
       "</style>\n",
       "<table border=\"1\" class=\"dataframe\">\n",
       "  <thead>\n",
       "    <tr style=\"text-align: right;\">\n",
       "      <th></th>\n",
       "      <th>users_246</th>\n",
       "      <th>conversion_246</th>\n",
       "      <th>users_247</th>\n",
       "      <th>conversion_247</th>\n",
       "      <th>users_248</th>\n",
       "      <th>conversion_248</th>\n",
       "    </tr>\n",
       "    <tr>\n",
       "      <th>event_name</th>\n",
       "      <th></th>\n",
       "      <th></th>\n",
       "      <th></th>\n",
       "      <th></th>\n",
       "      <th></th>\n",
       "      <th></th>\n",
       "    </tr>\n",
       "  </thead>\n",
       "  <tbody>\n",
       "    <tr>\n",
       "      <th>MainScreenAppear</th>\n",
       "      <td>2450</td>\n",
       "      <td>0.99</td>\n",
       "      <td>2476</td>\n",
       "      <td>0.99</td>\n",
       "      <td>2493</td>\n",
       "      <td>0.98</td>\n",
       "    </tr>\n",
       "    <tr>\n",
       "      <th>OffersScreenAppear</th>\n",
       "      <td>1542</td>\n",
       "      <td>0.63</td>\n",
       "      <td>1520</td>\n",
       "      <td>0.61</td>\n",
       "      <td>1531</td>\n",
       "      <td>0.61</td>\n",
       "    </tr>\n",
       "    <tr>\n",
       "      <th>CartScreenAppear</th>\n",
       "      <td>1266</td>\n",
       "      <td>0.82</td>\n",
       "      <td>1238</td>\n",
       "      <td>0.81</td>\n",
       "      <td>1230</td>\n",
       "      <td>0.80</td>\n",
       "    </tr>\n",
       "    <tr>\n",
       "      <th>PaymentScreenSuccessful</th>\n",
       "      <td>1200</td>\n",
       "      <td>0.95</td>\n",
       "      <td>1158</td>\n",
       "      <td>0.94</td>\n",
       "      <td>1181</td>\n",
       "      <td>0.96</td>\n",
       "    </tr>\n",
       "    <tr>\n",
       "      <th>Tutorial</th>\n",
       "      <td>278</td>\n",
       "      <td>0.23</td>\n",
       "      <td>283</td>\n",
       "      <td>0.24</td>\n",
       "      <td>279</td>\n",
       "      <td>0.24</td>\n",
       "    </tr>\n",
       "  </tbody>\n",
       "</table>\n",
       "</div>"
      ],
      "text/plain": [
       "                         users_246  conversion_246  users_247  conversion_247  \\\n",
       "event_name                                                                      \n",
       "MainScreenAppear              2450            0.99       2476            0.99   \n",
       "OffersScreenAppear            1542            0.63       1520            0.61   \n",
       "CartScreenAppear              1266            0.82       1238            0.81   \n",
       "PaymentScreenSuccessful       1200            0.95       1158            0.94   \n",
       "Tutorial                       278            0.23        283            0.24   \n",
       "\n",
       "                         users_248  conversion_248  \n",
       "event_name                                          \n",
       "MainScreenAppear              2493            0.98  \n",
       "OffersScreenAppear            1531            0.61  \n",
       "CartScreenAppear              1230            0.80  \n",
       "PaymentScreenSuccessful       1181            0.96  \n",
       "Tutorial                       279            0.24  "
      ]
     },
     "execution_count": 37,
     "metadata": {},
     "output_type": "execute_result"
    }
   ],
   "source": [
    "#для начала, добавим в нашу таблицу столбцы с результатами экспериментальной группы\n",
    "users_248 = (logs[['event_name', 'device_id']][logs['experiment_id'] == 248].drop_duplicates()\n",
    "                                              .groupby('event_name')\n",
    "                                              .agg({'device_id': 'count'})\n",
    "                                              .sort_values(by='device_id', ascending=False)\n",
    "                                              .rename(columns={\"device_id\": \"users_248\"})\n",
    ")\n",
    "\n",
    "users_248['conversion_248'] = round(users_248['users_248'] / users_248['users_248'].shift(periods=1), 2)\n",
    "users_248['conversion_248'].iloc[0] = round(users_248['users_248'].iloc[0] / logs['device_id'][logs['experiment_id'] == 248].nunique(), 2)\n",
    "\n",
    "ab_test_users = aa_test_users.merge(users_248, on='event_name')\n",
    "ab_test_users "
   ]
  },
  {
   "cell_type": "markdown",
   "metadata": {},
   "source": [
    "На первый взгляд, разницы между контрольными и экспериментальными группами нет - следует проверить эту гипотезу математически. "
   ]
  },
  {
   "cell_type": "code",
   "execution_count": 38,
   "metadata": {},
   "outputs": [
    {
     "name": "stdout",
     "output_type": "stream",
     "text": [
      "p-значение:  0.2949721933554552\n",
      "Не получилось отвергнуть нулевую гипотезу, нет оснований считать доли разными\n"
     ]
    }
   ],
   "source": [
    "#сначала проверим гипотезу равенства долей в 246 и 248 группах для всех пользователей и тех, кто открыл основную страницу\n",
    "successes = np.array([ab_test_users['users_246'].iloc[0], ab_test_users['users_248'].iloc[0]])\n",
    "trials = np.array([logs['device_id'][logs['experiment_id'] == 246].nunique(), logs['device_id'][logs['experiment_id'] == 248].nunique()])\n",
    "\n",
    "equalty(successes, trials)"
   ]
  },
  {
   "cell_type": "code",
   "execution_count": 39,
   "metadata": {},
   "outputs": [
    {
     "name": "stdout",
     "output_type": "stream",
     "text": [
      "При сравнении доли пользователей, перешедших на OffersScreenAppear из MainScreenAppear:\n",
      "p-значение:  0.2684281587249231\n",
      "Не получилось отвергнуть нулевую гипотезу, нет оснований считать доли разными\n",
      "\n",
      "При сравнении доли пользователей, перешедших на CartScreenAppear из OffersScreenAppear:\n",
      "p-значение:  0.2112170818054686\n",
      "Не получилось отвергнуть нулевую гипотезу, нет оснований считать доли разными\n",
      "\n",
      "При сравнении доли пользователей, перешедших на PaymentScreenSuccessful из CartScreenAppear:\n",
      "p-значение:  0.14295341270419004\n",
      "Не получилось отвергнуть нулевую гипотезу, нет оснований считать доли разными\n",
      "\n",
      "При сравнении доли пользователей, перешедших на Tutorial из PaymentScreenSuccessful:\n",
      "p-значение:  0.7920938967629971\n",
      "Не получилось отвергнуть нулевую гипотезу, нет оснований считать доли разными\n",
      "\n"
     ]
    }
   ],
   "source": [
    "#дальше сделаем опять цикл все еще для 246 и 248 групп\n",
    "\n",
    "for i in range(ab_test_users.shape[0] - 1):\n",
    "    successes = np.array([ab_test_users['users_246'].iloc[i+1], ab_test_users['users_248'].iloc[i+1]])\n",
    "    trials = np.array([ab_test_users['users_246'].iloc[i], ab_test_users['users_248'].iloc[i]])\n",
    "    \n",
    "    \n",
    "    print(f'При сравнении доли пользователей, перешедших на {ab_test_users.index[i+1]} из {ab_test_users.index[i]}:')\n",
    "    equalty(successes, trials)\n",
    "    print()"
   ]
  },
  {
   "cell_type": "markdown",
   "metadata": {},
   "source": [
    "Итак, при сравнении первой контрольной группы с экспериментальной, мы выяснили, что между долями нет значимой разницы.\n",
    "\n",
    "Сравним со второй контрольной группой."
   ]
  },
  {
   "cell_type": "code",
   "execution_count": 40,
   "metadata": {},
   "outputs": [
    {
     "name": "stdout",
     "output_type": "stream",
     "text": [
      "p-значение:  0.4587053616621515\n",
      "Не получилось отвергнуть нулевую гипотезу, нет оснований считать доли разными\n"
     ]
    }
   ],
   "source": [
    "#сначала проверим гипотезу равенства долей в 247 и 248 группах для всех пользователей и тех, кто открыл основную страницу\n",
    "successes = np.array([ab_test_users['users_247'].iloc[0], ab_test_users['users_248'].iloc[0]])\n",
    "trials = np.array([logs['device_id'][logs['experiment_id'] == 247].nunique(), logs['device_id'][logs['experiment_id'] == 248].nunique()])\n",
    "\n",
    "equalty(successes, trials)"
   ]
  },
  {
   "cell_type": "code",
   "execution_count": 41,
   "metadata": {},
   "outputs": [
    {
     "name": "stdout",
     "output_type": "stream",
     "text": [
      "При сравнении доли пользователей, перешедших на OffersScreenAppear из MainScreenAppear:\n",
      "p-значение:  0.9869365252844515\n",
      "Не получилось отвергнуть нулевую гипотезу, нет оснований считать доли разными\n",
      "\n",
      "При сравнении доли пользователей, перешедших на CartScreenAppear из OffersScreenAppear:\n",
      "p-значение:  0.4364903513062255\n",
      "Не получилось отвергнуть нулевую гипотезу, нет оснований считать доли разными\n",
      "\n",
      "При сравнении доли пользователей, перешедших на PaymentScreenSuccessful из CartScreenAppear:\n",
      "p-значение:  0.005677465395736325\n",
      "Отвергаем нулевую гипотезу: между долями есть значимая разница\n",
      "\n",
      "При сравнении доли пользователей, перешедших на Tutorial из PaymentScreenSuccessful:\n",
      "p-значение:  0.6447626122251844\n",
      "Не получилось отвергнуть нулевую гипотезу, нет оснований считать доли разными\n",
      "\n"
     ]
    }
   ],
   "source": [
    "#дальше сделаем опять цикл все еще для 247 и 248 групп\n",
    "\n",
    "for i in range(ab_test_users.shape[0] - 1):\n",
    "    successes = np.array([ab_test_users['users_247'].iloc[i+1], ab_test_users['users_248'].iloc[i+1]])\n",
    "    trials = np.array([ab_test_users['users_247'].iloc[i], ab_test_users['users_248'].iloc[i]])\n",
    "    \n",
    "    \n",
    "    print(f'При сравнении доли пользователей, перешедших на {ab_test_users.index[i+1]} из {ab_test_users.index[i]}:')\n",
    "    equalty(successes, trials)\n",
    "    print()"
   ]
  },
  {
   "cell_type": "markdown",
   "metadata": {},
   "source": [
    "А тут уже заметно что-то необычное - мы заметили значимую разницу между долями пользователей, перешедших из корзины на страницу успешной оплаты. Если обратиться обратно к таблице, можно увидеть, что для экспериментальной группы 248 конвертация составила 0.96, а у контрольной она на уровне 0.94. Хоть мы и пропустили этот факт при первичном анализе таблицы, с математической точки зрения такая разница существенна."
   ]
  },
  {
   "cell_type": "markdown",
   "metadata": {},
   "source": [
    "Сравним результаты с объединённой контрольной группой. "
   ]
  },
  {
   "cell_type": "code",
   "execution_count": 42,
   "metadata": {},
   "outputs": [],
   "source": [
    "#создадим объединенную колонку со всеми пользователями из контрольной группы\n",
    "ab_test_users['control_users'] = ab_test_users['users_246'] + ab_test_users['users_247']"
   ]
  },
  {
   "cell_type": "code",
   "execution_count": 43,
   "metadata": {},
   "outputs": [
    {
     "name": "stdout",
     "output_type": "stream",
     "text": [
      "p-значение:  0.29424526837179577\n",
      "Не получилось отвергнуть нулевую гипотезу, нет оснований считать доли разными\n"
     ]
    }
   ],
   "source": [
    "#опять начинаем с проверки гипотезы равенства долей в объединенной и 248 группах для всех пользователей и тех, кто открыл основную страницу\n",
    "successes = np.array([ab_test_users['control_users'].iloc[0], ab_test_users['users_248'].iloc[0]])\n",
    "trials = np.array([logs['device_id'][logs['experiment_id'].isin((246, 247))].nunique(), logs['device_id'][logs['experiment_id'] == 248].nunique()])\n",
    "\n",
    "equalty(successes, trials)"
   ]
  },
  {
   "cell_type": "code",
   "execution_count": 44,
   "metadata": {},
   "outputs": [
    {
     "name": "stdout",
     "output_type": "stream",
     "text": [
      "При сравнении доли пользователей, перешедших на OffersScreenAppear из MainScreenAppear:\n",
      "p-значение:  0.5308589432077624\n",
      "Не получилось отвергнуть нулевую гипотезу, нет оснований считать доли разными\n",
      "\n",
      "При сравнении доли пользователей, перешедших на CartScreenAppear из OffersScreenAppear:\n",
      "p-значение:  0.23905954279947372\n",
      "Не получилось отвергнуть нулевую гипотезу, нет оснований считать доли разными\n",
      "\n",
      "При сравнении доли пользователей, перешедших на PaymentScreenSuccessful из CartScreenAppear:\n",
      "p-значение:  0.017114434319547067\n",
      "Отвергаем нулевую гипотезу: между долями есть значимая разница\n",
      "\n",
      "При сравнении доли пользователей, перешедших на Tutorial из PaymentScreenSuccessful:\n",
      "p-значение:  0.9121675205768531\n",
      "Не получилось отвергнуть нулевую гипотезу, нет оснований считать доли разными\n",
      "\n"
     ]
    }
   ],
   "source": [
    "#дальше сделаем опять цикл\n",
    "\n",
    "for i in range(ab_test_users.shape[0] - 1):\n",
    "    successes = np.array([ab_test_users['control_users'].iloc[i+1], ab_test_users['users_248'].iloc[i+1]])\n",
    "    trials = np.array([ab_test_users['control_users'].iloc[i], ab_test_users['users_248'].iloc[i]])\n",
    "    \n",
    "    \n",
    "    print(f'При сравнении доли пользователей, перешедших на {ab_test_users.index[i+1]} из {ab_test_users.index[i]}:')\n",
    "    equalty(successes, trials)\n",
    "    print()"
   ]
  },
  {
   "cell_type": "markdown",
   "metadata": {},
   "source": [
    "При сравнении объединенной контрольной группы мы наблюдаем то же, что и было со второй контрольной группой - разница долей пользователей, перешедших на страницу PaymentScreenSuccessful из страницы CartScreenAppear."
   ]
  },
  {
   "cell_type": "markdown",
   "metadata": {},
   "source": [
    "Таким образом, из проведенного эксперимента можно сделать вывод о том, что никаких существенных изменений новый шрифт не привнес - он не повлиял на переход из основного окна на страницу с товаром или в корзину, однако, немного увеличил конверсию между переходом из корзины в успешную оплату заказа - одно из самых важных для бизнеса действий со стороны пользователя."
   ]
  },
  {
   "cell_type": "markdown",
   "metadata": {},
   "source": [
    "**Какой уровень значимости вы выбрали при проверке статистических гипотез?**"
   ]
  },
  {
   "cell_type": "markdown",
   "metadata": {},
   "source": [
    "При написании функции мы определили стандартный критический уровень статистической значимости в 0.05. При сравнении показателей одной группы с другой мы делали 5 проверок статистических гипотез. Мы сравнивали две контрольных группы, экспериментальную группу с контрольными по отдельности и в совокупности - то есть всего 4 раза. Итого, в рамках настоящего исследования было проведено 20 проверок.\n",
    "\n",
    "Несколько сравнений, проводимых на одних и тех же данных — это множественный тест. Его важная особенность в том, что с каждой новой проверкой гипотезы растёт вероятность ошибки первого рода. Если всякий раз вероятность ошибиться равна ɑ, то вероятность не ошибиться: 1-ɑ. Так, вероятность не ошибиться ни разу за k сравнений равна (1-ɑ)^k.\n",
    "\n",
    "В нашем случае вероятность не ошибиться ни разу за 20 сравнений равна почти 36% - негусто.\n",
    "\n",
    "Кажется, следует изменить уровень статистической значимости до 0.01 - тогда вероятность не ошибиться увеличится до 81%."
   ]
  },
  {
   "cell_type": "code",
   "execution_count": 45,
   "metadata": {},
   "outputs": [],
   "source": [
    "#перепишем функцию\n",
    "\n",
    "def equalty(successes, trials):\n",
    "    \n",
    "    alpha = .01 # критический уровень статистической значимости\n",
    "    \n",
    "    # пропорция успехов в первой группе:\n",
    "    p1 = successes[0]/trials[0]\n",
    "    \n",
    "    # пропорция успехов во второй группе:\n",
    "    p2 = successes[1]/trials[1]\n",
    "    \n",
    "    # пропорция успехов в комбинированном датасете:\n",
    "    p_combined = (successes[0] + successes[1]) / (trials[0] + trials[1])\n",
    "    \n",
    "    # разница пропорций в датасетах\n",
    "    difference = p1 - p2 \n",
    "    \n",
    "    # считаем статистику в ст.отклонениях стандартного нормального распределения\n",
    "    z_value = difference / mth.sqrt(p_combined * (1 - p_combined) * (1/trials[0] + 1/trials[1]))\n",
    "    \n",
    "    # задаем стандартное нормальное распределение (среднее 0, ст.отклонение 1)\n",
    "    distr = st.norm(0, 1)\n",
    "    \n",
    "    p_value = (1 - distr.cdf(abs(z_value))) * 2\n",
    "    \n",
    "    print('p-значение: ', p_value)\n",
    "    \n",
    "    if p_value < alpha:\n",
    "        print('Отвергаем нулевую гипотезу: между долями есть значимая разница')\n",
    "    else:\n",
    "        print(\n",
    "            'Не получилось отвергнуть нулевую гипотезу, нет оснований считать доли разными'\n",
    "        )"
   ]
  },
  {
   "cell_type": "markdown",
   "metadata": {},
   "source": []
  },
  {
   "cell_type": "markdown",
   "metadata": {},
   "source": [
    "Так как внесенное изменение может повлиять лишь на наши выводы относительно значимости разницы в долях общей контрольной группы и экспериментальной, проверим лишь последние вычисления."
   ]
  },
  {
   "cell_type": "code",
   "execution_count": 46,
   "metadata": {},
   "outputs": [
    {
     "name": "stdout",
     "output_type": "stream",
     "text": [
      "При сравнении доли пользователей, перешедших на OffersScreenAppear из MainScreenAppear:\n",
      "p-значение:  0.5308589432077624\n",
      "Не получилось отвергнуть нулевую гипотезу, нет оснований считать доли разными\n",
      "\n",
      "При сравнении доли пользователей, перешедших на CartScreenAppear из OffersScreenAppear:\n",
      "p-значение:  0.23905954279947372\n",
      "Не получилось отвергнуть нулевую гипотезу, нет оснований считать доли разными\n",
      "\n",
      "При сравнении доли пользователей, перешедших на PaymentScreenSuccessful из CartScreenAppear:\n",
      "p-значение:  0.017114434319547067\n",
      "Не получилось отвергнуть нулевую гипотезу, нет оснований считать доли разными\n",
      "\n",
      "При сравнении доли пользователей, перешедших на Tutorial из PaymentScreenSuccessful:\n",
      "p-значение:  0.9121675205768531\n",
      "Не получилось отвергнуть нулевую гипотезу, нет оснований считать доли разными\n",
      "\n"
     ]
    }
   ],
   "source": [
    "for i in range(ab_test_users.shape[0] - 1):\n",
    "    successes = np.array([ab_test_users['control_users'].iloc[i+1], ab_test_users['users_248'].iloc[i+1]])\n",
    "    trials = np.array([ab_test_users['control_users'].iloc[i], ab_test_users['users_248'].iloc[i]])\n",
    "    \n",
    "    \n",
    "    print(f'При сравнении доли пользователей, перешедших на {ab_test_users.index[i+1]} из {ab_test_users.index[i]}:')\n",
    "    equalty(successes, trials)\n",
    "    print()"
   ]
  },
  {
   "cell_type": "markdown",
   "metadata": {},
   "source": [
    "При измененном уровне значимости поменялись выводы - теперь при сравнении доли пользователей, перешедших на PaymentScreenSuccessful из CartScreenAppear,  отвергнуть нулевую гипотезу не получилось и нет оснований считать доли разными."
   ]
  },
  {
   "cell_type": "markdown",
   "metadata": {},
   "source": [
    "### Вывод"
   ]
  },
  {
   "cell_type": "markdown",
   "metadata": {},
   "source": [
    "Результатами проведенного исследования можно считать следующее:\n",
    "- Для исследования использовались данные за 7 дней.\n",
    "- Статистически значимой разницы между контрольными группами А/А-теста нет, данные пригодны для дальнейшего сравнения с экспериментальной группой.\n",
    "- По полученным данным нет статистически значимой разницы между первой контрольной группой и экспериментальной, между второй контрольной группой и экспериментальной и между совокупной контрольной группой и экспериментальной.\n",
    "\n",
    "Полагаю, что тест необходимо остановить из-за отсутствия каких-либо изменений в поведении пользователей и признать неуспешным."
   ]
  }
 ],
 "metadata": {
  "ExecuteTimeLog": [
   {
    "duration": 1626,
    "start_time": "2023-03-28T13:37:00.158Z"
   },
   {
    "duration": 3,
    "start_time": "2023-03-28T13:37:14.574Z"
   },
   {
    "duration": 896,
    "start_time": "2023-03-28T13:37:39.937Z"
   },
   {
    "duration": 50,
    "start_time": "2023-03-28T16:29:21.160Z"
   },
   {
    "duration": 385,
    "start_time": "2023-03-28T16:29:28.926Z"
   },
   {
    "duration": 609,
    "start_time": "2023-03-28T16:29:29.313Z"
   },
   {
    "duration": 12,
    "start_time": "2023-03-28T16:29:29.923Z"
   },
   {
    "duration": 72,
    "start_time": "2023-03-28T16:30:36.178Z"
   },
   {
    "duration": 71,
    "start_time": "2023-03-28T16:31:23.556Z"
   },
   {
    "duration": 69,
    "start_time": "2023-03-28T16:36:26.849Z"
   },
   {
    "duration": 77,
    "start_time": "2023-03-28T16:36:32.005Z"
   },
   {
    "duration": 136,
    "start_time": "2023-03-28T16:37:07.178Z"
   },
   {
    "duration": 7,
    "start_time": "2023-03-28T16:37:10.912Z"
   },
   {
    "duration": 18,
    "start_time": "2023-03-28T16:37:43.723Z"
   },
   {
    "duration": 6,
    "start_time": "2023-03-28T16:41:35.423Z"
   },
   {
    "duration": 59,
    "start_time": "2023-03-28T16:42:03.985Z"
   },
   {
    "duration": 4,
    "start_time": "2023-03-28T16:42:08.650Z"
   },
   {
    "duration": 9,
    "start_time": "2023-03-28T16:54:48.762Z"
   },
   {
    "duration": 4,
    "start_time": "2023-03-28T16:57:35.841Z"
   },
   {
    "duration": 13202,
    "start_time": "2023-03-28T16:57:46.423Z"
   },
   {
    "duration": 5,
    "start_time": "2023-03-28T16:58:36.344Z"
   },
   {
    "duration": 29,
    "start_time": "2023-03-28T16:59:30.146Z"
   },
   {
    "duration": 8,
    "start_time": "2023-03-28T16:59:56.591Z"
   },
   {
    "duration": 8,
    "start_time": "2023-03-28T17:00:41.026Z"
   },
   {
    "duration": 10,
    "start_time": "2023-03-28T17:00:45.285Z"
   },
   {
    "duration": 7,
    "start_time": "2023-03-28T17:02:34.109Z"
   },
   {
    "duration": 1391,
    "start_time": "2023-03-28T17:03:59.786Z"
   },
   {
    "duration": 362,
    "start_time": "2023-03-28T17:04:13.477Z"
   },
   {
    "duration": 138,
    "start_time": "2023-03-28T17:04:13.843Z"
   },
   {
    "duration": 12,
    "start_time": "2023-03-28T17:04:13.982Z"
   },
   {
    "duration": 17,
    "start_time": "2023-03-28T17:04:13.996Z"
   },
   {
    "duration": 5,
    "start_time": "2023-03-28T17:04:14.014Z"
   },
   {
    "duration": 9,
    "start_time": "2023-03-28T17:04:14.020Z"
   },
   {
    "duration": 27,
    "start_time": "2023-03-28T17:04:14.031Z"
   },
   {
    "duration": 101,
    "start_time": "2023-03-28T17:04:14.059Z"
   },
   {
    "duration": 13,
    "start_time": "2023-03-28T17:04:21.259Z"
   },
   {
    "duration": 11,
    "start_time": "2023-03-28T17:05:15.369Z"
   },
   {
    "duration": 1179,
    "start_time": "2023-03-28T17:05:17.257Z"
   },
   {
    "duration": 0,
    "start_time": "2023-03-28T17:05:18.437Z"
   },
   {
    "duration": 0,
    "start_time": "2023-03-28T17:05:18.439Z"
   },
   {
    "duration": 412,
    "start_time": "2023-03-28T17:05:29.145Z"
   },
   {
    "duration": 146,
    "start_time": "2023-03-28T17:05:29.559Z"
   },
   {
    "duration": 14,
    "start_time": "2023-03-28T17:05:29.707Z"
   },
   {
    "duration": 45,
    "start_time": "2023-03-28T17:05:29.723Z"
   },
   {
    "duration": 7,
    "start_time": "2023-03-28T17:05:29.770Z"
   },
   {
    "duration": 37,
    "start_time": "2023-03-28T17:05:29.779Z"
   },
   {
    "duration": 27,
    "start_time": "2023-03-28T17:05:29.818Z"
   },
   {
    "duration": 1295,
    "start_time": "2023-03-28T17:05:29.847Z"
   },
   {
    "duration": 0,
    "start_time": "2023-03-28T17:05:31.143Z"
   },
   {
    "duration": 89,
    "start_time": "2023-03-28T17:05:39.305Z"
   },
   {
    "duration": 18,
    "start_time": "2023-03-28T17:05:41.552Z"
   },
   {
    "duration": 71,
    "start_time": "2023-03-28T17:09:41.325Z"
   },
   {
    "duration": 61,
    "start_time": "2023-03-28T17:09:49.324Z"
   },
   {
    "duration": 62,
    "start_time": "2023-03-28T17:09:56.363Z"
   },
   {
    "duration": 73,
    "start_time": "2023-03-28T17:10:13.861Z"
   },
   {
    "duration": 68,
    "start_time": "2023-03-28T17:11:45.346Z"
   },
   {
    "duration": 156,
    "start_time": "2023-03-28T17:14:52.186Z"
   },
   {
    "duration": 15,
    "start_time": "2023-03-28T17:15:09.057Z"
   },
   {
    "duration": 939,
    "start_time": "2023-03-28T17:16:44.596Z"
   },
   {
    "duration": 73,
    "start_time": "2023-03-28T17:16:57.436Z"
   },
   {
    "duration": 43,
    "start_time": "2023-03-28T17:17:14.465Z"
   },
   {
    "duration": 1513,
    "start_time": "2023-03-28T17:17:23.617Z"
   },
   {
    "duration": 1324,
    "start_time": "2023-03-28T17:17:32.586Z"
   },
   {
    "duration": 19,
    "start_time": "2023-03-28T17:19:37.644Z"
   },
   {
    "duration": 160,
    "start_time": "2023-03-28T17:19:51.360Z"
   },
   {
    "duration": 12,
    "start_time": "2023-03-28T17:19:55.115Z"
   },
   {
    "duration": 1023,
    "start_time": "2023-03-28T17:20:01.015Z"
   },
   {
    "duration": 150,
    "start_time": "2023-03-28T17:20:02.040Z"
   },
   {
    "duration": 10,
    "start_time": "2023-03-28T17:20:02.191Z"
   },
   {
    "duration": 77,
    "start_time": "2023-03-28T17:20:02.202Z"
   },
   {
    "duration": 12,
    "start_time": "2023-03-28T17:20:02.282Z"
   },
   {
    "duration": 58,
    "start_time": "2023-03-28T17:20:02.296Z"
   },
   {
    "duration": 62,
    "start_time": "2023-03-28T17:20:02.356Z"
   },
   {
    "duration": 77,
    "start_time": "2023-03-28T17:20:02.420Z"
   },
   {
    "duration": 167,
    "start_time": "2023-03-28T17:20:02.499Z"
   },
   {
    "duration": 1241,
    "start_time": "2023-03-28T17:20:02.668Z"
   },
   {
    "duration": 12,
    "start_time": "2023-03-28T17:20:03.911Z"
   },
   {
    "duration": 2555,
    "start_time": "2023-03-28T17:20:03.924Z"
   },
   {
    "duration": 29,
    "start_time": "2023-03-28T17:20:41.083Z"
   },
   {
    "duration": 27,
    "start_time": "2023-03-28T17:20:49.023Z"
   },
   {
    "duration": 23,
    "start_time": "2023-03-28T17:21:59.335Z"
   },
   {
    "duration": 12,
    "start_time": "2023-03-28T17:22:37.980Z"
   },
   {
    "duration": 6,
    "start_time": "2023-03-28T17:22:43.729Z"
   },
   {
    "duration": 13,
    "start_time": "2023-03-28T17:27:20.393Z"
   },
   {
    "duration": 7,
    "start_time": "2023-03-28T17:27:42.039Z"
   },
   {
    "duration": 11,
    "start_time": "2023-03-28T17:27:47.996Z"
   },
   {
    "duration": 10,
    "start_time": "2023-03-28T17:27:55.486Z"
   },
   {
    "duration": 5,
    "start_time": "2023-03-28T17:28:08.115Z"
   },
   {
    "duration": 23,
    "start_time": "2023-03-28T17:28:22.272Z"
   },
   {
    "duration": 26,
    "start_time": "2023-03-28T17:28:40.070Z"
   },
   {
    "duration": 15,
    "start_time": "2023-03-28T17:29:29.597Z"
   },
   {
    "duration": 15,
    "start_time": "2023-03-28T17:29:38.092Z"
   },
   {
    "duration": 25,
    "start_time": "2023-03-28T17:30:07.741Z"
   },
   {
    "duration": 28,
    "start_time": "2023-03-28T17:35:07.072Z"
   },
   {
    "duration": 19,
    "start_time": "2023-03-28T17:35:19.596Z"
   },
   {
    "duration": 15,
    "start_time": "2023-03-28T17:35:25.430Z"
   },
   {
    "duration": 20,
    "start_time": "2023-03-28T17:36:44.477Z"
   },
   {
    "duration": 5,
    "start_time": "2023-03-28T17:38:17.788Z"
   },
   {
    "duration": 1312,
    "start_time": "2023-03-29T13:43:34.259Z"
   },
   {
    "duration": 678,
    "start_time": "2023-03-29T13:43:35.573Z"
   },
   {
    "duration": 10,
    "start_time": "2023-03-29T13:43:36.253Z"
   },
   {
    "duration": 36,
    "start_time": "2023-03-29T13:43:36.264Z"
   },
   {
    "duration": 3,
    "start_time": "2023-03-29T13:43:36.302Z"
   },
   {
    "duration": 12,
    "start_time": "2023-03-29T13:43:36.307Z"
   },
   {
    "duration": 14,
    "start_time": "2023-03-29T13:43:36.321Z"
   },
   {
    "duration": 88,
    "start_time": "2023-03-29T13:43:36.337Z"
   },
   {
    "duration": 175,
    "start_time": "2023-03-29T13:43:36.427Z"
   },
   {
    "duration": 1361,
    "start_time": "2023-03-29T13:43:36.604Z"
   },
   {
    "duration": 30,
    "start_time": "2023-03-29T13:43:37.966Z"
   },
   {
    "duration": 17,
    "start_time": "2023-03-29T13:43:37.997Z"
   },
   {
    "duration": 7,
    "start_time": "2023-03-29T13:43:38.015Z"
   },
   {
    "duration": 17,
    "start_time": "2023-03-29T13:43:38.023Z"
   },
   {
    "duration": 91,
    "start_time": "2023-03-29T13:43:52.225Z"
   },
   {
    "duration": 14,
    "start_time": "2023-03-29T13:43:56.924Z"
   },
   {
    "duration": 16,
    "start_time": "2023-03-29T13:44:34.008Z"
   },
   {
    "duration": 16,
    "start_time": "2023-03-29T13:44:46.852Z"
   },
   {
    "duration": 29,
    "start_time": "2023-03-29T13:45:08.755Z"
   },
   {
    "duration": 5,
    "start_time": "2023-03-29T13:45:42.374Z"
   },
   {
    "duration": 7,
    "start_time": "2023-03-29T13:46:18.344Z"
   },
   {
    "duration": 331,
    "start_time": "2023-03-29T13:47:23.011Z"
   },
   {
    "duration": 7,
    "start_time": "2023-03-29T13:47:30.225Z"
   },
   {
    "duration": 9,
    "start_time": "2023-03-29T13:48:10.800Z"
   },
   {
    "duration": 13,
    "start_time": "2023-03-29T13:49:17.549Z"
   },
   {
    "duration": 7,
    "start_time": "2023-03-29T13:49:29.091Z"
   },
   {
    "duration": 53,
    "start_time": "2023-03-29T13:50:07.342Z"
   },
   {
    "duration": 7,
    "start_time": "2023-03-29T13:50:36.155Z"
   },
   {
    "duration": 225,
    "start_time": "2023-03-29T13:51:46.960Z"
   },
   {
    "duration": 150,
    "start_time": "2023-03-29T13:51:54.338Z"
   },
   {
    "duration": 2,
    "start_time": "2023-03-29T13:53:16.329Z"
   },
   {
    "duration": 220,
    "start_time": "2023-03-29T13:54:34.088Z"
   },
   {
    "duration": 204,
    "start_time": "2023-03-29T14:00:21.735Z"
   },
   {
    "duration": 240,
    "start_time": "2023-03-29T14:00:28.913Z"
   },
   {
    "duration": 263,
    "start_time": "2023-03-29T14:01:30.535Z"
   },
   {
    "duration": 13,
    "start_time": "2023-03-29T14:10:56.426Z"
   },
   {
    "duration": 193,
    "start_time": "2023-03-29T14:11:34.414Z"
   },
   {
    "duration": 181,
    "start_time": "2023-03-29T14:12:13.024Z"
   },
   {
    "duration": 18,
    "start_time": "2023-03-29T14:13:22.764Z"
   },
   {
    "duration": 21,
    "start_time": "2023-03-29T14:13:36.018Z"
   },
   {
    "duration": 12,
    "start_time": "2023-03-29T14:13:53.213Z"
   },
   {
    "duration": 255,
    "start_time": "2023-03-29T14:14:33.288Z"
   },
   {
    "duration": 237,
    "start_time": "2023-03-29T14:14:47.038Z"
   },
   {
    "duration": 5,
    "start_time": "2023-03-29T14:15:12.496Z"
   },
   {
    "duration": 27,
    "start_time": "2023-03-29T14:15:57.912Z"
   },
   {
    "duration": 5,
    "start_time": "2023-03-29T14:16:04.516Z"
   },
   {
    "duration": 1274,
    "start_time": "2023-03-29T16:01:28.970Z"
   },
   {
    "duration": 853,
    "start_time": "2023-03-29T16:01:30.245Z"
   },
   {
    "duration": 14,
    "start_time": "2023-03-29T16:01:31.100Z"
   },
   {
    "duration": 58,
    "start_time": "2023-03-29T16:01:31.116Z"
   },
   {
    "duration": 24,
    "start_time": "2023-03-29T16:01:31.176Z"
   },
   {
    "duration": 53,
    "start_time": "2023-03-29T16:01:31.202Z"
   },
   {
    "duration": 39,
    "start_time": "2023-03-29T16:01:31.257Z"
   },
   {
    "duration": 89,
    "start_time": "2023-03-29T16:01:31.298Z"
   },
   {
    "duration": 172,
    "start_time": "2023-03-29T16:01:31.389Z"
   },
   {
    "duration": 1197,
    "start_time": "2023-03-29T16:01:31.565Z"
   },
   {
    "duration": 26,
    "start_time": "2023-03-29T16:01:32.764Z"
   },
   {
    "duration": 16,
    "start_time": "2023-03-29T16:01:32.791Z"
   },
   {
    "duration": 6,
    "start_time": "2023-03-29T16:01:32.809Z"
   },
   {
    "duration": 52,
    "start_time": "2023-03-29T16:01:32.817Z"
   },
   {
    "duration": 14,
    "start_time": "2023-03-29T16:01:32.871Z"
   },
   {
    "duration": 10,
    "start_time": "2023-03-29T16:01:32.887Z"
   },
   {
    "duration": 315,
    "start_time": "2023-03-29T16:01:32.898Z"
   },
   {
    "duration": 120,
    "start_time": "2023-03-29T16:01:33.215Z"
   },
   {
    "duration": 0,
    "start_time": "2023-03-29T16:01:33.337Z"
   },
   {
    "duration": 8,
    "start_time": "2023-03-29T16:01:44.105Z"
   },
   {
    "duration": 19,
    "start_time": "2023-03-29T16:01:53.497Z"
   },
   {
    "duration": 7,
    "start_time": "2023-03-29T16:01:56.823Z"
   },
   {
    "duration": 14,
    "start_time": "2023-03-29T16:03:05.266Z"
   },
   {
    "duration": 81,
    "start_time": "2023-03-29T16:03:53.189Z"
   },
   {
    "duration": 5,
    "start_time": "2023-03-29T16:04:17.530Z"
   },
   {
    "duration": 6,
    "start_time": "2023-03-29T16:05:50.167Z"
   },
   {
    "duration": 14,
    "start_time": "2023-03-29T16:06:11.902Z"
   },
   {
    "duration": 12,
    "start_time": "2023-03-29T16:06:45.773Z"
   },
   {
    "duration": 8,
    "start_time": "2023-03-29T16:07:26.995Z"
   },
   {
    "duration": 5,
    "start_time": "2023-03-29T16:07:38.374Z"
   },
   {
    "duration": 13,
    "start_time": "2023-03-29T16:07:55.976Z"
   },
   {
    "duration": 5,
    "start_time": "2023-03-29T16:08:03.427Z"
   },
   {
    "duration": 5,
    "start_time": "2023-03-29T16:09:49.459Z"
   },
   {
    "duration": 18,
    "start_time": "2023-03-29T16:09:52.722Z"
   },
   {
    "duration": 25,
    "start_time": "2023-03-29T16:11:17.578Z"
   },
   {
    "duration": 11,
    "start_time": "2023-03-29T16:21:36.237Z"
   },
   {
    "duration": 13,
    "start_time": "2023-03-29T16:32:11.363Z"
   },
   {
    "duration": 3,
    "start_time": "2023-03-29T16:33:07.555Z"
   },
   {
    "duration": 15,
    "start_time": "2023-03-29T16:33:12.296Z"
   },
   {
    "duration": 81,
    "start_time": "2023-03-29T16:44:03.858Z"
   },
   {
    "duration": 75,
    "start_time": "2023-03-29T16:44:22.531Z"
   },
   {
    "duration": 82,
    "start_time": "2023-03-29T16:44:35.647Z"
   },
   {
    "duration": 25,
    "start_time": "2023-03-29T17:01:50.772Z"
   },
   {
    "duration": 1206,
    "start_time": "2023-03-29T17:02:32.090Z"
   },
   {
    "duration": 146,
    "start_time": "2023-03-29T17:02:33.298Z"
   },
   {
    "duration": 11,
    "start_time": "2023-03-29T17:02:33.446Z"
   },
   {
    "duration": 47,
    "start_time": "2023-03-29T17:02:33.458Z"
   },
   {
    "duration": 3,
    "start_time": "2023-03-29T17:02:33.507Z"
   },
   {
    "duration": 11,
    "start_time": "2023-03-29T17:02:33.512Z"
   },
   {
    "duration": 14,
    "start_time": "2023-03-29T17:02:33.525Z"
   },
   {
    "duration": 76,
    "start_time": "2023-03-29T17:02:33.540Z"
   },
   {
    "duration": 168,
    "start_time": "2023-03-29T17:02:33.618Z"
   },
   {
    "duration": 1538,
    "start_time": "2023-03-29T17:02:33.788Z"
   },
   {
    "duration": 46,
    "start_time": "2023-03-29T17:02:35.330Z"
   },
   {
    "duration": 47,
    "start_time": "2023-03-29T17:02:35.378Z"
   },
   {
    "duration": 14,
    "start_time": "2023-03-29T17:02:35.427Z"
   },
   {
    "duration": 62,
    "start_time": "2023-03-29T17:02:35.443Z"
   },
   {
    "duration": 18,
    "start_time": "2023-03-29T17:02:35.507Z"
   },
   {
    "duration": 11,
    "start_time": "2023-03-29T17:02:35.527Z"
   },
   {
    "duration": 398,
    "start_time": "2023-03-29T17:02:35.540Z"
   },
   {
    "duration": 39,
    "start_time": "2023-03-29T17:02:35.941Z"
   },
   {
    "duration": 40,
    "start_time": "2023-03-29T17:02:35.983Z"
   },
   {
    "duration": 471,
    "start_time": "2023-03-29T17:02:36.025Z"
   },
   {
    "duration": 0,
    "start_time": "2023-03-29T17:02:36.497Z"
   },
   {
    "duration": 1,
    "start_time": "2023-03-29T17:02:36.498Z"
   },
   {
    "duration": 0,
    "start_time": "2023-03-29T17:02:36.499Z"
   },
   {
    "duration": 128,
    "start_time": "2023-03-29T17:02:42.911Z"
   },
   {
    "duration": 24,
    "start_time": "2023-03-29T17:03:04.716Z"
   },
   {
    "duration": 3,
    "start_time": "2023-03-29T17:03:16.371Z"
   },
   {
    "duration": 22,
    "start_time": "2023-03-29T17:03:19.674Z"
   },
   {
    "duration": 11,
    "start_time": "2023-03-29T17:04:14.389Z"
   },
   {
    "duration": 14,
    "start_time": "2023-03-29T17:04:20.969Z"
   },
   {
    "duration": 78,
    "start_time": "2023-03-29T17:04:38.611Z"
   },
   {
    "duration": 6,
    "start_time": "2023-03-29T17:04:51.473Z"
   },
   {
    "duration": 10,
    "start_time": "2023-03-29T17:04:56.537Z"
   },
   {
    "duration": 10,
    "start_time": "2023-03-29T17:05:09.442Z"
   },
   {
    "duration": 1347,
    "start_time": "2023-03-29T17:07:25.058Z"
   },
   {
    "duration": 10,
    "start_time": "2023-03-29T17:07:45.942Z"
   },
   {
    "duration": 7,
    "start_time": "2023-03-29T17:07:55.200Z"
   },
   {
    "duration": 20,
    "start_time": "2023-03-29T17:08:03.158Z"
   },
   {
    "duration": 1486,
    "start_time": "2023-03-29T17:33:21.116Z"
   },
   {
    "duration": 11,
    "start_time": "2023-03-29T17:33:28.818Z"
   },
   {
    "duration": 11,
    "start_time": "2023-03-29T17:33:59.622Z"
   },
   {
    "duration": 19,
    "start_time": "2023-03-29T17:34:13.744Z"
   },
   {
    "duration": 11,
    "start_time": "2023-03-29T17:34:19.369Z"
   },
   {
    "duration": 24,
    "start_time": "2023-03-29T17:37:17.465Z"
   },
   {
    "duration": 23,
    "start_time": "2023-03-29T17:40:06.697Z"
   },
   {
    "duration": 22,
    "start_time": "2023-03-29T17:40:23.366Z"
   },
   {
    "duration": 33,
    "start_time": "2023-03-29T17:41:05.066Z"
   },
   {
    "duration": 14,
    "start_time": "2023-03-29T17:49:44.391Z"
   },
   {
    "duration": 29,
    "start_time": "2023-03-29T17:50:41.965Z"
   },
   {
    "duration": 167,
    "start_time": "2023-03-29T17:51:08.179Z"
   },
   {
    "duration": 40,
    "start_time": "2023-03-29T17:51:20.837Z"
   },
   {
    "duration": 43,
    "start_time": "2023-03-29T17:52:24.299Z"
   },
   {
    "duration": 43,
    "start_time": "2023-03-29T17:52:31.912Z"
   },
   {
    "duration": 43,
    "start_time": "2023-03-29T17:52:35.340Z"
   },
   {
    "duration": 24,
    "start_time": "2023-03-29T17:52:57.738Z"
   },
   {
    "duration": 16,
    "start_time": "2023-03-29T18:04:22.417Z"
   },
   {
    "duration": 46,
    "start_time": "2023-03-29T18:10:23.992Z"
   },
   {
    "duration": 35,
    "start_time": "2023-03-29T18:12:50.935Z"
   },
   {
    "duration": 11,
    "start_time": "2023-03-29T18:13:55.543Z"
   },
   {
    "duration": 5,
    "start_time": "2023-03-29T18:14:08.142Z"
   },
   {
    "duration": 8,
    "start_time": "2023-03-29T18:14:13.635Z"
   },
   {
    "duration": 11,
    "start_time": "2023-03-29T18:17:41.189Z"
   },
   {
    "duration": 10,
    "start_time": "2023-03-29T18:18:19.345Z"
   },
   {
    "duration": 42,
    "start_time": "2023-03-29T18:20:44.863Z"
   },
   {
    "duration": 44,
    "start_time": "2023-03-29T18:20:54.269Z"
   },
   {
    "duration": 52,
    "start_time": "2023-03-29T18:21:05.959Z"
   },
   {
    "duration": 8,
    "start_time": "2023-03-29T18:30:08.998Z"
   },
   {
    "duration": 7,
    "start_time": "2023-03-29T18:31:22.228Z"
   },
   {
    "duration": 8,
    "start_time": "2023-03-29T18:31:30.938Z"
   },
   {
    "duration": 4,
    "start_time": "2023-03-29T18:32:43.893Z"
   },
   {
    "duration": 2040,
    "start_time": "2023-03-29T18:32:51.334Z"
   },
   {
    "duration": 38,
    "start_time": "2023-03-29T18:33:22.021Z"
   },
   {
    "duration": 7,
    "start_time": "2023-03-29T18:33:26.775Z"
   },
   {
    "duration": 19,
    "start_time": "2023-03-29T18:58:48.312Z"
   },
   {
    "duration": 12,
    "start_time": "2023-03-29T18:58:59.134Z"
   },
   {
    "duration": 10,
    "start_time": "2023-03-29T18:59:09.017Z"
   },
   {
    "duration": 11,
    "start_time": "2023-03-29T18:59:32.633Z"
   },
   {
    "duration": 10,
    "start_time": "2023-03-29T18:59:54.574Z"
   },
   {
    "duration": 7,
    "start_time": "2023-03-29T19:00:21.221Z"
   },
   {
    "duration": 4,
    "start_time": "2023-03-29T19:01:08.473Z"
   },
   {
    "duration": 4,
    "start_time": "2023-03-29T19:01:32.732Z"
   },
   {
    "duration": 7,
    "start_time": "2023-03-29T19:02:46.240Z"
   },
   {
    "duration": 5,
    "start_time": "2023-03-29T19:02:51.905Z"
   },
   {
    "duration": 6,
    "start_time": "2023-03-29T19:03:08.685Z"
   },
   {
    "duration": 4,
    "start_time": "2023-03-29T19:03:28.421Z"
   },
   {
    "duration": 4,
    "start_time": "2023-03-29T19:03:31.609Z"
   },
   {
    "duration": 13,
    "start_time": "2023-03-29T19:04:41.539Z"
   },
   {
    "duration": 10,
    "start_time": "2023-03-29T19:08:19.885Z"
   },
   {
    "duration": 6,
    "start_time": "2023-03-29T19:08:39.387Z"
   },
   {
    "duration": 5,
    "start_time": "2023-03-29T19:09:04.499Z"
   },
   {
    "duration": 10,
    "start_time": "2023-03-29T19:09:30.516Z"
   },
   {
    "duration": 5,
    "start_time": "2023-03-29T19:11:25.819Z"
   },
   {
    "duration": 11,
    "start_time": "2023-03-29T19:13:15.464Z"
   },
   {
    "duration": 1201,
    "start_time": "2023-03-29T19:13:25.566Z"
   },
   {
    "duration": 177,
    "start_time": "2023-03-29T19:13:26.769Z"
   },
   {
    "duration": 13,
    "start_time": "2023-03-29T19:13:26.948Z"
   },
   {
    "duration": 30,
    "start_time": "2023-03-29T19:13:26.964Z"
   },
   {
    "duration": 9,
    "start_time": "2023-03-29T19:13:26.996Z"
   },
   {
    "duration": 13,
    "start_time": "2023-03-29T19:13:27.007Z"
   },
   {
    "duration": 31,
    "start_time": "2023-03-29T19:13:27.022Z"
   },
   {
    "duration": 77,
    "start_time": "2023-03-29T19:13:27.055Z"
   },
   {
    "duration": 183,
    "start_time": "2023-03-29T19:13:27.134Z"
   },
   {
    "duration": 1234,
    "start_time": "2023-03-29T19:13:27.320Z"
   },
   {
    "duration": 28,
    "start_time": "2023-03-29T19:13:28.556Z"
   },
   {
    "duration": 16,
    "start_time": "2023-03-29T19:13:28.586Z"
   },
   {
    "duration": 6,
    "start_time": "2023-03-29T19:13:28.604Z"
   },
   {
    "duration": 43,
    "start_time": "2023-03-29T19:13:28.611Z"
   },
   {
    "duration": 17,
    "start_time": "2023-03-29T19:13:28.655Z"
   },
   {
    "duration": 7,
    "start_time": "2023-03-29T19:13:28.673Z"
   },
   {
    "duration": 331,
    "start_time": "2023-03-29T19:13:28.681Z"
   },
   {
    "duration": 17,
    "start_time": "2023-03-29T19:13:29.014Z"
   },
   {
    "duration": 39,
    "start_time": "2023-03-29T19:13:29.032Z"
   },
   {
    "duration": 41,
    "start_time": "2023-03-29T19:13:29.073Z"
   },
   {
    "duration": 3,
    "start_time": "2023-03-29T19:13:29.115Z"
   },
   {
    "duration": 19,
    "start_time": "2023-03-29T19:13:29.120Z"
   },
   {
    "duration": 29,
    "start_time": "2023-03-29T19:13:29.140Z"
   },
   {
    "duration": 53,
    "start_time": "2023-03-29T19:13:29.170Z"
   },
   {
    "duration": 9,
    "start_time": "2023-03-29T19:13:29.224Z"
   },
   {
    "duration": 106,
    "start_time": "2023-03-29T19:13:36.223Z"
   },
   {
    "duration": 8,
    "start_time": "2023-03-29T19:13:47.313Z"
   },
   {
    "duration": 19,
    "start_time": "2023-03-29T19:13:59.846Z"
   },
   {
    "duration": 45,
    "start_time": "2023-03-30T14:35:04.400Z"
   },
   {
    "duration": 1421,
    "start_time": "2023-03-30T14:35:11.318Z"
   },
   {
    "duration": 796,
    "start_time": "2023-03-30T14:35:12.741Z"
   },
   {
    "duration": 12,
    "start_time": "2023-03-30T14:35:13.540Z"
   },
   {
    "duration": 26,
    "start_time": "2023-03-30T14:35:13.554Z"
   },
   {
    "duration": 4,
    "start_time": "2023-03-30T14:35:13.582Z"
   },
   {
    "duration": 20,
    "start_time": "2023-03-30T14:35:13.588Z"
   },
   {
    "duration": 13,
    "start_time": "2023-03-30T14:35:13.610Z"
   },
   {
    "duration": 100,
    "start_time": "2023-03-30T14:35:13.625Z"
   },
   {
    "duration": 178,
    "start_time": "2023-03-30T14:35:13.727Z"
   },
   {
    "duration": 1538,
    "start_time": "2023-03-30T14:35:13.909Z"
   },
   {
    "duration": 35,
    "start_time": "2023-03-30T14:35:15.449Z"
   },
   {
    "duration": 30,
    "start_time": "2023-03-30T14:35:15.486Z"
   },
   {
    "duration": 16,
    "start_time": "2023-03-30T14:35:15.518Z"
   },
   {
    "duration": 18,
    "start_time": "2023-03-30T14:35:15.536Z"
   },
   {
    "duration": 28,
    "start_time": "2023-03-30T14:35:15.556Z"
   },
   {
    "duration": 8,
    "start_time": "2023-03-30T14:35:15.586Z"
   },
   {
    "duration": 393,
    "start_time": "2023-03-30T14:35:15.595Z"
   },
   {
    "duration": 18,
    "start_time": "2023-03-30T14:35:15.990Z"
   },
   {
    "duration": 6,
    "start_time": "2023-03-30T14:35:16.009Z"
   },
   {
    "duration": 18,
    "start_time": "2023-03-30T14:35:16.017Z"
   },
   {
    "duration": 3,
    "start_time": "2023-03-30T14:35:16.036Z"
   },
   {
    "duration": 31,
    "start_time": "2023-03-30T14:35:16.041Z"
   },
   {
    "duration": 35,
    "start_time": "2023-03-30T14:35:16.077Z"
   },
   {
    "duration": 59,
    "start_time": "2023-03-30T14:35:16.114Z"
   },
   {
    "duration": 14,
    "start_time": "2023-03-30T14:35:16.179Z"
   },
   {
    "duration": 19,
    "start_time": "2023-03-30T14:35:16.195Z"
   },
   {
    "duration": 4,
    "start_time": "2023-03-30T14:35:29.312Z"
   },
   {
    "duration": 4,
    "start_time": "2023-03-30T14:36:06.186Z"
   },
   {
    "duration": 5,
    "start_time": "2023-03-30T14:36:26.614Z"
   },
   {
    "duration": 5,
    "start_time": "2023-03-30T14:55:39.896Z"
   },
   {
    "duration": 4,
    "start_time": "2023-03-30T15:00:12.767Z"
   },
   {
    "duration": 142,
    "start_time": "2023-03-30T15:03:27.203Z"
   },
   {
    "duration": 4,
    "start_time": "2023-03-30T15:03:36.164Z"
   },
   {
    "duration": 4,
    "start_time": "2023-03-30T15:03:42.565Z"
   },
   {
    "duration": 3,
    "start_time": "2023-03-30T15:04:05.602Z"
   },
   {
    "duration": 15,
    "start_time": "2023-03-30T15:07:34.988Z"
   },
   {
    "duration": 21,
    "start_time": "2023-03-30T15:07:50.659Z"
   },
   {
    "duration": 42,
    "start_time": "2023-03-30T15:08:08.259Z"
   },
   {
    "duration": 9,
    "start_time": "2023-03-30T15:08:15.652Z"
   },
   {
    "duration": 44,
    "start_time": "2023-03-30T15:08:36.903Z"
   },
   {
    "duration": 7,
    "start_time": "2023-03-30T15:08:37.487Z"
   },
   {
    "duration": 10,
    "start_time": "2023-03-30T15:09:30.788Z"
   },
   {
    "duration": 54,
    "start_time": "2023-03-30T15:09:40.448Z"
   },
   {
    "duration": 13,
    "start_time": "2023-03-30T15:09:41.587Z"
   },
   {
    "duration": 42,
    "start_time": "2023-03-30T15:12:18.738Z"
   },
   {
    "duration": 10,
    "start_time": "2023-03-30T15:12:24.077Z"
   },
   {
    "duration": 733,
    "start_time": "2023-03-30T15:14:36.671Z"
   },
   {
    "duration": 44,
    "start_time": "2023-03-30T15:14:57.695Z"
   },
   {
    "duration": 10,
    "start_time": "2023-03-30T15:15:01.406Z"
   },
   {
    "duration": 47,
    "start_time": "2023-03-30T15:16:14.773Z"
   },
   {
    "duration": 10,
    "start_time": "2023-03-30T15:16:16.629Z"
   },
   {
    "duration": 51,
    "start_time": "2023-03-30T15:16:25.273Z"
   },
   {
    "duration": 10,
    "start_time": "2023-03-30T15:16:26.951Z"
   },
   {
    "duration": 47,
    "start_time": "2023-03-30T15:17:06.968Z"
   },
   {
    "duration": 14,
    "start_time": "2023-03-30T15:17:07.564Z"
   },
   {
    "duration": 47,
    "start_time": "2023-03-30T15:17:34.716Z"
   },
   {
    "duration": 9,
    "start_time": "2023-03-30T15:17:35.827Z"
   },
   {
    "duration": 47,
    "start_time": "2023-03-30T15:17:42.203Z"
   },
   {
    "duration": 13,
    "start_time": "2023-03-30T15:17:43.921Z"
   },
   {
    "duration": 46,
    "start_time": "2023-03-30T15:18:12.331Z"
   },
   {
    "duration": 14,
    "start_time": "2023-03-30T15:18:13.961Z"
   },
   {
    "duration": 47,
    "start_time": "2023-03-30T15:18:18.359Z"
   },
   {
    "duration": 10,
    "start_time": "2023-03-30T15:18:19.162Z"
   },
   {
    "duration": 45,
    "start_time": "2023-03-30T15:18:51.965Z"
   },
   {
    "duration": 9,
    "start_time": "2023-03-30T15:18:52.436Z"
   },
   {
    "duration": 53,
    "start_time": "2023-03-30T15:22:15.003Z"
   },
   {
    "duration": 15,
    "start_time": "2023-03-30T15:26:16.326Z"
   },
   {
    "duration": 12,
    "start_time": "2023-03-30T15:26:45.917Z"
   },
   {
    "duration": 18,
    "start_time": "2023-03-30T15:28:27.759Z"
   },
   {
    "duration": 15,
    "start_time": "2023-03-30T15:28:34.511Z"
   },
   {
    "duration": 15,
    "start_time": "2023-03-30T15:28:51.329Z"
   },
   {
    "duration": 13,
    "start_time": "2023-03-30T15:29:21.426Z"
   },
   {
    "duration": 16,
    "start_time": "2023-03-30T15:29:27.404Z"
   },
   {
    "duration": 16,
    "start_time": "2023-03-30T15:31:33.331Z"
   },
   {
    "duration": 15,
    "start_time": "2023-03-30T15:32:41.556Z"
   },
   {
    "duration": 15,
    "start_time": "2023-03-30T15:33:17.937Z"
   },
   {
    "duration": 8,
    "start_time": "2023-03-30T15:42:57.999Z"
   },
   {
    "duration": 8,
    "start_time": "2023-03-30T15:46:51.738Z"
   },
   {
    "duration": 14,
    "start_time": "2023-03-30T15:46:55.861Z"
   },
   {
    "duration": 9,
    "start_time": "2023-03-30T15:48:20.707Z"
   },
   {
    "duration": 9,
    "start_time": "2023-03-30T15:48:38.748Z"
   },
   {
    "duration": 8,
    "start_time": "2023-03-30T15:49:29.314Z"
   },
   {
    "duration": 8,
    "start_time": "2023-03-30T15:49:31.940Z"
   },
   {
    "duration": 16,
    "start_time": "2023-03-30T15:49:55.578Z"
   },
   {
    "duration": 9,
    "start_time": "2023-03-30T15:49:56.680Z"
   },
   {
    "duration": 24,
    "start_time": "2023-03-30T15:51:28.120Z"
   },
   {
    "duration": 16,
    "start_time": "2023-03-30T15:51:55.512Z"
   },
   {
    "duration": 12,
    "start_time": "2023-03-30T15:51:56.307Z"
   },
   {
    "duration": 3,
    "start_time": "2023-03-30T15:52:50.141Z"
   },
   {
    "duration": 16,
    "start_time": "2023-03-30T15:52:53.248Z"
   },
   {
    "duration": 9,
    "start_time": "2023-03-30T15:53:26.126Z"
   },
   {
    "duration": 4,
    "start_time": "2023-03-30T16:59:42.338Z"
   },
   {
    "duration": 3,
    "start_time": "2023-03-30T17:00:14.926Z"
   },
   {
    "duration": 26,
    "start_time": "2023-03-30T17:03:04.040Z"
   },
   {
    "duration": 19,
    "start_time": "2023-03-30T17:03:18.614Z"
   },
   {
    "duration": 27,
    "start_time": "2023-03-30T17:03:23.880Z"
   },
   {
    "duration": 1699,
    "start_time": "2023-03-31T13:54:03.630Z"
   },
   {
    "duration": 1490,
    "start_time": "2023-03-31T13:54:05.336Z"
   },
   {
    "duration": 13,
    "start_time": "2023-03-31T13:54:06.827Z"
   },
   {
    "duration": 30,
    "start_time": "2023-03-31T13:54:06.842Z"
   },
   {
    "duration": 16,
    "start_time": "2023-03-31T13:54:06.874Z"
   },
   {
    "duration": 16,
    "start_time": "2023-03-31T13:54:06.892Z"
   },
   {
    "duration": 24,
    "start_time": "2023-03-31T13:54:06.911Z"
   },
   {
    "duration": 111,
    "start_time": "2023-03-31T13:54:06.937Z"
   },
   {
    "duration": 214,
    "start_time": "2023-03-31T13:54:07.050Z"
   },
   {
    "duration": 1833,
    "start_time": "2023-03-31T13:54:07.280Z"
   },
   {
    "duration": 5,
    "start_time": "2023-03-31T13:54:09.117Z"
   },
   {
    "duration": 54,
    "start_time": "2023-03-31T13:54:09.127Z"
   },
   {
    "duration": 37,
    "start_time": "2023-03-31T13:54:09.184Z"
   },
   {
    "duration": 10,
    "start_time": "2023-03-31T13:54:09.223Z"
   },
   {
    "duration": 19,
    "start_time": "2023-03-31T13:54:09.235Z"
   },
   {
    "duration": 39,
    "start_time": "2023-03-31T13:54:09.256Z"
   },
   {
    "duration": 441,
    "start_time": "2023-03-31T13:54:09.298Z"
   },
   {
    "duration": 19,
    "start_time": "2023-03-31T13:54:09.740Z"
   },
   {
    "duration": 23,
    "start_time": "2023-03-31T13:54:09.761Z"
   },
   {
    "duration": 24,
    "start_time": "2023-03-31T13:54:09.791Z"
   },
   {
    "duration": 4,
    "start_time": "2023-03-31T13:54:09.824Z"
   },
   {
    "duration": 26,
    "start_time": "2023-03-31T13:54:09.830Z"
   },
   {
    "duration": 27,
    "start_time": "2023-03-31T13:54:09.858Z"
   },
   {
    "duration": 66,
    "start_time": "2023-03-31T13:54:09.887Z"
   },
   {
    "duration": 10,
    "start_time": "2023-03-31T13:54:09.954Z"
   },
   {
    "duration": 4,
    "start_time": "2023-03-31T13:54:09.966Z"
   },
   {
    "duration": 9,
    "start_time": "2023-03-31T13:54:09.975Z"
   },
   {
    "duration": 7,
    "start_time": "2023-03-31T13:54:09.989Z"
   },
   {
    "duration": 107,
    "start_time": "2023-03-31T13:54:09.998Z"
   },
   {
    "duration": 20,
    "start_time": "2023-03-31T13:54:10.115Z"
   },
   {
    "duration": 10,
    "start_time": "2023-03-31T13:54:10.136Z"
   },
   {
    "duration": 16,
    "start_time": "2023-03-31T13:54:10.148Z"
   },
   {
    "duration": 29,
    "start_time": "2023-03-31T13:54:10.166Z"
   },
   {
    "duration": 8,
    "start_time": "2023-03-31T13:56:47.200Z"
   },
   {
    "duration": 6,
    "start_time": "2023-03-31T14:08:54.354Z"
   },
   {
    "duration": 10,
    "start_time": "2023-03-31T14:11:42.618Z"
   },
   {
    "duration": 4,
    "start_time": "2023-03-31T14:12:55.238Z"
   },
   {
    "duration": 21,
    "start_time": "2023-03-31T14:14:03.669Z"
   },
   {
    "duration": 24,
    "start_time": "2023-03-31T14:14:20.302Z"
   },
   {
    "duration": 12,
    "start_time": "2023-03-31T14:16:04.701Z"
   },
   {
    "duration": 8,
    "start_time": "2023-03-31T14:16:45.510Z"
   },
   {
    "duration": 11,
    "start_time": "2023-03-31T14:17:17.288Z"
   },
   {
    "duration": 15,
    "start_time": "2023-03-31T14:17:50.596Z"
   },
   {
    "duration": 48,
    "start_time": "2023-03-31T14:27:07.807Z"
   },
   {
    "duration": 19,
    "start_time": "2023-03-31T14:27:10.690Z"
   },
   {
    "duration": 11,
    "start_time": "2023-03-31T14:30:23.534Z"
   },
   {
    "duration": 10,
    "start_time": "2023-03-31T14:31:08.740Z"
   },
   {
    "duration": 12,
    "start_time": "2023-03-31T14:31:19.265Z"
   },
   {
    "duration": 11,
    "start_time": "2023-03-31T14:33:13.430Z"
   },
   {
    "duration": 11,
    "start_time": "2023-03-31T14:33:38.141Z"
   },
   {
    "duration": 18,
    "start_time": "2023-03-31T14:34:04.200Z"
   },
   {
    "duration": 11,
    "start_time": "2023-03-31T14:34:08.758Z"
   },
   {
    "duration": 1177,
    "start_time": "2023-03-31T14:37:33.161Z"
   },
   {
    "duration": 29,
    "start_time": "2023-03-31T14:37:55.010Z"
   },
   {
    "duration": 9,
    "start_time": "2023-03-31T14:38:23.023Z"
   },
   {
    "duration": 28,
    "start_time": "2023-03-31T14:38:37.928Z"
   },
   {
    "duration": 11,
    "start_time": "2023-03-31T14:38:43.658Z"
   },
   {
    "duration": 66,
    "start_time": "2023-03-31T14:39:07.641Z"
   },
   {
    "duration": 20,
    "start_time": "2023-03-31T14:39:11.769Z"
   },
   {
    "duration": 1215,
    "start_time": "2023-03-31T14:39:20.801Z"
   },
   {
    "duration": 162,
    "start_time": "2023-03-31T14:39:22.019Z"
   },
   {
    "duration": 17,
    "start_time": "2023-03-31T14:39:22.182Z"
   },
   {
    "duration": 22,
    "start_time": "2023-03-31T14:39:22.200Z"
   },
   {
    "duration": 3,
    "start_time": "2023-03-31T14:39:22.226Z"
   },
   {
    "duration": 12,
    "start_time": "2023-03-31T14:39:22.231Z"
   },
   {
    "duration": 52,
    "start_time": "2023-03-31T14:39:22.245Z"
   },
   {
    "duration": 83,
    "start_time": "2023-03-31T14:39:22.302Z"
   },
   {
    "duration": 216,
    "start_time": "2023-03-31T14:39:22.387Z"
   },
   {
    "duration": 1552,
    "start_time": "2023-03-31T14:39:22.608Z"
   },
   {
    "duration": 5,
    "start_time": "2023-03-31T14:39:24.162Z"
   },
   {
    "duration": 66,
    "start_time": "2023-03-31T14:39:24.176Z"
   },
   {
    "duration": 23,
    "start_time": "2023-03-31T14:39:24.244Z"
   },
   {
    "duration": 17,
    "start_time": "2023-03-31T14:39:24.271Z"
   },
   {
    "duration": 27,
    "start_time": "2023-03-31T14:39:24.290Z"
   },
   {
    "duration": 10,
    "start_time": "2023-03-31T14:39:24.320Z"
   },
   {
    "duration": 474,
    "start_time": "2023-03-31T14:39:24.333Z"
   },
   {
    "duration": 19,
    "start_time": "2023-03-31T14:39:24.809Z"
   },
   {
    "duration": 7,
    "start_time": "2023-03-31T14:39:24.830Z"
   },
   {
    "duration": 56,
    "start_time": "2023-03-31T14:39:24.839Z"
   },
   {
    "duration": 4,
    "start_time": "2023-03-31T14:39:24.905Z"
   },
   {
    "duration": 24,
    "start_time": "2023-03-31T14:39:24.911Z"
   },
   {
    "duration": 22,
    "start_time": "2023-03-31T14:39:24.936Z"
   },
   {
    "duration": 57,
    "start_time": "2023-03-31T14:39:24.959Z"
   },
   {
    "duration": 11,
    "start_time": "2023-03-31T14:39:25.018Z"
   },
   {
    "duration": 24,
    "start_time": "2023-03-31T14:39:25.031Z"
   },
   {
    "duration": 13,
    "start_time": "2023-03-31T14:39:25.057Z"
   },
   {
    "duration": 28,
    "start_time": "2023-03-31T14:39:25.072Z"
   },
   {
    "duration": 55,
    "start_time": "2023-03-31T14:39:25.102Z"
   },
   {
    "duration": 20,
    "start_time": "2023-03-31T14:39:25.159Z"
   },
   {
    "duration": 10,
    "start_time": "2023-03-31T14:39:25.186Z"
   },
   {
    "duration": 26,
    "start_time": "2023-03-31T14:39:25.198Z"
   },
   {
    "duration": 9,
    "start_time": "2023-03-31T14:39:25.226Z"
   },
   {
    "duration": 6,
    "start_time": "2023-03-31T14:39:25.237Z"
   },
   {
    "duration": 24,
    "start_time": "2023-03-31T14:39:25.244Z"
   },
   {
    "duration": 14,
    "start_time": "2023-03-31T14:39:25.270Z"
   },
   {
    "duration": 36,
    "start_time": "2023-03-31T14:39:25.285Z"
   },
   {
    "duration": 12,
    "start_time": "2023-03-31T14:39:25.323Z"
   },
   {
    "duration": 18,
    "start_time": "2023-03-31T14:39:50.695Z"
   },
   {
    "duration": 12,
    "start_time": "2023-03-31T14:39:51.564Z"
   },
   {
    "duration": 1237,
    "start_time": "2023-03-31T14:39:57.770Z"
   },
   {
    "duration": 178,
    "start_time": "2023-03-31T14:39:59.010Z"
   },
   {
    "duration": 16,
    "start_time": "2023-03-31T14:39:59.193Z"
   },
   {
    "duration": 35,
    "start_time": "2023-03-31T14:39:59.211Z"
   },
   {
    "duration": 5,
    "start_time": "2023-03-31T14:39:59.249Z"
   },
   {
    "duration": 35,
    "start_time": "2023-03-31T14:39:59.255Z"
   },
   {
    "duration": 31,
    "start_time": "2023-03-31T14:39:59.292Z"
   },
   {
    "duration": 128,
    "start_time": "2023-03-31T14:39:59.325Z"
   },
   {
    "duration": 195,
    "start_time": "2023-03-31T14:39:59.454Z"
   },
   {
    "duration": 1660,
    "start_time": "2023-03-31T14:39:59.651Z"
   },
   {
    "duration": 4,
    "start_time": "2023-03-31T14:40:01.314Z"
   },
   {
    "duration": 79,
    "start_time": "2023-03-31T14:40:01.319Z"
   },
   {
    "duration": 67,
    "start_time": "2023-03-31T14:40:01.400Z"
   },
   {
    "duration": 63,
    "start_time": "2023-03-31T14:40:01.471Z"
   },
   {
    "duration": 87,
    "start_time": "2023-03-31T14:40:01.536Z"
   },
   {
    "duration": 52,
    "start_time": "2023-03-31T14:40:01.625Z"
   },
   {
    "duration": 456,
    "start_time": "2023-03-31T14:40:01.686Z"
   },
   {
    "duration": 47,
    "start_time": "2023-03-31T14:40:02.144Z"
   },
   {
    "duration": 20,
    "start_time": "2023-03-31T14:40:02.193Z"
   },
   {
    "duration": 21,
    "start_time": "2023-03-31T14:40:02.217Z"
   },
   {
    "duration": 18,
    "start_time": "2023-03-31T14:40:02.241Z"
   },
   {
    "duration": 83,
    "start_time": "2023-03-31T14:40:02.261Z"
   },
   {
    "duration": 34,
    "start_time": "2023-03-31T14:40:02.346Z"
   },
   {
    "duration": 79,
    "start_time": "2023-03-31T14:40:02.382Z"
   },
   {
    "duration": 16,
    "start_time": "2023-03-31T14:40:02.463Z"
   },
   {
    "duration": 5,
    "start_time": "2023-03-31T14:40:02.481Z"
   },
   {
    "duration": 28,
    "start_time": "2023-03-31T14:40:02.487Z"
   },
   {
    "duration": 11,
    "start_time": "2023-03-31T14:40:02.517Z"
   },
   {
    "duration": 63,
    "start_time": "2023-03-31T14:40:02.530Z"
   },
   {
    "duration": 25,
    "start_time": "2023-03-31T14:40:02.595Z"
   },
   {
    "duration": 14,
    "start_time": "2023-03-31T14:40:02.622Z"
   },
   {
    "duration": 32,
    "start_time": "2023-03-31T14:40:02.637Z"
   },
   {
    "duration": 13,
    "start_time": "2023-03-31T14:40:02.670Z"
   },
   {
    "duration": 12,
    "start_time": "2023-03-31T14:40:02.689Z"
   },
   {
    "duration": 20,
    "start_time": "2023-03-31T14:40:02.704Z"
   },
   {
    "duration": 14,
    "start_time": "2023-03-31T14:40:02.726Z"
   },
   {
    "duration": 49,
    "start_time": "2023-03-31T14:40:02.742Z"
   },
   {
    "duration": 19,
    "start_time": "2023-03-31T14:40:02.794Z"
   },
   {
    "duration": 7,
    "start_time": "2023-03-31T14:54:29.513Z"
   },
   {
    "duration": 1078,
    "start_time": "2023-03-31T14:55:15.241Z"
   },
   {
    "duration": 44,
    "start_time": "2023-03-31T14:55:25.602Z"
   },
   {
    "duration": 11,
    "start_time": "2023-03-31T14:55:32.438Z"
   },
   {
    "duration": 50,
    "start_time": "2023-03-31T14:55:57.301Z"
   },
   {
    "duration": 1086,
    "start_time": "2023-03-31T15:00:13.400Z"
   },
   {
    "duration": 25,
    "start_time": "2023-03-31T15:01:02.578Z"
   },
   {
    "duration": 10,
    "start_time": "2023-03-31T15:02:04.718Z"
   },
   {
    "duration": 15,
    "start_time": "2023-03-31T15:03:45.135Z"
   },
   {
    "duration": 15,
    "start_time": "2023-03-31T15:04:01.050Z"
   },
   {
    "duration": 10,
    "start_time": "2023-03-31T15:14:33.816Z"
   },
   {
    "duration": 4,
    "start_time": "2023-03-31T15:15:10.833Z"
   },
   {
    "duration": 9,
    "start_time": "2023-03-31T15:15:36.598Z"
   },
   {
    "duration": 14,
    "start_time": "2023-03-31T15:15:43.510Z"
   },
   {
    "duration": 32,
    "start_time": "2023-03-31T15:21:48.166Z"
   },
   {
    "duration": 22,
    "start_time": "2023-03-31T15:22:41.370Z"
   },
   {
    "duration": 19,
    "start_time": "2023-03-31T15:22:47.901Z"
   },
   {
    "duration": 27,
    "start_time": "2023-03-31T15:23:11.967Z"
   },
   {
    "duration": 18,
    "start_time": "2023-03-31T15:23:24.316Z"
   },
   {
    "duration": 5,
    "start_time": "2023-03-31T15:53:42.030Z"
   },
   {
    "duration": 36,
    "start_time": "2023-03-31T15:54:24.667Z"
   },
   {
    "duration": 25,
    "start_time": "2023-03-31T15:56:45.901Z"
   },
   {
    "duration": 1369,
    "start_time": "2023-03-31T17:59:05.276Z"
   },
   {
    "duration": 188,
    "start_time": "2023-03-31T17:59:06.647Z"
   },
   {
    "duration": 12,
    "start_time": "2023-03-31T17:59:06.836Z"
   },
   {
    "duration": 62,
    "start_time": "2023-03-31T17:59:06.850Z"
   },
   {
    "duration": 7,
    "start_time": "2023-03-31T17:59:06.916Z"
   },
   {
    "duration": 16,
    "start_time": "2023-03-31T17:59:06.925Z"
   },
   {
    "duration": 15,
    "start_time": "2023-03-31T17:59:06.942Z"
   },
   {
    "duration": 105,
    "start_time": "2023-03-31T17:59:06.960Z"
   },
   {
    "duration": 204,
    "start_time": "2023-03-31T17:59:07.067Z"
   },
   {
    "duration": 1770,
    "start_time": "2023-03-31T17:59:07.276Z"
   },
   {
    "duration": 4,
    "start_time": "2023-03-31T17:59:09.048Z"
   },
   {
    "duration": 65,
    "start_time": "2023-03-31T17:59:09.054Z"
   },
   {
    "duration": 19,
    "start_time": "2023-03-31T17:59:09.121Z"
   },
   {
    "duration": 7,
    "start_time": "2023-03-31T17:59:09.142Z"
   },
   {
    "duration": 48,
    "start_time": "2023-03-31T17:59:09.150Z"
   },
   {
    "duration": 18,
    "start_time": "2023-03-31T17:59:09.199Z"
   },
   {
    "duration": 413,
    "start_time": "2023-03-31T17:59:09.219Z"
   },
   {
    "duration": 18,
    "start_time": "2023-03-31T17:59:09.634Z"
   },
   {
    "duration": 29,
    "start_time": "2023-03-31T17:59:09.653Z"
   },
   {
    "duration": 44,
    "start_time": "2023-03-31T17:59:09.686Z"
   },
   {
    "duration": 17,
    "start_time": "2023-03-31T17:59:09.732Z"
   },
   {
    "duration": 22,
    "start_time": "2023-03-31T17:59:09.751Z"
   },
   {
    "duration": 44,
    "start_time": "2023-03-31T17:59:09.784Z"
   },
   {
    "duration": 43,
    "start_time": "2023-03-31T17:59:09.830Z"
   },
   {
    "duration": 19,
    "start_time": "2023-03-31T17:59:09.880Z"
   },
   {
    "duration": 4,
    "start_time": "2023-03-31T17:59:09.901Z"
   },
   {
    "duration": 7,
    "start_time": "2023-03-31T17:59:09.907Z"
   },
   {
    "duration": 4,
    "start_time": "2023-03-31T17:59:09.920Z"
   },
   {
    "duration": 70,
    "start_time": "2023-03-31T17:59:09.927Z"
   },
   {
    "duration": 22,
    "start_time": "2023-03-31T17:59:10.000Z"
   },
   {
    "duration": 9,
    "start_time": "2023-03-31T17:59:10.027Z"
   },
   {
    "duration": 35,
    "start_time": "2023-03-31T17:59:10.038Z"
   },
   {
    "duration": 22,
    "start_time": "2023-03-31T17:59:10.078Z"
   },
   {
    "duration": 9,
    "start_time": "2023-03-31T17:59:10.103Z"
   },
   {
    "duration": 24,
    "start_time": "2023-03-31T17:59:10.114Z"
   },
   {
    "duration": 11,
    "start_time": "2023-03-31T17:59:10.140Z"
   },
   {
    "duration": 56,
    "start_time": "2023-03-31T17:59:10.153Z"
   },
   {
    "duration": 19,
    "start_time": "2023-03-31T17:59:10.215Z"
   },
   {
    "duration": 11,
    "start_time": "2023-03-31T17:59:10.235Z"
   },
   {
    "duration": 49,
    "start_time": "2023-03-31T17:59:10.248Z"
   },
   {
    "duration": 19,
    "start_time": "2023-03-31T17:59:10.304Z"
   },
   {
    "duration": 12,
    "start_time": "2023-03-31T17:59:10.325Z"
   },
   {
    "duration": 58,
    "start_time": "2023-03-31T17:59:10.339Z"
   },
   {
    "duration": 31,
    "start_time": "2023-03-31T17:59:10.399Z"
   },
   {
    "duration": 7,
    "start_time": "2023-03-31T17:59:10.433Z"
   },
   {
    "duration": 26,
    "start_time": "2023-03-31T17:59:10.442Z"
   },
   {
    "duration": 635,
    "start_time": "2023-03-31T18:24:42.722Z"
   },
   {
    "duration": 46,
    "start_time": "2023-03-31T20:34:36.100Z"
   },
   {
    "duration": 1296,
    "start_time": "2023-03-31T20:34:42.440Z"
   },
   {
    "duration": 529,
    "start_time": "2023-03-31T20:34:43.739Z"
   },
   {
    "duration": 9,
    "start_time": "2023-03-31T20:34:44.270Z"
   },
   {
    "duration": 19,
    "start_time": "2023-03-31T20:34:44.281Z"
   },
   {
    "duration": 4,
    "start_time": "2023-03-31T20:34:44.301Z"
   },
   {
    "duration": 9,
    "start_time": "2023-03-31T20:34:44.306Z"
   },
   {
    "duration": 25,
    "start_time": "2023-03-31T20:34:44.317Z"
   },
   {
    "duration": 72,
    "start_time": "2023-03-31T20:34:44.343Z"
   },
   {
    "duration": 172,
    "start_time": "2023-03-31T20:34:44.417Z"
   },
   {
    "duration": 1419,
    "start_time": "2023-03-31T20:34:44.591Z"
   },
   {
    "duration": 3,
    "start_time": "2023-03-31T20:34:46.012Z"
   },
   {
    "duration": 39,
    "start_time": "2023-03-31T20:34:46.017Z"
   },
   {
    "duration": 17,
    "start_time": "2023-03-31T20:34:46.057Z"
   },
   {
    "duration": 7,
    "start_time": "2023-03-31T20:34:46.075Z"
   },
   {
    "duration": 22,
    "start_time": "2023-03-31T20:34:46.083Z"
   },
   {
    "duration": 32,
    "start_time": "2023-03-31T20:34:46.106Z"
   },
   {
    "duration": 669,
    "start_time": "2023-03-31T20:34:46.139Z"
   },
   {
    "duration": 30,
    "start_time": "2023-03-31T20:34:46.810Z"
   },
   {
    "duration": 5,
    "start_time": "2023-03-31T20:34:46.841Z"
   },
   {
    "duration": 16,
    "start_time": "2023-03-31T20:34:46.847Z"
   },
   {
    "duration": 4,
    "start_time": "2023-03-31T20:34:46.864Z"
   },
   {
    "duration": 22,
    "start_time": "2023-03-31T20:34:46.869Z"
   },
   {
    "duration": 21,
    "start_time": "2023-03-31T20:34:46.893Z"
   },
   {
    "duration": 40,
    "start_time": "2023-03-31T20:34:46.935Z"
   },
   {
    "duration": 8,
    "start_time": "2023-03-31T20:34:46.977Z"
   },
   {
    "duration": 9,
    "start_time": "2023-03-31T20:34:46.987Z"
   },
   {
    "duration": 8,
    "start_time": "2023-03-31T20:34:46.997Z"
   },
   {
    "duration": 26,
    "start_time": "2023-03-31T20:34:47.008Z"
   },
   {
    "duration": 44,
    "start_time": "2023-03-31T20:34:47.036Z"
   },
   {
    "duration": 14,
    "start_time": "2023-03-31T20:34:47.081Z"
   },
   {
    "duration": 9,
    "start_time": "2023-03-31T20:34:47.096Z"
   },
   {
    "duration": 38,
    "start_time": "2023-03-31T20:34:47.106Z"
   },
   {
    "duration": 8,
    "start_time": "2023-03-31T20:34:47.145Z"
   },
   {
    "duration": 22,
    "start_time": "2023-03-31T20:34:47.154Z"
   },
   {
    "duration": 25,
    "start_time": "2023-03-31T20:34:47.178Z"
   },
   {
    "duration": 12,
    "start_time": "2023-03-31T20:34:47.205Z"
   },
   {
    "duration": 39,
    "start_time": "2023-03-31T20:34:47.219Z"
   },
   {
    "duration": 17,
    "start_time": "2023-03-31T20:34:47.260Z"
   },
   {
    "duration": 16,
    "start_time": "2023-03-31T20:34:47.278Z"
   },
   {
    "duration": 39,
    "start_time": "2023-03-31T20:34:47.296Z"
   },
   {
    "duration": 15,
    "start_time": "2023-03-31T20:34:47.336Z"
   },
   {
    "duration": 14,
    "start_time": "2023-03-31T20:34:47.353Z"
   },
   {
    "duration": 27,
    "start_time": "2023-03-31T20:34:47.369Z"
   },
   {
    "duration": 18,
    "start_time": "2023-03-31T20:34:47.398Z"
   },
   {
    "duration": 15,
    "start_time": "2023-03-31T20:34:47.417Z"
   },
   {
    "duration": 31,
    "start_time": "2023-03-31T20:34:47.434Z"
   }
  ],
  "kernelspec": {
   "display_name": "Python 3 (ipykernel)",
   "language": "python",
   "name": "python3"
  },
  "language_info": {
   "codemirror_mode": {
    "name": "ipython",
    "version": 3
   },
   "file_extension": ".py",
   "mimetype": "text/x-python",
   "name": "python",
   "nbconvert_exporter": "python",
   "pygments_lexer": "ipython3",
   "version": "3.9.13"
  },
  "toc": {
   "base_numbering": 1,
   "nav_menu": {},
   "number_sections": false,
   "sideBar": true,
   "skip_h1_title": false,
   "title_cell": "Table of Contents",
   "title_sidebar": "Contents",
   "toc_cell": false,
   "toc_position": {
    "height": "calc(100% - 180px)",
    "left": "10px",
    "top": "150px",
    "width": "190.44px"
   },
   "toc_section_display": true,
   "toc_window_display": true
  }
 },
 "nbformat": 4,
 "nbformat_minor": 4
}
