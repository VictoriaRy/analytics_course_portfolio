{
 "cells": [
  {
   "cell_type": "markdown",
   "metadata": {},
   "source": [
    "# Исследование данных о продажах игр\n",
    "\n",
    "В нашем распоряжении данные до 2016 года о продажах игр, оценки пользователей и экспертов, жанры и платформы.  Задача — выявить определяющие успешность игры закономерности. Это позволит сделать ставку на потенциально популярный продукт и спланировать рекламные кампании. \n",
    "\n",
    "В наборе данных попадается аббревиатура ESRB (Entertainment Software Rating Board) — это ассоциация, определяющая возрастной рейтинг компьютерных игр. ESRB оценивает игровой контент и присваивает ему подходящую возрастную категорию, например, «Для взрослых», «Для детей младшего возраста» или «Для подростков».\n",
    "\n",
    "В ходе исследовательского анализа данных будут рассмотрены следующие аспекты:\n",
    "\n",
    "1. Актуальный период для построения прогноза на 2017 год.\n",
    "2. Определение платформ, лидирующих по продажам.\n",
    "3. Оценка, как влияют на продажи внутри одной популярной платформы отзывы пользователей и критиков.\n",
    "4. Оценка распределения игр по жанрам.\n",
    "5. Портреты пользователей каждого региона.\n",
    "6. Проверка гипотез:\n",
    "    - Средние пользовательские рейтинги платформ Xbox One и PC одинаковые.\n",
    "    - Средние пользовательские рейтинги жанров Action и Sports разные."
   ]
  },
  {
   "cell_type": "markdown",
   "metadata": {},
   "source": [
    "### Открытие файла с данными и изучение общей информации. "
   ]
  },
  {
   "cell_type": "code",
   "execution_count": 1,
   "metadata": {},
   "outputs": [],
   "source": [
    "#импортируем необходимые библиотеки\n",
    "import pandas as pd\n",
    "import seaborn as sns\n",
    "from scipy import stats as st"
   ]
  },
  {
   "cell_type": "code",
   "execution_count": 2,
   "metadata": {},
   "outputs": [],
   "source": [
    "data = pd.read_csv('/datasets/...')"
   ]
  },
  {
   "cell_type": "code",
   "execution_count": 3,
   "metadata": {
    "scrolled": true
   },
   "outputs": [
    {
     "data": {
      "text/html": [
       "<div>\n",
       "<style scoped>\n",
       "    .dataframe tbody tr th:only-of-type {\n",
       "        vertical-align: middle;\n",
       "    }\n",
       "\n",
       "    .dataframe tbody tr th {\n",
       "        vertical-align: top;\n",
       "    }\n",
       "\n",
       "    .dataframe thead th {\n",
       "        text-align: right;\n",
       "    }\n",
       "</style>\n",
       "<table border=\"1\" class=\"dataframe\">\n",
       "  <thead>\n",
       "    <tr style=\"text-align: right;\">\n",
       "      <th></th>\n",
       "      <th>Name</th>\n",
       "      <th>Platform</th>\n",
       "      <th>Year_of_Release</th>\n",
       "      <th>Genre</th>\n",
       "      <th>NA_sales</th>\n",
       "      <th>EU_sales</th>\n",
       "      <th>JP_sales</th>\n",
       "      <th>Other_sales</th>\n",
       "      <th>Critic_Score</th>\n",
       "      <th>User_Score</th>\n",
       "      <th>Rating</th>\n",
       "    </tr>\n",
       "  </thead>\n",
       "  <tbody>\n",
       "    <tr>\n",
       "      <th>0</th>\n",
       "      <td>Wii Sports</td>\n",
       "      <td>Wii</td>\n",
       "      <td>2006.0</td>\n",
       "      <td>Sports</td>\n",
       "      <td>41.36</td>\n",
       "      <td>28.96</td>\n",
       "      <td>3.77</td>\n",
       "      <td>8.45</td>\n",
       "      <td>76.0</td>\n",
       "      <td>8</td>\n",
       "      <td>E</td>\n",
       "    </tr>\n",
       "    <tr>\n",
       "      <th>1</th>\n",
       "      <td>Super Mario Bros.</td>\n",
       "      <td>NES</td>\n",
       "      <td>1985.0</td>\n",
       "      <td>Platform</td>\n",
       "      <td>29.08</td>\n",
       "      <td>3.58</td>\n",
       "      <td>6.81</td>\n",
       "      <td>0.77</td>\n",
       "      <td>NaN</td>\n",
       "      <td>NaN</td>\n",
       "      <td>NaN</td>\n",
       "    </tr>\n",
       "    <tr>\n",
       "      <th>2</th>\n",
       "      <td>Mario Kart Wii</td>\n",
       "      <td>Wii</td>\n",
       "      <td>2008.0</td>\n",
       "      <td>Racing</td>\n",
       "      <td>15.68</td>\n",
       "      <td>12.76</td>\n",
       "      <td>3.79</td>\n",
       "      <td>3.29</td>\n",
       "      <td>82.0</td>\n",
       "      <td>8.3</td>\n",
       "      <td>E</td>\n",
       "    </tr>\n",
       "    <tr>\n",
       "      <th>3</th>\n",
       "      <td>Wii Sports Resort</td>\n",
       "      <td>Wii</td>\n",
       "      <td>2009.0</td>\n",
       "      <td>Sports</td>\n",
       "      <td>15.61</td>\n",
       "      <td>10.93</td>\n",
       "      <td>3.28</td>\n",
       "      <td>2.95</td>\n",
       "      <td>80.0</td>\n",
       "      <td>8</td>\n",
       "      <td>E</td>\n",
       "    </tr>\n",
       "    <tr>\n",
       "      <th>4</th>\n",
       "      <td>Pokemon Red/Pokemon Blue</td>\n",
       "      <td>GB</td>\n",
       "      <td>1996.0</td>\n",
       "      <td>Role-Playing</td>\n",
       "      <td>11.27</td>\n",
       "      <td>8.89</td>\n",
       "      <td>10.22</td>\n",
       "      <td>1.00</td>\n",
       "      <td>NaN</td>\n",
       "      <td>NaN</td>\n",
       "      <td>NaN</td>\n",
       "    </tr>\n",
       "  </tbody>\n",
       "</table>\n",
       "</div>"
      ],
      "text/plain": [
       "                       Name Platform  Year_of_Release         Genre  NA_sales  \\\n",
       "0                Wii Sports      Wii           2006.0        Sports     41.36   \n",
       "1         Super Mario Bros.      NES           1985.0      Platform     29.08   \n",
       "2            Mario Kart Wii      Wii           2008.0        Racing     15.68   \n",
       "3         Wii Sports Resort      Wii           2009.0        Sports     15.61   \n",
       "4  Pokemon Red/Pokemon Blue       GB           1996.0  Role-Playing     11.27   \n",
       "\n",
       "   EU_sales  JP_sales  Other_sales  Critic_Score User_Score Rating  \n",
       "0     28.96      3.77         8.45          76.0          8      E  \n",
       "1      3.58      6.81         0.77           NaN        NaN    NaN  \n",
       "2     12.76      3.79         3.29          82.0        8.3      E  \n",
       "3     10.93      3.28         2.95          80.0          8      E  \n",
       "4      8.89     10.22         1.00           NaN        NaN    NaN  "
      ]
     },
     "execution_count": 3,
     "metadata": {},
     "output_type": "execute_result"
    }
   ],
   "source": [
    "#выводим 5 первых строк, чтобы взглянуть на саму таблицу\n",
    "data.head()"
   ]
  },
  {
   "cell_type": "code",
   "execution_count": 4,
   "metadata": {},
   "outputs": [
    {
     "data": {
      "text/plain": [
       "(16715, 11)"
      ]
     },
     "execution_count": 4,
     "metadata": {},
     "output_type": "execute_result"
    }
   ],
   "source": [
    "#выводим размеры ДФ\n",
    "data.shape"
   ]
  },
  {
   "cell_type": "code",
   "execution_count": 5,
   "metadata": {},
   "outputs": [
    {
     "name": "stdout",
     "output_type": "stream",
     "text": [
      "<class 'pandas.core.frame.DataFrame'>\n",
      "RangeIndex: 16715 entries, 0 to 16714\n",
      "Data columns (total 11 columns):\n",
      " #   Column           Non-Null Count  Dtype  \n",
      "---  ------           --------------  -----  \n",
      " 0   Name             16713 non-null  object \n",
      " 1   Platform         16715 non-null  object \n",
      " 2   Year_of_Release  16446 non-null  float64\n",
      " 3   Genre            16713 non-null  object \n",
      " 4   NA_sales         16715 non-null  float64\n",
      " 5   EU_sales         16715 non-null  float64\n",
      " 6   JP_sales         16715 non-null  float64\n",
      " 7   Other_sales      16715 non-null  float64\n",
      " 8   Critic_Score     8137 non-null   float64\n",
      " 9   User_Score       10014 non-null  object \n",
      " 10  Rating           9949 non-null   object \n",
      "dtypes: float64(6), object(5)\n",
      "memory usage: 1.4+ MB\n"
     ]
    }
   ],
   "source": [
    "#выводим общую информацию по ДФ\n",
    "data.info()"
   ]
  },
  {
   "cell_type": "markdown",
   "metadata": {},
   "source": [
    "### Подготовка данных. "
   ]
  },
  {
   "cell_type": "markdown",
   "metadata": {},
   "source": [
    "**Замена названия столбцов (приведение к нижнему регистру).**"
   ]
  },
  {
   "cell_type": "code",
   "execution_count": 6,
   "metadata": {},
   "outputs": [],
   "source": [
    "#для начала приведем все наименования столбцов к змеиному регистру\n",
    "data.columns = data.columns.str.lower()\n",
    "\n",
    "#также хочется сократить наименование слишком длинного столбца `Year_of_Release`\n",
    "data = data.rename(\n",
    "    columns={\n",
    "        'year_of_release': 'release_year'\n",
    "    }\n",
    ")"
   ]
  },
  {
   "cell_type": "markdown",
   "metadata": {},
   "source": [
    "**Преобразование данных в нужные типы.**"
   ]
  },
  {
   "cell_type": "markdown",
   "metadata": {},
   "source": [
    "Возвращаясь к анализу информации, выведенной за счет метода `info()`, можно заметить, что в датафрейме содержится 5 колонок типа object, остальные 5 - к типу float64.\n",
    "\n",
    "Хоть, на первый взгляд, в исследуемом массиве данных присутствуют колонки (в частности, release_year), значения которых могут принимать int, их преобразованием сейчас заниматься не будем - во-первых, такое преобразование не несет никакой пользы, кроме визуальной лаконичности, во-вторых, в таких колонках могут содержаться NaN, что приведет к ошибке. (Мы сделаем это позже, обработав пропуски в столбце)\n",
    "\n",
    "В первую очередь, надо оценить, какие столбцы действительно относятся к object, а в каких, на самом деле, содержатся числовые значения. Преобразование таких столбцов критически важнее для дальнейшей правильной работы применяемых методов и функций.\n",
    "\n",
    "В частности, таким столбцом является user_score, содержащий оценку пользователей."
   ]
  },
  {
   "cell_type": "code",
   "execution_count": 7,
   "metadata": {},
   "outputs": [
    {
     "data": {
      "text/plain": [
       "array(['8', nan, '8.3', '8.5', '6.6', '8.4', '8.6', '7.7', '6.3', '7.4',\n",
       "       '8.2', '9', '7.9', '8.1', '8.7', '7.1', '3.4', '5.3', '4.8', '3.2',\n",
       "       '8.9', '6.4', '7.8', '7.5', '2.6', '7.2', '9.2', '7', '7.3', '4.3',\n",
       "       '7.6', '5.7', '5', '9.1', '6.5', 'tbd', '8.8', '6.9', '9.4', '6.8',\n",
       "       '6.1', '6.7', '5.4', '4', '4.9', '4.5', '9.3', '6.2', '4.2', '6',\n",
       "       '3.7', '4.1', '5.8', '5.6', '5.5', '4.4', '4.6', '5.9', '3.9',\n",
       "       '3.1', '2.9', '5.2', '3.3', '4.7', '5.1', '3.5', '2.5', '1.9', '3',\n",
       "       '2.7', '2.2', '2', '9.5', '2.1', '3.6', '2.8', '1.8', '3.8', '0',\n",
       "       '1.6', '9.6', '2.4', '1.7', '1.1', '0.3', '1.5', '0.7', '1.2',\n",
       "       '2.3', '0.5', '1.3', '0.2', '0.6', '1.4', '0.9', '1', '9.7'],\n",
       "      dtype=object)"
      ]
     },
     "execution_count": 7,
     "metadata": {},
     "output_type": "execute_result"
    }
   ],
   "source": [
    "#для начала, надо посмотреть все уникальные значения, содержащиеся в столбце\n",
    "data['user_score'].unique()"
   ]
  },
  {
   "cell_type": "markdown",
   "metadata": {},
   "source": [
    "Помимо числовых значений и известного нам NaN в данных также присутствует аббревиатура TBD - To Be Determined. Таким образом, это такие же пустые значения, как и NaN, которые, в свою очередь, помешают нам привести колонку к желаемому типу данных."
   ]
  },
  {
   "cell_type": "code",
   "execution_count": 8,
   "metadata": {},
   "outputs": [],
   "source": [
    "data.loc[data['user_score'] == 'tbd', 'user_score'] = float('nan')"
   ]
  },
  {
   "cell_type": "markdown",
   "metadata": {},
   "source": [
    "Теперь можно преобразовать столбец к правильному типу данных."
   ]
  },
  {
   "cell_type": "code",
   "execution_count": 9,
   "metadata": {},
   "outputs": [],
   "source": [
    "data['user_score'] = data['user_score'].astype(float)"
   ]
  },
  {
   "cell_type": "markdown",
   "metadata": {},
   "source": [
    "Помимо совершенный действий, теоретически, можно было бы  еще сэкономить память, дополнительно изменяя типы данных с float64 на float32. Но так как датафрейм сам по себе не слишком большой, здесь этого делать не будем."
   ]
  },
  {
   "cell_type": "markdown",
   "metadata": {},
   "source": [
    "**Обработка пропусков.**"
   ]
  },
  {
   "cell_type": "code",
   "execution_count": 10,
   "metadata": {
    "scrolled": true
   },
   "outputs": [
    {
     "data": {
      "text/plain": [
       "<AxesSubplot:>"
      ]
     },
     "execution_count": 10,
     "metadata": {},
     "output_type": "execute_result"
    },
    {
     "data": {
      "image/png": "[encoded data removed]",
      "text/plain": [
       "<Figure size 432x288 with 2 Axes>"
      ]
     },
     "metadata": {
      "needs_background": "light"
     },
     "output_type": "display_data"
    }
   ],
   "source": [
    "#стоит посмотреть количество пропусков в каждом из столбцов\n",
    "#для лучшего визуального восприятия построим heatmap\n",
    "\n",
    "# определяем цвета \n",
    "# желтый - пропущенные данные, синий - непропущенные\n",
    "colours = ['#000099', '#ffff00'] \n",
    "sns.heatmap(data.isnull(), cmap=sns.color_palette(colours))"
   ]
  },
  {
   "cell_type": "code",
   "execution_count": 11,
   "metadata": {},
   "outputs": [
    {
     "data": {
      "text/plain": [
       "name               2\n",
       "platform           0\n",
       "release_year     269\n",
       "genre              2\n",
       "na_sales           0\n",
       "eu_sales           0\n",
       "jp_sales           0\n",
       "other_sales        0\n",
       "critic_score    8578\n",
       "user_score      9125\n",
       "rating          6766\n",
       "dtype: int64"
      ]
     },
     "execution_count": 11,
     "metadata": {},
     "output_type": "execute_result"
    }
   ],
   "source": [
    "#для достоверности следует вывести также числовые показатели\n",
    "data.isna().sum()"
   ]
  },
  {
   "cell_type": "code",
   "execution_count": 12,
   "metadata": {},
   "outputs": [
    {
     "data": {
      "text/html": [
       "<div>\n",
       "<style scoped>\n",
       "    .dataframe tbody tr th:only-of-type {\n",
       "        vertical-align: middle;\n",
       "    }\n",
       "\n",
       "    .dataframe tbody tr th {\n",
       "        vertical-align: top;\n",
       "    }\n",
       "\n",
       "    .dataframe thead th {\n",
       "        text-align: right;\n",
       "    }\n",
       "</style>\n",
       "<table border=\"1\" class=\"dataframe\">\n",
       "  <thead>\n",
       "    <tr style=\"text-align: right;\">\n",
       "      <th></th>\n",
       "      <th>name</th>\n",
       "      <th>platform</th>\n",
       "      <th>release_year</th>\n",
       "      <th>genre</th>\n",
       "      <th>na_sales</th>\n",
       "      <th>eu_sales</th>\n",
       "      <th>jp_sales</th>\n",
       "      <th>other_sales</th>\n",
       "      <th>critic_score</th>\n",
       "      <th>user_score</th>\n",
       "      <th>rating</th>\n",
       "    </tr>\n",
       "  </thead>\n",
       "  <tbody>\n",
       "    <tr>\n",
       "      <th>659</th>\n",
       "      <td>NaN</td>\n",
       "      <td>GEN</td>\n",
       "      <td>1993.0</td>\n",
       "      <td>NaN</td>\n",
       "      <td>1.78</td>\n",
       "      <td>0.53</td>\n",
       "      <td>0.00</td>\n",
       "      <td>0.08</td>\n",
       "      <td>NaN</td>\n",
       "      <td>NaN</td>\n",
       "      <td>NaN</td>\n",
       "    </tr>\n",
       "    <tr>\n",
       "      <th>14244</th>\n",
       "      <td>NaN</td>\n",
       "      <td>GEN</td>\n",
       "      <td>1993.0</td>\n",
       "      <td>NaN</td>\n",
       "      <td>0.00</td>\n",
       "      <td>0.00</td>\n",
       "      <td>0.03</td>\n",
       "      <td>0.00</td>\n",
       "      <td>NaN</td>\n",
       "      <td>NaN</td>\n",
       "      <td>NaN</td>\n",
       "    </tr>\n",
       "  </tbody>\n",
       "</table>\n",
       "</div>"
      ],
      "text/plain": [
       "      name platform  release_year genre  na_sales  eu_sales  jp_sales  \\\n",
       "659    NaN      GEN        1993.0   NaN      1.78      0.53      0.00   \n",
       "14244  NaN      GEN        1993.0   NaN      0.00      0.00      0.03   \n",
       "\n",
       "       other_sales  critic_score  user_score rating  \n",
       "659           0.08           NaN         NaN    NaN  \n",
       "14244         0.00           NaN         NaN    NaN  "
      ]
     },
     "execution_count": 12,
     "metadata": {},
     "output_type": "execute_result"
    }
   ],
   "source": [
    "#хочется детально взглянуть на строки с пустыми названиями\n",
    "data[data['name'].isna()]"
   ]
  },
  {
   "cell_type": "markdown",
   "metadata": {},
   "source": [
    "В выведенных строках отсутствует не только название - также нет таких важных показателей, как жанр игры и её рейтинги. При отсутствии таких ключевых значений указанные строки являются неинформативными, что позволяет их удалить без ущерба для всего датафрейма."
   ]
  },
  {
   "cell_type": "code",
   "execution_count": 13,
   "metadata": {},
   "outputs": [],
   "source": [
    "data = data.dropna(subset=['name'])"
   ]
  },
  {
   "cell_type": "code",
   "execution_count": 14,
   "metadata": {
    "scrolled": true
   },
   "outputs": [
    {
     "data": {
      "text/html": [
       "<div>\n",
       "<style scoped>\n",
       "    .dataframe tbody tr th:only-of-type {\n",
       "        vertical-align: middle;\n",
       "    }\n",
       "\n",
       "    .dataframe tbody tr th {\n",
       "        vertical-align: top;\n",
       "    }\n",
       "\n",
       "    .dataframe thead th {\n",
       "        text-align: right;\n",
       "    }\n",
       "</style>\n",
       "<table border=\"1\" class=\"dataframe\">\n",
       "  <thead>\n",
       "    <tr style=\"text-align: right;\">\n",
       "      <th></th>\n",
       "      <th>name</th>\n",
       "      <th>platform</th>\n",
       "      <th>release_year</th>\n",
       "      <th>genre</th>\n",
       "      <th>na_sales</th>\n",
       "      <th>eu_sales</th>\n",
       "      <th>jp_sales</th>\n",
       "      <th>other_sales</th>\n",
       "      <th>critic_score</th>\n",
       "      <th>user_score</th>\n",
       "      <th>rating</th>\n",
       "    </tr>\n",
       "  </thead>\n",
       "  <tbody>\n",
       "    <tr>\n",
       "      <th>183</th>\n",
       "      <td>Madden NFL 2004</td>\n",
       "      <td>PS2</td>\n",
       "      <td>NaN</td>\n",
       "      <td>Sports</td>\n",
       "      <td>4.26</td>\n",
       "      <td>0.26</td>\n",
       "      <td>0.01</td>\n",
       "      <td>0.71</td>\n",
       "      <td>94.0</td>\n",
       "      <td>8.5</td>\n",
       "      <td>E</td>\n",
       "    </tr>\n",
       "    <tr>\n",
       "      <th>377</th>\n",
       "      <td>FIFA Soccer 2004</td>\n",
       "      <td>PS2</td>\n",
       "      <td>NaN</td>\n",
       "      <td>Sports</td>\n",
       "      <td>0.59</td>\n",
       "      <td>2.36</td>\n",
       "      <td>0.04</td>\n",
       "      <td>0.51</td>\n",
       "      <td>84.0</td>\n",
       "      <td>6.4</td>\n",
       "      <td>E</td>\n",
       "    </tr>\n",
       "    <tr>\n",
       "      <th>456</th>\n",
       "      <td>LEGO Batman: The Videogame</td>\n",
       "      <td>Wii</td>\n",
       "      <td>NaN</td>\n",
       "      <td>Action</td>\n",
       "      <td>1.80</td>\n",
       "      <td>0.97</td>\n",
       "      <td>0.00</td>\n",
       "      <td>0.29</td>\n",
       "      <td>74.0</td>\n",
       "      <td>7.9</td>\n",
       "      <td>E10+</td>\n",
       "    </tr>\n",
       "    <tr>\n",
       "      <th>475</th>\n",
       "      <td>wwe Smackdown vs. Raw 2006</td>\n",
       "      <td>PS2</td>\n",
       "      <td>NaN</td>\n",
       "      <td>Fighting</td>\n",
       "      <td>1.57</td>\n",
       "      <td>1.02</td>\n",
       "      <td>0.00</td>\n",
       "      <td>0.41</td>\n",
       "      <td>NaN</td>\n",
       "      <td>NaN</td>\n",
       "      <td>NaN</td>\n",
       "    </tr>\n",
       "    <tr>\n",
       "      <th>609</th>\n",
       "      <td>Space Invaders</td>\n",
       "      <td>2600</td>\n",
       "      <td>NaN</td>\n",
       "      <td>Shooter</td>\n",
       "      <td>2.36</td>\n",
       "      <td>0.14</td>\n",
       "      <td>0.00</td>\n",
       "      <td>0.03</td>\n",
       "      <td>NaN</td>\n",
       "      <td>NaN</td>\n",
       "      <td>NaN</td>\n",
       "    </tr>\n",
       "    <tr>\n",
       "      <th>...</th>\n",
       "      <td>...</td>\n",
       "      <td>...</td>\n",
       "      <td>...</td>\n",
       "      <td>...</td>\n",
       "      <td>...</td>\n",
       "      <td>...</td>\n",
       "      <td>...</td>\n",
       "      <td>...</td>\n",
       "      <td>...</td>\n",
       "      <td>...</td>\n",
       "      <td>...</td>\n",
       "    </tr>\n",
       "    <tr>\n",
       "      <th>16373</th>\n",
       "      <td>PDC World Championship Darts 2008</td>\n",
       "      <td>PSP</td>\n",
       "      <td>NaN</td>\n",
       "      <td>Sports</td>\n",
       "      <td>0.01</td>\n",
       "      <td>0.00</td>\n",
       "      <td>0.00</td>\n",
       "      <td>0.00</td>\n",
       "      <td>43.0</td>\n",
       "      <td>NaN</td>\n",
       "      <td>E10+</td>\n",
       "    </tr>\n",
       "    <tr>\n",
       "      <th>16405</th>\n",
       "      <td>Freaky Flyers</td>\n",
       "      <td>GC</td>\n",
       "      <td>NaN</td>\n",
       "      <td>Racing</td>\n",
       "      <td>0.01</td>\n",
       "      <td>0.00</td>\n",
       "      <td>0.00</td>\n",
       "      <td>0.00</td>\n",
       "      <td>69.0</td>\n",
       "      <td>6.5</td>\n",
       "      <td>T</td>\n",
       "    </tr>\n",
       "    <tr>\n",
       "      <th>16448</th>\n",
       "      <td>Inversion</td>\n",
       "      <td>PC</td>\n",
       "      <td>NaN</td>\n",
       "      <td>Shooter</td>\n",
       "      <td>0.01</td>\n",
       "      <td>0.00</td>\n",
       "      <td>0.00</td>\n",
       "      <td>0.00</td>\n",
       "      <td>59.0</td>\n",
       "      <td>6.7</td>\n",
       "      <td>M</td>\n",
       "    </tr>\n",
       "    <tr>\n",
       "      <th>16458</th>\n",
       "      <td>Hakuouki: Shinsengumi Kitan</td>\n",
       "      <td>PS3</td>\n",
       "      <td>NaN</td>\n",
       "      <td>Adventure</td>\n",
       "      <td>0.01</td>\n",
       "      <td>0.00</td>\n",
       "      <td>0.00</td>\n",
       "      <td>0.00</td>\n",
       "      <td>NaN</td>\n",
       "      <td>NaN</td>\n",
       "      <td>NaN</td>\n",
       "    </tr>\n",
       "    <tr>\n",
       "      <th>16522</th>\n",
       "      <td>Virtua Quest</td>\n",
       "      <td>GC</td>\n",
       "      <td>NaN</td>\n",
       "      <td>Role-Playing</td>\n",
       "      <td>0.01</td>\n",
       "      <td>0.00</td>\n",
       "      <td>0.00</td>\n",
       "      <td>0.00</td>\n",
       "      <td>55.0</td>\n",
       "      <td>5.5</td>\n",
       "      <td>T</td>\n",
       "    </tr>\n",
       "  </tbody>\n",
       "</table>\n",
       "<p>269 rows × 11 columns</p>\n",
       "</div>"
      ],
      "text/plain": [
       "                                    name platform  release_year         genre  \\\n",
       "183                      Madden NFL 2004      PS2           NaN        Sports   \n",
       "377                     FIFA Soccer 2004      PS2           NaN        Sports   \n",
       "456           LEGO Batman: The Videogame      Wii           NaN        Action   \n",
       "475           wwe Smackdown vs. Raw 2006      PS2           NaN      Fighting   \n",
       "609                       Space Invaders     2600           NaN       Shooter   \n",
       "...                                  ...      ...           ...           ...   \n",
       "16373  PDC World Championship Darts 2008      PSP           NaN        Sports   \n",
       "16405                      Freaky Flyers       GC           NaN        Racing   \n",
       "16448                          Inversion       PC           NaN       Shooter   \n",
       "16458        Hakuouki: Shinsengumi Kitan      PS3           NaN     Adventure   \n",
       "16522                       Virtua Quest       GC           NaN  Role-Playing   \n",
       "\n",
       "       na_sales  eu_sales  jp_sales  other_sales  critic_score  user_score  \\\n",
       "183        4.26      0.26      0.01         0.71          94.0         8.5   \n",
       "377        0.59      2.36      0.04         0.51          84.0         6.4   \n",
       "456        1.80      0.97      0.00         0.29          74.0         7.9   \n",
       "475        1.57      1.02      0.00         0.41           NaN         NaN   \n",
       "609        2.36      0.14      0.00         0.03           NaN         NaN   \n",
       "...         ...       ...       ...          ...           ...         ...   \n",
       "16373      0.01      0.00      0.00         0.00          43.0         NaN   \n",
       "16405      0.01      0.00      0.00         0.00          69.0         6.5   \n",
       "16448      0.01      0.00      0.00         0.00          59.0         6.7   \n",
       "16458      0.01      0.00      0.00         0.00           NaN         NaN   \n",
       "16522      0.01      0.00      0.00         0.00          55.0         5.5   \n",
       "\n",
       "      rating  \n",
       "183        E  \n",
       "377        E  \n",
       "456     E10+  \n",
       "475      NaN  \n",
       "609      NaN  \n",
       "...      ...  \n",
       "16373   E10+  \n",
       "16405      T  \n",
       "16448      M  \n",
       "16458    NaN  \n",
       "16522      T  \n",
       "\n",
       "[269 rows x 11 columns]"
      ]
     },
     "execution_count": 14,
     "metadata": {},
     "output_type": "execute_result"
    }
   ],
   "source": [
    "#взглянем теперь на строки с пустой датой релиза\n",
    "data[data['release_year'].isna()]"
   ]
  },
  {
   "cell_type": "markdown",
   "metadata": {},
   "source": [
    "На первый взгляд, можно вычленить следующую группу строк:\n",
    "- Игры, год релиза которых содержится в их названии."
   ]
  },
  {
   "cell_type": "code",
   "execution_count": 15,
   "metadata": {
    "scrolled": true
   },
   "outputs": [
    {
     "data": {
      "text/html": [
       "<div>\n",
       "<style scoped>\n",
       "    .dataframe tbody tr th:only-of-type {\n",
       "        vertical-align: middle;\n",
       "    }\n",
       "\n",
       "    .dataframe tbody tr th {\n",
       "        vertical-align: top;\n",
       "    }\n",
       "\n",
       "    .dataframe thead th {\n",
       "        text-align: right;\n",
       "    }\n",
       "</style>\n",
       "<table border=\"1\" class=\"dataframe\">\n",
       "  <thead>\n",
       "    <tr style=\"text-align: right;\">\n",
       "      <th></th>\n",
       "      <th>name</th>\n",
       "      <th>platform</th>\n",
       "      <th>release_year</th>\n",
       "      <th>genre</th>\n",
       "      <th>na_sales</th>\n",
       "      <th>eu_sales</th>\n",
       "      <th>jp_sales</th>\n",
       "      <th>other_sales</th>\n",
       "      <th>critic_score</th>\n",
       "      <th>user_score</th>\n",
       "      <th>rating</th>\n",
       "    </tr>\n",
       "  </thead>\n",
       "  <tbody>\n",
       "    <tr>\n",
       "      <th>87</th>\n",
       "      <td>Star Wars Battlefront (2015)</td>\n",
       "      <td>PS4</td>\n",
       "      <td>2015.0</td>\n",
       "      <td>Shooter</td>\n",
       "      <td>2.99</td>\n",
       "      <td>3.49</td>\n",
       "      <td>0.22</td>\n",
       "      <td>1.28</td>\n",
       "      <td>NaN</td>\n",
       "      <td>NaN</td>\n",
       "      <td>NaN</td>\n",
       "    </tr>\n",
       "    <tr>\n",
       "      <th>183</th>\n",
       "      <td>Madden NFL 2004</td>\n",
       "      <td>PS2</td>\n",
       "      <td>NaN</td>\n",
       "      <td>Sports</td>\n",
       "      <td>4.26</td>\n",
       "      <td>0.26</td>\n",
       "      <td>0.01</td>\n",
       "      <td>0.71</td>\n",
       "      <td>94.0</td>\n",
       "      <td>8.5</td>\n",
       "      <td>E</td>\n",
       "    </tr>\n",
       "    <tr>\n",
       "      <th>238</th>\n",
       "      <td>Madden NFL 2005</td>\n",
       "      <td>PS2</td>\n",
       "      <td>2004.0</td>\n",
       "      <td>Sports</td>\n",
       "      <td>4.18</td>\n",
       "      <td>0.26</td>\n",
       "      <td>0.01</td>\n",
       "      <td>0.08</td>\n",
       "      <td>91.0</td>\n",
       "      <td>7.9</td>\n",
       "      <td>E</td>\n",
       "    </tr>\n",
       "    <tr>\n",
       "      <th>250</th>\n",
       "      <td>Winning Eleven: Pro Evolution Soccer 2007</td>\n",
       "      <td>PS2</td>\n",
       "      <td>2006.0</td>\n",
       "      <td>Sports</td>\n",
       "      <td>0.10</td>\n",
       "      <td>2.39</td>\n",
       "      <td>1.05</td>\n",
       "      <td>0.86</td>\n",
       "      <td>86.0</td>\n",
       "      <td>8.9</td>\n",
       "      <td>E</td>\n",
       "    </tr>\n",
       "    <tr>\n",
       "      <th>283</th>\n",
       "      <td>Madden NFL 2003</td>\n",
       "      <td>PS2</td>\n",
       "      <td>2002.0</td>\n",
       "      <td>Sports</td>\n",
       "      <td>3.36</td>\n",
       "      <td>0.21</td>\n",
       "      <td>0.01</td>\n",
       "      <td>0.56</td>\n",
       "      <td>95.0</td>\n",
       "      <td>7.7</td>\n",
       "      <td>E</td>\n",
       "    </tr>\n",
       "    <tr>\n",
       "      <th>...</th>\n",
       "      <td>...</td>\n",
       "      <td>...</td>\n",
       "      <td>...</td>\n",
       "      <td>...</td>\n",
       "      <td>...</td>\n",
       "      <td>...</td>\n",
       "      <td>...</td>\n",
       "      <td>...</td>\n",
       "      <td>...</td>\n",
       "      <td>...</td>\n",
       "      <td>...</td>\n",
       "    </tr>\n",
       "    <tr>\n",
       "      <th>16638</th>\n",
       "      <td>Tour de France 2014</td>\n",
       "      <td>PS3</td>\n",
       "      <td>2014.0</td>\n",
       "      <td>Sports</td>\n",
       "      <td>0.00</td>\n",
       "      <td>0.01</td>\n",
       "      <td>0.00</td>\n",
       "      <td>0.00</td>\n",
       "      <td>NaN</td>\n",
       "      <td>NaN</td>\n",
       "      <td>E</td>\n",
       "    </tr>\n",
       "    <tr>\n",
       "      <th>16658</th>\n",
       "      <td>Driving Simulator 2011</td>\n",
       "      <td>PC</td>\n",
       "      <td>2011.0</td>\n",
       "      <td>Racing</td>\n",
       "      <td>0.00</td>\n",
       "      <td>0.01</td>\n",
       "      <td>0.00</td>\n",
       "      <td>0.00</td>\n",
       "      <td>NaN</td>\n",
       "      <td>NaN</td>\n",
       "      <td>NaN</td>\n",
       "    </tr>\n",
       "    <tr>\n",
       "      <th>16676</th>\n",
       "      <td>G1 Jockey 4 2008</td>\n",
       "      <td>PS3</td>\n",
       "      <td>2008.0</td>\n",
       "      <td>Sports</td>\n",
       "      <td>0.00</td>\n",
       "      <td>0.00</td>\n",
       "      <td>0.00</td>\n",
       "      <td>0.00</td>\n",
       "      <td>NaN</td>\n",
       "      <td>NaN</td>\n",
       "      <td>NaN</td>\n",
       "    </tr>\n",
       "    <tr>\n",
       "      <th>16711</th>\n",
       "      <td>LMA Manager 2007</td>\n",
       "      <td>X360</td>\n",
       "      <td>2006.0</td>\n",
       "      <td>Sports</td>\n",
       "      <td>0.00</td>\n",
       "      <td>0.01</td>\n",
       "      <td>0.00</td>\n",
       "      <td>0.00</td>\n",
       "      <td>NaN</td>\n",
       "      <td>NaN</td>\n",
       "      <td>NaN</td>\n",
       "    </tr>\n",
       "    <tr>\n",
       "      <th>16714</th>\n",
       "      <td>Winning Post 8 2016</td>\n",
       "      <td>PSV</td>\n",
       "      <td>2016.0</td>\n",
       "      <td>Simulation</td>\n",
       "      <td>0.00</td>\n",
       "      <td>0.00</td>\n",
       "      <td>0.01</td>\n",
       "      <td>0.00</td>\n",
       "      <td>NaN</td>\n",
       "      <td>NaN</td>\n",
       "      <td>NaN</td>\n",
       "    </tr>\n",
       "  </tbody>\n",
       "</table>\n",
       "<p>833 rows × 11 columns</p>\n",
       "</div>"
      ],
      "text/plain": [
       "                                            name platform  release_year  \\\n",
       "87                  Star Wars Battlefront (2015)      PS4        2015.0   \n",
       "183                              Madden NFL 2004      PS2           NaN   \n",
       "238                              Madden NFL 2005      PS2        2004.0   \n",
       "250    Winning Eleven: Pro Evolution Soccer 2007      PS2        2006.0   \n",
       "283                              Madden NFL 2003      PS2        2002.0   \n",
       "...                                          ...      ...           ...   \n",
       "16638                        Tour de France 2014      PS3        2014.0   \n",
       "16658                     Driving Simulator 2011       PC        2011.0   \n",
       "16676                           G1 Jockey 4 2008      PS3        2008.0   \n",
       "16711                           LMA Manager 2007     X360        2006.0   \n",
       "16714                        Winning Post 8 2016      PSV        2016.0   \n",
       "\n",
       "            genre  na_sales  eu_sales  jp_sales  other_sales  critic_score  \\\n",
       "87        Shooter      2.99      3.49      0.22         1.28           NaN   \n",
       "183        Sports      4.26      0.26      0.01         0.71          94.0   \n",
       "238        Sports      4.18      0.26      0.01         0.08          91.0   \n",
       "250        Sports      0.10      2.39      1.05         0.86          86.0   \n",
       "283        Sports      3.36      0.21      0.01         0.56          95.0   \n",
       "...           ...       ...       ...       ...          ...           ...   \n",
       "16638      Sports      0.00      0.01      0.00         0.00           NaN   \n",
       "16658      Racing      0.00      0.01      0.00         0.00           NaN   \n",
       "16676      Sports      0.00      0.00      0.00         0.00           NaN   \n",
       "16711      Sports      0.00      0.01      0.00         0.00           NaN   \n",
       "16714  Simulation      0.00      0.00      0.01         0.00           NaN   \n",
       "\n",
       "       user_score rating  \n",
       "87            NaN    NaN  \n",
       "183           8.5      E  \n",
       "238           7.9      E  \n",
       "250           8.9      E  \n",
       "283           7.7      E  \n",
       "...           ...    ...  \n",
       "16638         NaN      E  \n",
       "16658         NaN    NaN  \n",
       "16676         NaN    NaN  \n",
       "16711         NaN    NaN  \n",
       "16714         NaN    NaN  \n",
       "\n",
       "[833 rows x 11 columns]"
      ]
     },
     "execution_count": 15,
     "metadata": {},
     "output_type": "execute_result"
    }
   ],
   "source": [
    "possible_years = list(map(str, range(1950, 2017)))\n",
    "game_has_year_mask = data['name'].apply(lambda name: any([year in name for year in possible_years]))\n",
    "\n",
    "#выводим ДФ, в названии которого содержится год\n",
    "data[game_has_year_mask]"
   ]
  },
  {
   "cell_type": "markdown",
   "metadata": {},
   "source": [
    "Изначально было предположение, что можно заполнить пропуски в столбце с годом релиза годом, указанным в названии игры. Но при взгляде на таблицу выше видна некая особенность - некоторые игры, в названии которых присутствует год, на самом деле, выходили в предыдущем году. Легко определить закономерность, где год совпадает, а где различается, невозможно.\n",
    "\n",
    "Учитывая, что пропуски составляют только 1.5% всего датафрейма, кажется более логичным удалить необходимые пропуски, чтобы потом не исказились данные в анализируемом актуальном периоде. "
   ]
  },
  {
   "cell_type": "code",
   "execution_count": 16,
   "metadata": {},
   "outputs": [],
   "source": [
    "data = data.dropna(subset=['release_year'])\n",
    "\n",
    "#как я обещала, тут можем уже для красоты перевести столбец к int, так как значения NaN отсутствуют\n",
    "data['release_year'] = data['release_year'].astype(int)"
   ]
  },
  {
   "cell_type": "markdown",
   "metadata": {},
   "source": [
    "Далее перейдем к многочисленным пропускам с рейтингом от критиков и от пользователей. Заполнять медианным или средним значениями кажется неправильным - от игры к игре эти показатели могут слишком разниться и какая-то игра может незаслуженно стать недо- или переоцененной.\n",
    "\n",
    "Однако, следует проверить корреляцию этих показателей. Так как даже если взгляды простых обывателей и профессиональных критиков не совпадают, то определенная взаимосвязь все же должна присутствовать. "
   ]
  },
  {
   "cell_type": "code",
   "execution_count": 17,
   "metadata": {
    "scrolled": true
   },
   "outputs": [
    {
     "name": "stdout",
     "output_type": "stream",
     "text": [
      "Корреляция оценки критиков и оценки пользователей составляет 0.5796706281932219\n"
     ]
    }
   ],
   "source": [
    "print('Корреляция оценки критиков и оценки пользователей составляет', data['critic_score'].corr(data['user_score']))"
   ]
  },
  {
   "cell_type": "markdown",
   "metadata": {},
   "source": [
    "Гипотеза не подтвердилась - оценки критиков и пользователей не сильно коррелируют между собой. Так как нет ни одного другого видимого способа заполнить пропуски, которые, в свою очередь, в каждой из колонок составляют примерно 50% от всего датафрейма, оставим их пустыми и будем это учитывать в дальнейшем."
   ]
  },
  {
   "cell_type": "markdown",
   "metadata": {},
   "source": [
    "Последней не рассмотренной в рамках работы с пропусками колонкой является rating. Следует посмотреть, какие в принципе значения она может принимать."
   ]
  },
  {
   "cell_type": "code",
   "execution_count": 18,
   "metadata": {},
   "outputs": [
    {
     "data": {
      "text/plain": [
       "array(['E', nan, 'M', 'T', 'E10+', 'K-A', 'AO', 'EC', 'RP'], dtype=object)"
      ]
     },
     "execution_count": 18,
     "metadata": {},
     "output_type": "execute_result"
    }
   ],
   "source": [
    "data['rating'].unique()"
   ]
  },
  {
   "cell_type": "markdown",
   "metadata": {},
   "source": [
    "Как видно из списка значений, каких-либо описок нет - есть 8 разных категорий и уже привычные NaN. Таким образом, танный столбец доработки не требует."
   ]
  },
  {
   "cell_type": "markdown",
   "metadata": {},
   "source": [
    "**Добавление столбца.**"
   ]
  },
  {
   "cell_type": "markdown",
   "metadata": {},
   "source": [
    "Для того, чтобы посчитать суммарные продажи во всех регионах и записать их в отдельный столбец, создадим столбец all_sales, в котором выведем сумму столбцов na_sales, eu_sales, jp_sales, other_sales по каждой игре."
   ]
  },
  {
   "cell_type": "code",
   "execution_count": 19,
   "metadata": {},
   "outputs": [],
   "source": [
    "data['all_sales'] = data['na_sales'] + data['eu_sales'] + data['jp_sales'] + data['other_sales']"
   ]
  },
  {
   "cell_type": "code",
   "execution_count": 20,
   "metadata": {
    "scrolled": true
   },
   "outputs": [
    {
     "data": {
      "text/html": [
       "<div>\n",
       "<style scoped>\n",
       "    .dataframe tbody tr th:only-of-type {\n",
       "        vertical-align: middle;\n",
       "    }\n",
       "\n",
       "    .dataframe tbody tr th {\n",
       "        vertical-align: top;\n",
       "    }\n",
       "\n",
       "    .dataframe thead th {\n",
       "        text-align: right;\n",
       "    }\n",
       "</style>\n",
       "<table border=\"1\" class=\"dataframe\">\n",
       "  <thead>\n",
       "    <tr style=\"text-align: right;\">\n",
       "      <th></th>\n",
       "      <th>name</th>\n",
       "      <th>platform</th>\n",
       "      <th>release_year</th>\n",
       "      <th>genre</th>\n",
       "      <th>na_sales</th>\n",
       "      <th>eu_sales</th>\n",
       "      <th>jp_sales</th>\n",
       "      <th>other_sales</th>\n",
       "      <th>critic_score</th>\n",
       "      <th>user_score</th>\n",
       "      <th>rating</th>\n",
       "      <th>all_sales</th>\n",
       "    </tr>\n",
       "  </thead>\n",
       "  <tbody>\n",
       "    <tr>\n",
       "      <th>0</th>\n",
       "      <td>Wii Sports</td>\n",
       "      <td>Wii</td>\n",
       "      <td>2006</td>\n",
       "      <td>Sports</td>\n",
       "      <td>41.36</td>\n",
       "      <td>28.96</td>\n",
       "      <td>3.77</td>\n",
       "      <td>8.45</td>\n",
       "      <td>76.0</td>\n",
       "      <td>8.0</td>\n",
       "      <td>E</td>\n",
       "      <td>82.54</td>\n",
       "    </tr>\n",
       "    <tr>\n",
       "      <th>1</th>\n",
       "      <td>Super Mario Bros.</td>\n",
       "      <td>NES</td>\n",
       "      <td>1985</td>\n",
       "      <td>Platform</td>\n",
       "      <td>29.08</td>\n",
       "      <td>3.58</td>\n",
       "      <td>6.81</td>\n",
       "      <td>0.77</td>\n",
       "      <td>NaN</td>\n",
       "      <td>NaN</td>\n",
       "      <td>NaN</td>\n",
       "      <td>40.24</td>\n",
       "    </tr>\n",
       "    <tr>\n",
       "      <th>2</th>\n",
       "      <td>Mario Kart Wii</td>\n",
       "      <td>Wii</td>\n",
       "      <td>2008</td>\n",
       "      <td>Racing</td>\n",
       "      <td>15.68</td>\n",
       "      <td>12.76</td>\n",
       "      <td>3.79</td>\n",
       "      <td>3.29</td>\n",
       "      <td>82.0</td>\n",
       "      <td>8.3</td>\n",
       "      <td>E</td>\n",
       "      <td>35.52</td>\n",
       "    </tr>\n",
       "    <tr>\n",
       "      <th>3</th>\n",
       "      <td>Wii Sports Resort</td>\n",
       "      <td>Wii</td>\n",
       "      <td>2009</td>\n",
       "      <td>Sports</td>\n",
       "      <td>15.61</td>\n",
       "      <td>10.93</td>\n",
       "      <td>3.28</td>\n",
       "      <td>2.95</td>\n",
       "      <td>80.0</td>\n",
       "      <td>8.0</td>\n",
       "      <td>E</td>\n",
       "      <td>32.77</td>\n",
       "    </tr>\n",
       "    <tr>\n",
       "      <th>4</th>\n",
       "      <td>Pokemon Red/Pokemon Blue</td>\n",
       "      <td>GB</td>\n",
       "      <td>1996</td>\n",
       "      <td>Role-Playing</td>\n",
       "      <td>11.27</td>\n",
       "      <td>8.89</td>\n",
       "      <td>10.22</td>\n",
       "      <td>1.00</td>\n",
       "      <td>NaN</td>\n",
       "      <td>NaN</td>\n",
       "      <td>NaN</td>\n",
       "      <td>31.38</td>\n",
       "    </tr>\n",
       "    <tr>\n",
       "      <th>5</th>\n",
       "      <td>Tetris</td>\n",
       "      <td>GB</td>\n",
       "      <td>1989</td>\n",
       "      <td>Puzzle</td>\n",
       "      <td>23.20</td>\n",
       "      <td>2.26</td>\n",
       "      <td>4.22</td>\n",
       "      <td>0.58</td>\n",
       "      <td>NaN</td>\n",
       "      <td>NaN</td>\n",
       "      <td>NaN</td>\n",
       "      <td>30.26</td>\n",
       "    </tr>\n",
       "    <tr>\n",
       "      <th>6</th>\n",
       "      <td>New Super Mario Bros.</td>\n",
       "      <td>DS</td>\n",
       "      <td>2006</td>\n",
       "      <td>Platform</td>\n",
       "      <td>11.28</td>\n",
       "      <td>9.14</td>\n",
       "      <td>6.50</td>\n",
       "      <td>2.88</td>\n",
       "      <td>89.0</td>\n",
       "      <td>8.5</td>\n",
       "      <td>E</td>\n",
       "      <td>29.80</td>\n",
       "    </tr>\n",
       "    <tr>\n",
       "      <th>7</th>\n",
       "      <td>Wii Play</td>\n",
       "      <td>Wii</td>\n",
       "      <td>2006</td>\n",
       "      <td>Misc</td>\n",
       "      <td>13.96</td>\n",
       "      <td>9.18</td>\n",
       "      <td>2.93</td>\n",
       "      <td>2.84</td>\n",
       "      <td>58.0</td>\n",
       "      <td>6.6</td>\n",
       "      <td>E</td>\n",
       "      <td>28.91</td>\n",
       "    </tr>\n",
       "    <tr>\n",
       "      <th>8</th>\n",
       "      <td>New Super Mario Bros. Wii</td>\n",
       "      <td>Wii</td>\n",
       "      <td>2009</td>\n",
       "      <td>Platform</td>\n",
       "      <td>14.44</td>\n",
       "      <td>6.94</td>\n",
       "      <td>4.70</td>\n",
       "      <td>2.24</td>\n",
       "      <td>87.0</td>\n",
       "      <td>8.4</td>\n",
       "      <td>E</td>\n",
       "      <td>28.32</td>\n",
       "    </tr>\n",
       "    <tr>\n",
       "      <th>9</th>\n",
       "      <td>Duck Hunt</td>\n",
       "      <td>NES</td>\n",
       "      <td>1984</td>\n",
       "      <td>Shooter</td>\n",
       "      <td>26.93</td>\n",
       "      <td>0.63</td>\n",
       "      <td>0.28</td>\n",
       "      <td>0.47</td>\n",
       "      <td>NaN</td>\n",
       "      <td>NaN</td>\n",
       "      <td>NaN</td>\n",
       "      <td>28.31</td>\n",
       "    </tr>\n",
       "  </tbody>\n",
       "</table>\n",
       "</div>"
      ],
      "text/plain": [
       "                        name platform  release_year         genre  na_sales  \\\n",
       "0                 Wii Sports      Wii          2006        Sports     41.36   \n",
       "1          Super Mario Bros.      NES          1985      Platform     29.08   \n",
       "2             Mario Kart Wii      Wii          2008        Racing     15.68   \n",
       "3          Wii Sports Resort      Wii          2009        Sports     15.61   \n",
       "4   Pokemon Red/Pokemon Blue       GB          1996  Role-Playing     11.27   \n",
       "5                     Tetris       GB          1989        Puzzle     23.20   \n",
       "6      New Super Mario Bros.       DS          2006      Platform     11.28   \n",
       "7                   Wii Play      Wii          2006          Misc     13.96   \n",
       "8  New Super Mario Bros. Wii      Wii          2009      Platform     14.44   \n",
       "9                  Duck Hunt      NES          1984       Shooter     26.93   \n",
       "\n",
       "   eu_sales  jp_sales  other_sales  critic_score  user_score rating  all_sales  \n",
       "0     28.96      3.77         8.45          76.0         8.0      E      82.54  \n",
       "1      3.58      6.81         0.77           NaN         NaN    NaN      40.24  \n",
       "2     12.76      3.79         3.29          82.0         8.3      E      35.52  \n",
       "3     10.93      3.28         2.95          80.0         8.0      E      32.77  \n",
       "4      8.89     10.22         1.00           NaN         NaN    NaN      31.38  \n",
       "5      2.26      4.22         0.58           NaN         NaN    NaN      30.26  \n",
       "6      9.14      6.50         2.88          89.0         8.5      E      29.80  \n",
       "7      9.18      2.93         2.84          58.0         6.6      E      28.91  \n",
       "8      6.94      4.70         2.24          87.0         8.4      E      28.32  \n",
       "9      0.63      0.28         0.47           NaN         NaN    NaN      28.31  "
      ]
     },
     "execution_count": 20,
     "metadata": {},
     "output_type": "execute_result"
    }
   ],
   "source": [
    "#проверим, что получилось\n",
    "data.head(10)"
   ]
  },
  {
   "cell_type": "markdown",
   "metadata": {},
   "source": [
    "### Исследовательский анализ данных. "
   ]
  },
  {
   "cell_type": "markdown",
   "metadata": {},
   "source": [
    "**Посмотрим, сколько игр выпускалось в разные годы, чтобы выяснить, важны ли данные за все периоды.**"
   ]
  },
  {
   "cell_type": "code",
   "execution_count": 21,
   "metadata": {},
   "outputs": [
    {
     "data": {
      "image/png": "[encoded data removed]",
      "text/plain": [
       "<Figure size 1440x360 with 1 Axes>"
      ]
     },
     "metadata": {
      "needs_background": "light"
     },
     "output_type": "display_data"
    }
   ],
   "source": [
    "(\n",
    "    data \n",
    "    .groupby('release_year')['release_year'] #группируем по году\n",
    "    .count() #считаем количество игр\n",
    "    .plot(\n",
    "        figsize=(20, 5), \n",
    "        title='Количество выпущенных игр', \n",
    "        xlabel='год выпуска', \n",
    "        ylabel='количество (млн)') #строим график\n",
    ");"
   ]
  },
  {
   "cell_type": "markdown",
   "metadata": {},
   "source": [
    "Судя по графику, вплоть начала 21 века игр выпускалось недостаточно много для того, чтобы их брать в расчет и на основе этих данных делать какие-либо выводы. Однако, 16 лет - слишком большой период для того, чтобы называть его актуальным и на основе его делать прогнозы на 2017 год. Тем не менее, он может быть репрезентативным для того, чтобы смотреть на картину в целом.\n",
    "\n",
    "Для уточнения \"акутального периода\" необходимо построить дополнительный график, определяющий, за какой характерный срок появляются новые и исчезают старые платформы."
   ]
  },
  {
   "cell_type": "markdown",
   "metadata": {},
   "source": [
    "**Посмотрим, за какой характерный срок появляются новые и исчезают старые платформы.**"
   ]
  },
  {
   "cell_type": "markdown",
   "metadata": {},
   "source": [
    "Для начала следует выберать платформы с наибольшими суммарными продажами. Для того, чтобы наиболее точно ответить на вопрос о том, за какой срок появляются и исчезают платформы, возьмем топ-10 платформ с наибольшим количеством продаж."
   ]
  },
  {
   "cell_type": "code",
   "execution_count": 22,
   "metadata": {},
   "outputs": [],
   "source": [
    "top_platforms = (\n",
    "    data\n",
    "    .groupby('platform')['all_sales'] #группируем по платформе\n",
    "    .sum() #считаем общее количество продаж\n",
    "    .sort_values(ascending=False) #сортируем по уменьшению\n",
    ").head(10)"
   ]
  },
  {
   "cell_type": "code",
   "execution_count": 23,
   "metadata": {},
   "outputs": [
    {
     "data": {
      "image/png": "[encoded data removed]",
      "text/plain": [
       "<Figure size 1800x360 with 1 Axes>"
      ]
     },
     "metadata": {
      "needs_background": "light"
     },
     "output_type": "display_data"
    }
   ],
   "source": [
    "#создадим сводную таблицу по всем платформам и годам, когда на них выходили игры\n",
    "data_platform = data.pivot_table(values='name', index='release_year', columns='platform', aggfunc='count')\n",
    "\n",
    "#из созданной таблицы возьмем информацию только по интересующим нас платформам\n",
    "data_top_platform = data_platform[top_platforms.index].copy()\n",
    "\n",
    "#посчитаем сумму игр за год (так как мы выбрали только самые популярные игры, наверняка в начале ДФ будут 0)\n",
    "data_top_platform['sum_per_year'] = data_top_platform.sum(axis=1)\n",
    "\n",
    "#строим график по самым популярным платформам и годам, когда вышло хотя бы более 10 игр (не копий)\n",
    "(\n",
    "    data_top_platform[data_top_platform['sum_per_year'] > 10][top_platforms.index]\n",
    "    .plot\n",
    "    .bar(\n",
    "        stacked=True,\n",
    "        figsize=(25, 5),\n",
    "        title='Срок существования платформ',\n",
    "        xlabel='год выпуска',\n",
    "        ylabel='количество (млн)'\n",
    "    )\n",
    ");"
   ]
  },
  {
   "cell_type": "code",
   "execution_count": 48,
   "metadata": {},
   "outputs": [
    {
     "data": {
      "text/html": [
       "<div>\n",
       "<style scoped>\n",
       "    .dataframe tbody tr th:only-of-type {\n",
       "        vertical-align: middle;\n",
       "    }\n",
       "\n",
       "    .dataframe tbody tr th {\n",
       "        vertical-align: top;\n",
       "    }\n",
       "\n",
       "    .dataframe thead th {\n",
       "        text-align: right;\n",
       "    }\n",
       "</style>\n",
       "<table border=\"1\" class=\"dataframe\">\n",
       "  <thead>\n",
       "    <tr style=\"text-align: right;\">\n",
       "      <th>platform</th>\n",
       "      <th>PS2</th>\n",
       "      <th>X360</th>\n",
       "      <th>PS3</th>\n",
       "      <th>Wii</th>\n",
       "      <th>DS</th>\n",
       "      <th>PS</th>\n",
       "      <th>PS4</th>\n",
       "      <th>GBA</th>\n",
       "      <th>PSP</th>\n",
       "      <th>3DS</th>\n",
       "    </tr>\n",
       "    <tr>\n",
       "      <th>release_year</th>\n",
       "      <th></th>\n",
       "      <th></th>\n",
       "      <th></th>\n",
       "      <th></th>\n",
       "      <th></th>\n",
       "      <th></th>\n",
       "      <th></th>\n",
       "      <th></th>\n",
       "      <th></th>\n",
       "      <th></th>\n",
       "    </tr>\n",
       "  </thead>\n",
       "  <tbody>\n",
       "    <tr>\n",
       "      <th>1994</th>\n",
       "      <td>NaN</td>\n",
       "      <td>NaN</td>\n",
       "      <td>NaN</td>\n",
       "      <td>NaN</td>\n",
       "      <td>NaN</td>\n",
       "      <td>17.0</td>\n",
       "      <td>NaN</td>\n",
       "      <td>NaN</td>\n",
       "      <td>NaN</td>\n",
       "      <td>NaN</td>\n",
       "    </tr>\n",
       "    <tr>\n",
       "      <th>1995</th>\n",
       "      <td>NaN</td>\n",
       "      <td>NaN</td>\n",
       "      <td>NaN</td>\n",
       "      <td>NaN</td>\n",
       "      <td>NaN</td>\n",
       "      <td>99.0</td>\n",
       "      <td>NaN</td>\n",
       "      <td>NaN</td>\n",
       "      <td>NaN</td>\n",
       "      <td>NaN</td>\n",
       "    </tr>\n",
       "    <tr>\n",
       "      <th>1996</th>\n",
       "      <td>NaN</td>\n",
       "      <td>NaN</td>\n",
       "      <td>NaN</td>\n",
       "      <td>NaN</td>\n",
       "      <td>NaN</td>\n",
       "      <td>164.0</td>\n",
       "      <td>NaN</td>\n",
       "      <td>NaN</td>\n",
       "      <td>NaN</td>\n",
       "      <td>NaN</td>\n",
       "    </tr>\n",
       "    <tr>\n",
       "      <th>1997</th>\n",
       "      <td>NaN</td>\n",
       "      <td>NaN</td>\n",
       "      <td>NaN</td>\n",
       "      <td>NaN</td>\n",
       "      <td>NaN</td>\n",
       "      <td>188.0</td>\n",
       "      <td>NaN</td>\n",
       "      <td>NaN</td>\n",
       "      <td>NaN</td>\n",
       "      <td>NaN</td>\n",
       "    </tr>\n",
       "    <tr>\n",
       "      <th>1998</th>\n",
       "      <td>NaN</td>\n",
       "      <td>NaN</td>\n",
       "      <td>NaN</td>\n",
       "      <td>NaN</td>\n",
       "      <td>NaN</td>\n",
       "      <td>248.0</td>\n",
       "      <td>NaN</td>\n",
       "      <td>NaN</td>\n",
       "      <td>NaN</td>\n",
       "      <td>NaN</td>\n",
       "    </tr>\n",
       "    <tr>\n",
       "      <th>1999</th>\n",
       "      <td>NaN</td>\n",
       "      <td>NaN</td>\n",
       "      <td>NaN</td>\n",
       "      <td>NaN</td>\n",
       "      <td>NaN</td>\n",
       "      <td>200.0</td>\n",
       "      <td>NaN</td>\n",
       "      <td>NaN</td>\n",
       "      <td>NaN</td>\n",
       "      <td>NaN</td>\n",
       "    </tr>\n",
       "    <tr>\n",
       "      <th>2000</th>\n",
       "      <td>82.0</td>\n",
       "      <td>NaN</td>\n",
       "      <td>NaN</td>\n",
       "      <td>NaN</td>\n",
       "      <td>NaN</td>\n",
       "      <td>160.0</td>\n",
       "      <td>NaN</td>\n",
       "      <td>1.0</td>\n",
       "      <td>NaN</td>\n",
       "      <td>NaN</td>\n",
       "    </tr>\n",
       "    <tr>\n",
       "      <th>2001</th>\n",
       "      <td>185.0</td>\n",
       "      <td>NaN</td>\n",
       "      <td>NaN</td>\n",
       "      <td>NaN</td>\n",
       "      <td>NaN</td>\n",
       "      <td>91.0</td>\n",
       "      <td>NaN</td>\n",
       "      <td>107.0</td>\n",
       "      <td>NaN</td>\n",
       "      <td>NaN</td>\n",
       "    </tr>\n",
       "    <tr>\n",
       "      <th>2002</th>\n",
       "      <td>280.0</td>\n",
       "      <td>NaN</td>\n",
       "      <td>NaN</td>\n",
       "      <td>NaN</td>\n",
       "      <td>NaN</td>\n",
       "      <td>20.0</td>\n",
       "      <td>NaN</td>\n",
       "      <td>198.0</td>\n",
       "      <td>NaN</td>\n",
       "      <td>NaN</td>\n",
       "    </tr>\n",
       "    <tr>\n",
       "      <th>2003</th>\n",
       "      <td>256.0</td>\n",
       "      <td>NaN</td>\n",
       "      <td>NaN</td>\n",
       "      <td>NaN</td>\n",
       "      <td>NaN</td>\n",
       "      <td>3.0</td>\n",
       "      <td>NaN</td>\n",
       "      <td>150.0</td>\n",
       "      <td>NaN</td>\n",
       "      <td>NaN</td>\n",
       "    </tr>\n",
       "    <tr>\n",
       "      <th>2004</th>\n",
       "      <td>259.0</td>\n",
       "      <td>NaN</td>\n",
       "      <td>NaN</td>\n",
       "      <td>NaN</td>\n",
       "      <td>23.0</td>\n",
       "      <td>NaN</td>\n",
       "      <td>NaN</td>\n",
       "      <td>175.0</td>\n",
       "      <td>15.0</td>\n",
       "      <td>NaN</td>\n",
       "    </tr>\n",
       "    <tr>\n",
       "      <th>2005</th>\n",
       "      <td>260.0</td>\n",
       "      <td>18.0</td>\n",
       "      <td>NaN</td>\n",
       "      <td>NaN</td>\n",
       "      <td>118.0</td>\n",
       "      <td>NaN</td>\n",
       "      <td>NaN</td>\n",
       "      <td>135.0</td>\n",
       "      <td>95.0</td>\n",
       "      <td>NaN</td>\n",
       "    </tr>\n",
       "    <tr>\n",
       "      <th>2006</th>\n",
       "      <td>259.0</td>\n",
       "      <td>93.0</td>\n",
       "      <td>27.0</td>\n",
       "      <td>44.0</td>\n",
       "      <td>201.0</td>\n",
       "      <td>NaN</td>\n",
       "      <td>NaN</td>\n",
       "      <td>39.0</td>\n",
       "      <td>189.0</td>\n",
       "      <td>NaN</td>\n",
       "    </tr>\n",
       "    <tr>\n",
       "      <th>2007</th>\n",
       "      <td>214.0</td>\n",
       "      <td>123.0</td>\n",
       "      <td>90.0</td>\n",
       "      <td>185.0</td>\n",
       "      <td>376.0</td>\n",
       "      <td>NaN</td>\n",
       "      <td>NaN</td>\n",
       "      <td>6.0</td>\n",
       "      <td>133.0</td>\n",
       "      <td>NaN</td>\n",
       "    </tr>\n",
       "    <tr>\n",
       "      <th>2008</th>\n",
       "      <td>191.0</td>\n",
       "      <td>146.0</td>\n",
       "      <td>138.0</td>\n",
       "      <td>282.0</td>\n",
       "      <td>492.0</td>\n",
       "      <td>NaN</td>\n",
       "      <td>NaN</td>\n",
       "      <td>NaN</td>\n",
       "      <td>100.0</td>\n",
       "      <td>NaN</td>\n",
       "    </tr>\n",
       "    <tr>\n",
       "      <th>2009</th>\n",
       "      <td>96.0</td>\n",
       "      <td>172.0</td>\n",
       "      <td>162.0</td>\n",
       "      <td>325.0</td>\n",
       "      <td>403.0</td>\n",
       "      <td>NaN</td>\n",
       "      <td>NaN</td>\n",
       "      <td>NaN</td>\n",
       "      <td>161.0</td>\n",
       "      <td>NaN</td>\n",
       "    </tr>\n",
       "    <tr>\n",
       "      <th>2010</th>\n",
       "      <td>38.0</td>\n",
       "      <td>182.0</td>\n",
       "      <td>181.0</td>\n",
       "      <td>253.0</td>\n",
       "      <td>323.0</td>\n",
       "      <td>NaN</td>\n",
       "      <td>NaN</td>\n",
       "      <td>NaN</td>\n",
       "      <td>188.0</td>\n",
       "      <td>NaN</td>\n",
       "    </tr>\n",
       "    <tr>\n",
       "      <th>2011</th>\n",
       "      <td>7.0</td>\n",
       "      <td>206.0</td>\n",
       "      <td>215.0</td>\n",
       "      <td>143.0</td>\n",
       "      <td>153.0</td>\n",
       "      <td>NaN</td>\n",
       "      <td>NaN</td>\n",
       "      <td>NaN</td>\n",
       "      <td>139.0</td>\n",
       "      <td>116.0</td>\n",
       "    </tr>\n",
       "    <tr>\n",
       "      <th>2012</th>\n",
       "      <td>NaN</td>\n",
       "      <td>106.0</td>\n",
       "      <td>148.0</td>\n",
       "      <td>31.0</td>\n",
       "      <td>23.0</td>\n",
       "      <td>NaN</td>\n",
       "      <td>NaN</td>\n",
       "      <td>NaN</td>\n",
       "      <td>106.0</td>\n",
       "      <td>93.0</td>\n",
       "    </tr>\n",
       "    <tr>\n",
       "      <th>2013</th>\n",
       "      <td>NaN</td>\n",
       "      <td>75.0</td>\n",
       "      <td>126.0</td>\n",
       "      <td>12.0</td>\n",
       "      <td>8.0</td>\n",
       "      <td>NaN</td>\n",
       "      <td>16.0</td>\n",
       "      <td>NaN</td>\n",
       "      <td>54.0</td>\n",
       "      <td>91.0</td>\n",
       "    </tr>\n",
       "    <tr>\n",
       "      <th>2014</th>\n",
       "      <td>NaN</td>\n",
       "      <td>63.0</td>\n",
       "      <td>108.0</td>\n",
       "      <td>6.0</td>\n",
       "      <td>NaN</td>\n",
       "      <td>NaN</td>\n",
       "      <td>75.0</td>\n",
       "      <td>NaN</td>\n",
       "      <td>10.0</td>\n",
       "      <td>80.0</td>\n",
       "    </tr>\n",
       "    <tr>\n",
       "      <th>2015</th>\n",
       "      <td>NaN</td>\n",
       "      <td>35.0</td>\n",
       "      <td>73.0</td>\n",
       "      <td>4.0</td>\n",
       "      <td>NaN</td>\n",
       "      <td>NaN</td>\n",
       "      <td>137.0</td>\n",
       "      <td>NaN</td>\n",
       "      <td>3.0</td>\n",
       "      <td>86.0</td>\n",
       "    </tr>\n",
       "    <tr>\n",
       "      <th>2016</th>\n",
       "      <td>NaN</td>\n",
       "      <td>13.0</td>\n",
       "      <td>38.0</td>\n",
       "      <td>1.0</td>\n",
       "      <td>NaN</td>\n",
       "      <td>NaN</td>\n",
       "      <td>164.0</td>\n",
       "      <td>NaN</td>\n",
       "      <td>NaN</td>\n",
       "      <td>46.0</td>\n",
       "    </tr>\n",
       "  </tbody>\n",
       "</table>\n",
       "</div>"
      ],
      "text/plain": [
       "platform        PS2   X360    PS3    Wii     DS     PS    PS4    GBA    PSP  \\\n",
       "release_year                                                                  \n",
       "1994            NaN    NaN    NaN    NaN    NaN   17.0    NaN    NaN    NaN   \n",
       "1995            NaN    NaN    NaN    NaN    NaN   99.0    NaN    NaN    NaN   \n",
       "1996            NaN    NaN    NaN    NaN    NaN  164.0    NaN    NaN    NaN   \n",
       "1997            NaN    NaN    NaN    NaN    NaN  188.0    NaN    NaN    NaN   \n",
       "1998            NaN    NaN    NaN    NaN    NaN  248.0    NaN    NaN    NaN   \n",
       "1999            NaN    NaN    NaN    NaN    NaN  200.0    NaN    NaN    NaN   \n",
       "2000           82.0    NaN    NaN    NaN    NaN  160.0    NaN    1.0    NaN   \n",
       "2001          185.0    NaN    NaN    NaN    NaN   91.0    NaN  107.0    NaN   \n",
       "2002          280.0    NaN    NaN    NaN    NaN   20.0    NaN  198.0    NaN   \n",
       "2003          256.0    NaN    NaN    NaN    NaN    3.0    NaN  150.0    NaN   \n",
       "2004          259.0    NaN    NaN    NaN   23.0    NaN    NaN  175.0   15.0   \n",
       "2005          260.0   18.0    NaN    NaN  118.0    NaN    NaN  135.0   95.0   \n",
       "2006          259.0   93.0   27.0   44.0  201.0    NaN    NaN   39.0  189.0   \n",
       "2007          214.0  123.0   90.0  185.0  376.0    NaN    NaN    6.0  133.0   \n",
       "2008          191.0  146.0  138.0  282.0  492.0    NaN    NaN    NaN  100.0   \n",
       "2009           96.0  172.0  162.0  325.0  403.0    NaN    NaN    NaN  161.0   \n",
       "2010           38.0  182.0  181.0  253.0  323.0    NaN    NaN    NaN  188.0   \n",
       "2011            7.0  206.0  215.0  143.0  153.0    NaN    NaN    NaN  139.0   \n",
       "2012            NaN  106.0  148.0   31.0   23.0    NaN    NaN    NaN  106.0   \n",
       "2013            NaN   75.0  126.0   12.0    8.0    NaN   16.0    NaN   54.0   \n",
       "2014            NaN   63.0  108.0    6.0    NaN    NaN   75.0    NaN   10.0   \n",
       "2015            NaN   35.0   73.0    4.0    NaN    NaN  137.0    NaN    3.0   \n",
       "2016            NaN   13.0   38.0    1.0    NaN    NaN  164.0    NaN    NaN   \n",
       "\n",
       "platform        3DS  \n",
       "release_year         \n",
       "1994            NaN  \n",
       "1995            NaN  \n",
       "1996            NaN  \n",
       "1997            NaN  \n",
       "1998            NaN  \n",
       "1999            NaN  \n",
       "2000            NaN  \n",
       "2001            NaN  \n",
       "2002            NaN  \n",
       "2003            NaN  \n",
       "2004            NaN  \n",
       "2005            NaN  \n",
       "2006            NaN  \n",
       "2007            NaN  \n",
       "2008            NaN  \n",
       "2009            NaN  \n",
       "2010            NaN  \n",
       "2011          116.0  \n",
       "2012           93.0  \n",
       "2013           91.0  \n",
       "2014           80.0  \n",
       "2015           86.0  \n",
       "2016           46.0  "
      ]
     },
     "execution_count": 48,
     "metadata": {},
     "output_type": "execute_result"
    }
   ],
   "source": [
    "data_top_platform[data_top_platform['sum_per_year'] > 10][top_platforms.index]"
   ]
  },
  {
   "cell_type": "markdown",
   "metadata": {},
   "source": [
    "Благодаря построенному графику можно сделать вывод, что в среднем платформы \"живут\" около 7-8 лет.\n",
    "Также можно сделать вывод, что высока вероятность того, что в 2017 году большинство игр будет выпущено на PS4, некоторое количество на 3DS, в то время как X360 и PS3 уже \"доживают\" свое время."
   ]
  },
  {
   "cell_type": "markdown",
   "metadata": {},
   "source": [
    "**Актуальный период.**"
   ]
  },
  {
   "cell_type": "markdown",
   "metadata": {},
   "source": [
    "На основе двух построенных графиков можно сделать следующие выводы относительно *актуального периода*:\n",
    "1. Игровая сфера начала активно развиваться с 1995 года и набирала свою популярность вплоть до 2009 года. С 2009 до 2016 наблюдается спад в производстве игр.\n",
    "2. В игровой сфере есть множество платформ, которые появляются, набирают популярность и в дальнейшем исчезают - в среднем, их жизненный цикл длится около 7 лет, половину из которых они находятся в пике своей популярности. На момент проведения исследования (2016 год с целью прогноза на 2017) как раз набирает популярность платформа PS4, впервые появившаяся в 2013 году.\n",
    "\n",
    "Таким образом, для наиболее точного ответа на поставленную задачу видится целесообразным взять временной промежуток с 2011 по 2016 год - начало промежутка является пиком развития игровой сферы по сравнению с предыдущими годами, но популярность таких платформ, как Wii, DS и PSP уже прошла, что поможет нам строить более точные прогнозы без искажения показателей из-за больших продаж на платформах, которые к 2017 году уже теряют или потеряли вовсе свою актуальность."
   ]
  },
  {
   "cell_type": "code",
   "execution_count": 24,
   "metadata": {},
   "outputs": [
    {
     "data": {
      "text/plain": [
       "(4022, 13)"
      ]
     },
     "execution_count": 24,
     "metadata": {},
     "output_type": "execute_result"
    }
   ],
   "source": [
    "#определим датафрейм, с которым в дальнейшем будем работать\n",
    "data_upd = data[(data['release_year'] >= 2011)].reset_index()\n",
    "\n",
    "#проверим, с каким датафреймом предстоит работать\n",
    "data_upd.shape"
   ]
  },
  {
   "cell_type": "markdown",
   "metadata": {},
   "source": [
    "Таким образом, для проверки гипотез будет необходима четверть от изначального датафрейма, с которой мы и будем работать."
   ]
  },
  {
   "cell_type": "markdown",
   "metadata": {},
   "source": [
    "**Анализ платформ, лидирующих по продажам, оценка направления их движения.**"
   ]
  },
  {
   "cell_type": "markdown",
   "metadata": {},
   "source": [
    "Для ответа на поставленный вопрос необходимо составить сводную таблицу по объемам продаж со всех платформ за ранее определенный актуальный период."
   ]
  },
  {
   "cell_type": "code",
   "execution_count": 25,
   "metadata": {
    "scrolled": true
   },
   "outputs": [
    {
     "data": {
      "text/html": [
       "<div>\n",
       "<style scoped>\n",
       "    .dataframe tbody tr th:only-of-type {\n",
       "        vertical-align: middle;\n",
       "    }\n",
       "\n",
       "    .dataframe tbody tr th {\n",
       "        vertical-align: top;\n",
       "    }\n",
       "\n",
       "    .dataframe thead th {\n",
       "        text-align: right;\n",
       "    }\n",
       "</style>\n",
       "<table border=\"1\" class=\"dataframe\">\n",
       "  <thead>\n",
       "    <tr style=\"text-align: right;\">\n",
       "      <th>platform</th>\n",
       "      <th>3DS</th>\n",
       "      <th>DS</th>\n",
       "      <th>PC</th>\n",
       "      <th>PS2</th>\n",
       "      <th>PS3</th>\n",
       "      <th>PS4</th>\n",
       "      <th>PSP</th>\n",
       "      <th>PSV</th>\n",
       "      <th>Wii</th>\n",
       "      <th>WiiU</th>\n",
       "      <th>X360</th>\n",
       "      <th>XOne</th>\n",
       "    </tr>\n",
       "    <tr>\n",
       "      <th>release_year</th>\n",
       "      <th></th>\n",
       "      <th></th>\n",
       "      <th></th>\n",
       "      <th></th>\n",
       "      <th></th>\n",
       "      <th></th>\n",
       "      <th></th>\n",
       "      <th></th>\n",
       "      <th></th>\n",
       "      <th></th>\n",
       "      <th></th>\n",
       "      <th></th>\n",
       "    </tr>\n",
       "  </thead>\n",
       "  <tbody>\n",
       "    <tr>\n",
       "      <th>2011</th>\n",
       "      <td>63.20</td>\n",
       "      <td>26.18</td>\n",
       "      <td>35.03</td>\n",
       "      <td>0.45</td>\n",
       "      <td>156.78</td>\n",
       "      <td>NaN</td>\n",
       "      <td>17.82</td>\n",
       "      <td>4.63</td>\n",
       "      <td>59.65</td>\n",
       "      <td>NaN</td>\n",
       "      <td>143.84</td>\n",
       "      <td>NaN</td>\n",
       "    </tr>\n",
       "    <tr>\n",
       "      <th>2012</th>\n",
       "      <td>51.36</td>\n",
       "      <td>11.01</td>\n",
       "      <td>23.22</td>\n",
       "      <td>NaN</td>\n",
       "      <td>107.36</td>\n",
       "      <td>NaN</td>\n",
       "      <td>7.69</td>\n",
       "      <td>16.19</td>\n",
       "      <td>21.71</td>\n",
       "      <td>17.56</td>\n",
       "      <td>99.74</td>\n",
       "      <td>NaN</td>\n",
       "    </tr>\n",
       "    <tr>\n",
       "      <th>2013</th>\n",
       "      <td>56.57</td>\n",
       "      <td>1.54</td>\n",
       "      <td>12.38</td>\n",
       "      <td>NaN</td>\n",
       "      <td>113.25</td>\n",
       "      <td>25.99</td>\n",
       "      <td>3.14</td>\n",
       "      <td>10.59</td>\n",
       "      <td>8.59</td>\n",
       "      <td>21.65</td>\n",
       "      <td>88.58</td>\n",
       "      <td>18.96</td>\n",
       "    </tr>\n",
       "    <tr>\n",
       "      <th>2014</th>\n",
       "      <td>43.76</td>\n",
       "      <td>NaN</td>\n",
       "      <td>13.28</td>\n",
       "      <td>NaN</td>\n",
       "      <td>47.76</td>\n",
       "      <td>100.00</td>\n",
       "      <td>0.24</td>\n",
       "      <td>11.90</td>\n",
       "      <td>3.75</td>\n",
       "      <td>22.03</td>\n",
       "      <td>34.74</td>\n",
       "      <td>54.07</td>\n",
       "    </tr>\n",
       "    <tr>\n",
       "      <th>2015</th>\n",
       "      <td>27.78</td>\n",
       "      <td>NaN</td>\n",
       "      <td>8.52</td>\n",
       "      <td>NaN</td>\n",
       "      <td>16.82</td>\n",
       "      <td>118.90</td>\n",
       "      <td>0.12</td>\n",
       "      <td>6.25</td>\n",
       "      <td>1.14</td>\n",
       "      <td>16.35</td>\n",
       "      <td>11.96</td>\n",
       "      <td>60.14</td>\n",
       "    </tr>\n",
       "    <tr>\n",
       "      <th>2016</th>\n",
       "      <td>15.14</td>\n",
       "      <td>NaN</td>\n",
       "      <td>5.25</td>\n",
       "      <td>NaN</td>\n",
       "      <td>3.60</td>\n",
       "      <td>69.25</td>\n",
       "      <td>NaN</td>\n",
       "      <td>4.25</td>\n",
       "      <td>0.18</td>\n",
       "      <td>4.60</td>\n",
       "      <td>1.52</td>\n",
       "      <td>26.15</td>\n",
       "    </tr>\n",
       "  </tbody>\n",
       "</table>\n",
       "</div>"
      ],
      "text/plain": [
       "platform        3DS     DS     PC   PS2     PS3     PS4    PSP    PSV    Wii  \\\n",
       "release_year                                                                   \n",
       "2011          63.20  26.18  35.03  0.45  156.78     NaN  17.82   4.63  59.65   \n",
       "2012          51.36  11.01  23.22   NaN  107.36     NaN   7.69  16.19  21.71   \n",
       "2013          56.57   1.54  12.38   NaN  113.25   25.99   3.14  10.59   8.59   \n",
       "2014          43.76    NaN  13.28   NaN   47.76  100.00   0.24  11.90   3.75   \n",
       "2015          27.78    NaN   8.52   NaN   16.82  118.90   0.12   6.25   1.14   \n",
       "2016          15.14    NaN   5.25   NaN    3.60   69.25    NaN   4.25   0.18   \n",
       "\n",
       "platform       WiiU    X360   XOne  \n",
       "release_year                        \n",
       "2011            NaN  143.84    NaN  \n",
       "2012          17.56   99.74    NaN  \n",
       "2013          21.65   88.58  18.96  \n",
       "2014          22.03   34.74  54.07  \n",
       "2015          16.35   11.96  60.14  \n",
       "2016           4.60    1.52  26.15  "
      ]
     },
     "execution_count": 25,
     "metadata": {},
     "output_type": "execute_result"
    }
   ],
   "source": [
    "sells_platforms = data_upd.pivot_table(values='all_sales', index='release_year', columns='platform', aggfunc='sum')\n",
    "\n",
    "sells_platforms"
   ]
  },
  {
   "cell_type": "code",
   "execution_count": 26,
   "metadata": {},
   "outputs": [
    {
     "data": {
      "text/html": [
       "<div>\n",
       "<style scoped>\n",
       "    .dataframe tbody tr th:only-of-type {\n",
       "        vertical-align: middle;\n",
       "    }\n",
       "\n",
       "    .dataframe tbody tr th {\n",
       "        vertical-align: top;\n",
       "    }\n",
       "\n",
       "    .dataframe thead th {\n",
       "        text-align: right;\n",
       "    }\n",
       "</style>\n",
       "<table border=\"1\" class=\"dataframe\">\n",
       "  <thead>\n",
       "    <tr style=\"text-align: right;\">\n",
       "      <th>platform</th>\n",
       "      <th>3DS</th>\n",
       "      <th>PC</th>\n",
       "      <th>PS3</th>\n",
       "      <th>PS4</th>\n",
       "      <th>PSV</th>\n",
       "      <th>Wii</th>\n",
       "      <th>WiiU</th>\n",
       "      <th>X360</th>\n",
       "      <th>XOne</th>\n",
       "    </tr>\n",
       "    <tr>\n",
       "      <th>release_year</th>\n",
       "      <th></th>\n",
       "      <th></th>\n",
       "      <th></th>\n",
       "      <th></th>\n",
       "      <th></th>\n",
       "      <th></th>\n",
       "      <th></th>\n",
       "      <th></th>\n",
       "      <th></th>\n",
       "    </tr>\n",
       "  </thead>\n",
       "  <tbody>\n",
       "    <tr>\n",
       "      <th>2011</th>\n",
       "      <td>63.20</td>\n",
       "      <td>35.03</td>\n",
       "      <td>156.78</td>\n",
       "      <td>NaN</td>\n",
       "      <td>4.63</td>\n",
       "      <td>59.65</td>\n",
       "      <td>NaN</td>\n",
       "      <td>143.84</td>\n",
       "      <td>NaN</td>\n",
       "    </tr>\n",
       "    <tr>\n",
       "      <th>2012</th>\n",
       "      <td>51.36</td>\n",
       "      <td>23.22</td>\n",
       "      <td>107.36</td>\n",
       "      <td>NaN</td>\n",
       "      <td>16.19</td>\n",
       "      <td>21.71</td>\n",
       "      <td>17.56</td>\n",
       "      <td>99.74</td>\n",
       "      <td>NaN</td>\n",
       "    </tr>\n",
       "    <tr>\n",
       "      <th>2013</th>\n",
       "      <td>56.57</td>\n",
       "      <td>12.38</td>\n",
       "      <td>113.25</td>\n",
       "      <td>25.99</td>\n",
       "      <td>10.59</td>\n",
       "      <td>8.59</td>\n",
       "      <td>21.65</td>\n",
       "      <td>88.58</td>\n",
       "      <td>18.96</td>\n",
       "    </tr>\n",
       "    <tr>\n",
       "      <th>2014</th>\n",
       "      <td>43.76</td>\n",
       "      <td>13.28</td>\n",
       "      <td>47.76</td>\n",
       "      <td>100.00</td>\n",
       "      <td>11.90</td>\n",
       "      <td>3.75</td>\n",
       "      <td>22.03</td>\n",
       "      <td>34.74</td>\n",
       "      <td>54.07</td>\n",
       "    </tr>\n",
       "    <tr>\n",
       "      <th>2015</th>\n",
       "      <td>27.78</td>\n",
       "      <td>8.52</td>\n",
       "      <td>16.82</td>\n",
       "      <td>118.90</td>\n",
       "      <td>6.25</td>\n",
       "      <td>1.14</td>\n",
       "      <td>16.35</td>\n",
       "      <td>11.96</td>\n",
       "      <td>60.14</td>\n",
       "    </tr>\n",
       "    <tr>\n",
       "      <th>2016</th>\n",
       "      <td>15.14</td>\n",
       "      <td>5.25</td>\n",
       "      <td>3.60</td>\n",
       "      <td>69.25</td>\n",
       "      <td>4.25</td>\n",
       "      <td>0.18</td>\n",
       "      <td>4.60</td>\n",
       "      <td>1.52</td>\n",
       "      <td>26.15</td>\n",
       "    </tr>\n",
       "  </tbody>\n",
       "</table>\n",
       "</div>"
      ],
      "text/plain": [
       "platform        3DS     PC     PS3     PS4    PSV    Wii   WiiU    X360   XOne\n",
       "release_year                                                                  \n",
       "2011          63.20  35.03  156.78     NaN   4.63  59.65    NaN  143.84    NaN\n",
       "2012          51.36  23.22  107.36     NaN  16.19  21.71  17.56   99.74    NaN\n",
       "2013          56.57  12.38  113.25   25.99  10.59   8.59  21.65   88.58  18.96\n",
       "2014          43.76  13.28   47.76  100.00  11.90   3.75  22.03   34.74  54.07\n",
       "2015          27.78   8.52   16.82  118.90   6.25   1.14  16.35   11.96  60.14\n",
       "2016          15.14   5.25    3.60   69.25   4.25   0.18   4.60    1.52  26.15"
      ]
     },
     "execution_count": 26,
     "metadata": {},
     "output_type": "execute_result"
    }
   ],
   "source": [
    "#уберем из таблицы те платформы, игры на которые в 2016 не продавались\n",
    "sells_platforms_act = sells_platforms[sells_platforms.loc[2016][~sells_platforms.loc[2016].isna()].index]\n",
    "sells_platforms_act"
   ]
  },
  {
   "cell_type": "markdown",
   "metadata": {},
   "source": [
    "Исходя из полученной таблицы видно, что в 2016 году игры выпускались и продавались на 9 платформах. Для того, чтобы оценить тенденцию продаж, построим график."
   ]
  },
  {
   "cell_type": "code",
   "execution_count": 27,
   "metadata": {
    "scrolled": true
   },
   "outputs": [
    {
     "data": {
      "image/png": "[encoded data removed]",
      "text/plain": [
       "<Figure size 1800x360 with 1 Axes>"
      ]
     },
     "metadata": {
      "needs_background": "light"
     },
     "output_type": "display_data"
    }
   ],
   "source": [
    "(\n",
    "    sells_platforms_act.plot\n",
    "    .area(\n",
    "        stacked=True, \n",
    "        figsize=(25, 5), \n",
    "        title='Платформы, лидирующие по продажам', \n",
    "        xlabel='год выпуска', \n",
    "        ylabel='количество (млн)')\n",
    ");"
   ]
  },
  {
   "cell_type": "markdown",
   "metadata": {},
   "source": [
    "Можно сделать вывод, что явными лидерами  по продаже компьютерных игр, на данный момент, являются XOne и PS4, в то время как обе платформы существуют на рынке с 2013 года, тенденция PS4 выглядит более многообещающей, чем его конкурента в лице XOne. Тем не менее, на мой взгляд, не стоит сбрасывать со счетов платформу 3DS, продажи которой хоть и меньше 2 других платформ, но отличаются относительной стабильностью с 2011 года. Также критически важно отметить общую тенденцию снижения продаж компьютерных игр по всем платформам. Даже выбранные платформы-лидеры показывают снижение общей суммы продаж компьютерных игр по сравнению с предыдущими годами."
   ]
  },
  {
   "cell_type": "markdown",
   "metadata": {},
   "source": [
    "**Построение и анализ графика «ящик с усами» по глобальным продажам игр в разбивке по платформам.**"
   ]
  },
  {
   "cell_type": "code",
   "execution_count": 28,
   "metadata": {},
   "outputs": [
    {
     "data": {
      "image/png": "[encoded data removed]",
      "text/plain": [
       "<Figure size 1800x720 with 1 Axes>"
      ]
     },
     "metadata": {
      "needs_background": "light"
     },
     "output_type": "display_data"
    }
   ],
   "source": [
    "#обратимся к ранее составленной сводной таблице и применим метод boxplot ко всем колонкам одновременно \n",
    "sells_platforms.boxplot(figsize=(25, 10));"
   ]
  },
  {
   "cell_type": "markdown",
   "metadata": {},
   "source": [
    "Данный график хорошо иллюстрирует и позволяет сравнивать медианные значения продаж для каждой из платформ, их нормальные значения и выбросы, если они есть. \n",
    "\n",
    "Стоит напомнить, что актуальный период брался с пиковых значений и охватывает весь нисходящий тренд. Поэтому помимо абсолютных числовых показателей для того, чтобы правильно трактовать построенный выше график, необходимо обращаться к годам, когда были достигнуты те или иные показатели. \n",
    "\n",
    "Так, в настоящем графике отражено 3 поколения PS, и наилучшими показателями обладает PS4, медианное значения которого находится на уровне 85. Однако, разброс нормальных значений у PS3 гораздо больше. Тем не менее, не следует забывать о продолжительности \"жизни\" игровых платформ. Если обратиться к сводной таблице, можно заметить тенденцию, что PS3 \"доживает\" свою игровую жизнь, в то время как пришедший на его замену PS4 только набирает обороты.\n",
    "\n",
    "То же прослеживается и у менее успешной приставки производства Nintendo - Wii. Помимо того, что её успех в 2011 году на \"ящике с усами\" считается как выброс, так и появление WiiU сказалось на продажах приставки предыдущего поколения и уже отбросило своего предшественника на более низкие показатели.\n",
    "\n",
    "Рассматривая платформы, принадлежащие Xbox, видно, что медиана у Х360 располагается на уровне 60, в то время как у XOne она колеблется около 40. Тем не менее, как и в случае с двумя примерами выше, XOne - это новшество, которое только набирает свои обороты.\n",
    "\n",
    "PSV, пришедший на замену популярного в 2011 году PSP, не смог повторить успеха своего предшественника и на закате своего существования показал продажи немного хуже, чем у PSP.\n",
    "\n",
    "3DC также не удалось повторить успех DC нулевых, тем не менее, он показывает лучшие значения согласно графику - медианное значение продаж почти достигает 50, и стабильность, отраженная на графике выше, делает его одной из привлекательной платформ для инвестирования.\n",
    "\n",
    "Помимо семейств игровых платформ, остался персональный компьютер, разброс значений которого невелик и говорит об относительном постоянстве - нормальные значения мировых продаж, колеблющиеся в пределах \"усов\", равняются 5 и 35."
   ]
  },
  {
   "cell_type": "markdown",
   "metadata": {},
   "source": [
    "**Влияние на продажи внутри одной популярной платформы отзывов пользователей и критиков.**"
   ]
  },
  {
   "cell_type": "markdown",
   "metadata": {},
   "source": [
    "Отзывы пользователей и критиков хранятся в столбцах user_score и critic_score, соответственно. Оценки критиков - это целые числа до 100, пользователей - числа с плавающей точкой до 10. Для того, чтобы найти корреляцию между продажами и отзывами, необходимо добавить столбец со средней оценкой и посчитать саму корреляцию."
   ]
  },
  {
   "cell_type": "code",
   "execution_count": 29,
   "metadata": {},
   "outputs": [
    {
     "data": {
      "text/html": [
       "<div>\n",
       "<style scoped>\n",
       "    .dataframe tbody tr th:only-of-type {\n",
       "        vertical-align: middle;\n",
       "    }\n",
       "\n",
       "    .dataframe tbody tr th {\n",
       "        vertical-align: top;\n",
       "    }\n",
       "\n",
       "    .dataframe thead th {\n",
       "        text-align: right;\n",
       "    }\n",
       "</style>\n",
       "<table border=\"1\" class=\"dataframe\">\n",
       "  <thead>\n",
       "    <tr style=\"text-align: right;\">\n",
       "      <th></th>\n",
       "      <th>index</th>\n",
       "      <th>name</th>\n",
       "      <th>platform</th>\n",
       "      <th>release_year</th>\n",
       "      <th>genre</th>\n",
       "      <th>na_sales</th>\n",
       "      <th>eu_sales</th>\n",
       "      <th>jp_sales</th>\n",
       "      <th>other_sales</th>\n",
       "      <th>critic_score</th>\n",
       "      <th>user_score</th>\n",
       "      <th>rating</th>\n",
       "      <th>all_sales</th>\n",
       "      <th>total_score</th>\n",
       "    </tr>\n",
       "  </thead>\n",
       "  <tbody>\n",
       "    <tr>\n",
       "      <th>0</th>\n",
       "      <td>16</td>\n",
       "      <td>Grand Theft Auto V</td>\n",
       "      <td>PS3</td>\n",
       "      <td>2013</td>\n",
       "      <td>Action</td>\n",
       "      <td>7.02</td>\n",
       "      <td>9.09</td>\n",
       "      <td>0.98</td>\n",
       "      <td>3.96</td>\n",
       "      <td>97.0</td>\n",
       "      <td>82.0</td>\n",
       "      <td>M</td>\n",
       "      <td>21.05</td>\n",
       "      <td>89.5</td>\n",
       "    </tr>\n",
       "    <tr>\n",
       "      <th>1</th>\n",
       "      <td>23</td>\n",
       "      <td>Grand Theft Auto V</td>\n",
       "      <td>X360</td>\n",
       "      <td>2013</td>\n",
       "      <td>Action</td>\n",
       "      <td>9.66</td>\n",
       "      <td>5.14</td>\n",
       "      <td>0.06</td>\n",
       "      <td>1.41</td>\n",
       "      <td>97.0</td>\n",
       "      <td>81.0</td>\n",
       "      <td>M</td>\n",
       "      <td>16.27</td>\n",
       "      <td>89.0</td>\n",
       "    </tr>\n",
       "    <tr>\n",
       "      <th>2</th>\n",
       "      <td>29</td>\n",
       "      <td>Call of Duty: Modern Warfare 3</td>\n",
       "      <td>X360</td>\n",
       "      <td>2011</td>\n",
       "      <td>Shooter</td>\n",
       "      <td>9.04</td>\n",
       "      <td>4.24</td>\n",
       "      <td>0.13</td>\n",
       "      <td>1.32</td>\n",
       "      <td>88.0</td>\n",
       "      <td>34.0</td>\n",
       "      <td>M</td>\n",
       "      <td>14.73</td>\n",
       "      <td>61.0</td>\n",
       "    </tr>\n",
       "    <tr>\n",
       "      <th>3</th>\n",
       "      <td>31</td>\n",
       "      <td>Call of Duty: Black Ops 3</td>\n",
       "      <td>PS4</td>\n",
       "      <td>2015</td>\n",
       "      <td>Shooter</td>\n",
       "      <td>6.03</td>\n",
       "      <td>5.86</td>\n",
       "      <td>0.36</td>\n",
       "      <td>2.38</td>\n",
       "      <td>NaN</td>\n",
       "      <td>NaN</td>\n",
       "      <td>NaN</td>\n",
       "      <td>14.63</td>\n",
       "      <td>NaN</td>\n",
       "    </tr>\n",
       "    <tr>\n",
       "      <th>4</th>\n",
       "      <td>33</td>\n",
       "      <td>Pokemon X/Pokemon Y</td>\n",
       "      <td>3DS</td>\n",
       "      <td>2013</td>\n",
       "      <td>Role-Playing</td>\n",
       "      <td>5.28</td>\n",
       "      <td>4.19</td>\n",
       "      <td>4.35</td>\n",
       "      <td>0.78</td>\n",
       "      <td>NaN</td>\n",
       "      <td>NaN</td>\n",
       "      <td>NaN</td>\n",
       "      <td>14.60</td>\n",
       "      <td>NaN</td>\n",
       "    </tr>\n",
       "  </tbody>\n",
       "</table>\n",
       "</div>"
      ],
      "text/plain": [
       "   index                            name platform  release_year         genre  \\\n",
       "0     16              Grand Theft Auto V      PS3          2013        Action   \n",
       "1     23              Grand Theft Auto V     X360          2013        Action   \n",
       "2     29  Call of Duty: Modern Warfare 3     X360          2011       Shooter   \n",
       "3     31       Call of Duty: Black Ops 3      PS4          2015       Shooter   \n",
       "4     33             Pokemon X/Pokemon Y      3DS          2013  Role-Playing   \n",
       "\n",
       "   na_sales  eu_sales  jp_sales  other_sales  critic_score  user_score rating  \\\n",
       "0      7.02      9.09      0.98         3.96          97.0        82.0      M   \n",
       "1      9.66      5.14      0.06         1.41          97.0        81.0      M   \n",
       "2      9.04      4.24      0.13         1.32          88.0        34.0      M   \n",
       "3      6.03      5.86      0.36         2.38           NaN         NaN    NaN   \n",
       "4      5.28      4.19      4.35         0.78           NaN         NaN    NaN   \n",
       "\n",
       "   all_sales  total_score  \n",
       "0      21.05         89.5  \n",
       "1      16.27         89.0  \n",
       "2      14.73         61.0  \n",
       "3      14.63          NaN  \n",
       "4      14.60          NaN  "
      ]
     },
     "execution_count": 29,
     "metadata": {},
     "output_type": "execute_result"
    }
   ],
   "source": [
    "#для начала переведем оценки пользователей в одинаковую с оценками критиков величину\n",
    "data_upd['user_score'] = data_upd['user_score'] * 10\n",
    "\n",
    "#теперь добавим столбец как среднее оценки критиков и пользователей\n",
    "data_upd['total_score'] = (data_upd['user_score'] + data_upd['critic_score']) / 2\n",
    "\n",
    "#выведем, что получилось\n",
    "data_upd.head()"
   ]
  },
  {
   "cell_type": "code",
   "execution_count": 30,
   "metadata": {},
   "outputs": [
    {
     "name": "stdout",
     "output_type": "stream",
     "text": [
      "Корреляция отзывов и продаж для PS4 равна 0.19233840669826302\n",
      "Корреляция отзывов критиков и продаж для PS4 равна 0.40656790206178095\n",
      "Корреляция отзывов пользователей и продаж для PS4 равна -0.03195711020455641\n"
     ]
    },
    {
     "data": {
      "image/png": "[encoded data removed]",
      "text/plain": [
       "<Figure size 432x288 with 1 Axes>"
      ]
     },
     "metadata": {
      "needs_background": "light"
     },
     "output_type": "display_data"
    }
   ],
   "source": [
    "#построим диаграмму рассеяния для PS4\n",
    "data_upd[data_upd['platform'] == 'PS4'].plot(\n",
    "    x='total_score', \n",
    "    y='all_sales', \n",
    "    kind='scatter',\n",
    "    title='Корреляция продаж внутри PS4 и отзывов',\n",
    "    xlabel='средняя оценка',\n",
    "    ylabel='количество (млн)') \n",
    "\n",
    "#и посчитаем корреляцию\n",
    "corr_all_ps = data_upd[data_upd['platform'] == 'PS4']['total_score'].corr(data_upd[data_upd['platform'] == 'PS4']['all_sales'])\n",
    "corr_critic_ps = data_upd[data_upd['platform'] == 'PS4']['critic_score'].corr(data_upd[data_upd['platform'] == 'PS4']['all_sales'])\n",
    "corr_user_ps = data_upd[data_upd['platform'] == 'PS4']['user_score'].corr(data_upd[data_upd['platform'] == 'PS4']['all_sales'])\n",
    "print('Корреляция отзывов и продаж для PS4 равна', corr_all_ps)\n",
    "print('Корреляция отзывов критиков и продаж для PS4 равна', corr_critic_ps)\n",
    "print('Корреляция отзывов пользователей и продаж для PS4 равна', corr_user_ps)"
   ]
  },
  {
   "cell_type": "code",
   "execution_count": 31,
   "metadata": {},
   "outputs": [
    {
     "name": "stdout",
     "output_type": "stream",
     "text": [
      "Корреляция отзывов и продаж для XOne равна 0.17856743422301058\n",
      "Корреляция отзывов критиков и продаж для XOne равна 0.4169983280084017\n",
      "Корреляция отзывов пользователей и продаж для XOne равна -0.06892505328279411\n"
     ]
    },
    {
     "data": {
      "image/png": "[encoded data removed]",
      "text/plain": [
       "<Figure size 432x288 with 1 Axes>"
      ]
     },
     "metadata": {
      "needs_background": "light"
     },
     "output_type": "display_data"
    }
   ],
   "source": [
    "#сделаем то же самое для XOne \n",
    "data_upd[data_upd['platform'] == 'XOne'].plot(\n",
    "    x='total_score', \n",
    "    y='all_sales', \n",
    "    kind='scatter',\n",
    "    title='Корреляция продаж внутри XOne и отзывов',\n",
    "    xlabel='средняя оценка',\n",
    "    ylabel='количество (млн)') \n",
    "\n",
    "#и посчитаем корреляцию\n",
    "corr_xone = data_upd[data_upd['platform'] == 'XOne']['total_score'].corr(data_upd[data_upd['platform'] == 'XOne']['all_sales'])\n",
    "corr_critic_xone = data_upd[data_upd['platform'] == 'XOne']['critic_score'].corr(data_upd[data_upd['platform'] == 'XOne']['all_sales'])\n",
    "corr_user_xone = data_upd[data_upd['platform'] == 'XOne']['user_score'].corr(data_upd[data_upd['platform'] == 'XOne']['all_sales'])\n",
    "print('Корреляция отзывов и продаж для XOne равна', corr_xone)\n",
    "print('Корреляция отзывов критиков и продаж для XOne равна', corr_critic_xone)\n",
    "print('Корреляция отзывов пользователей и продаж для XOne равна', corr_user_xone)"
   ]
  },
  {
   "cell_type": "markdown",
   "metadata": {},
   "source": [
    "Проанализировав 2 наиболее популярные платформы и получив примерно одинаковые результаты, можно сделать вывод о том, что корреляция между объемом продаж и отзывами пользователей отсутствует вообще - по всей видимости, люди при принятии решения о покупке компьютерной игры не опираются на опыт таких же игроков, чего нельзя сказать об отзывах критиков. В обоих случаях корреляция Пирсона равна 0.4, что говорит об умеренной силы корреляционной связи. \n",
    "\n",
    "Таким образом, к оценке профессионалов потенциальные покупатели прислушиваются и, как видно, учитывают при совершении покупок. Тем не менее, отзывы явно не являются первостепенным фактором при принятии решения о приобретении компьютерной игры. "
   ]
  },
  {
   "cell_type": "code",
   "execution_count": 32,
   "metadata": {},
   "outputs": [
    {
     "name": "stdout",
     "output_type": "stream",
     "text": [
      "Корреляция отзывов и продаж для 3DS равна 0.3033155494603089\n",
      "Корреляция отзывов критиков и продаж для 3DS равна 0.3487397305984834\n",
      "Корреляция отзывов пользователей и продаж для 3DS равна 0.22207843643390882\n"
     ]
    },
    {
     "data": {
      "image/png": "[encoded data removed]",
      "text/plain": [
       "<Figure size 432x288 with 1 Axes>"
      ]
     },
     "metadata": {
      "needs_background": "light"
     },
     "output_type": "display_data"
    }
   ],
   "source": [
    "#проанализируем несколько других платформ, не являющимися лидерами\n",
    "#например, 3DS\n",
    "data_upd[data_upd['platform'] == '3DS'].plot(x='total_score', \n",
    "                                             y='all_sales', \n",
    "                                             kind='scatter',\n",
    "                                             title='Корреляция продаж внутри 3DS и отзывов',\n",
    "                                             xlabel='средняя оценка',\n",
    "                                             ylabel='количество (млн)'\n",
    "                                            ) \n",
    "\n",
    "#и посчитаем корреляцию\n",
    "corr_ds = data_upd[data_upd['platform'] == '3DS']['total_score'].corr(data_upd[data_upd['platform'] == '3DS']['all_sales'])\n",
    "corr_critic_ds = data_upd[data_upd['platform'] == '3DS']['critic_score'].corr(data_upd[data_upd['platform'] == '3DS']['all_sales'])\n",
    "corr_user_ds = data_upd[data_upd['platform'] == '3DS']['user_score'].corr(data_upd[data_upd['platform'] == '3DS']['all_sales'])\n",
    "print('Корреляция отзывов и продаж для 3DS равна', corr_ds)\n",
    "print('Корреляция отзывов критиков и продаж для 3DS равна', corr_critic_ds)\n",
    "print('Корреляция отзывов пользователей и продаж для 3DS равна', corr_user_ds)"
   ]
  },
  {
   "cell_type": "code",
   "execution_count": 33,
   "metadata": {},
   "outputs": [
    {
     "name": "stdout",
     "output_type": "stream",
     "text": [
      "Корреляция отзывов и продаж для PC равна 0.10782285178810057\n",
      "Корреляция отзывов критиков и продаж для PC равна 0.3141847396903631\n",
      "Корреляция отзывов пользователей и продаж для PC равна -0.04896683233511961\n"
     ]
    },
    {
     "data": {
      "image/png": "[encoded data removed]",
      "text/plain": [
       "<Figure size 432x288 with 1 Axes>"
      ]
     },
     "metadata": {
      "needs_background": "light"
     },
     "output_type": "display_data"
    }
   ],
   "source": [
    "#и бессмертный PC\n",
    "data_upd[data_upd['platform'] == 'PC'].plot(x='total_score', \n",
    "                                            y='all_sales', \n",
    "                                            kind='scatter',\n",
    "                                            title='Корреляция продаж внутри PC и отзывов',\n",
    "                                            xlabel='средняя оценка',\n",
    "                                            ylabel='количество (млн)'\n",
    "                                           ) \n",
    "\n",
    "#и посчитаем корреляцию\n",
    "corr_pc = data_upd[data_upd['platform'] == 'PC']['total_score'].corr(data_upd[data_upd['platform'] == 'PC']['all_sales'])\n",
    "corr_critic_pc = data_upd[data_upd['platform'] == 'PC']['critic_score'].corr(data_upd[data_upd['platform'] == 'PC']['all_sales'])\n",
    "corr_user_pc = data_upd[data_upd['platform'] == 'PC']['user_score'].corr(data_upd[data_upd['platform'] == 'PC']['all_sales'])\n",
    "print('Корреляция отзывов и продаж для PC равна', corr_pc)\n",
    "print('Корреляция отзывов критиков и продаж для PC равна', corr_critic_pc)\n",
    "print('Корреляция отзывов пользователей и продаж для PC равна', corr_user_pc)"
   ]
  },
  {
   "cell_type": "markdown",
   "metadata": {},
   "source": [
    "Для менее популярных платформ никаких других выводов сделать нельзя. \n",
    "\n",
    "Таким образом, вывод для популярных и не очень платформ един - на продажи игр влияют только отзывы критиков и то же слишком сильно - отзывы не являются первостепенной причиной для покупки компьютерной игры или отказа от нее."
   ]
  },
  {
   "cell_type": "markdown",
   "metadata": {},
   "source": [
    "**Общее распределение игр по жанрам.**"
   ]
  },
  {
   "cell_type": "code",
   "execution_count": 34,
   "metadata": {},
   "outputs": [
    {
     "data": {
      "image/png": "[encoded data removed]",
      "text/plain": [
       "<Figure size 1080x360 with 1 Axes>"
      ]
     },
     "metadata": {
      "needs_background": "light"
     },
     "output_type": "display_data"
    }
   ],
   "source": [
    "(\n",
    "    data_upd.groupby('genre')['all_sales']\n",
    "    .mean()\n",
    "    .sort_values(ascending=False)\n",
    "    .plot.bar(\n",
    "        figsize=(15, 5), \n",
    "        title='Cреднее продаж по жанрам', \n",
    "        xlabel='жанр', \n",
    "        ylabel='количество (млн)'\n",
    "    )\n",
    ");\n"
   ]
  },
  {
   "cell_type": "markdown",
   "metadata": {},
   "source": [
    "Самым прибыльным жанром среди компьютерных игр оказался шутер, в то время, как наименее популярным - игры-путешествия. Разница между самым популярным и непопулярным - почти в 6 раз. "
   ]
  },
  {
   "cell_type": "markdown",
   "metadata": {},
   "source": [
    "### Портрет пользователя каждого региона. "
   ]
  },
  {
   "cell_type": "markdown",
   "metadata": {},
   "source": [
    "Для составления портрета пользователя каждого региона необходимо проанализировать популярные платформы, жанры и  рейтинг ESRB. "
   ]
  },
  {
   "cell_type": "markdown",
   "metadata": {},
   "source": [
    "**Пользователь из Северной Америки.**"
   ]
  },
  {
   "cell_type": "code",
   "execution_count": 35,
   "metadata": {},
   "outputs": [
    {
     "data": {
      "image/png": "[encoded data removed]",
      "text/plain": [
       "<Figure size 720x360 with 1 Axes>"
      ]
     },
     "metadata": {},
     "output_type": "display_data"
    }
   ],
   "source": [
    "#определим наиболее популярные платформы для Северной Америки\n",
    "(\n",
    "    data_upd.groupby('platform')['na_sales']\n",
    "    .sum()\n",
    "    .sort_values(ascending=False)\n",
    "    .head()\n",
    "    .plot.pie(\n",
    "        figsize=(10, 5), \n",
    "        title='Популярные платформы для Северной Америки',\n",
    "        ylabel=''\n",
    "    )\n",
    ");"
   ]
  },
  {
   "cell_type": "markdown",
   "metadata": {},
   "source": [
    "Исходя из полученной диаграммы можно сделать вывод, что пользователи из Северной Америки отдают предпочтения таким платформам, как PS и XBox. 1/8 от всех продаж уходит Nintendo.\n",
    "\n",
    "Большую долю занимает X360, потом следует PS3, XOne и PS4, пришедшие на замену основным платформам, пока еще не набрали такого количества продаж. Тем не менее, не стоит забыывать, что с их появлением продажи X360 и PS3 резко сократились.\n",
    "\n",
    "Таким образом, данным графиком подтверждается сделанный ранее вывод о том, что наиболее прибыльными площадками являются XOne, PS4 и хоть с наименьшими продажами, но стабильный 3DS."
   ]
  },
  {
   "cell_type": "code",
   "execution_count": 36,
   "metadata": {},
   "outputs": [
    {
     "data": {
      "image/png": "[encoded data removed]",
      "text/plain": [
       "<Figure size 720x360 with 1 Axes>"
      ]
     },
     "metadata": {},
     "output_type": "display_data"
    }
   ],
   "source": [
    "#определим наиболее популярные жанры для Северной Америки\n",
    "(\n",
    "    data_upd.groupby('genre')['na_sales']\n",
    "    .sum()\n",
    "    .sort_values(ascending=False)\n",
    "    .head()\n",
    "    .plot.pie(\n",
    "        figsize=(10, 5), \n",
    "        title='Популярные жанры для Северной Америки',\n",
    "        ylabel=''\n",
    "    )\n",
    ");"
   ]
  },
  {
   "cell_type": "markdown",
   "metadata": {},
   "source": [
    "В Северной Америке наиболее популярными жанрами являются экшн и шутеры, далее примерно одинаково распределены ролевые игры и спортивные, что тоже в целом соответствует общему распределению жанров в мире."
   ]
  },
  {
   "cell_type": "code",
   "execution_count": 37,
   "metadata": {},
   "outputs": [
    {
     "data": {
      "image/png": "[encoded data removed]",
      "text/plain": [
       "<Figure size 720x360 with 1 Axes>"
      ]
     },
     "metadata": {},
     "output_type": "display_data"
    }
   ],
   "source": [
    "#определим наиболее популярные рейтинги ESRB для Северной Америки\n",
    "(\n",
    "    data_upd.groupby('rating')['na_sales']\n",
    "    .sum()\n",
    "    .sort_values(ascending=False)\n",
    "    .head()\n",
    "    .plot.pie(\n",
    "        figsize=(10, 5), \n",
    "        title='Популярные рейтинги ESRB для Северной Америки',\n",
    "        ylabel=''\n",
    "    )\n",
    ");"
   ]
  },
  {
   "cell_type": "markdown",
   "metadata": {},
   "source": [
    "Подавляющее большинство игр, которые предпочитают пользователи из Северной Америки, помечено организацией ESRB \"М\", что говорит о наличии жестокости в играх, сцен с кровью и ненормативной лексики - очевидные характеристики предпочитаемых жанров экшн и шутеров. Далее большой объем игр попадает под маркировку \"Е\" и \"Е10+\", которые, наоборот, подходят пользователям любого возраста (или 10+). Последняя часть графика \"Т\" отвечает за игры, позволительные пользователям возраста 13+, которые уже могут содержать минимальное носилие, кровь или ненормативную лексику."
   ]
  },
  {
   "cell_type": "markdown",
   "metadata": {},
   "source": [
    "**Пользователь из Европы.**"
   ]
  },
  {
   "cell_type": "code",
   "execution_count": 38,
   "metadata": {},
   "outputs": [
    {
     "data": {
      "image/png": "[encoded data removed]",
      "text/plain": [
       "<Figure size 720x360 with 1 Axes>"
      ]
     },
     "metadata": {},
     "output_type": "display_data"
    }
   ],
   "source": [
    "#определим наиболее популярные платформы для Европы\n",
    "(\n",
    "    data_upd.groupby('platform')['eu_sales']\n",
    "    .sum()\n",
    "    .sort_values(ascending=False)\n",
    "    .head()\n",
    "    .plot.pie(\n",
    "        figsize=(10, 5), \n",
    "        title='Популярные платформы для Северной Европы',\n",
    "        ylabel=''\n",
    "    )\n",
    ");"
   ]
  },
  {
   "cell_type": "markdown",
   "metadata": {},
   "source": [
    "Пользователи в Европе отдают свое явное предпочтение PS - более половины продаж приходится на PS старого и нового поколения. Чуть меньше четверти продаж занимает XBox, последнюю четверть делит между собой Nintendo и, неожиданно, персональный компьютер."
   ]
  },
  {
   "cell_type": "code",
   "execution_count": 39,
   "metadata": {},
   "outputs": [
    {
     "data": {
      "image/png": "[encoded data removed]",
      "text/plain": [
       "<Figure size 720x360 with 1 Axes>"
      ]
     },
     "metadata": {},
     "output_type": "display_data"
    }
   ],
   "source": [
    "#определим наиболее популярные жанры для Европы\n",
    "(\n",
    "    data_upd.groupby('genre')['eu_sales']\n",
    "    .sum()\n",
    "    .sort_values(ascending=False)\n",
    "    .head()\n",
    "    .plot.pie(\n",
    "        figsize=(10, 5), \n",
    "        title='Популярные жанры для Северной Европы',\n",
    "        ylabel=''\n",
    "    )\n",
    ");"
   ]
  },
  {
   "cell_type": "markdown",
   "metadata": {},
   "source": [
    "В Европе, как и в Северной Америке, наибольшие предпочтения пользователи отдают таким жанрам игр, как экшн и шутеры. Спортивные и ролевые игры также занимают свое место в топ-5, который завершают гонки."
   ]
  },
  {
   "cell_type": "code",
   "execution_count": 40,
   "metadata": {},
   "outputs": [
    {
     "data": {
      "image/png": "[encoded data removed]",
      "text/plain": [
       "<Figure size 720x360 with 1 Axes>"
      ]
     },
     "metadata": {},
     "output_type": "display_data"
    }
   ],
   "source": [
    "#определим наиболее популярные рейтинги ESRB для Европы\n",
    "(\n",
    "    data_upd.groupby('rating')['eu_sales']\n",
    "    .sum()\n",
    "    .sort_values(ascending=False)\n",
    "    .head()\n",
    "    .plot.pie(\n",
    "        figsize=(10, 5), \n",
    "        title='Популярные рейтинги ESRB для Северной Европы',\n",
    "        ylabel=''\n",
    "    )\n",
    ");"
   ]
  },
  {
   "cell_type": "markdown",
   "metadata": {},
   "source": [
    "Как и в Северной Америке, благодаря предпочтениям по жанрам, конечно же, наиболее популярными играми среди пользователей являются игры с маркировкой \"М\" - mature. Далее следуют игры для всех и для всех 10+ возраста, завершает этот топ пометка teenage. Все подробное описание представлено в исследовании портрета пользователя из Северной Америки."
   ]
  },
  {
   "cell_type": "markdown",
   "metadata": {},
   "source": [
    "**Пользователь из Японии.**"
   ]
  },
  {
   "cell_type": "code",
   "execution_count": 41,
   "metadata": {},
   "outputs": [
    {
     "data": {
      "image/png": "[encoded data removed]",
      "text/plain": [
       "<Figure size 720x360 with 1 Axes>"
      ]
     },
     "metadata": {},
     "output_type": "display_data"
    }
   ],
   "source": [
    "#определим наиболее популярные платформы для Японии\n",
    "(\n",
    "    data_upd.groupby('platform')['jp_sales']\n",
    "    .sum()\n",
    "    .sort_values(ascending=False)\n",
    "    .head()\n",
    "    .plot.pie(\n",
    "        figsize=(10, 5), \n",
    "        title='Популярные платформы для Японии',\n",
    "        ylabel=''\n",
    "    )\n",
    ");"
   ]
  },
  {
   "cell_type": "markdown",
   "metadata": {},
   "source": [
    "У пользователей из Японии абсолютно неожиданные показатели - большую часть продаж (почти половину) забрал Nintendo благодаря своему 3DS. Далее больше половины отдано PS, а третье место уходит PSP и пришедшему ему на замену PSV."
   ]
  },
  {
   "cell_type": "code",
   "execution_count": 42,
   "metadata": {},
   "outputs": [
    {
     "data": {
      "image/png": "[encoded data removed]",
      "text/plain": [
       "<Figure size 720x360 with 1 Axes>"
      ]
     },
     "metadata": {},
     "output_type": "display_data"
    }
   ],
   "source": [
    "#определим наиболее популярные жанры для Японии\n",
    "(\n",
    "    data_upd.groupby('genre')['jp_sales']\n",
    "    .sum()\n",
    "    .sort_values(ascending=False)\n",
    "    .head()\n",
    "    .plot.pie(\n",
    "        figsize=(10, 5), \n",
    "        title='Популярные жанры для Японии',\n",
    "        ylabel=''\n",
    "    )\n",
    ");"
   ]
  },
  {
   "cell_type": "markdown",
   "metadata": {},
   "source": [
    "Пользователям из Японии более всего интересны ролевые игры, далее следуют экшн, завершают топ игры-платформеры и единственные игры, сопряженные с насилием - драки."
   ]
  },
  {
   "cell_type": "code",
   "execution_count": 43,
   "metadata": {},
   "outputs": [
    {
     "data": {
      "image/png": "[encoded data removed]",
      "text/plain": [
       "<Figure size 720x360 with 1 Axes>"
      ]
     },
     "metadata": {},
     "output_type": "display_data"
    }
   ],
   "source": [
    "#определим наиболее популярные рейтинги ESRB для Европы\n",
    "(\n",
    "    data_upd.groupby('rating')['jp_sales']\n",
    "    .sum()\n",
    "    .sort_values(ascending=False)\n",
    "    .head()\n",
    "    .plot.pie(\n",
    "        figsize=(10, 5), \n",
    "        title='Популярные рейтинги ESRB для Японии',\n",
    "        ylabel=''\n",
    "    )\n",
    ");"
   ]
  },
  {
   "cell_type": "markdown",
   "metadata": {},
   "source": [
    "Из-за кардинально отличных от Америки и Европы предпочтений, в Японии более 2/3 игр имеют маркировку для всех или для тинейджеров. Тем не менее, достаточно неожиданно, учитывая малую долю игры с жанром драки, чуть менее 1/3 занимают игры с пометкой mature - можно предположить, что такая маркировка связана не с наличием в игре насилия или крови."
   ]
  },
  {
   "cell_type": "markdown",
   "metadata": {},
   "source": [
    "### Проверка гипотез. "
   ]
  },
  {
   "cell_type": "markdown",
   "metadata": {},
   "source": [
    "**Средние пользовательские рейтинги платформ Xbox One и PC одинаковые.**"
   ]
  },
  {
   "cell_type": "markdown",
   "metadata": {},
   "source": [
    "Нулевая гипотеза:\n",
    "- Средние пользовательские рейтинги платформ Xbox One и PC одинаковые.\n",
    "\n",
    "Альтернативная гипотеза:\n",
    "- Средние пользовательские рейтинги платформ Xbox One и PC не одинаковые."
   ]
  },
  {
   "cell_type": "markdown",
   "metadata": {},
   "source": [
    "Используем специальный метод для проверки *гипотезы о равенстве среднего двух генеральных совокупностей* по взятым из них выборкам.\n",
    "\n",
    "Указанные метод подходит, так как:\n",
    "1. Генеральные совокупности не должны зависеть друг от друга.\n",
    "2. Выборочные средние  нормально распределены.\n"
   ]
  },
  {
   "cell_type": "code",
   "execution_count": 44,
   "metadata": {},
   "outputs": [
    {
     "name": "stdout",
     "output_type": "stream",
     "text": [
      "(182,) (307,)\n"
     ]
    }
   ],
   "source": [
    "mean_user_score_xone = data_upd[data_upd['platform'] == 'XOne']['user_score'].dropna() #первая совокупность\n",
    "mean_user_score_pc = data_upd[data_upd['platform'] == 'PC']['user_score'].dropna() #вторая совокупность\n",
    "\n",
    "\n",
    "#посмотрим размеры выборок для того, чтобы правильно проверить гипотезу\n",
    "print(mean_user_score_xone.shape, mean_user_score_pc.shape)"
   ]
  },
  {
   "cell_type": "code",
   "execution_count": 45,
   "metadata": {},
   "outputs": [
    {
     "name": "stdout",
     "output_type": "stream",
     "text": [
      "p-значение: 0.613071224763855\n",
      "Не получилось отвергнуть нулевую гипотезу\n"
     ]
    }
   ],
   "source": [
    "alpha = .05 # критический уровень статистической значимости\n",
    "# если p-value окажется меньше него - отвергнем гипотезу\n",
    "\n",
    "results = st.ttest_ind(\n",
    "    mean_user_score_xone, \n",
    "    mean_user_score_pc,\n",
    "    equal_var = False #пишем False, потому что выборки почти в 2 раза различаются и нет уверенности, что дисперсии одинаковые\n",
    ")\n",
    "\n",
    "print('p-значение:', results.pvalue)\n",
    "\n",
    "if results.pvalue < alpha:\n",
    "    print(\"Отвергаем нулевую гипотезу\")\n",
    "else:\n",
    "    print(\"Не получилось отвергнуть нулевую гипотезу\") "
   ]
  },
  {
   "cell_type": "markdown",
   "metadata": {},
   "source": [
    "Таким образом, исходя из имеющихся данных нет оснований отвергать гипотезу о том, что средние пользовательские рейтинги платформ Xbox One и PC одинаковые."
   ]
  },
  {
   "cell_type": "markdown",
   "metadata": {},
   "source": [
    "**Средние пользовательские рейтинги жанров Action и Sports разные.**"
   ]
  },
  {
   "cell_type": "markdown",
   "metadata": {},
   "source": [
    "Нулевая гипотеза:\n",
    "- Средние пользовательские рейтинги жанров Action и Sports одинаковые.\n",
    "\n",
    "Альтернативная гипотеза:\n",
    "- Средние пользовательские рейтинги жанров Action и Sports не одинаковые."
   ]
  },
  {
   "cell_type": "markdown",
   "metadata": {},
   "source": [
    "Используем тот же метод для проверки *гипотезы о равенстве среднего двух генеральных совокупностей* по взятым из них выборкам."
   ]
  },
  {
   "cell_type": "code",
   "execution_count": 46,
   "metadata": {},
   "outputs": [
    {
     "name": "stdout",
     "output_type": "stream",
     "text": [
      "(182,) (307,)\n"
     ]
    }
   ],
   "source": [
    "mean_user_score_action = data_upd[data_upd['genre'] == 'Action']['user_score'].dropna() #первая совокупность\n",
    "mean_user_score_genre = data_upd[data_upd['genre'] == 'Sports']['user_score'].dropna() #вторая совокупность\n",
    "\n",
    "#посмотрим размеры выборок для того, чтобы правильно проверить гипотезу\n",
    "print(mean_user_score_xone.shape, mean_user_score_pc.shape)"
   ]
  },
  {
   "cell_type": "code",
   "execution_count": 47,
   "metadata": {},
   "outputs": [
    {
     "name": "stdout",
     "output_type": "stream",
     "text": [
      "p-значение: 8.285648549432146e-19\n",
      "Отвергаем нулевую гипотезу\n"
     ]
    }
   ],
   "source": [
    "alpha = .05 # критический уровень статистической значимости\n",
    "# если p-value окажется меньше него - отвергнем гипотезу\n",
    "\n",
    "results = st.ttest_ind(\n",
    "    mean_user_score_action, \n",
    "    mean_user_score_genre,\n",
    "    equal_var = False #пишем False, потому что выборки почти в 2 раза различаются и нет уверенности, что дисперсии одинаковые\n",
    ")\n",
    "\n",
    "print('p-значение:', results.pvalue)\n",
    "\n",
    "if results.pvalue < alpha:\n",
    "    print(\"Отвергаем нулевую гипотезу\")\n",
    "else:\n",
    "    print(\"Не получилось отвергнуть нулевую гипотезу\") "
   ]
  },
  {
   "cell_type": "markdown",
   "metadata": {},
   "source": [
    "Таким образом, исходя из имеющихся данных нет оснований отвергать гипотезу о том, что средние пользовательские рейтинги жанров Action и Sports разные."
   ]
  },
  {
   "cell_type": "markdown",
   "metadata": {},
   "source": [
    "### Общий вывод. "
   ]
  },
  {
   "cell_type": "markdown",
   "metadata": {},
   "source": [
    "Целью исследования было научиться определять рыночную стоимость объектов недвижимости. Задача — выявить определяющие успешность игры закономерности. Это позволит сделать ставку на потенциально популярный продукт и спланировать рекламные кампании.\n",
    "\n",
    "***Перед проведением исследования были поставлены следующие задачи:***\n",
    "1. Определить, какие платформы лидируют по продажам, растут или падают? Выбрать несколько потенциально прибыльных платформ.\n",
    "2. Оценить, как влияют на продажи внутри одной популярной платформы отзывы пользователей и критиков.\n",
    "3. Построить общее распределение игр по жанрам.\n",
    "4. Составить портрет пользователя каждого региона.\n",
    "5. Проверить гипотезу: средние пользовательские рейтинги платформ Xbox One и PC одинаковые.\n",
    "6. Проверить гипотезу: средние пользовательские рейтинги жанров Action и Sports разные.\n",
    "\n",
    "В результате, выявлены следующие закономерности:\n",
    "\n",
    "***Потенциально прибыльные платформы.***\n",
    "\n",
    "Cогласно построенному в ходе исследования графику явными лидерами  по продаже компьютерных игр, на данный момент, являются XOne и PS4, в то время как обе платформы существуют на рынке с 2013 года, тенденция PS4 выглядит более многообещающей, чем его конкурента в лице XOne. Тем не менее, на мой взгляд, не стоит сбрасывать со счетов платформу 3DS, продажи которой хоть и меньше 2 других платформ, но отличаются относительной стабильностью с 2011 года. Также критически важно отметить общую тенденцию снижения продаж компьютерных игр по всем платформам. Даже выбранные платформы-лидеры показывают снижение общей суммы продаж компьютерных игр по сравнению с предыдущими годами.\n",
    "\n",
    "***Влияние на продажи внутри одной популярной платформы отзывы пользователей и критиков.***\n",
    "\n",
    "Проанализировав 4 игровые платформы, как наиболее популярные, так и не очень успешные и получив примерно одинаковые результаты, можно сделать вывод о том, что корреляция между объемом продаж и отзывами пользователей отсутствует вообще - по всей видимости, люди при принятии решения о покупке компьютерной игры не опираются на опыт таких же игроков, чего нельзя сказать об отзывах критиков. Во всех случаях корреляция Пирсона близится к 0.4, что говорит об умеренной силы корреляционной связи. \n",
    "\n",
    "Таким образом, к оценке профессионалов потенциальные покупатели прислушиваются и, как видно, учитывают при совершении покупок. Тем не менее, отзывы явно не являются первостепенным фактором при принятии решения о приобретении компьютерной игры. \n",
    "\n",
    "***Общее распределение игр по жанрам.***\n",
    "\n",
    "Самым прибыльным жанром среди компьютерных игр оказался экшн, в то время, как наименее популярным - пазлы. Разница между самым популярным и непопулярным - почти в 7 раз. Очевидно, люди играют в компьютерные игры для того, чтобы расслабиться и отдохнуть после тяжелого дня, и игры, требующие минимальной мозговой активности для них более привлекательны.\n",
    "\n",
    "***Портрет пользователя каждого региона.***\n",
    "\n",
    "*Пользователь из Северной Америки.*\n",
    "\n",
    "- Пользователи из Северной Америки отдают предпочтения таким платформам, как PS и XBox. 1/8 от всех продаж уходит Nintendo.\n",
    "- В Северной Америке наиболее популярными жанрами являются экшн и шутеры, далее примерно одинаково распределены ролевые игры и спортивные.\n",
    "- Подавляющее большинство игр, которые предпочитают пользователи из Северной Америки, помечено организацией ESRB \"М\". Далее большой объем игр попадает под маркировку \"Е\" и \"Е10+\", которые, наоборот, подходят пользователям любого возраста (или 10+). Последняя часть графика \"Т\" отвечает за игры, позволительные пользователям возраста 13+, которые уже могут содержать минимальное носилие, кровь или ненормативную лексику.\n",
    "\n",
    "*Пользователь из Европы.*\n",
    "\n",
    "- Пользователи в Европе отдают свое явное предпочтение PS - более половины продаж приходится на PS старого и нового поколения. Чуть меньше четверти продаж занимает XBox, последнюю четверть делит между собой Nintendo и, неожиданно, персональный компьютер.\n",
    "- В Европе, как и в Северной Америке, наибольшие предпочтения пользователи отдают таким жанрам игр, как экшн и шутеры. Спортивные и ролевые игры также занимают свое место в топ-5, который завершают гонки.\n",
    "- Как и в Северной Америке, благодаря предпочтениям по жанрам, конечно же, наиболее популярными играми среди пользователей являются игры с маркировкой \"М\" - mature. Далее следуют игры для всех и для всех 10+ возраста, завершает этот топ пометка teenage.\n",
    "\n",
    "*Пользователь из Японии.*\n",
    "\n",
    "- У пользователей из Японии абсолютно неожиданные показатели - большую часть продаж (почти половину) забрал Nintendo благодаря своему 3DS. Далее больше половины отдано PS, а третье место уходит PSP и пришедшему ему на замену PSV.\n",
    "- Пользователям из Японии более всего интересны ролевые игры, далее следуют экшн, завершают топ игры-платформеры и единственные игры, сопряженные с насилием - драки.\n",
    "- Из-за кардинально отличных от Америки и Европы предпочтений, в Японии более 2/3 игр имеют маркировку для всех или для тинейджеров. Тем не менее, достаточно неожиданно, учитывая малую долю игры с жанром драки, чуть менее 1/3 занимают игры с пометкой mature - можно предположить, что такая маркировка связана не с наличием в игре насилия или крови.\n",
    "\n",
    "***Гипотеза: средние пользовательские рейтинги платформ Xbox One и PC одинаковые.***\n",
    "\n",
    "Применив t-тест и получив p-значение, равное 0.613071224763855, на основании имеющихся данных, не удалось отвергнуть нулевую гипотезу: *cредние пользовательские рейтинги платформ Xbox One и PC одинаковые.*\n",
    "\n",
    "***Гипотеза: средние пользовательские рейтинги жанров Action и Sports разные.***\n",
    "\n",
    "Применив t-тест и получив p-значение, равное 8.285648549432146e-19, на основании имеющихся данных, нулевая гипотеза отвергается: *cредние пользовательские рейтинги платформ Xbox One и PC одинаковые.*\n",
    "\n",
    "***Вывод.***\n",
    "\n",
    "Исходя из проанализированных факторов, можно сделать вывод, что закономерностями, определяющими успешность игры, являются, платформы, на которые они выходят, с учетом \"продолжительности жизни\" этих платформ, жанр игры и территориальное расположение аудитории, на которую игра рассчитана. Также на успешность игры влияют отзывы критиков. "
   ]
  }
 ],
 "metadata": {
  "ExecuteTimeLog": [
   {
    "duration": 605,
    "start_time": "2023-01-16T12:26:39.826Z"
   },
   {
    "duration": 31,
    "start_time": "2023-01-16T12:27:58.268Z"
   },
   {
    "duration": 18,
    "start_time": "2023-01-16T12:28:23.864Z"
   },
   {
    "duration": 5,
    "start_time": "2023-01-16T12:32:50.847Z"
   },
   {
    "duration": 6,
    "start_time": "2023-01-16T12:35:45.832Z"
   },
   {
    "duration": 74,
    "start_time": "2023-01-16T12:36:29.255Z"
   },
   {
    "duration": 23,
    "start_time": "2023-01-16T12:38:56.201Z"
   },
   {
    "duration": 6,
    "start_time": "2023-01-16T12:46:54.103Z"
   },
   {
    "duration": 112,
    "start_time": "2023-01-16T12:47:05.155Z"
   },
   {
    "duration": 1729,
    "start_time": "2023-01-16T12:50:13.040Z"
   },
   {
    "duration": 17,
    "start_time": "2023-01-16T12:51:22.693Z"
   },
   {
    "duration": 10,
    "start_time": "2023-01-16T12:57:15.894Z"
   },
   {
    "duration": 8,
    "start_time": "2023-01-16T12:57:50.001Z"
   },
   {
    "duration": 81,
    "start_time": "2023-01-16T12:59:44.774Z"
   },
   {
    "duration": 30,
    "start_time": "2023-01-16T12:59:57.189Z"
   },
   {
    "duration": 17,
    "start_time": "2023-01-16T13:00:13.374Z"
   },
   {
    "duration": 10,
    "start_time": "2023-01-16T13:02:18.088Z"
   },
   {
    "duration": 17,
    "start_time": "2023-01-16T13:04:49.936Z"
   },
   {
    "duration": 20,
    "start_time": "2023-01-16T13:08:05.192Z"
   },
   {
    "duration": 12,
    "start_time": "2023-01-16T13:10:15.385Z"
   },
   {
    "duration": 576,
    "start_time": "2023-01-16T13:10:27.234Z"
   },
   {
    "duration": 33,
    "start_time": "2023-01-16T13:10:27.812Z"
   },
   {
    "duration": 113,
    "start_time": "2023-01-16T13:10:27.848Z"
   },
   {
    "duration": 0,
    "start_time": "2023-01-16T13:10:27.975Z"
   },
   {
    "duration": 0,
    "start_time": "2023-01-16T13:10:27.977Z"
   },
   {
    "duration": 0,
    "start_time": "2023-01-16T13:10:27.978Z"
   },
   {
    "duration": 0,
    "start_time": "2023-01-16T13:10:27.980Z"
   },
   {
    "duration": 0,
    "start_time": "2023-01-16T13:10:27.984Z"
   },
   {
    "duration": 5,
    "start_time": "2023-01-16T13:10:46.573Z"
   },
   {
    "duration": 1822,
    "start_time": "2023-01-16T13:11:19.345Z"
   },
   {
    "duration": 11,
    "start_time": "2023-01-16T13:11:46.897Z"
   },
   {
    "duration": 1313,
    "start_time": "2023-01-16T13:11:54.686Z"
   },
   {
    "duration": 522,
    "start_time": "2023-01-16T13:12:23.786Z"
   },
   {
    "duration": 30,
    "start_time": "2023-01-16T13:12:24.311Z"
   },
   {
    "duration": 4,
    "start_time": "2023-01-16T13:12:24.343Z"
   },
   {
    "duration": 47,
    "start_time": "2023-01-16T13:12:24.349Z"
   },
   {
    "duration": 17,
    "start_time": "2023-01-16T13:12:24.397Z"
   },
   {
    "duration": 1580,
    "start_time": "2023-01-16T13:12:24.416Z"
   },
   {
    "duration": 10,
    "start_time": "2023-01-16T13:12:25.998Z"
   },
   {
    "duration": 23,
    "start_time": "2023-01-16T13:12:26.010Z"
   },
   {
    "duration": 6,
    "start_time": "2023-01-16T13:47:39.572Z"
   },
   {
    "duration": 7,
    "start_time": "2023-01-16T13:48:53.691Z"
   },
   {
    "duration": 1128,
    "start_time": "2023-01-16T13:49:05.105Z"
   },
   {
    "duration": 579,
    "start_time": "2023-01-16T13:49:20.449Z"
   },
   {
    "duration": 39,
    "start_time": "2023-01-16T13:49:21.030Z"
   },
   {
    "duration": 11,
    "start_time": "2023-01-16T13:49:21.076Z"
   },
   {
    "duration": 59,
    "start_time": "2023-01-16T13:49:21.089Z"
   },
   {
    "duration": 7,
    "start_time": "2023-01-16T13:49:21.151Z"
   },
   {
    "duration": 1812,
    "start_time": "2023-01-16T13:49:21.161Z"
   },
   {
    "duration": 17,
    "start_time": "2023-01-16T13:49:22.975Z"
   },
   {
    "duration": 24,
    "start_time": "2023-01-16T13:49:22.994Z"
   },
   {
    "duration": 24,
    "start_time": "2023-01-16T13:49:23.020Z"
   },
   {
    "duration": 33,
    "start_time": "2023-01-16T13:49:23.046Z"
   },
   {
    "duration": 11,
    "start_time": "2023-01-16T13:49:41.746Z"
   },
   {
    "duration": 13,
    "start_time": "2023-01-16T13:49:58.114Z"
   },
   {
    "duration": 12,
    "start_time": "2023-01-16T13:50:43.170Z"
   },
   {
    "duration": 13,
    "start_time": "2023-01-16T13:50:45.425Z"
   },
   {
    "duration": 33,
    "start_time": "2023-01-16T13:51:29.437Z"
   },
   {
    "duration": 130,
    "start_time": "2023-01-16T13:56:41.715Z"
   },
   {
    "duration": 14,
    "start_time": "2023-01-16T13:56:44.770Z"
   },
   {
    "duration": 30,
    "start_time": "2023-01-16T13:57:08.397Z"
   },
   {
    "duration": 16,
    "start_time": "2023-01-16T13:57:14.673Z"
   },
   {
    "duration": 358,
    "start_time": "2023-01-16T14:06:26.846Z"
   },
   {
    "duration": 173,
    "start_time": "2023-01-16T14:06:55.204Z"
   },
   {
    "duration": 196,
    "start_time": "2023-01-16T14:07:17.141Z"
   },
   {
    "duration": 8,
    "start_time": "2023-01-16T14:17:23.979Z"
   },
   {
    "duration": 93,
    "start_time": "2023-01-16T14:17:46.026Z"
   },
   {
    "duration": 86,
    "start_time": "2023-01-16T14:17:50.737Z"
   },
   {
    "duration": 93,
    "start_time": "2023-01-16T14:17:54.035Z"
   },
   {
    "duration": 111,
    "start_time": "2023-01-16T14:17:57.004Z"
   },
   {
    "duration": 145,
    "start_time": "2023-01-16T14:18:03.391Z"
   },
   {
    "duration": 117,
    "start_time": "2023-01-16T14:18:13.382Z"
   },
   {
    "duration": 275,
    "start_time": "2023-01-16T15:53:15.275Z"
   },
   {
    "duration": 468,
    "start_time": "2023-01-16T15:54:02.879Z"
   },
   {
    "duration": 23,
    "start_time": "2023-01-16T15:54:03.349Z"
   },
   {
    "duration": 7,
    "start_time": "2023-01-16T15:54:03.374Z"
   },
   {
    "duration": 34,
    "start_time": "2023-01-16T15:54:03.383Z"
   },
   {
    "duration": 14,
    "start_time": "2023-01-16T15:54:03.419Z"
   },
   {
    "duration": 1434,
    "start_time": "2023-01-16T15:54:03.435Z"
   },
   {
    "duration": 11,
    "start_time": "2023-01-16T15:54:04.870Z"
   },
   {
    "duration": 34,
    "start_time": "2023-01-16T15:54:04.883Z"
   },
   {
    "duration": 17,
    "start_time": "2023-01-16T15:54:04.919Z"
   },
   {
    "duration": 35,
    "start_time": "2023-01-16T15:54:04.940Z"
   },
   {
    "duration": 116,
    "start_time": "2023-01-16T15:54:04.977Z"
   },
   {
    "duration": 7,
    "start_time": "2023-01-16T15:54:05.095Z"
   },
   {
    "duration": 408,
    "start_time": "2023-01-16T15:54:05.104Z"
   },
   {
    "duration": 23,
    "start_time": "2023-01-16T16:11:39.818Z"
   },
   {
    "duration": 6,
    "start_time": "2023-01-16T16:16:00.640Z"
   },
   {
    "duration": 25,
    "start_time": "2023-01-16T16:19:45.584Z"
   },
   {
    "duration": 4,
    "start_time": "2023-01-16T16:20:03.901Z"
   },
   {
    "duration": 8,
    "start_time": "2023-01-16T16:20:18.360Z"
   },
   {
    "duration": 6,
    "start_time": "2023-01-16T16:20:44.160Z"
   },
   {
    "duration": 14,
    "start_time": "2023-01-16T16:20:54.708Z"
   },
   {
    "duration": 5,
    "start_time": "2023-01-16T16:21:46.640Z"
   },
   {
    "duration": 440,
    "start_time": "2023-01-16T16:24:14.488Z"
   },
   {
    "duration": 22,
    "start_time": "2023-01-16T16:24:14.930Z"
   },
   {
    "duration": 4,
    "start_time": "2023-01-16T16:24:14.954Z"
   },
   {
    "duration": 27,
    "start_time": "2023-01-16T16:24:14.960Z"
   },
   {
    "duration": 7,
    "start_time": "2023-01-16T16:24:14.989Z"
   },
   {
    "duration": 58,
    "start_time": "2023-01-16T16:24:14.998Z"
   },
   {
    "duration": 12,
    "start_time": "2023-01-16T16:24:15.057Z"
   },
   {
    "duration": 10,
    "start_time": "2023-01-16T16:24:15.071Z"
   },
   {
    "duration": 1483,
    "start_time": "2023-01-16T16:24:15.083Z"
   },
   {
    "duration": 10,
    "start_time": "2023-01-16T16:24:16.569Z"
   },
   {
    "duration": 18,
    "start_time": "2023-01-16T16:24:16.580Z"
   },
   {
    "duration": 14,
    "start_time": "2023-01-16T16:24:16.600Z"
   },
   {
    "duration": 43,
    "start_time": "2023-01-16T16:24:16.616Z"
   },
   {
    "duration": 102,
    "start_time": "2023-01-16T16:24:16.660Z"
   },
   {
    "duration": 151,
    "start_time": "2023-01-16T16:24:16.764Z"
   },
   {
    "duration": 0,
    "start_time": "2023-01-16T16:24:16.917Z"
   },
   {
    "duration": 23,
    "start_time": "2023-01-16T16:24:40.099Z"
   },
   {
    "duration": 519,
    "start_time": "2023-01-16T16:25:35.848Z"
   },
   {
    "duration": 25,
    "start_time": "2023-01-16T16:25:36.369Z"
   },
   {
    "duration": 6,
    "start_time": "2023-01-16T16:25:36.396Z"
   },
   {
    "duration": 18,
    "start_time": "2023-01-16T16:25:36.405Z"
   },
   {
    "duration": 29,
    "start_time": "2023-01-16T16:25:36.425Z"
   },
   {
    "duration": 11,
    "start_time": "2023-01-16T16:25:36.456Z"
   },
   {
    "duration": 8,
    "start_time": "2023-01-16T16:25:36.469Z"
   },
   {
    "duration": 37,
    "start_time": "2023-01-16T16:25:36.479Z"
   },
   {
    "duration": 6,
    "start_time": "2023-01-16T16:25:36.518Z"
   },
   {
    "duration": 1488,
    "start_time": "2023-01-16T16:25:36.527Z"
   },
   {
    "duration": 12,
    "start_time": "2023-01-16T16:25:38.017Z"
   },
   {
    "duration": 31,
    "start_time": "2023-01-16T16:25:38.031Z"
   },
   {
    "duration": 8,
    "start_time": "2023-01-16T16:25:38.064Z"
   },
   {
    "duration": 29,
    "start_time": "2023-01-16T16:25:38.074Z"
   },
   {
    "duration": 123,
    "start_time": "2023-01-16T16:25:38.104Z"
   },
   {
    "duration": 420,
    "start_time": "2023-01-16T16:25:38.229Z"
   },
   {
    "duration": 0,
    "start_time": "2023-01-16T16:25:38.651Z"
   },
   {
    "duration": 10,
    "start_time": "2023-01-16T16:25:59.305Z"
   },
   {
    "duration": 7,
    "start_time": "2023-01-16T16:27:44.982Z"
   },
   {
    "duration": 7,
    "start_time": "2023-01-16T16:27:51.133Z"
   },
   {
    "duration": 9,
    "start_time": "2023-01-16T16:28:31.218Z"
   },
   {
    "duration": 8,
    "start_time": "2023-01-16T16:28:49.521Z"
   },
   {
    "duration": 37,
    "start_time": "2023-01-16T16:28:54.161Z"
   },
   {
    "duration": 528,
    "start_time": "2023-01-16T16:29:46.537Z"
   },
   {
    "duration": 22,
    "start_time": "2023-01-16T16:29:47.067Z"
   },
   {
    "duration": 4,
    "start_time": "2023-01-16T16:29:47.091Z"
   },
   {
    "duration": 19,
    "start_time": "2023-01-16T16:29:47.097Z"
   },
   {
    "duration": 32,
    "start_time": "2023-01-16T16:29:47.118Z"
   },
   {
    "duration": 14,
    "start_time": "2023-01-16T16:29:47.152Z"
   },
   {
    "duration": 12,
    "start_time": "2023-01-16T16:29:47.168Z"
   },
   {
    "duration": 25,
    "start_time": "2023-01-16T16:29:47.181Z"
   },
   {
    "duration": 7,
    "start_time": "2023-01-16T16:29:47.209Z"
   },
   {
    "duration": 1622,
    "start_time": "2023-01-16T16:29:47.218Z"
   },
   {
    "duration": 18,
    "start_time": "2023-01-16T16:29:48.843Z"
   },
   {
    "duration": 40,
    "start_time": "2023-01-16T16:29:48.866Z"
   },
   {
    "duration": 30,
    "start_time": "2023-01-16T16:29:48.909Z"
   },
   {
    "duration": 46,
    "start_time": "2023-01-16T16:29:48.943Z"
   },
   {
    "duration": 199,
    "start_time": "2023-01-16T16:29:48.992Z"
   },
   {
    "duration": 8,
    "start_time": "2023-01-16T16:29:49.194Z"
   },
   {
    "duration": 436,
    "start_time": "2023-01-16T16:29:49.205Z"
   },
   {
    "duration": 521,
    "start_time": "2023-01-16T16:30:16.782Z"
   },
   {
    "duration": 22,
    "start_time": "2023-01-16T16:30:17.305Z"
   },
   {
    "duration": 15,
    "start_time": "2023-01-16T16:30:17.329Z"
   },
   {
    "duration": 37,
    "start_time": "2023-01-16T16:30:17.347Z"
   },
   {
    "duration": 11,
    "start_time": "2023-01-16T16:30:17.388Z"
   },
   {
    "duration": 8,
    "start_time": "2023-01-16T16:30:17.402Z"
   },
   {
    "duration": 13,
    "start_time": "2023-01-16T16:30:17.412Z"
   },
   {
    "duration": 17,
    "start_time": "2023-01-16T16:30:17.427Z"
   },
   {
    "duration": 1469,
    "start_time": "2023-01-16T16:30:17.446Z"
   },
   {
    "duration": 11,
    "start_time": "2023-01-16T16:30:18.917Z"
   },
   {
    "duration": 33,
    "start_time": "2023-01-16T16:30:18.929Z"
   },
   {
    "duration": 10,
    "start_time": "2023-01-16T16:30:18.964Z"
   },
   {
    "duration": 33,
    "start_time": "2023-01-16T16:30:18.977Z"
   },
   {
    "duration": 152,
    "start_time": "2023-01-16T16:30:19.013Z"
   },
   {
    "duration": 8,
    "start_time": "2023-01-16T16:30:19.168Z"
   },
   {
    "duration": 14,
    "start_time": "2023-01-16T16:30:19.178Z"
   },
   {
    "duration": 11,
    "start_time": "2023-01-16T16:30:32.403Z"
   },
   {
    "duration": 488,
    "start_time": "2023-01-16T16:30:44.754Z"
   },
   {
    "duration": 27,
    "start_time": "2023-01-16T16:30:45.245Z"
   },
   {
    "duration": 5,
    "start_time": "2023-01-16T16:30:45.274Z"
   },
   {
    "duration": 26,
    "start_time": "2023-01-16T16:30:45.282Z"
   },
   {
    "duration": 6,
    "start_time": "2023-01-16T16:30:45.310Z"
   },
   {
    "duration": 13,
    "start_time": "2023-01-16T16:30:45.317Z"
   },
   {
    "duration": 31,
    "start_time": "2023-01-16T16:30:45.333Z"
   },
   {
    "duration": 11,
    "start_time": "2023-01-16T16:30:45.365Z"
   },
   {
    "duration": 1525,
    "start_time": "2023-01-16T16:30:45.379Z"
   },
   {
    "duration": 9,
    "start_time": "2023-01-16T16:30:46.907Z"
   },
   {
    "duration": 34,
    "start_time": "2023-01-16T16:30:46.918Z"
   },
   {
    "duration": 11,
    "start_time": "2023-01-16T16:30:46.954Z"
   },
   {
    "duration": 47,
    "start_time": "2023-01-16T16:30:46.967Z"
   },
   {
    "duration": 147,
    "start_time": "2023-01-16T16:30:47.016Z"
   },
   {
    "duration": 7,
    "start_time": "2023-01-16T16:30:47.165Z"
   },
   {
    "duration": 38,
    "start_time": "2023-01-16T16:30:47.174Z"
   },
   {
    "duration": 167,
    "start_time": "2023-01-16T16:31:20.614Z"
   },
   {
    "duration": 8,
    "start_time": "2023-01-16T16:31:35.802Z"
   },
   {
    "duration": 7,
    "start_time": "2023-01-16T16:31:50.954Z"
   },
   {
    "duration": 5,
    "start_time": "2023-01-16T16:31:55.141Z"
   },
   {
    "duration": 5,
    "start_time": "2023-01-16T16:32:03.663Z"
   },
   {
    "duration": 18,
    "start_time": "2023-01-16T16:32:25.298Z"
   },
   {
    "duration": 9,
    "start_time": "2023-01-16T16:33:51.549Z"
   },
   {
    "duration": 5,
    "start_time": "2023-01-16T16:41:36.493Z"
   },
   {
    "duration": 6,
    "start_time": "2023-01-16T16:50:52.129Z"
   },
   {
    "duration": 548,
    "start_time": "2023-01-17T11:08:41.203Z"
   },
   {
    "duration": 21,
    "start_time": "2023-01-17T11:08:41.753Z"
   },
   {
    "duration": 3,
    "start_time": "2023-01-17T11:08:41.776Z"
   },
   {
    "duration": 17,
    "start_time": "2023-01-17T11:08:41.781Z"
   },
   {
    "duration": 4,
    "start_time": "2023-01-17T11:08:41.799Z"
   },
   {
    "duration": 7,
    "start_time": "2023-01-17T11:08:41.804Z"
   },
   {
    "duration": 6,
    "start_time": "2023-01-17T11:08:41.812Z"
   },
   {
    "duration": 32,
    "start_time": "2023-01-17T11:08:41.820Z"
   },
   {
    "duration": 1484,
    "start_time": "2023-01-17T11:08:41.853Z"
   },
   {
    "duration": 9,
    "start_time": "2023-01-17T11:08:43.348Z"
   },
   {
    "duration": 15,
    "start_time": "2023-01-17T11:08:43.358Z"
   },
   {
    "duration": 8,
    "start_time": "2023-01-17T11:08:43.375Z"
   },
   {
    "duration": 53,
    "start_time": "2023-01-17T11:08:43.385Z"
   },
   {
    "duration": 99,
    "start_time": "2023-01-17T11:08:43.440Z"
   },
   {
    "duration": 13,
    "start_time": "2023-01-17T11:08:43.540Z"
   },
   {
    "duration": 9,
    "start_time": "2023-01-17T11:08:43.554Z"
   },
   {
    "duration": 5,
    "start_time": "2023-01-17T11:08:43.565Z"
   },
   {
    "duration": 18,
    "start_time": "2023-01-17T11:08:43.572Z"
   },
   {
    "duration": 26,
    "start_time": "2023-01-17T11:09:16.988Z"
   },
   {
    "duration": 15,
    "start_time": "2023-01-17T11:09:23.717Z"
   },
   {
    "duration": 46,
    "start_time": "2023-01-17T11:13:35.387Z"
   },
   {
    "duration": 8,
    "start_time": "2023-01-17T11:13:57.579Z"
   },
   {
    "duration": 8,
    "start_time": "2023-01-17T11:14:06.107Z"
   },
   {
    "duration": 7,
    "start_time": "2023-01-17T11:14:22.859Z"
   },
   {
    "duration": 8,
    "start_time": "2023-01-17T11:14:51.441Z"
   },
   {
    "duration": 18,
    "start_time": "2023-01-17T11:17:15.785Z"
   },
   {
    "duration": 16,
    "start_time": "2023-01-17T11:17:49.184Z"
   },
   {
    "duration": 18,
    "start_time": "2023-01-17T11:18:27.558Z"
   },
   {
    "duration": 14,
    "start_time": "2023-01-17T11:35:13.371Z"
   },
   {
    "duration": 94,
    "start_time": "2023-01-17T11:36:48.453Z"
   },
   {
    "duration": 8651,
    "start_time": "2023-01-17T11:37:03.172Z"
   },
   {
    "duration": 6,
    "start_time": "2023-01-17T12:09:52.095Z"
   },
   {
    "duration": 124,
    "start_time": "2023-01-17T12:10:03.993Z"
   },
   {
    "duration": 160,
    "start_time": "2023-01-17T12:10:23.035Z"
   },
   {
    "duration": 48,
    "start_time": "2023-01-17T12:21:43.469Z"
   },
   {
    "duration": 508,
    "start_time": "2023-01-17T12:22:00.456Z"
   },
   {
    "duration": 20,
    "start_time": "2023-01-17T12:22:00.966Z"
   },
   {
    "duration": 34,
    "start_time": "2023-01-17T12:22:00.988Z"
   },
   {
    "duration": 64,
    "start_time": "2023-01-17T12:22:01.024Z"
   },
   {
    "duration": 39,
    "start_time": "2023-01-17T12:22:01.089Z"
   },
   {
    "duration": 26,
    "start_time": "2023-01-17T12:22:01.130Z"
   },
   {
    "duration": 27,
    "start_time": "2023-01-17T12:22:01.158Z"
   },
   {
    "duration": 32,
    "start_time": "2023-01-17T12:22:01.187Z"
   },
   {
    "duration": 1303,
    "start_time": "2023-01-17T12:22:01.220Z"
   },
   {
    "duration": 8,
    "start_time": "2023-01-17T12:22:02.526Z"
   },
   {
    "duration": 34,
    "start_time": "2023-01-17T12:22:02.536Z"
   },
   {
    "duration": 40,
    "start_time": "2023-01-17T12:22:02.572Z"
   },
   {
    "duration": 45,
    "start_time": "2023-01-17T12:22:02.614Z"
   },
   {
    "duration": 106,
    "start_time": "2023-01-17T12:22:02.661Z"
   },
   {
    "duration": 7,
    "start_time": "2023-01-17T12:22:02.769Z"
   },
   {
    "duration": 24,
    "start_time": "2023-01-17T12:22:02.777Z"
   },
   {
    "duration": 30,
    "start_time": "2023-01-17T12:22:02.803Z"
   },
   {
    "duration": 21,
    "start_time": "2023-01-17T12:22:02.835Z"
   },
   {
    "duration": 29,
    "start_time": "2023-01-17T12:22:02.857Z"
   },
   {
    "duration": 60,
    "start_time": "2023-01-17T12:22:02.887Z"
   },
   {
    "duration": 61,
    "start_time": "2023-01-17T12:22:12.778Z"
   },
   {
    "duration": 46,
    "start_time": "2023-01-17T12:22:31.556Z"
   },
   {
    "duration": 201,
    "start_time": "2023-01-17T12:23:13.887Z"
   },
   {
    "duration": 203,
    "start_time": "2023-01-17T12:23:28.247Z"
   },
   {
    "duration": 152,
    "start_time": "2023-01-17T12:24:00.082Z"
   },
   {
    "duration": 134,
    "start_time": "2023-01-17T12:44:05.798Z"
   },
   {
    "duration": 35,
    "start_time": "2023-01-17T12:50:25.148Z"
   },
   {
    "duration": 438,
    "start_time": "2023-01-17T12:51:13.900Z"
   },
   {
    "duration": 551,
    "start_time": "2023-01-17T12:51:29.746Z"
   },
   {
    "duration": 2329,
    "start_time": "2023-01-17T12:52:32.400Z"
   },
   {
    "duration": 2365,
    "start_time": "2023-01-17T12:52:50.485Z"
   },
   {
    "duration": 111,
    "start_time": "2023-01-17T13:04:11.844Z"
   },
   {
    "duration": 16,
    "start_time": "2023-01-17T13:04:17.106Z"
   },
   {
    "duration": 509,
    "start_time": "2023-01-17T13:04:19.428Z"
   },
   {
    "duration": 57,
    "start_time": "2023-01-17T13:04:42.642Z"
   },
   {
    "duration": 2699,
    "start_time": "2023-01-17T13:09:49.298Z"
   },
   {
    "duration": 2609,
    "start_time": "2023-01-17T13:10:27.580Z"
   },
   {
    "duration": 57,
    "start_time": "2023-01-17T13:11:03.117Z"
   },
   {
    "duration": 2935,
    "start_time": "2023-01-17T13:11:07.411Z"
   },
   {
    "duration": 9,
    "start_time": "2023-01-17T13:11:44.322Z"
   },
   {
    "duration": 44,
    "start_time": "2023-01-17T13:11:56.414Z"
   },
   {
    "duration": 2721,
    "start_time": "2023-01-17T13:12:28.179Z"
   },
   {
    "duration": 14,
    "start_time": "2023-01-17T13:12:52.555Z"
   },
   {
    "duration": 2888,
    "start_time": "2023-01-17T13:13:14.902Z"
   },
   {
    "duration": 56,
    "start_time": "2023-01-17T13:14:00.816Z"
   },
   {
    "duration": 2473,
    "start_time": "2023-01-17T13:16:21.711Z"
   },
   {
    "duration": 765,
    "start_time": "2023-01-17T13:24:20.399Z"
   },
   {
    "duration": 19,
    "start_time": "2023-01-17T13:37:40.736Z"
   },
   {
    "duration": 33,
    "start_time": "2023-01-17T13:38:15.858Z"
   },
   {
    "duration": 4,
    "start_time": "2023-01-17T13:39:24.406Z"
   },
   {
    "duration": 6808,
    "start_time": "2023-01-17T13:39:44.372Z"
   },
   {
    "duration": 7,
    "start_time": "2023-01-17T13:40:19.933Z"
   },
   {
    "duration": 7,
    "start_time": "2023-01-17T13:40:54.307Z"
   },
   {
    "duration": 14,
    "start_time": "2023-01-17T13:44:56.326Z"
   },
   {
    "duration": 11,
    "start_time": "2023-01-17T13:45:00.277Z"
   },
   {
    "duration": 85,
    "start_time": "2023-01-17T13:50:16.508Z"
   },
   {
    "duration": 6,
    "start_time": "2023-01-17T13:50:39.034Z"
   },
   {
    "duration": 5,
    "start_time": "2023-01-17T13:50:48.334Z"
   },
   {
    "duration": 11,
    "start_time": "2023-01-17T13:51:51.478Z"
   },
   {
    "duration": 6,
    "start_time": "2023-01-17T13:51:56.458Z"
   },
   {
    "duration": 14,
    "start_time": "2023-01-17T14:25:31.370Z"
   },
   {
    "duration": 4,
    "start_time": "2023-01-17T14:25:36.215Z"
   },
   {
    "duration": 36,
    "start_time": "2023-01-17T14:25:48.132Z"
   },
   {
    "duration": 19,
    "start_time": "2023-01-17T14:26:26.621Z"
   },
   {
    "duration": 1028,
    "start_time": "2023-01-17T14:31:00.192Z"
   },
   {
    "duration": 13,
    "start_time": "2023-01-17T14:32:19.717Z"
   },
   {
    "duration": 10,
    "start_time": "2023-01-17T14:32:31.035Z"
   },
   {
    "duration": 952,
    "start_time": "2023-01-17T14:32:42.101Z"
   },
   {
    "duration": 32,
    "start_time": "2023-01-17T14:34:13.895Z"
   },
   {
    "duration": 7,
    "start_time": "2023-01-17T14:35:46.204Z"
   },
   {
    "duration": 7,
    "start_time": "2023-01-17T14:35:50.207Z"
   },
   {
    "duration": 33,
    "start_time": "2023-01-17T14:35:58.862Z"
   },
   {
    "duration": 28,
    "start_time": "2023-01-17T14:36:21.103Z"
   },
   {
    "duration": 683,
    "start_time": "2023-01-17T14:36:31.038Z"
   },
   {
    "duration": 644,
    "start_time": "2023-01-17T14:37:00.850Z"
   },
   {
    "duration": 598,
    "start_time": "2023-01-17T14:43:12.582Z"
   },
   {
    "duration": 632,
    "start_time": "2023-01-17T14:43:51.578Z"
   },
   {
    "duration": 44,
    "start_time": "2023-01-17T19:05:11.973Z"
   },
   {
    "duration": 515,
    "start_time": "2023-01-17T19:05:19.013Z"
   },
   {
    "duration": 20,
    "start_time": "2023-01-17T19:05:19.529Z"
   },
   {
    "duration": 4,
    "start_time": "2023-01-17T19:05:19.551Z"
   },
   {
    "duration": 20,
    "start_time": "2023-01-17T19:05:19.558Z"
   },
   {
    "duration": 5,
    "start_time": "2023-01-17T19:05:19.580Z"
   },
   {
    "duration": 10,
    "start_time": "2023-01-17T19:05:19.586Z"
   },
   {
    "duration": 11,
    "start_time": "2023-01-17T19:05:19.598Z"
   },
   {
    "duration": 8,
    "start_time": "2023-01-17T19:05:19.610Z"
   },
   {
    "duration": 1566,
    "start_time": "2023-01-17T19:05:19.619Z"
   },
   {
    "duration": 9,
    "start_time": "2023-01-17T19:05:21.188Z"
   },
   {
    "duration": 24,
    "start_time": "2023-01-17T19:05:21.198Z"
   },
   {
    "duration": 9,
    "start_time": "2023-01-17T19:05:21.224Z"
   },
   {
    "duration": 37,
    "start_time": "2023-01-17T19:05:21.235Z"
   },
   {
    "duration": 83,
    "start_time": "2023-01-17T19:05:21.273Z"
   },
   {
    "duration": 7,
    "start_time": "2023-01-17T19:05:21.357Z"
   },
   {
    "duration": 12,
    "start_time": "2023-01-17T19:05:21.377Z"
   },
   {
    "duration": 17,
    "start_time": "2023-01-17T19:05:21.390Z"
   },
   {
    "duration": 34,
    "start_time": "2023-01-17T19:05:21.408Z"
   },
   {
    "duration": 45,
    "start_time": "2023-01-17T19:05:21.444Z"
   },
   {
    "duration": 187,
    "start_time": "2023-01-17T19:05:21.491Z"
   },
   {
    "duration": 6,
    "start_time": "2023-01-17T19:05:21.680Z"
   },
   {
    "duration": 668,
    "start_time": "2023-01-17T19:05:21.687Z"
   },
   {
    "duration": 108,
    "start_time": "2023-01-17T19:05:22.356Z"
   },
   {
    "duration": 15,
    "start_time": "2023-01-17T19:05:42.733Z"
   },
   {
    "duration": 5,
    "start_time": "2023-01-17T19:06:01.128Z"
   },
   {
    "duration": 7,
    "start_time": "2023-01-17T19:06:20.465Z"
   },
   {
    "duration": 10,
    "start_time": "2023-01-17T19:07:16.312Z"
   },
   {
    "duration": 7,
    "start_time": "2023-01-17T19:07:23.806Z"
   },
   {
    "duration": 55,
    "start_time": "2023-01-17T21:07:21.049Z"
   },
   {
    "duration": 488,
    "start_time": "2023-01-17T21:07:27.891Z"
   },
   {
    "duration": 26,
    "start_time": "2023-01-17T21:07:28.384Z"
   },
   {
    "duration": 16,
    "start_time": "2023-01-17T21:07:28.411Z"
   },
   {
    "duration": 40,
    "start_time": "2023-01-17T21:07:28.428Z"
   },
   {
    "duration": 24,
    "start_time": "2023-01-17T21:07:28.469Z"
   },
   {
    "duration": 38,
    "start_time": "2023-01-17T21:07:28.494Z"
   },
   {
    "duration": 13,
    "start_time": "2023-01-17T21:07:28.533Z"
   },
   {
    "duration": 25,
    "start_time": "2023-01-17T21:07:28.547Z"
   },
   {
    "duration": 1555,
    "start_time": "2023-01-17T21:07:28.574Z"
   },
   {
    "duration": 9,
    "start_time": "2023-01-17T21:07:30.130Z"
   },
   {
    "duration": 47,
    "start_time": "2023-01-17T21:07:30.140Z"
   },
   {
    "duration": 30,
    "start_time": "2023-01-17T21:07:30.190Z"
   },
   {
    "duration": 101,
    "start_time": "2023-01-17T21:07:30.222Z"
   },
   {
    "duration": 88,
    "start_time": "2023-01-17T21:07:30.326Z"
   },
   {
    "duration": 6,
    "start_time": "2023-01-17T21:07:30.416Z"
   },
   {
    "duration": 28,
    "start_time": "2023-01-17T21:07:30.423Z"
   },
   {
    "duration": 20,
    "start_time": "2023-01-17T21:07:30.453Z"
   },
   {
    "duration": 31,
    "start_time": "2023-01-17T21:07:30.474Z"
   },
   {
    "duration": 96,
    "start_time": "2023-01-17T21:07:30.507Z"
   },
   {
    "duration": 214,
    "start_time": "2023-01-17T21:07:30.605Z"
   },
   {
    "duration": 6,
    "start_time": "2023-01-17T21:07:30.820Z"
   },
   {
    "duration": 671,
    "start_time": "2023-01-17T21:07:30.828Z"
   },
   {
    "duration": 1263,
    "start_time": "2023-01-17T21:07:31.501Z"
   },
   {
    "duration": 8,
    "start_time": "2023-01-17T21:07:50.789Z"
   },
   {
    "duration": 12,
    "start_time": "2023-01-17T21:09:00.849Z"
   },
   {
    "duration": 13,
    "start_time": "2023-01-17T21:09:45.533Z"
   },
   {
    "duration": 7,
    "start_time": "2023-01-17T21:10:00.715Z"
   },
   {
    "duration": 22,
    "start_time": "2023-01-17T21:13:18.322Z"
   },
   {
    "duration": 6,
    "start_time": "2023-01-17T21:13:47.593Z"
   },
   {
    "duration": 22,
    "start_time": "2023-01-17T21:13:50.725Z"
   },
   {
    "duration": 24,
    "start_time": "2023-01-17T21:17:03.151Z"
   },
   {
    "duration": 20,
    "start_time": "2023-01-17T21:17:52.994Z"
   },
   {
    "duration": 34,
    "start_time": "2023-01-17T21:18:01.757Z"
   },
   {
    "duration": 17,
    "start_time": "2023-01-17T21:18:53.484Z"
   },
   {
    "duration": 19,
    "start_time": "2023-01-17T21:19:22.342Z"
   },
   {
    "duration": 24,
    "start_time": "2023-01-17T21:19:41.712Z"
   },
   {
    "duration": 85,
    "start_time": "2023-01-19T15:42:05.539Z"
   },
   {
    "duration": 642,
    "start_time": "2023-01-19T15:42:11.288Z"
   },
   {
    "duration": 26,
    "start_time": "2023-01-19T15:42:11.932Z"
   },
   {
    "duration": 5,
    "start_time": "2023-01-19T15:42:11.960Z"
   },
   {
    "duration": 46,
    "start_time": "2023-01-19T15:42:11.968Z"
   },
   {
    "duration": 14,
    "start_time": "2023-01-19T15:42:12.017Z"
   },
   {
    "duration": 36,
    "start_time": "2023-01-19T15:42:12.033Z"
   },
   {
    "duration": 50,
    "start_time": "2023-01-19T15:42:12.071Z"
   },
   {
    "duration": 14,
    "start_time": "2023-01-19T15:42:12.123Z"
   },
   {
    "duration": 2135,
    "start_time": "2023-01-19T15:42:12.139Z"
   },
   {
    "duration": 15,
    "start_time": "2023-01-19T15:42:14.279Z"
   },
   {
    "duration": 30,
    "start_time": "2023-01-19T15:42:14.297Z"
   },
   {
    "duration": 10,
    "start_time": "2023-01-19T15:42:14.334Z"
   },
   {
    "duration": 29,
    "start_time": "2023-01-19T15:42:14.346Z"
   },
   {
    "duration": 118,
    "start_time": "2023-01-19T15:42:14.384Z"
   },
   {
    "duration": 9,
    "start_time": "2023-01-19T15:42:14.504Z"
   },
   {
    "duration": 12,
    "start_time": "2023-01-19T15:42:14.514Z"
   },
   {
    "duration": 13,
    "start_time": "2023-01-19T15:42:14.528Z"
   },
   {
    "duration": 12,
    "start_time": "2023-01-19T15:42:14.544Z"
   },
   {
    "duration": 52,
    "start_time": "2023-01-19T15:42:14.558Z"
   },
   {
    "duration": 210,
    "start_time": "2023-01-19T15:42:14.612Z"
   },
   {
    "duration": 7,
    "start_time": "2023-01-19T15:42:14.824Z"
   },
   {
    "duration": 854,
    "start_time": "2023-01-19T15:42:14.833Z"
   },
   {
    "duration": 10,
    "start_time": "2023-01-19T15:42:15.689Z"
   },
   {
    "duration": 163,
    "start_time": "2023-01-19T15:42:15.702Z"
   },
   {
    "duration": 26,
    "start_time": "2023-01-19T15:42:24.121Z"
   },
   {
    "duration": 24,
    "start_time": "2023-01-19T15:42:39.367Z"
   },
   {
    "duration": 29,
    "start_time": "2023-01-19T15:42:47.847Z"
   },
   {
    "duration": 26,
    "start_time": "2023-01-19T15:44:06.307Z"
   },
   {
    "duration": 29,
    "start_time": "2023-01-19T15:44:21.106Z"
   },
   {
    "duration": 9,
    "start_time": "2023-01-19T15:45:50.211Z"
   },
   {
    "duration": 471,
    "start_time": "2023-01-19T15:45:58.790Z"
   },
   {
    "duration": 21,
    "start_time": "2023-01-19T15:45:59.263Z"
   },
   {
    "duration": 4,
    "start_time": "2023-01-19T15:45:59.285Z"
   },
   {
    "duration": 19,
    "start_time": "2023-01-19T15:45:59.291Z"
   },
   {
    "duration": 10,
    "start_time": "2023-01-19T15:45:59.311Z"
   },
   {
    "duration": 7,
    "start_time": "2023-01-19T15:45:59.323Z"
   },
   {
    "duration": 10,
    "start_time": "2023-01-19T15:45:59.332Z"
   },
   {
    "duration": 8,
    "start_time": "2023-01-19T15:45:59.344Z"
   },
   {
    "duration": 1528,
    "start_time": "2023-01-19T15:45:59.353Z"
   },
   {
    "duration": 9,
    "start_time": "2023-01-19T15:46:00.885Z"
   },
   {
    "duration": 36,
    "start_time": "2023-01-19T15:46:00.896Z"
   },
   {
    "duration": 46,
    "start_time": "2023-01-19T15:46:00.934Z"
   },
   {
    "duration": 34,
    "start_time": "2023-01-19T15:46:00.982Z"
   },
   {
    "duration": 117,
    "start_time": "2023-01-19T15:46:01.018Z"
   },
   {
    "duration": 8,
    "start_time": "2023-01-19T15:46:01.137Z"
   },
   {
    "duration": 8,
    "start_time": "2023-01-19T15:46:01.147Z"
   },
   {
    "duration": 30,
    "start_time": "2023-01-19T15:46:01.157Z"
   },
   {
    "duration": 26,
    "start_time": "2023-01-19T15:46:01.189Z"
   },
   {
    "duration": 24,
    "start_time": "2023-01-19T15:46:01.217Z"
   },
   {
    "duration": 196,
    "start_time": "2023-01-19T15:46:01.243Z"
   },
   {
    "duration": 6,
    "start_time": "2023-01-19T15:46:01.441Z"
   },
   {
    "duration": 820,
    "start_time": "2023-01-19T15:46:01.449Z"
   },
   {
    "duration": 15,
    "start_time": "2023-01-19T15:46:02.271Z"
   },
   {
    "duration": 29,
    "start_time": "2023-01-19T15:46:02.288Z"
   },
   {
    "duration": 119,
    "start_time": "2023-01-19T15:46:02.318Z"
   },
   {
    "duration": 12,
    "start_time": "2023-01-19T15:46:11.736Z"
   },
   {
    "duration": 25,
    "start_time": "2023-01-19T15:46:15.405Z"
   },
   {
    "duration": 9,
    "start_time": "2023-01-19T15:46:18.036Z"
   },
   {
    "duration": 10,
    "start_time": "2023-01-19T15:46:27.358Z"
   },
   {
    "duration": 17,
    "start_time": "2023-01-19T16:10:00.367Z"
   },
   {
    "duration": 289,
    "start_time": "2023-01-19T16:14:03.242Z"
   },
   {
    "duration": 31,
    "start_time": "2023-01-19T16:14:33.785Z"
   },
   {
    "duration": 391,
    "start_time": "2023-01-19T16:14:39.425Z"
   },
   {
    "duration": 497,
    "start_time": "2023-01-19T16:15:25.337Z"
   },
   {
    "duration": 1175,
    "start_time": "2023-01-19T16:17:02.149Z"
   },
   {
    "duration": 44,
    "start_time": "2023-01-19T16:18:00.516Z"
   },
   {
    "duration": 34,
    "start_time": "2023-01-19T16:20:15.086Z"
   },
   {
    "duration": 41,
    "start_time": "2023-01-19T16:20:35.054Z"
   },
   {
    "duration": 124,
    "start_time": "2023-01-19T16:20:47.106Z"
   },
   {
    "duration": 40,
    "start_time": "2023-01-19T16:21:03.911Z"
   },
   {
    "duration": 35,
    "start_time": "2023-01-19T16:21:26.593Z"
   },
   {
    "duration": 23,
    "start_time": "2023-01-19T16:21:32.346Z"
   },
   {
    "duration": 27,
    "start_time": "2023-01-19T16:21:53.124Z"
   },
   {
    "duration": 40,
    "start_time": "2023-01-19T16:22:06.032Z"
   },
   {
    "duration": 30,
    "start_time": "2023-01-19T16:22:08.700Z"
   },
   {
    "duration": 1164,
    "start_time": "2023-01-19T16:22:56.528Z"
   },
   {
    "duration": 16,
    "start_time": "2023-01-19T16:23:09.283Z"
   },
   {
    "duration": 31,
    "start_time": "2023-01-19T16:23:25.369Z"
   },
   {
    "duration": 392,
    "start_time": "2023-01-19T16:23:51.019Z"
   },
   {
    "duration": 23,
    "start_time": "2023-01-19T16:24:09.097Z"
   },
   {
    "duration": 28,
    "start_time": "2023-01-19T16:26:34.687Z"
   },
   {
    "duration": 21,
    "start_time": "2023-01-19T16:26:56.946Z"
   },
   {
    "duration": 25,
    "start_time": "2023-01-19T16:27:11.379Z"
   },
   {
    "duration": 31,
    "start_time": "2023-01-19T16:27:28.861Z"
   },
   {
    "duration": 16,
    "start_time": "2023-01-19T16:30:44.929Z"
   },
   {
    "duration": 31,
    "start_time": "2023-01-19T16:30:51.033Z"
   },
   {
    "duration": 15,
    "start_time": "2023-01-19T16:32:11.354Z"
   },
   {
    "duration": 40,
    "start_time": "2023-01-19T16:32:17.904Z"
   },
   {
    "duration": 29,
    "start_time": "2023-01-19T16:32:48.711Z"
   },
   {
    "duration": 29,
    "start_time": "2023-01-19T16:36:48.874Z"
   },
   {
    "duration": 394,
    "start_time": "2023-01-19T16:36:51.823Z"
   },
   {
    "duration": 472,
    "start_time": "2023-01-19T16:47:49.533Z"
   },
   {
    "duration": 21,
    "start_time": "2023-01-19T16:48:42.564Z"
   },
   {
    "duration": 31,
    "start_time": "2023-01-19T16:48:57.949Z"
   },
   {
    "duration": 29,
    "start_time": "2023-01-19T17:36:24.541Z"
   },
   {
    "duration": 330,
    "start_time": "2023-01-19T17:36:38.327Z"
   },
   {
    "duration": 29,
    "start_time": "2023-01-19T17:37:01.913Z"
   },
   {
    "duration": 5,
    "start_time": "2023-01-19T17:37:48.536Z"
   },
   {
    "duration": 5,
    "start_time": "2023-01-19T17:38:02.758Z"
   },
   {
    "duration": 500,
    "start_time": "2023-01-19T17:38:10.331Z"
   },
   {
    "duration": 420,
    "start_time": "2023-01-19T17:38:21.577Z"
   },
   {
    "duration": 7,
    "start_time": "2023-01-19T17:40:04.705Z"
   },
   {
    "duration": 8,
    "start_time": "2023-01-19T17:40:19.549Z"
   },
   {
    "duration": 18,
    "start_time": "2023-01-19T17:40:33.055Z"
   },
   {
    "duration": 8,
    "start_time": "2023-01-19T17:40:50.547Z"
   },
   {
    "duration": 7,
    "start_time": "2023-01-19T17:40:58.128Z"
   },
   {
    "duration": 16,
    "start_time": "2023-01-19T17:41:05.989Z"
   },
   {
    "duration": 11,
    "start_time": "2023-01-19T17:41:14.826Z"
   },
   {
    "duration": 69,
    "start_time": "2023-01-19T17:41:30.971Z"
   },
   {
    "duration": 22,
    "start_time": "2023-01-19T17:41:35.282Z"
   },
   {
    "duration": 20,
    "start_time": "2023-01-19T17:43:08.720Z"
   },
   {
    "duration": 343,
    "start_time": "2023-01-19T17:43:51.812Z"
   },
   {
    "duration": 311,
    "start_time": "2023-01-19T17:44:05.952Z"
   },
   {
    "duration": 43,
    "start_time": "2023-01-20T11:33:09.523Z"
   },
   {
    "duration": 503,
    "start_time": "2023-01-20T11:33:18.279Z"
   },
   {
    "duration": 19,
    "start_time": "2023-01-20T11:33:18.784Z"
   },
   {
    "duration": 3,
    "start_time": "2023-01-20T11:33:18.805Z"
   },
   {
    "duration": 14,
    "start_time": "2023-01-20T11:33:18.810Z"
   },
   {
    "duration": 4,
    "start_time": "2023-01-20T11:33:18.825Z"
   },
   {
    "duration": 9,
    "start_time": "2023-01-20T11:33:18.830Z"
   },
   {
    "duration": 5,
    "start_time": "2023-01-20T11:33:18.840Z"
   },
   {
    "duration": 6,
    "start_time": "2023-01-20T11:33:18.847Z"
   },
   {
    "duration": 1531,
    "start_time": "2023-01-20T11:33:18.855Z"
   },
   {
    "duration": 9,
    "start_time": "2023-01-20T11:33:20.393Z"
   },
   {
    "duration": 15,
    "start_time": "2023-01-20T11:33:20.403Z"
   },
   {
    "duration": 8,
    "start_time": "2023-01-20T11:33:20.419Z"
   },
   {
    "duration": 27,
    "start_time": "2023-01-20T11:33:20.429Z"
   },
   {
    "duration": 115,
    "start_time": "2023-01-20T11:33:20.458Z"
   },
   {
    "duration": 7,
    "start_time": "2023-01-20T11:33:20.575Z"
   },
   {
    "duration": 5,
    "start_time": "2023-01-20T11:33:20.593Z"
   },
   {
    "duration": 7,
    "start_time": "2023-01-20T11:33:20.599Z"
   },
   {
    "duration": 8,
    "start_time": "2023-01-20T11:33:20.607Z"
   },
   {
    "duration": 19,
    "start_time": "2023-01-20T11:33:20.617Z"
   },
   {
    "duration": 185,
    "start_time": "2023-01-20T11:33:20.638Z"
   },
   {
    "duration": 6,
    "start_time": "2023-01-20T11:33:20.824Z"
   },
   {
    "duration": 613,
    "start_time": "2023-01-20T11:33:20.831Z"
   },
   {
    "duration": 7,
    "start_time": "2023-01-20T11:33:21.446Z"
   },
   {
    "duration": 40,
    "start_time": "2023-01-20T11:33:21.455Z"
   },
   {
    "duration": 15,
    "start_time": "2023-01-20T11:33:21.497Z"
   },
   {
    "duration": 339,
    "start_time": "2023-01-20T11:33:21.514Z"
   },
   {
    "duration": 263,
    "start_time": "2023-01-20T11:41:20.995Z"
   },
   {
    "duration": 207,
    "start_time": "2023-01-20T11:46:16.436Z"
   },
   {
    "duration": 20,
    "start_time": "2023-01-20T12:39:40.863Z"
   },
   {
    "duration": 4,
    "start_time": "2023-01-20T13:04:05.447Z"
   },
   {
    "duration": 5,
    "start_time": "2023-01-20T13:06:19.304Z"
   },
   {
    "duration": 17,
    "start_time": "2023-01-20T13:06:39.970Z"
   },
   {
    "duration": 17,
    "start_time": "2023-01-20T13:07:09.632Z"
   },
   {
    "duration": 455,
    "start_time": "2023-01-20T13:07:17.174Z"
   },
   {
    "duration": 19,
    "start_time": "2023-01-20T13:07:17.631Z"
   },
   {
    "duration": 3,
    "start_time": "2023-01-20T13:07:17.651Z"
   },
   {
    "duration": 14,
    "start_time": "2023-01-20T13:07:17.657Z"
   },
   {
    "duration": 4,
    "start_time": "2023-01-20T13:07:17.672Z"
   },
   {
    "duration": 17,
    "start_time": "2023-01-20T13:07:17.677Z"
   },
   {
    "duration": 5,
    "start_time": "2023-01-20T13:07:17.695Z"
   },
   {
    "duration": 8,
    "start_time": "2023-01-20T13:07:17.701Z"
   },
   {
    "duration": 1284,
    "start_time": "2023-01-20T13:07:17.711Z"
   },
   {
    "duration": 8,
    "start_time": "2023-01-20T13:07:18.997Z"
   },
   {
    "duration": 20,
    "start_time": "2023-01-20T13:07:19.007Z"
   },
   {
    "duration": 10,
    "start_time": "2023-01-20T13:07:19.029Z"
   },
   {
    "duration": 53,
    "start_time": "2023-01-20T13:07:19.041Z"
   },
   {
    "duration": 143,
    "start_time": "2023-01-20T13:07:19.096Z"
   },
   {
    "duration": 8,
    "start_time": "2023-01-20T13:07:19.241Z"
   },
   {
    "duration": 11,
    "start_time": "2023-01-20T13:07:19.251Z"
   },
   {
    "duration": 20,
    "start_time": "2023-01-20T13:07:19.263Z"
   },
   {
    "duration": 10,
    "start_time": "2023-01-20T13:07:19.294Z"
   },
   {
    "duration": 26,
    "start_time": "2023-01-20T13:07:19.305Z"
   },
   {
    "duration": 193,
    "start_time": "2023-01-20T13:07:19.333Z"
   },
   {
    "duration": 6,
    "start_time": "2023-01-20T13:07:19.528Z"
   },
   {
    "duration": 665,
    "start_time": "2023-01-20T13:07:19.535Z"
   },
   {
    "duration": 7,
    "start_time": "2023-01-20T13:07:20.201Z"
   },
   {
    "duration": 29,
    "start_time": "2023-01-20T13:07:20.210Z"
   },
   {
    "duration": 15,
    "start_time": "2023-01-20T13:07:20.240Z"
   },
   {
    "duration": 357,
    "start_time": "2023-01-20T13:07:20.257Z"
   },
   {
    "duration": 194,
    "start_time": "2023-01-20T13:07:20.616Z"
   },
   {
    "duration": 18,
    "start_time": "2023-01-20T13:07:20.813Z"
   },
   {
    "duration": 57,
    "start_time": "2023-01-20T13:07:20.832Z"
   },
   {
    "duration": 16,
    "start_time": "2023-01-20T13:07:31.764Z"
   },
   {
    "duration": 203,
    "start_time": "2023-01-20T13:12:11.475Z"
   },
   {
    "duration": 116,
    "start_time": "2023-01-20T13:12:27.004Z"
   },
   {
    "duration": 18,
    "start_time": "2023-01-20T13:16:23.044Z"
   },
   {
    "duration": 135,
    "start_time": "2023-01-20T13:17:15.356Z"
   },
   {
    "duration": 144,
    "start_time": "2023-01-20T13:19:54.526Z"
   },
   {
    "duration": 135,
    "start_time": "2023-01-20T13:21:07.143Z"
   },
   {
    "duration": 135,
    "start_time": "2023-01-20T13:23:56.612Z"
   },
   {
    "duration": 147,
    "start_time": "2023-01-20T13:25:13.495Z"
   },
   {
    "duration": 26,
    "start_time": "2023-01-20T13:29:35.392Z"
   },
   {
    "duration": 24,
    "start_time": "2023-01-20T13:30:02.774Z"
   },
   {
    "duration": 122,
    "start_time": "2023-01-20T13:30:12.318Z"
   },
   {
    "duration": 25,
    "start_time": "2023-01-20T13:30:20.495Z"
   },
   {
    "duration": 10,
    "start_time": "2023-01-20T13:30:25.315Z"
   },
   {
    "duration": 10,
    "start_time": "2023-01-20T13:30:33.446Z"
   },
   {
    "duration": 13,
    "start_time": "2023-01-20T13:31:08.685Z"
   },
   {
    "duration": 144,
    "start_time": "2023-01-20T13:31:24.801Z"
   },
   {
    "duration": 22,
    "start_time": "2023-01-20T13:31:36.032Z"
   },
   {
    "duration": 10,
    "start_time": "2023-01-20T13:31:43.781Z"
   },
   {
    "duration": 22,
    "start_time": "2023-01-20T13:31:48.966Z"
   },
   {
    "duration": 6,
    "start_time": "2023-01-20T13:32:06.640Z"
   },
   {
    "duration": 26,
    "start_time": "2023-01-20T13:32:28.195Z"
   },
   {
    "duration": 24,
    "start_time": "2023-01-20T13:32:31.966Z"
   },
   {
    "duration": 11,
    "start_time": "2023-01-20T13:33:07.192Z"
   },
   {
    "duration": 26,
    "start_time": "2023-01-20T13:35:02.252Z"
   },
   {
    "duration": 12,
    "start_time": "2023-01-20T13:35:20.667Z"
   },
   {
    "duration": 147,
    "start_time": "2023-01-20T13:46:54.572Z"
   },
   {
    "duration": 160,
    "start_time": "2023-01-20T13:47:52.111Z"
   },
   {
    "duration": 140,
    "start_time": "2023-01-20T13:48:17.593Z"
   },
   {
    "duration": 140,
    "start_time": "2023-01-20T13:48:20.636Z"
   },
   {
    "duration": 21,
    "start_time": "2023-01-20T13:58:45.637Z"
   },
   {
    "duration": 136,
    "start_time": "2023-01-20T14:00:35.400Z"
   },
   {
    "duration": 7,
    "start_time": "2023-01-20T14:16:05.875Z"
   },
   {
    "duration": 160,
    "start_time": "2023-01-20T14:18:31.011Z"
   },
   {
    "duration": 163,
    "start_time": "2023-01-20T14:18:57.928Z"
   },
   {
    "duration": 26,
    "start_time": "2023-01-20T14:27:25.667Z"
   },
   {
    "duration": 12,
    "start_time": "2023-01-20T14:30:46.723Z"
   },
   {
    "duration": 91,
    "start_time": "2023-01-20T14:35:46.954Z"
   },
   {
    "duration": 243,
    "start_time": "2023-01-20T14:35:54.230Z"
   },
   {
    "duration": 76,
    "start_time": "2023-01-20T14:36:24.757Z"
   },
   {
    "duration": 18,
    "start_time": "2023-01-20T14:39:22.721Z"
   },
   {
    "duration": 135,
    "start_time": "2023-01-20T14:40:09.691Z"
   },
   {
    "duration": 133,
    "start_time": "2023-01-20T14:40:45.293Z"
   },
   {
    "duration": 145,
    "start_time": "2023-01-20T14:41:21.298Z"
   },
   {
    "duration": 169,
    "start_time": "2023-01-20T14:41:54.115Z"
   },
   {
    "duration": 155,
    "start_time": "2023-01-20T14:42:05.386Z"
   },
   {
    "duration": 13,
    "start_time": "2023-01-20T14:42:35.164Z"
   },
   {
    "duration": 83,
    "start_time": "2023-01-20T14:42:38.783Z"
   },
   {
    "duration": 435,
    "start_time": "2023-01-20T14:46:10.504Z"
   },
   {
    "duration": 19,
    "start_time": "2023-01-20T14:46:10.941Z"
   },
   {
    "duration": 3,
    "start_time": "2023-01-20T14:46:10.962Z"
   },
   {
    "duration": 16,
    "start_time": "2023-01-20T14:46:10.966Z"
   },
   {
    "duration": 4,
    "start_time": "2023-01-20T14:46:10.983Z"
   },
   {
    "duration": 12,
    "start_time": "2023-01-20T14:46:10.988Z"
   },
   {
    "duration": 16,
    "start_time": "2023-01-20T14:46:11.001Z"
   },
   {
    "duration": 11,
    "start_time": "2023-01-20T14:46:11.019Z"
   },
   {
    "duration": 1397,
    "start_time": "2023-01-20T14:46:11.031Z"
   },
   {
    "duration": 10,
    "start_time": "2023-01-20T14:46:12.432Z"
   },
   {
    "duration": 18,
    "start_time": "2023-01-20T14:46:12.443Z"
   },
   {
    "duration": 8,
    "start_time": "2023-01-20T14:46:12.462Z"
   },
   {
    "duration": 49,
    "start_time": "2023-01-20T14:46:12.471Z"
   },
   {
    "duration": 97,
    "start_time": "2023-01-20T14:46:12.522Z"
   },
   {
    "duration": 8,
    "start_time": "2023-01-20T14:46:12.621Z"
   },
   {
    "duration": 20,
    "start_time": "2023-01-20T14:46:12.631Z"
   },
   {
    "duration": 19,
    "start_time": "2023-01-20T14:46:12.653Z"
   },
   {
    "duration": 12,
    "start_time": "2023-01-20T14:46:12.674Z"
   },
   {
    "duration": 29,
    "start_time": "2023-01-20T14:46:12.687Z"
   },
   {
    "duration": 252,
    "start_time": "2023-01-20T14:46:12.718Z"
   },
   {
    "duration": 6,
    "start_time": "2023-01-20T14:46:12.972Z"
   },
   {
    "duration": 667,
    "start_time": "2023-01-20T14:46:12.979Z"
   },
   {
    "duration": 8,
    "start_time": "2023-01-20T14:46:13.648Z"
   },
   {
    "duration": 38,
    "start_time": "2023-01-20T14:46:13.657Z"
   },
   {
    "duration": 16,
    "start_time": "2023-01-20T14:46:13.697Z"
   },
   {
    "duration": 360,
    "start_time": "2023-01-20T14:46:13.715Z"
   },
   {
    "duration": 290,
    "start_time": "2023-01-20T14:46:14.078Z"
   },
   {
    "duration": 28,
    "start_time": "2023-01-20T14:46:14.372Z"
   },
   {
    "duration": 393,
    "start_time": "2023-01-20T14:46:14.402Z"
   },
   {
    "duration": 0,
    "start_time": "2023-01-20T14:46:14.797Z"
   },
   {
    "duration": 0,
    "start_time": "2023-01-20T14:46:14.798Z"
   },
   {
    "duration": 0,
    "start_time": "2023-01-20T14:46:14.800Z"
   },
   {
    "duration": 0,
    "start_time": "2023-01-20T14:46:14.801Z"
   },
   {
    "duration": 0,
    "start_time": "2023-01-20T14:46:14.802Z"
   },
   {
    "duration": 0,
    "start_time": "2023-01-20T14:46:14.803Z"
   },
   {
    "duration": 437,
    "start_time": "2023-01-20T14:46:39.495Z"
   },
   {
    "duration": 20,
    "start_time": "2023-01-20T14:46:39.933Z"
   },
   {
    "duration": 3,
    "start_time": "2023-01-20T14:46:39.955Z"
   },
   {
    "duration": 15,
    "start_time": "2023-01-20T14:46:39.960Z"
   },
   {
    "duration": 4,
    "start_time": "2023-01-20T14:46:39.977Z"
   },
   {
    "duration": 12,
    "start_time": "2023-01-20T14:46:39.983Z"
   },
   {
    "duration": 7,
    "start_time": "2023-01-20T14:46:39.996Z"
   },
   {
    "duration": 10,
    "start_time": "2023-01-20T14:46:40.005Z"
   },
   {
    "duration": 1256,
    "start_time": "2023-01-20T14:46:40.017Z"
   },
   {
    "duration": 11,
    "start_time": "2023-01-20T14:46:41.275Z"
   },
   {
    "duration": 13,
    "start_time": "2023-01-20T14:46:41.293Z"
   },
   {
    "duration": 9,
    "start_time": "2023-01-20T14:46:41.307Z"
   },
   {
    "duration": 29,
    "start_time": "2023-01-20T14:46:41.317Z"
   },
   {
    "duration": 92,
    "start_time": "2023-01-20T14:46:41.349Z"
   },
   {
    "duration": 6,
    "start_time": "2023-01-20T14:46:41.443Z"
   },
   {
    "duration": 9,
    "start_time": "2023-01-20T14:46:41.450Z"
   },
   {
    "duration": 4,
    "start_time": "2023-01-20T14:46:41.461Z"
   },
   {
    "duration": 6,
    "start_time": "2023-01-20T14:46:41.467Z"
   },
   {
    "duration": 30,
    "start_time": "2023-01-20T14:46:41.474Z"
   },
   {
    "duration": 171,
    "start_time": "2023-01-20T14:46:41.505Z"
   },
   {
    "duration": 6,
    "start_time": "2023-01-20T14:46:41.678Z"
   },
   {
    "duration": 574,
    "start_time": "2023-01-20T14:46:41.693Z"
   },
   {
    "duration": 8,
    "start_time": "2023-01-20T14:46:42.269Z"
   },
   {
    "duration": 43,
    "start_time": "2023-01-20T14:46:42.278Z"
   },
   {
    "duration": 15,
    "start_time": "2023-01-20T14:46:42.322Z"
   },
   {
    "duration": 307,
    "start_time": "2023-01-20T14:46:42.338Z"
   },
   {
    "duration": 205,
    "start_time": "2023-01-20T14:46:42.646Z"
   },
   {
    "duration": 16,
    "start_time": "2023-01-20T14:46:42.853Z"
   },
   {
    "duration": 308,
    "start_time": "2023-01-20T14:46:42.870Z"
   },
   {
    "duration": 0,
    "start_time": "2023-01-20T14:46:43.180Z"
   },
   {
    "duration": 0,
    "start_time": "2023-01-20T14:46:43.181Z"
   },
   {
    "duration": 0,
    "start_time": "2023-01-20T14:46:43.182Z"
   },
   {
    "duration": 0,
    "start_time": "2023-01-20T14:46:43.183Z"
   },
   {
    "duration": 0,
    "start_time": "2023-01-20T14:46:43.183Z"
   },
   {
    "duration": 0,
    "start_time": "2023-01-20T14:46:43.184Z"
   },
   {
    "duration": 152,
    "start_time": "2023-01-20T14:54:54.755Z"
   },
   {
    "duration": 154,
    "start_time": "2023-01-20T14:55:20.724Z"
   },
   {
    "duration": 136,
    "start_time": "2023-01-20T14:55:29.327Z"
   },
   {
    "duration": 183,
    "start_time": "2023-01-20T14:55:34.116Z"
   },
   {
    "duration": 146,
    "start_time": "2023-01-20T14:55:48.822Z"
   },
   {
    "duration": 14,
    "start_time": "2023-01-20T14:56:05.422Z"
   },
   {
    "duration": 80,
    "start_time": "2023-01-20T14:56:10.345Z"
   },
   {
    "duration": 79,
    "start_time": "2023-01-20T14:59:40.575Z"
   },
   {
    "duration": 81,
    "start_time": "2023-01-20T15:00:59.362Z"
   },
   {
    "duration": 80,
    "start_time": "2023-01-20T15:01:05.784Z"
   },
   {
    "duration": 77,
    "start_time": "2023-01-20T15:01:25.678Z"
   },
   {
    "duration": 47,
    "start_time": "2023-01-21T12:11:22.665Z"
   },
   {
    "duration": 449,
    "start_time": "2023-01-21T12:11:29.049Z"
   },
   {
    "duration": 19,
    "start_time": "2023-01-21T12:11:29.499Z"
   },
   {
    "duration": 7,
    "start_time": "2023-01-21T12:11:29.520Z"
   },
   {
    "duration": 21,
    "start_time": "2023-01-21T12:11:29.529Z"
   },
   {
    "duration": 5,
    "start_time": "2023-01-21T12:11:29.551Z"
   },
   {
    "duration": 18,
    "start_time": "2023-01-21T12:11:29.557Z"
   },
   {
    "duration": 12,
    "start_time": "2023-01-21T12:11:29.576Z"
   },
   {
    "duration": 10,
    "start_time": "2023-01-21T12:11:29.590Z"
   },
   {
    "duration": 1479,
    "start_time": "2023-01-21T12:11:29.601Z"
   },
   {
    "duration": 10,
    "start_time": "2023-01-21T12:11:31.082Z"
   },
   {
    "duration": 43,
    "start_time": "2023-01-21T12:11:31.100Z"
   },
   {
    "duration": 29,
    "start_time": "2023-01-21T12:11:31.145Z"
   },
   {
    "duration": 31,
    "start_time": "2023-01-21T12:11:31.176Z"
   },
   {
    "duration": 99,
    "start_time": "2023-01-21T12:11:31.209Z"
   },
   {
    "duration": 7,
    "start_time": "2023-01-21T12:11:31.310Z"
   },
   {
    "duration": 22,
    "start_time": "2023-01-21T12:11:31.319Z"
   },
   {
    "duration": 23,
    "start_time": "2023-01-21T12:11:31.343Z"
   },
   {
    "duration": 13,
    "start_time": "2023-01-21T12:11:31.367Z"
   },
   {
    "duration": 39,
    "start_time": "2023-01-21T12:11:31.382Z"
   },
   {
    "duration": 185,
    "start_time": "2023-01-21T12:11:31.423Z"
   },
   {
    "duration": 5,
    "start_time": "2023-01-21T12:11:31.609Z"
   },
   {
    "duration": 683,
    "start_time": "2023-01-21T12:11:31.616Z"
   },
   {
    "duration": 7,
    "start_time": "2023-01-21T12:11:32.300Z"
   },
   {
    "duration": 27,
    "start_time": "2023-01-21T12:11:32.309Z"
   },
   {
    "duration": 15,
    "start_time": "2023-01-21T12:11:32.337Z"
   },
   {
    "duration": 319,
    "start_time": "2023-01-21T12:11:32.354Z"
   },
   {
    "duration": 299,
    "start_time": "2023-01-21T12:11:32.676Z"
   },
   {
    "duration": 24,
    "start_time": "2023-01-21T12:11:32.977Z"
   },
   {
    "duration": 145,
    "start_time": "2023-01-21T12:11:33.002Z"
   },
   {
    "duration": 180,
    "start_time": "2023-01-21T12:11:33.149Z"
   },
   {
    "duration": 142,
    "start_time": "2023-01-21T12:11:33.331Z"
   },
   {
    "duration": 144,
    "start_time": "2023-01-21T12:11:33.475Z"
   },
   {
    "duration": 165,
    "start_time": "2023-01-21T12:11:33.621Z"
   },
   {
    "duration": 91,
    "start_time": "2023-01-21T12:11:33.788Z"
   },
   {
    "duration": 123,
    "start_time": "2023-01-21T12:11:33.881Z"
   },
   {
    "duration": 110,
    "start_time": "2023-01-21T12:11:34.006Z"
   },
   {
    "duration": 99,
    "start_time": "2023-01-21T12:32:26.877Z"
   },
   {
    "duration": 84,
    "start_time": "2023-01-21T12:32:56.893Z"
   },
   {
    "duration": 109,
    "start_time": "2023-01-21T12:33:14.955Z"
   },
   {
    "duration": 86,
    "start_time": "2023-01-21T12:42:50.487Z"
   },
   {
    "duration": 108,
    "start_time": "2023-01-21T12:43:14.007Z"
   },
   {
    "duration": 160,
    "start_time": "2023-01-21T12:43:39.331Z"
   },
   {
    "duration": 72,
    "start_time": "2023-01-21T12:53:08.916Z"
   },
   {
    "duration": 728,
    "start_time": "2023-01-21T13:07:09.480Z"
   },
   {
    "duration": 550,
    "start_time": "2023-01-21T13:07:16.993Z"
   },
   {
    "duration": 19,
    "start_time": "2023-01-21T13:07:17.545Z"
   },
   {
    "duration": 3,
    "start_time": "2023-01-21T13:07:17.565Z"
   },
   {
    "duration": 21,
    "start_time": "2023-01-21T13:07:17.570Z"
   },
   {
    "duration": 12,
    "start_time": "2023-01-21T13:07:17.593Z"
   },
   {
    "duration": 17,
    "start_time": "2023-01-21T13:07:17.607Z"
   },
   {
    "duration": 35,
    "start_time": "2023-01-21T13:07:17.626Z"
   },
   {
    "duration": 10,
    "start_time": "2023-01-21T13:07:17.663Z"
   },
   {
    "duration": 1438,
    "start_time": "2023-01-21T13:07:17.674Z"
   },
   {
    "duration": 9,
    "start_time": "2023-01-21T13:07:19.114Z"
   },
   {
    "duration": 46,
    "start_time": "2023-01-21T13:07:19.124Z"
   },
   {
    "duration": 9,
    "start_time": "2023-01-21T13:07:19.172Z"
   },
   {
    "duration": 20,
    "start_time": "2023-01-21T13:07:19.183Z"
   },
   {
    "duration": 88,
    "start_time": "2023-01-21T13:07:19.205Z"
   },
   {
    "duration": 7,
    "start_time": "2023-01-21T13:07:19.295Z"
   },
   {
    "duration": 5,
    "start_time": "2023-01-21T13:07:19.303Z"
   },
   {
    "duration": 19,
    "start_time": "2023-01-21T13:07:19.309Z"
   },
   {
    "duration": 53,
    "start_time": "2023-01-21T13:07:19.329Z"
   },
   {
    "duration": 17,
    "start_time": "2023-01-21T13:07:19.384Z"
   },
   {
    "duration": 167,
    "start_time": "2023-01-21T13:07:19.403Z"
   },
   {
    "duration": 5,
    "start_time": "2023-01-21T13:07:19.571Z"
   },
   {
    "duration": 616,
    "start_time": "2023-01-21T13:07:19.577Z"
   },
   {
    "duration": 7,
    "start_time": "2023-01-21T13:07:20.194Z"
   },
   {
    "duration": 31,
    "start_time": "2023-01-21T13:07:20.202Z"
   },
   {
    "duration": 19,
    "start_time": "2023-01-21T13:07:20.235Z"
   },
   {
    "duration": 287,
    "start_time": "2023-01-21T13:07:20.256Z"
   },
   {
    "duration": 291,
    "start_time": "2023-01-21T13:07:20.544Z"
   },
   {
    "duration": 26,
    "start_time": "2023-01-21T13:07:20.837Z"
   },
   {
    "duration": 147,
    "start_time": "2023-01-21T13:07:20.865Z"
   },
   {
    "duration": 146,
    "start_time": "2023-01-21T13:07:21.015Z"
   },
   {
    "duration": 146,
    "start_time": "2023-01-21T13:07:21.163Z"
   },
   {
    "duration": 142,
    "start_time": "2023-01-21T13:07:21.310Z"
   },
   {
    "duration": 156,
    "start_time": "2023-01-21T13:07:21.454Z"
   },
   {
    "duration": 86,
    "start_time": "2023-01-21T13:07:21.611Z"
   },
   {
    "duration": 89,
    "start_time": "2023-01-21T13:07:21.699Z"
   },
   {
    "duration": 93,
    "start_time": "2023-01-21T13:07:21.789Z"
   },
   {
    "duration": 92,
    "start_time": "2023-01-21T13:07:21.883Z"
   },
   {
    "duration": 91,
    "start_time": "2023-01-21T13:07:21.976Z"
   },
   {
    "duration": 91,
    "start_time": "2023-01-21T13:07:22.069Z"
   },
   {
    "duration": 74,
    "start_time": "2023-01-21T13:07:22.162Z"
   },
   {
    "duration": 74,
    "start_time": "2023-01-21T13:07:22.250Z"
   },
   {
    "duration": 172,
    "start_time": "2023-01-21T13:07:22.326Z"
   },
   {
    "duration": 6,
    "start_time": "2023-01-21T13:07:22.500Z"
   },
   {
    "duration": 6,
    "start_time": "2023-01-21T13:08:09.234Z"
   },
   {
    "duration": 5,
    "start_time": "2023-01-21T13:09:24.438Z"
   },
   {
    "duration": 5,
    "start_time": "2023-01-21T13:09:48.976Z"
   },
   {
    "duration": 6,
    "start_time": "2023-01-21T13:09:57.096Z"
   },
   {
    "duration": 7,
    "start_time": "2023-01-21T13:10:21.578Z"
   },
   {
    "duration": 5,
    "start_time": "2023-01-21T13:10:25.856Z"
   },
   {
    "duration": 4,
    "start_time": "2023-01-21T13:10:32.263Z"
   },
   {
    "duration": 5,
    "start_time": "2023-01-21T13:11:27.950Z"
   },
   {
    "duration": 5,
    "start_time": "2023-01-21T13:11:32.668Z"
   },
   {
    "duration": 7,
    "start_time": "2023-01-21T13:22:02.434Z"
   },
   {
    "duration": 7,
    "start_time": "2023-01-21T13:22:18.596Z"
   },
   {
    "duration": 5,
    "start_time": "2023-01-21T13:22:48.621Z"
   },
   {
    "duration": 580,
    "start_time": "2023-01-22T10:41:01.215Z"
   },
   {
    "duration": 20,
    "start_time": "2023-01-22T10:41:01.797Z"
   },
   {
    "duration": 21,
    "start_time": "2023-01-22T10:41:01.818Z"
   },
   {
    "duration": 44,
    "start_time": "2023-01-22T10:41:01.841Z"
   },
   {
    "duration": 16,
    "start_time": "2023-01-22T10:41:01.888Z"
   },
   {
    "duration": 18,
    "start_time": "2023-01-22T10:41:01.905Z"
   },
   {
    "duration": 14,
    "start_time": "2023-01-22T10:41:01.925Z"
   },
   {
    "duration": 17,
    "start_time": "2023-01-22T10:41:01.940Z"
   },
   {
    "duration": 1529,
    "start_time": "2023-01-22T10:41:01.958Z"
   },
   {
    "duration": 8,
    "start_time": "2023-01-22T10:41:03.490Z"
   },
   {
    "duration": 35,
    "start_time": "2023-01-22T10:41:03.500Z"
   },
   {
    "duration": 21,
    "start_time": "2023-01-22T10:41:03.536Z"
   },
   {
    "duration": 33,
    "start_time": "2023-01-22T10:41:03.558Z"
   },
   {
    "duration": 97,
    "start_time": "2023-01-22T10:41:03.594Z"
   },
   {
    "duration": 8,
    "start_time": "2023-01-22T10:41:03.693Z"
   },
   {
    "duration": 15,
    "start_time": "2023-01-22T10:41:03.702Z"
   },
   {
    "duration": 24,
    "start_time": "2023-01-22T10:41:03.718Z"
   },
   {
    "duration": 16,
    "start_time": "2023-01-22T10:41:03.744Z"
   },
   {
    "duration": 32,
    "start_time": "2023-01-22T10:41:03.762Z"
   },
   {
    "duration": 167,
    "start_time": "2023-01-22T10:41:03.796Z"
   },
   {
    "duration": 6,
    "start_time": "2023-01-22T10:41:03.966Z"
   },
   {
    "duration": 695,
    "start_time": "2023-01-22T10:41:03.974Z"
   },
   {
    "duration": 8,
    "start_time": "2023-01-22T10:41:04.671Z"
   },
   {
    "duration": 46,
    "start_time": "2023-01-22T10:41:04.680Z"
   },
   {
    "duration": 16,
    "start_time": "2023-01-22T10:41:04.727Z"
   },
   {
    "duration": 391,
    "start_time": "2023-01-22T10:41:04.745Z"
   },
   {
    "duration": 323,
    "start_time": "2023-01-22T10:41:05.138Z"
   },
   {
    "duration": 17,
    "start_time": "2023-01-22T10:41:05.468Z"
   },
   {
    "duration": 183,
    "start_time": "2023-01-22T10:41:05.487Z"
   },
   {
    "duration": 176,
    "start_time": "2023-01-22T10:41:05.672Z"
   },
   {
    "duration": 158,
    "start_time": "2023-01-22T10:41:05.850Z"
   },
   {
    "duration": 143,
    "start_time": "2023-01-22T10:41:06.009Z"
   },
   {
    "duration": 160,
    "start_time": "2023-01-22T10:41:06.154Z"
   },
   {
    "duration": 88,
    "start_time": "2023-01-22T10:41:06.315Z"
   },
   {
    "duration": 97,
    "start_time": "2023-01-22T10:41:06.404Z"
   },
   {
    "duration": 96,
    "start_time": "2023-01-22T10:41:06.502Z"
   },
   {
    "duration": 92,
    "start_time": "2023-01-22T10:41:06.600Z"
   },
   {
    "duration": 102,
    "start_time": "2023-01-22T10:41:06.693Z"
   },
   {
    "duration": 103,
    "start_time": "2023-01-22T10:41:06.797Z"
   },
   {
    "duration": 93,
    "start_time": "2023-01-22T10:41:06.901Z"
   },
   {
    "duration": 195,
    "start_time": "2023-01-22T10:41:06.995Z"
   },
   {
    "duration": 102,
    "start_time": "2023-01-22T10:41:07.192Z"
   },
   {
    "duration": 7,
    "start_time": "2023-01-22T10:41:07.296Z"
   },
   {
    "duration": 7,
    "start_time": "2023-01-22T10:41:07.305Z"
   },
   {
    "duration": 13,
    "start_time": "2023-01-22T10:41:07.313Z"
   },
   {
    "duration": 6,
    "start_time": "2023-01-22T10:41:07.328Z"
   },
   {
    "duration": 1331,
    "start_time": "2023-01-24T12:27:46.379Z"
   },
   {
    "duration": 199,
    "start_time": "2023-01-24T12:27:47.712Z"
   },
   {
    "duration": 17,
    "start_time": "2023-01-24T12:27:47.913Z"
   },
   {
    "duration": 12,
    "start_time": "2023-01-24T12:27:47.931Z"
   },
   {
    "duration": 24,
    "start_time": "2023-01-24T12:27:47.945Z"
   },
   {
    "duration": 5,
    "start_time": "2023-01-24T12:27:47.971Z"
   },
   {
    "duration": 17,
    "start_time": "2023-01-24T12:27:47.978Z"
   },
   {
    "duration": 21,
    "start_time": "2023-01-24T12:27:47.998Z"
   },
   {
    "duration": 26,
    "start_time": "2023-01-24T12:27:48.021Z"
   },
   {
    "duration": 689,
    "start_time": "2023-01-24T12:27:48.049Z"
   },
   {
    "duration": 8,
    "start_time": "2023-01-24T12:27:48.740Z"
   },
   {
    "duration": 17,
    "start_time": "2023-01-24T12:27:48.749Z"
   },
   {
    "duration": 6,
    "start_time": "2023-01-24T12:27:48.768Z"
   },
   {
    "duration": 29,
    "start_time": "2023-01-24T12:27:48.795Z"
   },
   {
    "duration": 98,
    "start_time": "2023-01-24T12:27:48.825Z"
   },
   {
    "duration": 8,
    "start_time": "2023-01-24T12:27:48.925Z"
   },
   {
    "duration": 8,
    "start_time": "2023-01-24T12:27:48.935Z"
   },
   {
    "duration": 7,
    "start_time": "2023-01-24T12:27:48.945Z"
   },
   {
    "duration": 10,
    "start_time": "2023-01-24T12:27:48.954Z"
   },
   {
    "duration": 43,
    "start_time": "2023-01-24T12:27:48.965Z"
   },
   {
    "duration": 198,
    "start_time": "2023-01-24T12:27:49.009Z"
   },
   {
    "duration": 7,
    "start_time": "2023-01-24T12:27:49.210Z"
   },
   {
    "duration": 719,
    "start_time": "2023-01-24T12:27:49.219Z"
   },
   {
    "duration": 6,
    "start_time": "2023-01-24T12:27:49.940Z"
   },
   {
    "duration": 28,
    "start_time": "2023-01-24T12:27:49.948Z"
   },
   {
    "duration": 21,
    "start_time": "2023-01-24T12:27:49.994Z"
   },
   {
    "duration": 317,
    "start_time": "2023-01-24T12:27:50.017Z"
   },
   {
    "duration": 240,
    "start_time": "2023-01-24T12:27:50.336Z"
   },
   {
    "duration": 33,
    "start_time": "2023-01-24T12:27:50.577Z"
   },
   {
    "duration": 227,
    "start_time": "2023-01-24T12:27:50.611Z"
   },
   {
    "duration": 148,
    "start_time": "2023-01-24T12:27:50.840Z"
   },
   {
    "duration": 162,
    "start_time": "2023-01-24T12:27:50.994Z"
   },
   {
    "duration": 155,
    "start_time": "2023-01-24T12:27:51.158Z"
   },
   {
    "duration": 174,
    "start_time": "2023-01-24T12:27:51.315Z"
   },
   {
    "duration": 84,
    "start_time": "2023-01-24T12:27:51.499Z"
   },
   {
    "duration": 113,
    "start_time": "2023-01-24T12:27:51.592Z"
   },
   {
    "duration": 97,
    "start_time": "2023-01-24T12:27:51.707Z"
   },
   {
    "duration": 93,
    "start_time": "2023-01-24T12:27:51.807Z"
   },
   {
    "duration": 102,
    "start_time": "2023-01-24T12:27:51.909Z"
   },
   {
    "duration": 95,
    "start_time": "2023-01-24T12:27:52.013Z"
   },
   {
    "duration": 101,
    "start_time": "2023-01-24T12:27:52.112Z"
   },
   {
    "duration": 115,
    "start_time": "2023-01-24T12:27:52.215Z"
   },
   {
    "duration": 91,
    "start_time": "2023-01-24T12:27:52.332Z"
   },
   {
    "duration": 7,
    "start_time": "2023-01-24T12:27:52.425Z"
   },
   {
    "duration": 12,
    "start_time": "2023-01-24T12:27:52.433Z"
   },
   {
    "duration": 13,
    "start_time": "2023-01-24T12:27:52.446Z"
   },
   {
    "duration": 5,
    "start_time": "2023-01-24T12:27:52.461Z"
   },
   {
    "duration": 184,
    "start_time": "2023-01-24T12:29:29.961Z"
   },
   {
    "duration": 170,
    "start_time": "2023-01-24T12:30:40.410Z"
   },
   {
    "duration": 179,
    "start_time": "2023-01-24T12:31:23.255Z"
   },
   {
    "duration": 809,
    "start_time": "2023-01-24T12:31:54.064Z"
   },
   {
    "duration": 83,
    "start_time": "2023-01-24T12:38:51.667Z"
   },
   {
    "duration": 740,
    "start_time": "2023-01-24T12:40:10.414Z"
   },
   {
    "duration": 262,
    "start_time": "2023-01-24T12:45:26.575Z"
   },
   {
    "duration": 191,
    "start_time": "2023-01-24T12:57:13.521Z"
   },
   {
    "duration": 302,
    "start_time": "2023-01-24T12:58:05.705Z"
   },
   {
    "duration": 367,
    "start_time": "2023-01-24T12:58:18.471Z"
   },
   {
    "duration": 256,
    "start_time": "2023-01-24T12:59:56.755Z"
   },
   {
    "duration": 289,
    "start_time": "2023-01-24T13:00:51.433Z"
   },
   {
    "duration": 306,
    "start_time": "2023-01-24T13:00:58.450Z"
   },
   {
    "duration": 78,
    "start_time": "2023-01-24T13:07:29.466Z"
   },
   {
    "duration": 84,
    "start_time": "2023-01-24T13:07:41.380Z"
   },
   {
    "duration": 87,
    "start_time": "2023-01-24T13:08:39.224Z"
   },
   {
    "duration": 1118,
    "start_time": "2023-01-24T13:08:46.538Z"
   },
   {
    "duration": 186,
    "start_time": "2023-01-24T13:08:47.658Z"
   },
   {
    "duration": 18,
    "start_time": "2023-01-24T13:08:47.846Z"
   },
   {
    "duration": 16,
    "start_time": "2023-01-24T13:08:47.866Z"
   },
   {
    "duration": 28,
    "start_time": "2023-01-24T13:08:47.884Z"
   },
   {
    "duration": 23,
    "start_time": "2023-01-24T13:08:47.913Z"
   },
   {
    "duration": 16,
    "start_time": "2023-01-24T13:08:47.937Z"
   },
   {
    "duration": 6,
    "start_time": "2023-01-24T13:08:47.955Z"
   },
   {
    "duration": 16,
    "start_time": "2023-01-24T13:08:47.962Z"
   },
   {
    "duration": 589,
    "start_time": "2023-01-24T13:08:47.981Z"
   },
   {
    "duration": 8,
    "start_time": "2023-01-24T13:08:48.572Z"
   },
   {
    "duration": 26,
    "start_time": "2023-01-24T13:08:48.592Z"
   },
   {
    "duration": 12,
    "start_time": "2023-01-24T13:08:48.620Z"
   },
   {
    "duration": 20,
    "start_time": "2023-01-24T13:08:48.634Z"
   },
   {
    "duration": 95,
    "start_time": "2023-01-24T13:08:48.656Z"
   },
   {
    "duration": 8,
    "start_time": "2023-01-24T13:08:48.752Z"
   },
   {
    "duration": 13,
    "start_time": "2023-01-24T13:08:48.761Z"
   },
   {
    "duration": 7,
    "start_time": "2023-01-24T13:08:48.775Z"
   },
   {
    "duration": 29,
    "start_time": "2023-01-24T13:08:48.783Z"
   },
   {
    "duration": 28,
    "start_time": "2023-01-24T13:08:48.814Z"
   },
   {
    "duration": 202,
    "start_time": "2023-01-24T13:08:48.844Z"
   },
   {
    "duration": 6,
    "start_time": "2023-01-24T13:08:49.048Z"
   },
   {
    "duration": 763,
    "start_time": "2023-01-24T13:08:49.055Z"
   },
   {
    "duration": 8,
    "start_time": "2023-01-24T13:08:49.820Z"
   },
   {
    "duration": 56,
    "start_time": "2023-01-24T13:08:49.830Z"
   },
   {
    "duration": 18,
    "start_time": "2023-01-24T13:08:49.888Z"
   },
   {
    "duration": 349,
    "start_time": "2023-01-24T13:08:49.908Z"
   },
   {
    "duration": 360,
    "start_time": "2023-01-24T13:08:50.261Z"
   },
   {
    "duration": 26,
    "start_time": "2023-01-24T13:08:50.622Z"
   },
   {
    "duration": 511,
    "start_time": "2023-01-24T13:08:50.650Z"
   },
   {
    "duration": 82,
    "start_time": "2023-01-24T13:08:51.163Z"
   },
   {
    "duration": 0,
    "start_time": "2023-01-24T13:08:51.246Z"
   },
   {
    "duration": 0,
    "start_time": "2023-01-24T13:08:51.247Z"
   },
   {
    "duration": 0,
    "start_time": "2023-01-24T13:08:51.248Z"
   },
   {
    "duration": 0,
    "start_time": "2023-01-24T13:08:51.249Z"
   },
   {
    "duration": 0,
    "start_time": "2023-01-24T13:08:51.250Z"
   },
   {
    "duration": 0,
    "start_time": "2023-01-24T13:08:51.251Z"
   },
   {
    "duration": 0,
    "start_time": "2023-01-24T13:08:51.252Z"
   },
   {
    "duration": 0,
    "start_time": "2023-01-24T13:08:51.253Z"
   },
   {
    "duration": 0,
    "start_time": "2023-01-24T13:08:51.253Z"
   },
   {
    "duration": 0,
    "start_time": "2023-01-24T13:08:51.254Z"
   },
   {
    "duration": 0,
    "start_time": "2023-01-24T13:08:51.255Z"
   },
   {
    "duration": 0,
    "start_time": "2023-01-24T13:08:51.256Z"
   },
   {
    "duration": 0,
    "start_time": "2023-01-24T13:08:51.257Z"
   },
   {
    "duration": 0,
    "start_time": "2023-01-24T13:08:51.258Z"
   },
   {
    "duration": 0,
    "start_time": "2023-01-24T13:08:51.259Z"
   },
   {
    "duration": 0,
    "start_time": "2023-01-24T13:08:51.260Z"
   },
   {
    "duration": 0,
    "start_time": "2023-01-24T13:08:51.261Z"
   },
   {
    "duration": 89,
    "start_time": "2023-01-24T13:09:05.077Z"
   },
   {
    "duration": 145,
    "start_time": "2023-01-24T13:10:16.814Z"
   },
   {
    "duration": 197,
    "start_time": "2023-01-24T13:11:55.256Z"
   },
   {
    "duration": 154,
    "start_time": "2023-01-24T13:12:30.429Z"
   },
   {
    "duration": 161,
    "start_time": "2023-01-24T13:13:17.881Z"
   },
   {
    "duration": 147,
    "start_time": "2023-01-24T13:13:48.058Z"
   },
   {
    "duration": 1206,
    "start_time": "2023-01-24T13:13:58.373Z"
   },
   {
    "duration": 69,
    "start_time": "2023-01-24T13:13:59.581Z"
   },
   {
    "duration": 19,
    "start_time": "2023-01-24T13:13:59.652Z"
   },
   {
    "duration": 5,
    "start_time": "2023-01-24T13:13:59.674Z"
   },
   {
    "duration": 25,
    "start_time": "2023-01-24T13:13:59.681Z"
   },
   {
    "duration": 6,
    "start_time": "2023-01-24T13:13:59.708Z"
   },
   {
    "duration": 11,
    "start_time": "2023-01-24T13:13:59.715Z"
   },
   {
    "duration": 7,
    "start_time": "2023-01-24T13:13:59.727Z"
   },
   {
    "duration": 7,
    "start_time": "2023-01-24T13:13:59.736Z"
   },
   {
    "duration": 671,
    "start_time": "2023-01-24T13:13:59.746Z"
   },
   {
    "duration": 11,
    "start_time": "2023-01-24T13:14:00.419Z"
   },
   {
    "duration": 46,
    "start_time": "2023-01-24T13:14:00.432Z"
   },
   {
    "duration": 28,
    "start_time": "2023-01-24T13:14:00.480Z"
   },
   {
    "duration": 43,
    "start_time": "2023-01-24T13:14:00.510Z"
   },
   {
    "duration": 124,
    "start_time": "2023-01-24T13:14:00.554Z"
   },
   {
    "duration": 26,
    "start_time": "2023-01-24T13:14:00.680Z"
   },
   {
    "duration": 26,
    "start_time": "2023-01-24T13:14:00.709Z"
   },
   {
    "duration": 20,
    "start_time": "2023-01-24T13:14:00.737Z"
   },
   {
    "duration": 15,
    "start_time": "2023-01-24T13:14:00.760Z"
   },
   {
    "duration": 51,
    "start_time": "2023-01-24T13:14:00.777Z"
   },
   {
    "duration": 231,
    "start_time": "2023-01-24T13:14:00.830Z"
   },
   {
    "duration": 6,
    "start_time": "2023-01-24T13:14:01.063Z"
   },
   {
    "duration": 817,
    "start_time": "2023-01-24T13:14:01.070Z"
   },
   {
    "duration": 13,
    "start_time": "2023-01-24T13:14:01.892Z"
   },
   {
    "duration": 39,
    "start_time": "2023-01-24T13:14:01.909Z"
   },
   {
    "duration": 21,
    "start_time": "2023-01-24T13:14:01.950Z"
   },
   {
    "duration": 428,
    "start_time": "2023-01-24T13:14:01.973Z"
   },
   {
    "duration": 327,
    "start_time": "2023-01-24T13:14:02.405Z"
   },
   {
    "duration": 19,
    "start_time": "2023-01-24T13:14:02.734Z"
   },
   {
    "duration": 298,
    "start_time": "2023-01-24T13:14:02.755Z"
   },
   {
    "duration": 173,
    "start_time": "2023-01-24T13:14:03.055Z"
   },
   {
    "duration": 180,
    "start_time": "2023-01-24T13:14:03.231Z"
   },
   {
    "duration": 170,
    "start_time": "2023-01-24T13:14:03.413Z"
   },
   {
    "duration": 215,
    "start_time": "2023-01-24T13:14:03.592Z"
   },
   {
    "duration": 99,
    "start_time": "2023-01-24T13:14:03.810Z"
   },
   {
    "duration": 113,
    "start_time": "2023-01-24T13:14:03.912Z"
   },
   {
    "duration": 108,
    "start_time": "2023-01-24T13:14:04.026Z"
   },
   {
    "duration": 98,
    "start_time": "2023-01-24T13:14:04.136Z"
   },
   {
    "duration": 111,
    "start_time": "2023-01-24T13:14:04.236Z"
   },
   {
    "duration": 117,
    "start_time": "2023-01-24T13:14:04.349Z"
   },
   {
    "duration": 110,
    "start_time": "2023-01-24T13:14:04.469Z"
   },
   {
    "duration": 100,
    "start_time": "2023-01-24T13:14:04.581Z"
   },
   {
    "duration": 98,
    "start_time": "2023-01-24T13:14:04.683Z"
   },
   {
    "duration": 11,
    "start_time": "2023-01-24T13:14:04.792Z"
   },
   {
    "duration": 15,
    "start_time": "2023-01-24T13:14:04.805Z"
   },
   {
    "duration": 16,
    "start_time": "2023-01-24T13:14:04.822Z"
   },
   {
    "duration": 6,
    "start_time": "2023-01-24T13:14:04.840Z"
   },
   {
    "duration": 234,
    "start_time": "2023-01-24T13:25:43.363Z"
   },
   {
    "duration": 173,
    "start_time": "2023-01-24T13:26:57.636Z"
   },
   {
    "duration": 243,
    "start_time": "2023-01-24T13:28:53.013Z"
   },
   {
    "duration": 189,
    "start_time": "2023-01-24T13:29:26.480Z"
   },
   {
    "duration": 88,
    "start_time": "2023-01-24T13:46:30.372Z"
   },
   {
    "duration": 136,
    "start_time": "2023-01-24T13:47:23.525Z"
   },
   {
    "duration": 93,
    "start_time": "2023-01-24T13:47:31.681Z"
   },
   {
    "duration": 93,
    "start_time": "2023-01-24T13:47:49.480Z"
   },
   {
    "duration": 88,
    "start_time": "2023-01-24T13:47:54.910Z"
   },
   {
    "duration": 89,
    "start_time": "2023-01-24T13:48:20.034Z"
   },
   {
    "duration": 102,
    "start_time": "2023-01-24T13:48:36.790Z"
   },
   {
    "duration": 95,
    "start_time": "2023-01-24T13:49:03.833Z"
   },
   {
    "duration": 89,
    "start_time": "2023-01-24T13:49:21.719Z"
   },
   {
    "duration": 102,
    "start_time": "2023-01-24T13:49:37.125Z"
   },
   {
    "duration": 97,
    "start_time": "2023-01-24T13:50:00.140Z"
   },
   {
    "duration": 91,
    "start_time": "2023-01-24T13:50:13.705Z"
   },
   {
    "duration": 186,
    "start_time": "2023-01-24T13:50:32.195Z"
   },
   {
    "duration": 51,
    "start_time": "2023-01-24T14:37:18.146Z"
   },
   {
    "duration": 1386,
    "start_time": "2023-01-24T14:37:24.661Z"
   },
   {
    "duration": 200,
    "start_time": "2023-01-24T14:37:26.049Z"
   },
   {
    "duration": 19,
    "start_time": "2023-01-24T14:37:26.250Z"
   },
   {
    "duration": 5,
    "start_time": "2023-01-24T14:37:26.271Z"
   },
   {
    "duration": 18,
    "start_time": "2023-01-24T14:37:26.279Z"
   },
   {
    "duration": 6,
    "start_time": "2023-01-24T14:37:26.299Z"
   },
   {
    "duration": 19,
    "start_time": "2023-01-24T14:37:26.307Z"
   },
   {
    "duration": 10,
    "start_time": "2023-01-24T14:37:26.328Z"
   },
   {
    "duration": 8,
    "start_time": "2023-01-24T14:37:26.340Z"
   },
   {
    "duration": 689,
    "start_time": "2023-01-24T14:37:26.349Z"
   },
   {
    "duration": 9,
    "start_time": "2023-01-24T14:37:27.040Z"
   },
   {
    "duration": 15,
    "start_time": "2023-01-24T14:37:27.050Z"
   },
   {
    "duration": 8,
    "start_time": "2023-01-24T14:37:27.067Z"
   },
   {
    "duration": 47,
    "start_time": "2023-01-24T14:37:27.078Z"
   },
   {
    "duration": 95,
    "start_time": "2023-01-24T14:37:27.126Z"
   },
   {
    "duration": 7,
    "start_time": "2023-01-24T14:37:27.222Z"
   },
   {
    "duration": 5,
    "start_time": "2023-01-24T14:37:27.231Z"
   },
   {
    "duration": 8,
    "start_time": "2023-01-24T14:37:27.237Z"
   },
   {
    "duration": 5,
    "start_time": "2023-01-24T14:37:27.247Z"
   },
   {
    "duration": 17,
    "start_time": "2023-01-24T14:37:27.254Z"
   },
   {
    "duration": 211,
    "start_time": "2023-01-24T14:37:27.273Z"
   },
   {
    "duration": 6,
    "start_time": "2023-01-24T14:37:27.486Z"
   },
   {
    "duration": 684,
    "start_time": "2023-01-24T14:37:27.494Z"
   },
   {
    "duration": 8,
    "start_time": "2023-01-24T14:37:28.179Z"
   },
   {
    "duration": 37,
    "start_time": "2023-01-24T14:37:28.188Z"
   },
   {
    "duration": 15,
    "start_time": "2023-01-24T14:37:28.226Z"
   },
   {
    "duration": 322,
    "start_time": "2023-01-24T14:37:28.242Z"
   },
   {
    "duration": 313,
    "start_time": "2023-01-24T14:37:28.567Z"
   },
   {
    "duration": 19,
    "start_time": "2023-01-24T14:37:28.882Z"
   },
   {
    "duration": 258,
    "start_time": "2023-01-24T14:37:28.903Z"
   },
   {
    "duration": 165,
    "start_time": "2023-01-24T14:37:29.163Z"
   },
   {
    "duration": 161,
    "start_time": "2023-01-24T14:37:29.329Z"
   },
   {
    "duration": 158,
    "start_time": "2023-01-24T14:37:29.491Z"
   },
   {
    "duration": 205,
    "start_time": "2023-01-24T14:37:29.651Z"
   },
   {
    "duration": 96,
    "start_time": "2023-01-24T14:37:29.857Z"
   },
   {
    "duration": 105,
    "start_time": "2023-01-24T14:37:29.954Z"
   },
   {
    "duration": 104,
    "start_time": "2023-01-24T14:37:30.060Z"
   },
   {
    "duration": 103,
    "start_time": "2023-01-24T14:37:30.165Z"
   },
   {
    "duration": 114,
    "start_time": "2023-01-24T14:37:30.270Z"
   },
   {
    "duration": 100,
    "start_time": "2023-01-24T14:37:30.386Z"
   },
   {
    "duration": 101,
    "start_time": "2023-01-24T14:37:30.490Z"
   },
   {
    "duration": 107,
    "start_time": "2023-01-24T14:37:30.593Z"
   },
   {
    "duration": 100,
    "start_time": "2023-01-24T14:37:30.702Z"
   },
   {
    "duration": 256,
    "start_time": "2023-01-24T14:37:30.804Z"
   },
   {
    "duration": 6,
    "start_time": "2023-01-24T14:37:31.062Z"
   },
   {
    "duration": 26,
    "start_time": "2023-01-24T14:37:31.069Z"
   },
   {
    "duration": 9,
    "start_time": "2023-01-24T14:37:31.098Z"
   },
   {
    "duration": 168,
    "start_time": "2023-01-24T14:42:21.253Z"
   },
   {
    "duration": 143,
    "start_time": "2023-01-24T14:45:10.406Z"
   },
   {
    "duration": 135,
    "start_time": "2023-01-24T14:45:21.624Z"
   },
   {
    "duration": 171,
    "start_time": "2023-01-24T14:50:13.813Z"
   },
   {
    "duration": 120,
    "start_time": "2023-01-24T14:54:32.268Z"
   },
   {
    "duration": 11,
    "start_time": "2023-01-24T14:54:49.192Z"
   },
   {
    "duration": 8,
    "start_time": "2023-01-24T14:55:01.425Z"
   },
   {
    "duration": 1162,
    "start_time": "2023-04-25T13:16:52.400Z"
   },
   {
    "duration": 225,
    "start_time": "2023-04-25T13:16:53.564Z"
   },
   {
    "duration": 17,
    "start_time": "2023-04-25T13:16:53.791Z"
   },
   {
    "duration": 14,
    "start_time": "2023-04-25T13:16:53.809Z"
   },
   {
    "duration": 18,
    "start_time": "2023-04-25T13:16:53.825Z"
   },
   {
    "duration": 4,
    "start_time": "2023-04-25T13:16:53.845Z"
   },
   {
    "duration": 12,
    "start_time": "2023-04-25T13:16:53.850Z"
   },
   {
    "duration": 21,
    "start_time": "2023-04-25T13:16:53.864Z"
   },
   {
    "duration": 6,
    "start_time": "2023-04-25T13:16:53.887Z"
   },
   {
    "duration": 709,
    "start_time": "2023-04-25T13:16:53.895Z"
   },
   {
    "duration": 9,
    "start_time": "2023-04-25T13:16:54.605Z"
   },
   {
    "duration": 14,
    "start_time": "2023-04-25T13:16:54.615Z"
   },
   {
    "duration": 8,
    "start_time": "2023-04-25T13:16:54.631Z"
   },
   {
    "duration": 50,
    "start_time": "2023-04-25T13:16:54.642Z"
   },
   {
    "duration": 100,
    "start_time": "2023-04-25T13:16:54.694Z"
   },
   {
    "duration": 7,
    "start_time": "2023-04-25T13:16:54.796Z"
   },
   {
    "duration": 5,
    "start_time": "2023-04-25T13:16:54.804Z"
   },
   {
    "duration": 9,
    "start_time": "2023-04-25T13:16:54.811Z"
   },
   {
    "duration": 14,
    "start_time": "2023-04-25T13:16:54.822Z"
   },
   {
    "duration": 19,
    "start_time": "2023-04-25T13:16:54.837Z"
   },
   {
    "duration": 206,
    "start_time": "2023-04-25T13:16:54.858Z"
   },
   {
    "duration": 5,
    "start_time": "2023-04-25T13:16:55.066Z"
   },
   {
    "duration": 684,
    "start_time": "2023-04-25T13:16:55.073Z"
   },
   {
    "duration": 8,
    "start_time": "2023-04-25T13:16:55.759Z"
   },
   {
    "duration": 48,
    "start_time": "2023-04-25T13:16:55.769Z"
   },
   {
    "duration": 16,
    "start_time": "2023-04-25T13:16:55.819Z"
   },
   {
    "duration": 328,
    "start_time": "2023-04-25T13:16:55.837Z"
   },
   {
    "duration": 306,
    "start_time": "2023-04-25T13:16:56.167Z"
   },
   {
    "duration": 26,
    "start_time": "2023-04-25T13:16:56.475Z"
   },
   {
    "duration": 256,
    "start_time": "2023-04-25T13:16:56.503Z"
   },
   {
    "duration": 179,
    "start_time": "2023-04-25T13:16:56.761Z"
   },
   {
    "duration": 182,
    "start_time": "2023-04-25T13:16:56.942Z"
   },
   {
    "duration": 165,
    "start_time": "2023-04-25T13:16:57.126Z"
   },
   {
    "duration": 226,
    "start_time": "2023-04-25T13:16:57.292Z"
   },
   {
    "duration": 102,
    "start_time": "2023-04-25T13:16:57.519Z"
   },
   {
    "duration": 101,
    "start_time": "2023-04-25T13:16:57.623Z"
   },
   {
    "duration": 99,
    "start_time": "2023-04-25T13:16:57.726Z"
   },
   {
    "duration": 99,
    "start_time": "2023-04-25T13:16:57.828Z"
   },
   {
    "duration": 108,
    "start_time": "2023-04-25T13:16:57.929Z"
   },
   {
    "duration": 104,
    "start_time": "2023-04-25T13:16:58.040Z"
   },
   {
    "duration": 107,
    "start_time": "2023-04-25T13:16:58.148Z"
   },
   {
    "duration": 106,
    "start_time": "2023-04-25T13:16:58.257Z"
   },
   {
    "duration": 100,
    "start_time": "2023-04-25T13:16:58.365Z"
   },
   {
    "duration": 7,
    "start_time": "2023-04-25T13:16:58.467Z"
   },
   {
    "duration": 22,
    "start_time": "2023-04-25T13:16:58.475Z"
   },
   {
    "duration": 15,
    "start_time": "2023-04-25T13:16:58.499Z"
   },
   {
    "duration": 7,
    "start_time": "2023-04-25T13:16:58.516Z"
   },
   {
    "duration": 34,
    "start_time": "2023-04-25T13:17:23.035Z"
   }
  ],
  "kernelspec": {
   "display_name": "Python 3 (ipykernel)",
   "language": "python",
   "name": "python3"
  },
  "language_info": {
   "codemirror_mode": {
    "name": "ipython",
    "version": 3
   },
   "file_extension": ".py",
   "mimetype": "text/x-python",
   "name": "python",
   "nbconvert_exporter": "python",
   "pygments_lexer": "ipython3",
   "version": "3.9.13"
  },
  "toc": {
   "base_numbering": 1,
   "nav_menu": {},
   "number_sections": true,
   "sideBar": true,
   "skip_h1_title": true,
   "title_cell": "Table of Contents",
   "title_sidebar": "Contents",
   "toc_cell": false,
   "toc_position": {},
   "toc_section_display": true,
   "toc_window_display": false
  }
 },
 "nbformat": 4,
 "nbformat_minor": 4
}
