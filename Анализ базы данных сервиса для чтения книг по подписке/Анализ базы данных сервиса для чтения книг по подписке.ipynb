{
 "cells": [
  {
   "cell_type": "markdown",
   "metadata": {},
   "source": [
    "# Анализ базы данных сервиса для чтения книг по подписке."
   ]
  },
  {
   "cell_type": "markdown",
   "metadata": {},
   "source": [
    "По причине покупки крупного сервиса для чтения книг по подписке необходимо проанализировать его базу данных. \n",
    "\n",
    "База данных содержит информацию о книгах, издательствах, авторах, а также пользовательские обзоры книг. Эти данные помогут сформулировать ценностное предложение для нового продукта.\n",
    "\n",
    "Для решения поставленной задачи будут изучаться 5 таблиц со следующей структурой:\n",
    "\n",
    "1. **Таблица books**\n",
    "\n",
    "    Содержит данные о книгах:\n",
    "    - book_id — идентификатор книги;\n",
    "    - author_id — идентификатор автора;\n",
    "    - title — название книги;\n",
    "    - num_pages — количество страниц;\n",
    "    - publication_date — дата публикации книги;\n",
    "    - publisher_id — идентификатор издателя.\n",
    "    \n",
    "    \n",
    "2. **Таблица authors**\n",
    "\n",
    "    Содержит данные об авторах:\n",
    "    - author_id — идентификатор автора;\n",
    "    - author — имя автора.\n",
    "    \n",
    "    \n",
    "3. **Таблица publishers**\n",
    "\n",
    "    Содержит данные об издательствах:\n",
    "    - publisher_id — идентификатор издательства;\n",
    "    - publisher — название издательства.\n",
    "    \n",
    "    \n",
    "4. **Таблица ratings**\n",
    "\n",
    "    Содержит данные о пользовательских оценках книг:\n",
    "    - rating_id — идентификатор оценки;\n",
    "    - book_id — идентификатор книги;\n",
    "    - username — имя пользователя, оставившего оценку;\n",
    "    - rating — оценка книги.\n",
    "    \n",
    "    \n",
    "5. **Таблица reviews**\n",
    "\n",
    "    Содержит данные о пользовательских обзорах:\n",
    "    - review_id — идентификатор обзора;\n",
    "    - book_id — идентификатор книги;\n",
    "    - username — имя автора обзора;\n",
    "    - text — текст обзора."
   ]
  },
  {
   "cell_type": "markdown",
   "metadata": {},
   "source": [
    "## Подключаемся к базе данных."
   ]
  },
  {
   "cell_type": "code",
   "execution_count": 1,
   "metadata": {},
   "outputs": [],
   "source": [
    "# импортируем библиотеки\n",
    "import pandas as pd\n",
    "from sqlalchemy import text, create_engine"
   ]
  },
  {
   "cell_type": "code",
   "execution_count": 2,
   "metadata": {
    "scrolled": true
   },
   "outputs": [],
   "source": [
    "# устанавливаем параметры\n",
    "db_config = {'user': 'praktikum_student', # имя пользователя\n",
    "'pwd': '...', # пароль\n",
    "'host': '...',\n",
    "'port': ..., # порт подключения\n",
    "'db': '...'} # название базы данных\n",
    "connection_string = 'postgresql://{user}:{pwd}@{host}:{port}/{db}'.format(**db_config)\n",
    "\n",
    "# сохраняем коннектор\n",
    "engine = create_engine(connection_string, connect_args={'sslmode':'require'})"
   ]
  },
  {
   "cell_type": "markdown",
   "metadata": {},
   "source": [
    "## Просмотр таблиц"
   ]
  },
  {
   "cell_type": "markdown",
   "metadata": {},
   "source": [
    "На данном этапе выведем по 5 первых строк для каждой из таблиц, описание структуры данных содержится выше в введении."
   ]
  },
  {
   "cell_type": "code",
   "execution_count": 3,
   "metadata": {},
   "outputs": [
    {
     "data": {
      "text/html": [
       "<div>\n",
       "<style scoped>\n",
       "    .dataframe tbody tr th:only-of-type {\n",
       "        vertical-align: middle;\n",
       "    }\n",
       "\n",
       "    .dataframe tbody tr th {\n",
       "        vertical-align: top;\n",
       "    }\n",
       "\n",
       "    .dataframe thead th {\n",
       "        text-align: right;\n",
       "    }\n",
       "</style>\n",
       "<table border=\"1\" class=\"dataframe\">\n",
       "  <thead>\n",
       "    <tr style=\"text-align: right;\">\n",
       "      <th></th>\n",
       "      <th>book_id</th>\n",
       "      <th>author_id</th>\n",
       "      <th>title</th>\n",
       "      <th>num_pages</th>\n",
       "      <th>publication_date</th>\n",
       "      <th>publisher_id</th>\n",
       "    </tr>\n",
       "  </thead>\n",
       "  <tbody>\n",
       "    <tr>\n",
       "      <th>0</th>\n",
       "      <td>1</td>\n",
       "      <td>546</td>\n",
       "      <td>'Salem's Lot</td>\n",
       "      <td>594</td>\n",
       "      <td>2005-11-01</td>\n",
       "      <td>93</td>\n",
       "    </tr>\n",
       "    <tr>\n",
       "      <th>1</th>\n",
       "      <td>2</td>\n",
       "      <td>465</td>\n",
       "      <td>1 000 Places to See Before You Die</td>\n",
       "      <td>992</td>\n",
       "      <td>2003-05-22</td>\n",
       "      <td>336</td>\n",
       "    </tr>\n",
       "    <tr>\n",
       "      <th>2</th>\n",
       "      <td>3</td>\n",
       "      <td>407</td>\n",
       "      <td>13 Little Blue Envelopes (Little Blue Envelope...</td>\n",
       "      <td>322</td>\n",
       "      <td>2010-12-21</td>\n",
       "      <td>135</td>\n",
       "    </tr>\n",
       "    <tr>\n",
       "      <th>3</th>\n",
       "      <td>4</td>\n",
       "      <td>82</td>\n",
       "      <td>1491: New Revelations of the Americas Before C...</td>\n",
       "      <td>541</td>\n",
       "      <td>2006-10-10</td>\n",
       "      <td>309</td>\n",
       "    </tr>\n",
       "    <tr>\n",
       "      <th>4</th>\n",
       "      <td>5</td>\n",
       "      <td>125</td>\n",
       "      <td>1776</td>\n",
       "      <td>386</td>\n",
       "      <td>2006-07-04</td>\n",
       "      <td>268</td>\n",
       "    </tr>\n",
       "  </tbody>\n",
       "</table>\n",
       "</div>"
      ],
      "text/plain": [
       "   book_id  author_id                                              title  \\\n",
       "0        1        546                                       'Salem's Lot   \n",
       "1        2        465                 1 000 Places to See Before You Die   \n",
       "2        3        407  13 Little Blue Envelopes (Little Blue Envelope...   \n",
       "3        4         82  1491: New Revelations of the Americas Before C...   \n",
       "4        5        125                                               1776   \n",
       "\n",
       "   num_pages publication_date  publisher_id  \n",
       "0        594       2005-11-01            93  \n",
       "1        992       2003-05-22           336  \n",
       "2        322       2010-12-21           135  \n",
       "3        541       2006-10-10           309  \n",
       "4        386       2006-07-04           268  "
      ]
     },
     "execution_count": 3,
     "metadata": {},
     "output_type": "execute_result"
    }
   ],
   "source": [
    "query = '''SELECT * \n",
    "           FROM books \n",
    "           LIMIT 5'''\n",
    "con=engine.connect()\n",
    "pd.io.sql.read_sql(sql=text(query), con = con)"
   ]
  },
  {
   "cell_type": "markdown",
   "metadata": {},
   "source": [
    "База данных настроена, первый проверочный запрос обработан - выведено 5 первых строк из таблицы `books`. Выведем 5 первых строк из других табллиц."
   ]
  },
  {
   "cell_type": "code",
   "execution_count": 4,
   "metadata": {},
   "outputs": [
    {
     "data": {
      "text/html": [
       "<div>\n",
       "<style scoped>\n",
       "    .dataframe tbody tr th:only-of-type {\n",
       "        vertical-align: middle;\n",
       "    }\n",
       "\n",
       "    .dataframe tbody tr th {\n",
       "        vertical-align: top;\n",
       "    }\n",
       "\n",
       "    .dataframe thead th {\n",
       "        text-align: right;\n",
       "    }\n",
       "</style>\n",
       "<table border=\"1\" class=\"dataframe\">\n",
       "  <thead>\n",
       "    <tr style=\"text-align: right;\">\n",
       "      <th></th>\n",
       "      <th>author_id</th>\n",
       "      <th>author</th>\n",
       "    </tr>\n",
       "  </thead>\n",
       "  <tbody>\n",
       "    <tr>\n",
       "      <th>0</th>\n",
       "      <td>1</td>\n",
       "      <td>A.S. Byatt</td>\n",
       "    </tr>\n",
       "    <tr>\n",
       "      <th>1</th>\n",
       "      <td>2</td>\n",
       "      <td>Aesop/Laura Harris/Laura Gibbs</td>\n",
       "    </tr>\n",
       "    <tr>\n",
       "      <th>2</th>\n",
       "      <td>3</td>\n",
       "      <td>Agatha Christie</td>\n",
       "    </tr>\n",
       "    <tr>\n",
       "      <th>3</th>\n",
       "      <td>4</td>\n",
       "      <td>Alan Brennert</td>\n",
       "    </tr>\n",
       "    <tr>\n",
       "      <th>4</th>\n",
       "      <td>5</td>\n",
       "      <td>Alan Moore/David   Lloyd</td>\n",
       "    </tr>\n",
       "  </tbody>\n",
       "</table>\n",
       "</div>"
      ],
      "text/plain": [
       "   author_id                          author\n",
       "0          1                      A.S. Byatt\n",
       "1          2  Aesop/Laura Harris/Laura Gibbs\n",
       "2          3                 Agatha Christie\n",
       "3          4                   Alan Brennert\n",
       "4          5        Alan Moore/David   Lloyd"
      ]
     },
     "execution_count": 4,
     "metadata": {},
     "output_type": "execute_result"
    }
   ],
   "source": [
    "query = '''SELECT * \n",
    "           FROM authors \n",
    "           LIMIT 5'''\n",
    "pd.io.sql.read_sql(sql=text(query), con = con)"
   ]
  },
  {
   "cell_type": "code",
   "execution_count": 5,
   "metadata": {},
   "outputs": [
    {
     "data": {
      "text/html": [
       "<div>\n",
       "<style scoped>\n",
       "    .dataframe tbody tr th:only-of-type {\n",
       "        vertical-align: middle;\n",
       "    }\n",
       "\n",
       "    .dataframe tbody tr th {\n",
       "        vertical-align: top;\n",
       "    }\n",
       "\n",
       "    .dataframe thead th {\n",
       "        text-align: right;\n",
       "    }\n",
       "</style>\n",
       "<table border=\"1\" class=\"dataframe\">\n",
       "  <thead>\n",
       "    <tr style=\"text-align: right;\">\n",
       "      <th></th>\n",
       "      <th>publisher_id</th>\n",
       "      <th>publisher</th>\n",
       "    </tr>\n",
       "  </thead>\n",
       "  <tbody>\n",
       "    <tr>\n",
       "      <th>0</th>\n",
       "      <td>1</td>\n",
       "      <td>Ace</td>\n",
       "    </tr>\n",
       "    <tr>\n",
       "      <th>1</th>\n",
       "      <td>2</td>\n",
       "      <td>Ace Book</td>\n",
       "    </tr>\n",
       "    <tr>\n",
       "      <th>2</th>\n",
       "      <td>3</td>\n",
       "      <td>Ace Books</td>\n",
       "    </tr>\n",
       "    <tr>\n",
       "      <th>3</th>\n",
       "      <td>4</td>\n",
       "      <td>Ace Hardcover</td>\n",
       "    </tr>\n",
       "    <tr>\n",
       "      <th>4</th>\n",
       "      <td>5</td>\n",
       "      <td>Addison Wesley Publishing Company</td>\n",
       "    </tr>\n",
       "  </tbody>\n",
       "</table>\n",
       "</div>"
      ],
      "text/plain": [
       "   publisher_id                          publisher\n",
       "0             1                                Ace\n",
       "1             2                           Ace Book\n",
       "2             3                          Ace Books\n",
       "3             4                      Ace Hardcover\n",
       "4             5  Addison Wesley Publishing Company"
      ]
     },
     "execution_count": 5,
     "metadata": {},
     "output_type": "execute_result"
    }
   ],
   "source": [
    "query = '''SELECT * \n",
    "           FROM publishers \n",
    "           LIMIT 5'''\n",
    "pd.io.sql.read_sql(sql=text(query), con = con)"
   ]
  },
  {
   "cell_type": "code",
   "execution_count": 6,
   "metadata": {},
   "outputs": [
    {
     "data": {
      "text/html": [
       "<div>\n",
       "<style scoped>\n",
       "    .dataframe tbody tr th:only-of-type {\n",
       "        vertical-align: middle;\n",
       "    }\n",
       "\n",
       "    .dataframe tbody tr th {\n",
       "        vertical-align: top;\n",
       "    }\n",
       "\n",
       "    .dataframe thead th {\n",
       "        text-align: right;\n",
       "    }\n",
       "</style>\n",
       "<table border=\"1\" class=\"dataframe\">\n",
       "  <thead>\n",
       "    <tr style=\"text-align: right;\">\n",
       "      <th></th>\n",
       "      <th>rating_id</th>\n",
       "      <th>book_id</th>\n",
       "      <th>username</th>\n",
       "      <th>rating</th>\n",
       "    </tr>\n",
       "  </thead>\n",
       "  <tbody>\n",
       "    <tr>\n",
       "      <th>0</th>\n",
       "      <td>1</td>\n",
       "      <td>1</td>\n",
       "      <td>ryanfranco</td>\n",
       "      <td>4</td>\n",
       "    </tr>\n",
       "    <tr>\n",
       "      <th>1</th>\n",
       "      <td>2</td>\n",
       "      <td>1</td>\n",
       "      <td>grantpatricia</td>\n",
       "      <td>2</td>\n",
       "    </tr>\n",
       "    <tr>\n",
       "      <th>2</th>\n",
       "      <td>3</td>\n",
       "      <td>1</td>\n",
       "      <td>brandtandrea</td>\n",
       "      <td>5</td>\n",
       "    </tr>\n",
       "    <tr>\n",
       "      <th>3</th>\n",
       "      <td>4</td>\n",
       "      <td>2</td>\n",
       "      <td>lorichen</td>\n",
       "      <td>3</td>\n",
       "    </tr>\n",
       "    <tr>\n",
       "      <th>4</th>\n",
       "      <td>5</td>\n",
       "      <td>2</td>\n",
       "      <td>mariokeller</td>\n",
       "      <td>2</td>\n",
       "    </tr>\n",
       "  </tbody>\n",
       "</table>\n",
       "</div>"
      ],
      "text/plain": [
       "   rating_id  book_id       username  rating\n",
       "0          1        1     ryanfranco       4\n",
       "1          2        1  grantpatricia       2\n",
       "2          3        1   brandtandrea       5\n",
       "3          4        2       lorichen       3\n",
       "4          5        2    mariokeller       2"
      ]
     },
     "execution_count": 6,
     "metadata": {},
     "output_type": "execute_result"
    }
   ],
   "source": [
    "query = '''SELECT * \n",
    "           FROM ratings \n",
    "           LIMIT 5'''\n",
    "pd.io.sql.read_sql(sql=text(query), con = con)"
   ]
  },
  {
   "cell_type": "code",
   "execution_count": 7,
   "metadata": {},
   "outputs": [
    {
     "data": {
      "text/html": [
       "<div>\n",
       "<style scoped>\n",
       "    .dataframe tbody tr th:only-of-type {\n",
       "        vertical-align: middle;\n",
       "    }\n",
       "\n",
       "    .dataframe tbody tr th {\n",
       "        vertical-align: top;\n",
       "    }\n",
       "\n",
       "    .dataframe thead th {\n",
       "        text-align: right;\n",
       "    }\n",
       "</style>\n",
       "<table border=\"1\" class=\"dataframe\">\n",
       "  <thead>\n",
       "    <tr style=\"text-align: right;\">\n",
       "      <th></th>\n",
       "      <th>review_id</th>\n",
       "      <th>book_id</th>\n",
       "      <th>username</th>\n",
       "      <th>text</th>\n",
       "    </tr>\n",
       "  </thead>\n",
       "  <tbody>\n",
       "    <tr>\n",
       "      <th>0</th>\n",
       "      <td>1</td>\n",
       "      <td>1</td>\n",
       "      <td>brandtandrea</td>\n",
       "      <td>Mention society tell send professor analysis. ...</td>\n",
       "    </tr>\n",
       "    <tr>\n",
       "      <th>1</th>\n",
       "      <td>2</td>\n",
       "      <td>1</td>\n",
       "      <td>ryanfranco</td>\n",
       "      <td>Foot glass pretty audience hit themselves. Amo...</td>\n",
       "    </tr>\n",
       "    <tr>\n",
       "      <th>2</th>\n",
       "      <td>3</td>\n",
       "      <td>2</td>\n",
       "      <td>lorichen</td>\n",
       "      <td>Listen treat keep worry. Miss husband tax but ...</td>\n",
       "    </tr>\n",
       "    <tr>\n",
       "      <th>3</th>\n",
       "      <td>4</td>\n",
       "      <td>3</td>\n",
       "      <td>johnsonamanda</td>\n",
       "      <td>Finally month interesting blue could nature cu...</td>\n",
       "    </tr>\n",
       "    <tr>\n",
       "      <th>4</th>\n",
       "      <td>5</td>\n",
       "      <td>3</td>\n",
       "      <td>scotttamara</td>\n",
       "      <td>Nation purpose heavy give wait song will. List...</td>\n",
       "    </tr>\n",
       "  </tbody>\n",
       "</table>\n",
       "</div>"
      ],
      "text/plain": [
       "   review_id  book_id       username  \\\n",
       "0          1        1   brandtandrea   \n",
       "1          2        1     ryanfranco   \n",
       "2          3        2       lorichen   \n",
       "3          4        3  johnsonamanda   \n",
       "4          5        3    scotttamara   \n",
       "\n",
       "                                                text  \n",
       "0  Mention society tell send professor analysis. ...  \n",
       "1  Foot glass pretty audience hit themselves. Amo...  \n",
       "2  Listen treat keep worry. Miss husband tax but ...  \n",
       "3  Finally month interesting blue could nature cu...  \n",
       "4  Nation purpose heavy give wait song will. List...  "
      ]
     },
     "execution_count": 7,
     "metadata": {},
     "output_type": "execute_result"
    }
   ],
   "source": [
    "query = '''SELECT * \n",
    "           FROM reviews \n",
    "           LIMIT 5'''\n",
    "pd.io.sql.read_sql(sql=text(query), con = con)"
   ]
  },
  {
   "cell_type": "markdown",
   "metadata": {},
   "source": [
    "## Анализ данных"
   ]
  },
  {
   "cell_type": "markdown",
   "metadata": {},
   "source": [
    "**Посчитайте, сколько книг вышло после 1 января 2000 года.**"
   ]
  },
  {
   "cell_type": "code",
   "execution_count": 8,
   "metadata": {},
   "outputs": [
    {
     "data": {
      "text/html": [
       "<div>\n",
       "<style scoped>\n",
       "    .dataframe tbody tr th:only-of-type {\n",
       "        vertical-align: middle;\n",
       "    }\n",
       "\n",
       "    .dataframe tbody tr th {\n",
       "        vertical-align: top;\n",
       "    }\n",
       "\n",
       "    .dataframe thead th {\n",
       "        text-align: right;\n",
       "    }\n",
       "</style>\n",
       "<table border=\"1\" class=\"dataframe\">\n",
       "  <thead>\n",
       "    <tr style=\"text-align: right;\">\n",
       "      <th></th>\n",
       "      <th>count</th>\n",
       "    </tr>\n",
       "  </thead>\n",
       "  <tbody>\n",
       "    <tr>\n",
       "      <th>0</th>\n",
       "      <td>821</td>\n",
       "    </tr>\n",
       "  </tbody>\n",
       "</table>\n",
       "</div>"
      ],
      "text/plain": [
       "   count\n",
       "0    821"
      ]
     },
     "execution_count": 8,
     "metadata": {},
     "output_type": "execute_result"
    }
   ],
   "source": [
    "query = '''SELECT COUNT(book_id) \n",
    "           FROM books \n",
    "           WHERE publication_date >= '2000-01-01' '''\n",
    "pd.io.sql.read_sql(sql=text(query), con = con)"
   ]
  },
  {
   "cell_type": "code",
   "execution_count": 9,
   "metadata": {},
   "outputs": [
    {
     "data": {
      "text/html": [
       "<div>\n",
       "<style scoped>\n",
       "    .dataframe tbody tr th:only-of-type {\n",
       "        vertical-align: middle;\n",
       "    }\n",
       "\n",
       "    .dataframe tbody tr th {\n",
       "        vertical-align: top;\n",
       "    }\n",
       "\n",
       "    .dataframe thead th {\n",
       "        text-align: right;\n",
       "    }\n",
       "</style>\n",
       "<table border=\"1\" class=\"dataframe\">\n",
       "  <thead>\n",
       "    <tr style=\"text-align: right;\">\n",
       "      <th></th>\n",
       "      <th>count</th>\n",
       "    </tr>\n",
       "  </thead>\n",
       "  <tbody>\n",
       "    <tr>\n",
       "      <th>0</th>\n",
       "      <td>1000</td>\n",
       "    </tr>\n",
       "  </tbody>\n",
       "</table>\n",
       "</div>"
      ],
      "text/plain": [
       "   count\n",
       "0   1000"
      ]
     },
     "execution_count": 9,
     "metadata": {},
     "output_type": "execute_result"
    }
   ],
   "source": [
    "query = '''SELECT COUNT(book_id) \n",
    "           FROM books '''\n",
    "pd.io.sql.read_sql(sql=text(query), con = con)"
   ]
  },
  {
   "cell_type": "markdown",
   "metadata": {},
   "source": [
    "Итак, после 1 января 2000 года вышло 821 книги - больше 80% от всех книг, имеющихся в купленном сервисе для чтения книг (всего их 1000). "
   ]
  },
  {
   "cell_type": "markdown",
   "metadata": {},
   "source": [
    "**Для каждой книги посчитайте количество обзоров и среднюю оценку.**"
   ]
  },
  {
   "cell_type": "code",
   "execution_count": 10,
   "metadata": {},
   "outputs": [
    {
     "data": {
      "text/html": [
       "<div>\n",
       "<style scoped>\n",
       "    .dataframe tbody tr th:only-of-type {\n",
       "        vertical-align: middle;\n",
       "    }\n",
       "\n",
       "    .dataframe tbody tr th {\n",
       "        vertical-align: top;\n",
       "    }\n",
       "\n",
       "    .dataframe thead th {\n",
       "        text-align: right;\n",
       "    }\n",
       "</style>\n",
       "<table border=\"1\" class=\"dataframe\">\n",
       "  <thead>\n",
       "    <tr style=\"text-align: right;\">\n",
       "      <th></th>\n",
       "      <th>title</th>\n",
       "      <th>rating</th>\n",
       "      <th>review</th>\n",
       "    </tr>\n",
       "  </thead>\n",
       "  <tbody>\n",
       "    <tr>\n",
       "      <th>0</th>\n",
       "      <td>Anne Rice's The Vampire Lestat: A Graphic Novel</td>\n",
       "      <td>3.666667</td>\n",
       "      <td>0</td>\n",
       "    </tr>\n",
       "    <tr>\n",
       "      <th>1</th>\n",
       "      <td>The Cat in the Hat and Other Dr. Seuss Favorites</td>\n",
       "      <td>5.000000</td>\n",
       "      <td>0</td>\n",
       "    </tr>\n",
       "    <tr>\n",
       "      <th>2</th>\n",
       "      <td>Essential Tales and Poems</td>\n",
       "      <td>4.000000</td>\n",
       "      <td>0</td>\n",
       "    </tr>\n",
       "    <tr>\n",
       "      <th>3</th>\n",
       "      <td>The Natural Way to Draw</td>\n",
       "      <td>3.000000</td>\n",
       "      <td>0</td>\n",
       "    </tr>\n",
       "    <tr>\n",
       "      <th>4</th>\n",
       "      <td>Disney's Beauty and the Beast (A Little Golden...</td>\n",
       "      <td>4.000000</td>\n",
       "      <td>0</td>\n",
       "    </tr>\n",
       "    <tr>\n",
       "      <th>...</th>\n",
       "      <td>...</td>\n",
       "      <td>...</td>\n",
       "      <td>...</td>\n",
       "    </tr>\n",
       "    <tr>\n",
       "      <th>995</th>\n",
       "      <td>The Giver (The Giver  #1)</td>\n",
       "      <td>3.750000</td>\n",
       "      <td>6</td>\n",
       "    </tr>\n",
       "    <tr>\n",
       "      <th>996</th>\n",
       "      <td>The Road</td>\n",
       "      <td>3.772727</td>\n",
       "      <td>6</td>\n",
       "    </tr>\n",
       "    <tr>\n",
       "      <th>997</th>\n",
       "      <td>The Curious Incident of the Dog in the Night-Time</td>\n",
       "      <td>4.081081</td>\n",
       "      <td>6</td>\n",
       "    </tr>\n",
       "    <tr>\n",
       "      <th>998</th>\n",
       "      <td>The Da Vinci Code (Robert Langdon  #2)</td>\n",
       "      <td>3.830508</td>\n",
       "      <td>6</td>\n",
       "    </tr>\n",
       "    <tr>\n",
       "      <th>999</th>\n",
       "      <td>Twilight (Twilight  #1)</td>\n",
       "      <td>3.662500</td>\n",
       "      <td>7</td>\n",
       "    </tr>\n",
       "  </tbody>\n",
       "</table>\n",
       "<p>1000 rows × 3 columns</p>\n",
       "</div>"
      ],
      "text/plain": [
       "                                                 title    rating  review\n",
       "0      Anne Rice's The Vampire Lestat: A Graphic Novel  3.666667       0\n",
       "1     The Cat in the Hat and Other Dr. Seuss Favorites  5.000000       0\n",
       "2                            Essential Tales and Poems  4.000000       0\n",
       "3                              The Natural Way to Draw  3.000000       0\n",
       "4    Disney's Beauty and the Beast (A Little Golden...  4.000000       0\n",
       "..                                                 ...       ...     ...\n",
       "995                          The Giver (The Giver  #1)  3.750000       6\n",
       "996                                           The Road  3.772727       6\n",
       "997  The Curious Incident of the Dog in the Night-Time  4.081081       6\n",
       "998             The Da Vinci Code (Robert Langdon  #2)  3.830508       6\n",
       "999                            Twilight (Twilight  #1)  3.662500       7\n",
       "\n",
       "[1000 rows x 3 columns]"
      ]
     },
     "execution_count": 10,
     "metadata": {},
     "output_type": "execute_result"
    }
   ],
   "source": [
    "query = '''SELECT b.title,\n",
    "                  AVG(rating) AS rating,\n",
    "                  COUNT(DISTINCT (review_id)) AS review\n",
    "           FROM books AS b\n",
    "           FULL OUTER JOIN ratings AS ra ON b.book_id=ra.book_id\n",
    "           FULL OUTER JOIN reviews AS re ON b.book_id=re.book_id\n",
    "           GROUP BY b.book_id\n",
    "           ORDER BY review'''\n",
    "pd.io.sql.read_sql(sql=text(query), con = con)"
   ]
  },
  {
   "cell_type": "markdown",
   "metadata": {},
   "source": [
    "Итак, для того, чтобы ответить на поставленный вопрос, мы соединили 3 таблицы с необходимыми для нас данными и вывели следующие столбцы, сгруппировав все по book_id - название книги, средний рейтинг и количество отзывов. Самой популярной книгой оказалась первая часть Сумерек со средним рейтингом в 3.66."
   ]
  },
  {
   "cell_type": "markdown",
   "metadata": {},
   "source": [
    "**Определите издательство, которое выпустило наибольшее число книг толще 50 страниц — так вы исключите из анализа брошюры.**"
   ]
  },
  {
   "cell_type": "code",
   "execution_count": 11,
   "metadata": {},
   "outputs": [
    {
     "data": {
      "text/html": [
       "<div>\n",
       "<style scoped>\n",
       "    .dataframe tbody tr th:only-of-type {\n",
       "        vertical-align: middle;\n",
       "    }\n",
       "\n",
       "    .dataframe tbody tr th {\n",
       "        vertical-align: top;\n",
       "    }\n",
       "\n",
       "    .dataframe thead th {\n",
       "        text-align: right;\n",
       "    }\n",
       "</style>\n",
       "<table border=\"1\" class=\"dataframe\">\n",
       "  <thead>\n",
       "    <tr style=\"text-align: right;\">\n",
       "      <th></th>\n",
       "      <th>publisher</th>\n",
       "      <th>amount</th>\n",
       "    </tr>\n",
       "  </thead>\n",
       "  <tbody>\n",
       "    <tr>\n",
       "      <th>0</th>\n",
       "      <td>Penguin Books</td>\n",
       "      <td>42</td>\n",
       "    </tr>\n",
       "  </tbody>\n",
       "</table>\n",
       "</div>"
      ],
      "text/plain": [
       "       publisher  amount\n",
       "0  Penguin Books      42"
      ]
     },
     "execution_count": 11,
     "metadata": {},
     "output_type": "execute_result"
    }
   ],
   "source": [
    "query = '''SELECT publisher,\n",
    "                  COUNT(book_id) AS amount\n",
    "           FROM books AS b \n",
    "           LEFT JOIN publishers AS p ON b.publisher_id=p.publisher_id \n",
    "           WHERE num_pages > 50\n",
    "           GROUP BY publisher\n",
    "           ORDER BY amount DESC\n",
    "           LIMIT 1'''\n",
    "pd.io.sql.read_sql(sql=text(query), con = con)"
   ]
  },
  {
   "cell_type": "markdown",
   "metadata": {},
   "source": [
    "Итак, для того, чтобы найти самое крупное издательство, необходимо было объединить 2 таблицы, отсечь издательства, выпускающие брошюры, посчитать количество изданных книг и отсортировать по уменьшению. По полученным данным самым крупным издательством в наших данных является Pinguin Books - ими выпущено на момент анализа 42 книги."
   ]
  },
  {
   "cell_type": "markdown",
   "metadata": {},
   "source": [
    "**Определите автора с самой высокой средней оценкой книг — учитывайте только книги с 50 и более оценками.**"
   ]
  },
  {
   "cell_type": "code",
   "execution_count": 12,
   "metadata": {},
   "outputs": [
    {
     "data": {
      "text/html": [
       "<div>\n",
       "<style scoped>\n",
       "    .dataframe tbody tr th:only-of-type {\n",
       "        vertical-align: middle;\n",
       "    }\n",
       "\n",
       "    .dataframe tbody tr th {\n",
       "        vertical-align: top;\n",
       "    }\n",
       "\n",
       "    .dataframe thead th {\n",
       "        text-align: right;\n",
       "    }\n",
       "</style>\n",
       "<table border=\"1\" class=\"dataframe\">\n",
       "  <thead>\n",
       "    <tr style=\"text-align: right;\">\n",
       "      <th></th>\n",
       "      <th>author</th>\n",
       "      <th>avg_rating</th>\n",
       "    </tr>\n",
       "  </thead>\n",
       "  <tbody>\n",
       "    <tr>\n",
       "      <th>0</th>\n",
       "      <td>J.K. Rowling/Mary GrandPré</td>\n",
       "      <td>4.283844</td>\n",
       "    </tr>\n",
       "  </tbody>\n",
       "</table>\n",
       "</div>"
      ],
      "text/plain": [
       "                       author  avg_rating\n",
       "0  J.K. Rowling/Mary GrandPré    4.283844"
      ]
     },
     "execution_count": 12,
     "metadata": {},
     "output_type": "execute_result"
    }
   ],
   "source": [
    "query = '''WITH\n",
    "           r AS \n",
    "           (SELECT book_id,\n",
    "                  COUNT(rating_id) AS amount,\n",
    "                  AVG(rating) AS rating\n",
    "           FROM ratings \n",
    "           GROUP BY book_id)\n",
    "           \n",
    "           SELECT author,\n",
    "                  AVG(rating) AS avg_rating\n",
    "           FROM r\n",
    "           LEFT JOIN books AS b ON r.book_id=b.book_id\n",
    "           LEFT JOIN authors AS a ON b.author_id=a.author_id\n",
    "           WHERE amount > 50\n",
    "           GROUP BY author\n",
    "           ORDER BY avg_rating DESC\n",
    "           LIMIT 1\n",
    "           '''\n",
    "pd.io.sql.read_sql(sql=text(query), con = con)"
   ]
  },
  {
   "cell_type": "markdown",
   "metadata": {},
   "source": [
    "Для того, чтобы определеить автора с самой высокой средней оценкой книг мы сделали следующее - сначала посчитали средние оценки каждой книги и сколько оценок она вообще имеет, потом указанные данные соединили с таблицами по книгам и по авторам, повторно нашли для всех авторов среднюю оценку всех книг и отфильтровали автора с лучшим показателем - им, как весьма неудивительно, оказалась Джоан Роулинг со средним рейтингом книг в 4.2."
   ]
  },
  {
   "cell_type": "markdown",
   "metadata": {},
   "source": [
    "**Посчитайте среднее количество обзоров от пользователей, которые поставили больше 48 оценок.**"
   ]
  },
  {
   "cell_type": "code",
   "execution_count": 13,
   "metadata": {
    "scrolled": true
   },
   "outputs": [
    {
     "data": {
      "text/html": [
       "<div>\n",
       "<style scoped>\n",
       "    .dataframe tbody tr th:only-of-type {\n",
       "        vertical-align: middle;\n",
       "    }\n",
       "\n",
       "    .dataframe tbody tr th {\n",
       "        vertical-align: top;\n",
       "    }\n",
       "\n",
       "    .dataframe thead th {\n",
       "        text-align: right;\n",
       "    }\n",
       "</style>\n",
       "<table border=\"1\" class=\"dataframe\">\n",
       "  <thead>\n",
       "    <tr style=\"text-align: right;\">\n",
       "      <th></th>\n",
       "      <th>avg_amount_reviews</th>\n",
       "    </tr>\n",
       "  </thead>\n",
       "  <tbody>\n",
       "    <tr>\n",
       "      <th>0</th>\n",
       "      <td>24.0</td>\n",
       "    </tr>\n",
       "  </tbody>\n",
       "</table>\n",
       "</div>"
      ],
      "text/plain": [
       "   avg_amount_reviews\n",
       "0                24.0"
      ]
     },
     "execution_count": 13,
     "metadata": {},
     "output_type": "execute_result"
    }
   ],
   "source": [
    "query = '''WITH\n",
    "           users AS\n",
    "           (WITH\n",
    "           ra AS\n",
    "           (SELECT COUNT(rating_id) AS amount,\n",
    "                  username\n",
    "           FROM ratings \n",
    "           GROUP BY username)\n",
    "           \n",
    "           SELECT ra.username,\n",
    "                  COUNT(re.review_id) AS amount\n",
    "           FROM ra\n",
    "           LEFT JOIN reviews AS re ON ra.username=re.username\n",
    "           WHERE amount > 48\n",
    "           GROUP BY ra.username)\n",
    "           \n",
    "           SELECT AVG(amount) AS avg_amount_reviews\n",
    "           FROM users'''\n",
    "pd.io.sql.read_sql(sql=text(query), con = con)"
   ]
  },
  {
   "cell_type": "markdown",
   "metadata": {},
   "source": [
    "Для того, чтобы выяснить, какое среднее количество обзоров от пользователей, нужно сделать следующее: сначала найти, какое количество оценок поставил каждый юзер и выбрать тех, кто оставил больше 48. Далее считаем у этих пользователей количество обзоров. Завершающим этапом становится поиск среднего. Таким образом, пользователи, которые поставили больше 48 оценок, в среднем написали 24 обзора на книги."
   ]
  }
 ],
 "metadata": {
  "ExecuteTimeLog": [
   {
    "duration": 818,
    "start_time": "2023-06-12T16:16:56.918Z"
   },
   {
    "duration": 8832,
    "start_time": "2023-06-12T16:17:06.906Z"
   },
   {
    "duration": 7,
    "start_time": "2023-06-12T16:34:23.416Z"
   },
   {
    "duration": 13,
    "start_time": "2023-06-12T16:34:31.999Z"
   },
   {
    "duration": 11,
    "start_time": "2023-06-12T16:36:35.303Z"
   },
   {
    "duration": 46,
    "start_time": "2023-06-12T16:36:48.129Z"
   },
   {
    "duration": 23,
    "start_time": "2023-06-12T16:37:02.071Z"
   },
   {
    "duration": 15,
    "start_time": "2023-06-12T16:37:15.874Z"
   },
   {
    "duration": 130,
    "start_time": "2023-06-12T16:44:30.781Z"
   },
   {
    "duration": 4,
    "start_time": "2023-06-12T16:44:59.184Z"
   },
   {
    "duration": 115,
    "start_time": "2023-06-12T16:46:35.691Z"
   },
   {
    "duration": 22,
    "start_time": "2023-06-12T16:46:52.914Z"
   },
   {
    "duration": 43,
    "start_time": "2023-06-12T16:47:00.744Z"
   },
   {
    "duration": 13,
    "start_time": "2023-06-12T16:47:07.278Z"
   },
   {
    "duration": 16,
    "start_time": "2023-06-12T16:47:13.405Z"
   },
   {
    "duration": 38,
    "start_time": "2023-06-12T16:50:11.084Z"
   },
   {
    "duration": 47,
    "start_time": "2023-06-12T16:51:19.153Z"
   },
   {
    "duration": 54,
    "start_time": "2023-06-13T09:13:11.219Z"
   },
   {
    "duration": 523,
    "start_time": "2023-06-13T09:13:17.226Z"
   },
   {
    "duration": 7687,
    "start_time": "2023-06-13T09:13:17.751Z"
   },
   {
    "duration": 76,
    "start_time": "2023-06-13T09:13:25.440Z"
   },
   {
    "duration": 9,
    "start_time": "2023-06-13T09:13:25.518Z"
   },
   {
    "duration": 9,
    "start_time": "2023-06-13T09:13:25.529Z"
   },
   {
    "duration": 36,
    "start_time": "2023-06-13T09:13:25.539Z"
   },
   {
    "duration": 39,
    "start_time": "2023-06-13T09:13:25.577Z"
   },
   {
    "duration": 17,
    "start_time": "2023-06-13T09:13:25.618Z"
   },
   {
    "duration": 8,
    "start_time": "2023-06-13T09:13:25.637Z"
   },
   {
    "duration": 15,
    "start_time": "2023-06-13T09:19:31.308Z"
   },
   {
    "duration": 16,
    "start_time": "2023-06-13T09:20:05.613Z"
   },
   {
    "duration": 17,
    "start_time": "2023-06-13T09:20:30.685Z"
   },
   {
    "duration": 14,
    "start_time": "2023-06-13T09:21:18.799Z"
   },
   {
    "duration": 27,
    "start_time": "2023-06-13T09:24:04.978Z"
   },
   {
    "duration": 17,
    "start_time": "2023-06-13T09:27:20.925Z"
   },
   {
    "duration": 31,
    "start_time": "2023-06-13T09:27:35.105Z"
   },
   {
    "duration": 41,
    "start_time": "2023-06-13T09:27:56.357Z"
   },
   {
    "duration": 22,
    "start_time": "2023-06-13T09:28:22.981Z"
   },
   {
    "duration": 23,
    "start_time": "2023-06-13T09:28:41.020Z"
   },
   {
    "duration": 28,
    "start_time": "2023-06-13T09:29:21.879Z"
   },
   {
    "duration": 22,
    "start_time": "2023-06-13T09:29:51.712Z"
   },
   {
    "duration": 27,
    "start_time": "2023-06-13T09:30:24.645Z"
   },
   {
    "duration": 28,
    "start_time": "2023-06-13T09:30:31.314Z"
   },
   {
    "duration": 24,
    "start_time": "2023-06-13T09:30:41.890Z"
   },
   {
    "duration": 21,
    "start_time": "2023-06-13T09:31:05.629Z"
   },
   {
    "duration": 20,
    "start_time": "2023-06-13T09:38:53.236Z"
   },
   {
    "duration": 20,
    "start_time": "2023-06-13T09:41:23.124Z"
   },
   {
    "duration": 18,
    "start_time": "2023-06-13T09:42:11.735Z"
   },
   {
    "duration": 77,
    "start_time": "2023-06-13T09:43:05.470Z"
   },
   {
    "duration": 20,
    "start_time": "2023-06-13T09:43:19.148Z"
   },
   {
    "duration": 19,
    "start_time": "2023-06-13T09:43:22.401Z"
   },
   {
    "duration": 508,
    "start_time": "2023-06-13T09:43:37.371Z"
   },
   {
    "duration": 6909,
    "start_time": "2023-06-13T09:43:37.881Z"
   },
   {
    "duration": 55,
    "start_time": "2023-06-13T09:43:44.792Z"
   },
   {
    "duration": 9,
    "start_time": "2023-06-13T09:43:44.849Z"
   },
   {
    "duration": 25,
    "start_time": "2023-06-13T09:43:44.860Z"
   },
   {
    "duration": 20,
    "start_time": "2023-06-13T09:43:44.887Z"
   },
   {
    "duration": 25,
    "start_time": "2023-06-13T09:43:44.909Z"
   },
   {
    "duration": 56,
    "start_time": "2023-06-13T09:43:44.936Z"
   },
   {
    "duration": 44,
    "start_time": "2023-06-13T09:43:44.993Z"
   },
   {
    "duration": 44,
    "start_time": "2023-06-13T09:43:45.039Z"
   },
   {
    "duration": 80,
    "start_time": "2023-06-13T09:43:45.084Z"
   },
   {
    "duration": 24,
    "start_time": "2023-06-13T09:43:58.756Z"
   },
   {
    "duration": 22,
    "start_time": "2023-06-13T09:44:40.565Z"
   },
   {
    "duration": 21,
    "start_time": "2023-06-13T09:45:12.903Z"
   },
   {
    "duration": 22,
    "start_time": "2023-06-13T09:45:19.296Z"
   },
   {
    "duration": 24,
    "start_time": "2023-06-13T09:46:31.418Z"
   },
   {
    "duration": 22,
    "start_time": "2023-06-13T09:48:52.015Z"
   },
   {
    "duration": 24,
    "start_time": "2023-06-13T09:49:13.954Z"
   },
   {
    "duration": 24,
    "start_time": "2023-06-13T09:50:44.878Z"
   },
   {
    "duration": 16,
    "start_time": "2023-06-13T09:51:26.891Z"
   },
   {
    "duration": 23,
    "start_time": "2023-06-13T09:54:04.401Z"
   },
   {
    "duration": 20,
    "start_time": "2023-06-13T09:55:24.800Z"
   },
   {
    "duration": 20,
    "start_time": "2023-06-13T09:55:45.189Z"
   },
   {
    "duration": 20,
    "start_time": "2023-06-13T09:55:55.681Z"
   },
   {
    "duration": 26,
    "start_time": "2023-06-13T09:56:16.808Z"
   },
   {
    "duration": 27,
    "start_time": "2023-06-13T09:56:32.775Z"
   },
   {
    "duration": 28,
    "start_time": "2023-06-13T09:57:21.862Z"
   },
   {
    "duration": 32,
    "start_time": "2023-06-13T09:59:33.546Z"
   },
   {
    "duration": 31,
    "start_time": "2023-06-13T09:59:45.578Z"
   },
   {
    "duration": 22,
    "start_time": "2023-06-13T10:00:33.207Z"
   },
   {
    "duration": 28,
    "start_time": "2023-06-13T10:00:49.930Z"
   },
   {
    "duration": 23,
    "start_time": "2023-06-13T10:01:00.917Z"
   },
   {
    "duration": 21,
    "start_time": "2023-06-13T10:01:20.109Z"
   },
   {
    "duration": 25,
    "start_time": "2023-06-13T10:01:25.663Z"
   },
   {
    "duration": 23,
    "start_time": "2023-06-13T10:01:32.046Z"
   },
   {
    "duration": 25,
    "start_time": "2023-06-13T10:01:58.263Z"
   },
   {
    "duration": 20,
    "start_time": "2023-06-13T10:02:09.639Z"
   },
   {
    "duration": 22,
    "start_time": "2023-06-13T10:03:01.278Z"
   },
   {
    "duration": 12,
    "start_time": "2023-06-13T10:04:12.055Z"
   },
   {
    "duration": 12,
    "start_time": "2023-06-13T10:09:00.939Z"
   },
   {
    "duration": 10,
    "start_time": "2023-06-13T10:09:09.563Z"
   },
   {
    "duration": 22,
    "start_time": "2023-06-13T10:10:25.477Z"
   },
   {
    "duration": 23,
    "start_time": "2023-06-13T10:10:51.055Z"
   },
   {
    "duration": 15,
    "start_time": "2023-06-13T10:11:49.727Z"
   },
   {
    "duration": 20,
    "start_time": "2023-06-13T10:12:09.185Z"
   },
   {
    "duration": 20,
    "start_time": "2023-06-13T10:12:14.616Z"
   },
   {
    "duration": 15,
    "start_time": "2023-06-13T10:12:20.962Z"
   },
   {
    "duration": 12,
    "start_time": "2023-06-13T10:12:27.147Z"
   },
   {
    "duration": 12,
    "start_time": "2023-06-13T10:15:47.415Z"
   },
   {
    "duration": 17,
    "start_time": "2023-06-13T10:25:00.180Z"
   },
   {
    "duration": 20,
    "start_time": "2023-06-13T10:25:15.575Z"
   },
   {
    "duration": 20,
    "start_time": "2023-06-13T10:25:59.149Z"
   },
   {
    "duration": 17,
    "start_time": "2023-06-13T10:26:04.830Z"
   },
   {
    "duration": 20,
    "start_time": "2023-06-13T10:27:01.517Z"
   },
   {
    "duration": 21,
    "start_time": "2023-06-13T10:27:29.684Z"
   },
   {
    "duration": 46,
    "start_time": "2023-06-13T11:50:57.223Z"
   },
   {
    "duration": 490,
    "start_time": "2023-06-13T11:51:03.676Z"
   },
   {
    "duration": 18705,
    "start_time": "2023-06-13T11:51:04.168Z"
   },
   {
    "duration": 244,
    "start_time": "2023-06-13T11:51:22.874Z"
   },
   {
    "duration": 29,
    "start_time": "2023-06-13T11:51:23.121Z"
   },
   {
    "duration": 29,
    "start_time": "2023-06-13T11:51:23.152Z"
   },
   {
    "duration": 29,
    "start_time": "2023-06-13T11:51:23.182Z"
   },
   {
    "duration": 30,
    "start_time": "2023-06-13T11:51:23.213Z"
   },
   {
    "duration": 28,
    "start_time": "2023-06-13T11:51:23.244Z"
   },
   {
    "duration": 28,
    "start_time": "2023-06-13T11:51:23.273Z"
   },
   {
    "duration": 69,
    "start_time": "2023-06-13T11:51:23.303Z"
   },
   {
    "duration": 30,
    "start_time": "2023-06-13T11:51:23.373Z"
   },
   {
    "duration": 32,
    "start_time": "2023-06-13T11:51:23.404Z"
   },
   {
    "duration": 31,
    "start_time": "2023-06-13T11:52:16.388Z"
   },
   {
    "duration": 109,
    "start_time": "2023-06-13T11:52:58.982Z"
   },
   {
    "duration": 46,
    "start_time": "2023-06-13T11:53:05.199Z"
   },
   {
    "duration": 39,
    "start_time": "2023-06-13T11:54:10.100Z"
   },
   {
    "duration": 48,
    "start_time": "2023-06-13T11:55:18.891Z"
   },
   {
    "duration": 58,
    "start_time": "2023-06-13T11:55:32.343Z"
   },
   {
    "duration": 60,
    "start_time": "2023-06-13T11:55:41.488Z"
   },
   {
    "duration": 57,
    "start_time": "2023-06-13T11:55:58.222Z"
   },
   {
    "duration": 45,
    "start_time": "2023-06-13T11:56:13.677Z"
   },
   {
    "duration": 48,
    "start_time": "2023-06-13T11:56:31.957Z"
   },
   {
    "duration": 57,
    "start_time": "2023-06-13T11:56:52.479Z"
   },
   {
    "duration": 43,
    "start_time": "2023-06-13T11:57:10.390Z"
   },
   {
    "duration": 33,
    "start_time": "2023-06-13T11:57:38.993Z"
   },
   {
    "duration": 47,
    "start_time": "2023-06-13T11:57:46.477Z"
   },
   {
    "duration": 45,
    "start_time": "2023-06-13T11:57:50.269Z"
   },
   {
    "duration": 33,
    "start_time": "2023-06-13T11:57:58.093Z"
   },
   {
    "duration": 29,
    "start_time": "2023-06-13T12:02:50.032Z"
   },
   {
    "duration": 32,
    "start_time": "2023-06-13T12:03:58.416Z"
   },
   {
    "duration": 32,
    "start_time": "2023-06-13T12:04:12.888Z"
   },
   {
    "duration": 51,
    "start_time": "2023-06-13T12:04:29.221Z"
   },
   {
    "duration": 43,
    "start_time": "2023-06-13T12:04:33.704Z"
   },
   {
    "duration": 32,
    "start_time": "2023-06-13T12:06:45.494Z"
   },
   {
    "duration": 30,
    "start_time": "2023-06-13T12:07:20.114Z"
   },
   {
    "duration": 58,
    "start_time": "2023-06-13T12:07:56.853Z"
   },
   {
    "duration": 56,
    "start_time": "2023-06-13T12:08:53.722Z"
   },
   {
    "duration": 51,
    "start_time": "2023-06-13T12:10:41.099Z"
   },
   {
    "duration": 60,
    "start_time": "2023-06-13T12:10:54.703Z"
   },
   {
    "duration": 94,
    "start_time": "2023-06-13T12:11:08.399Z"
   },
   {
    "duration": 36,
    "start_time": "2023-06-13T12:11:14.900Z"
   },
   {
    "duration": 82,
    "start_time": "2023-06-13T12:11:58.201Z"
   },
   {
    "duration": 33,
    "start_time": "2023-06-13T12:12:32.794Z"
   },
   {
    "duration": 94,
    "start_time": "2023-06-13T12:13:54.182Z"
   },
   {
    "duration": 56,
    "start_time": "2023-06-13T12:14:20.887Z"
   },
   {
    "duration": 33,
    "start_time": "2023-06-13T12:15:03.487Z"
   },
   {
    "duration": 49,
    "start_time": "2023-06-13T12:15:23.884Z"
   },
   {
    "duration": 43,
    "start_time": "2023-06-13T12:15:35.905Z"
   },
   {
    "duration": 33,
    "start_time": "2023-06-13T12:16:42.414Z"
   },
   {
    "duration": 31,
    "start_time": "2023-06-13T12:16:55.721Z"
   },
   {
    "duration": 48,
    "start_time": "2023-06-13T12:17:46.703Z"
   },
   {
    "duration": 60,
    "start_time": "2023-06-13T12:18:10.090Z"
   },
   {
    "duration": 43,
    "start_time": "2023-06-13T12:18:16.718Z"
   },
   {
    "duration": 32,
    "start_time": "2023-06-13T12:19:16.693Z"
   },
   {
    "duration": 31,
    "start_time": "2023-06-13T12:19:37.498Z"
   },
   {
    "duration": 31,
    "start_time": "2023-06-13T12:20:00.619Z"
   },
   {
    "duration": 550,
    "start_time": "2023-06-13T15:44:53.460Z"
   },
   {
    "duration": 13750,
    "start_time": "2023-06-13T15:44:54.013Z"
   },
   {
    "duration": 54,
    "start_time": "2023-06-13T15:45:07.764Z"
   },
   {
    "duration": 13,
    "start_time": "2023-06-13T15:45:07.820Z"
   },
   {
    "duration": 25,
    "start_time": "2023-06-13T15:45:07.835Z"
   },
   {
    "duration": 38,
    "start_time": "2023-06-13T15:45:07.862Z"
   },
   {
    "duration": 33,
    "start_time": "2023-06-13T15:45:07.901Z"
   },
   {
    "duration": 45,
    "start_time": "2023-06-13T15:45:07.936Z"
   },
   {
    "duration": 8,
    "start_time": "2023-06-13T15:45:07.982Z"
   },
   {
    "duration": 32,
    "start_time": "2023-06-13T15:45:07.992Z"
   },
   {
    "duration": 10,
    "start_time": "2023-06-13T15:45:08.026Z"
   },
   {
    "duration": 21,
    "start_time": "2023-06-13T15:45:08.037Z"
   },
   {
    "duration": 20,
    "start_time": "2023-06-13T15:45:08.060Z"
   }
  ],
  "kernelspec": {
   "display_name": "Python 3 (ipykernel)",
   "language": "python",
   "name": "python3"
  },
  "language_info": {
   "codemirror_mode": {
    "name": "ipython",
    "version": 3
   },
   "file_extension": ".py",
   "mimetype": "text/x-python",
   "name": "python",
   "nbconvert_exporter": "python",
   "pygments_lexer": "ipython3",
   "version": "3.9.13"
  },
  "toc": {
   "base_numbering": 1,
   "nav_menu": {},
   "number_sections": true,
   "sideBar": true,
   "skip_h1_title": true,
   "title_cell": "Table of Contents",
   "title_sidebar": "Contents",
   "toc_cell": false,
   "toc_position": {},
   "toc_section_display": true,
   "toc_window_display": true
  }
 },
 "nbformat": 4,
 "nbformat_minor": 4
}
